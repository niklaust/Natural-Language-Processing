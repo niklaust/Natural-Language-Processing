{
  "nbformat": 4,
  "nbformat_minor": 0,
  "metadata": {
    "colab": {
      "provenance": [],
      "authorship_tag": "ABX9TyOSKWOjU/EXiVHYbrFleSsP",
      "include_colab_link": true
    },
    "kernelspec": {
      "name": "python3",
      "display_name": "Python 3"
    },
    "language_info": {
      "name": "python"
    }
  },
  "cells": [
    {
      "cell_type": "markdown",
      "metadata": {
        "id": "view-in-github",
        "colab_type": "text"
      },
      "source": [
        "<a href=\"https://colab.research.google.com/github/niklaust/Natural_Language_Processing/blob/main/NLP_notebook_of_niklaust.ipynb\" target=\"_parent\"><img src=\"https://colab.research.google.com/assets/colab-badge.svg\" alt=\"Open In Colab\"/></a>"
      ]
    },
    {
      "cell_type": "markdown",
      "source": [
        "# **Reference**\n",
        "\n",
        "Steven Bird, Ewan Klein, Edward Loper.(2009). *Natural Language Processing with Python*. O'Reilly"
      ],
      "metadata": {
        "id": "i7DHFSJXeoOu"
      }
    },
    {
      "cell_type": "markdown",
      "source": [
        "<h1><center><b>Natural Language Processing with Python</b></center></h1>"
      ],
      "metadata": {
        "id": "A16Lk44mfvYH"
      }
    },
    {
      "cell_type": "markdown",
      "source": [
        "github:niklaust"
      ],
      "metadata": {
        "id": "kEaTieyWfrgu"
      }
    },
    {
      "cell_type": "markdown",
      "source": [
        "start 20221202\n",
        "\n",
        "ongoing......."
      ],
      "metadata": {
        "id": "j7lup2rkhKve"
      }
    },
    {
      "cell_type": "markdown",
      "source": [
        "**Natural language** : language that is used for everyday communication by humans. English, Chinese, Spanish and so on.\n",
        "\n",
        "**Artificial languages** : programming languages and mathematicl notations\n",
        "\n",
        "**NLP** :  A wide sense to cove any kind of computer manipulation of natural language.\n",
        "* Counting word frequencies \n",
        "* compare different writing styles.\n",
        "* \"Understanding\" complete human utterances, at least to extent of being able to give useful responses to them. \n",
        "\n",
        "**Technologies based on NLP** \n",
        "* Phones and handheld computers support predictive text and handwriting recognition\n",
        "* Web search engines gvie access to information locked up in unstructured text\n",
        "* Machine translation allows us to retrieve texts written in Chinese and read them in Spanish."
      ],
      "metadata": {
        "id": "va3EcGlgNhNM"
      }
    },
    {
      "cell_type": "markdown",
      "source": [
        "**What you will learn:**\n",
        "* How simple programs can help you **manipulate and analyze language data**, and how to write these programs\n",
        "* How key concepts from **NLP** and **linguistics** are used to **describe and analyze language**\n",
        "* How **data structures** and **algorithms** are **used in NLP**\n",
        "* How language data is stored in standard formats, and how data can be used to evaluate the performance of NLPtechniques."
      ],
      "metadata": {
        "id": "bm_GhZJeTsfH"
      }
    },
    {
      "cell_type": "markdown",
      "source": [
        "NLTK: defines an infrastructure that can be used to build NLP programs in Python.\n",
        "\n",
        "[NLTK Documentation](http://www.nltk.org/)"
      ],
      "metadata": {
        "id": "-AFb6vCUYpmM"
      }
    },
    {
      "cell_type": "code",
      "source": [
        "import nltk\n",
        "\n",
        "print(f\"nltk version: {nltk.__version__}\")"
      ],
      "metadata": {
        "colab": {
          "base_uri": "https://localhost:8080/"
        },
        "id": "cA12nWURXyN1",
        "outputId": "fd9a252e-a355-4a95-dc95-a6c71df3beb9"
      },
      "execution_count": 36,
      "outputs": [
        {
          "output_type": "stream",
          "name": "stdout",
          "text": [
            "nltk version: 3.7\n"
          ]
        }
      ]
    },
    {
      "cell_type": "markdown",
      "source": [
        "<table>\n",
        "  <tr>\n",
        "    <th colspan=\"3\"><h2>Languaege processing tasks and corresponding NLTK modules with examples of functionality</h2></th>\n",
        "  </tr>\n",
        "  <tr>\n",
        "    <th>Language processing task</th>\n",
        "    <th>NLTK modules</th>\n",
        "    <th>Functionality</th>\n",
        "  </tr>\n",
        "  <tr>\n",
        "    <td>Accessing corpora</td>\n",
        "    <td>nltk.corpus</td>\n",
        "    <td>Standardized interfaces to corpora and lexicons</td>\n",
        "  </tr>\n",
        "  <tr>\n",
        "    <td>String processing</td>\n",
        "    <td>nltk.tokenize, nltk.stem</td>\n",
        "    <td>Tokenizers, sentence tokenizer, stemmers</td>\n",
        "  </tr>\n",
        "  <tr>\n",
        "    <td>Collection discovery</td>\n",
        "    <td>nltk.collocations</td>\n",
        "    <td>t-test, chi-squared, point-wise mutual information</td>\n",
        "  </tr>\n",
        "  <tr>\n",
        "    <td>Part-of-speech tagging</td>\n",
        "    <td>nltk.tag</td>\n",
        "    <td>n-gram, backoff, Brill, HMM, Tnt</td>\n",
        "  </tr>\n",
        "  <tr>\n",
        "    <td>Classification</td>\n",
        "    <td>nltk.classify, nltk.cluster</td>\n",
        "    <td>Decision tree, maximum entropy, naive Bayes, EM, k-means</td>\n",
        "  </tr>\n",
        "  <tr>\n",
        "    <td>Chunking</td>\n",
        "    <td>nltk.chunk</td>\n",
        "    <td>Regular expression, n-gram, named entity</td>\n",
        "  </tr>\n",
        "  <tr>\n",
        "    <td>Parsing</td>\n",
        "    <td>nltk.parse</td>\n",
        "    <td>Chart, feature-based, unification, probabilistic, dependency</td>\n",
        "  </tr>\n",
        "  <tr>\n",
        "    <td>Sematic interpretation</td>\n",
        "    <td>nltk.sem, nltk.inference</td>\n",
        "    <td>Lambda calculas, first-order logic, model checking</td>\n",
        "  </tr>\n",
        "  <tr>\n",
        "    <td>Evaluation metrics</td>\n",
        "    <td>nltk.metrics</td>\n",
        "    <td>Percision, recall, agreement coefficients</td>\n",
        "  </tr>\n",
        "  <tr>\n",
        "    <td>Probability and estimation</td>\n",
        "    <td>nltk.probability</td>\n",
        "    <td>Frequency distributions, smoothed probability distributions</td>\n",
        "  </tr>\n",
        "  <tr>\n",
        "    <td>Applications</td>\n",
        "    <td>nltk.app, nltk.chat</td>\n",
        "    <td>Graphical concordancer, parsers, WordNet browser, chatbots</td>\n",
        "  </tr>\n",
        "  <tr>\n",
        "    <td>Linguistic fieldwork</td>\n",
        "    <td>nltk.toolbox</td>\n",
        "    <td>Manipulate data in SIL Toolbox format</td>\n",
        "  </tr>\n",
        "</table>"
      ],
      "metadata": {
        "id": "lxQd-e5nZ9pd"
      }
    },
    {
      "cell_type": "markdown",
      "source": [
        "# <center><b>Chapter 1: Language Processing and Python</b></center>"
      ],
      "metadata": {
        "id": "mnHiwRRElR3m"
      }
    },
    {
      "cell_type": "markdown",
      "source": [
        "## **1.1 Computing with Language: Texts and Words**"
      ],
      "metadata": {
        "id": "Wfpf3RU0lxYF"
      }
    },
    {
      "cell_type": "markdown",
      "source": [
        "\n",
        "\n",
        "Treat **text as raw data** for the programs we write, programs that that manipulate and analyze it in a variety of  interesting ways."
      ],
      "metadata": {
        "id": "gCKFxUzflamB"
      }
    },
    {
      "cell_type": "code",
      "source": [
        "import nltk\n",
        "nltk.download()"
      ],
      "metadata": {
        "colab": {
          "base_uri": "https://localhost:8080/"
        },
        "id": "EamywD3zmUdK",
        "outputId": "6b033c8b-55bc-4f6e-9c2b-22bd6ce37c7d"
      },
      "execution_count": null,
      "outputs": [
        {
          "name": "stdout",
          "output_type": "stream",
          "text": [
            "NLTK Downloader\n",
            "---------------------------------------------------------------------------\n",
            "    d) Download   l) List    u) Update   c) Config   h) Help   q) Quit\n",
            "---------------------------------------------------------------------------\n",
            "Downloader> q\n"
          ]
        },
        {
          "output_type": "execute_result",
          "data": {
            "text/plain": [
              "True"
            ]
          },
          "metadata": {},
          "execution_count": 2
        }
      ]
    },
    {
      "cell_type": "markdown",
      "source": [
        "\n",
        "`concordance` : to see words in context.\n",
        "\n",
        "`similar` : to find other words appear in a similar range of contexts\n",
        "\n",
        "`common_contexts` : to examine the contexts that are shared by two or more words.\n",
        "\n",
        "`dispersion_plot` :  to determine the location of a word in the text: how many words from the beginning (corpus) it appears (by each stripe). \n",
        "\n",
        "`generate` : to generate some random text by gathers statistics about word sequences.\n",
        "\n",
        "``\n",
        "\n",
        "``\n",
        "``"
      ],
      "metadata": {
        "id": "qrA3GXPJ2fEn"
      }
    },
    {
      "cell_type": "markdown",
      "source": [
        "<table>\n",
        "  <tr>\n",
        "    <th colspan=\"2\"><h1>Introductory Examples for the NLTK Book</h1></th>\n",
        "  </tr>\n",
        "  <tr>\n",
        "    <td>text1:</td>\n",
        "    <td>Moby Dick by Herman Melville 1851</td>\n",
        "  </tr>\n",
        "  <tr>\n",
        "    <td>text2:</td>\n",
        "    <td>Sense and Sensibility by Jane Austen 1811</td>\n",
        "  </tr>\n",
        "   <tr>\n",
        "    <td>text3:</td>\n",
        "    <td>The Book of Genesis</td>\n",
        "  </tr>\n",
        "  <tr>\n",
        "    <td>text4:</td>\n",
        "    <td>Inaugural Address Corpus</td>\n",
        "  </tr>\n",
        "   <tr>\n",
        "    <td>text5:</td>\n",
        "    <td>Chat Corpus</td>\n",
        "  </tr>\n",
        "  <tr>\n",
        "    <td>text6:</td>\n",
        "    <td>Monty Python and the Holy Grail</td>\n",
        "  </tr>\n",
        "  <tr>\n",
        "    <td>text7:</td>\n",
        "    <td>Wall Street Journal</td>\n",
        "  </tr>\n",
        "  <tr>\n",
        "    <td>text8:</td>\n",
        "    <td>Personals Corpus</td>\n",
        "  </tr>\n",
        "   <tr>\n",
        "    <td>text9:</td>\n",
        "    <td>The Man Who Was Thursday by G . K . Chesterton 1908</td>\n",
        "  </tr>\n",
        "</table>"
      ],
      "metadata": {
        "id": "h0wjju9FuIuJ"
      }
    },
    {
      "cell_type": "code",
      "source": [
        "import nltk\n",
        "nltk.download(\"all-corpora\")"
      ],
      "metadata": {
        "id": "_fJuVAiPSbL3"
      },
      "execution_count": null,
      "outputs": []
    },
    {
      "cell_type": "code",
      "source": [
        "from nltk.book import *"
      ],
      "metadata": {
        "colab": {
          "base_uri": "https://localhost:8080/"
        },
        "id": "tUVf3GhGTS0P",
        "outputId": "3018d968-9e3c-43a2-ae14-5ab1a1ec0a28"
      },
      "execution_count": null,
      "outputs": [
        {
          "output_type": "stream",
          "name": "stdout",
          "text": [
            "*** Introductory Examples for the NLTK Book ***\n",
            "Loading text1, ..., text9 and sent1, ..., sent9\n",
            "Type the name of the text or sentence to view it.\n",
            "Type: 'texts()' or 'sents()' to list the materials.\n",
            "text1: Moby Dick by Herman Melville 1851\n",
            "text2: Sense and Sensibility by Jane Austen 1811\n",
            "text3: The Book of Genesis\n",
            "text4: Inaugural Address Corpus\n",
            "text5: Chat Corpus\n",
            "text6: Monty Python and the Holy Grail\n",
            "text7: Wall Street Journal\n",
            "text8: Personals Corpus\n",
            "text9: The Man Who Was Thursday by G . K . Chesterton 1908\n"
          ]
        }
      ]
    },
    {
      "cell_type": "code",
      "source": [
        "text1.concordance('monstrous')"
      ],
      "metadata": {
        "colab": {
          "base_uri": "https://localhost:8080/"
        },
        "id": "aAPY2snRuwL_",
        "outputId": "09895c79-cb4b-4940-e06f-1a27828588d3"
      },
      "execution_count": null,
      "outputs": [
        {
          "output_type": "stream",
          "name": "stdout",
          "text": [
            "Displaying 11 of 11 matches:\n",
            "ong the former , one was of a most monstrous size . ... This came towards us , \n",
            "ON OF THE PSALMS . \" Touching that monstrous bulk of the whale or ork we have r\n",
            "ll over with a heathenish array of monstrous clubs and spears . Some were thick\n",
            "d as you gazed , and wondered what monstrous cannibal and savage could ever hav\n",
            "that has survived the flood ; most monstrous and most mountainous ! That Himmal\n",
            "they might scout at Moby Dick as a monstrous fable , or still worse and more de\n",
            "th of Radney .'\" CHAPTER 55 Of the Monstrous Pictures of Whales . I shall ere l\n",
            "ing Scenes . In connexion with the monstrous pictures of whales , I am strongly\n",
            "ere to enter upon those still more monstrous stories of them which are to be fo\n",
            "ght have been rummaged out of this monstrous cabinet there is no telling . But \n",
            "of Whale - Bones ; for Whales of a monstrous size are oftentimes cast up dead u\n"
          ]
        }
      ]
    },
    {
      "cell_type": "code",
      "source": [
        "text1.concordance('inordinate')"
      ],
      "metadata": {
        "colab": {
          "base_uri": "https://localhost:8080/"
        },
        "id": "s-EYM3flwTmP",
        "outputId": "dc156b60-e8e5-49fa-eaf4-ae56182c25d4"
      },
      "execution_count": null,
      "outputs": [
        {
          "output_type": "stream",
          "name": "stdout",
          "text": [
            "Displaying 3 of 3 matches:\n",
            "they said ; but somehow he got an inordinate quantity of cruel , unmitigated h\n",
            "oprietor merely on account of the inordinate possessions yet owned and rented \n",
            " - telling sail of any sort ; the inordinate length of each separate voyage ; \n"
          ]
        }
      ]
    },
    {
      "cell_type": "code",
      "source": [
        "text3.concordance('adam')"
      ],
      "metadata": {
        "colab": {
          "base_uri": "https://localhost:8080/"
        },
        "id": "M4tvlD70x_0o",
        "outputId": "d22663e5-32bb-4707-8806-2cb7b0d67f15"
      },
      "execution_count": null,
      "outputs": [
        {
          "output_type": "stream",
          "name": "stdout",
          "text": [
            "Displaying 18 of 18 matches:\n",
            "l of the air ; and brought them unto Adam to see what he would call th and wha\n",
            "what he would call th and whatsoever Adam called every living creature , that \n",
            "re , that was the name thereof . And Adam gave names to all cattle , and to th\n",
            "o every beast of the field ; but for Adam there was not found an help meet for\n",
            "God caused a deep sleep to fall upon Adam , and he sle and he took one of his \n",
            ", and brought her unto the man . And Adam said , This is now bone of my bones \n",
            " the garden in the cool of the d and Adam and his wife hid themselves from the\n",
            "arden . And the LORD God called unto Adam , and said unto him , Where art thou\n",
            "d he shall rule over thee . And unto Adam he said , Because thou hast hearkene\n",
            "nd unto dust shalt thou return . And Adam called his wife ' s name Eve ; becau\n",
            " was the mother of all living . Unto Adam also and to his wife did the LORD Go\n",
            "ep the way of the tree of life . And Adam knew Eve his wife ; and she conceive\n",
            "y Lamech seventy and sevenfold . And Adam knew his wife again ; and she bare a\n",
            "is is the book of the generations of Adam . In the day that God created man , \n",
            "blessed them , and called their name Adam , in the day when they were created \n",
            "the day when they were created . And Adam lived an hundred and thirty years , \n",
            "d called his name Se And the days of Adam after he had begotten Seth were eigh\n",
            "nd daughters : And all the days that Adam lived were nine hundred and thirty y\n"
          ]
        }
      ]
    },
    {
      "cell_type": "code",
      "source": [
        "text4.concordance('reign')"
      ],
      "metadata": {
        "colab": {
          "base_uri": "https://localhost:8080/"
        },
        "id": "05204vIhxgiv",
        "outputId": "9ccae97d-422f-40df-b842-319f5d01cc40"
      },
      "execution_count": null,
      "outputs": [
        {
          "output_type": "stream",
          "name": "stdout",
          "text": [
            "Displaying 6 of 6 matches:\n",
            "pristine health and beauty . But the reign of an intolerant spirit of party amo\n",
            "odshed , and there be ushered in the reign of peace to be made permanent by a g\n",
            "ence must be cast upon the side of a reign not of force but of law and trial , \n",
            "ere is realization that only under a reign of law , based on righteousness and \n",
            "t the world . We wish to advance the reign of justice and reason toward the ext\n",
            " force of history that can break the reign of hatred and resentment , and expos\n"
          ]
        }
      ]
    },
    {
      "cell_type": "code",
      "source": [
        "text5.concordance(':)')"
      ],
      "metadata": {
        "colab": {
          "base_uri": "https://localhost:8080/"
        },
        "id": "fH5Xi6Tz1dEX",
        "outputId": "1a589aff-32b2-4a10-f8c0-843931de1bf3"
      },
      "execution_count": null,
      "outputs": [
        {
          "output_type": "stream",
          "name": "stdout",
          "text": [
            "Displaying 25 of 101 matches:\n",
            "e . . ACTION gives U121 a golf clap . :) JOIN hi U59 26 / m / ky women that ar\n",
            "OIN JOIN show will let 's talk . PART :) haha brb opps JOIN PART sho * . ACTIO\n",
            " mirror . hi U64 wb U139 u should U44 :) PART PART JOIN single dad here JOIN t\n",
            "0 well U68 what did u buy yeah i know :) U136 .. get the hell outta my freakin\n",
            " already U7 ... yayayayayyy !! OOooOO :) how you doin U139 lmaoo U121 ' iamaho\n",
            "U20 yep lmao U7 !!! . ACTION laughs . :) PART your fiance , do you know his ha\n",
            "hit ? il get u a cheap flight to hell :) lmao bbl maybe PART LOL lol U7 it was\n",
            "n be bought if theres enuff money U83 :) any guys have webcams ? . ACTION re-t\n",
            "Lies . lmao no U115 Check my record . :) Lol lick em U7 U23 how old r u lol Wa\n",
            "re not dead hahaha u got a good catch :) . ACTION covers her neck . are u mexi\n",
            "e baby sucks being you then huh ? j/k :) JOIN hey U27 ... welcome Hi !! PART J\n",
            "hey U31 ... welcome cool U31 hello U9 :) hey U31 U11 *hugs* are you sexy ? Hi \n",
            " U31 U11 *hugs* are you sexy ? Hi U17 :) yo U31 whats up JOIN am i ? Hi all yo\n",
            "sexy in the dark i think i am too U31 :) lol no U31 ... do n't leave have n't \n",
            "o me waht anyone else thinks about me :) lol . ACTION settles in next to U11 .\n",
            "days hi U37 , yes i sleep lol U3 .... :) When I do n\"t even know what that mea\n",
            "to the corner . PART Come on down U41 :) . ACTION hogs the couch . U17 looks o\n",
            " 's up there for a minute Hey U42 hon :) U31 , it is not up . ok i am back lol\n",
            "g ... I would rather Swim in an Ocean :) lol U18 Hard to read a book if you ne\n",
            "the solution is Simple .... Change it :) hey U33 fart ? hi U33 hi U33 hi U11 U\n",
            " nice JOIN good PART lol U11 amen U32 :) goody PART chuckle U20 lol .... i 'm \n",
            " JOIN JOIN U20 has an awesome pic too :) Doing great U43 -- thanks for asking \n",
            "ove U52 's pic hey U53 Hi Everyone .. :) U18 hugsssss :) hiy U16 hi U53 U9 PAR\n",
            "ey U53 Hi Everyone .. :) U18 hugsssss :) hiy U16 hi U53 U9 PART U53 hi U53 how\n",
            "IN already ? good ty hi U16 Hi U54 .. :) hi U53 yes U34 ? hiya U53 hi U52 hi U\n"
          ]
        }
      ]
    },
    {
      "cell_type": "code",
      "source": [
        "text1.similar(\"monstrous\")"
      ],
      "metadata": {
        "colab": {
          "base_uri": "https://localhost:8080/"
        },
        "id": "33USOA3d2LSp",
        "outputId": "c3a597d6-3567-4d24-d3b2-da67025908a1"
      },
      "execution_count": null,
      "outputs": [
        {
          "output_type": "stream",
          "name": "stdout",
          "text": [
            "true contemptible christian abundant few part mean careful puzzled\n",
            "mystifying passing curious loving wise doleful gamesome singular\n",
            "delightfully perilous fearless\n"
          ]
        }
      ]
    },
    {
      "cell_type": "code",
      "source": [
        "text2.similar(\"monstrous\")"
      ],
      "metadata": {
        "colab": {
          "base_uri": "https://localhost:8080/"
        },
        "id": "ZjzQbCc_30Ho",
        "outputId": "8f78e1b2-fc3b-4dc4-8ce8-70566aac0161"
      },
      "execution_count": null,
      "outputs": [
        {
          "output_type": "stream",
          "name": "stdout",
          "text": [
            "very so exceedingly heartily a as good great extremely remarkably\n",
            "sweet vast amazingly\n"
          ]
        }
      ]
    },
    {
      "cell_type": "code",
      "source": [
        "text2.common_contexts([\"monstrous\", \"very\"])"
      ],
      "metadata": {
        "colab": {
          "base_uri": "https://localhost:8080/"
        },
        "id": "LzoNfhdA4afx",
        "outputId": "1bfd4ebf-f6fd-4069-f5e4-2d185a32acd8"
      },
      "execution_count": null,
      "outputs": [
        {
          "output_type": "stream",
          "name": "stdout",
          "text": [
            "am_glad a_pretty a_lucky is_pretty be_glad\n"
          ]
        }
      ]
    },
    {
      "cell_type": "code",
      "source": [
        "text3.common_contexts([\"adam\", \"god\"])"
      ],
      "metadata": {
        "colab": {
          "base_uri": "https://localhost:8080/"
        },
        "id": "n73OkY-P4i5w",
        "outputId": "cedf74d5-f658-49c3-b643-b4d2ebe0f8d1"
      },
      "execution_count": null,
      "outputs": [
        {
          "output_type": "stream",
          "name": "stdout",
          "text": [
            "and_said unto_, and_called\n"
          ]
        }
      ]
    },
    {
      "cell_type": "code",
      "source": [
        "text4.dispersion_plot([\"citizens\", \"democracy\", \"freedom\", \"duties\", \"America\"])\n"
      ],
      "metadata": {
        "colab": {
          "base_uri": "https://localhost:8080/",
          "height": 295
        },
        "id": "kVh1Sr494_NA",
        "outputId": "716f0a26-64c7-430b-9c5a-f2007ffe5501"
      },
      "execution_count": null,
      "outputs": [
        {
          "output_type": "display_data",
          "data": {
            "text/plain": [
              "<Figure size 432x288 with 1 Axes>"
            ],
            "image/png": "[encoded data removed]"
          },
          "metadata": {
            "needs_background": "light"
          }
        }
      ]
    },
    {
      "cell_type": "code",
      "source": [
        "# commence : (cominciare: italiano), (comenzar: español)\n",
        "# initiate : (iniziare: italiano), (iniciar: español)\n",
        "# start: (starten: deutsch, nederlands), (starta: svenska)\n",
        "# begin: (beginnen: deutsch, nederlands), (börja: svenska), (begynna: svenska, Middle english)\n",
        "# (empezar: español)\n",
        "\n",
        "text4.dispersion_plot([\"commence\", \"initiate\", \"start\", \"begin\"]) # text4: U.S Presidential Inaugural Addresses, timeline over 220 years"
      ],
      "metadata": {
        "colab": {
          "base_uri": "https://localhost:8080/",
          "height": 295
        },
        "id": "OwuYcgs253E5",
        "outputId": "1d602e08-9456-4bbd-97b1-c61e8db83015"
      },
      "execution_count": null,
      "outputs": [
        {
          "output_type": "display_data",
          "data": {
            "text/plain": [
              "<Figure size 432x288 with 1 Axes>"
            ],
            "image/png": "[encoded data removed]"
          },
          "metadata": {
            "needs_background": "light"
          }
        }
      ]
    },
    {
      "cell_type": "code",
      "source": [
        "text1.dispersion_plot([\"commence\", \"initiate\", \"start\", \"begin\"]) # text1 Moby dick; literature"
      ],
      "metadata": {
        "colab": {
          "base_uri": "https://localhost:8080/",
          "height": 295
        },
        "id": "yfCVz9kNNM53",
        "outputId": "b3cfcf2d-7a8b-4d50-dd2f-1a7d4fbeab45"
      },
      "execution_count": null,
      "outputs": [
        {
          "output_type": "display_data",
          "data": {
            "text/plain": [
              "<Figure size 432x288 with 1 Axes>"
            ],
            "image/png": "[encoded data removed]"
          },
          "metadata": {
            "needs_background": "light"
          }
        }
      ]
    },
    {
      "cell_type": "code",
      "source": [
        "text5.dispersion_plot([\"commence\", \"initiate\", \"start\", \"begin\"]) # text5 chat informal language"
      ],
      "metadata": {
        "colab": {
          "base_uri": "https://localhost:8080/",
          "height": 295
        },
        "id": "ZNGgpcBWFA60",
        "outputId": "8430e9cb-b0bb-4897-c96a-c17100984ef5"
      },
      "execution_count": null,
      "outputs": [
        {
          "output_type": "display_data",
          "data": {
            "text/plain": [
              "<Figure size 432x288 with 1 Axes>"
            ],
            "image/png": "[encoded data removed]"
          },
          "metadata": {
            "needs_background": "light"
          }
        }
      ]
    },
    {
      "cell_type": "code",
      "source": [
        "text7.dispersion_plot([\"commence\", \"initiate\", \"start\", \"begin\"]) # text7: Wall Street Journal"
      ],
      "metadata": {
        "colab": {
          "base_uri": "https://localhost:8080/",
          "height": 295
        },
        "id": "zNO7SgCQCr5I",
        "outputId": "6169e592-7464-4716-8c24-47f00ce011c5"
      },
      "execution_count": null,
      "outputs": [
        {
          "output_type": "display_data",
          "data": {
            "text/plain": [
              "<Figure size 432x288 with 1 Axes>"
            ],
            "image/png": "[encoded data removed]"
          },
          "metadata": {
            "needs_background": "light"
          }
        }
      ]
    },
    {
      "cell_type": "code",
      "source": [
        "import nltk \n",
        "nltk.download('punkt')"
      ],
      "metadata": {
        "id": "uNwg9A2qUpru",
        "colab": {
          "base_uri": "https://localhost:8080/"
        },
        "outputId": "e082011d-3e81-4518-9dc8-d7c5f564a8a2"
      },
      "execution_count": null,
      "outputs": [
        {
          "output_type": "stream",
          "name": "stderr",
          "text": [
            "[nltk_data] Downloading package punkt to /root/nltk_data...\n",
            "[nltk_data]   Package punkt is already up-to-date!\n"
          ]
        },
        {
          "output_type": "execute_result",
          "data": {
            "text/plain": [
              "True"
            ]
          },
          "metadata": {},
          "execution_count": 19
        }
      ]
    },
    {
      "cell_type": "code",
      "source": [
        "text3.generate()"
      ],
      "metadata": {
        "colab": {
          "base_uri": "https://localhost:8080/",
          "height": 244
        },
        "id": "itMKYVgaEAMJ",
        "outputId": "54945e9a-1a63-4ab9-d8c3-daf0ee3be11b"
      },
      "execution_count": null,
      "outputs": [
        {
          "output_type": "stream",
          "name": "stderr",
          "text": [
            "Building ngram index...\n"
          ]
        },
        {
          "output_type": "stream",
          "name": "stdout",
          "text": [
            "lamb for a burnt offering in the city . , duke Elah , duke Shobal ,\n",
            "and Akan . and looked upon my affliction . Because the LORD God\n",
            "amongst the trees of the mighty God of Abraham his father , that they\n",
            "found a plain man , and the wo The blessings of my hand to do justice\n",
            "and judgment ; that the LORD that spake unto me , and put him into the\n",
            "ark , and for your little ones . they heard that they have brought it\n",
            "unto Hagar , Sarai ' s brother will I slay\n"
          ]
        },
        {
          "output_type": "execute_result",
          "data": {
            "text/plain": [
              "\"lamb for a burnt offering in the city . , duke Elah , duke Shobal ,\\nand Akan . and looked upon my affliction . Because the LORD God\\namongst the trees of the mighty God of Abraham his father , that they\\nfound a plain man , and the wo The blessings of my hand to do justice\\nand judgment ; that the LORD that spake unto me , and put him into the\\nark , and for your little ones . they heard that they have brought it\\nunto Hagar , Sarai ' s brother will I slay\""
            ],
            "application/vnd.google.colaboratory.intrinsic+json": {
              "type": "string"
            }
          },
          "metadata": {},
          "execution_count": 20
        }
      ]
    },
    {
      "cell_type": "code",
      "source": [
        "text3.generate()"
      ],
      "metadata": {
        "colab": {
          "base_uri": "https://localhost:8080/",
          "height": 226
        },
        "id": "AnjAcezqETQM",
        "outputId": "c8fb44ac-35e8-4e0a-bc22-8c50ccef1d71"
      },
      "execution_count": null,
      "outputs": [
        {
          "output_type": "stream",
          "name": "stdout",
          "text": [
            "lamb for a burnt offering in the city . , duke Elah , duke Shobal ,\n",
            "and Akan . and looked upon my affliction . Because the LORD God\n",
            "amongst the trees of the mighty God of Abraham his father , that they\n",
            "found a plain man , and the wo The blessings of my hand to do justice\n",
            "and judgment ; that the LORD that spake unto me , and put him into the\n",
            "ark , and for your little ones . they heard that they have brought it\n",
            "unto Hagar , Sarai ' s brother will I slay\n"
          ]
        },
        {
          "output_type": "execute_result",
          "data": {
            "text/plain": [
              "\"lamb for a burnt offering in the city . , duke Elah , duke Shobal ,\\nand Akan . and looked upon my affliction . Because the LORD God\\namongst the trees of the mighty God of Abraham his father , that they\\nfound a plain man , and the wo The blessings of my hand to do justice\\nand judgment ; that the LORD that spake unto me , and put him into the\\nark , and for your little ones . they heard that they have brought it\\nunto Hagar , Sarai ' s brother will I slay\""
            ],
            "application/vnd.google.colaboratory.intrinsic+json": {
              "type": "string"
            }
          },
          "metadata": {},
          "execution_count": 21
        }
      ]
    },
    {
      "cell_type": "code",
      "source": [
        "text5.generate()"
      ],
      "metadata": {
        "colab": {
          "base_uri": "https://localhost:8080/",
          "height": 244
        },
        "id": "XCyeIoljEMp8",
        "outputId": "60ba3ff7-4319-485a-da0d-b9eaf85873ea"
      },
      "execution_count": null,
      "outputs": [
        {
          "output_type": "stream",
          "name": "stderr",
          "text": [
            "Building ngram index...\n"
          ]
        },
        {
          "output_type": "stream",
          "name": "stdout",
          "text": [
            "heya U13 cripos . ,,,, i have never used elbows im standin where ?\n",
            "U122 JOIN I 'm getting him banned ty U36 wow mercy mercy me .... lol\n",
            "and I will end up together :-( not that I was U31 You called me Amy ?\n",
            ":) PART . the heck is that a roaring column of flame streaks out of\n",
            "uniform . JOIN PART PART NICK : U27 but that would be U41 but my table\n",
            "too dam low Heyy U103 28 m hawaii here if n e hott rocker girls wana\n",
            "chat pm me Watching = An hour\n"
          ]
        },
        {
          "output_type": "execute_result",
          "data": {
            "text/plain": [
              "\"heya U13 cripos . ,,,, i have never used elbows im standin where ?\\nU122 JOIN I 'm getting him banned ty U36 wow mercy mercy me .... lol\\nand I will end up together :-( not that I was U31 You called me Amy ?\\n:) PART . the heck is that a roaring column of flame streaks out of\\nuniform . JOIN PART PART NICK : U27 but that would be U41 but my table\\ntoo dam low Heyy U103 28 m hawaii here if n e hott rocker girls wana\\nchat pm me Watching = An hour\""
            ],
            "application/vnd.google.colaboratory.intrinsic+json": {
              "type": "string"
            }
          },
          "metadata": {},
          "execution_count": 22
        }
      ]
    },
    {
      "cell_type": "markdown",
      "source": [
        "**Counting Vocabulary**"
      ],
      "metadata": {
        "id": "Ku2ciuk2VHaw"
      }
    },
    {
      "cell_type": "markdown",
      "source": [
        "How to use the computer to count the words in a text in a variety of useful ways.\n",
        "\n",
        "`len`: to find out the length of a text from start to finish\n",
        "\n",
        " - The book of Genesis has 44,764 words and punctuation symbols, or \"tokens.\"\n",
        "\n",
        "\n",
        "A **Token** is the **teahnical name for a sequence of characters** -- such as hair, his, or :) --  that we want to treat as a group. When we ocunt the number of tokens in a text, say, the phrase **\"to be or not to be\"**, we are counting occurences of these sequences. Thus, in our example phrase there are **two occurences of \"to\", two of \"be\", and one each of \"or\" and \"not\"**. but there are only four distinct vocabulary items in this phrase.\n",
        "\n",
        "`set`: to find out how many of distinct words (items) of the book contain, all duplicates are collapsed together.\n",
        "\n",
        "`sorted` : to sort a list of vocabulary items. \n",
        "\n",
        "**Word type** is the form or spelling of the word independently of its specific occurrence in a text, the word considered as a unique item of vocabulary.\n",
        "\n",
        "  - The book of Genesis has 2789 items will include punctuation symbols, so we will generally call these unique items **types** instead of word types."
      ],
      "metadata": {
        "id": "drVrVl2Gld4B"
      }
    },
    {
      "cell_type": "code",
      "source": [
        "len(text3) # text3 : The Book of Genesis, there are 44764 tokens"
      ],
      "metadata": {
        "colab": {
          "base_uri": "https://localhost:8080/"
        },
        "id": "8vBvYpIqVOGo",
        "outputId": "7ba6d681-5008-41d8-bf25-b4cf6962e750"
      },
      "execution_count": null,
      "outputs": [
        {
          "output_type": "execute_result",
          "data": {
            "text/plain": [
              "44764"
            ]
          },
          "metadata": {},
          "execution_count": 23
        }
      ]
    },
    {
      "cell_type": "code",
      "source": [
        "len(set(text3)) # There are 2789 distinct words type"
      ],
      "metadata": {
        "colab": {
          "base_uri": "https://localhost:8080/"
        },
        "id": "2PWujg0-qHeS",
        "outputId": "0213eb3a-b877-41b7-e910-337a74f15307"
      },
      "execution_count": null,
      "outputs": [
        {
          "output_type": "execute_result",
          "data": {
            "text/plain": [
              "2789"
            ]
          },
          "metadata": {},
          "execution_count": 24
        }
      ]
    },
    {
      "cell_type": "code",
      "source": [
        "sorted(set(text3))[:20]  # sort distincted items from The Book of Genesis then shows 20 items, start beginning with puctuation then alphabetical order started from A-Z uppercase then lowercase a-z "
      ],
      "metadata": {
        "colab": {
          "base_uri": "https://localhost:8080/"
        },
        "id": "HWGsI4KyofCy",
        "outputId": "8d112770-b6f0-45e6-c3cb-082f8a733e4c"
      },
      "execution_count": null,
      "outputs": [
        {
          "output_type": "execute_result",
          "data": {
            "text/plain": [
              "['!',\n",
              " \"'\",\n",
              " '(',\n",
              " ')',\n",
              " ',',\n",
              " ',)',\n",
              " '.',\n",
              " '.)',\n",
              " ':',\n",
              " ';',\n",
              " ';)',\n",
              " '?',\n",
              " '?)',\n",
              " 'A',\n",
              " 'Abel',\n",
              " 'Abelmizraim',\n",
              " 'Abidah',\n",
              " 'Abide',\n",
              " 'Abimael',\n",
              " 'Abimelech']"
            ]
          },
          "metadata": {},
          "execution_count": 25
        }
      ]
    },
    {
      "cell_type": "code",
      "source": [
        "# calculate a measure of the lexical richness of the text.\n",
        "\n",
        "from __future__ import division\n",
        "\n",
        "len(text3)/len(set(text3))     # each word is used 16 times on average"
      ],
      "metadata": {
        "id": "dO0D580wlaXi",
        "colab": {
          "base_uri": "https://localhost:8080/"
        },
        "outputId": "d9be8a38-aae7-4bef-fa31-1a6717a12e0c"
      },
      "execution_count": null,
      "outputs": [
        {
          "output_type": "execute_result",
          "data": {
            "text/plain": [
              "16.050197203298673"
            ]
          },
          "metadata": {},
          "execution_count": 26
        }
      ]
    },
    {
      "cell_type": "code",
      "source": [
        "# focus on particular words\n",
        "\n",
        "text3.count(\"smote\")"
      ],
      "metadata": {
        "colab": {
          "base_uri": "https://localhost:8080/"
        },
        "id": "ecWJo4yZs0nR",
        "outputId": "8cc10a5a-2a35-4c42-e42a-c09e0d4c7c8d"
      },
      "execution_count": null,
      "outputs": [
        {
          "output_type": "execute_result",
          "data": {
            "text/plain": [
              "5"
            ]
          },
          "metadata": {},
          "execution_count": 27
        }
      ]
    },
    {
      "cell_type": "code",
      "source": [
        "text3.count(\"Smote\")   # case sensitive \"Smote\" and \"smote\" are different"
      ],
      "metadata": {
        "colab": {
          "base_uri": "https://localhost:8080/"
        },
        "id": "dZkjnmy0s_xQ",
        "outputId": "212843e5-950e-40fb-9f8f-84bccd70b381"
      },
      "execution_count": null,
      "outputs": [
        {
          "output_type": "execute_result",
          "data": {
            "text/plain": [
              "0"
            ]
          },
          "metadata": {},
          "execution_count": 28
        }
      ]
    },
    {
      "cell_type": "code",
      "source": [
        "100 * text4.count('a') / len(text4) # find percent of \"a\" occured in Inaugural address"
      ],
      "metadata": {
        "colab": {
          "base_uri": "https://localhost:8080/"
        },
        "id": "_S8A4AOrtPih",
        "outputId": "0a6cebf1-3d6c-45a6-91fb-02604576bbea"
      },
      "execution_count": null,
      "outputs": [
        {
          "output_type": "execute_result",
          "data": {
            "text/plain": [
              "1.457806031353621"
            ]
          },
          "metadata": {},
          "execution_count": 29
        }
      ]
    },
    {
      "cell_type": "code",
      "source": [
        "text5.count(\"lol\") # there are 704 \"lol\"s in Chat Corpus"
      ],
      "metadata": {
        "colab": {
          "base_uri": "https://localhost:8080/"
        },
        "id": "PFyheEfHtrAa",
        "outputId": "40401ab8-41cb-4a21-ef72-8a9a056cd877"
      },
      "execution_count": null,
      "outputs": [
        {
          "output_type": "execute_result",
          "data": {
            "text/plain": [
              "704"
            ]
          },
          "metadata": {},
          "execution_count": 30
        }
      ]
    },
    {
      "cell_type": "code",
      "source": [
        "100 * text5.count('lol') / len(text5)"
      ],
      "metadata": {
        "colab": {
          "base_uri": "https://localhost:8080/"
        },
        "id": "i4Lo_FCKv1nB",
        "outputId": "d4b34439-8f43-4a8d-9e9d-c11a2122351a"
      },
      "execution_count": null,
      "outputs": [
        {
          "output_type": "execute_result",
          "data": {
            "text/plain": [
              "1.5640968673628082"
            ]
          },
          "metadata": {},
          "execution_count": 31
        }
      ]
    },
    {
      "cell_type": "code",
      "source": [
        "def lexical_diversity(text):\n",
        "  return len(text)/ len(set(text))\n",
        "\n",
        "def count(text, word):\n",
        "  return text.count(word)\n",
        "\n",
        "def percentage(text, word):\n",
        "  return 100 * text.count(word) / len(text)  "
      ],
      "metadata": {
        "id": "aCC1t1O6wJ5q"
      },
      "execution_count": null,
      "outputs": []
    },
    {
      "cell_type": "code",
      "source": [
        "lexical_diversity(text3)\n"
      ],
      "metadata": {
        "colab": {
          "base_uri": "https://localhost:8080/"
        },
        "id": "uRwSk1abyrHR",
        "outputId": "11dc7e3a-d513-4273-e37e-c89e5311b74d"
      },
      "execution_count": null,
      "outputs": [
        {
          "output_type": "execute_result",
          "data": {
            "text/plain": [
              "16.050197203298673"
            ]
          },
          "metadata": {},
          "execution_count": 33
        }
      ]
    },
    {
      "cell_type": "code",
      "source": [
        "print(count(text1, 'happy'))\n",
        "print(count(text1, 'sad')) \n",
        "\n",
        "print(percentage(text1, 'courage'))\n",
        "print(percentage(text1, 'fear'))"
      ],
      "metadata": {
        "colab": {
          "base_uri": "https://localhost:8080/"
        },
        "id": "e2UI7_Yhw5x5",
        "outputId": "9891e1ab-c0ee-4ffd-9d87-ee76c773217c"
      },
      "execution_count": null,
      "outputs": [
        {
          "output_type": "stream",
          "name": "stdout",
          "text": [
            "8\n",
            "9\n",
            "0.0034506688546463255\n",
            "0.01226904481652027\n"
          ]
        }
      ]
    },
    {
      "cell_type": "markdown",
      "source": [
        "## **1.2 A Closer Look at Python: Texts as Lists of Words**"
      ],
      "metadata": {
        "id": "HDWSCPR3zYlL"
      }
    },
    {
      "cell_type": "markdown",
      "source": [
        "**Lists** : a sequence of chapters, made up of a sequence of sections, where each section is a sequence of paragraphs,"
      ],
      "metadata": {
        "id": "zOH1iBSvzsZK"
      }
    },
    {
      "cell_type": "code",
      "source": [
        "sent1 = ['Call', 'me', 'Ishmael', '.'] # assign list of words to variable called sent1\n",
        "\n",
        "sent1"
      ],
      "metadata": {
        "colab": {
          "base_uri": "https://localhost:8080/"
        },
        "id": "z-u1E31E1_uy",
        "outputId": "ae476810-c590-4780-e21a-c3ce44dbb6e8"
      },
      "execution_count": null,
      "outputs": [
        {
          "output_type": "execute_result",
          "data": {
            "text/plain": [
              "['Call', 'me', 'Ishmael', '.']"
            ]
          },
          "metadata": {},
          "execution_count": 35
        }
      ]
    },
    {
      "cell_type": "code",
      "source": [
        "sent2"
      ],
      "metadata": {
        "colab": {
          "base_uri": "https://localhost:8080/"
        },
        "id": "vnKhk7Uo3dMM",
        "outputId": "50733138-2c2b-4548-cff7-22d5d7397d25"
      },
      "execution_count": null,
      "outputs": [
        {
          "output_type": "execute_result",
          "data": {
            "text/plain": [
              "['The',\n",
              " 'family',\n",
              " 'of',\n",
              " 'Dashwood',\n",
              " 'had',\n",
              " 'long',\n",
              " 'been',\n",
              " 'settled',\n",
              " 'in',\n",
              " 'Sussex',\n",
              " '.']"
            ]
          },
          "metadata": {},
          "execution_count": 36
        }
      ]
    },
    {
      "cell_type": "code",
      "source": [
        "sent3"
      ],
      "metadata": {
        "colab": {
          "base_uri": "https://localhost:8080/"
        },
        "id": "W_6UOzis3gZS",
        "outputId": "0ecb0492-9dc2-4c9d-97e1-0944961bb38a"
      },
      "execution_count": null,
      "outputs": [
        {
          "output_type": "execute_result",
          "data": {
            "text/plain": [
              "['In',\n",
              " 'the',\n",
              " 'beginning',\n",
              " 'God',\n",
              " 'created',\n",
              " 'the',\n",
              " 'heaven',\n",
              " 'and',\n",
              " 'the',\n",
              " 'earth',\n",
              " '.']"
            ]
          },
          "metadata": {},
          "execution_count": 37
        }
      ]
    },
    {
      "cell_type": "code",
      "source": [
        "ex1 = ['Monty', 'Python', 'and', 'the', 'Holy', 'Grail']\n",
        "\n",
        "print(sorted(ex1))          # Uppercase A-Z -> Lowercase a-z\n",
        "print(len(set(ex1)))        # count items in a distinct list \n",
        "print(ex1.count('the'))     # there is only one 'the' "
      ],
      "metadata": {
        "colab": {
          "base_uri": "https://localhost:8080/"
        },
        "id": "iwZPto5u3rRx",
        "outputId": "0a20e8cd-9b84-45eb-d2fd-d5697d26d558"
      },
      "execution_count": null,
      "outputs": [
        {
          "output_type": "stream",
          "name": "stdout",
          "text": [
            "['Grail', 'Holy', 'Monty', 'Python', 'and', 'the']\n",
            "6\n",
            "1\n"
          ]
        }
      ]
    },
    {
      "cell_type": "markdown",
      "source": [
        "**Concatenation** combines the lists to gether into a single list."
      ],
      "metadata": {
        "id": "el63-93K5D6M"
      }
    },
    {
      "cell_type": "code",
      "source": [
        "# adding two lists \n",
        "\n",
        "['Monty' , 'Python'] + ['and', 'the', 'Holy', 'Grail']"
      ],
      "metadata": {
        "colab": {
          "base_uri": "https://localhost:8080/"
        },
        "id": "HPv286Nv4aCS",
        "outputId": "5d006978-0b61-461d-b127-afb93c803bfd"
      },
      "execution_count": null,
      "outputs": [
        {
          "output_type": "execute_result",
          "data": {
            "text/plain": [
              "['Monty', 'Python', 'and', 'the', 'Holy', 'Grail']"
            ]
          },
          "metadata": {},
          "execution_count": 39
        }
      ]
    },
    {
      "cell_type": "code",
      "source": [
        "sent4 + sent1"
      ],
      "metadata": {
        "colab": {
          "base_uri": "https://localhost:8080/"
        },
        "id": "W5mK1-bW5IcM",
        "outputId": "db5a95b1-b37d-4a38-88b1-378bf0e3769b"
      },
      "execution_count": null,
      "outputs": [
        {
          "output_type": "execute_result",
          "data": {
            "text/plain": [
              "['Fellow',\n",
              " '-',\n",
              " 'Citizens',\n",
              " 'of',\n",
              " 'the',\n",
              " 'Senate',\n",
              " 'and',\n",
              " 'of',\n",
              " 'the',\n",
              " 'House',\n",
              " 'of',\n",
              " 'Representatives',\n",
              " ':',\n",
              " 'Call',\n",
              " 'me',\n",
              " 'Ishmael',\n",
              " '.']"
            ]
          },
          "metadata": {},
          "execution_count": 40
        }
      ]
    },
    {
      "cell_type": "markdown",
      "source": [
        "**append** : to add a single item to a list"
      ],
      "metadata": {
        "id": "9E6OGJjp5P9i"
      }
    },
    {
      "cell_type": "code",
      "source": [
        "sent1.append(\"Some\")\n",
        "\n",
        "sent1"
      ],
      "metadata": {
        "colab": {
          "base_uri": "https://localhost:8080/"
        },
        "id": "cQgyz41N5PPy",
        "outputId": "bd033c99-214c-4155-dee4-6dc1b115fd38"
      },
      "execution_count": null,
      "outputs": [
        {
          "output_type": "execute_result",
          "data": {
            "text/plain": [
              "['Call', 'me', 'Ishmael', '.', 'Some']"
            ]
          },
          "metadata": {},
          "execution_count": 41
        }
      ]
    },
    {
      "cell_type": "markdown",
      "source": [
        "**Indexing Lists** \n",
        "\n",
        "A text in Python is a list of words, represented using a combination of brackets and quotes.\n",
        "\n",
        "\n",
        "We can pick out the 1st, 173rd or even 14278th word in a printed text, we can identify the elements of a Python list by their order of occurence in the list. **the number that represents this position** is the item's **index**"
      ],
      "metadata": {
        "id": "UcIJQpYh5-qc"
      }
    },
    {
      "cell_type": "code",
      "source": [
        "text4[173]"
      ],
      "metadata": {
        "colab": {
          "base_uri": "https://localhost:8080/",
          "height": 35
        },
        "id": "pMFpegV063nC",
        "outputId": "e76bf021-318d-42d3-b472-cc1c3116c45f"
      },
      "execution_count": null,
      "outputs": [
        {
          "output_type": "execute_result",
          "data": {
            "text/plain": [
              "'awaken'"
            ],
            "application/vnd.google.colaboratory.intrinsic+json": {
              "type": "string"
            }
          },
          "metadata": {},
          "execution_count": 42
        }
      ]
    },
    {
      "cell_type": "code",
      "source": [
        "text4.count('awaken') # count 'awaken' in text4"
      ],
      "metadata": {
        "colab": {
          "base_uri": "https://localhost:8080/"
        },
        "id": "Y575X_DF7SSL",
        "outputId": "5d826723-2ef6-48cb-8dcf-23966bf39a9f"
      },
      "execution_count": null,
      "outputs": [
        {
          "output_type": "execute_result",
          "data": {
            "text/plain": [
              "1"
            ]
          },
          "metadata": {},
          "execution_count": 43
        }
      ]
    },
    {
      "cell_type": "code",
      "source": [
        "text4.index('awaken')  # to find index of when it first occurs:"
      ],
      "metadata": {
        "colab": {
          "base_uri": "https://localhost:8080/"
        },
        "id": "-I6oA2tX66c6",
        "outputId": "d57846d1-0b37-45eb-f8ae-4f3c075e4718"
      },
      "execution_count": null,
      "outputs": [
        {
          "output_type": "execute_result",
          "data": {
            "text/plain": [
              "173"
            ]
          },
          "metadata": {},
          "execution_count": 44
        }
      ]
    },
    {
      "cell_type": "markdown",
      "source": [
        "**slicing**: allow to access sublists, extracting manageable pieces of language from large texts "
      ],
      "metadata": {
        "id": "BLWmtO_H7pHq"
      }
    },
    {
      "cell_type": "code",
      "source": [
        "text5[16715:16735]"
      ],
      "metadata": {
        "colab": {
          "base_uri": "https://localhost:8080/"
        },
        "id": "GrnTySM17-3k",
        "outputId": "88f68f28-da4c-4d38-f45a-c5133f20d9ed"
      },
      "execution_count": null,
      "outputs": [
        {
          "output_type": "execute_result",
          "data": {
            "text/plain": [
              "['U86',\n",
              " 'thats',\n",
              " 'why',\n",
              " 'something',\n",
              " 'like',\n",
              " 'gamefly',\n",
              " 'is',\n",
              " 'so',\n",
              " 'good',\n",
              " 'because',\n",
              " 'you',\n",
              " 'can',\n",
              " 'actually',\n",
              " 'play',\n",
              " 'a',\n",
              " 'full',\n",
              " 'game',\n",
              " 'without',\n",
              " 'buying',\n",
              " 'it']"
            ]
          },
          "metadata": {},
          "execution_count": 45
        }
      ]
    },
    {
      "cell_type": "code",
      "source": [
        "text6[1600:1625]"
      ],
      "metadata": {
        "colab": {
          "base_uri": "https://localhost:8080/"
        },
        "id": "v3RvGKCi8D48",
        "outputId": "18b4976e-5490-4daa-b49a-6819d00dd775"
      },
      "execution_count": null,
      "outputs": [
        {
          "output_type": "execute_result",
          "data": {
            "text/plain": [
              "['We',\n",
              " \"'\",\n",
              " 're',\n",
              " 'an',\n",
              " 'anarcho',\n",
              " '-',\n",
              " 'syndicalist',\n",
              " 'commune',\n",
              " '.',\n",
              " 'We',\n",
              " 'take',\n",
              " 'it',\n",
              " 'in',\n",
              " 'turns',\n",
              " 'to',\n",
              " 'act',\n",
              " 'as',\n",
              " 'a',\n",
              " 'sort',\n",
              " 'of',\n",
              " 'executive',\n",
              " 'officer',\n",
              " 'for',\n",
              " 'the',\n",
              " 'week']"
            ]
          },
          "metadata": {},
          "execution_count": 46
        }
      ]
    },
    {
      "cell_type": "code",
      "source": [
        "sent = ['word1', 'word2', 'word3', 'word4', 'word5',\n",
        "        'word6', 'word7', 'word8', 'word9', 'word10']\n",
        "\n",
        "\n",
        "for pos, word in enumerate(sent):\n",
        "  print(f\"{pos} .......... {word}\")"
      ],
      "metadata": {
        "colab": {
          "base_uri": "https://localhost:8080/"
        },
        "id": "8Lay8mrn8KUy",
        "outputId": "3753284b-06af-4241-ee67-4612692cf683"
      },
      "execution_count": null,
      "outputs": [
        {
          "output_type": "stream",
          "name": "stdout",
          "text": [
            "0 .......... word1\n",
            "1 .......... word2\n",
            "2 .......... word3\n",
            "3 .......... word4\n",
            "4 .......... word5\n",
            "5 .......... word6\n",
            "6 .......... word7\n",
            "7 .......... word8\n",
            "8 .......... word9\n",
            "9 .......... word10\n"
          ]
        }
      ]
    },
    {
      "cell_type": "code",
      "source": [
        "sent[0]  # the indexes start from zero "
      ],
      "metadata": {
        "colab": {
          "base_uri": "https://localhost:8080/",
          "height": 35
        },
        "id": "B-9Y4EGD8w3C",
        "outputId": "03882305-8e25-4976-a6ee-1b1c48327943"
      },
      "execution_count": null,
      "outputs": [
        {
          "output_type": "execute_result",
          "data": {
            "text/plain": [
              "'word1'"
            ],
            "application/vnd.google.colaboratory.intrinsic+json": {
              "type": "string"
            }
          },
          "metadata": {},
          "execution_count": 48
        }
      ]
    },
    {
      "cell_type": "code",
      "source": [
        "try:\n",
        "  sent[10]\n",
        "except:\n",
        "  print('IndexError: list index out of range')"
      ],
      "metadata": {
        "colab": {
          "base_uri": "https://localhost:8080/"
        },
        "id": "_KfJGwoX9JRa",
        "outputId": "dbda3732-507f-441c-ca10-d148ea9c3a99"
      },
      "execution_count": null,
      "outputs": [
        {
          "output_type": "stream",
          "name": "stdout",
          "text": [
            "IndexError: list index out of range\n"
          ]
        }
      ]
    },
    {
      "cell_type": "code",
      "source": [
        "sent[5: 8]"
      ],
      "metadata": {
        "colab": {
          "base_uri": "https://localhost:8080/"
        },
        "id": "qu9JL32j9e7j",
        "outputId": "e669af6a-5519-44c0-ea83-9f439ff1dfbf"
      },
      "execution_count": null,
      "outputs": [
        {
          "output_type": "execute_result",
          "data": {
            "text/plain": [
              "['word6', 'word7', 'word8']"
            ]
          },
          "metadata": {},
          "execution_count": 50
        }
      ]
    },
    {
      "cell_type": "code",
      "source": [
        "sent[:3] # from the first index upto 3 index but exculde 3"
      ],
      "metadata": {
        "colab": {
          "base_uri": "https://localhost:8080/"
        },
        "id": "6mLXLZiH9uWC",
        "outputId": "f09010d2-5182-4b10-e8de-81e1913b33d6"
      },
      "execution_count": null,
      "outputs": [
        {
          "output_type": "execute_result",
          "data": {
            "text/plain": [
              "['word1', 'word2', 'word3']"
            ]
          },
          "metadata": {},
          "execution_count": 51
        }
      ]
    },
    {
      "cell_type": "code",
      "source": [
        "sent[0] = 'First'\n",
        "sent[9] = 'Last'\n",
        "sent[1:9] = ['Second', 'Third']\n",
        "\n",
        "sent"
      ],
      "metadata": {
        "colab": {
          "base_uri": "https://localhost:8080/"
        },
        "id": "4WzZhY6L-Svq",
        "outputId": "5248d2fd-c346-4a52-90d5-f79e4418c110"
      },
      "execution_count": null,
      "outputs": [
        {
          "output_type": "execute_result",
          "data": {
            "text/plain": [
              "['First', 'Second', 'Third', 'Last']"
            ]
          },
          "metadata": {},
          "execution_count": 52
        }
      ]
    },
    {
      "cell_type": "code",
      "source": [
        "for pos, word in enumerate(sent):\n",
        "  print(f\"{pos} .......... {word}\")"
      ],
      "metadata": {
        "colab": {
          "base_uri": "https://localhost:8080/"
        },
        "id": "Pzqt-5yG-6ay",
        "outputId": "5a3c4051-d694-4467-ece4-231828da29ba"
      },
      "execution_count": null,
      "outputs": [
        {
          "output_type": "stream",
          "name": "stdout",
          "text": [
            "0 .......... First\n",
            "1 .......... Second\n",
            "2 .......... Third\n",
            "3 .......... Last\n"
          ]
        }
      ]
    },
    {
      "cell_type": "markdown",
      "source": [
        "**Variables**\n",
        "\n",
        "A thing that can be stored something like bag, box, bowl. -- my definition \n",
        "\n",
        "a **data item** that may take on more than one value during the runtime of a program. -- from google\n",
        "\n",
        "> variable = expression\n",
        "\n",
        "**Assignment** is the process we save any expression to the variable."
      ],
      "metadata": {
        "id": "dhOmRlD5_FlT"
      }
    },
    {
      "cell_type": "code",
      "source": [
        "vocab = set(text1)\n",
        "vocab_size = len(vocab)\n",
        "vocab_size"
      ],
      "metadata": {
        "colab": {
          "base_uri": "https://localhost:8080/"
        },
        "id": "0c91C3e0DMBE",
        "outputId": "00e69eae-ebe6-4d3b-ef8a-237e7988e3b4"
      },
      "execution_count": null,
      "outputs": [
        {
          "output_type": "execute_result",
          "data": {
            "text/plain": [
              "19317"
            ]
          },
          "metadata": {},
          "execution_count": 54
        }
      ]
    },
    {
      "cell_type": "markdown",
      "source": [
        "**Strings**\n"
      ],
      "metadata": {
        "id": "FANW8u_2DfK6"
      }
    },
    {
      "cell_type": "code",
      "source": [
        "name = 'Monty'\n",
        "\n",
        "print(name[0])\n",
        "print(name[:4])"
      ],
      "metadata": {
        "colab": {
          "base_uri": "https://localhost:8080/"
        },
        "id": "8RZdgWOWD1r5",
        "outputId": "b8b5c60f-f9c2-444a-f5ca-203609a9f422"
      },
      "execution_count": null,
      "outputs": [
        {
          "output_type": "stream",
          "name": "stdout",
          "text": [
            "M\n",
            "Mont\n"
          ]
        }
      ]
    },
    {
      "cell_type": "code",
      "source": [
        "name * 2  # string can multiply with intiger not float"
      ],
      "metadata": {
        "colab": {
          "base_uri": "https://localhost:8080/",
          "height": 35
        },
        "id": "qR_gEtnTD03u",
        "outputId": "bda6593a-8565-41cb-d544-12ee33131510"
      },
      "execution_count": null,
      "outputs": [
        {
          "output_type": "execute_result",
          "data": {
            "text/plain": [
              "'MontyMonty'"
            ],
            "application/vnd.google.colaboratory.intrinsic+json": {
              "type": "string"
            }
          },
          "metadata": {},
          "execution_count": 56
        }
      ]
    },
    {
      "cell_type": "code",
      "source": [
        "name + '!' # sting can concatenate or add"
      ],
      "metadata": {
        "colab": {
          "base_uri": "https://localhost:8080/",
          "height": 35
        },
        "id": "H2mgRAq4EKuK",
        "outputId": "b13f9ecc-5c67-4266-d051-296120fb4788"
      },
      "execution_count": null,
      "outputs": [
        {
          "output_type": "execute_result",
          "data": {
            "text/plain": [
              "'Monty!'"
            ],
            "application/vnd.google.colaboratory.intrinsic+json": {
              "type": "string"
            }
          },
          "metadata": {},
          "execution_count": 57
        }
      ]
    },
    {
      "cell_type": "code",
      "source": [
        "''.join(['Monty', 'Python']) # make a single string from list"
      ],
      "metadata": {
        "colab": {
          "base_uri": "https://localhost:8080/",
          "height": 35
        },
        "id": "gfRBXhDVEbGm",
        "outputId": "990ed300-b129-4b50-b87a-f45e8f667433"
      },
      "execution_count": null,
      "outputs": [
        {
          "output_type": "execute_result",
          "data": {
            "text/plain": [
              "'MontyPython'"
            ],
            "application/vnd.google.colaboratory.intrinsic+json": {
              "type": "string"
            }
          },
          "metadata": {},
          "execution_count": 58
        }
      ]
    },
    {
      "cell_type": "code",
      "source": [
        "'Monty Python'.split() # split a string into a list"
      ],
      "metadata": {
        "colab": {
          "base_uri": "https://localhost:8080/"
        },
        "id": "Zw9kmnuzFL-u",
        "outputId": "3581faf5-516e-4fb5-835f-bfbc060cea33"
      },
      "execution_count": null,
      "outputs": [
        {
          "output_type": "execute_result",
          "data": {
            "text/plain": [
              "['Monty', 'Python']"
            ]
          },
          "metadata": {},
          "execution_count": 59
        }
      ]
    },
    {
      "cell_type": "markdown",
      "source": [
        "## **1.3 Computing with Language: Simple Statistics**"
      ],
      "metadata": {
        "id": "Z9r9yx3XFXu0"
      }
    },
    {
      "cell_type": "markdown",
      "source": [
        "In this section, we pick up the question of **what make a text distinct**, and use automatic methods to **find characteristic words and expression of a text**."
      ],
      "metadata": {
        "id": "k6KrdSK_GOiL"
      }
    },
    {
      "cell_type": "code",
      "source": [
        "saying = ['After', 'all', 'is', 'said', 'and', 'done',\n",
        "          'more', 'is', 'said', 'than', 'done']\n",
        "\n",
        "tokens = set(saying)\n",
        "tokens = sorted(tokens)\n",
        "tokens[-2:]          # from the last two indexs"
      ],
      "metadata": {
        "colab": {
          "base_uri": "https://localhost:8080/"
        },
        "id": "32DLG6dUG7Ek",
        "outputId": "6325f35b-2ea9-46de-add6-fd125a07343c"
      },
      "execution_count": null,
      "outputs": [
        {
          "output_type": "execute_result",
          "data": {
            "text/plain": [
              "['said', 'than']"
            ]
          },
          "metadata": {},
          "execution_count": 60
        }
      ]
    },
    {
      "cell_type": "markdown",
      "source": [
        "**Frequency distribution**\n",
        "\n",
        "It tells us the **frequency of each vocabulary** item in the text. It is a \"distribution\" since it tells us how the total number of word tokens in the text are distributed across the vocabulary items.\n",
        "\n",
        "`FreqDist` find the frequent words \n",
        "`hapaxes` the owrds that occur once only"
      ],
      "metadata": {
        "id": "XGa6cLIxHXPI"
      }
    },
    {
      "cell_type": "code",
      "source": [
        "from nltk.book import FreqDist\n",
        "\n",
        "fdist1 = FreqDist(text1)\n",
        "\n",
        "fdist1"
      ],
      "metadata": {
        "colab": {
          "base_uri": "https://localhost:8080/"
        },
        "id": "IIdmDw1JIMRk",
        "outputId": "e90cbb27-9d34-4094-cd12-d4c5d383fc97"
      },
      "execution_count": null,
      "outputs": [
        {
          "output_type": "execute_result",
          "data": {
            "text/plain": [
              "FreqDist({',': 18713, 'the': 13721, '.': 6862, 'of': 6536, 'and': 6024, 'a': 4569, 'to': 4542, ';': 4072, 'in': 3916, 'that': 2982, ...})"
            ]
          },
          "metadata": {},
          "execution_count": 61
        }
      ]
    },
    {
      "cell_type": "code",
      "source": [
        "vocabulary1 = fdist1.keys()\n"
      ],
      "metadata": {
        "id": "Xq5-n4oZIUSb"
      },
      "execution_count": null,
      "outputs": []
    },
    {
      "cell_type": "code",
      "source": [
        "fdist1['whale']  # inspect the total number of words (\"outcomes\")"
      ],
      "metadata": {
        "colab": {
          "base_uri": "https://localhost:8080/"
        },
        "id": "LGxKjHgXKZs0",
        "outputId": "59a3f35c-1d65-45fe-ea39-d724607bb968"
      },
      "execution_count": null,
      "outputs": [
        {
          "output_type": "execute_result",
          "data": {
            "text/plain": [
              "906"
            ]
          },
          "metadata": {},
          "execution_count": 63
        }
      ]
    },
    {
      "cell_type": "code",
      "source": [
        "import matplotlib.pyplot as plt\n",
        "\n",
        "\n",
        "plt.figure(figsize=(10, 7))\n",
        "fdist1.plot(50, cumulative=True, color='#000080');  # cumulative counts "
      ],
      "metadata": {
        "colab": {
          "base_uri": "https://localhost:8080/",
          "height": 462
        },
        "id": "dCbmjgLOLxME",
        "outputId": "d8646b92-0aa3-46d9-dcdf-a64eec6704b9"
      },
      "execution_count": null,
      "outputs": [
        {
          "output_type": "display_data",
          "data": {
            "text/plain": [
              "<Figure size 720x504 with 1 Axes>"
            ],
            "image/png": "[encoded data removed]"
          },
          "metadata": {
            "needs_background": "light"
          }
        }
      ]
    },
    {
      "cell_type": "code",
      "source": [
        "fdist1.hapaxes()[:50] # hapexes the words that occur once only"
      ],
      "metadata": {
        "colab": {
          "base_uri": "https://localhost:8080/"
        },
        "id": "G2LF4x6sPja8",
        "outputId": "4163298c-e21c-45a7-d43e-182e2e586f48"
      },
      "execution_count": null,
      "outputs": [
        {
          "output_type": "execute_result",
          "data": {
            "text/plain": [
              "['Herman',\n",
              " 'Melville',\n",
              " ']',\n",
              " 'ETYMOLOGY',\n",
              " 'Late',\n",
              " 'Consumptive',\n",
              " 'School',\n",
              " 'threadbare',\n",
              " 'lexicons',\n",
              " 'mockingly',\n",
              " 'flags',\n",
              " 'mortality',\n",
              " 'signification',\n",
              " 'HACKLUYT',\n",
              " 'Sw',\n",
              " 'HVAL',\n",
              " 'roundness',\n",
              " 'Dut',\n",
              " 'Ger',\n",
              " 'WALLEN',\n",
              " 'WALW',\n",
              " 'IAN',\n",
              " 'RICHARDSON',\n",
              " 'KETOS',\n",
              " 'GREEK',\n",
              " 'CETUS',\n",
              " 'LATIN',\n",
              " 'WHOEL',\n",
              " 'ANGLO',\n",
              " 'SAXON',\n",
              " 'WAL',\n",
              " 'HWAL',\n",
              " 'SWEDISH',\n",
              " 'ICELANDIC',\n",
              " 'BALEINE',\n",
              " 'BALLENA',\n",
              " 'FEGEE',\n",
              " 'ERROMANGOAN',\n",
              " 'Librarian',\n",
              " 'painstaking',\n",
              " 'burrower',\n",
              " 'grub',\n",
              " 'Vaticans',\n",
              " 'stalls',\n",
              " 'higgledy',\n",
              " 'piggledy',\n",
              " 'gospel',\n",
              " 'promiscuously',\n",
              " 'commentator',\n",
              " 'belongest']"
            ]
          },
          "metadata": {},
          "execution_count": 66
        }
      ]
    },
    {
      "cell_type": "markdown",
      "source": [
        "**Myself**"
      ],
      "metadata": {
        "id": "i_ISnf-3_ECN"
      }
    },
    {
      "cell_type": "code",
      "source": [
        "from collections import Counter\n",
        "\n",
        "word_counts = Counter(text1)   # quite the same as FreqDist\n",
        "\n",
        "f_50 = {}\n",
        "\n",
        "for k, v in word_counts.most_common(50):\n",
        "  f_50[k] = v\n",
        "  print(f\"{k} .......... {v}\")"
      ],
      "metadata": {
        "colab": {
          "base_uri": "https://localhost:8080/"
        },
        "id": "pcL-2UeSKv-r",
        "outputId": "b17ef2c3-03b8-40c9-af23-cb17dd2ffbe5"
      },
      "execution_count": null,
      "outputs": [
        {
          "output_type": "stream",
          "name": "stdout",
          "text": [
            ", .......... 18713\n",
            "the .......... 13721\n",
            ". .......... 6862\n",
            "of .......... 6536\n",
            "and .......... 6024\n",
            "a .......... 4569\n",
            "to .......... 4542\n",
            "; .......... 4072\n",
            "in .......... 3916\n",
            "that .......... 2982\n",
            "' .......... 2684\n",
            "- .......... 2552\n",
            "his .......... 2459\n",
            "it .......... 2209\n",
            "I .......... 2124\n",
            "s .......... 1739\n",
            "is .......... 1695\n",
            "he .......... 1661\n",
            "with .......... 1659\n",
            "was .......... 1632\n",
            "as .......... 1620\n",
            "\" .......... 1478\n",
            "all .......... 1462\n",
            "for .......... 1414\n",
            "this .......... 1280\n",
            "! .......... 1269\n",
            "at .......... 1231\n",
            "by .......... 1137\n",
            "but .......... 1113\n",
            "not .......... 1103\n",
            "-- .......... 1070\n",
            "him .......... 1058\n",
            "from .......... 1052\n",
            "be .......... 1030\n",
            "on .......... 1005\n",
            "so .......... 918\n",
            "whale .......... 906\n",
            "one .......... 889\n",
            "you .......... 841\n",
            "had .......... 767\n",
            "have .......... 760\n",
            "there .......... 715\n",
            "But .......... 705\n",
            "or .......... 697\n",
            "were .......... 680\n",
            "now .......... 646\n",
            "which .......... 640\n",
            "? .......... 637\n",
            "me .......... 627\n",
            "like .......... 624\n"
          ]
        }
      ]
    },
    {
      "cell_type": "code",
      "source": [
        "import matplotlib.pyplot as plt\n",
        "\n",
        "names = list(f_50.keys())\n",
        "values = list(f_50.values())\n",
        "\n",
        "plt.figure(figsize=(10, 7))\n",
        "plt.plot(names, values, color=\"#000080\", alpha=0.8)\n",
        "plt.xticks(names, rotation='vertical')\n",
        "plt.xlabel('top 50 words')\n",
        "plt.ylabel('frequency')\n",
        "plt.show()"
      ],
      "metadata": {
        "colab": {
          "base_uri": "https://localhost:8080/",
          "height": 462
        },
        "id": "-79E8sRpMWMc",
        "outputId": "31a3f68e-6a9f-4dba-e7e0-3fad9d4608e8"
      },
      "execution_count": null,
      "outputs": [
        {
          "output_type": "display_data",
          "data": {
            "text/plain": [
              "<Figure size 720x504 with 1 Axes>"
            ],
            "image/png": "[encoded data removed]"
          },
          "metadata": {
            "needs_background": "light"
          }
        }
      ]
    },
    {
      "cell_type": "markdown",
      "source": [
        "**Fine-Grained Selection of Words**"
      ],
      "metadata": {
        "id": "72h1NGTsng81"
      }
    },
    {
      "cell_type": "code",
      "source": [
        "#  {w | w ∈ V & P(w)}       # any word which word in set V and property P is true\n",
        "#  [w for w in V if p(w)]   # any word for word in set V if property P is true\n",
        "\n",
        "V = set(text1)\n",
        "long_words = [w for w in V if len(w) > 15]  # list of each word for word in set of V If len of word greather than 15\n",
        "sorted(long_words)"
      ],
      "metadata": {
        "colab": {
          "base_uri": "https://localhost:8080/"
        },
        "id": "VSzfwzIMRM-F",
        "outputId": "7486e004-2615-4691-f030-69ae60c764f3"
      },
      "execution_count": null,
      "outputs": [
        {
          "output_type": "execute_result",
          "data": {
            "text/plain": [
              "['CIRCUMNAVIGATION',\n",
              " 'Physiognomically',\n",
              " 'apprehensiveness',\n",
              " 'cannibalistically',\n",
              " 'characteristically',\n",
              " 'circumnavigating',\n",
              " 'circumnavigation',\n",
              " 'circumnavigations',\n",
              " 'comprehensiveness',\n",
              " 'hermaphroditical',\n",
              " 'indiscriminately',\n",
              " 'indispensableness',\n",
              " 'irresistibleness',\n",
              " 'physiognomically',\n",
              " 'preternaturalness',\n",
              " 'responsibilities',\n",
              " 'simultaneousness',\n",
              " 'subterraneousness',\n",
              " 'supernaturalness',\n",
              " 'superstitiousness',\n",
              " 'uncomfortableness',\n",
              " 'uncompromisedness',\n",
              " 'undiscriminating',\n",
              " 'uninterpenetratingly']"
            ]
          },
          "metadata": {},
          "execution_count": 68
        }
      ]
    },
    {
      "cell_type": "code",
      "source": [
        "V4 = set(text4)\n",
        "long_words = [w for w in V4 if len(w) > 15]\n",
        "sorted(long_words)"
      ],
      "metadata": {
        "colab": {
          "base_uri": "https://localhost:8080/"
        },
        "id": "ZRVD-_xuXf3m",
        "outputId": "d1136553-d576-42ba-bd8e-d0e94ba5635b"
      },
      "execution_count": null,
      "outputs": [
        {
          "output_type": "execute_result",
          "data": {
            "text/plain": [
              "['RESPONSIBILITIES',\n",
              " 'antiphilosophists',\n",
              " 'constitutionally',\n",
              " 'contradistinction',\n",
              " 'discountenancing',\n",
              " 'disqualification',\n",
              " 'enthusiastically',\n",
              " 'instrumentalities',\n",
              " 'internationality',\n",
              " 'irresponsibility',\n",
              " 'misappropriation',\n",
              " 'misrepresentation',\n",
              " 'misunderstanding',\n",
              " 'responsibilities',\n",
              " 'sentimentalizing',\n",
              " 'transcontinental',\n",
              " 'uncharitableness',\n",
              " 'unconstitutional']"
            ]
          },
          "metadata": {},
          "execution_count": 69
        }
      ]
    },
    {
      "cell_type": "code",
      "source": [
        "#  words from the chat corpus that are longer than\n",
        "#  seven characters, that occur more than seven times:\n",
        "\n",
        "fdist5 = FreqDist(text5)\n",
        "V5 = set(text5)\n",
        "\n",
        "long_words = [w for w in V5 if len(w) > 7 and fdist5[w] > 7] \n",
        "sorted(long_words)"
      ],
      "metadata": {
        "colab": {
          "base_uri": "https://localhost:8080/"
        },
        "id": "4AiV_n9XTx9F",
        "outputId": "c1534af1-6496-4312-9412-69be8f971013"
      },
      "execution_count": null,
      "outputs": [
        {
          "output_type": "execute_result",
          "data": {
            "text/plain": [
              "['#14-19teens',\n",
              " '#talkcity_adults',\n",
              " '((((((((((',\n",
              " '........',\n",
              " 'Question',\n",
              " 'actually',\n",
              " 'anything',\n",
              " 'computer',\n",
              " 'cute.-ass',\n",
              " 'everyone',\n",
              " 'football',\n",
              " 'innocent',\n",
              " 'listening',\n",
              " 'remember',\n",
              " 'seriously',\n",
              " 'something',\n",
              " 'together',\n",
              " 'tomorrow',\n",
              " 'watching']"
            ]
          },
          "metadata": {},
          "execution_count": 70
        }
      ]
    },
    {
      "cell_type": "markdown",
      "source": [
        "**Collocations and Bigrams**"
      ],
      "metadata": {
        "id": "FzoelcJNnWt1"
      }
    },
    {
      "cell_type": "markdown",
      "source": [
        "A **Collocation** is **a sequence of words that occur together** unusually often. Thus **\"red wine\"** is a collocation, whereas **\"the wine\"** is not. A characteristic of collocations is that they are resistant to substitution with words that have similar senses; for example, **\"maroon wine\"** sounds very odd.\n",
        "\n",
        "`bigrams`: extracting from a text a list of word pairs; pair sequence of words in order \n",
        "\n",
        "`collocations`: find a sequence of words that occur together"
      ],
      "metadata": {
        "id": "YzWj-H5Qnosn"
      }
    },
    {
      "cell_type": "code",
      "source": [
        "col = bigrams(['more', 'is', 'said', 'than', 'done'])\n",
        "list(col)"
      ],
      "metadata": {
        "colab": {
          "base_uri": "https://localhost:8080/"
        },
        "id": "BjoZwOF6tn9U",
        "outputId": "1f108aaf-6e8e-4e27-c124-81d02f75489b"
      },
      "execution_count": null,
      "outputs": [
        {
          "output_type": "execute_result",
          "data": {
            "text/plain": [
              "[('more', 'is'), ('is', 'said'), ('said', 'than'), ('than', 'done')]"
            ]
          },
          "metadata": {},
          "execution_count": 71
        }
      ]
    },
    {
      "cell_type": "code",
      "source": [
        "text6.collocations()"
      ],
      "metadata": {
        "colab": {
          "base_uri": "https://localhost:8080/"
        },
        "id": "ul9xMcPiwa8e",
        "outputId": "c8b9dcd3-d685-4ca4-df92-9a64aa9be8f3"
      },
      "execution_count": null,
      "outputs": [
        {
          "output_type": "stream",
          "name": "stdout",
          "text": [
            "BLACK KNIGHT; clop clop; HEAD KNIGHT; mumble mumble; Holy Grail;\n",
            "squeak squeak; FRENCH GUARD; saw saw; Sir Robin; Run away; CARTOON\n",
            "CHARACTER; King Arthur; Iesu domine; Pie Iesu; DEAD PERSON; Round\n",
            "Table; clap clap; OLD MAN; dramatic chord; dona eis\n"
          ]
        }
      ]
    },
    {
      "cell_type": "code",
      "source": [
        "text4.collocations()"
      ],
      "metadata": {
        "colab": {
          "base_uri": "https://localhost:8080/"
        },
        "id": "PGOyI7SxufLs",
        "outputId": "f92c90ab-7e11-4f66-e314-ae08ff485738"
      },
      "execution_count": null,
      "outputs": [
        {
          "output_type": "stream",
          "name": "stdout",
          "text": [
            "United States; fellow citizens; years ago; four years; Federal\n",
            "Government; General Government; American people; Vice President; God\n",
            "bless; Chief Justice; one another; fellow Americans; Old World;\n",
            "Almighty God; Fellow citizens; Chief Magistrate; every citizen; Indian\n",
            "tribes; public debt; foreign nations\n"
          ]
        }
      ]
    },
    {
      "cell_type": "code",
      "source": [
        "text8.collocations()"
      ],
      "metadata": {
        "colab": {
          "base_uri": "https://localhost:8080/"
        },
        "id": "dRYnThupwQil",
        "outputId": "bfdb9cdf-5959-4625-c594-c45723683ee9"
      },
      "execution_count": null,
      "outputs": [
        {
          "output_type": "stream",
          "name": "stdout",
          "text": [
            "would like; medium build; social drinker; quiet nights; non smoker;\n",
            "long term; age open; Would like; easy going; financially secure; fun\n",
            "times; similar interests; Age open; weekends away; poss rship; well\n",
            "presented; never married; single mum; permanent relationship; slim\n",
            "build\n"
          ]
        }
      ]
    },
    {
      "cell_type": "code",
      "source": [
        "text1.collocations()"
      ],
      "metadata": {
        "colab": {
          "base_uri": "https://localhost:8080/"
        },
        "id": "QO2cvSHRypjt",
        "outputId": "8a1cd2d5-5a4c-4c28-e7d1-10e1e1a36397"
      },
      "execution_count": null,
      "outputs": [
        {
          "output_type": "stream",
          "name": "stdout",
          "text": [
            "Sperm Whale; Moby Dick; White Whale; old man; Captain Ahab; sperm\n",
            "whale; Right Whale; Captain Peleg; New Bedford; Cape Horn; cried Ahab;\n",
            "years ago; lower jaw; never mind; Father Mapple; cried Stubb; chief\n",
            "mate; white whale; ivory leg; one hand\n"
          ]
        }
      ]
    },
    {
      "cell_type": "markdown",
      "source": [
        "**Counting Other Things**"
      ],
      "metadata": {
        "id": "WJJuYN_IwshN"
      }
    },
    {
      "cell_type": "markdown",
      "source": [
        "We can **look at the distribution of word lengths in a text**, by creating a `FreqDist` out of a long list of numbers, where each number is the length of the corresponding word in the text:"
      ],
      "metadata": {
        "id": "0I-IDWY7wvvN"
      }
    },
    {
      "cell_type": "code",
      "source": [
        "text1_len  = [len(w) for w in text1]  # find length of each word\n",
        "text1_len[:10]"
      ],
      "metadata": {
        "colab": {
          "base_uri": "https://localhost:8080/"
        },
        "id": "KvPslTFWxJkz",
        "outputId": "5feb4d80-9a0b-4831-ec3e-ef527eb80717"
      },
      "execution_count": null,
      "outputs": [
        {
          "output_type": "execute_result",
          "data": {
            "text/plain": [
              "[1, 4, 4, 2, 6, 8, 4, 1, 9, 1]"
            ]
          },
          "metadata": {},
          "execution_count": 79
        }
      ]
    },
    {
      "cell_type": "code",
      "source": [
        "fdist = FreqDist([len(w) for w in text1]) # how frequency of \"length of word\"\n",
        "fdist"
      ],
      "metadata": {
        "colab": {
          "base_uri": "https://localhost:8080/"
        },
        "id": "2bPdIVKzyyM0",
        "outputId": "f0cce39f-6b53-4a71-c63e-4554a4863f80"
      },
      "execution_count": null,
      "outputs": [
        {
          "output_type": "execute_result",
          "data": {
            "text/plain": [
              "FreqDist({3: 50223, 1: 47933, 4: 42345, 2: 38513, 5: 26597, 6: 17111, 7: 14399, 8: 9966, 9: 6428, 10: 3528, ...})"
            ]
          },
          "metadata": {},
          "execution_count": 77
        }
      ]
    },
    {
      "cell_type": "code",
      "source": [
        "fdist.keys()  # there are 20 different word lengths"
      ],
      "metadata": {
        "colab": {
          "base_uri": "https://localhost:8080/"
        },
        "id": "_z7rA2dN0lNN",
        "outputId": "f4dd735f-c89a-4c7f-a902-13ab6779ea54"
      },
      "execution_count": null,
      "outputs": [
        {
          "output_type": "execute_result",
          "data": {
            "text/plain": [
              "dict_keys([1, 4, 2, 6, 8, 9, 11, 5, 7, 3, 10, 12, 13, 14, 16, 15, 17, 18, 20])"
            ]
          },
          "metadata": {},
          "execution_count": 80
        }
      ]
    },
    {
      "cell_type": "code",
      "source": [
        "fdist.items()"
      ],
      "metadata": {
        "colab": {
          "base_uri": "https://localhost:8080/"
        },
        "id": "f6c6rC5A67JX",
        "outputId": "c5d9b3c9-93a4-4012-f871-efde5922a0c0"
      },
      "execution_count": null,
      "outputs": [
        {
          "output_type": "execute_result",
          "data": {
            "text/plain": [
              "dict_items([(1, 47933), (4, 42345), (2, 38513), (6, 17111), (8, 9966), (9, 6428), (11, 1873), (5, 26597), (7, 14399), (3, 50223), (10, 3528), (12, 1053), (13, 567), (14, 177), (16, 22), (15, 70), (17, 12), (18, 1), (20, 1)])"
            ]
          },
          "metadata": {},
          "execution_count": 109
        }
      ]
    },
    {
      "cell_type": "code",
      "source": [
        "fdist.max()  # the most frequent word length is '3'"
      ],
      "metadata": {
        "colab": {
          "base_uri": "https://localhost:8080/"
        },
        "id": "Kz069ppv8knn",
        "outputId": "54cba9dc-0be8-4ad2-e5c0-db30c2c7505c"
      },
      "execution_count": null,
      "outputs": [
        {
          "output_type": "execute_result",
          "data": {
            "text/plain": [
              "3"
            ]
          },
          "metadata": {},
          "execution_count": 119
        }
      ]
    },
    {
      "cell_type": "code",
      "source": [
        "fdist[3]  # words of length 3 account for roughly 50,000"
      ],
      "metadata": {
        "colab": {
          "base_uri": "https://localhost:8080/"
        },
        "id": "8wRK5VkW6-QF",
        "outputId": "b3125ad8-4874-411c-952b-418f5431f612"
      },
      "execution_count": null,
      "outputs": [
        {
          "output_type": "execute_result",
          "data": {
            "text/plain": [
              "50223"
            ]
          },
          "metadata": {},
          "execution_count": 110
        }
      ]
    },
    {
      "cell_type": "code",
      "source": [
        "fdist.freq(3)   # words of length 3 is roughly 20% of words making up the book."
      ],
      "metadata": {
        "colab": {
          "base_uri": "https://localhost:8080/"
        },
        "id": "bD8pVrrP8cHW",
        "outputId": "2e1bdbd9-4762-4e3c-c2fd-05b504084b21"
      },
      "execution_count": null,
      "outputs": [
        {
          "output_type": "execute_result",
          "data": {
            "text/plain": [
              "0.19255882431878046"
            ]
          },
          "metadata": {},
          "execution_count": 118
        }
      ]
    },
    {
      "cell_type": "markdown",
      "source": [
        "<table>\n",
        "  <tr>\n",
        "    <th colspan=\"2\"><h1>Functions defined for NLTK's frequency distributions</h1></th>\n",
        "  </tr>\n",
        "  <tr>\n",
        "    <td>fdist = FreqDist(sample)</td>\n",
        "    <td>Create a frequency distribution containing the given samples</td>\n",
        "  </tr>\n",
        "  <tr>\n",
        "    <td>fdist.inc(sample)</td>\n",
        "    <td>Increment the count for this sample</td>\n",
        "  </tr>\n",
        "   <tr>\n",
        "    <td>fdist['monstrous']</td>\n",
        "    <td>Count of the number of times a given sample occurred</td>\n",
        "  </tr>\n",
        "  <tr>\n",
        "    <td>fdist.freq('monstrous')</td>\n",
        "    <td>Frequency of a given sample</td>\n",
        "  </tr>\n",
        "   <tr>\n",
        "    <td>fdist.N()</td>\n",
        "    <td>Total number of samples</td>\n",
        "  </tr>\n",
        "  <tr>\n",
        "    <td>fdist.keys()</td>\n",
        "    <td>The samples sorted in order of decreasing frequency</td>\n",
        "  </tr>\n",
        "  <tr>\n",
        "    <td>for sample in fdist:</td>\n",
        "    <td>Iterate over the samples, in order of decreasing frequency</td>\n",
        "  </tr>\n",
        "  <tr>\n",
        "    <td>fdist.tabulate()</td>\n",
        "    <td>Tabulate the frequency distribution</td>\n",
        "  </tr>\n",
        "   <tr>\n",
        "    <td>fdist.plot()</td>\n",
        "    <td>Graphical plot of the frequency distribution</td>\n",
        "  </tr>\n",
        "  <tr>\n",
        "    <td>fdist.plot(cummulative=True</td>\n",
        "    <td>Cumulative plot of the frequency distribution</td>\n",
        "  </tr>\n",
        "  <tr>\n",
        "    <td>fdist1 < fdist2</td>\n",
        "    <td>Test if samples in fdist 1 occur less frequently than in fdist2</td>\n",
        "  </tr>\n",
        "</table>"
      ],
      "metadata": {
        "id": "PR_asJGx9ZR9"
      }
    },
    {
      "cell_type": "markdown",
      "source": [
        "## **1.4 Back to Python: Making Decisions and Taking Control**"
      ],
      "metadata": {
        "id": "q7WtSI2xBxJu"
      }
    },
    {
      "cell_type": "markdown",
      "source": [
        "A key freature of programming is the **ability of machines to make decisions on our behalf, executing instruction when certain conditiosn are met**, or repeatedly looping through text data until some conditions is satisfied. this feature is known as **control**"
      ],
      "metadata": {
        "id": "FujgRLt6ChCm"
      }
    },
    {
      "cell_type": "markdown",
      "source": [
        "Conditionals"
      ],
      "metadata": {
        "id": "VD2fDizaC-IQ"
      }
    },
    {
      "cell_type": "markdown",
      "source": [
        "<table>\n",
        "  <tr>\n",
        "    <th colspan=\"2\"><h1>Numerical comparison operators</h1></th>\n",
        "  </tr>\n",
        "  <tr>\n",
        "    <th>Operator</th>\n",
        "    <th>Relationship</th>\n",
        "  </tr>\n",
        "  <tr>\n",
        "    <td><</td>\n",
        "    <td>Less than</td>\n",
        "  </tr>\n",
        "   <tr>\n",
        "    <td><=</td>\n",
        "    <td>Less than or equal to</td>\n",
        "  </tr>\n",
        "  <tr>\n",
        "    <td>==</td>\n",
        "    <td>Equal to (note this is two\"=\"signs, not one)</td>\n",
        "  </tr>\n",
        "   <tr>\n",
        "    <td>!=</td>\n",
        "    <td>Not equal to</td>\n",
        "  </tr>\n",
        "  <tr>\n",
        "    <td>></td>\n",
        "    <td>Greater than</td>\n",
        "  </tr>\n",
        "  <tr>\n",
        "    <td>>=</td>\n",
        "    <td>Greater than or equal to</td>\n",
        "  </tr>\n",
        "</table>"
      ],
      "metadata": {
        "id": "UXu3XqXFDFPe"
      }
    },
    {
      "cell_type": "code",
      "source": [
        "sent7"
      ],
      "metadata": {
        "colab": {
          "base_uri": "https://localhost:8080/"
        },
        "id": "TEzZAFX6EEBp",
        "outputId": "9533edd5-bcef-4ac6-cfe4-0ce3d08a241d"
      },
      "execution_count": null,
      "outputs": [
        {
          "output_type": "execute_result",
          "data": {
            "text/plain": [
              "['Pierre',\n",
              " 'Vinken',\n",
              " ',',\n",
              " '61',\n",
              " 'years',\n",
              " 'old',\n",
              " ',',\n",
              " 'will',\n",
              " 'join',\n",
              " 'the',\n",
              " 'board',\n",
              " 'as',\n",
              " 'a',\n",
              " 'nonexecutive',\n",
              " 'director',\n",
              " 'Nov.',\n",
              " '29',\n",
              " '.']"
            ]
          },
          "metadata": {},
          "execution_count": 122
        }
      ]
    },
    {
      "cell_type": "code",
      "source": [
        "# [w for w in text if condition]\n",
        "\n",
        "[w for w in sent7 if len(w) < 4]   # less than"
      ],
      "metadata": {
        "colab": {
          "base_uri": "https://localhost:8080/"
        },
        "id": "qHuDD4_0EHoO",
        "outputId": "34252762-3b24-434d-db5e-d8bf024bc051"
      },
      "execution_count": null,
      "outputs": [
        {
          "output_type": "execute_result",
          "data": {
            "text/plain": [
              "[',', '61', 'old', ',', 'the', 'as', 'a', '29', '.']"
            ]
          },
          "metadata": {},
          "execution_count": 124
        }
      ]
    },
    {
      "cell_type": "code",
      "source": [
        "[w for w in sent7 if len(w) <= 4]   # less than or equal"
      ],
      "metadata": {
        "colab": {
          "base_uri": "https://localhost:8080/"
        },
        "id": "lUGTXUJYEa2O",
        "outputId": "4ce8b772-76b5-43f6-b64e-bee09bb016f2"
      },
      "execution_count": null,
      "outputs": [
        {
          "output_type": "execute_result",
          "data": {
            "text/plain": [
              "[',', '61', 'old', ',', 'will', 'join', 'the', 'as', 'a', 'Nov.', '29', '.']"
            ]
          },
          "metadata": {},
          "execution_count": 125
        }
      ]
    },
    {
      "cell_type": "code",
      "source": [
        "[w for w in sent7 if len(w) == 4]   # equal 4"
      ],
      "metadata": {
        "colab": {
          "base_uri": "https://localhost:8080/"
        },
        "id": "E8auHE3fEnjV",
        "outputId": "35cd7b82-3db6-4326-a327-6fca11bf7190"
      },
      "execution_count": null,
      "outputs": [
        {
          "output_type": "execute_result",
          "data": {
            "text/plain": [
              "['will', 'join', 'Nov.']"
            ]
          },
          "metadata": {},
          "execution_count": 128
        }
      ]
    },
    {
      "cell_type": "code",
      "source": [
        "[w for w in sent7 if len(w) != 4]"
      ],
      "metadata": {
        "colab": {
          "base_uri": "https://localhost:8080/"
        },
        "id": "K5Tt7lA8Eyfa",
        "outputId": "c823e5a7-ef52-40dd-f091-6116edad4899"
      },
      "execution_count": null,
      "outputs": [
        {
          "output_type": "execute_result",
          "data": {
            "text/plain": [
              "['Pierre',\n",
              " 'Vinken',\n",
              " ',',\n",
              " '61',\n",
              " 'years',\n",
              " 'old',\n",
              " ',',\n",
              " 'the',\n",
              " 'board',\n",
              " 'as',\n",
              " 'a',\n",
              " 'nonexecutive',\n",
              " 'director',\n",
              " '29',\n",
              " '.']"
            ]
          },
          "metadata": {},
          "execution_count": 129
        }
      ]
    },
    {
      "cell_type": "markdown",
      "source": [
        "<table>\n",
        "  <tr>\n",
        "    <th colspan=\"2\"><h1>Some word comparison operators</h1></th>\n",
        "  </tr>\n",
        "  <tr>\n",
        "    <th>Function</th>\n",
        "    <th>Meaning</th>\n",
        "  </tr>\n",
        "  <tr>\n",
        "    <td>s.startswith(t)</td>\n",
        "    <td>Test if s starts with 't'</td>\n",
        "  </tr>\n",
        "   <tr>\n",
        "    <td>s.endswith(t)</td>\n",
        "    <td>Test if s end with 't'</td>\n",
        "  </tr>\n",
        "  <tr>\n",
        "    <td> t in s</td>\n",
        "    <td>Test if t in containsed inside s</td>\n",
        "  </tr>\n",
        "   <tr>\n",
        "    <td>s.islower()</td>\n",
        "    <td>Test if all cased characters in s are lowercase</td>\n",
        "  </tr>\n",
        "  <tr>\n",
        "    <td>s.isupper()</td>\n",
        "    <td>Test if all cased characters in s are uppercase</td>\n",
        "  </tr>\n",
        "  <tr>\n",
        "    <td>s.isalpha()</td>\n",
        "    <td>Test if all characters in s are alphabetic</td>\n",
        "  </tr>\n",
        "   <tr>\n",
        "    <td>s.isalnum</td>\n",
        "    <td>Test if all characters in s are alphanumeric</td>\n",
        "  </tr>\n",
        "  <tr>\n",
        "    <td>s.isdigit()</td>\n",
        "    <td>Test if all characters in s are digits</td>\n",
        "  </tr>\n",
        "  <tr>\n",
        "    <td>s.istitle()</td>\n",
        "    <td>Test if all characters is titlecased (all words in s have initial capitals)</td>\n",
        "  </tr>\n",
        "</table>"
      ],
      "metadata": {
        "id": "7IJmQWihFID9"
      }
    },
    {
      "cell_type": "code",
      "source": [
        "sorted([w for w in set(text1) if w.endswith('ableness')])"
      ],
      "metadata": {
        "colab": {
          "base_uri": "https://localhost:8080/"
        },
        "id": "_nL7WuezG0Ze",
        "outputId": "7a28202f-f40a-4c43-aa80-68f7163a6d14"
      },
      "execution_count": null,
      "outputs": [
        {
          "output_type": "execute_result",
          "data": {
            "text/plain": [
              "['comfortableness',\n",
              " 'honourableness',\n",
              " 'immutableness',\n",
              " 'indispensableness',\n",
              " 'indomitableness',\n",
              " 'intolerableness',\n",
              " 'palpableness',\n",
              " 'reasonableness',\n",
              " 'uncomfortableness']"
            ]
          },
          "metadata": {},
          "execution_count": 131
        }
      ]
    },
    {
      "cell_type": "code",
      "source": [
        "sorted([term for term in set(text4) if 'gnt' in term])"
      ],
      "metadata": {
        "colab": {
          "base_uri": "https://localhost:8080/"
        },
        "id": "g5o9fTMZHCL3",
        "outputId": "3e814a62-5708-45bb-db61-176f01dd5a49"
      },
      "execution_count": null,
      "outputs": [
        {
          "output_type": "execute_result",
          "data": {
            "text/plain": [
              "['Sovereignty', 'sovereignties', 'sovereignty']"
            ]
          },
          "metadata": {},
          "execution_count": 132
        }
      ]
    },
    {
      "cell_type": "code",
      "source": [
        "title = sorted([item for item in set(text6) if item.istitle()])\n",
        "title[:20]"
      ],
      "metadata": {
        "colab": {
          "base_uri": "https://localhost:8080/"
        },
        "id": "IQKJ84-QHJJO",
        "outputId": "b1575f79-396e-469f-9e27-4da2534a0267"
      },
      "execution_count": null,
      "outputs": [
        {
          "output_type": "execute_result",
          "data": {
            "text/plain": [
              "['A',\n",
              " 'Aaaaaaaaah',\n",
              " 'Aaaaaaaah',\n",
              " 'Aaaaaah',\n",
              " 'Aaaah',\n",
              " 'Aaaaugh',\n",
              " 'Aaagh',\n",
              " 'Aaah',\n",
              " 'Aaauggh',\n",
              " 'Aaaugh',\n",
              " 'Aaauugh',\n",
              " 'Aagh',\n",
              " 'Aah',\n",
              " 'Aauuggghhh',\n",
              " 'Aauuugh',\n",
              " 'Aauuuuugh',\n",
              " 'Aauuuves',\n",
              " 'Action',\n",
              " 'Actually',\n",
              " 'African']"
            ]
          },
          "metadata": {},
          "execution_count": 135
        }
      ]
    },
    {
      "cell_type": "code",
      "source": [
        "sorted(item for item in set(sent7) if item.isdigit())"
      ],
      "metadata": {
        "colab": {
          "base_uri": "https://localhost:8080/"
        },
        "id": "dS9zV_pjHau2",
        "outputId": "151b6363-2ff9-4afa-a84a-7124d357fe09"
      },
      "execution_count": null,
      "outputs": [
        {
          "output_type": "execute_result",
          "data": {
            "text/plain": [
              "['29', '61']"
            ]
          },
          "metadata": {},
          "execution_count": 136
        }
      ]
    },
    {
      "cell_type": "code",
      "source": [
        "sorted([w for w in set(text7) if '-' in w and 'index' in w])"
      ],
      "metadata": {
        "colab": {
          "base_uri": "https://localhost:8080/"
        },
        "id": "8ZVqKuHNHu5G",
        "outputId": "6e50004a-1d8b-4bd7-cedd-45d2b9c8fe10"
      },
      "execution_count": null,
      "outputs": [
        {
          "output_type": "execute_result",
          "data": {
            "text/plain": [
              "['Stock-index',\n",
              " 'index-arbitrage',\n",
              " 'index-fund',\n",
              " 'index-options',\n",
              " 'index-related',\n",
              " 'stock-index']"
            ]
          },
          "metadata": {},
          "execution_count": 137
        }
      ]
    },
    {
      "cell_type": "code",
      "source": [
        "sorted([wd for wd in set(text3) if wd.istitle() and len(wd) > 10])"
      ],
      "metadata": {
        "colab": {
          "base_uri": "https://localhost:8080/"
        },
        "id": "-h_ETBw0H9Me",
        "outputId": "7cc8854b-7656-48e4-f2b4-2626355e6fa5"
      },
      "execution_count": null,
      "outputs": [
        {
          "output_type": "execute_result",
          "data": {
            "text/plain": [
              "['Abelmizraim',\n",
              " 'Allonbachuth',\n",
              " 'Beerlahairoi',\n",
              " 'Canaanitish',\n",
              " 'Chedorlaomer',\n",
              " 'Girgashites',\n",
              " 'Hazarmaveth',\n",
              " 'Hazezontamar',\n",
              " 'Ishmeelites',\n",
              " 'Jegarsahadutha',\n",
              " 'Jehovahjireh',\n",
              " 'Kirjatharba',\n",
              " 'Melchizedek',\n",
              " 'Mesopotamia',\n",
              " 'Peradventure',\n",
              " 'Philistines',\n",
              " 'Zaphnathpaaneah']"
            ]
          },
          "metadata": {},
          "execution_count": 138
        }
      ]
    },
    {
      "cell_type": "code",
      "source": [
        "sorted(w for w in set(sent7) if not w.islower())"
      ],
      "metadata": {
        "colab": {
          "base_uri": "https://localhost:8080/"
        },
        "id": "QAU5k6VqIG91",
        "outputId": "dbac4763-9100-4ae4-e897-6cc03533eb53"
      },
      "execution_count": null,
      "outputs": [
        {
          "output_type": "execute_result",
          "data": {
            "text/plain": [
              "[',', '.', '29', '61', 'Nov.', 'Pierre', 'Vinken']"
            ]
          },
          "metadata": {},
          "execution_count": 139
        }
      ]
    },
    {
      "cell_type": "code",
      "source": [
        "sorted([t for t in set(text2) if 'cie' in t or 'cei' in t])"
      ],
      "metadata": {
        "colab": {
          "base_uri": "https://localhost:8080/"
        },
        "id": "ujzSf5rUINqU",
        "outputId": "29025707-e22c-4404-a5db-23809f7fcc23"
      },
      "execution_count": null,
      "outputs": [
        {
          "output_type": "execute_result",
          "data": {
            "text/plain": [
              "['ancient',\n",
              " 'ceiling',\n",
              " 'conceit',\n",
              " 'conceited',\n",
              " 'conceive',\n",
              " 'conscience',\n",
              " 'conscientious',\n",
              " 'conscientiously',\n",
              " 'deceitful',\n",
              " 'deceive',\n",
              " 'deceived',\n",
              " 'deceiving',\n",
              " 'deficiencies',\n",
              " 'deficiency',\n",
              " 'deficient',\n",
              " 'delicacies',\n",
              " 'excellencies',\n",
              " 'fancied',\n",
              " 'insufficiency',\n",
              " 'insufficient',\n",
              " 'legacies',\n",
              " 'perceive',\n",
              " 'perceived',\n",
              " 'perceiving',\n",
              " 'prescience',\n",
              " 'prophecies',\n",
              " 'receipt',\n",
              " 'receive',\n",
              " 'received',\n",
              " 'receiving',\n",
              " 'society',\n",
              " 'species',\n",
              " 'sufficient',\n",
              " 'sufficiently',\n",
              " 'undeceive',\n",
              " 'undeceiving']"
            ]
          },
          "metadata": {},
          "execution_count": 140
        }
      ]
    },
    {
      "cell_type": "code",
      "source": [
        "sorted(w for w in set(text1) if w.endswith('gress') or w.endswith('port'))  # latin sufixes -gress to walk, -port to carry"
      ],
      "metadata": {
        "colab": {
          "base_uri": "https://localhost:8080/"
        },
        "id": "40OAc6TIIVVM",
        "outputId": "3d1d631f-afca-46ff-fb0e-d1ae6b8030f8"
      },
      "execution_count": null,
      "outputs": [
        {
          "output_type": "execute_result",
          "data": {
            "text/plain": [
              "['disport',\n",
              " 'egress',\n",
              " 'import',\n",
              " 'passport',\n",
              " 'port',\n",
              " 'progress',\n",
              " 'report',\n",
              " 'seaport',\n",
              " 'sport',\n",
              " 'support',\n",
              " 'tigress']"
            ]
          },
          "metadata": {},
          "execution_count": 141
        }
      ]
    },
    {
      "cell_type": "markdown",
      "source": [
        "**Operating on Every Element**"
      ],
      "metadata": {
        "id": "WyNpKwtLJ7KV"
      }
    },
    {
      "cell_type": "code",
      "source": [
        "# [f(w) for ....]\n",
        "\n",
        "t1_len = [len(w) for w in text1]"
      ],
      "metadata": {
        "id": "kV4tWrNnKChI"
      },
      "execution_count": null,
      "outputs": []
    },
    {
      "cell_type": "code",
      "source": [
        "# [w.f() for ....]\n",
        "\n",
        "t1_cap = [w.upper() for w in text1]\n",
        "\n",
        "t1_cap[:20]"
      ],
      "metadata": {
        "colab": {
          "base_uri": "https://localhost:8080/"
        },
        "id": "Pael3w1aKO1e",
        "outputId": "75fc75b8-ec34-4d70-af4c-a32441b1672d"
      },
      "execution_count": null,
      "outputs": [
        {
          "output_type": "execute_result",
          "data": {
            "text/plain": [
              "['[',\n",
              " 'MOBY',\n",
              " 'DICK',\n",
              " 'BY',\n",
              " 'HERMAN',\n",
              " 'MELVILLE',\n",
              " '1851',\n",
              " ']',\n",
              " 'ETYMOLOGY',\n",
              " '.',\n",
              " '(',\n",
              " 'SUPPLIED',\n",
              " 'BY',\n",
              " 'A',\n",
              " 'LATE',\n",
              " 'CONSUMPTIVE',\n",
              " 'USHER',\n",
              " 'TO',\n",
              " 'A',\n",
              " 'GRAMMAR']"
            ]
          },
          "metadata": {},
          "execution_count": 146
        }
      ]
    },
    {
      "cell_type": "code",
      "source": [
        "count_all = len(text1)\n",
        "count_sensitive = len(set(text1))\n",
        "count_insensitive = len(set([word.lower() for word in text1])) # turn all word in lower then count disting word\n",
        "count_only_alpha = len(set([word.lower() for word in text1 if word.isalpha()]))\n",
        "\n",
        "print(count_all)\n",
        "print(count_sensitive)\n",
        "print(count_insensitive)\n",
        "print(count_only_alpha)"
      ],
      "metadata": {
        "colab": {
          "base_uri": "https://localhost:8080/"
        },
        "id": "YxyuJJ_8K1Y5",
        "outputId": "64240558-569f-498a-f407-130ab7e94c29"
      },
      "execution_count": null,
      "outputs": [
        {
          "output_type": "stream",
          "name": "stdout",
          "text": [
            "260819\n",
            "19317\n",
            "17231\n",
            "16948\n"
          ]
        }
      ]
    },
    {
      "cell_type": "markdown",
      "source": [
        "**Nested Code Blocks**"
      ],
      "metadata": {
        "id": "xaqUtMw2MOSu"
      }
    },
    {
      "cell_type": "markdown",
      "source": [
        "when statement is satisfied (True) then a block of code execute\n",
        "\n",
        "`if` statement is known as a **control structure** because it controls whether the code in the indented block will be run"
      ],
      "metadata": {
        "id": "pcEzhROtMudf"
      }
    },
    {
      "cell_type": "code",
      "source": [
        "word = 'cat'\n",
        "if len(word) < 5:\n",
        "  print('word length is less than 5')"
      ],
      "metadata": {
        "colab": {
          "base_uri": "https://localhost:8080/"
        },
        "id": "5YNAmUsLLr5f",
        "outputId": "0b9fe578-c097-4409-c412-432674fe0328"
      },
      "execution_count": null,
      "outputs": [
        {
          "output_type": "stream",
          "name": "stdout",
          "text": [
            "word length is less than 5\n"
          ]
        }
      ]
    },
    {
      "cell_type": "code",
      "source": [
        "word = 'cat'\n",
        "if len(word) >= 5:                                    # False \n",
        "  print('word length is greater than or equal to 5')  # Block of code doesn't run "
      ],
      "metadata": {
        "id": "TjUFb979NLHH"
      },
      "execution_count": null,
      "outputs": []
    },
    {
      "cell_type": "code",
      "source": [
        "for word in ['Call', 'me', 'Ishmael', '.']:   # for loop\n",
        "  print(word)"
      ],
      "metadata": {
        "colab": {
          "base_uri": "https://localhost:8080/"
        },
        "id": "reh8BdFiNpBQ",
        "outputId": "b6b17a26-8c75-4dfb-a587-2c9daaed4f1b"
      },
      "execution_count": null,
      "outputs": [
        {
          "output_type": "stream",
          "name": "stdout",
          "text": [
            "Call\n",
            "me\n",
            "Ishmael\n",
            ".\n"
          ]
        }
      ]
    },
    {
      "cell_type": "markdown",
      "source": [
        "**Looping with Conditions**"
      ],
      "metadata": {
        "id": "4AI23si3N_wX"
      }
    },
    {
      "cell_type": "code",
      "source": [
        "# combine the if and for statements \n",
        "\n",
        "sent1 = ['Call', 'me', 'Ishmael', '.']\n",
        "for w in sent1:\n",
        "  if w.endswith('l'):\n",
        "    print(w)"
      ],
      "metadata": {
        "colab": {
          "base_uri": "https://localhost:8080/"
        },
        "id": "H6Q4rcfGOIm7",
        "outputId": "7e7ab2bd-df02-4ac6-90ab-cdfb9500917f"
      },
      "execution_count": null,
      "outputs": [
        {
          "output_type": "stream",
          "name": "stdout",
          "text": [
            "Call\n",
            "Ishmael\n"
          ]
        }
      ]
    },
    {
      "cell_type": "code",
      "source": [
        "for token in sent1:\n",
        "  if token.islower():\n",
        "    print(token,'....','is a lowercase word')\n",
        "  elif token.istitle():\n",
        "    print(token,'....','is a titlecase word')\n",
        "  else:\n",
        "    print(token,'....','is punctuation')\n"
      ],
      "metadata": {
        "colab": {
          "base_uri": "https://localhost:8080/"
        },
        "id": "2CQreNYCOg6Z",
        "outputId": "f222d7e0-c75d-412a-b1a8-8ecec4da0945"
      },
      "execution_count": null,
      "outputs": [
        {
          "output_type": "stream",
          "name": "stdout",
          "text": [
            "Call .... is a titlecase word\n",
            "me .... is a lowercase word\n",
            "Ishmael .... is a titlecase word\n",
            ". .... is punctuation\n"
          ]
        }
      ]
    },
    {
      "cell_type": "code",
      "source": [
        "tricky = sorted([w for w in set(text2) if 'cie' in w or 'cei' in w])\n",
        "for word in tricky:\n",
        "  print(word, end=' ')"
      ],
      "metadata": {
        "colab": {
          "base_uri": "https://localhost:8080/"
        },
        "id": "YL4uQWBuPRWH",
        "outputId": "683c15da-1c37-4556-ed89-74c84e581cdd"
      },
      "execution_count": null,
      "outputs": [
        {
          "output_type": "stream",
          "name": "stdout",
          "text": [
            "ancient ceiling conceit conceited conceive conscience conscientious conscientiously deceitful deceive deceived deceiving deficiencies deficiency deficient delicacies excellencies fancied insufficiency insufficient legacies perceive perceived perceiving prescience prophecies receipt receive received receiving society species sufficient sufficiently undeceive undeceiving "
          ]
        }
      ]
    },
    {
      "cell_type": "markdown",
      "source": [
        "## **1.5 Automatic Natural Language Understanding**"
      ],
      "metadata": {
        "id": "Cf0vljja2hen"
      }
    },
    {
      "cell_type": "markdown",
      "source": [
        "Exploiting our knowledge of language and computation by **building useful language technologies**.\n",
        "\n",
        "At a purely practical levl, we all need help to **navigate** the universe of information locked up in **text on the Web**. \n",
        "\n",
        "Getting a cumputer to **answer questions automatically** involvese a range of language processing tasks, **including** **information extraction**, **inference**, and **summarization**, and would need to be carried out on a scale and with a level of robustness that is still beyound our current capabilities. \n",
        "\n",
        "On a more philosophical level, a long-standing challenge within artificial intelligence has been to **build intelligent machines**, and a major part of intelligent behavior is **understanding language**.\n",
        "\n",
        "**NLP technologies** become more mature, and robust methods for **analyzing unrestricted text** become more widespread, the prospect of **natural language understanding** has re-emerged as a **plausible goal**."
      ],
      "metadata": {
        "id": "4VdBKWhA2vQ2"
      }
    },
    {
      "cell_type": "markdown",
      "source": [
        "**Word Sense Disambiguation**"
      ],
      "metadata": {
        "id": "ihl06WTC5nX3"
      }
    },
    {
      "cell_type": "markdown",
      "source": [
        "In **word sense disambiguation** we want to work out which sense of a word was in tended in a given context.\n",
        "\n",
        "a. serve: help with food or drink; hold an office; put ball into play\n",
        "\n",
        "b. dish: plate; course of a meal; communications device\n",
        "\n",
        "\"he **served** the **dish**\" - \"serve\" and \"dish\" are being used with their food meanings.\n",
        "\n",
        "We automatically **disambiguate words** **using context**, exploiting the **simple fact that nearby words** have closely related meanings."
      ],
      "metadata": {
        "id": "iR95QJ7N6KKX"
      }
    },
    {
      "cell_type": "markdown",
      "source": [
        "Example of the **contextual effect**, consider the word by, which has several meaning\n",
        "\n",
        "a. The lost children were found by the searchers (agentive)\n",
        "\n",
        "b. The lost children were found by the mountain (locative)\n",
        "\n",
        "c. The lost children were found by the afternoon (temporal)"
      ],
      "metadata": {
        "id": "fgCmly5a8EZX"
      }
    },
    {
      "cell_type": "markdown",
      "source": [
        "**Pronoun Resolution**"
      ],
      "metadata": {
        "id": "Bro0e8j38uz4"
      }
    },
    {
      "cell_type": "markdown",
      "source": [
        "A deeper kind of language understanding is to work out **\"who did what to whom,\"** i.e., to detect the subjects and objects of verbs.\n",
        "\n",
        "a. The thieves stole the paintings. They were subsequently sold.\n",
        "\n",
        "b. The thieves stole the paintings. They were subsequently caught.\n",
        "\n",
        "c. The thieves stole the paintings. They were subsequently found.\n",
        "\n",
        "\n",
        "Answering this questing involves finding the **antecedent** of the pronoun they, either thieves or paintings. \n",
        "\n",
        "Computational techniques for tackling this problem include:\n",
        "\n",
        "* **anaphora resolution** -- indentifying what a pronoun or noun phrase refers to.\n",
        "\n",
        "* **sementic role labeling** -- identifying how noun phrase relates to the verb (as agent, patient, instrument, and so on)."
      ],
      "metadata": {
        "id": "24-lxI-N8yXn"
      }
    },
    {
      "cell_type": "markdown",
      "source": [
        "**Generating Language Output**"
      ],
      "metadata": {
        "id": "IdcdGG9BAdpn"
      }
    },
    {
      "cell_type": "markdown",
      "source": [
        "solve problems  --> generating language output\n",
        "\n",
        "If we can automatically **solve such problems** of language understanding, we will be able to move on to tasks that involve **generating languaege output**, such as **question answering** and **machine translation.** In the first case, a machine should be able to answer a user's questions relating to collection of texts:\n",
        "\n",
        "a. Text: ...The thieves stole the paintings. They were subsequently sold. ...\n",
        "\n",
        "b. Human: Who or what was sold?\n",
        "\n",
        "C. Machine: The paintings."
      ],
      "metadata": {
        "id": "fOb0cLj5AgYf"
      }
    },
    {
      "cell_type": "markdown",
      "source": [
        "**Machine Translation**"
      ],
      "metadata": {
        "id": "qTmFWlU-Druo"
      }
    },
    {
      "cell_type": "markdown",
      "source": [
        "Machine translation(MT): Since The Cold War,MT provide high-quality, idiomatic translation between any pair of languages."
      ],
      "metadata": {
        "id": "RfEN0ubDEGuH"
      }
    },
    {
      "cell_type": "markdown",
      "source": [
        "Pig or John, who was happy?\n",
        "\n",
        "\n",
        "0. The pig that John found looked happy\n",
        "\n",
        "1. Das Schwein, das John fand, schaute glücklich\n",
        "\n",
        "2. The pig, which found john, looked happy"
      ],
      "metadata": {
        "id": "PMjwoKJ4IQPx"
      }
    },
    {
      "cell_type": "markdown",
      "source": [
        "Machine translation is difficult because a given word could have **several possible translations** (depending on its meaning), and because word order must be changed in keeping with the grammatical structure of the target language. \n",
        "\n",
        "Today, these **difficulties are being faced** by **collecting massive** quantities of **parallel texts**, this process called **text alignment.**"
      ],
      "metadata": {
        "id": "73aynd_SIOWK"
      }
    },
    {
      "cell_type": "markdown",
      "source": [
        "**Spoken Dialogue Systems**"
      ],
      "metadata": {
        "id": "yjCVljklKJ6n"
      }
    },
    {
      "cell_type": "markdown",
      "source": [
        "Turing Test: distinguish a respond to a user's text input whether human or not."
      ],
      "metadata": {
        "id": "MA8fKDEoMS2Y"
      }
    },
    {
      "cell_type": "markdown",
      "source": [
        "**The architecture of a simple dialogue system**. \n",
        "\n",
        "* Along the top of the diagram, moving from left to right, is a \"pipeline\" of some language understanding **components.** These map from speech input via syntactic parssing to some kind of meaning representation. \n",
        "\n",
        "* Along the middle, moving from right to left, is the reverse pipeline of components for converting concepts to speech. These components make up the dynamic aspects of the system.\n",
        "\n",
        "* At the bottom of the diagram are some representative bodies of static information: the repositories of language-related data that the processing components draw on to do their work."
      ],
      "metadata": {
        "id": "ojAT1_NxRnKp"
      }
    },
    {
      "cell_type": "markdown",
      "source": [
        "![Simple pipeline architecture.jpg](data:image/jpeg;base64,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)"
      ],
      "metadata": {
        "id": "zCz-bDhBP6Dw"
      }
    },
    {
      "cell_type": "markdown",
      "source": [
        "**Figure**: Simple pipeline architecture for a spoken dialogue system: Spoken input (top left) is analyzed, words are recognized, sentences are parsed and interpreted in context, application-specific actions take place (top right); a response is planed, realized as a syntactic structure, then to suitably inflected words, and finally to spoken output; different types of linguistic knowledge inform each stage of the process."
      ],
      "metadata": {
        "id": "NVv_g6VGP9Oo"
      }
    },
    {
      "cell_type": "markdown",
      "source": [
        "**Textual Entailment**"
      ],
      "metadata": {
        "id": "VF_PC8LUS5B5"
      }
    },
    {
      "cell_type": "markdown",
      "source": [
        "Language understanding called Recognizing Textual Entailemnt (RTE). The RTE challenges provide data that allow competitors to develop their systems, but not enough data for \"brute force\" machine learning teachniques\n",
        "\n",
        "\n"
      ],
      "metadata": {
        "id": "vgARcQw0UxOR"
      }
    },
    {
      "cell_type": "markdown",
      "source": [
        "a. Text: David Golinkin is the editor or author of 18 books, and over 150 responsa, articles, sermons and books\n",
        "\n",
        "b. Hypothesis: Golinkin has written 18 books\n",
        "\n",
        "In order to determine whether the hypothesis is supported by the text, the system needs the following backgroud knowledge: (i) if someone is an author of a book, then he/she has written that book; (ii) if someone is an editor of a book, then he/she has not wrtten (all of) that book; (iii) if someone is editor or author of 18 books, then one cannot conclude that he/she is author of 18 books."
      ],
      "metadata": {
        "id": "v8cg1k_-VMIB"
      }
    },
    {
      "cell_type": "markdown",
      "source": [
        "wiki: a directional relation between text fragments. The relation holds whenever the truth of one text fragment follows from another text\n",
        "\n",
        "Me: broke text into pieces and use other resource to support the hypothesis of each text"
      ],
      "metadata": {
        "id": "iFnXf1M5bLb5"
      }
    },
    {
      "cell_type": "markdown",
      "source": [
        "**Limitations of NLP**"
      ],
      "metadata": {
        "id": "cLa0YkxaWLwZ"
      }
    },
    {
      "cell_type": "markdown",
      "source": [
        "NLP still **cannot** perform **common-sense reasoning** or draw on world knowledge in a general and robust manner.\n",
        "\n",
        "NLP research has been to make progress on the difficult task of building technologies that \"**understand language**\" using superficial yet powerful techniques."
      ],
      "metadata": {
        "id": "6IXsEsXHXlWJ"
      }
    },
    {
      "cell_type": "markdown",
      "source": [
        "# <center><b>Chapter 2: Accessing Text Corpora and Lexical Resources</b></center>"
      ],
      "metadata": {
        "id": "0kU2n_h3aZZg"
      }
    },
    {
      "cell_type": "markdown",
      "source": [
        "Practical work in Natural Language Processing typically uses large **bodies of linguistic data**, or **corpora.**\n",
        "\n",
        "\n",
        "\n",
        "\n",
        "il corpo, el cuerpo, der Körper, het lichaam (proto-West Germanic), en kropp"
      ],
      "metadata": {
        "id": "kzsz97ymLg-w"
      }
    },
    {
      "cell_type": "markdown",
      "source": [
        "The goal of this chapter is to answer the following questions:\n",
        "\n",
        "1. **What** are some useful text **corpora** and **lexical resources**, and how can we **access** them with Python?\n",
        "\n",
        "2. Which **Python constructs** are most helpful for his work?\n",
        "\n",
        "3. How do we **avoid repreating** ourselves when writing Python code?"
      ],
      "metadata": {
        "id": "jkxSq1yNNkkh"
      }
    },
    {
      "cell_type": "markdown",
      "source": [
        "## **2.1 Accessing Text Corpera**"
      ],
      "metadata": {
        "id": "icyzeCeZPRRx"
      }
    },
    {
      "cell_type": "markdown",
      "source": [
        "**Gutenberg Corpus**"
      ],
      "metadata": {
        "id": "GBP3fHI8PW8J"
      }
    },
    {
      "cell_type": "markdown",
      "source": [
        "a small selection of texts from the Project Gutenberg"
      ],
      "metadata": {
        "id": "F6G95U7zPeIx"
      }
    },
    {
      "cell_type": "code",
      "source": [
        "import nltk\n",
        "nltk.download('gutenberg')\n",
        "nltk.download('punkt')"
      ],
      "metadata": {
        "colab": {
          "base_uri": "https://localhost:8080/"
        },
        "id": "GPph6RpXcfqy",
        "outputId": "269e6507-e1bc-41bd-82b6-5041f4292699"
      },
      "execution_count": 75,
      "outputs": [
        {
          "output_type": "stream",
          "name": "stderr",
          "text": [
            "[nltk_data] Downloading package gutenberg to /root/nltk_data...\n",
            "[nltk_data]   Package gutenberg is already up-to-date!\n",
            "[nltk_data] Downloading package punkt to /root/nltk_data...\n",
            "[nltk_data]   Package punkt is already up-to-date!\n"
          ]
        },
        {
          "output_type": "execute_result",
          "data": {
            "text/plain": [
              "True"
            ]
          },
          "metadata": {},
          "execution_count": 75
        }
      ]
    },
    {
      "cell_type": "code",
      "source": [
        "from nltk.corpus import gutenberg"
      ],
      "metadata": {
        "id": "0ntx0kpIPnLz"
      },
      "execution_count": 76,
      "outputs": []
    },
    {
      "cell_type": "code",
      "source": [
        "gutenberg.fileids()"
      ],
      "metadata": {
        "colab": {
          "base_uri": "https://localhost:8080/"
        },
        "id": "k8TFVovMRQ2Z",
        "outputId": "8f0a60f2-eb87-4251-80dc-137d3e443dee"
      },
      "execution_count": 77,
      "outputs": [
        {
          "output_type": "execute_result",
          "data": {
            "text/plain": [
              "['austen-emma.txt',\n",
              " 'austen-persuasion.txt',\n",
              " 'austen-sense.txt',\n",
              " 'bible-kjv.txt',\n",
              " 'blake-poems.txt',\n",
              " 'bryant-stories.txt',\n",
              " 'burgess-busterbrown.txt',\n",
              " 'carroll-alice.txt',\n",
              " 'chesterton-ball.txt',\n",
              " 'chesterton-brown.txt',\n",
              " 'chesterton-thursday.txt',\n",
              " 'edgeworth-parents.txt',\n",
              " 'melville-moby_dick.txt',\n",
              " 'milton-paradise.txt',\n",
              " 'shakespeare-caesar.txt',\n",
              " 'shakespeare-hamlet.txt',\n",
              " 'shakespeare-macbeth.txt',\n",
              " 'whitman-leaves.txt']"
            ]
          },
          "metadata": {},
          "execution_count": 77
        }
      ]
    },
    {
      "cell_type": "code",
      "source": [
        "emma = gutenberg.words('austen-emma.txt')"
      ],
      "metadata": {
        "id": "f9SsSnVVPvrp"
      },
      "execution_count": 78,
      "outputs": []
    },
    {
      "cell_type": "code",
      "source": [
        "len(emma)"
      ],
      "metadata": {
        "colab": {
          "base_uri": "https://localhost:8080/"
        },
        "id": "Z_IRt2xbSUtr",
        "outputId": "6242ff45-effd-4b44-e8fe-bc8d2d13881a"
      },
      "execution_count": 79,
      "outputs": [
        {
          "output_type": "execute_result",
          "data": {
            "text/plain": [
              "192427"
            ]
          },
          "metadata": {},
          "execution_count": 79
        }
      ]
    },
    {
      "cell_type": "code",
      "source": [
        "emma = nltk.Text(nltk.corpus.gutenberg.words('austen-emma.txt'))\n",
        "emma.concordance(\"surprize\")"
      ],
      "metadata": {
        "colab": {
          "base_uri": "https://localhost:8080/"
        },
        "id": "XpN-LBFXUF4z",
        "outputId": "8b8f3a30-26b1-45cf-fc29-11f1c71ecfd8"
      },
      "execution_count": 80,
      "outputs": [
        {
          "output_type": "stream",
          "name": "stdout",
          "text": [
            "Displaying 25 of 37 matches:\n",
            "er father , was sometimes taken by surprize at his being still able to pity ` \n",
            "hem do the other any good .\" \" You surprize me ! Emma must do Harriet good : a\n",
            "Knightley actually looked red with surprize and displeasure , as he stood up ,\n",
            "r . Elton , and found to his great surprize , that Mr . Elton was actually on \n",
            "d aid .\" Emma saw Mrs . Weston ' s surprize , and felt that it must be great ,\n",
            "father was quite taken up with the surprize of so sudden a journey , and his f\n",
            "y , in all the favouring warmth of surprize and conjecture . She was , moreove\n",
            "he appeared , to have her share of surprize , introduction , and pleasure . Th\n",
            "ir plans ; and it was an agreeable surprize to her , therefore , to perceive t\n",
            "talking aunt had taken me quite by surprize , it must have been the death of m\n",
            "f all the dialogue which ensued of surprize , and inquiry , and congratulation\n",
            " the present . They might chuse to surprize her .\" Mrs . Cole had many to agre\n",
            "the mode of it , the mystery , the surprize , is more like a young woman ' s s\n",
            " to her song took her agreeably by surprize -- a second , slightly but correct\n",
            "\" \" Oh ! no -- there is nothing to surprize one at all .-- A pretty fortune ; \n",
            "t to be considered . Emma ' s only surprize was that Jane Fairfax should accep\n",
            "of your admiration may take you by surprize some day or other .\" Mr . Knightle\n",
            "ation for her will ever take me by surprize .-- I never had a thought of her i\n",
            " expected by the best judges , for surprize -- but there was great joy . Mr . \n",
            " sound of at first , without great surprize . \" So unreasonably early !\" she w\n",
            "d Frank Churchill , with a look of surprize and displeasure .-- \" That is easy\n",
            "; and Emma could imagine with what surprize and mortification she must be retu\n",
            "tled that Jane should go . Quite a surprize to me ! I had not the least idea !\n",
            " . It is impossible to express our surprize . He came to speak to his father o\n",
            "g engaged !\" Emma even jumped with surprize ;-- and , horror - struck , exclai\n"
          ]
        }
      ]
    },
    {
      "cell_type": "code",
      "source": [
        "for fileid in gutenberg.fileids():\n",
        "  print(fileid)"
      ],
      "metadata": {
        "colab": {
          "base_uri": "https://localhost:8080/"
        },
        "id": "VG50t55YVhPz",
        "outputId": "e95421f5-4815-4280-a3d2-467cc4748120"
      },
      "execution_count": 81,
      "outputs": [
        {
          "output_type": "stream",
          "name": "stdout",
          "text": [
            "austen-emma.txt\n",
            "austen-persuasion.txt\n",
            "austen-sense.txt\n",
            "bible-kjv.txt\n",
            "blake-poems.txt\n",
            "bryant-stories.txt\n",
            "burgess-busterbrown.txt\n",
            "carroll-alice.txt\n",
            "chesterton-ball.txt\n",
            "chesterton-brown.txt\n",
            "chesterton-thursday.txt\n",
            "edgeworth-parents.txt\n",
            "melville-moby_dick.txt\n",
            "milton-paradise.txt\n",
            "shakespeare-caesar.txt\n",
            "shakespeare-hamlet.txt\n",
            "shakespeare-macbeth.txt\n",
            "whitman-leaves.txt\n"
          ]
        }
      ]
    },
    {
      "cell_type": "code",
      "source": [
        "for fileid in gutenberg.fileids():\n",
        "  num_chars = len(gutenberg.raw(fileid))\n",
        "  num_words = len(gutenberg.words(fileid))\n",
        "  num_sents = len(gutenberg.sents(fileid))\n",
        "  num_vocab = len(set([w.lower() for w in gutenberg.words(fileid)]))\n",
        "  # average word length, average sentence length, the number of tiems each vocabulary item appears\n",
        "  print(int(num_chars/num_words), int(num_words/num_sents), int(num_words/num_vocab), fileid)"
      ],
      "metadata": {
        "colab": {
          "base_uri": "https://localhost:8080/"
        },
        "id": "V9kLUKUlShuR",
        "outputId": "2fc54875-ee37-4cbe-a16f-501766dbcab7"
      },
      "execution_count": 82,
      "outputs": [
        {
          "output_type": "stream",
          "name": "stdout",
          "text": [
            "4 24 26 austen-emma.txt\n",
            "4 26 16 austen-persuasion.txt\n",
            "4 28 22 austen-sense.txt\n",
            "4 33 79 bible-kjv.txt\n",
            "4 19 5 blake-poems.txt\n",
            "4 19 14 bryant-stories.txt\n",
            "4 17 12 burgess-busterbrown.txt\n",
            "4 20 12 carroll-alice.txt\n",
            "4 20 11 chesterton-ball.txt\n",
            "4 22 11 chesterton-brown.txt\n",
            "4 18 10 chesterton-thursday.txt\n",
            "4 20 24 edgeworth-parents.txt\n",
            "4 25 15 melville-moby_dick.txt\n",
            "4 52 10 milton-paradise.txt\n",
            "4 11 8 shakespeare-caesar.txt\n",
            "4 12 7 shakespeare-hamlet.txt\n",
            "4 12 6 shakespeare-macbeth.txt\n",
            "4 36 12 whitman-leaves.txt\n"
          ]
        }
      ]
    },
    {
      "cell_type": "code",
      "source": [
        "macbeth_sentences = gutenberg.sents('shakespeare-macbeth.txt')\n",
        "macbeth_sentences"
      ],
      "metadata": {
        "colab": {
          "base_uri": "https://localhost:8080/"
        },
        "id": "NELJFUziZM2y",
        "outputId": "4680b71b-b846-4d1b-fe87-8317b4261fe7"
      },
      "execution_count": 83,
      "outputs": [
        {
          "output_type": "execute_result",
          "data": {
            "text/plain": [
              "[['[', 'The', 'Tragedie', 'of', 'Macbeth', 'by', 'William', 'Shakespeare', '1603', ']'], ['Actus', 'Primus', '.'], ...]"
            ]
          },
          "metadata": {},
          "execution_count": 83
        }
      ]
    },
    {
      "cell_type": "markdown",
      "source": [
        "**Web and Chat Text**"
      ],
      "metadata": {
        "id": "NfBCupd1gWnZ"
      }
    },
    {
      "cell_type": "markdown",
      "source": [
        "less formal language"
      ],
      "metadata": {
        "id": "CDBAh6AMgjbC"
      }
    },
    {
      "cell_type": "code",
      "source": [
        "from nltk.corpus import webtext"
      ],
      "metadata": {
        "id": "IQEVMnOWgtzb"
      },
      "execution_count": 84,
      "outputs": []
    },
    {
      "cell_type": "code",
      "source": [
        "for fileid in webtext.fileids():\n",
        "  print(fileid,'---',webtext.raw(fileid)[:65], '...')"
      ],
      "metadata": {
        "colab": {
          "base_uri": "https://localhost:8080/"
        },
        "id": "S-iViGjRgyFS",
        "outputId": "7405a065-ca52-4e22-dd58-a975ab303507"
      },
      "execution_count": 86,
      "outputs": [
        {
          "output_type": "stream",
          "name": "stdout",
          "text": [
            "firefox.txt --- Cookie Manager: \"Don't allow sites that set removed cookies to se ...\n",
            "grail.txt --- SCENE 1: [wind] [clop clop clop] \n",
            "KING ARTHUR: Whoa there!  [clop ...\n",
            "overheard.txt --- White guy: So, do you have any plans for this evening?\n",
            "Asian girl ...\n",
            "pirates.txt --- PIRATES OF THE CARRIBEAN: DEAD MAN'S CHEST, by Ted Elliott & Terr ...\n",
            "singles.txt --- 25 SEXY MALE, seeks attrac older single lady, for discreet encoun ...\n",
            "wine.txt --- Lovely delicate, fragrant Rhone wine. Polished leather and strawb ...\n"
          ]
        }
      ]
    },
    {
      "cell_type": "markdown",
      "source": [
        "There is also a corpus of instant messaging chat sessions"
      ],
      "metadata": {
        "id": "MzNgie-lhcc7"
      }
    },
    {
      "cell_type": "code",
      "source": [
        "from nltk.corpus import nps_chat"
      ],
      "metadata": {
        "id": "4aUHuz6Ohuln"
      },
      "execution_count": 89,
      "outputs": []
    },
    {
      "cell_type": "code",
      "source": [
        "chatroom = nps_chat.posts('10-19-20s_706posts.xml')\n",
        "chatroom[123]"
      ],
      "metadata": {
        "colab": {
          "base_uri": "https://localhost:8080/"
        },
        "id": "ZbrwlieJh8N7",
        "outputId": "9e8e8c88-da95-4c66-803c-f3e29abe15ff"
      },
      "execution_count": 91,
      "outputs": [
        {
          "output_type": "execute_result",
          "data": {
            "text/plain": [
              "['i',\n",
              " 'do',\n",
              " \"n't\",\n",
              " 'want',\n",
              " 'hot',\n",
              " 'pics',\n",
              " 'of',\n",
              " 'a',\n",
              " 'female',\n",
              " ',',\n",
              " 'I',\n",
              " 'can',\n",
              " 'look',\n",
              " 'in',\n",
              " 'a',\n",
              " 'mirror',\n",
              " '.']"
            ]
          },
          "metadata": {},
          "execution_count": 91
        }
      ]
    },
    {
      "cell_type": "code",
      "source": [
        "chatroom[124]"
      ],
      "metadata": {
        "colab": {
          "base_uri": "https://localhost:8080/"
        },
        "id": "b0mZlxI6iWtm",
        "outputId": "11a0df4f-ede6-4091-96fc-a2f166ebfb06"
      },
      "execution_count": 95,
      "outputs": [
        {
          "output_type": "execute_result",
          "data": {
            "text/plain": [
              "['hi', 'U64']"
            ]
          },
          "metadata": {},
          "execution_count": 95
        }
      ]
    },
    {
      "cell_type": "markdown",
      "source": [
        "**Brown Corpus**"
      ],
      "metadata": {
        "id": "3JSJQHW3ivsy"
      }
    },
    {
      "cell_type": "markdown",
      "source": [
        "This corpus contains text from 500 soures, and the sources have been categorized by genre, such as news, editorial\n",
        "\n",
        "The Brown Corpus is a convenient resource for **studying systematic differences between genres,** a kind of linguistic inquire known as **stylistics.** "
      ],
      "metadata": {
        "id": "gq0JybaFi9cM"
      }
    },
    {
      "cell_type": "markdown",
      "source": [
        "<table>\n",
        "  <tr>\n",
        "    <th colspan=\"4\"><h2>Example document for each section of the Brown Corpus</h2></th>\n",
        "  </tr>\n",
        "  <tr>\n",
        "    <th>ID</th>\n",
        "    <th>File</th>\n",
        "    <th>Genre</th>\n",
        "    <th>Description</th>\n",
        "    <th\n",
        "  </tr>\n",
        "  <tr>\n",
        "    <td>A16</td>\n",
        "    <td>ca16</td>\n",
        "    <td>news</td>\n",
        "    <td>Chicago Tribune: Society Reportage</td>\n",
        "  </tr>\n",
        "  <tr>\n",
        "    <td>B02</td>\n",
        "    <td>cb02</td>\n",
        "    <td>editorial</td>\n",
        "    <td>Christian Science Monitor: Editorials</td>\n",
        "  </tr>\n",
        "  <tr>\n",
        "    <td>C17</td>\n",
        "    <td>cc17</td>\n",
        "    <td>review</td>\n",
        "    <td>Time Magazine: Reviews</td>\n",
        "  </tr>\n",
        "  <tr>\n",
        "    <td>D12</td>\n",
        "    <td>cd12</td>\n",
        "    <td>religion</td>\n",
        "    <td>Underwood: Probing the Ethics of Realtors</td>\n",
        "  </tr>\n",
        "  <tr>\n",
        "    <td>E36</td>\n",
        "    <td>ce36</td>\n",
        "    <td>hobbies</td>\n",
        "    <td>Norling: REnting a Car in Europe</td>\n",
        "  </tr>\n",
        "  <tr>\n",
        "    <td>F25</td>\n",
        "    <td>cf25</td>\n",
        "    <td>lore</td>\n",
        "    <td>Boroff: Jewish Teenage Culture</td>\n",
        "  </tr>\n",
        "  <tr>\n",
        "    <td>G22</td>\n",
        "    <td>cg22</td>\n",
        "    <td>belles_letteres</td>\n",
        "    <td>Reiner: Coping with Runaway Technology</td>\n",
        "  </tr>\n",
        "  <tr>\n",
        "    <td>H15</td>\n",
        "    <td>ch15</td>\n",
        "    <td>government</td>\n",
        "    <td>US Office of Civil and Defence Mobilization: The Family Fallout Shelter</td>\n",
        "  </tr>\n",
        "  <tr>\n",
        "    <td>J17</td>\n",
        "    <td>cj19</td>\n",
        "    <td>learned</td>\n",
        "    <td>Mosteller: Probability with Statistical Applications</td>\n",
        "  </tr>\n",
        "  <tr>\n",
        "    <td>K04</td>\n",
        "    <td>ck04</td>\n",
        "    <td>fiction</td>\n",
        "    <td>W.E.B. Du bois: Worlds of Color</td>\n",
        "  </tr>\n",
        "  <tr>\n",
        "    <td>L13</td>\n",
        "    <td>cl13</td>\n",
        "    <td>mystery</td>\n",
        "    <td>Hitchens: Footsteps in the Night</td>\n",
        "  </tr>\n",
        "  <tr>\n",
        "    <td>M01</td>\n",
        "    <td>cm01</td>\n",
        "    <td>science_fiction</td>\n",
        "    <td>Heinlein: Stranger in a Strange Land</td>\n",
        "  </tr>\n",
        "  <tr>\n",
        "    <td>N14</td>\n",
        "    <td>cn15</td>\n",
        "    <td>adventure</td>\n",
        "    <td>Field: Rattlesnake Ridge</td>\n",
        "  </tr>\n",
        "  <tr>\n",
        "    <td>P12</td>\n",
        "    <td>cp12</td>\n",
        "    <td>romance</td>\n",
        "    <td>Callaghan: A Passion in Rome</td>\n",
        "  </tr>\n",
        "  <tr>\n",
        "    <td>R06</td>\n",
        "    <td>cr06</td>\n",
        "    <td>humor</td>\n",
        "    <td>Thurber: The Future, If Any, of Comedy</td>\n",
        "  </tr>\n",
        "</table>"
      ],
      "metadata": {
        "id": "EIg5PoNtjKk0"
      }
    },
    {
      "cell_type": "code",
      "source": [
        "from nltk.corpus import brown"
      ],
      "metadata": {
        "id": "R7RPFdlRjJzL"
      },
      "execution_count": 96,
      "outputs": []
    },
    {
      "cell_type": "code",
      "source": [
        "brown.categories()"
      ],
      "metadata": {
        "colab": {
          "base_uri": "https://localhost:8080/"
        },
        "id": "d-zOHGEtlurt",
        "outputId": "b65b9e60-64b4-4a26-bd01-b696ffda8735"
      },
      "execution_count": 97,
      "outputs": [
        {
          "output_type": "execute_result",
          "data": {
            "text/plain": [
              "['adventure',\n",
              " 'belles_lettres',\n",
              " 'editorial',\n",
              " 'fiction',\n",
              " 'government',\n",
              " 'hobbies',\n",
              " 'humor',\n",
              " 'learned',\n",
              " 'lore',\n",
              " 'mystery',\n",
              " 'news',\n",
              " 'religion',\n",
              " 'reviews',\n",
              " 'romance',\n",
              " 'science_fiction']"
            ]
          },
          "metadata": {},
          "execution_count": 97
        }
      ]
    },
    {
      "cell_type": "code",
      "source": [
        "news_text = brown.words(categories='news')\n",
        "fdist = nltk.FreqDist([w.lower() for w in news_text])\n",
        "models = ['can', 'could', 'may', 'might', 'shall', 'should', 'must', 'will', \"ought\"]\n",
        "for m in models:\n",
        "  print(m + ':', fdist[m])"
      ],
      "metadata": {
        "colab": {
          "base_uri": "https://localhost:8080/"
        },
        "id": "hO2Jco4NmSYr",
        "outputId": "2d1d06da-2949-42fa-b9b9-646be82110a3"
      },
      "execution_count": 102,
      "outputs": [
        {
          "output_type": "stream",
          "name": "stdout",
          "text": [
            "can: 94\n",
            "could: 87\n",
            "may: 93\n",
            "might: 38\n",
            "shall: 5\n",
            "should: 61\n",
            "must: 53\n",
            "will: 389\n",
            "ought: 1\n"
          ]
        }
      ]
    },
    {
      "cell_type": "code",
      "source": [
        "gov_text = brown.words(categories='government')\n",
        "fdist = nltk.FreqDist([w.lower() for w in gov_text])\n",
        "models = ['who', 'what', 'where', 'When', 'why', 'how']\n",
        "for m in models:\n",
        "  print(m + ':', fdist[m])"
      ],
      "metadata": {
        "colab": {
          "base_uri": "https://localhost:8080/"
        },
        "id": "KmpgkOIwngB7",
        "outputId": "b4a1289e-98e6-4f57-9eb5-ee1c81dfa196"
      },
      "execution_count": 106,
      "outputs": [
        {
          "output_type": "stream",
          "name": "stdout",
          "text": [
            "who: 77\n",
            "what: 58\n",
            "where: 48\n",
            "When: 0\n",
            "why: 6\n",
            "how: 27\n"
          ]
        }
      ]
    },
    {
      "cell_type": "code",
      "source": [
        "cfd = nltk.ConditionalFreqDist(\n",
        "    (genre, word)\n",
        "    for genre in brown.categories()\n",
        "    for word in brown.words(categories=genre))\n",
        "\n",
        "genres = ['news', 'religion', 'hobbies', 'science_fiction', 'romance', 'humor']\n",
        "models = ['can', 'could', 'may', 'might', 'shall', 'should', 'must', 'will', \"ought\"]\n",
        "cfd.tabulate(conditions=genres, samples=models)"
      ],
      "metadata": {
        "colab": {
          "base_uri": "https://localhost:8080/"
        },
        "id": "Nwpu1uECoSOL",
        "outputId": "868bd945-7796-483d-f3c8-ea2107d720eb"
      },
      "execution_count": 108,
      "outputs": [
        {
          "output_type": "stream",
          "name": "stdout",
          "text": [
            "                   can  could    may  might  shall should   must   will  ought \n",
            "           news     93     86     66     38      5     59     50    389      1 \n",
            "       religion     82     59     78     12     21     45     54     71      4 \n",
            "        hobbies    268     58    131     22      5     73     83    264      0 \n",
            "science_fiction     16     49      4     12      3      3      8     16      1 \n",
            "        romance     74    193     11     51      3     32     45     43     14 \n",
            "          humor     16     30      8      8      2      7      9     13      2 \n"
          ]
        }
      ]
    },
    {
      "cell_type": "markdown",
      "source": [
        "**Reuters Corpus**"
      ],
      "metadata": {
        "id": "-AzL0wkGpcdN"
      }
    },
    {
      "cell_type": "markdown",
      "source": [
        "Contains **10,788 news documents** totaling 1.3 million words. The documents have been **classified into 90 topics**, and **grouped into two sets**, called \"training\" and \"test\"\n",
        "\n",
        "The Reuters Corpus categories **overlap with each other**, because a news story often covers multiple topics"
      ],
      "metadata": {
        "id": "gm67Usw7pe20"
      }
    },
    {
      "cell_type": "code",
      "source": [
        "from nltk.corpus import reuters"
      ],
      "metadata": {
        "id": "sotYmnh_pGsd"
      },
      "execution_count": 109,
      "outputs": []
    },
    {
      "cell_type": "code",
      "source": [
        "reuters.fileids() # training and test set"
      ],
      "metadata": {
        "id": "nSIPVJ4gqFOb"
      },
      "execution_count": null,
      "outputs": []
    },
    {
      "cell_type": "code",
      "source": [
        "reuters.categories()"
      ],
      "metadata": {
        "colab": {
          "base_uri": "https://localhost:8080/"
        },
        "id": "o7Ins2qCqY7T",
        "outputId": "833abd3c-7934-463b-9e03-330103aefe31"
      },
      "execution_count": 112,
      "outputs": [
        {
          "output_type": "execute_result",
          "data": {
            "text/plain": [
              "['acq',\n",
              " 'alum',\n",
              " 'barley',\n",
              " 'bop',\n",
              " 'carcass',\n",
              " 'castor-oil',\n",
              " 'cocoa',\n",
              " 'coconut',\n",
              " 'coconut-oil',\n",
              " 'coffee',\n",
              " 'copper',\n",
              " 'copra-cake',\n",
              " 'corn',\n",
              " 'cotton',\n",
              " 'cotton-oil',\n",
              " 'cpi',\n",
              " 'cpu',\n",
              " 'crude',\n",
              " 'dfl',\n",
              " 'dlr',\n",
              " 'dmk',\n",
              " 'earn',\n",
              " 'fuel',\n",
              " 'gas',\n",
              " 'gnp',\n",
              " 'gold',\n",
              " 'grain',\n",
              " 'groundnut',\n",
              " 'groundnut-oil',\n",
              " 'heat',\n",
              " 'hog',\n",
              " 'housing',\n",
              " 'income',\n",
              " 'instal-debt',\n",
              " 'interest',\n",
              " 'ipi',\n",
              " 'iron-steel',\n",
              " 'jet',\n",
              " 'jobs',\n",
              " 'l-cattle',\n",
              " 'lead',\n",
              " 'lei',\n",
              " 'lin-oil',\n",
              " 'livestock',\n",
              " 'lumber',\n",
              " 'meal-feed',\n",
              " 'money-fx',\n",
              " 'money-supply',\n",
              " 'naphtha',\n",
              " 'nat-gas',\n",
              " 'nickel',\n",
              " 'nkr',\n",
              " 'nzdlr',\n",
              " 'oat',\n",
              " 'oilseed',\n",
              " 'orange',\n",
              " 'palladium',\n",
              " 'palm-oil',\n",
              " 'palmkernel',\n",
              " 'pet-chem',\n",
              " 'platinum',\n",
              " 'potato',\n",
              " 'propane',\n",
              " 'rand',\n",
              " 'rape-oil',\n",
              " 'rapeseed',\n",
              " 'reserves',\n",
              " 'retail',\n",
              " 'rice',\n",
              " 'rubber',\n",
              " 'rye',\n",
              " 'ship',\n",
              " 'silver',\n",
              " 'sorghum',\n",
              " 'soy-meal',\n",
              " 'soy-oil',\n",
              " 'soybean',\n",
              " 'strategic-metal',\n",
              " 'sugar',\n",
              " 'sun-meal',\n",
              " 'sun-oil',\n",
              " 'sunseed',\n",
              " 'tea',\n",
              " 'tin',\n",
              " 'trade',\n",
              " 'veg-oil',\n",
              " 'wheat',\n",
              " 'wpi',\n",
              " 'yen',\n",
              " 'zinc']"
            ]
          },
          "metadata": {},
          "execution_count": 112
        }
      ]
    },
    {
      "cell_type": "code",
      "source": [
        "reuters.categories('training/9865')"
      ],
      "metadata": {
        "colab": {
          "base_uri": "https://localhost:8080/"
        },
        "id": "0qhU138fqejz",
        "outputId": "55405c45-1f69-4775-ca20-687e6c3990cf"
      },
      "execution_count": 113,
      "outputs": [
        {
          "output_type": "execute_result",
          "data": {
            "text/plain": [
              "['barley', 'corn', 'grain', 'wheat']"
            ]
          },
          "metadata": {},
          "execution_count": 113
        }
      ]
    },
    {
      "cell_type": "code",
      "source": [
        "reuters.categories(['training/9865', 'training/9880'])"
      ],
      "metadata": {
        "colab": {
          "base_uri": "https://localhost:8080/"
        },
        "id": "-CBz0wdRq6fL",
        "outputId": "bac7cbc4-7017-4f08-edaa-5f9d2caf853d"
      },
      "execution_count": 114,
      "outputs": [
        {
          "output_type": "execute_result",
          "data": {
            "text/plain": [
              "['barley', 'corn', 'grain', 'money-fx', 'wheat']"
            ]
          },
          "metadata": {},
          "execution_count": 114
        }
      ]
    },
    {
      "cell_type": "code",
      "source": [
        "reuters.fileids('rye') # which document this keyword appears"
      ],
      "metadata": {
        "colab": {
          "base_uri": "https://localhost:8080/"
        },
        "id": "_umJviCrrC4N",
        "outputId": "7991462e-567a-4f4a-a8a6-f5736154cc29"
      },
      "execution_count": 116,
      "outputs": [
        {
          "output_type": "execute_result",
          "data": {
            "text/plain": [
              "['test/19668', 'training/97']"
            ]
          },
          "metadata": {},
          "execution_count": 116
        }
      ]
    },
    {
      "cell_type": "code",
      "source": [
        "reuters.fileids(['oat', 'triticale', 'maize'])"
      ],
      "metadata": {
        "colab": {
          "base_uri": "https://localhost:8080/"
        },
        "id": "Cg3a2dmUrpp0",
        "outputId": "546d75a1-f052-40bb-8cca-4f95e5394bae"
      },
      "execution_count": 121,
      "outputs": [
        {
          "output_type": "execute_result",
          "data": {
            "text/plain": [
              "['test/15871',\n",
              " 'test/15875',\n",
              " 'test/15952',\n",
              " 'test/16071',\n",
              " 'test/19275',\n",
              " 'test/19668',\n",
              " 'training/13852',\n",
              " 'training/1405',\n",
              " 'training/197',\n",
              " 'training/417',\n",
              " 'training/5',\n",
              " 'training/855',\n",
              " 'training/8759',\n",
              " 'training/97']"
            ]
          },
          "metadata": {},
          "execution_count": 121
        }
      ]
    },
    {
      "cell_type": "code",
      "source": [
        "reuters.words('training/9865')[:14]"
      ],
      "metadata": {
        "colab": {
          "base_uri": "https://localhost:8080/"
        },
        "id": "kxbwvBe-sLET",
        "outputId": "4ca00644-429a-4642-f79c-c406383970e0"
      },
      "execution_count": 122,
      "outputs": [
        {
          "output_type": "execute_result",
          "data": {
            "text/plain": [
              "['FRENCH',\n",
              " 'FREE',\n",
              " 'MARKET',\n",
              " 'CEREAL',\n",
              " 'EXPORT',\n",
              " 'BIDS',\n",
              " 'DETAILED',\n",
              " 'French',\n",
              " 'operators',\n",
              " 'have',\n",
              " 'requested',\n",
              " 'licences',\n",
              " 'to',\n",
              " 'export']"
            ]
          },
          "metadata": {},
          "execution_count": 122
        }
      ]
    },
    {
      "cell_type": "code",
      "source": [
        "reuters.words(['training/9865', 'training/9880'])"
      ],
      "metadata": {
        "colab": {
          "base_uri": "https://localhost:8080/"
        },
        "id": "YlGtPiJbsRY0",
        "outputId": "8b4af804-1e82-45c3-a90f-e50b8ba9b2bf"
      },
      "execution_count": 123,
      "outputs": [
        {
          "output_type": "execute_result",
          "data": {
            "text/plain": [
              "['FRENCH', 'FREE', 'MARKET', 'CEREAL', 'EXPORT', ...]"
            ]
          },
          "metadata": {},
          "execution_count": 123
        }
      ]
    },
    {
      "cell_type": "code",
      "source": [
        "reuters.words(categories='barley')"
      ],
      "metadata": {
        "colab": {
          "base_uri": "https://localhost:8080/"
        },
        "id": "Pp8hRcg7sZjr",
        "outputId": "7663d011-e812-4e11-f46f-bfcd4d2ad585"
      },
      "execution_count": 124,
      "outputs": [
        {
          "output_type": "execute_result",
          "data": {
            "text/plain": [
              "['FRENCH', 'FREE', 'MARKET', 'CEREAL', 'EXPORT', ...]"
            ]
          },
          "metadata": {},
          "execution_count": 124
        }
      ]
    },
    {
      "cell_type": "code",
      "source": [
        "reuters.words(categories=['barley', 'corn'])"
      ],
      "metadata": {
        "colab": {
          "base_uri": "https://localhost:8080/"
        },
        "id": "AAj-2ZzpsfST",
        "outputId": "69245d82-7683-4926-b51f-060d9bae0252"
      },
      "execution_count": 125,
      "outputs": [
        {
          "output_type": "execute_result",
          "data": {
            "text/plain": [
              "['THAI', 'TRADE', 'DEFICIT', 'WIDENS', 'IN', 'FIRST', ...]"
            ]
          },
          "metadata": {},
          "execution_count": 125
        }
      ]
    },
    {
      "cell_type": "markdown",
      "source": [
        "**Inaugural Address Corpus**"
      ],
      "metadata": {
        "id": "ubZp2PT8srnd"
      }
    },
    {
      "cell_type": "markdown",
      "source": [
        "the corpus is **a collection of 55 texts**, one for each presidential address."
      ],
      "metadata": {
        "id": "rVDon3cws0J1"
      }
    },
    {
      "cell_type": "code",
      "source": [
        "from nltk.corpus import inaugural"
      ],
      "metadata": {
        "id": "-AEwAVOBtCE7"
      },
      "execution_count": 126,
      "outputs": []
    },
    {
      "cell_type": "code",
      "source": [
        "inaugural.fileids()"
      ],
      "metadata": {
        "colab": {
          "base_uri": "https://localhost:8080/"
        },
        "id": "VUg7CiactF5j",
        "outputId": "177c5df3-9fa7-4683-b7c7-53a49acfa6d4"
      },
      "execution_count": 127,
      "outputs": [
        {
          "output_type": "execute_result",
          "data": {
            "text/plain": [
              "['1789-Washington.txt',\n",
              " '1793-Washington.txt',\n",
              " '1797-Adams.txt',\n",
              " '1801-Jefferson.txt',\n",
              " '1805-Jefferson.txt',\n",
              " '1809-Madison.txt',\n",
              " '1813-Madison.txt',\n",
              " '1817-Monroe.txt',\n",
              " '1821-Monroe.txt',\n",
              " '1825-Adams.txt',\n",
              " '1829-Jackson.txt',\n",
              " '1833-Jackson.txt',\n",
              " '1837-VanBuren.txt',\n",
              " '1841-Harrison.txt',\n",
              " '1845-Polk.txt',\n",
              " '1849-Taylor.txt',\n",
              " '1853-Pierce.txt',\n",
              " '1857-Buchanan.txt',\n",
              " '1861-Lincoln.txt',\n",
              " '1865-Lincoln.txt',\n",
              " '1869-Grant.txt',\n",
              " '1873-Grant.txt',\n",
              " '1877-Hayes.txt',\n",
              " '1881-Garfield.txt',\n",
              " '1885-Cleveland.txt',\n",
              " '1889-Harrison.txt',\n",
              " '1893-Cleveland.txt',\n",
              " '1897-McKinley.txt',\n",
              " '1901-McKinley.txt',\n",
              " '1905-Roosevelt.txt',\n",
              " '1909-Taft.txt',\n",
              " '1913-Wilson.txt',\n",
              " '1917-Wilson.txt',\n",
              " '1921-Harding.txt',\n",
              " '1925-Coolidge.txt',\n",
              " '1929-Hoover.txt',\n",
              " '1933-Roosevelt.txt',\n",
              " '1937-Roosevelt.txt',\n",
              " '1941-Roosevelt.txt',\n",
              " '1945-Roosevelt.txt',\n",
              " '1949-Truman.txt',\n",
              " '1953-Eisenhower.txt',\n",
              " '1957-Eisenhower.txt',\n",
              " '1961-Kennedy.txt',\n",
              " '1965-Johnson.txt',\n",
              " '1969-Nixon.txt',\n",
              " '1973-Nixon.txt',\n",
              " '1977-Carter.txt',\n",
              " '1981-Reagan.txt',\n",
              " '1985-Reagan.txt',\n",
              " '1989-Bush.txt',\n",
              " '1993-Clinton.txt',\n",
              " '1997-Clinton.txt',\n",
              " '2001-Bush.txt',\n",
              " '2005-Bush.txt',\n",
              " '2009-Obama.txt',\n",
              " '2013-Obama.txt',\n",
              " '2017-Trump.txt',\n",
              " '2021-Biden.txt']"
            ]
          },
          "metadata": {},
          "execution_count": 127
        }
      ]
    },
    {
      "cell_type": "code",
      "source": [
        "[fileid[: 4] for fileid in inaugural.fileids()] # year of each text appears in its file name."
      ],
      "metadata": {
        "colab": {
          "base_uri": "https://localhost:8080/"
        },
        "id": "Eu0Ju4MptKHb",
        "outputId": "778bed2f-7efe-4d46-b8cb-74cc10106284"
      },
      "execution_count": 128,
      "outputs": [
        {
          "output_type": "execute_result",
          "data": {
            "text/plain": [
              "['1789',\n",
              " '1793',\n",
              " '1797',\n",
              " '1801',\n",
              " '1805',\n",
              " '1809',\n",
              " '1813',\n",
              " '1817',\n",
              " '1821',\n",
              " '1825',\n",
              " '1829',\n",
              " '1833',\n",
              " '1837',\n",
              " '1841',\n",
              " '1845',\n",
              " '1849',\n",
              " '1853',\n",
              " '1857',\n",
              " '1861',\n",
              " '1865',\n",
              " '1869',\n",
              " '1873',\n",
              " '1877',\n",
              " '1881',\n",
              " '1885',\n",
              " '1889',\n",
              " '1893',\n",
              " '1897',\n",
              " '1901',\n",
              " '1905',\n",
              " '1909',\n",
              " '1913',\n",
              " '1917',\n",
              " '1921',\n",
              " '1925',\n",
              " '1929',\n",
              " '1933',\n",
              " '1937',\n",
              " '1941',\n",
              " '1945',\n",
              " '1949',\n",
              " '1953',\n",
              " '1957',\n",
              " '1961',\n",
              " '1965',\n",
              " '1969',\n",
              " '1973',\n",
              " '1977',\n",
              " '1981',\n",
              " '1985',\n",
              " '1989',\n",
              " '1993',\n",
              " '1997',\n",
              " '2001',\n",
              " '2005',\n",
              " '2009',\n",
              " '2013',\n",
              " '2017',\n",
              " '2021']"
            ]
          },
          "metadata": {},
          "execution_count": 128
        }
      ]
    },
    {
      "cell_type": "code",
      "source": [
        "import matplotlib.pyplot as plt\n",
        "\n",
        "plt.figure(figsize=(10, 7))\n",
        "\n",
        "cfd = nltk.ConditionalFreqDist(\n",
        "    (target, fileid[:4])\n",
        "    for fileid in inaugural.fileids()\n",
        "    for w in inaugural.words(fileid)\n",
        "    for target in ['america', 'citizen']\n",
        "    if w.lower().startswith(target))\n",
        "\n",
        "cfd.plot();"
      ],
      "metadata": {
        "colab": {
          "base_uri": "https://localhost:8080/",
          "height": 458
        },
        "id": "5zDoVXkgto7O",
        "outputId": "0a4b1de2-7feb-4e83-8a95-eb5fd26c723e"
      },
      "execution_count": 131,
      "outputs": [
        {
          "output_type": "display_data",
          "data": {
            "text/plain": [
              "<Figure size 720x504 with 1 Axes>"
            ],
            "image/png": "[encoded data removed]"
          },
          "metadata": {
            "needs_background": "light"
          }
        }
      ]
    },
    {
      "cell_type": "code",
      "source": [
        "import matplotlib.pyplot as plt\n",
        "\n",
        "plt.figure(figsize=(10, 7))\n",
        "\n",
        "cfd = nltk.ConditionalFreqDist(\n",
        "    (target, fileid[:4])\n",
        "    for fileid in inaugural.fileids()\n",
        "    for w in inaugural.words(fileid)\n",
        "    for target in [\"economy\", \"welfare\", \"job\", \"health\", \"poverty\"]\n",
        "    if w.lower().startswith(target))\n",
        "\n",
        "cfd.plot();"
      ],
      "metadata": {
        "colab": {
          "base_uri": "https://localhost:8080/",
          "height": 458
        },
        "id": "MW2N0g6du2is",
        "outputId": "80d4d1c8-d60d-4aec-b7df-622e5d9475d6"
      },
      "execution_count": 141,
      "outputs": [
        {
          "output_type": "display_data",
          "data": {
            "text/plain": [
              "<Figure size 720x504 with 1 Axes>"
            ],
            "image/png": "[encoded data removed]"
          },
          "metadata": {
            "needs_background": "light"
          }
        }
      ]
    },
    {
      "cell_type": "markdown",
      "source": [
        "**Annotated Text Corpora**"
      ],
      "metadata": {
        "id": "03fRSfLFzral"
      }
    },
    {
      "cell_type": "markdown",
      "source": [
        "<table>\n",
        "  <tr>\n",
        "    <th colspan=\"3\"><h2>Some of  the corpora and corpus samples distributed with NLTK</h2></th>\n",
        "  </tr>\n",
        "  <tr>\n",
        "    <th>Corpus</th>\n",
        "    <th>Compiler</th>\n",
        "    <th>Contents</th>\n",
        "  </tr>\n",
        "  <tr>\n",
        "    <td>Brown Corpus</td>\n",
        "    <td>Francis, Kucera</td>\n",
        "    <td>15 genres, 1.15M words, tagged, categorized</td>\n",
        "  </tr>\n",
        "  <tr>\n",
        "    <td>CESS Treebanks</td>\n",
        "    <td>CLiC-UB</td>\n",
        "    <td>1M words, tagged and parsed (catalan, Spanish)</td>\n",
        "  </tr>\n",
        "  <tr>\n",
        "    <td>Chat-80 Data Files</td>\n",
        "    <td>Pereira & Warren</td>\n",
        "    <td>World Geographic Database</td>\n",
        "  </tr>\n",
        "  <tr>\n",
        "    <td>CMU Pronouncing Dictionary</td>\n",
        "    <td>CMU</td>\n",
        "    <td>127k entries</td>\n",
        "  </tr>\n",
        "  <tr>\n",
        "    <td>CoNLL 2000 Chunking Data</td>\n",
        "    <td>CoNLL</td>\n",
        "    <td>270k words, tagged and chunked</td>\n",
        "  </tr>\n",
        "  <tr>\n",
        "    <td>CoNLL 2002 Named Entity</td>\n",
        "    <td>CoNLL</td>\n",
        "    <td>700k words, POS and named entity tagged (Dutch, Spanish)</td>\n",
        "  </tr>\n",
        "  <tr>\n",
        "    <td>CoNLL 2007 Dependency Parsed Tree-backs (selections)</td>\n",
        "    <td>CoNLL</td>\n",
        "    <td>150K words, dependency parsed (Basque, Catalan)</td>\n",
        "  </tr>\n",
        "  <tr>\n",
        "    <td>Dependency Treebank</td>\n",
        "    <td>Narad</td>\n",
        "    <td>Dependency pared version of Penn Treebank sample</td>\n",
        "  </tr>\n",
        "  <tr>\n",
        "    <td>Floresta Treebank</td>\n",
        "    <td>Diana Santos et al.</td>\n",
        "    <td>9k sentences, tagged and parsed (Portuguese)</td>\n",
        "  </tr>\n",
        "  <tr>\n",
        "    <td>Gazetteer Lists</td>\n",
        "    <td>Various</td>\n",
        "    <td>Lists of cities and countries</td>\n",
        "  </tr>\n",
        "  <tr>\n",
        "    <td>Genesis Corpus</td>\n",
        "    <td>Misc web sources</td>\n",
        "    <td>6 texts, 200k words, 6 languages</td>\n",
        "  </tr>\n",
        "  <tr>\n",
        "    <td>Gutenberg (selections)</td>\n",
        "    <td>Hart, Newby, et al.</td>\n",
        "    <td>18 texts, 2M words</td>\n",
        "  </tr>\n",
        "  <tr>\n",
        "    <td>Inaugural Address Corpus</td>\n",
        "    <td>CSpan</td>\n",
        "    <td>U.S. Presidential Inaugural Addresses(1789-present)</td>\n",
        "  </tr>\n",
        "  <tr>\n",
        "    <td>Indian POS Tagged Corpus</td>\n",
        "    <td>Kumaran et al.</td>\n",
        "    <td>60k words, tagged(Bangla, Hindi, Marathi, Telugu)</td>\n",
        "  </tr>\n",
        "  <tr>\n",
        "    <td>MacMorpho Corpus</td>\n",
        "    <td>NILC, USP, Brazil</td>\n",
        "    <td>1M words, tagged (Brazilian Protuguese)</td>\n",
        "  </tr>\n",
        "  <tr>\n",
        "    <td>Movie Reviews</td>\n",
        "    <td>Pang, Lee</td>\n",
        "    <td>2k movie reviews with sentiment polarity classification</td>\n",
        "  </tr>\n",
        "  <tr>\n",
        "    <td>Names Corpus</td>\n",
        "    <td>Kantrowitz, Ross</td>\n",
        "    <td>8k male and female names</td>\n",
        "  </tr>\n",
        "  <tr>\n",
        "    <td>NIST 199 Info Extr (selections)</td>\n",
        "    <td>Garofolo</td>\n",
        "    <td>63K words, newswire and named entity SGML markup</td>\n",
        "  </tr>\n",
        "  <tr>\n",
        "    <td>NPS Chat Corpus</td>\n",
        "    <td>Forsyth, Martell</td>\n",
        "    <td>10k IM chat posts, POS and dialogue-act tagged</td>\n",
        "  </tr>\n",
        "  <tr>\n",
        "    <td>Penn Treebank (selections)</td>\n",
        "    <td>LDC</td>\n",
        "    <td>40k words, tagged and parsed</td>\n",
        "  </tr>\n",
        "  <tr>\n",
        "    <td>PP Attachment Corpus</td>\n",
        "    <td>Ratnaparkhi</td>\n",
        "    <td>28k prepositional phrases, tagged as noun or verb modifiers</td>\n",
        "  </tr>\n",
        "  <tr>\n",
        "    <td>Proposition Bank</td>\n",
        "    <td>Palmer</td>\n",
        "    <td>113k propositions, 3,300 verb frames</td>\n",
        "  </tr>\n",
        "  <tr>\n",
        "    <td>Question Classification</td>\n",
        "    <td>Li, Roth</td>\n",
        "    <td>6k questions, categorized</td>\n",
        "  </tr>\n",
        "  <tr>\n",
        "    <td>Reuters Corpus</td>\n",
        "    <td>Reuters</td>\n",
        "    <td>1.3M words, 10k news documents, categorized</td>\n",
        "  </tr>\n",
        "  <tr>\n",
        "    <td>Roget's Thesaurus</td>\n",
        "    <td>Project Gutenberg</td>\n",
        "    <td>200k words, formatted text</td>\n",
        "  </tr>\n",
        "  <tr>\n",
        "    <td>RTE Textual Entailment</td>\n",
        "    <td>Dagan et al.</td>\n",
        "    <td>8k sentence pairs, categorized</td>\n",
        "  </tr>\n",
        "  <tr>\n",
        "    <td>SEMCOR</td>\n",
        "    <td>Rus, Mihalcea</td>\n",
        "    <td>880k words, POS and sense tagged</td>\n",
        "  </tr>\n",
        "  <tr>\n",
        "    <td>Senseval 2 Corpus</td>\n",
        "    <td>Pedersen</td>\n",
        "    <td>600k words, POS and sense tagged</td>\n",
        "  </tr>\n",
        "  <tr>\n",
        "    <td>Shakespeare texts (selections)</td>\n",
        "    <td>Bosak</td>\n",
        "    <td>8 books in XML format</td>\n",
        "  </tr>\n",
        "  <tr>\n",
        "    <td>State of the Union Corpus</td>\n",
        "    <td>CSpan</td>\n",
        "    <td>485k words, formatted text</td>\n",
        "  </tr>\n",
        "  <tr>\n",
        "    <td>Stopwords Corpus</td>\n",
        "    <td>Porter et al.</td>\n",
        "    <td>2,400 stopwords for 11 languages</td>\n",
        "  </tr>\n",
        "  <tr>\n",
        "    <td>Swadesh Corpus</td>\n",
        "    <td>Wiktionary</td>\n",
        "    <td>Comparative wordlists in 24 languages</td>\n",
        "  </tr>\n",
        "  <tr>\n",
        "    <td>Switchboard Corpus (selections)</td>\n",
        "    <td>LDC</td>\n",
        "    <td>36 phone calls, transcribed, parsed</td>\n",
        "  </tr>\n",
        "  <tr>\n",
        "    <td>TIMIT Corpus (selections)</td>\n",
        "    <td>NIST/LDC</td>\n",
        "    <td>Audio files and transcripts for 16 speakers</td>\n",
        "  </tr>\n",
        "  <tr>\n",
        "    <td>Univ Ded of Human Rights</td>\n",
        "    <td>United Nations</td>\n",
        "    <td>480k words, 300 + languages</td>\n",
        "  </tr>\n",
        "  <tr>\n",
        "    <td>VerNet 2.1</td>\n",
        "    <td>Palmer et al.</td>\n",
        "    <td>5k verbs, hierachically organized, linked to WordNet</td>\n",
        "  </tr>\n",
        "  <tr>\n",
        "    <td>Wordlist Corpus</td>\n",
        "    <td>OpenOffice.org et al.</td>\n",
        "    <td>960k words and 20k affizes for 8 languages</td>\n",
        "  </tr>\n",
        "  <tr>\n",
        "    <td>WordNet 3.0 (English)</td>\n",
        "    <td>Miller, Fellbaum</td>\n",
        "    <td>145k synonym sets</td>\n",
        "  </tr>\n",
        "</table>"
      ],
      "metadata": {
        "id": "o66rt9YzcVka"
      }
    },
    {
      "cell_type": "markdown",
      "source": [
        "**Corpora in Other Languages**"
      ],
      "metadata": {
        "id": "5gA0HWAE0DwM"
      }
    },
    {
      "cell_type": "markdown",
      "source": [
        "NLTK comes with corpora for many languages, though in some case you will need to learn how to **mainpulate character encodings** in Python before using these corpora "
      ],
      "metadata": {
        "id": "rmebGiZ80LI8"
      }
    },
    {
      "cell_type": "code",
      "source": [
        "nltk.corpus.cess_esp.words()"
      ],
      "metadata": {
        "colab": {
          "base_uri": "https://localhost:8080/"
        },
        "id": "NH5iFsuy0ehP",
        "outputId": "c93cee01-30a8-4d64-e2d4-3cd159651ef3"
      },
      "execution_count": 142,
      "outputs": [
        {
          "output_type": "execute_result",
          "data": {
            "text/plain": [
              "['El', 'grupo', 'estatal', 'Electricité_de_France', ...]"
            ]
          },
          "metadata": {},
          "execution_count": 142
        }
      ]
    },
    {
      "cell_type": "code",
      "source": [
        "nltk.corpus.floresta.words()"
      ],
      "metadata": {
        "colab": {
          "base_uri": "https://localhost:8080/"
        },
        "id": "ow6FHzFb0lsM",
        "outputId": "d1848e11-50bd-4e63-9031-ee0b61d64cb6"
      },
      "execution_count": 143,
      "outputs": [
        {
          "output_type": "execute_result",
          "data": {
            "text/plain": [
              "['Um', 'revivalismo', 'refrescante', 'O', '7_e_Meio', ...]"
            ]
          },
          "metadata": {},
          "execution_count": 143
        }
      ]
    },
    {
      "cell_type": "code",
      "source": [
        "nltk.corpus.indian.words('hindi.pos')"
      ],
      "metadata": {
        "colab": {
          "base_uri": "https://localhost:8080/"
        },
        "id": "oe6bmyaE0skk",
        "outputId": "259e5e2f-09e1-465d-a961-ce543079615a"
      },
      "execution_count": 144,
      "outputs": [
        {
          "output_type": "execute_result",
          "data": {
            "text/plain": [
              "['पूर्ण', 'प्रतिबंध', 'हटाओ', ':', 'इराक', 'संयुक्त', ...]"
            ]
          },
          "metadata": {},
          "execution_count": 144
        }
      ]
    },
    {
      "cell_type": "code",
      "source": [
        "nltk.corpus.udhr.fileids()"
      ],
      "metadata": {
        "colab": {
          "base_uri": "https://localhost:8080/"
        },
        "id": "Fyf3HdyD0xId",
        "outputId": "eb5c27e4-705d-42af-891e-7a76dcdc0e3e"
      },
      "execution_count": 148,
      "outputs": [
        {
          "output_type": "execute_result",
          "data": {
            "text/plain": [
              "['Abkhaz-Cyrillic+Abkh',\n",
              " 'Abkhaz-UTF8',\n",
              " 'Achehnese-Latin1',\n",
              " 'Achuar-Shiwiar-Latin1',\n",
              " 'Adja-UTF8',\n",
              " 'Afaan_Oromo_Oromiffa-Latin1',\n",
              " 'Afrikaans-Latin1',\n",
              " 'Aguaruna-Latin1',\n",
              " 'Akuapem_Twi-UTF8',\n",
              " 'Albanian_Shqip-Latin1',\n",
              " 'Amahuaca',\n",
              " 'Amahuaca-Latin1',\n",
              " 'Amarakaeri-Latin1',\n",
              " 'Amuesha-Yanesha-UTF8',\n",
              " 'Arabela-Latin1',\n",
              " 'Arabic_Alarabia-Arabic',\n",
              " 'Asante-UTF8',\n",
              " 'Ashaninca-Latin1',\n",
              " 'Asheninca-Latin1',\n",
              " 'Asturian_Bable-Latin1',\n",
              " 'Aymara-Latin1',\n",
              " 'Balinese-Latin1',\n",
              " 'Bambara-UTF8',\n",
              " 'Baoule-UTF8',\n",
              " 'Basque_Euskara-Latin1',\n",
              " 'Batonu_Bariba-UTF8',\n",
              " 'Belorus_Belaruski-Cyrillic',\n",
              " 'Belorus_Belaruski-UTF8',\n",
              " 'Bemba-Latin1',\n",
              " 'Bengali-UTF8',\n",
              " 'Beti-UTF8',\n",
              " 'Bichelamar-Latin1',\n",
              " 'Bikol_Bicolano-Latin1',\n",
              " 'Bora-Latin1',\n",
              " 'Bosnian_Bosanski-Cyrillic',\n",
              " 'Bosnian_Bosanski-Latin2',\n",
              " 'Bosnian_Bosanski-UTF8',\n",
              " 'Breton-Latin1',\n",
              " 'Bugisnese-Latin1',\n",
              " 'Bulgarian_Balgarski-Cyrillic',\n",
              " 'Bulgarian_Balgarski-UTF8',\n",
              " 'Cakchiquel-Latin1',\n",
              " 'Campa_Pajonalino-Latin1',\n",
              " 'Candoshi-Shapra-Latin1',\n",
              " 'Caquinte-Latin1',\n",
              " 'Cashibo-Cacataibo-Latin1',\n",
              " 'Cashinahua-Latin1',\n",
              " 'Catalan-Latin1',\n",
              " 'Catalan_Catala-Latin1',\n",
              " 'Cebuano-Latin1',\n",
              " 'Chamorro-Latin1',\n",
              " 'Chayahuita-Latin1',\n",
              " 'Chechewa_Nyanja-Latin1',\n",
              " 'Chickasaw-Latin1',\n",
              " 'Chinanteco-Ajitlan-Latin1',\n",
              " 'Chinanteco-UTF8',\n",
              " 'Chinese_Mandarin-GB2312',\n",
              " 'Chuuk_Trukese-Latin1',\n",
              " 'Cokwe-Latin1',\n",
              " 'Corsican-Latin1',\n",
              " 'Croatian_Hrvatski-Latin2',\n",
              " 'Czech-Latin2',\n",
              " 'Czech-UTF8',\n",
              " 'Czech_Cesky-Latin2',\n",
              " 'Czech_Cesky-UTF8',\n",
              " 'Dagaare-UTF8',\n",
              " 'Dagbani-UTF8',\n",
              " 'Dangme-UTF8',\n",
              " 'Danish_Dansk-Latin1',\n",
              " 'Dendi-UTF8',\n",
              " 'Ditammari-UTF8',\n",
              " 'Dutch_Nederlands-Latin1',\n",
              " 'Edo-Latin1',\n",
              " 'English-Latin1',\n",
              " 'Esperanto-UTF8',\n",
              " 'Estonian_Eesti-Latin1',\n",
              " 'Ewe_Eve-UTF8',\n",
              " 'Fante-UTF8',\n",
              " 'Faroese-Latin1',\n",
              " 'Farsi_Persian-UTF8',\n",
              " 'Farsi_Persian-v2-UTF8',\n",
              " 'Fijian-Latin1',\n",
              " 'Filipino_Tagalog-Latin1',\n",
              " 'Finnish_Suomi-Latin1',\n",
              " 'Fon-UTF8',\n",
              " 'French_Francais-Latin1',\n",
              " 'Frisian-Latin1',\n",
              " 'Friulian_Friulano-Latin1',\n",
              " 'Ga-UTF8',\n",
              " 'Gagauz_Gagauzi-UTF8',\n",
              " 'Galician_Galego-Latin1',\n",
              " 'Garifuna_Garifuna-Latin1',\n",
              " 'German_Deutsch-Latin1',\n",
              " 'Gonja-UTF8',\n",
              " 'Greek_Ellinika-Greek',\n",
              " 'Greek_Ellinika-UTF8',\n",
              " 'Greenlandic_Inuktikut-Latin1',\n",
              " 'Guarani-Latin1',\n",
              " 'Guen_Mina-UTF8',\n",
              " 'HaitianCreole_Kreyol-Latin1',\n",
              " 'HaitianCreole_Popular-Latin1',\n",
              " 'Hani-Latin1',\n",
              " 'Hausa_Haoussa-Latin1',\n",
              " 'Hawaiian-UTF8',\n",
              " 'Hebrew_Ivrit-Hebrew',\n",
              " 'Hebrew_Ivrit-UTF8',\n",
              " 'Hiligaynon-Latin1',\n",
              " 'Hindi-UTF8',\n",
              " 'Hindi_web-UTF8',\n",
              " 'Hmong_Miao-Sichuan-Guizhou-Yunnan-Latin1',\n",
              " 'Hmong_Miao-SouthernEast-Guizhou-Latin1',\n",
              " 'Hmong_Miao_Northern-East-Guizhou-Latin1',\n",
              " 'Hrvatski_Croatian-Latin2',\n",
              " 'Huasteco-Latin1',\n",
              " 'Huitoto_Murui-Latin1',\n",
              " 'Hungarian_Magyar-Latin1',\n",
              " 'Hungarian_Magyar-Latin2',\n",
              " 'Hungarian_Magyar-UTF8',\n",
              " 'Ibibio_Efik-Latin1',\n",
              " 'Icelandic_Yslenska-Latin1',\n",
              " 'Ido-Latin1',\n",
              " 'Igbo-UTF8',\n",
              " 'Iloko_Ilocano-Latin1',\n",
              " 'Indonesian-Latin1',\n",
              " 'Interlingua-Latin1',\n",
              " 'Inuktikut_Greenlandic-Latin1',\n",
              " 'IrishGaelic_Gaeilge-Latin1',\n",
              " 'Italian-Latin1',\n",
              " 'Italian_Italiano-Latin1',\n",
              " 'Japanese_Nihongo-EUC',\n",
              " 'Japanese_Nihongo-SJIS',\n",
              " 'Japanese_Nihongo-UTF8',\n",
              " 'Javanese-Latin1',\n",
              " 'Jola-Fogny_Diola-UTF8',\n",
              " 'Kabye-UTF8',\n",
              " 'Kannada-UTF8',\n",
              " 'Kaonde-Latin1',\n",
              " 'Kapampangan-Latin1',\n",
              " 'Kasem-UTF8',\n",
              " 'Kazakh-Cyrillic',\n",
              " 'Kazakh-UTF8',\n",
              " 'Kiche_Quiche-Latin1',\n",
              " 'Kicongo-Latin1',\n",
              " 'Kimbundu_Mbundu-Latin1',\n",
              " 'Kinyamwezi_Nyamwezi-Latin1',\n",
              " 'Kinyarwanda-Latin1',\n",
              " 'Kituba-Latin1',\n",
              " 'Korean_Hankuko-UTF8',\n",
              " 'Kpelewo-UTF8',\n",
              " 'Krio-UTF8',\n",
              " 'Kurdish-UTF8',\n",
              " 'Lamnso_Lam-nso-UTF8',\n",
              " 'Latin_Latina-Latin1',\n",
              " 'Latin_Latina-v2-Latin1',\n",
              " 'Latvian-Latin1',\n",
              " 'Limba-UTF8',\n",
              " 'Lingala-Latin1',\n",
              " 'Lithuanian_Lietuviskai-Baltic',\n",
              " 'Lozi-Latin1',\n",
              " 'Luba-Kasai_Tshiluba-Latin1',\n",
              " 'Luganda_Ganda-Latin1',\n",
              " 'Lunda_Chokwe-lunda-Latin1',\n",
              " 'Luvale-Latin1',\n",
              " 'Luxembourgish_Letzebuergeusch-Latin1',\n",
              " 'Macedonian-UTF8',\n",
              " 'Madurese-Latin1',\n",
              " 'Makonde-Latin1',\n",
              " 'Malagasy-Latin1',\n",
              " 'Malay_BahasaMelayu-Latin1',\n",
              " 'Maltese-UTF8',\n",
              " 'Mam-Latin1',\n",
              " 'Maninka-UTF8',\n",
              " 'Maori-Latin1',\n",
              " 'Mapudungun_Mapuzgun-Latin1',\n",
              " 'Mapudungun_Mapuzgun-UTF8',\n",
              " 'Marshallese-Latin1',\n",
              " 'Matses-Latin1',\n",
              " 'Mayan_Yucateco-Latin1',\n",
              " 'Mazahua_Jnatrjo-UTF8',\n",
              " 'Mazateco-Latin1',\n",
              " 'Mende-UTF8',\n",
              " 'Mikmaq_Micmac-Mikmaq-Latin1',\n",
              " 'Minangkabau-Latin1',\n",
              " 'Miskito_Miskito-Latin1',\n",
              " 'Mixteco-Latin1',\n",
              " 'Mongolian_Khalkha-Cyrillic',\n",
              " 'Mongolian_Khalkha-UTF8',\n",
              " 'Moore_More-UTF8',\n",
              " 'Nahuatl-Latin1',\n",
              " 'Ndebele-Latin1',\n",
              " 'Nepali-UTF8',\n",
              " 'Ngangela_Nyemba-Latin1',\n",
              " 'NigerianPidginEnglish-Latin1',\n",
              " 'Nomatsiguenga-Latin1',\n",
              " 'NorthernSotho_Pedi-Sepedi-Latin1',\n",
              " 'Norwegian-Latin1',\n",
              " 'Norwegian_Norsk-Bokmal-Latin1',\n",
              " 'Norwegian_Norsk-Nynorsk-Latin1',\n",
              " 'Nyanja_Chechewa-Latin1',\n",
              " 'Nyanja_Chinyanja-Latin1',\n",
              " 'Nzema-UTF8',\n",
              " 'OccitanAuvergnat-Latin1',\n",
              " 'OccitanLanguedocien-Latin1',\n",
              " 'Oromiffa_AfaanOromo-Latin1',\n",
              " 'Osetin_Ossetian-UTF8',\n",
              " 'Oshiwambo_Ndonga-Latin1',\n",
              " 'Otomi_Nahnu-Latin1',\n",
              " 'Paez-Latin1',\n",
              " 'Palauan-Latin1',\n",
              " 'Peuhl-UTF8',\n",
              " 'Picard-Latin1',\n",
              " 'Pipil-Latin1',\n",
              " 'Polish-Latin2',\n",
              " 'Polish_Polski-Latin2',\n",
              " 'Ponapean-Latin1',\n",
              " 'Portuguese_Portugues-Latin1',\n",
              " 'Pulaar-UTF8',\n",
              " 'Punjabi_Panjabi-UTF8',\n",
              " 'Purhepecha-UTF8',\n",
              " 'Qechi_Kekchi-Latin1',\n",
              " 'Quechua-Latin1',\n",
              " 'Quichua-Latin1',\n",
              " 'Rarotongan_MaoriCookIslands-Latin1',\n",
              " 'Rhaeto-Romance_Rumantsch-Latin1',\n",
              " 'Romani-Latin1',\n",
              " 'Romani-UTF8',\n",
              " 'Romanian-Latin2',\n",
              " 'Romanian_Romana-Latin2',\n",
              " 'Rukonzo_Konjo-Latin1',\n",
              " 'Rundi_Kirundi-Latin1',\n",
              " 'Runyankore-rukiga_Nkore-kiga-Latin1',\n",
              " 'Russian-Cyrillic',\n",
              " 'Russian-UTF8',\n",
              " 'Russian_Russky-Cyrillic',\n",
              " 'Russian_Russky-UTF8',\n",
              " 'Sami_Lappish-UTF8',\n",
              " 'Sammarinese-Latin1',\n",
              " 'Samoan-Latin1',\n",
              " 'Sango_Sangho-Latin1',\n",
              " 'Sanskrit-UTF8',\n",
              " 'Saraiki-UTF8',\n",
              " 'Sardinian-Latin1',\n",
              " 'ScottishGaelic_GaidhligAlbanach-Latin1',\n",
              " 'Seereer-UTF8',\n",
              " 'Serbian_Srpski-Cyrillic',\n",
              " 'Serbian_Srpski-Latin2',\n",
              " 'Serbian_Srpski-UTF8',\n",
              " 'Sharanahua-Latin1',\n",
              " 'Shipibo-Conibo-Latin1',\n",
              " 'Shona-Latin1',\n",
              " 'Sinhala-UTF8',\n",
              " 'Siswati-Latin1',\n",
              " 'Slovak-Latin2',\n",
              " 'Slovak_Slovencina-Latin2',\n",
              " 'Slovenian_Slovenscina-Latin2',\n",
              " 'SolomonsPidgin_Pijin-Latin1',\n",
              " 'Somali-Latin1',\n",
              " 'Soninke_Soninkanxaane-UTF8',\n",
              " 'Sorbian-Latin2',\n",
              " 'SouthernSotho_Sotho-Sesotho-Sutu-Sesutu-Latin1',\n",
              " 'Spanish-Latin1',\n",
              " 'Spanish_Espanol-Latin1',\n",
              " 'Sukuma-Latin1',\n",
              " 'Sundanese-Latin1',\n",
              " 'Sussu_Soussou-Sosso-Soso-Susu-UTF8',\n",
              " 'Swaheli-Latin1',\n",
              " 'Swahili_Kiswahili-Latin1',\n",
              " 'Swedish_Svenska-Latin1',\n",
              " 'Tahitian-UTF8',\n",
              " 'Tenek_Huasteco-Latin1',\n",
              " 'Tetum-Latin1',\n",
              " 'Themne_Temne-UTF8',\n",
              " 'Tiv-Latin1',\n",
              " 'Toba-UTF8',\n",
              " 'Tojol-abal-Latin1',\n",
              " 'TokPisin-Latin1',\n",
              " 'Tonga-Latin1',\n",
              " 'Tongan_Tonga-Latin1',\n",
              " 'Totonaco-Latin1',\n",
              " 'Trukese_Chuuk-Latin1',\n",
              " 'Turkish_Turkce-Turkish',\n",
              " 'Turkish_Turkce-UTF8',\n",
              " 'Tzeltal-Latin1',\n",
              " 'Tzotzil-Latin1',\n",
              " 'Uighur_Uyghur-Latin1',\n",
              " 'Uighur_Uyghur-UTF8',\n",
              " 'Ukrainian-Cyrillic',\n",
              " 'Ukrainian-UTF8',\n",
              " 'Umbundu-Latin1',\n",
              " 'Urarina-Latin1',\n",
              " 'Uzbek-Latin1',\n",
              " 'Vietnamese-ALRN-UTF8',\n",
              " 'Vietnamese-UTF8',\n",
              " 'Vlach-Latin1',\n",
              " 'Walloon_Wallon-Latin1',\n",
              " 'Wama-UTF8',\n",
              " 'Waray-Latin1',\n",
              " 'Wayuu-Latin1',\n",
              " 'Welsh_Cymraeg-Latin1',\n",
              " 'WesternSotho_Tswana-Setswana-Latin1',\n",
              " 'Wolof-Latin1',\n",
              " 'Xhosa-Latin1',\n",
              " 'Yagua-Latin1',\n",
              " 'Yao-Latin1',\n",
              " 'Yapese-Latin1',\n",
              " 'Yoruba-UTF8',\n",
              " 'Zapoteco-Latin1',\n",
              " 'Zapoteco-SanLucasQuiavini-Latin1',\n",
              " 'Zhuang-Latin1',\n",
              " 'Zulu-Latin1']"
            ]
          },
          "metadata": {},
          "execution_count": 148
        }
      ]
    },
    {
      "cell_type": "code",
      "source": [
        "nltk.corpus.udhr.words('Javanese-Latin1')[11:]"
      ],
      "metadata": {
        "colab": {
          "base_uri": "https://localhost:8080/"
        },
        "id": "Ys590CQT01di",
        "outputId": "38220237-c4ac-4d2e-b287-360bfe94313f"
      },
      "execution_count": 146,
      "outputs": [
        {
          "output_type": "execute_result",
          "data": {
            "text/plain": [
              "['Saben', 'umat', 'manungsa', 'lair', 'kanthi', 'hak', ...]"
            ]
          },
          "metadata": {},
          "execution_count": 146
        }
      ]
    },
    {
      "cell_type": "code",
      "source": [
        "import matplotlib.pyplot as plt\n",
        "from nltk.corpus import udhr\n",
        "\n",
        "plt.figure(figsize=(10, 7))\n",
        "\n",
        "languages = ['Chickasaw', 'English', 'German_Deutsch', 'Dutch_Nederlands', \n",
        "             'Swedish_Svenska','Greenlandic_Inuktikut', 'Ibibio_Efik', \n",
        "             'Italian_Italiano', 'Spanish_Espanol' , ]\n",
        "\n",
        "cfd=nltk.ConditionalFreqDist(\n",
        "    (lang, len(word))\n",
        "    for lang in languages\n",
        "    for word in udhr.words(lang + '-Latin1'))\n",
        "\n",
        "cfd.plot(cumulative=True);"
      ],
      "metadata": {
        "colab": {
          "base_uri": "https://localhost:8080/",
          "height": 445
        },
        "id": "4jIb_rqt1Ibs",
        "outputId": "a70eb773-ab5d-4986-a877-0499f9722abc"
      },
      "execution_count": 158,
      "outputs": [
        {
          "output_type": "display_data",
          "data": {
            "text/plain": [
              "<Figure size 720x504 with 1 Axes>"
            ],
            "image/png": "[encoded data removed]"
          },
          "metadata": {
            "needs_background": "light"
          }
        }
      ]
    }
  ]
}
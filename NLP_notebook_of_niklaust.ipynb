{
  "nbformat": 4,
  "nbformat_minor": 0,
  "metadata": {
    "colab": {
      "provenance": [],
      "authorship_tag": "ABX9TyPm4VDUS02j68zFcl5i1u69",
      "include_colab_link": true
    },
    "kernelspec": {
      "name": "python3",
      "display_name": "Python 3"
    },
    "language_info": {
      "name": "python"
    }
  },
  "cells": [
    {
      "cell_type": "markdown",
      "metadata": {
        "id": "view-in-github",
        "colab_type": "text"
      },
      "source": [
        "<a href=\"https://colab.research.google.com/github/niklaust/Natural_Language_Processing/blob/main/NLP_notebook_of_niklaust.ipynb\" target=\"_parent\"><img src=\"https://colab.research.google.com/assets/colab-badge.svg\" alt=\"Open In Colab\"/></a>"
      ]
    },
    {
      "cell_type": "markdown",
      "source": [
        "# **Reference**\n",
        "\n",
        "Steven Bird, Ewan Klein, Edward Loper.(2009). *Natural Language Processing with Python*. O'Reilly"
      ],
      "metadata": {
        "id": "i7DHFSJXeoOu"
      }
    },
    {
      "cell_type": "markdown",
      "source": [
        "<h1><center><b>Natural Language Processing with Python</b></center></h1>"
      ],
      "metadata": {
        "id": "A16Lk44mfvYH"
      }
    },
    {
      "cell_type": "markdown",
      "source": [
        "github:niklaust"
      ],
      "metadata": {
        "id": "kEaTieyWfrgu"
      }
    },
    {
      "cell_type": "markdown",
      "source": [
        "start 20221202\n",
        "\n",
        "ongoing......."
      ],
      "metadata": {
        "id": "j7lup2rkhKve"
      }
    },
    {
      "cell_type": "markdown",
      "source": [
        "**Natural language** : language that is used for everyday communication by humans. English, Chinese, Spanish and so on.\n",
        "\n",
        "**Artificial languages** : programming languages and mathematicl notations\n",
        "\n",
        "**NLP** :  A wide sense to cove any kind of computer manipulation of natural language.\n",
        "* Counting word frequencies \n",
        "* compare different writing styles.\n",
        "* \"Understanding\" complete human utterances, at least to extent of being able to give useful responses to them. \n",
        "\n",
        "**Technologies based on NLP** \n",
        "* Phones and handheld computers support predictive text and handwriting recognition\n",
        "* Web search engines gvie access to information locked up in unstructured text\n",
        "* Machine translation allows us to retrieve texts written in Chinese and read them in Spanish."
      ],
      "metadata": {
        "id": "va3EcGlgNhNM"
      }
    },
    {
      "cell_type": "markdown",
      "source": [
        "**What you will learn:**\n",
        "* How simple programs can help you **manipulate and analyze language data**, and how to write these programs\n",
        "* How key concepts from **NLP** and **linguistics** are used to **describe and analyze language**\n",
        "* How **data structures** and **algorithms** are **used in NLP**\n",
        "* How language data is stored in standard formats, and how data can be used to evaluate the performance of NLPtechniques."
      ],
      "metadata": {
        "id": "bm_GhZJeTsfH"
      }
    },
    {
      "cell_type": "markdown",
      "source": [
        "NLTK: defines an infrastructure that can be used to build NLP programs in Python.\n",
        "\n",
        "[NLTK Documentation](http://www.nltk.org/)"
      ],
      "metadata": {
        "id": "-AFb6vCUYpmM"
      }
    },
    {
      "cell_type": "code",
      "source": [
        "import nltk\n",
        "\n",
        "print(f\"nltk version: {nltk.__version__}\")"
      ],
      "metadata": {
        "colab": {
          "base_uri": "https://localhost:8080/"
        },
        "id": "cA12nWURXyN1",
        "outputId": "6a57e242-98fd-44d1-f1d6-8738eab24f3c"
      },
      "execution_count": 1,
      "outputs": [
        {
          "output_type": "stream",
          "name": "stdout",
          "text": [
            "nltk version: 3.7\n"
          ]
        }
      ]
    },
    {
      "cell_type": "markdown",
      "source": [
        "<table>\n",
        "  <tr>\n",
        "    <th colspan=\"3\"><h2>Languaege processing tasks and corresponding NLTK modules iwht examples of functionality</h2></th>\n",
        "  </tr>\n",
        "  <tr>\n",
        "    <th>Language processing task</th>\n",
        "    <th>NLTK modules</th>\n",
        "    <th>Functionality</th>\n",
        "  </tr>\n",
        "  <tr>\n",
        "    <td>Accessing corpora</td>\n",
        "    <td>nltk.corpus</td>\n",
        "    <td>Standardized interfaces to corpora and lexicons</td>\n",
        "  </tr>\n",
        "  <tr>\n",
        "    <td>String processing</td>\n",
        "    <td>nltk.tokenize, nltk.stem</td>\n",
        "    <td>Tokenizers, sentence tokenizer, stemmers</td>\n",
        "  </tr>\n",
        "  <tr>\n",
        "    <td>Collection discovery</td>\n",
        "    <td>nltk.collocations</td>\n",
        "    <td>t-test, chi-squared, point-wise mutual information</td>\n",
        "  </tr>\n",
        "  <tr>\n",
        "    <td>Part-of-speech tagging</td>\n",
        "    <td>nltk.tag</td>\n",
        "    <td>n-gram, backoff, Brill, HMM, Tnt</td>\n",
        "  </tr>\n",
        "  <tr>\n",
        "    <td>Classification</td>\n",
        "    <td>nltk.classify, nltk.cluster</td>\n",
        "    <td>Decision tree, maximum entropy, naive Bayes, EM, k-means</td>\n",
        "  </tr>\n",
        "  <tr>\n",
        "    <td>Chunking</td>\n",
        "    <td>nltk.chunk</td>\n",
        "    <td>Regular expression, n-gram, named entity</td>\n",
        "  </tr>\n",
        "  <tr>\n",
        "    <td>Parsing</td>\n",
        "    <td>nltk.parse</td>\n",
        "    <td>Chart, feature-based, unification, probabilistic, dependency</td>\n",
        "  </tr>\n",
        "  <tr>\n",
        "    <td>Sematic interpretation</td>\n",
        "    <td>nltk.sem, nltk.inference</td>\n",
        "    <td>Lambda calculas, first-order logic, model checking</td>\n",
        "  </tr>\n",
        "  <tr>\n",
        "    <td>Evaluation metrics</td>\n",
        "    <td>nltk.metrics</td>\n",
        "    <td>Percision, recall, agreement coefficients</td>\n",
        "  </tr>\n",
        "  <tr>\n",
        "    <td>Probability and estimation</td>\n",
        "    <td>nltk.probability</td>\n",
        "    <td>Frequency distributions, smoothed probability distributions</td>\n",
        "  </tr>\n",
        "  <tr>\n",
        "    <td>Applications</td>\n",
        "    <td>nltk.app, nltk.chat</td>\n",
        "    <td>Graphical concordancer, parsers, WordNet browser, chatbots</td>\n",
        "  </tr>\n",
        "  <tr>\n",
        "    <td>Linguistic fieldwork</td>\n",
        "    <td>nltk.toolbox</td>\n",
        "    <td>Manipulate data in SIL Toolbox format</td>\n",
        "  </tr>\n",
        "</table>"
      ],
      "metadata": {
        "id": "lxQd-e5nZ9pd"
      }
    },
    {
      "cell_type": "markdown",
      "source": [
        "# <center>Chapter 1: Language Processing and Python</center>"
      ],
      "metadata": {
        "id": "mnHiwRRElR3m"
      }
    },
    {
      "cell_type": "markdown",
      "source": [
        "## **1.1 Computing with Language: Texts and Words**"
      ],
      "metadata": {
        "id": "Wfpf3RU0lxYF"
      }
    },
    {
      "cell_type": "markdown",
      "source": [
        "\n",
        "\n",
        "Treat **text as raw data** for the programs we write, programs that that manipulate and analyze it in a variety of  interesting ways."
      ],
      "metadata": {
        "id": "gCKFxUzflamB"
      }
    },
    {
      "cell_type": "code",
      "source": [
        "import nltk\n",
        "nltk.download()"
      ],
      "metadata": {
        "colab": {
          "base_uri": "https://localhost:8080/"
        },
        "id": "EamywD3zmUdK",
        "outputId": "6b033c8b-55bc-4f6e-9c2b-22bd6ce37c7d"
      },
      "execution_count": 2,
      "outputs": [
        {
          "name": "stdout",
          "output_type": "stream",
          "text": [
            "NLTK Downloader\n",
            "---------------------------------------------------------------------------\n",
            "    d) Download   l) List    u) Update   c) Config   h) Help   q) Quit\n",
            "---------------------------------------------------------------------------\n",
            "Downloader> q\n"
          ]
        },
        {
          "output_type": "execute_result",
          "data": {
            "text/plain": [
              "True"
            ]
          },
          "metadata": {},
          "execution_count": 2
        }
      ]
    },
    {
      "cell_type": "markdown",
      "source": [
        "\n",
        "`concordance` : to see words in context.\n",
        "\n",
        "`similar` : to find other words appear in a similar range of contexts\n",
        "\n",
        "`common_contexts` : to examine the contexts that are shared by two or more words.\n",
        "\n",
        "`dispersion_plot` :  to determine the location of a word in the text: how many words from the beginning (corpus) it appears (by each stripe). \n",
        "\n",
        "`generate` : to generate some random text by gathers statistics about word sequences.\n",
        "\n",
        "``\n",
        "\n",
        "``\n",
        "``"
      ],
      "metadata": {
        "id": "qrA3GXPJ2fEn"
      }
    },
    {
      "cell_type": "markdown",
      "source": [
        "<table>\n",
        "  <tr>\n",
        "    <th colspan=\"2\"><h1>Introductory Examples for the NLTK Book</h1></th>\n",
        "  </tr>\n",
        "  <tr>\n",
        "    <td>text1:</td>\n",
        "    <td>Moby Dick by Herman Melville 1851</td>\n",
        "  </tr>\n",
        "  <tr>\n",
        "    <td>text2:</td>\n",
        "    <td>Sense and Sensibility by Jane Austen 1811</td>\n",
        "  </tr>\n",
        "   <tr>\n",
        "    <td>text3:</td>\n",
        "    <td>The Book of Genesis</td>\n",
        "  </tr>\n",
        "  <tr>\n",
        "    <td>text4:</td>\n",
        "    <td>Inaugural Address Corpus</td>\n",
        "  </tr>\n",
        "   <tr>\n",
        "    <td>text5:</td>\n",
        "    <td>Chat Corpus</td>\n",
        "  </tr>\n",
        "  <tr>\n",
        "    <td>text6:</td>\n",
        "    <td>Monty Python and the Holy Grail</td>\n",
        "  </tr>\n",
        "  <tr>\n",
        "    <td>text7:</td>\n",
        "    <td>Wall Street Journal</td>\n",
        "  </tr>\n",
        "  <tr>\n",
        "    <td>text8:</td>\n",
        "    <td>Personals Corpus</td>\n",
        "  </tr>\n",
        "   <tr>\n",
        "    <td>text9:</td>\n",
        "    <td>The Man Who Was Thursday by G . K . Chesterton 1908</td>\n",
        "  </tr>\n",
        "</table>"
      ],
      "metadata": {
        "id": "h0wjju9FuIuJ"
      }
    },
    {
      "cell_type": "code",
      "source": [
        "import nltk\n",
        "nltk.download(\"all-corpora\")"
      ],
      "metadata": {
        "id": "_fJuVAiPSbL3",
        "colab": {
          "base_uri": "https://localhost:8080/"
        },
        "outputId": "20eb3935-99b3-471c-81ad-ee81b9b03dd6"
      },
      "execution_count": 3,
      "outputs": [
        {
          "output_type": "stream",
          "name": "stderr",
          "text": [
            "[nltk_data] Downloading collection 'all-corpora'\n",
            "[nltk_data]    | \n",
            "[nltk_data]    | Downloading package abc to /root/nltk_data...\n",
            "[nltk_data]    |   Package abc is already up-to-date!\n",
            "[nltk_data]    | Downloading package alpino to /root/nltk_data...\n",
            "[nltk_data]    |   Package alpino is already up-to-date!\n",
            "[nltk_data]    | Downloading package biocreative_ppi to\n",
            "[nltk_data]    |     /root/nltk_data...\n",
            "[nltk_data]    |   Package biocreative_ppi is already up-to-date!\n",
            "[nltk_data]    | Downloading package brown to /root/nltk_data...\n",
            "[nltk_data]    |   Package brown is already up-to-date!\n",
            "[nltk_data]    | Downloading package brown_tei to /root/nltk_data...\n",
            "[nltk_data]    |   Package brown_tei is already up-to-date!\n",
            "[nltk_data]    | Downloading package cess_cat to /root/nltk_data...\n",
            "[nltk_data]    |   Package cess_cat is already up-to-date!\n",
            "[nltk_data]    | Downloading package cess_esp to /root/nltk_data...\n",
            "[nltk_data]    |   Package cess_esp is already up-to-date!\n",
            "[nltk_data]    | Downloading package chat80 to /root/nltk_data...\n",
            "[nltk_data]    |   Package chat80 is already up-to-date!\n",
            "[nltk_data]    | Downloading package city_database to\n",
            "[nltk_data]    |     /root/nltk_data...\n",
            "[nltk_data]    |   Package city_database is already up-to-date!\n",
            "[nltk_data]    | Downloading package cmudict to /root/nltk_data...\n",
            "[nltk_data]    |   Package cmudict is already up-to-date!\n",
            "[nltk_data]    | Downloading package comparative_sentences to\n",
            "[nltk_data]    |     /root/nltk_data...\n",
            "[nltk_data]    |   Package comparative_sentences is already up-to-\n",
            "[nltk_data]    |       date!\n",
            "[nltk_data]    | Downloading package comtrans to /root/nltk_data...\n",
            "[nltk_data]    |   Package comtrans is already up-to-date!\n",
            "[nltk_data]    | Downloading package conll2000 to /root/nltk_data...\n",
            "[nltk_data]    |   Package conll2000 is already up-to-date!\n",
            "[nltk_data]    | Downloading package conll2002 to /root/nltk_data...\n",
            "[nltk_data]    |   Package conll2002 is already up-to-date!\n",
            "[nltk_data]    | Downloading package conll2007 to /root/nltk_data...\n",
            "[nltk_data]    |   Package conll2007 is already up-to-date!\n",
            "[nltk_data]    | Downloading package crubadan to /root/nltk_data...\n",
            "[nltk_data]    |   Package crubadan is already up-to-date!\n",
            "[nltk_data]    | Downloading package dependency_treebank to\n",
            "[nltk_data]    |     /root/nltk_data...\n",
            "[nltk_data]    |   Package dependency_treebank is already up-to-date!\n",
            "[nltk_data]    | Downloading package dolch to /root/nltk_data...\n",
            "[nltk_data]    |   Package dolch is already up-to-date!\n",
            "[nltk_data]    | Downloading package europarl_raw to\n",
            "[nltk_data]    |     /root/nltk_data...\n",
            "[nltk_data]    |   Package europarl_raw is already up-to-date!\n",
            "[nltk_data]    | Downloading package extended_omw to\n",
            "[nltk_data]    |     /root/nltk_data...\n",
            "[nltk_data]    |   Package extended_omw is already up-to-date!\n",
            "[nltk_data]    | Downloading package floresta to /root/nltk_data...\n",
            "[nltk_data]    |   Package floresta is already up-to-date!\n",
            "[nltk_data]    | Downloading package framenet_v15 to\n",
            "[nltk_data]    |     /root/nltk_data...\n",
            "[nltk_data]    |   Package framenet_v15 is already up-to-date!\n",
            "[nltk_data]    | Downloading package framenet_v17 to\n",
            "[nltk_data]    |     /root/nltk_data...\n",
            "[nltk_data]    |   Package framenet_v17 is already up-to-date!\n",
            "[nltk_data]    | Downloading package gazetteers to /root/nltk_data...\n",
            "[nltk_data]    |   Package gazetteers is already up-to-date!\n",
            "[nltk_data]    | Downloading package genesis to /root/nltk_data...\n",
            "[nltk_data]    |   Package genesis is already up-to-date!\n",
            "[nltk_data]    | Downloading package gutenberg to /root/nltk_data...\n",
            "[nltk_data]    |   Package gutenberg is already up-to-date!\n",
            "[nltk_data]    | Downloading package ieer to /root/nltk_data...\n",
            "[nltk_data]    |   Package ieer is already up-to-date!\n",
            "[nltk_data]    | Downloading package inaugural to /root/nltk_data...\n",
            "[nltk_data]    |   Package inaugural is already up-to-date!\n",
            "[nltk_data]    | Downloading package indian to /root/nltk_data...\n",
            "[nltk_data]    |   Package indian is already up-to-date!\n",
            "[nltk_data]    | Downloading package jeita to /root/nltk_data...\n",
            "[nltk_data]    |   Package jeita is already up-to-date!\n",
            "[nltk_data]    | Downloading package kimmo to /root/nltk_data...\n",
            "[nltk_data]    |   Package kimmo is already up-to-date!\n",
            "[nltk_data]    | Downloading package knbc to /root/nltk_data...\n",
            "[nltk_data]    |   Package knbc is already up-to-date!\n",
            "[nltk_data]    | Downloading package lin_thesaurus to\n",
            "[nltk_data]    |     /root/nltk_data...\n",
            "[nltk_data]    |   Package lin_thesaurus is already up-to-date!\n",
            "[nltk_data]    | Downloading package mac_morpho to /root/nltk_data...\n",
            "[nltk_data]    |   Package mac_morpho is already up-to-date!\n",
            "[nltk_data]    | Downloading package machado to /root/nltk_data...\n",
            "[nltk_data]    |   Package machado is already up-to-date!\n",
            "[nltk_data]    | Downloading package masc_tagged to /root/nltk_data...\n",
            "[nltk_data]    |   Package masc_tagged is already up-to-date!\n",
            "[nltk_data]    | Downloading package movie_reviews to\n",
            "[nltk_data]    |     /root/nltk_data...\n",
            "[nltk_data]    |   Package movie_reviews is already up-to-date!\n",
            "[nltk_data]    | Downloading package mte_teip5 to /root/nltk_data...\n",
            "[nltk_data]    |   Package mte_teip5 is already up-to-date!\n",
            "[nltk_data]    | Downloading package names to /root/nltk_data...\n",
            "[nltk_data]    |   Package names is already up-to-date!\n",
            "[nltk_data]    | Downloading package nombank.1.0 to /root/nltk_data...\n",
            "[nltk_data]    |   Package nombank.1.0 is already up-to-date!\n",
            "[nltk_data]    | Downloading package nonbreaking_prefixes to\n",
            "[nltk_data]    |     /root/nltk_data...\n",
            "[nltk_data]    |   Package nonbreaking_prefixes is already up-to-date!\n",
            "[nltk_data]    | Downloading package nps_chat to /root/nltk_data...\n",
            "[nltk_data]    |   Package nps_chat is already up-to-date!\n",
            "[nltk_data]    | Downloading package omw to /root/nltk_data...\n",
            "[nltk_data]    |   Package omw is already up-to-date!\n",
            "[nltk_data]    | Downloading package omw-1.4 to /root/nltk_data...\n",
            "[nltk_data]    |   Package omw-1.4 is already up-to-date!\n",
            "[nltk_data]    | Downloading package opinion_lexicon to\n",
            "[nltk_data]    |     /root/nltk_data...\n",
            "[nltk_data]    |   Package opinion_lexicon is already up-to-date!\n",
            "[nltk_data]    | Downloading package panlex_swadesh to\n",
            "[nltk_data]    |     /root/nltk_data...\n",
            "[nltk_data]    |   Package panlex_swadesh is already up-to-date!\n",
            "[nltk_data]    | Downloading package paradigms to /root/nltk_data...\n",
            "[nltk_data]    |   Package paradigms is already up-to-date!\n",
            "[nltk_data]    | Downloading package pe08 to /root/nltk_data...\n",
            "[nltk_data]    |   Package pe08 is already up-to-date!\n",
            "[nltk_data]    | Downloading package pil to /root/nltk_data...\n",
            "[nltk_data]    |   Package pil is already up-to-date!\n",
            "[nltk_data]    | Downloading package pl196x to /root/nltk_data...\n",
            "[nltk_data]    |   Package pl196x is already up-to-date!\n",
            "[nltk_data]    | Downloading package ppattach to /root/nltk_data...\n",
            "[nltk_data]    |   Package ppattach is already up-to-date!\n",
            "[nltk_data]    | Downloading package problem_reports to\n",
            "[nltk_data]    |     /root/nltk_data...\n",
            "[nltk_data]    |   Package problem_reports is already up-to-date!\n",
            "[nltk_data]    | Downloading package product_reviews_1 to\n",
            "[nltk_data]    |     /root/nltk_data...\n",
            "[nltk_data]    |   Package product_reviews_1 is already up-to-date!\n",
            "[nltk_data]    | Downloading package product_reviews_2 to\n",
            "[nltk_data]    |     /root/nltk_data...\n",
            "[nltk_data]    |   Package product_reviews_2 is already up-to-date!\n",
            "[nltk_data]    | Downloading package propbank to /root/nltk_data...\n",
            "[nltk_data]    |   Package propbank is already up-to-date!\n",
            "[nltk_data]    | Downloading package pros_cons to /root/nltk_data...\n",
            "[nltk_data]    |   Package pros_cons is already up-to-date!\n",
            "[nltk_data]    | Downloading package ptb to /root/nltk_data...\n",
            "[nltk_data]    |   Package ptb is already up-to-date!\n",
            "[nltk_data]    | Downloading package qc to /root/nltk_data...\n",
            "[nltk_data]    |   Package qc is already up-to-date!\n",
            "[nltk_data]    | Downloading package reuters to /root/nltk_data...\n",
            "[nltk_data]    |   Package reuters is already up-to-date!\n",
            "[nltk_data]    | Downloading package rte to /root/nltk_data...\n",
            "[nltk_data]    |   Package rte is already up-to-date!\n",
            "[nltk_data]    | Downloading package semcor to /root/nltk_data...\n",
            "[nltk_data]    |   Package semcor is already up-to-date!\n",
            "[nltk_data]    | Downloading package senseval to /root/nltk_data...\n",
            "[nltk_data]    |   Package senseval is already up-to-date!\n",
            "[nltk_data]    | Downloading package sentence_polarity to\n",
            "[nltk_data]    |     /root/nltk_data...\n",
            "[nltk_data]    |   Package sentence_polarity is already up-to-date!\n",
            "[nltk_data]    | Downloading package sentiwordnet to\n",
            "[nltk_data]    |     /root/nltk_data...\n",
            "[nltk_data]    |   Package sentiwordnet is already up-to-date!\n",
            "[nltk_data]    | Downloading package shakespeare to /root/nltk_data...\n",
            "[nltk_data]    |   Package shakespeare is already up-to-date!\n",
            "[nltk_data]    | Downloading package sinica_treebank to\n",
            "[nltk_data]    |     /root/nltk_data...\n",
            "[nltk_data]    |   Package sinica_treebank is already up-to-date!\n",
            "[nltk_data]    | Downloading package smultron to /root/nltk_data...\n",
            "[nltk_data]    |   Package smultron is already up-to-date!\n",
            "[nltk_data]    | Downloading package state_union to /root/nltk_data...\n",
            "[nltk_data]    |   Package state_union is already up-to-date!\n",
            "[nltk_data]    | Downloading package stopwords to /root/nltk_data...\n",
            "[nltk_data]    |   Package stopwords is already up-to-date!\n",
            "[nltk_data]    | Downloading package subjectivity to\n",
            "[nltk_data]    |     /root/nltk_data...\n",
            "[nltk_data]    |   Package subjectivity is already up-to-date!\n",
            "[nltk_data]    | Downloading package swadesh to /root/nltk_data...\n",
            "[nltk_data]    |   Package swadesh is already up-to-date!\n",
            "[nltk_data]    | Downloading package switchboard to /root/nltk_data...\n",
            "[nltk_data]    |   Package switchboard is already up-to-date!\n",
            "[nltk_data]    | Downloading package timit to /root/nltk_data...\n",
            "[nltk_data]    |   Package timit is already up-to-date!\n",
            "[nltk_data]    | Downloading package toolbox to /root/nltk_data...\n",
            "[nltk_data]    |   Package toolbox is already up-to-date!\n",
            "[nltk_data]    | Downloading package treebank to /root/nltk_data...\n",
            "[nltk_data]    |   Package treebank is already up-to-date!\n",
            "[nltk_data]    | Downloading package twitter_samples to\n",
            "[nltk_data]    |     /root/nltk_data...\n",
            "[nltk_data]    |   Package twitter_samples is already up-to-date!\n",
            "[nltk_data]    | Downloading package udhr to /root/nltk_data...\n",
            "[nltk_data]    |   Package udhr is already up-to-date!\n",
            "[nltk_data]    | Downloading package udhr2 to /root/nltk_data...\n",
            "[nltk_data]    |   Package udhr2 is already up-to-date!\n",
            "[nltk_data]    | Downloading package unicode_samples to\n",
            "[nltk_data]    |     /root/nltk_data...\n",
            "[nltk_data]    |   Package unicode_samples is already up-to-date!\n",
            "[nltk_data]    | Downloading package universal_treebanks_v20 to\n",
            "[nltk_data]    |     /root/nltk_data...\n",
            "[nltk_data]    |   Package universal_treebanks_v20 is already up-to-\n",
            "[nltk_data]    |       date!\n",
            "[nltk_data]    | Downloading package verbnet to /root/nltk_data...\n",
            "[nltk_data]    |   Package verbnet is already up-to-date!\n",
            "[nltk_data]    | Downloading package verbnet3 to /root/nltk_data...\n",
            "[nltk_data]    |   Package verbnet3 is already up-to-date!\n",
            "[nltk_data]    | Downloading package webtext to /root/nltk_data...\n",
            "[nltk_data]    |   Package webtext is already up-to-date!\n",
            "[nltk_data]    | Downloading package wordnet to /root/nltk_data...\n",
            "[nltk_data]    |   Package wordnet is already up-to-date!\n",
            "[nltk_data]    | Downloading package wordnet2021 to /root/nltk_data...\n",
            "[nltk_data]    |   Package wordnet2021 is already up-to-date!\n",
            "[nltk_data]    | Downloading package wordnet31 to /root/nltk_data...\n",
            "[nltk_data]    |   Package wordnet31 is already up-to-date!\n",
            "[nltk_data]    | Downloading package wordnet_ic to /root/nltk_data...\n",
            "[nltk_data]    |   Package wordnet_ic is already up-to-date!\n",
            "[nltk_data]    | Downloading package words to /root/nltk_data...\n",
            "[nltk_data]    |   Package words is already up-to-date!\n",
            "[nltk_data]    | Downloading package ycoe to /root/nltk_data...\n",
            "[nltk_data]    |   Package ycoe is already up-to-date!\n",
            "[nltk_data]    | \n",
            "[nltk_data]  Done downloading collection all-corpora\n"
          ]
        },
        {
          "output_type": "execute_result",
          "data": {
            "text/plain": [
              "True"
            ]
          },
          "metadata": {},
          "execution_count": 3
        }
      ]
    },
    {
      "cell_type": "code",
      "source": [
        "from nltk.book import *"
      ],
      "metadata": {
        "colab": {
          "base_uri": "https://localhost:8080/"
        },
        "id": "tUVf3GhGTS0P",
        "outputId": "3018d968-9e3c-43a2-ae14-5ab1a1ec0a28"
      },
      "execution_count": 4,
      "outputs": [
        {
          "output_type": "stream",
          "name": "stdout",
          "text": [
            "*** Introductory Examples for the NLTK Book ***\n",
            "Loading text1, ..., text9 and sent1, ..., sent9\n",
            "Type the name of the text or sentence to view it.\n",
            "Type: 'texts()' or 'sents()' to list the materials.\n",
            "text1: Moby Dick by Herman Melville 1851\n",
            "text2: Sense and Sensibility by Jane Austen 1811\n",
            "text3: The Book of Genesis\n",
            "text4: Inaugural Address Corpus\n",
            "text5: Chat Corpus\n",
            "text6: Monty Python and the Holy Grail\n",
            "text7: Wall Street Journal\n",
            "text8: Personals Corpus\n",
            "text9: The Man Who Was Thursday by G . K . Chesterton 1908\n"
          ]
        }
      ]
    },
    {
      "cell_type": "code",
      "source": [
        "text1.concordance('monstrous')"
      ],
      "metadata": {
        "colab": {
          "base_uri": "https://localhost:8080/"
        },
        "id": "aAPY2snRuwL_",
        "outputId": "09895c79-cb4b-4940-e06f-1a27828588d3"
      },
      "execution_count": 5,
      "outputs": [
        {
          "output_type": "stream",
          "name": "stdout",
          "text": [
            "Displaying 11 of 11 matches:\n",
            "ong the former , one was of a most monstrous size . ... This came towards us , \n",
            "ON OF THE PSALMS . \" Touching that monstrous bulk of the whale or ork we have r\n",
            "ll over with a heathenish array of monstrous clubs and spears . Some were thick\n",
            "d as you gazed , and wondered what monstrous cannibal and savage could ever hav\n",
            "that has survived the flood ; most monstrous and most mountainous ! That Himmal\n",
            "they might scout at Moby Dick as a monstrous fable , or still worse and more de\n",
            "th of Radney .'\" CHAPTER 55 Of the Monstrous Pictures of Whales . I shall ere l\n",
            "ing Scenes . In connexion with the monstrous pictures of whales , I am strongly\n",
            "ere to enter upon those still more monstrous stories of them which are to be fo\n",
            "ght have been rummaged out of this monstrous cabinet there is no telling . But \n",
            "of Whale - Bones ; for Whales of a monstrous size are oftentimes cast up dead u\n"
          ]
        }
      ]
    },
    {
      "cell_type": "code",
      "source": [
        "text1.concordance('inordinate')"
      ],
      "metadata": {
        "colab": {
          "base_uri": "https://localhost:8080/"
        },
        "id": "s-EYM3flwTmP",
        "outputId": "dc156b60-e8e5-49fa-eaf4-ae56182c25d4"
      },
      "execution_count": 6,
      "outputs": [
        {
          "output_type": "stream",
          "name": "stdout",
          "text": [
            "Displaying 3 of 3 matches:\n",
            "they said ; but somehow he got an inordinate quantity of cruel , unmitigated h\n",
            "oprietor merely on account of the inordinate possessions yet owned and rented \n",
            " - telling sail of any sort ; the inordinate length of each separate voyage ; \n"
          ]
        }
      ]
    },
    {
      "cell_type": "code",
      "source": [
        "text3.concordance('adam')"
      ],
      "metadata": {
        "colab": {
          "base_uri": "https://localhost:8080/"
        },
        "id": "M4tvlD70x_0o",
        "outputId": "d22663e5-32bb-4707-8806-2cb7b0d67f15"
      },
      "execution_count": 7,
      "outputs": [
        {
          "output_type": "stream",
          "name": "stdout",
          "text": [
            "Displaying 18 of 18 matches:\n",
            "l of the air ; and brought them unto Adam to see what he would call th and wha\n",
            "what he would call th and whatsoever Adam called every living creature , that \n",
            "re , that was the name thereof . And Adam gave names to all cattle , and to th\n",
            "o every beast of the field ; but for Adam there was not found an help meet for\n",
            "God caused a deep sleep to fall upon Adam , and he sle and he took one of his \n",
            ", and brought her unto the man . And Adam said , This is now bone of my bones \n",
            " the garden in the cool of the d and Adam and his wife hid themselves from the\n",
            "arden . And the LORD God called unto Adam , and said unto him , Where art thou\n",
            "d he shall rule over thee . And unto Adam he said , Because thou hast hearkene\n",
            "nd unto dust shalt thou return . And Adam called his wife ' s name Eve ; becau\n",
            " was the mother of all living . Unto Adam also and to his wife did the LORD Go\n",
            "ep the way of the tree of life . And Adam knew Eve his wife ; and she conceive\n",
            "y Lamech seventy and sevenfold . And Adam knew his wife again ; and she bare a\n",
            "is is the book of the generations of Adam . In the day that God created man , \n",
            "blessed them , and called their name Adam , in the day when they were created \n",
            "the day when they were created . And Adam lived an hundred and thirty years , \n",
            "d called his name Se And the days of Adam after he had begotten Seth were eigh\n",
            "nd daughters : And all the days that Adam lived were nine hundred and thirty y\n"
          ]
        }
      ]
    },
    {
      "cell_type": "code",
      "source": [
        "text4.concordance('reign')"
      ],
      "metadata": {
        "colab": {
          "base_uri": "https://localhost:8080/"
        },
        "id": "05204vIhxgiv",
        "outputId": "9ccae97d-422f-40df-b842-319f5d01cc40"
      },
      "execution_count": 8,
      "outputs": [
        {
          "output_type": "stream",
          "name": "stdout",
          "text": [
            "Displaying 6 of 6 matches:\n",
            "pristine health and beauty . But the reign of an intolerant spirit of party amo\n",
            "odshed , and there be ushered in the reign of peace to be made permanent by a g\n",
            "ence must be cast upon the side of a reign not of force but of law and trial , \n",
            "ere is realization that only under a reign of law , based on righteousness and \n",
            "t the world . We wish to advance the reign of justice and reason toward the ext\n",
            " force of history that can break the reign of hatred and resentment , and expos\n"
          ]
        }
      ]
    },
    {
      "cell_type": "code",
      "source": [
        "text5.concordance(':)')"
      ],
      "metadata": {
        "colab": {
          "base_uri": "https://localhost:8080/"
        },
        "id": "fH5Xi6Tz1dEX",
        "outputId": "1a589aff-32b2-4a10-f8c0-843931de1bf3"
      },
      "execution_count": 9,
      "outputs": [
        {
          "output_type": "stream",
          "name": "stdout",
          "text": [
            "Displaying 25 of 101 matches:\n",
            "e . . ACTION gives U121 a golf clap . :) JOIN hi U59 26 / m / ky women that ar\n",
            "OIN JOIN show will let 's talk . PART :) haha brb opps JOIN PART sho * . ACTIO\n",
            " mirror . hi U64 wb U139 u should U44 :) PART PART JOIN single dad here JOIN t\n",
            "0 well U68 what did u buy yeah i know :) U136 .. get the hell outta my freakin\n",
            " already U7 ... yayayayayyy !! OOooOO :) how you doin U139 lmaoo U121 ' iamaho\n",
            "U20 yep lmao U7 !!! . ACTION laughs . :) PART your fiance , do you know his ha\n",
            "hit ? il get u a cheap flight to hell :) lmao bbl maybe PART LOL lol U7 it was\n",
            "n be bought if theres enuff money U83 :) any guys have webcams ? . ACTION re-t\n",
            "Lies . lmao no U115 Check my record . :) Lol lick em U7 U23 how old r u lol Wa\n",
            "re not dead hahaha u got a good catch :) . ACTION covers her neck . are u mexi\n",
            "e baby sucks being you then huh ? j/k :) JOIN hey U27 ... welcome Hi !! PART J\n",
            "hey U31 ... welcome cool U31 hello U9 :) hey U31 U11 *hugs* are you sexy ? Hi \n",
            " U31 U11 *hugs* are you sexy ? Hi U17 :) yo U31 whats up JOIN am i ? Hi all yo\n",
            "sexy in the dark i think i am too U31 :) lol no U31 ... do n't leave have n't \n",
            "o me waht anyone else thinks about me :) lol . ACTION settles in next to U11 .\n",
            "days hi U37 , yes i sleep lol U3 .... :) When I do n\"t even know what that mea\n",
            "to the corner . PART Come on down U41 :) . ACTION hogs the couch . U17 looks o\n",
            " 's up there for a minute Hey U42 hon :) U31 , it is not up . ok i am back lol\n",
            "g ... I would rather Swim in an Ocean :) lol U18 Hard to read a book if you ne\n",
            "the solution is Simple .... Change it :) hey U33 fart ? hi U33 hi U33 hi U11 U\n",
            " nice JOIN good PART lol U11 amen U32 :) goody PART chuckle U20 lol .... i 'm \n",
            " JOIN JOIN U20 has an awesome pic too :) Doing great U43 -- thanks for asking \n",
            "ove U52 's pic hey U53 Hi Everyone .. :) U18 hugsssss :) hiy U16 hi U53 U9 PAR\n",
            "ey U53 Hi Everyone .. :) U18 hugsssss :) hiy U16 hi U53 U9 PART U53 hi U53 how\n",
            "IN already ? good ty hi U16 Hi U54 .. :) hi U53 yes U34 ? hiya U53 hi U52 hi U\n"
          ]
        }
      ]
    },
    {
      "cell_type": "code",
      "source": [
        "text1.similar(\"monstrous\")"
      ],
      "metadata": {
        "colab": {
          "base_uri": "https://localhost:8080/"
        },
        "id": "33USOA3d2LSp",
        "outputId": "c3a597d6-3567-4d24-d3b2-da67025908a1"
      },
      "execution_count": 10,
      "outputs": [
        {
          "output_type": "stream",
          "name": "stdout",
          "text": [
            "true contemptible christian abundant few part mean careful puzzled\n",
            "mystifying passing curious loving wise doleful gamesome singular\n",
            "delightfully perilous fearless\n"
          ]
        }
      ]
    },
    {
      "cell_type": "code",
      "source": [
        "text2.similar(\"monstrous\")"
      ],
      "metadata": {
        "colab": {
          "base_uri": "https://localhost:8080/"
        },
        "id": "ZjzQbCc_30Ho",
        "outputId": "8f78e1b2-fc3b-4dc4-8ce8-70566aac0161"
      },
      "execution_count": 11,
      "outputs": [
        {
          "output_type": "stream",
          "name": "stdout",
          "text": [
            "very so exceedingly heartily a as good great extremely remarkably\n",
            "sweet vast amazingly\n"
          ]
        }
      ]
    },
    {
      "cell_type": "code",
      "source": [
        "text2.common_contexts([\"monstrous\", \"very\"])"
      ],
      "metadata": {
        "colab": {
          "base_uri": "https://localhost:8080/"
        },
        "id": "LzoNfhdA4afx",
        "outputId": "1bfd4ebf-f6fd-4069-f5e4-2d185a32acd8"
      },
      "execution_count": 12,
      "outputs": [
        {
          "output_type": "stream",
          "name": "stdout",
          "text": [
            "am_glad a_pretty a_lucky is_pretty be_glad\n"
          ]
        }
      ]
    },
    {
      "cell_type": "code",
      "source": [
        "text3.common_contexts([\"adam\", \"god\"])"
      ],
      "metadata": {
        "colab": {
          "base_uri": "https://localhost:8080/"
        },
        "id": "n73OkY-P4i5w",
        "outputId": "cedf74d5-f658-49c3-b643-b4d2ebe0f8d1"
      },
      "execution_count": 13,
      "outputs": [
        {
          "output_type": "stream",
          "name": "stdout",
          "text": [
            "and_said unto_, and_called\n"
          ]
        }
      ]
    },
    {
      "cell_type": "code",
      "source": [
        "text4.dispersion_plot([\"citizens\", \"democracy\", \"freedom\", \"duties\", \"America\"])\n"
      ],
      "metadata": {
        "colab": {
          "base_uri": "https://localhost:8080/",
          "height": 295
        },
        "id": "kVh1Sr494_NA",
        "outputId": "716f0a26-64c7-430b-9c5a-f2007ffe5501"
      },
      "execution_count": 14,
      "outputs": [
        {
          "output_type": "display_data",
          "data": {
            "text/plain": [
              "<Figure size 432x288 with 1 Axes>"
            ],
            "image/png": "[encoded data removed]"
          },
          "metadata": {
            "needs_background": "light"
          }
        }
      ]
    },
    {
      "cell_type": "code",
      "source": [
        "# commence : (cominciare: italiano), (comenzar: español)\n",
        "# initiate : (iniziare: italiano), (iniciar: español)\n",
        "# start: (starten: deutsch, nederlands), (starta: svenska)\n",
        "# begin: (beginnen: deutsch, nederlands), (börja: svenska), (begynna: svenska, Middle english)\n",
        "# (empezar: español)\n",
        "\n",
        "text4.dispersion_plot([\"commence\", \"initiate\", \"start\", \"begin\"]) # text4: U.S Presidential Inaugural Addresses, timeline over 220 years"
      ],
      "metadata": {
        "colab": {
          "base_uri": "https://localhost:8080/",
          "height": 295
        },
        "id": "OwuYcgs253E5",
        "outputId": "1d602e08-9456-4bbd-97b1-c61e8db83015"
      },
      "execution_count": 15,
      "outputs": [
        {
          "output_type": "display_data",
          "data": {
            "text/plain": [
              "<Figure size 432x288 with 1 Axes>"
            ],
            "image/png": "[encoded data removed]"
          },
          "metadata": {
            "needs_background": "light"
          }
        }
      ]
    },
    {
      "cell_type": "code",
      "source": [
        "text1.dispersion_plot([\"commence\", \"initiate\", \"start\", \"begin\"]) # text1 Moby dick; literature"
      ],
      "metadata": {
        "colab": {
          "base_uri": "https://localhost:8080/",
          "height": 295
        },
        "id": "yfCVz9kNNM53",
        "outputId": "b3cfcf2d-7a8b-4d50-dd2f-1a7d4fbeab45"
      },
      "execution_count": 16,
      "outputs": [
        {
          "output_type": "display_data",
          "data": {
            "text/plain": [
              "<Figure size 432x288 with 1 Axes>"
            ],
            "image/png": "[encoded data removed]"
          },
          "metadata": {
            "needs_background": "light"
          }
        }
      ]
    },
    {
      "cell_type": "code",
      "source": [
        "text5.dispersion_plot([\"commence\", \"initiate\", \"start\", \"begin\"]) # text5 chat informal language"
      ],
      "metadata": {
        "colab": {
          "base_uri": "https://localhost:8080/",
          "height": 295
        },
        "id": "ZNGgpcBWFA60",
        "outputId": "8430e9cb-b0bb-4897-c96a-c17100984ef5"
      },
      "execution_count": 17,
      "outputs": [
        {
          "output_type": "display_data",
          "data": {
            "text/plain": [
              "<Figure size 432x288 with 1 Axes>"
            ],
            "image/png": "[encoded data removed]"
          },
          "metadata": {
            "needs_background": "light"
          }
        }
      ]
    },
    {
      "cell_type": "code",
      "source": [
        "text7.dispersion_plot([\"commence\", \"initiate\", \"start\", \"begin\"]) # text7: Wall Street Journal"
      ],
      "metadata": {
        "colab": {
          "base_uri": "https://localhost:8080/",
          "height": 295
        },
        "id": "zNO7SgCQCr5I",
        "outputId": "6169e592-7464-4716-8c24-47f00ce011c5"
      },
      "execution_count": 18,
      "outputs": [
        {
          "output_type": "display_data",
          "data": {
            "text/plain": [
              "<Figure size 432x288 with 1 Axes>"
            ],
            "image/png": "[encoded data removed]"
          },
          "metadata": {
            "needs_background": "light"
          }
        }
      ]
    },
    {
      "cell_type": "code",
      "source": [
        "import nltk \n",
        "nltk.download('punkt')"
      ],
      "metadata": {
        "id": "uNwg9A2qUpru",
        "colab": {
          "base_uri": "https://localhost:8080/"
        },
        "outputId": "e082011d-3e81-4518-9dc8-d7c5f564a8a2"
      },
      "execution_count": 19,
      "outputs": [
        {
          "output_type": "stream",
          "name": "stderr",
          "text": [
            "[nltk_data] Downloading package punkt to /root/nltk_data...\n",
            "[nltk_data]   Package punkt is already up-to-date!\n"
          ]
        },
        {
          "output_type": "execute_result",
          "data": {
            "text/plain": [
              "True"
            ]
          },
          "metadata": {},
          "execution_count": 19
        }
      ]
    },
    {
      "cell_type": "code",
      "source": [
        "text3.generate()"
      ],
      "metadata": {
        "colab": {
          "base_uri": "https://localhost:8080/",
          "height": 244
        },
        "id": "itMKYVgaEAMJ",
        "outputId": "54945e9a-1a63-4ab9-d8c3-daf0ee3be11b"
      },
      "execution_count": 20,
      "outputs": [
        {
          "output_type": "stream",
          "name": "stderr",
          "text": [
            "Building ngram index...\n"
          ]
        },
        {
          "output_type": "stream",
          "name": "stdout",
          "text": [
            "lamb for a burnt offering in the city . , duke Elah , duke Shobal ,\n",
            "and Akan . and looked upon my affliction . Because the LORD God\n",
            "amongst the trees of the mighty God of Abraham his father , that they\n",
            "found a plain man , and the wo The blessings of my hand to do justice\n",
            "and judgment ; that the LORD that spake unto me , and put him into the\n",
            "ark , and for your little ones . they heard that they have brought it\n",
            "unto Hagar , Sarai ' s brother will I slay\n"
          ]
        },
        {
          "output_type": "execute_result",
          "data": {
            "text/plain": [
              "\"lamb for a burnt offering in the city . , duke Elah , duke Shobal ,\\nand Akan . and looked upon my affliction . Because the LORD God\\namongst the trees of the mighty God of Abraham his father , that they\\nfound a plain man , and the wo The blessings of my hand to do justice\\nand judgment ; that the LORD that spake unto me , and put him into the\\nark , and for your little ones . they heard that they have brought it\\nunto Hagar , Sarai ' s brother will I slay\""
            ],
            "application/vnd.google.colaboratory.intrinsic+json": {
              "type": "string"
            }
          },
          "metadata": {},
          "execution_count": 20
        }
      ]
    },
    {
      "cell_type": "code",
      "source": [
        "text3.generate()"
      ],
      "metadata": {
        "colab": {
          "base_uri": "https://localhost:8080/",
          "height": 226
        },
        "id": "AnjAcezqETQM",
        "outputId": "c8fb44ac-35e8-4e0a-bc22-8c50ccef1d71"
      },
      "execution_count": 21,
      "outputs": [
        {
          "output_type": "stream",
          "name": "stdout",
          "text": [
            "lamb for a burnt offering in the city . , duke Elah , duke Shobal ,\n",
            "and Akan . and looked upon my affliction . Because the LORD God\n",
            "amongst the trees of the mighty God of Abraham his father , that they\n",
            "found a plain man , and the wo The blessings of my hand to do justice\n",
            "and judgment ; that the LORD that spake unto me , and put him into the\n",
            "ark , and for your little ones . they heard that they have brought it\n",
            "unto Hagar , Sarai ' s brother will I slay\n"
          ]
        },
        {
          "output_type": "execute_result",
          "data": {
            "text/plain": [
              "\"lamb for a burnt offering in the city . , duke Elah , duke Shobal ,\\nand Akan . and looked upon my affliction . Because the LORD God\\namongst the trees of the mighty God of Abraham his father , that they\\nfound a plain man , and the wo The blessings of my hand to do justice\\nand judgment ; that the LORD that spake unto me , and put him into the\\nark , and for your little ones . they heard that they have brought it\\nunto Hagar , Sarai ' s brother will I slay\""
            ],
            "application/vnd.google.colaboratory.intrinsic+json": {
              "type": "string"
            }
          },
          "metadata": {},
          "execution_count": 21
        }
      ]
    },
    {
      "cell_type": "code",
      "source": [
        "text5.generate()"
      ],
      "metadata": {
        "colab": {
          "base_uri": "https://localhost:8080/",
          "height": 244
        },
        "id": "XCyeIoljEMp8",
        "outputId": "60ba3ff7-4319-485a-da0d-b9eaf85873ea"
      },
      "execution_count": 22,
      "outputs": [
        {
          "output_type": "stream",
          "name": "stderr",
          "text": [
            "Building ngram index...\n"
          ]
        },
        {
          "output_type": "stream",
          "name": "stdout",
          "text": [
            "heya U13 cripos . ,,,, i have never used elbows im standin where ?\n",
            "U122 JOIN I 'm getting him banned ty U36 wow mercy mercy me .... lol\n",
            "and I will end up together :-( not that I was U31 You called me Amy ?\n",
            ":) PART . the heck is that a roaring column of flame streaks out of\n",
            "uniform . JOIN PART PART NICK : U27 but that would be U41 but my table\n",
            "too dam low Heyy U103 28 m hawaii here if n e hott rocker girls wana\n",
            "chat pm me Watching = An hour\n"
          ]
        },
        {
          "output_type": "execute_result",
          "data": {
            "text/plain": [
              "\"heya U13 cripos . ,,,, i have never used elbows im standin where ?\\nU122 JOIN I 'm getting him banned ty U36 wow mercy mercy me .... lol\\nand I will end up together :-( not that I was U31 You called me Amy ?\\n:) PART . the heck is that a roaring column of flame streaks out of\\nuniform . JOIN PART PART NICK : U27 but that would be U41 but my table\\ntoo dam low Heyy U103 28 m hawaii here if n e hott rocker girls wana\\nchat pm me Watching = An hour\""
            ],
            "application/vnd.google.colaboratory.intrinsic+json": {
              "type": "string"
            }
          },
          "metadata": {},
          "execution_count": 22
        }
      ]
    },
    {
      "cell_type": "markdown",
      "source": [
        "**Counting Vocabulary**"
      ],
      "metadata": {
        "id": "Ku2ciuk2VHaw"
      }
    },
    {
      "cell_type": "markdown",
      "source": [
        "How to use the computer to count the words in a text in a variety of useful ways.\n",
        "\n",
        "`len`: to find out the length of a text from start to finish\n",
        "\n",
        " - The book of Genesis has 44,764 words and punctuation symbols, or \"tokens.\"\n",
        "\n",
        "\n",
        "A **Token** is the **teahnical name for a sequence of characters** -- such as hair, his, or :) --  that we want to treat as a group. When we ocunt the number of tokens in a text, say, the phrase **\"to be or not to be\"**, we are counting occurences of these sequences. Thus, in our example phrase there are **two occurences of \"to\", two of \"be\", and one each of \"or\" and \"not\"**. but there are only four distinct vocabulary items in this phrase.\n",
        "\n",
        "`set`: to find out how many of distinct words (items) of the book contain, all duplicates are collapsed together.\n",
        "\n",
        "`sorted` : to sort a list of vocabulary items. \n",
        "\n",
        "**Word type** is the form or spelling of the word independently of its specific occurrence in a text, the word considered as a unique item of vocabulary.\n",
        "\n",
        "  - The book of Genesis has 2789 items will include punctuation symbols, so we will generally call these unique items **types** instead of word types."
      ],
      "metadata": {
        "id": "drVrVl2Gld4B"
      }
    },
    {
      "cell_type": "code",
      "source": [
        "len(text3) # text3 : The Book of Genesis, there are 44764 tokens"
      ],
      "metadata": {
        "colab": {
          "base_uri": "https://localhost:8080/"
        },
        "id": "8vBvYpIqVOGo",
        "outputId": "7ba6d681-5008-41d8-bf25-b4cf6962e750"
      },
      "execution_count": 23,
      "outputs": [
        {
          "output_type": "execute_result",
          "data": {
            "text/plain": [
              "44764"
            ]
          },
          "metadata": {},
          "execution_count": 23
        }
      ]
    },
    {
      "cell_type": "code",
      "source": [
        "len(set(text3)) # There are 2789 distinct words type"
      ],
      "metadata": {
        "colab": {
          "base_uri": "https://localhost:8080/"
        },
        "id": "2PWujg0-qHeS",
        "outputId": "0213eb3a-b877-41b7-e910-337a74f15307"
      },
      "execution_count": 24,
      "outputs": [
        {
          "output_type": "execute_result",
          "data": {
            "text/plain": [
              "2789"
            ]
          },
          "metadata": {},
          "execution_count": 24
        }
      ]
    },
    {
      "cell_type": "code",
      "source": [
        "sorted(set(text3))[:20]  # sort distincted items from The Book of Genesis then shows 20 items, start beginning with puctuation then alphabetical order started from A-Z uppercase then lowercase a-z "
      ],
      "metadata": {
        "colab": {
          "base_uri": "https://localhost:8080/"
        },
        "id": "HWGsI4KyofCy",
        "outputId": "8d112770-b6f0-45e6-c3cb-082f8a733e4c"
      },
      "execution_count": 25,
      "outputs": [
        {
          "output_type": "execute_result",
          "data": {
            "text/plain": [
              "['!',\n",
              " \"'\",\n",
              " '(',\n",
              " ')',\n",
              " ',',\n",
              " ',)',\n",
              " '.',\n",
              " '.)',\n",
              " ':',\n",
              " ';',\n",
              " ';)',\n",
              " '?',\n",
              " '?)',\n",
              " 'A',\n",
              " 'Abel',\n",
              " 'Abelmizraim',\n",
              " 'Abidah',\n",
              " 'Abide',\n",
              " 'Abimael',\n",
              " 'Abimelech']"
            ]
          },
          "metadata": {},
          "execution_count": 25
        }
      ]
    },
    {
      "cell_type": "code",
      "source": [
        "# calculate a measure of the lexical richness of the text.\n",
        "\n",
        "from __future__ import division\n",
        "\n",
        "len(text3)/len(set(text3))     # each word is used 16 times on average"
      ],
      "metadata": {
        "id": "dO0D580wlaXi",
        "colab": {
          "base_uri": "https://localhost:8080/"
        },
        "outputId": "d9be8a38-aae7-4bef-fa31-1a6717a12e0c"
      },
      "execution_count": 26,
      "outputs": [
        {
          "output_type": "execute_result",
          "data": {
            "text/plain": [
              "16.050197203298673"
            ]
          },
          "metadata": {},
          "execution_count": 26
        }
      ]
    },
    {
      "cell_type": "code",
      "source": [
        "# focus on particular words\n",
        "\n",
        "text3.count(\"smote\")"
      ],
      "metadata": {
        "colab": {
          "base_uri": "https://localhost:8080/"
        },
        "id": "ecWJo4yZs0nR",
        "outputId": "8cc10a5a-2a35-4c42-e42a-c09e0d4c7c8d"
      },
      "execution_count": 27,
      "outputs": [
        {
          "output_type": "execute_result",
          "data": {
            "text/plain": [
              "5"
            ]
          },
          "metadata": {},
          "execution_count": 27
        }
      ]
    },
    {
      "cell_type": "code",
      "source": [
        "text3.count(\"Smote\")   # case sensitive \"Smote\" and \"smote\" are different"
      ],
      "metadata": {
        "colab": {
          "base_uri": "https://localhost:8080/"
        },
        "id": "dZkjnmy0s_xQ",
        "outputId": "212843e5-950e-40fb-9f8f-84bccd70b381"
      },
      "execution_count": 28,
      "outputs": [
        {
          "output_type": "execute_result",
          "data": {
            "text/plain": [
              "0"
            ]
          },
          "metadata": {},
          "execution_count": 28
        }
      ]
    },
    {
      "cell_type": "code",
      "source": [
        "100 * text4.count('a') / len(text4) # find percent of \"a\" occured in Inaugural address"
      ],
      "metadata": {
        "colab": {
          "base_uri": "https://localhost:8080/"
        },
        "id": "_S8A4AOrtPih",
        "outputId": "0a6cebf1-3d6c-45a6-91fb-02604576bbea"
      },
      "execution_count": 29,
      "outputs": [
        {
          "output_type": "execute_result",
          "data": {
            "text/plain": [
              "1.457806031353621"
            ]
          },
          "metadata": {},
          "execution_count": 29
        }
      ]
    },
    {
      "cell_type": "code",
      "source": [
        "text5.count(\"lol\") # there are 704 \"lol\"s in Chat Corpus"
      ],
      "metadata": {
        "colab": {
          "base_uri": "https://localhost:8080/"
        },
        "id": "PFyheEfHtrAa",
        "outputId": "40401ab8-41cb-4a21-ef72-8a9a056cd877"
      },
      "execution_count": 30,
      "outputs": [
        {
          "output_type": "execute_result",
          "data": {
            "text/plain": [
              "704"
            ]
          },
          "metadata": {},
          "execution_count": 30
        }
      ]
    },
    {
      "cell_type": "code",
      "source": [
        "100 * text5.count('lol') / len(text5)"
      ],
      "metadata": {
        "colab": {
          "base_uri": "https://localhost:8080/"
        },
        "id": "i4Lo_FCKv1nB",
        "outputId": "d4b34439-8f43-4a8d-9e9d-c11a2122351a"
      },
      "execution_count": 31,
      "outputs": [
        {
          "output_type": "execute_result",
          "data": {
            "text/plain": [
              "1.5640968673628082"
            ]
          },
          "metadata": {},
          "execution_count": 31
        }
      ]
    },
    {
      "cell_type": "code",
      "source": [
        "def lexical_diversity(text):\n",
        "  return len(text)/ len(set(text))\n",
        "\n",
        "def count(text, word):\n",
        "  return text.count(word)\n",
        "\n",
        "def percentage(text, word):\n",
        "  return 100 * text.count(word) / len(text)  "
      ],
      "metadata": {
        "id": "aCC1t1O6wJ5q"
      },
      "execution_count": 32,
      "outputs": []
    },
    {
      "cell_type": "code",
      "source": [
        "lexical_diversity(text3)\n"
      ],
      "metadata": {
        "colab": {
          "base_uri": "https://localhost:8080/"
        },
        "id": "uRwSk1abyrHR",
        "outputId": "11dc7e3a-d513-4273-e37e-c89e5311b74d"
      },
      "execution_count": 33,
      "outputs": [
        {
          "output_type": "execute_result",
          "data": {
            "text/plain": [
              "16.050197203298673"
            ]
          },
          "metadata": {},
          "execution_count": 33
        }
      ]
    },
    {
      "cell_type": "code",
      "source": [
        "print(count(text1, 'happy'))\n",
        "print(count(text1, 'sad')) \n",
        "\n",
        "print(percentage(text1, 'courage'))\n",
        "print(percentage(text1, 'fear'))"
      ],
      "metadata": {
        "colab": {
          "base_uri": "https://localhost:8080/"
        },
        "id": "e2UI7_Yhw5x5",
        "outputId": "9891e1ab-c0ee-4ffd-9d87-ee76c773217c"
      },
      "execution_count": 34,
      "outputs": [
        {
          "output_type": "stream",
          "name": "stdout",
          "text": [
            "8\n",
            "9\n",
            "0.0034506688546463255\n",
            "0.01226904481652027\n"
          ]
        }
      ]
    },
    {
      "cell_type": "markdown",
      "source": [
        "## **1.2 A Closer Look at Python: Texts as Lists of Words**"
      ],
      "metadata": {
        "id": "HDWSCPR3zYlL"
      }
    },
    {
      "cell_type": "markdown",
      "source": [
        "**Lists** : a sequence of chapters, made up of a sequence of sections, where each section is a sequence of paragraphs,"
      ],
      "metadata": {
        "id": "zOH1iBSvzsZK"
      }
    },
    {
      "cell_type": "code",
      "source": [
        "sent1 = ['Call', 'me', 'Ishmael', '.'] # assign list of words to variable called sent1\n",
        "\n",
        "sent1"
      ],
      "metadata": {
        "colab": {
          "base_uri": "https://localhost:8080/"
        },
        "id": "z-u1E31E1_uy",
        "outputId": "ae476810-c590-4780-e21a-c3ce44dbb6e8"
      },
      "execution_count": 35,
      "outputs": [
        {
          "output_type": "execute_result",
          "data": {
            "text/plain": [
              "['Call', 'me', 'Ishmael', '.']"
            ]
          },
          "metadata": {},
          "execution_count": 35
        }
      ]
    },
    {
      "cell_type": "code",
      "source": [
        "sent2"
      ],
      "metadata": {
        "colab": {
          "base_uri": "https://localhost:8080/"
        },
        "id": "vnKhk7Uo3dMM",
        "outputId": "50733138-2c2b-4548-cff7-22d5d7397d25"
      },
      "execution_count": 36,
      "outputs": [
        {
          "output_type": "execute_result",
          "data": {
            "text/plain": [
              "['The',\n",
              " 'family',\n",
              " 'of',\n",
              " 'Dashwood',\n",
              " 'had',\n",
              " 'long',\n",
              " 'been',\n",
              " 'settled',\n",
              " 'in',\n",
              " 'Sussex',\n",
              " '.']"
            ]
          },
          "metadata": {},
          "execution_count": 36
        }
      ]
    },
    {
      "cell_type": "code",
      "source": [
        "sent3"
      ],
      "metadata": {
        "colab": {
          "base_uri": "https://localhost:8080/"
        },
        "id": "W_6UOzis3gZS",
        "outputId": "0ecb0492-9dc2-4c9d-97e1-0944961bb38a"
      },
      "execution_count": 37,
      "outputs": [
        {
          "output_type": "execute_result",
          "data": {
            "text/plain": [
              "['In',\n",
              " 'the',\n",
              " 'beginning',\n",
              " 'God',\n",
              " 'created',\n",
              " 'the',\n",
              " 'heaven',\n",
              " 'and',\n",
              " 'the',\n",
              " 'earth',\n",
              " '.']"
            ]
          },
          "metadata": {},
          "execution_count": 37
        }
      ]
    },
    {
      "cell_type": "code",
      "source": [
        "ex1 = ['Monty', 'Python', 'and', 'the', 'Holy', 'Grail']\n",
        "\n",
        "print(sorted(ex1))          # Uppercase A-Z -> Lowercase a-z\n",
        "print(len(set(ex1)))        # count items in a distinct list \n",
        "print(ex1.count('the'))     # there is only one 'the' "
      ],
      "metadata": {
        "colab": {
          "base_uri": "https://localhost:8080/"
        },
        "id": "iwZPto5u3rRx",
        "outputId": "0a20e8cd-9b84-45eb-d2fd-d5697d26d558"
      },
      "execution_count": 38,
      "outputs": [
        {
          "output_type": "stream",
          "name": "stdout",
          "text": [
            "['Grail', 'Holy', 'Monty', 'Python', 'and', 'the']\n",
            "6\n",
            "1\n"
          ]
        }
      ]
    },
    {
      "cell_type": "markdown",
      "source": [
        "**Concatenation** combines the lists to gether into a single list."
      ],
      "metadata": {
        "id": "el63-93K5D6M"
      }
    },
    {
      "cell_type": "code",
      "source": [
        "# adding two lists \n",
        "\n",
        "['Monty' , 'Python'] + ['and', 'the', 'Holy', 'Grail']"
      ],
      "metadata": {
        "colab": {
          "base_uri": "https://localhost:8080/"
        },
        "id": "HPv286Nv4aCS",
        "outputId": "5d006978-0b61-461d-b127-afb93c803bfd"
      },
      "execution_count": 39,
      "outputs": [
        {
          "output_type": "execute_result",
          "data": {
            "text/plain": [
              "['Monty', 'Python', 'and', 'the', 'Holy', 'Grail']"
            ]
          },
          "metadata": {},
          "execution_count": 39
        }
      ]
    },
    {
      "cell_type": "code",
      "source": [
        "sent4 + sent1"
      ],
      "metadata": {
        "colab": {
          "base_uri": "https://localhost:8080/"
        },
        "id": "W5mK1-bW5IcM",
        "outputId": "db5a95b1-b37d-4a38-88b1-378bf0e3769b"
      },
      "execution_count": 40,
      "outputs": [
        {
          "output_type": "execute_result",
          "data": {
            "text/plain": [
              "['Fellow',\n",
              " '-',\n",
              " 'Citizens',\n",
              " 'of',\n",
              " 'the',\n",
              " 'Senate',\n",
              " 'and',\n",
              " 'of',\n",
              " 'the',\n",
              " 'House',\n",
              " 'of',\n",
              " 'Representatives',\n",
              " ':',\n",
              " 'Call',\n",
              " 'me',\n",
              " 'Ishmael',\n",
              " '.']"
            ]
          },
          "metadata": {},
          "execution_count": 40
        }
      ]
    },
    {
      "cell_type": "markdown",
      "source": [
        "**append** : to add a single item to a list"
      ],
      "metadata": {
        "id": "9E6OGJjp5P9i"
      }
    },
    {
      "cell_type": "code",
      "source": [
        "sent1.append(\"Some\")\n",
        "\n",
        "sent1"
      ],
      "metadata": {
        "colab": {
          "base_uri": "https://localhost:8080/"
        },
        "id": "cQgyz41N5PPy",
        "outputId": "bd033c99-214c-4155-dee4-6dc1b115fd38"
      },
      "execution_count": 41,
      "outputs": [
        {
          "output_type": "execute_result",
          "data": {
            "text/plain": [
              "['Call', 'me', 'Ishmael', '.', 'Some']"
            ]
          },
          "metadata": {},
          "execution_count": 41
        }
      ]
    },
    {
      "cell_type": "markdown",
      "source": [
        "**Indexing Lists** \n",
        "\n",
        "A text in Python is a list of words, represented using a combination of brackets and quotes.\n",
        "\n",
        "\n",
        "We can pick out the 1st, 173rd or even 14278th word in a printed text, we can identify the elements of a Python list by their order of occurence in the list. **the number that represents this position** is the item's **index**"
      ],
      "metadata": {
        "id": "UcIJQpYh5-qc"
      }
    },
    {
      "cell_type": "code",
      "source": [
        "text4[173]"
      ],
      "metadata": {
        "colab": {
          "base_uri": "https://localhost:8080/",
          "height": 35
        },
        "id": "pMFpegV063nC",
        "outputId": "e76bf021-318d-42d3-b472-cc1c3116c45f"
      },
      "execution_count": 42,
      "outputs": [
        {
          "output_type": "execute_result",
          "data": {
            "text/plain": [
              "'awaken'"
            ],
            "application/vnd.google.colaboratory.intrinsic+json": {
              "type": "string"
            }
          },
          "metadata": {},
          "execution_count": 42
        }
      ]
    },
    {
      "cell_type": "code",
      "source": [
        "text4.count('awaken') # count 'awaken' in text4"
      ],
      "metadata": {
        "colab": {
          "base_uri": "https://localhost:8080/"
        },
        "id": "Y575X_DF7SSL",
        "outputId": "5d826723-2ef6-48cb-8dcf-23966bf39a9f"
      },
      "execution_count": 43,
      "outputs": [
        {
          "output_type": "execute_result",
          "data": {
            "text/plain": [
              "1"
            ]
          },
          "metadata": {},
          "execution_count": 43
        }
      ]
    },
    {
      "cell_type": "code",
      "source": [
        "text4.index('awaken')  # to find index of when it first occurs:"
      ],
      "metadata": {
        "colab": {
          "base_uri": "https://localhost:8080/"
        },
        "id": "-I6oA2tX66c6",
        "outputId": "d57846d1-0b37-45eb-f8ae-4f3c075e4718"
      },
      "execution_count": 44,
      "outputs": [
        {
          "output_type": "execute_result",
          "data": {
            "text/plain": [
              "173"
            ]
          },
          "metadata": {},
          "execution_count": 44
        }
      ]
    },
    {
      "cell_type": "markdown",
      "source": [
        "**slicing**: allow to access sublists, extracting manageable pieces of language from large texts "
      ],
      "metadata": {
        "id": "BLWmtO_H7pHq"
      }
    },
    {
      "cell_type": "code",
      "source": [
        "text5[16715:16735]"
      ],
      "metadata": {
        "colab": {
          "base_uri": "https://localhost:8080/"
        },
        "id": "GrnTySM17-3k",
        "outputId": "88f68f28-da4c-4d38-f45a-c5133f20d9ed"
      },
      "execution_count": 45,
      "outputs": [
        {
          "output_type": "execute_result",
          "data": {
            "text/plain": [
              "['U86',\n",
              " 'thats',\n",
              " 'why',\n",
              " 'something',\n",
              " 'like',\n",
              " 'gamefly',\n",
              " 'is',\n",
              " 'so',\n",
              " 'good',\n",
              " 'because',\n",
              " 'you',\n",
              " 'can',\n",
              " 'actually',\n",
              " 'play',\n",
              " 'a',\n",
              " 'full',\n",
              " 'game',\n",
              " 'without',\n",
              " 'buying',\n",
              " 'it']"
            ]
          },
          "metadata": {},
          "execution_count": 45
        }
      ]
    },
    {
      "cell_type": "code",
      "source": [
        "text6[1600:1625]"
      ],
      "metadata": {
        "colab": {
          "base_uri": "https://localhost:8080/"
        },
        "id": "v3RvGKCi8D48",
        "outputId": "18b4976e-5490-4daa-b49a-6819d00dd775"
      },
      "execution_count": 46,
      "outputs": [
        {
          "output_type": "execute_result",
          "data": {
            "text/plain": [
              "['We',\n",
              " \"'\",\n",
              " 're',\n",
              " 'an',\n",
              " 'anarcho',\n",
              " '-',\n",
              " 'syndicalist',\n",
              " 'commune',\n",
              " '.',\n",
              " 'We',\n",
              " 'take',\n",
              " 'it',\n",
              " 'in',\n",
              " 'turns',\n",
              " 'to',\n",
              " 'act',\n",
              " 'as',\n",
              " 'a',\n",
              " 'sort',\n",
              " 'of',\n",
              " 'executive',\n",
              " 'officer',\n",
              " 'for',\n",
              " 'the',\n",
              " 'week']"
            ]
          },
          "metadata": {},
          "execution_count": 46
        }
      ]
    },
    {
      "cell_type": "code",
      "source": [
        "sent = ['word1', 'word2', 'word3', 'word4', 'word5',\n",
        "        'word6', 'word7', 'word8', 'word9', 'word10']\n",
        "\n",
        "\n",
        "for pos, word in enumerate(sent):\n",
        "  print(f\"{pos} .......... {word}\")"
      ],
      "metadata": {
        "colab": {
          "base_uri": "https://localhost:8080/"
        },
        "id": "8Lay8mrn8KUy",
        "outputId": "3753284b-06af-4241-ee67-4612692cf683"
      },
      "execution_count": 47,
      "outputs": [
        {
          "output_type": "stream",
          "name": "stdout",
          "text": [
            "0 .......... word1\n",
            "1 .......... word2\n",
            "2 .......... word3\n",
            "3 .......... word4\n",
            "4 .......... word5\n",
            "5 .......... word6\n",
            "6 .......... word7\n",
            "7 .......... word8\n",
            "8 .......... word9\n",
            "9 .......... word10\n"
          ]
        }
      ]
    },
    {
      "cell_type": "code",
      "source": [
        "sent[0]  # the indexes start from zero "
      ],
      "metadata": {
        "colab": {
          "base_uri": "https://localhost:8080/",
          "height": 35
        },
        "id": "B-9Y4EGD8w3C",
        "outputId": "03882305-8e25-4976-a6ee-1b1c48327943"
      },
      "execution_count": 48,
      "outputs": [
        {
          "output_type": "execute_result",
          "data": {
            "text/plain": [
              "'word1'"
            ],
            "application/vnd.google.colaboratory.intrinsic+json": {
              "type": "string"
            }
          },
          "metadata": {},
          "execution_count": 48
        }
      ]
    },
    {
      "cell_type": "code",
      "source": [
        "try:\n",
        "  sent[10]\n",
        "except:\n",
        "  print('IndexError: list index out of range')"
      ],
      "metadata": {
        "colab": {
          "base_uri": "https://localhost:8080/"
        },
        "id": "_KfJGwoX9JRa",
        "outputId": "dbda3732-507f-441c-ca10-d148ea9c3a99"
      },
      "execution_count": 49,
      "outputs": [
        {
          "output_type": "stream",
          "name": "stdout",
          "text": [
            "IndexError: list index out of range\n"
          ]
        }
      ]
    },
    {
      "cell_type": "code",
      "source": [
        "sent[5: 8]"
      ],
      "metadata": {
        "colab": {
          "base_uri": "https://localhost:8080/"
        },
        "id": "qu9JL32j9e7j",
        "outputId": "e669af6a-5519-44c0-ea83-9f439ff1dfbf"
      },
      "execution_count": 50,
      "outputs": [
        {
          "output_type": "execute_result",
          "data": {
            "text/plain": [
              "['word6', 'word7', 'word8']"
            ]
          },
          "metadata": {},
          "execution_count": 50
        }
      ]
    },
    {
      "cell_type": "code",
      "source": [
        "sent[:3] # from the first index upto 3 index but exculde 3"
      ],
      "metadata": {
        "colab": {
          "base_uri": "https://localhost:8080/"
        },
        "id": "6mLXLZiH9uWC",
        "outputId": "f09010d2-5182-4b10-e8de-81e1913b33d6"
      },
      "execution_count": 51,
      "outputs": [
        {
          "output_type": "execute_result",
          "data": {
            "text/plain": [
              "['word1', 'word2', 'word3']"
            ]
          },
          "metadata": {},
          "execution_count": 51
        }
      ]
    },
    {
      "cell_type": "code",
      "source": [
        "sent[0] = 'First'\n",
        "sent[9] = 'Last'\n",
        "sent[1:9] = ['Second', 'Third']\n",
        "\n",
        "sent"
      ],
      "metadata": {
        "colab": {
          "base_uri": "https://localhost:8080/"
        },
        "id": "4WzZhY6L-Svq",
        "outputId": "5248d2fd-c346-4a52-90d5-f79e4418c110"
      },
      "execution_count": 52,
      "outputs": [
        {
          "output_type": "execute_result",
          "data": {
            "text/plain": [
              "['First', 'Second', 'Third', 'Last']"
            ]
          },
          "metadata": {},
          "execution_count": 52
        }
      ]
    },
    {
      "cell_type": "code",
      "source": [
        "for pos, word in enumerate(sent):\n",
        "  print(f\"{pos} .......... {word}\")"
      ],
      "metadata": {
        "colab": {
          "base_uri": "https://localhost:8080/"
        },
        "id": "Pzqt-5yG-6ay",
        "outputId": "5a3c4051-d694-4467-ece4-231828da29ba"
      },
      "execution_count": 53,
      "outputs": [
        {
          "output_type": "stream",
          "name": "stdout",
          "text": [
            "0 .......... First\n",
            "1 .......... Second\n",
            "2 .......... Third\n",
            "3 .......... Last\n"
          ]
        }
      ]
    },
    {
      "cell_type": "markdown",
      "source": [
        "**Variables**\n",
        "\n",
        "A thing that can be stored something like bag, box, bowl. -- my definition \n",
        "\n",
        "a **data item** that may take on more than one value during the runtime of a program. -- from google\n",
        "\n",
        "> variable = expression\n",
        "\n",
        "**Assignment** is the process we save any expression to the variable."
      ],
      "metadata": {
        "id": "dhOmRlD5_FlT"
      }
    },
    {
      "cell_type": "code",
      "source": [
        "vocab = set(text1)\n",
        "vocab_size = len(vocab)\n",
        "vocab_size"
      ],
      "metadata": {
        "colab": {
          "base_uri": "https://localhost:8080/"
        },
        "id": "0c91C3e0DMBE",
        "outputId": "00e69eae-ebe6-4d3b-ef8a-237e7988e3b4"
      },
      "execution_count": 54,
      "outputs": [
        {
          "output_type": "execute_result",
          "data": {
            "text/plain": [
              "19317"
            ]
          },
          "metadata": {},
          "execution_count": 54
        }
      ]
    },
    {
      "cell_type": "markdown",
      "source": [
        "**Strings**\n"
      ],
      "metadata": {
        "id": "FANW8u_2DfK6"
      }
    },
    {
      "cell_type": "code",
      "source": [
        "name = 'Monty'\n",
        "\n",
        "print(name[0])\n",
        "print(name[:4])"
      ],
      "metadata": {
        "colab": {
          "base_uri": "https://localhost:8080/"
        },
        "id": "8RZdgWOWD1r5",
        "outputId": "b8b5c60f-f9c2-444a-f5ca-203609a9f422"
      },
      "execution_count": 55,
      "outputs": [
        {
          "output_type": "stream",
          "name": "stdout",
          "text": [
            "M\n",
            "Mont\n"
          ]
        }
      ]
    },
    {
      "cell_type": "code",
      "source": [
        "name * 2  # string can multiply with intiger not float"
      ],
      "metadata": {
        "colab": {
          "base_uri": "https://localhost:8080/",
          "height": 35
        },
        "id": "qR_gEtnTD03u",
        "outputId": "bda6593a-8565-41cb-d544-12ee33131510"
      },
      "execution_count": 56,
      "outputs": [
        {
          "output_type": "execute_result",
          "data": {
            "text/plain": [
              "'MontyMonty'"
            ],
            "application/vnd.google.colaboratory.intrinsic+json": {
              "type": "string"
            }
          },
          "metadata": {},
          "execution_count": 56
        }
      ]
    },
    {
      "cell_type": "code",
      "source": [
        "name + '!' # sting can concatenate or add"
      ],
      "metadata": {
        "colab": {
          "base_uri": "https://localhost:8080/",
          "height": 35
        },
        "id": "H2mgRAq4EKuK",
        "outputId": "b13f9ecc-5c67-4266-d051-296120fb4788"
      },
      "execution_count": 57,
      "outputs": [
        {
          "output_type": "execute_result",
          "data": {
            "text/plain": [
              "'Monty!'"
            ],
            "application/vnd.google.colaboratory.intrinsic+json": {
              "type": "string"
            }
          },
          "metadata": {},
          "execution_count": 57
        }
      ]
    },
    {
      "cell_type": "code",
      "source": [
        "''.join(['Monty', 'Python']) # make a single string from list"
      ],
      "metadata": {
        "colab": {
          "base_uri": "https://localhost:8080/",
          "height": 35
        },
        "id": "gfRBXhDVEbGm",
        "outputId": "990ed300-b129-4b50-b87a-f45e8f667433"
      },
      "execution_count": 58,
      "outputs": [
        {
          "output_type": "execute_result",
          "data": {
            "text/plain": [
              "'MontyPython'"
            ],
            "application/vnd.google.colaboratory.intrinsic+json": {
              "type": "string"
            }
          },
          "metadata": {},
          "execution_count": 58
        }
      ]
    },
    {
      "cell_type": "code",
      "source": [
        "'Monty Python'.split() # split a string into a list"
      ],
      "metadata": {
        "colab": {
          "base_uri": "https://localhost:8080/"
        },
        "id": "Zw9kmnuzFL-u",
        "outputId": "3581faf5-516e-4fb5-835f-bfbc060cea33"
      },
      "execution_count": 59,
      "outputs": [
        {
          "output_type": "execute_result",
          "data": {
            "text/plain": [
              "['Monty', 'Python']"
            ]
          },
          "metadata": {},
          "execution_count": 59
        }
      ]
    },
    {
      "cell_type": "markdown",
      "source": [
        "## **1.3 Computing with Language: Simple Statistics**"
      ],
      "metadata": {
        "id": "Z9r9yx3XFXu0"
      }
    },
    {
      "cell_type": "markdown",
      "source": [
        "In this section, we pick up the question of **what make a text distinct**, and use automatic methods to **find characteristic words and expression of a text**."
      ],
      "metadata": {
        "id": "k6KrdSK_GOiL"
      }
    },
    {
      "cell_type": "code",
      "source": [
        "saying = ['After', 'all', 'is', 'said', 'and', 'done',\n",
        "          'more', 'is', 'said', 'than', 'done']\n",
        "\n",
        "tokens = set(saying)\n",
        "tokens = sorted(tokens)\n",
        "tokens[-2:]          # from the last two indexs"
      ],
      "metadata": {
        "colab": {
          "base_uri": "https://localhost:8080/"
        },
        "id": "32DLG6dUG7Ek",
        "outputId": "6325f35b-2ea9-46de-add6-fd125a07343c"
      },
      "execution_count": 60,
      "outputs": [
        {
          "output_type": "execute_result",
          "data": {
            "text/plain": [
              "['said', 'than']"
            ]
          },
          "metadata": {},
          "execution_count": 60
        }
      ]
    },
    {
      "cell_type": "markdown",
      "source": [
        "**Frequency distribution**\n",
        "\n",
        "It tells us the **frequency of each vocabulary** item in the text. It is a \"distribution\" since it tells us how the total number of word tokens in the text are distributed across the vocabulary items.\n",
        "\n",
        "`FreqDist` find the frequent words \n",
        "`hapaxes` the owrds that occur once only"
      ],
      "metadata": {
        "id": "XGa6cLIxHXPI"
      }
    },
    {
      "cell_type": "code",
      "source": [
        "from nltk.book import FreqDist\n",
        "\n",
        "fdist1 = FreqDist(text1)\n",
        "\n",
        "fdist1"
      ],
      "metadata": {
        "colab": {
          "base_uri": "https://localhost:8080/"
        },
        "id": "IIdmDw1JIMRk",
        "outputId": "e90cbb27-9d34-4094-cd12-d4c5d383fc97"
      },
      "execution_count": 61,
      "outputs": [
        {
          "output_type": "execute_result",
          "data": {
            "text/plain": [
              "FreqDist({',': 18713, 'the': 13721, '.': 6862, 'of': 6536, 'and': 6024, 'a': 4569, 'to': 4542, ';': 4072, 'in': 3916, 'that': 2982, ...})"
            ]
          },
          "metadata": {},
          "execution_count": 61
        }
      ]
    },
    {
      "cell_type": "code",
      "source": [
        "vocabulary1 = fdist1.keys()\n"
      ],
      "metadata": {
        "id": "Xq5-n4oZIUSb"
      },
      "execution_count": 62,
      "outputs": []
    },
    {
      "cell_type": "code",
      "source": [
        "fdist1['whale']  # inspect the total number of words (\"outcomes\")"
      ],
      "metadata": {
        "colab": {
          "base_uri": "https://localhost:8080/"
        },
        "id": "LGxKjHgXKZs0",
        "outputId": "59a3f35c-1d65-45fe-ea39-d724607bb968"
      },
      "execution_count": 63,
      "outputs": [
        {
          "output_type": "execute_result",
          "data": {
            "text/plain": [
              "906"
            ]
          },
          "metadata": {},
          "execution_count": 63
        }
      ]
    },
    {
      "cell_type": "code",
      "source": [
        "import matplotlib.pyplot as plt\n",
        "\n",
        "\n",
        "plt.figure(figsize=(10, 7))\n",
        "fdist1.plot(50, cumulative=True, color='#000080');  # cumulative counts "
      ],
      "metadata": {
        "colab": {
          "base_uri": "https://localhost:8080/",
          "height": 462
        },
        "id": "dCbmjgLOLxME",
        "outputId": "d8646b92-0aa3-46d9-dcdf-a64eec6704b9"
      },
      "execution_count": 65,
      "outputs": [
        {
          "output_type": "display_data",
          "data": {
            "text/plain": [
              "<Figure size 720x504 with 1 Axes>"
            ],
            "image/png": "[encoded data removed]"
          },
          "metadata": {
            "needs_background": "light"
          }
        }
      ]
    },
    {
      "cell_type": "code",
      "source": [
        "fdist1.hapaxes()[:50] # hapexes the words that occur once only"
      ],
      "metadata": {
        "colab": {
          "base_uri": "https://localhost:8080/"
        },
        "id": "G2LF4x6sPja8",
        "outputId": "4163298c-e21c-45a7-d43e-182e2e586f48"
      },
      "execution_count": 66,
      "outputs": [
        {
          "output_type": "execute_result",
          "data": {
            "text/plain": [
              "['Herman',\n",
              " 'Melville',\n",
              " ']',\n",
              " 'ETYMOLOGY',\n",
              " 'Late',\n",
              " 'Consumptive',\n",
              " 'School',\n",
              " 'threadbare',\n",
              " 'lexicons',\n",
              " 'mockingly',\n",
              " 'flags',\n",
              " 'mortality',\n",
              " 'signification',\n",
              " 'HACKLUYT',\n",
              " 'Sw',\n",
              " 'HVAL',\n",
              " 'roundness',\n",
              " 'Dut',\n",
              " 'Ger',\n",
              " 'WALLEN',\n",
              " 'WALW',\n",
              " 'IAN',\n",
              " 'RICHARDSON',\n",
              " 'KETOS',\n",
              " 'GREEK',\n",
              " 'CETUS',\n",
              " 'LATIN',\n",
              " 'WHOEL',\n",
              " 'ANGLO',\n",
              " 'SAXON',\n",
              " 'WAL',\n",
              " 'HWAL',\n",
              " 'SWEDISH',\n",
              " 'ICELANDIC',\n",
              " 'BALEINE',\n",
              " 'BALLENA',\n",
              " 'FEGEE',\n",
              " 'ERROMANGOAN',\n",
              " 'Librarian',\n",
              " 'painstaking',\n",
              " 'burrower',\n",
              " 'grub',\n",
              " 'Vaticans',\n",
              " 'stalls',\n",
              " 'higgledy',\n",
              " 'piggledy',\n",
              " 'gospel',\n",
              " 'promiscuously',\n",
              " 'commentator',\n",
              " 'belongest']"
            ]
          },
          "metadata": {},
          "execution_count": 66
        }
      ]
    },
    {
      "cell_type": "markdown",
      "source": [
        "**Myself**"
      ],
      "metadata": {
        "id": "i_ISnf-3_ECN"
      }
    },
    {
      "cell_type": "code",
      "source": [
        "from collections import Counter\n",
        "\n",
        "word_counts = Counter(text1)   # quite the same as FreqDist\n",
        "\n",
        "f_50 = {}\n",
        "\n",
        "for k, v in word_counts.most_common(50):\n",
        "  f_50[k] = v\n",
        "  print(f\"{k} .......... {v}\")"
      ],
      "metadata": {
        "colab": {
          "base_uri": "https://localhost:8080/"
        },
        "id": "pcL-2UeSKv-r",
        "outputId": "b17ef2c3-03b8-40c9-af23-cb17dd2ffbe5"
      },
      "execution_count": 107,
      "outputs": [
        {
          "output_type": "stream",
          "name": "stdout",
          "text": [
            ", .......... 18713\n",
            "the .......... 13721\n",
            ". .......... 6862\n",
            "of .......... 6536\n",
            "and .......... 6024\n",
            "a .......... 4569\n",
            "to .......... 4542\n",
            "; .......... 4072\n",
            "in .......... 3916\n",
            "that .......... 2982\n",
            "' .......... 2684\n",
            "- .......... 2552\n",
            "his .......... 2459\n",
            "it .......... 2209\n",
            "I .......... 2124\n",
            "s .......... 1739\n",
            "is .......... 1695\n",
            "he .......... 1661\n",
            "with .......... 1659\n",
            "was .......... 1632\n",
            "as .......... 1620\n",
            "\" .......... 1478\n",
            "all .......... 1462\n",
            "for .......... 1414\n",
            "this .......... 1280\n",
            "! .......... 1269\n",
            "at .......... 1231\n",
            "by .......... 1137\n",
            "but .......... 1113\n",
            "not .......... 1103\n",
            "-- .......... 1070\n",
            "him .......... 1058\n",
            "from .......... 1052\n",
            "be .......... 1030\n",
            "on .......... 1005\n",
            "so .......... 918\n",
            "whale .......... 906\n",
            "one .......... 889\n",
            "you .......... 841\n",
            "had .......... 767\n",
            "have .......... 760\n",
            "there .......... 715\n",
            "But .......... 705\n",
            "or .......... 697\n",
            "were .......... 680\n",
            "now .......... 646\n",
            "which .......... 640\n",
            "? .......... 637\n",
            "me .......... 627\n",
            "like .......... 624\n"
          ]
        }
      ]
    },
    {
      "cell_type": "code",
      "source": [
        "import matplotlib.pyplot as plt\n",
        "\n",
        "names = list(f_50.keys())\n",
        "values = list(f_50.values())\n",
        "\n",
        "plt.figure(figsize=(10, 7))\n",
        "plt.plot(names, values, color=\"#000080\", alpha=0.8)\n",
        "plt.xticks(names, rotation='vertical')\n",
        "plt.xlabel('top 50 words')\n",
        "plt.ylabel('frequency')\n",
        "plt.show()"
      ],
      "metadata": {
        "colab": {
          "base_uri": "https://localhost:8080/",
          "height": 462
        },
        "id": "-79E8sRpMWMc",
        "outputId": "31a3f68e-6a9f-4dba-e7e0-3fad9d4608e8"
      },
      "execution_count": 108,
      "outputs": [
        {
          "output_type": "display_data",
          "data": {
            "text/plain": [
              "<Figure size 720x504 with 1 Axes>"
            ],
            "image/png": "[encoded data removed]"
          },
          "metadata": {
            "needs_background": "light"
          }
        }
      ]
    },
    {
      "cell_type": "markdown",
      "source": [
        "**Fine-Grained Selection of Words**"
      ],
      "metadata": {
        "id": "72h1NGTsng81"
      }
    },
    {
      "cell_type": "code",
      "source": [
        "#  {w | w ∈ V & P(w)}       # any word which word in set V and property P is true\n",
        "#  [w for w in V if p(w)]   # any word for word in set V if property P is true\n",
        "\n",
        "V = set(text1)\n",
        "long_words = [w for w in V if len(w) > 15]  # list of each word for word in set of V If len of word greather than 15\n",
        "sorted(long_words)"
      ],
      "metadata": {
        "colab": {
          "base_uri": "https://localhost:8080/"
        },
        "id": "VSzfwzIMRM-F",
        "outputId": "7486e004-2615-4691-f030-69ae60c764f3"
      },
      "execution_count": 68,
      "outputs": [
        {
          "output_type": "execute_result",
          "data": {
            "text/plain": [
              "['CIRCUMNAVIGATION',\n",
              " 'Physiognomically',\n",
              " 'apprehensiveness',\n",
              " 'cannibalistically',\n",
              " 'characteristically',\n",
              " 'circumnavigating',\n",
              " 'circumnavigation',\n",
              " 'circumnavigations',\n",
              " 'comprehensiveness',\n",
              " 'hermaphroditical',\n",
              " 'indiscriminately',\n",
              " 'indispensableness',\n",
              " 'irresistibleness',\n",
              " 'physiognomically',\n",
              " 'preternaturalness',\n",
              " 'responsibilities',\n",
              " 'simultaneousness',\n",
              " 'subterraneousness',\n",
              " 'supernaturalness',\n",
              " 'superstitiousness',\n",
              " 'uncomfortableness',\n",
              " 'uncompromisedness',\n",
              " 'undiscriminating',\n",
              " 'uninterpenetratingly']"
            ]
          },
          "metadata": {},
          "execution_count": 68
        }
      ]
    },
    {
      "cell_type": "code",
      "source": [
        "V4 = set(text4)\n",
        "long_words = [w for w in V4 if len(w) > 15]\n",
        "sorted(long_words)"
      ],
      "metadata": {
        "colab": {
          "base_uri": "https://localhost:8080/"
        },
        "id": "ZRVD-_xuXf3m",
        "outputId": "d1136553-d576-42ba-bd8e-d0e94ba5635b"
      },
      "execution_count": 69,
      "outputs": [
        {
          "output_type": "execute_result",
          "data": {
            "text/plain": [
              "['RESPONSIBILITIES',\n",
              " 'antiphilosophists',\n",
              " 'constitutionally',\n",
              " 'contradistinction',\n",
              " 'discountenancing',\n",
              " 'disqualification',\n",
              " 'enthusiastically',\n",
              " 'instrumentalities',\n",
              " 'internationality',\n",
              " 'irresponsibility',\n",
              " 'misappropriation',\n",
              " 'misrepresentation',\n",
              " 'misunderstanding',\n",
              " 'responsibilities',\n",
              " 'sentimentalizing',\n",
              " 'transcontinental',\n",
              " 'uncharitableness',\n",
              " 'unconstitutional']"
            ]
          },
          "metadata": {},
          "execution_count": 69
        }
      ]
    },
    {
      "cell_type": "code",
      "source": [
        "#  words from the chat corpus that are longer than\n",
        "#  seven characters, that occur more than seven times:\n",
        "\n",
        "fdist5 = FreqDist(text5)\n",
        "V5 = set(text5)\n",
        "\n",
        "long_words = [w for w in V5 if len(w) > 7 and fdist5[w] > 7] \n",
        "sorted(long_words)"
      ],
      "metadata": {
        "colab": {
          "base_uri": "https://localhost:8080/"
        },
        "id": "4AiV_n9XTx9F",
        "outputId": "c1534af1-6496-4312-9412-69be8f971013"
      },
      "execution_count": 70,
      "outputs": [
        {
          "output_type": "execute_result",
          "data": {
            "text/plain": [
              "['#14-19teens',\n",
              " '#talkcity_adults',\n",
              " '((((((((((',\n",
              " '........',\n",
              " 'Question',\n",
              " 'actually',\n",
              " 'anything',\n",
              " 'computer',\n",
              " 'cute.-ass',\n",
              " 'everyone',\n",
              " 'football',\n",
              " 'innocent',\n",
              " 'listening',\n",
              " 'remember',\n",
              " 'seriously',\n",
              " 'something',\n",
              " 'together',\n",
              " 'tomorrow',\n",
              " 'watching']"
            ]
          },
          "metadata": {},
          "execution_count": 70
        }
      ]
    },
    {
      "cell_type": "markdown",
      "source": [
        "**Collocations and Bigrams**"
      ],
      "metadata": {
        "id": "FzoelcJNnWt1"
      }
    },
    {
      "cell_type": "markdown",
      "source": [
        "A **Collocation** is **a sequence of words that occur together** unusually often. Thus **\"red wine\"** is a collocation, whereas **\"the wine\"** is not. A characteristic of collocations is that they are resistant to substitution with words that have similar senses; for example, **\"maroon wine\"** sounds very odd.\n",
        "\n",
        "`bigrams`: extracting from a text a list of word pairs; pair sequence of words in order \n",
        "\n",
        "`collocations`: find a sequence of words that occur together"
      ],
      "metadata": {
        "id": "YzWj-H5Qnosn"
      }
    },
    {
      "cell_type": "code",
      "source": [
        "col = bigrams(['more', 'is', 'said', 'than', 'done'])\n",
        "list(col)"
      ],
      "metadata": {
        "colab": {
          "base_uri": "https://localhost:8080/"
        },
        "id": "BjoZwOF6tn9U",
        "outputId": "1f108aaf-6e8e-4e27-c124-81d02f75489b"
      },
      "execution_count": 71,
      "outputs": [
        {
          "output_type": "execute_result",
          "data": {
            "text/plain": [
              "[('more', 'is'), ('is', 'said'), ('said', 'than'), ('than', 'done')]"
            ]
          },
          "metadata": {},
          "execution_count": 71
        }
      ]
    },
    {
      "cell_type": "code",
      "source": [
        "text6.collocations()"
      ],
      "metadata": {
        "colab": {
          "base_uri": "https://localhost:8080/"
        },
        "id": "ul9xMcPiwa8e",
        "outputId": "c8b9dcd3-d685-4ca4-df92-9a64aa9be8f3"
      },
      "execution_count": 72,
      "outputs": [
        {
          "output_type": "stream",
          "name": "stdout",
          "text": [
            "BLACK KNIGHT; clop clop; HEAD KNIGHT; mumble mumble; Holy Grail;\n",
            "squeak squeak; FRENCH GUARD; saw saw; Sir Robin; Run away; CARTOON\n",
            "CHARACTER; King Arthur; Iesu domine; Pie Iesu; DEAD PERSON; Round\n",
            "Table; clap clap; OLD MAN; dramatic chord; dona eis\n"
          ]
        }
      ]
    },
    {
      "cell_type": "code",
      "source": [
        "text4.collocations()"
      ],
      "metadata": {
        "colab": {
          "base_uri": "https://localhost:8080/"
        },
        "id": "PGOyI7SxufLs",
        "outputId": "f92c90ab-7e11-4f66-e314-ae08ff485738"
      },
      "execution_count": 73,
      "outputs": [
        {
          "output_type": "stream",
          "name": "stdout",
          "text": [
            "United States; fellow citizens; years ago; four years; Federal\n",
            "Government; General Government; American people; Vice President; God\n",
            "bless; Chief Justice; one another; fellow Americans; Old World;\n",
            "Almighty God; Fellow citizens; Chief Magistrate; every citizen; Indian\n",
            "tribes; public debt; foreign nations\n"
          ]
        }
      ]
    },
    {
      "cell_type": "code",
      "source": [
        "text8.collocations()"
      ],
      "metadata": {
        "colab": {
          "base_uri": "https://localhost:8080/"
        },
        "id": "dRYnThupwQil",
        "outputId": "bfdb9cdf-5959-4625-c594-c45723683ee9"
      },
      "execution_count": 74,
      "outputs": [
        {
          "output_type": "stream",
          "name": "stdout",
          "text": [
            "would like; medium build; social drinker; quiet nights; non smoker;\n",
            "long term; age open; Would like; easy going; financially secure; fun\n",
            "times; similar interests; Age open; weekends away; poss rship; well\n",
            "presented; never married; single mum; permanent relationship; slim\n",
            "build\n"
          ]
        }
      ]
    },
    {
      "cell_type": "code",
      "source": [
        "text1.collocations()"
      ],
      "metadata": {
        "colab": {
          "base_uri": "https://localhost:8080/"
        },
        "id": "QO2cvSHRypjt",
        "outputId": "8a1cd2d5-5a4c-4c28-e7d1-10e1e1a36397"
      },
      "execution_count": 75,
      "outputs": [
        {
          "output_type": "stream",
          "name": "stdout",
          "text": [
            "Sperm Whale; Moby Dick; White Whale; old man; Captain Ahab; sperm\n",
            "whale; Right Whale; Captain Peleg; New Bedford; Cape Horn; cried Ahab;\n",
            "years ago; lower jaw; never mind; Father Mapple; cried Stubb; chief\n",
            "mate; white whale; ivory leg; one hand\n"
          ]
        }
      ]
    },
    {
      "cell_type": "markdown",
      "source": [
        "**Counting Other Things**"
      ],
      "metadata": {
        "id": "WJJuYN_IwshN"
      }
    },
    {
      "cell_type": "markdown",
      "source": [
        "We can **look at the distribution of word lengths in a text**, by creating a `FreqDist` out of a long list of numbers, where each number is the length of the corresponding word in the text:"
      ],
      "metadata": {
        "id": "0I-IDWY7wvvN"
      }
    },
    {
      "cell_type": "code",
      "source": [
        "text1_len  = [len(w) for w in text1]  # find length of each word\n",
        "text1_len[:10]"
      ],
      "metadata": {
        "colab": {
          "base_uri": "https://localhost:8080/"
        },
        "id": "KvPslTFWxJkz",
        "outputId": "5feb4d80-9a0b-4831-ec3e-ef527eb80717"
      },
      "execution_count": 79,
      "outputs": [
        {
          "output_type": "execute_result",
          "data": {
            "text/plain": [
              "[1, 4, 4, 2, 6, 8, 4, 1, 9, 1]"
            ]
          },
          "metadata": {},
          "execution_count": 79
        }
      ]
    },
    {
      "cell_type": "code",
      "source": [
        "fdist = FreqDist([len(w) for w in text1]) # how frequency of \"length of word\"\n",
        "fdist"
      ],
      "metadata": {
        "colab": {
          "base_uri": "https://localhost:8080/"
        },
        "id": "2bPdIVKzyyM0",
        "outputId": "f0cce39f-6b53-4a71-c63e-4554a4863f80"
      },
      "execution_count": 77,
      "outputs": [
        {
          "output_type": "execute_result",
          "data": {
            "text/plain": [
              "FreqDist({3: 50223, 1: 47933, 4: 42345, 2: 38513, 5: 26597, 6: 17111, 7: 14399, 8: 9966, 9: 6428, 10: 3528, ...})"
            ]
          },
          "metadata": {},
          "execution_count": 77
        }
      ]
    },
    {
      "cell_type": "code",
      "source": [
        "fdist.keys()  # there are 20 different word lengths"
      ],
      "metadata": {
        "colab": {
          "base_uri": "https://localhost:8080/"
        },
        "id": "_z7rA2dN0lNN",
        "outputId": "f4dd735f-c89a-4c7f-a902-13ab6779ea54"
      },
      "execution_count": 80,
      "outputs": [
        {
          "output_type": "execute_result",
          "data": {
            "text/plain": [
              "dict_keys([1, 4, 2, 6, 8, 9, 11, 5, 7, 3, 10, 12, 13, 14, 16, 15, 17, 18, 20])"
            ]
          },
          "metadata": {},
          "execution_count": 80
        }
      ]
    },
    {
      "cell_type": "code",
      "source": [
        "fdist.items()"
      ],
      "metadata": {
        "colab": {
          "base_uri": "https://localhost:8080/"
        },
        "id": "f6c6rC5A67JX",
        "outputId": "c5d9b3c9-93a4-4012-f871-efde5922a0c0"
      },
      "execution_count": 109,
      "outputs": [
        {
          "output_type": "execute_result",
          "data": {
            "text/plain": [
              "dict_items([(1, 47933), (4, 42345), (2, 38513), (6, 17111), (8, 9966), (9, 6428), (11, 1873), (5, 26597), (7, 14399), (3, 50223), (10, 3528), (12, 1053), (13, 567), (14, 177), (16, 22), (15, 70), (17, 12), (18, 1), (20, 1)])"
            ]
          },
          "metadata": {},
          "execution_count": 109
        }
      ]
    },
    {
      "cell_type": "code",
      "source": [
        "fdist.max()  # the most frequent word length is '3'"
      ],
      "metadata": {
        "colab": {
          "base_uri": "https://localhost:8080/"
        },
        "id": "Kz069ppv8knn",
        "outputId": "54cba9dc-0be8-4ad2-e5c0-db30c2c7505c"
      },
      "execution_count": 119,
      "outputs": [
        {
          "output_type": "execute_result",
          "data": {
            "text/plain": [
              "3"
            ]
          },
          "metadata": {},
          "execution_count": 119
        }
      ]
    },
    {
      "cell_type": "code",
      "source": [
        "fdist[3]  # words of length 3 account for roughly 50,000"
      ],
      "metadata": {
        "colab": {
          "base_uri": "https://localhost:8080/"
        },
        "id": "8wRK5VkW6-QF",
        "outputId": "b3125ad8-4874-411c-952b-418f5431f612"
      },
      "execution_count": 110,
      "outputs": [
        {
          "output_type": "execute_result",
          "data": {
            "text/plain": [
              "50223"
            ]
          },
          "metadata": {},
          "execution_count": 110
        }
      ]
    },
    {
      "cell_type": "code",
      "source": [
        "fdist.freq(3)   # words of length 3 is roughly 20% of words making up the book."
      ],
      "metadata": {
        "colab": {
          "base_uri": "https://localhost:8080/"
        },
        "id": "bD8pVrrP8cHW",
        "outputId": "2e1bdbd9-4762-4e3c-c2fd-05b504084b21"
      },
      "execution_count": 118,
      "outputs": [
        {
          "output_type": "execute_result",
          "data": {
            "text/plain": [
              "0.19255882431878046"
            ]
          },
          "metadata": {},
          "execution_count": 118
        }
      ]
    },
    {
      "cell_type": "markdown",
      "source": [
        "<table>\n",
        "  <tr>\n",
        "    <th colspan=\"2\"><h1>Functions defined for NLTK's frequency distributions</h1></th>\n",
        "  </tr>\n",
        "  <tr>\n",
        "    <td>fdist = FreqDist(sample)</td>\n",
        "    <td>Create a frequency distribution containing the given samples</td>\n",
        "  </tr>\n",
        "  <tr>\n",
        "    <td>fdist.inc(sample)</td>\n",
        "    <td>Increment the count for this sample</td>\n",
        "  </tr>\n",
        "   <tr>\n",
        "    <td>fdist['monstrous']</td>\n",
        "    <td>Count of the number of times a given sample occurred</td>\n",
        "  </tr>\n",
        "  <tr>\n",
        "    <td>fdist.freq('monstrous')</td>\n",
        "    <td>Frequency of a given sample</td>\n",
        "  </tr>\n",
        "   <tr>\n",
        "    <td>fdist.N()</td>\n",
        "    <td>Total number of samples</td>\n",
        "  </tr>\n",
        "  <tr>\n",
        "    <td>fdist.keys()</td>\n",
        "    <td>The samples sorted in order of decreasing frequency</td>\n",
        "  </tr>\n",
        "  <tr>\n",
        "    <td>for sample in fdist:</td>\n",
        "    <td>Iterate over the samples, in order of decreasing frequency</td>\n",
        "  </tr>\n",
        "  <tr>\n",
        "    <td>fdist.tabulate()</td>\n",
        "    <td>Tabulate the frequency distribution</td>\n",
        "  </tr>\n",
        "   <tr>\n",
        "    <td>fdist.plot()</td>\n",
        "    <td>Graphical plot of the frequency distribution</td>\n",
        "  </tr>\n",
        "  <tr>\n",
        "    <td>fdist.plot(cummulative=True</td>\n",
        "    <td>Cumulative plot of the frequency distribution</td>\n",
        "  </tr>\n",
        "  <tr>\n",
        "    <td>fdist1 < fdist2</td>\n",
        "    <td>Test if samples in fdist 1 occur less frequently than in fdist2</td>\n",
        "  </tr>\n",
        "</table>"
      ],
      "metadata": {
        "id": "PR_asJGx9ZR9"
      }
    },
    {
      "cell_type": "markdown",
      "source": [
        "## **1.4 Back to Python: Making Decisions and Taking Control**"
      ],
      "metadata": {
        "id": "q7WtSI2xBxJu"
      }
    },
    {
      "cell_type": "markdown",
      "source": [
        "A key freature of programming is the **ability of machines to make decisions on our behalf, executing instruction when certain conditiosn are met**, or repeatedly looping through text data until some conditions is satisfied. this feature is known as **control**"
      ],
      "metadata": {
        "id": "FujgRLt6ChCm"
      }
    },
    {
      "cell_type": "markdown",
      "source": [
        "Conditionals"
      ],
      "metadata": {
        "id": "VD2fDizaC-IQ"
      }
    },
    {
      "cell_type": "markdown",
      "source": [
        "<table>\n",
        "  <tr>\n",
        "    <th colspan=\"2\"><h1>Numerical comparison operators</h1></th>\n",
        "  </tr>\n",
        "  <tr>\n",
        "    <th>Operator</th>\n",
        "    <th>Relationship</th>\n",
        "  </tr>\n",
        "  <tr>\n",
        "    <td><</td>\n",
        "    <td>Less than</td>\n",
        "  </tr>\n",
        "   <tr>\n",
        "    <td><=</td>\n",
        "    <td>Less than or equal to</td>\n",
        "  </tr>\n",
        "  <tr>\n",
        "    <td>==</td>\n",
        "    <td>Equal to (note this is two\"=\"signs, not one)</td>\n",
        "  </tr>\n",
        "   <tr>\n",
        "    <td>!=</td>\n",
        "    <td>Not equal to</td>\n",
        "  </tr>\n",
        "  <tr>\n",
        "    <td>></td>\n",
        "    <td>Greater than</td>\n",
        "  </tr>\n",
        "  <tr>\n",
        "    <td>>=</td>\n",
        "    <td>Greater than or equal to</td>\n",
        "  </tr>\n",
        "</table>"
      ],
      "metadata": {
        "id": "UXu3XqXFDFPe"
      }
    },
    {
      "cell_type": "code",
      "source": [
        "sent7"
      ],
      "metadata": {
        "colab": {
          "base_uri": "https://localhost:8080/"
        },
        "id": "TEzZAFX6EEBp",
        "outputId": "9533edd5-bcef-4ac6-cfe4-0ce3d08a241d"
      },
      "execution_count": 122,
      "outputs": [
        {
          "output_type": "execute_result",
          "data": {
            "text/plain": [
              "['Pierre',\n",
              " 'Vinken',\n",
              " ',',\n",
              " '61',\n",
              " 'years',\n",
              " 'old',\n",
              " ',',\n",
              " 'will',\n",
              " 'join',\n",
              " 'the',\n",
              " 'board',\n",
              " 'as',\n",
              " 'a',\n",
              " 'nonexecutive',\n",
              " 'director',\n",
              " 'Nov.',\n",
              " '29',\n",
              " '.']"
            ]
          },
          "metadata": {},
          "execution_count": 122
        }
      ]
    },
    {
      "cell_type": "code",
      "source": [
        "# [w for w in text if condition]\n",
        "\n",
        "[w for w in sent7 if len(w) < 4]   # less than"
      ],
      "metadata": {
        "colab": {
          "base_uri": "https://localhost:8080/"
        },
        "id": "qHuDD4_0EHoO",
        "outputId": "34252762-3b24-434d-db5e-d8bf024bc051"
      },
      "execution_count": 124,
      "outputs": [
        {
          "output_type": "execute_result",
          "data": {
            "text/plain": [
              "[',', '61', 'old', ',', 'the', 'as', 'a', '29', '.']"
            ]
          },
          "metadata": {},
          "execution_count": 124
        }
      ]
    },
    {
      "cell_type": "code",
      "source": [
        "[w for w in sent7 if len(w) <= 4]   # less than or equal"
      ],
      "metadata": {
        "colab": {
          "base_uri": "https://localhost:8080/"
        },
        "id": "lUGTXUJYEa2O",
        "outputId": "4ce8b772-76b5-43f6-b64e-bee09bb016f2"
      },
      "execution_count": 125,
      "outputs": [
        {
          "output_type": "execute_result",
          "data": {
            "text/plain": [
              "[',', '61', 'old', ',', 'will', 'join', 'the', 'as', 'a', 'Nov.', '29', '.']"
            ]
          },
          "metadata": {},
          "execution_count": 125
        }
      ]
    },
    {
      "cell_type": "code",
      "source": [
        "[w for w in sent7 if len(w) == 4]   # equal 4"
      ],
      "metadata": {
        "colab": {
          "base_uri": "https://localhost:8080/"
        },
        "id": "E8auHE3fEnjV",
        "outputId": "35cd7b82-3db6-4326-a327-6fca11bf7190"
      },
      "execution_count": 128,
      "outputs": [
        {
          "output_type": "execute_result",
          "data": {
            "text/plain": [
              "['will', 'join', 'Nov.']"
            ]
          },
          "metadata": {},
          "execution_count": 128
        }
      ]
    },
    {
      "cell_type": "code",
      "source": [
        "[w for w in sent7 if len(w) != 4]"
      ],
      "metadata": {
        "colab": {
          "base_uri": "https://localhost:8080/"
        },
        "id": "K5Tt7lA8Eyfa",
        "outputId": "c823e5a7-ef52-40dd-f091-6116edad4899"
      },
      "execution_count": 129,
      "outputs": [
        {
          "output_type": "execute_result",
          "data": {
            "text/plain": [
              "['Pierre',\n",
              " 'Vinken',\n",
              " ',',\n",
              " '61',\n",
              " 'years',\n",
              " 'old',\n",
              " ',',\n",
              " 'the',\n",
              " 'board',\n",
              " 'as',\n",
              " 'a',\n",
              " 'nonexecutive',\n",
              " 'director',\n",
              " '29',\n",
              " '.']"
            ]
          },
          "metadata": {},
          "execution_count": 129
        }
      ]
    },
    {
      "cell_type": "markdown",
      "source": [
        "<table>\n",
        "  <tr>\n",
        "    <th colspan=\"2\"><h1>Some word comparison operators</h1></th>\n",
        "  </tr>\n",
        "  <tr>\n",
        "    <th>Function</th>\n",
        "    <th>Meaning</th>\n",
        "  </tr>\n",
        "  <tr>\n",
        "    <td>s.startswith(t)</td>\n",
        "    <td>Test if s starts with 't'</td>\n",
        "  </tr>\n",
        "   <tr>\n",
        "    <td>s.endswith(t)</td>\n",
        "    <td>Test if s end with 't'</td>\n",
        "  </tr>\n",
        "  <tr>\n",
        "    <td> t in s</td>\n",
        "    <td>Test if t in containsed inside s</td>\n",
        "  </tr>\n",
        "   <tr>\n",
        "    <td>s.islower()</td>\n",
        "    <td>Test if all cased characters in s are lowercase</td>\n",
        "  </tr>\n",
        "  <tr>\n",
        "    <td>s.isupper()</td>\n",
        "    <td>Test if all cased characters in s are uppercase</td>\n",
        "  </tr>\n",
        "  <tr>\n",
        "    <td>s.isalpha()</td>\n",
        "    <td>Test if all characters in s are alphabetic</td>\n",
        "  </tr>\n",
        "   <tr>\n",
        "    <td>s.isalnum</td>\n",
        "    <td>Test if all characters in s are alphanumeric</td>\n",
        "  </tr>\n",
        "  <tr>\n",
        "    <td>s.isdigit()</td>\n",
        "    <td>Test if all characters in s are digits</td>\n",
        "  </tr>\n",
        "  <tr>\n",
        "    <td>s.istitle()</td>\n",
        "    <td>Test if all characters is titlecased (all words in s have initial capitals)</td>\n",
        "  </tr>\n",
        "</table>"
      ],
      "metadata": {
        "id": "7IJmQWihFID9"
      }
    },
    {
      "cell_type": "code",
      "source": [
        "sorted([w for w in set(text1) if w.endswith('ableness')])"
      ],
      "metadata": {
        "colab": {
          "base_uri": "https://localhost:8080/"
        },
        "id": "_nL7WuezG0Ze",
        "outputId": "7a28202f-f40a-4c43-aa80-68f7163a6d14"
      },
      "execution_count": 131,
      "outputs": [
        {
          "output_type": "execute_result",
          "data": {
            "text/plain": [
              "['comfortableness',\n",
              " 'honourableness',\n",
              " 'immutableness',\n",
              " 'indispensableness',\n",
              " 'indomitableness',\n",
              " 'intolerableness',\n",
              " 'palpableness',\n",
              " 'reasonableness',\n",
              " 'uncomfortableness']"
            ]
          },
          "metadata": {},
          "execution_count": 131
        }
      ]
    },
    {
      "cell_type": "code",
      "source": [
        "sorted([term for term in set(text4) if 'gnt' in term])"
      ],
      "metadata": {
        "colab": {
          "base_uri": "https://localhost:8080/"
        },
        "id": "g5o9fTMZHCL3",
        "outputId": "3e814a62-5708-45bb-db61-176f01dd5a49"
      },
      "execution_count": 132,
      "outputs": [
        {
          "output_type": "execute_result",
          "data": {
            "text/plain": [
              "['Sovereignty', 'sovereignties', 'sovereignty']"
            ]
          },
          "metadata": {},
          "execution_count": 132
        }
      ]
    },
    {
      "cell_type": "code",
      "source": [
        "title = sorted([item for item in set(text6) if item.istitle()])\n",
        "title[:20]"
      ],
      "metadata": {
        "colab": {
          "base_uri": "https://localhost:8080/"
        },
        "id": "IQKJ84-QHJJO",
        "outputId": "b1575f79-396e-469f-9e27-4da2534a0267"
      },
      "execution_count": 135,
      "outputs": [
        {
          "output_type": "execute_result",
          "data": {
            "text/plain": [
              "['A',\n",
              " 'Aaaaaaaaah',\n",
              " 'Aaaaaaaah',\n",
              " 'Aaaaaah',\n",
              " 'Aaaah',\n",
              " 'Aaaaugh',\n",
              " 'Aaagh',\n",
              " 'Aaah',\n",
              " 'Aaauggh',\n",
              " 'Aaaugh',\n",
              " 'Aaauugh',\n",
              " 'Aagh',\n",
              " 'Aah',\n",
              " 'Aauuggghhh',\n",
              " 'Aauuugh',\n",
              " 'Aauuuuugh',\n",
              " 'Aauuuves',\n",
              " 'Action',\n",
              " 'Actually',\n",
              " 'African']"
            ]
          },
          "metadata": {},
          "execution_count": 135
        }
      ]
    },
    {
      "cell_type": "code",
      "source": [
        "sorted(item for item in set(sent7) if item.isdigit())"
      ],
      "metadata": {
        "colab": {
          "base_uri": "https://localhost:8080/"
        },
        "id": "dS9zV_pjHau2",
        "outputId": "151b6363-2ff9-4afa-a84a-7124d357fe09"
      },
      "execution_count": 136,
      "outputs": [
        {
          "output_type": "execute_result",
          "data": {
            "text/plain": [
              "['29', '61']"
            ]
          },
          "metadata": {},
          "execution_count": 136
        }
      ]
    },
    {
      "cell_type": "code",
      "source": [
        "sorted([w for w in set(text7) if '-' in w and 'index' in w])"
      ],
      "metadata": {
        "colab": {
          "base_uri": "https://localhost:8080/"
        },
        "id": "8ZVqKuHNHu5G",
        "outputId": "6e50004a-1d8b-4bd7-cedd-45d2b9c8fe10"
      },
      "execution_count": 137,
      "outputs": [
        {
          "output_type": "execute_result",
          "data": {
            "text/plain": [
              "['Stock-index',\n",
              " 'index-arbitrage',\n",
              " 'index-fund',\n",
              " 'index-options',\n",
              " 'index-related',\n",
              " 'stock-index']"
            ]
          },
          "metadata": {},
          "execution_count": 137
        }
      ]
    },
    {
      "cell_type": "code",
      "source": [
        "sorted([wd for wd in set(text3) if wd.istitle() and len(wd) > 10])"
      ],
      "metadata": {
        "colab": {
          "base_uri": "https://localhost:8080/"
        },
        "id": "-h_ETBw0H9Me",
        "outputId": "7cc8854b-7656-48e4-f2b4-2626355e6fa5"
      },
      "execution_count": 138,
      "outputs": [
        {
          "output_type": "execute_result",
          "data": {
            "text/plain": [
              "['Abelmizraim',\n",
              " 'Allonbachuth',\n",
              " 'Beerlahairoi',\n",
              " 'Canaanitish',\n",
              " 'Chedorlaomer',\n",
              " 'Girgashites',\n",
              " 'Hazarmaveth',\n",
              " 'Hazezontamar',\n",
              " 'Ishmeelites',\n",
              " 'Jegarsahadutha',\n",
              " 'Jehovahjireh',\n",
              " 'Kirjatharba',\n",
              " 'Melchizedek',\n",
              " 'Mesopotamia',\n",
              " 'Peradventure',\n",
              " 'Philistines',\n",
              " 'Zaphnathpaaneah']"
            ]
          },
          "metadata": {},
          "execution_count": 138
        }
      ]
    },
    {
      "cell_type": "code",
      "source": [
        "sorted(w for w in set(sent7) if not w.islower())"
      ],
      "metadata": {
        "colab": {
          "base_uri": "https://localhost:8080/"
        },
        "id": "QAU5k6VqIG91",
        "outputId": "dbac4763-9100-4ae4-e897-6cc03533eb53"
      },
      "execution_count": 139,
      "outputs": [
        {
          "output_type": "execute_result",
          "data": {
            "text/plain": [
              "[',', '.', '29', '61', 'Nov.', 'Pierre', 'Vinken']"
            ]
          },
          "metadata": {},
          "execution_count": 139
        }
      ]
    },
    {
      "cell_type": "code",
      "source": [
        "sorted([t for t in set(text2) if 'cie' in t or 'cei' in t])"
      ],
      "metadata": {
        "colab": {
          "base_uri": "https://localhost:8080/"
        },
        "id": "ujzSf5rUINqU",
        "outputId": "29025707-e22c-4404-a5db-23809f7fcc23"
      },
      "execution_count": 140,
      "outputs": [
        {
          "output_type": "execute_result",
          "data": {
            "text/plain": [
              "['ancient',\n",
              " 'ceiling',\n",
              " 'conceit',\n",
              " 'conceited',\n",
              " 'conceive',\n",
              " 'conscience',\n",
              " 'conscientious',\n",
              " 'conscientiously',\n",
              " 'deceitful',\n",
              " 'deceive',\n",
              " 'deceived',\n",
              " 'deceiving',\n",
              " 'deficiencies',\n",
              " 'deficiency',\n",
              " 'deficient',\n",
              " 'delicacies',\n",
              " 'excellencies',\n",
              " 'fancied',\n",
              " 'insufficiency',\n",
              " 'insufficient',\n",
              " 'legacies',\n",
              " 'perceive',\n",
              " 'perceived',\n",
              " 'perceiving',\n",
              " 'prescience',\n",
              " 'prophecies',\n",
              " 'receipt',\n",
              " 'receive',\n",
              " 'received',\n",
              " 'receiving',\n",
              " 'society',\n",
              " 'species',\n",
              " 'sufficient',\n",
              " 'sufficiently',\n",
              " 'undeceive',\n",
              " 'undeceiving']"
            ]
          },
          "metadata": {},
          "execution_count": 140
        }
      ]
    },
    {
      "cell_type": "code",
      "source": [
        "sorted(w for w in set(text1) if w.endswith('gress') or w.endswith('port'))  # latin sufixes -gress to walk, -port to carry"
      ],
      "metadata": {
        "colab": {
          "base_uri": "https://localhost:8080/"
        },
        "id": "40OAc6TIIVVM",
        "outputId": "3d1d631f-afca-46ff-fb0e-d1ae6b8030f8"
      },
      "execution_count": 141,
      "outputs": [
        {
          "output_type": "execute_result",
          "data": {
            "text/plain": [
              "['disport',\n",
              " 'egress',\n",
              " 'import',\n",
              " 'passport',\n",
              " 'port',\n",
              " 'progress',\n",
              " 'report',\n",
              " 'seaport',\n",
              " 'sport',\n",
              " 'support',\n",
              " 'tigress']"
            ]
          },
          "metadata": {},
          "execution_count": 141
        }
      ]
    },
    {
      "cell_type": "markdown",
      "source": [
        "**Operating on Every Element**"
      ],
      "metadata": {
        "id": "WyNpKwtLJ7KV"
      }
    },
    {
      "cell_type": "code",
      "source": [
        "# [f(w) for ....]\n",
        "\n",
        "t1_len = [len(w) for w in text1]"
      ],
      "metadata": {
        "id": "kV4tWrNnKChI"
      },
      "execution_count": 145,
      "outputs": []
    },
    {
      "cell_type": "code",
      "source": [
        "# [w.f() for ....]\n",
        "\n",
        "t1_cap = [w.upper() for w in text1]\n",
        "\n",
        "t1_cap[:20]"
      ],
      "metadata": {
        "colab": {
          "base_uri": "https://localhost:8080/"
        },
        "id": "Pael3w1aKO1e",
        "outputId": "75fc75b8-ec34-4d70-af4c-a32441b1672d"
      },
      "execution_count": 146,
      "outputs": [
        {
          "output_type": "execute_result",
          "data": {
            "text/plain": [
              "['[',\n",
              " 'MOBY',\n",
              " 'DICK',\n",
              " 'BY',\n",
              " 'HERMAN',\n",
              " 'MELVILLE',\n",
              " '1851',\n",
              " ']',\n",
              " 'ETYMOLOGY',\n",
              " '.',\n",
              " '(',\n",
              " 'SUPPLIED',\n",
              " 'BY',\n",
              " 'A',\n",
              " 'LATE',\n",
              " 'CONSUMPTIVE',\n",
              " 'USHER',\n",
              " 'TO',\n",
              " 'A',\n",
              " 'GRAMMAR']"
            ]
          },
          "metadata": {},
          "execution_count": 146
        }
      ]
    },
    {
      "cell_type": "code",
      "source": [
        "count_all = len(text1)\n",
        "count_sensitive = len(set(text1))\n",
        "count_insensitive = len(set([word.lower() for word in text1])) # turn all word in lower then count disting word\n",
        "count_only_alpha = len(set([word.lower() for word in text1 if word.isalpha()]))\n",
        "\n",
        "print(count_all)\n",
        "print(count_sensitive)\n",
        "print(count_insensitive)\n",
        "print(count_only_alpha)"
      ],
      "metadata": {
        "colab": {
          "base_uri": "https://localhost:8080/"
        },
        "id": "YxyuJJ_8K1Y5",
        "outputId": "64240558-569f-498a-f407-130ab7e94c29"
      },
      "execution_count": 148,
      "outputs": [
        {
          "output_type": "stream",
          "name": "stdout",
          "text": [
            "260819\n",
            "19317\n",
            "17231\n",
            "16948\n"
          ]
        }
      ]
    },
    {
      "cell_type": "markdown",
      "source": [
        "**Nested Code Blocks**"
      ],
      "metadata": {
        "id": "xaqUtMw2MOSu"
      }
    },
    {
      "cell_type": "markdown",
      "source": [
        "when statement is satisfied (True) then a block of code execute\n",
        "\n",
        "`if` statement is known as a **control structure** because it controls whether the code in the indented block will be run"
      ],
      "metadata": {
        "id": "pcEzhROtMudf"
      }
    },
    {
      "cell_type": "code",
      "source": [
        "word = 'cat'\n",
        "if len(word) < 5:\n",
        "  print('word length is less than 5')"
      ],
      "metadata": {
        "colab": {
          "base_uri": "https://localhost:8080/"
        },
        "id": "5YNAmUsLLr5f",
        "outputId": "0b9fe578-c097-4409-c412-432674fe0328"
      },
      "execution_count": 149,
      "outputs": [
        {
          "output_type": "stream",
          "name": "stdout",
          "text": [
            "word length is less than 5\n"
          ]
        }
      ]
    },
    {
      "cell_type": "code",
      "source": [
        "word = 'cat'\n",
        "if len(word) >= 5:                                    # False \n",
        "  print('word length is greater than or equal to 5')  # Block of code doesn't run "
      ],
      "metadata": {
        "id": "TjUFb979NLHH"
      },
      "execution_count": 150,
      "outputs": []
    },
    {
      "cell_type": "code",
      "source": [
        "for word in ['Call', 'me', 'Ishmael', '.']:   # for loop\n",
        "  print(word)"
      ],
      "metadata": {
        "colab": {
          "base_uri": "https://localhost:8080/"
        },
        "id": "reh8BdFiNpBQ",
        "outputId": "b6b17a26-8c75-4dfb-a587-2c9daaed4f1b"
      },
      "execution_count": 151,
      "outputs": [
        {
          "output_type": "stream",
          "name": "stdout",
          "text": [
            "Call\n",
            "me\n",
            "Ishmael\n",
            ".\n"
          ]
        }
      ]
    },
    {
      "cell_type": "markdown",
      "source": [
        "**Looping with Conditions**"
      ],
      "metadata": {
        "id": "4AI23si3N_wX"
      }
    },
    {
      "cell_type": "code",
      "source": [
        "# combine the if and for statements \n",
        "\n",
        "sent1 = ['Call', 'me', 'Ishmael', '.']\n",
        "for w in sent1:\n",
        "  if w.endswith('l'):\n",
        "    print(w)"
      ],
      "metadata": {
        "colab": {
          "base_uri": "https://localhost:8080/"
        },
        "id": "H6Q4rcfGOIm7",
        "outputId": "7e7ab2bd-df02-4ac6-90ab-cdfb9500917f"
      },
      "execution_count": 153,
      "outputs": [
        {
          "output_type": "stream",
          "name": "stdout",
          "text": [
            "Call\n",
            "Ishmael\n"
          ]
        }
      ]
    },
    {
      "cell_type": "code",
      "source": [
        "for token in sent1:\n",
        "  if token.islower():\n",
        "    print(token,'....','is a lowercase word')\n",
        "  elif token.istitle():\n",
        "    print(token,'....','is a titlecase word')\n",
        "  else:\n",
        "    print(token,'....','is punctuation')\n"
      ],
      "metadata": {
        "colab": {
          "base_uri": "https://localhost:8080/"
        },
        "id": "2CQreNYCOg6Z",
        "outputId": "f222d7e0-c75d-412a-b1a8-8ecec4da0945"
      },
      "execution_count": 155,
      "outputs": [
        {
          "output_type": "stream",
          "name": "stdout",
          "text": [
            "Call .... is a titlecase word\n",
            "me .... is a lowercase word\n",
            "Ishmael .... is a titlecase word\n",
            ". .... is punctuation\n"
          ]
        }
      ]
    },
    {
      "cell_type": "code",
      "source": [
        "tricky = sorted([w for w in set(text2) if 'cie' in w or 'cei' in w])\n",
        "for word in tricky:\n",
        "  print(word, end=' ')"
      ],
      "metadata": {
        "colab": {
          "base_uri": "https://localhost:8080/"
        },
        "id": "YL4uQWBuPRWH",
        "outputId": "683c15da-1c37-4556-ed89-74c84e581cdd"
      },
      "execution_count": 160,
      "outputs": [
        {
          "output_type": "stream",
          "name": "stdout",
          "text": [
            "ancient ceiling conceit conceited conceive conscience conscientious conscientiously deceitful deceive deceived deceiving deficiencies deficiency deficient delicacies excellencies fancied insufficiency insufficient legacies perceive perceived perceiving prescience prophecies receipt receive received receiving society species sufficient sufficiently undeceive undeceiving "
          ]
        }
      ]
    }
  ]
}
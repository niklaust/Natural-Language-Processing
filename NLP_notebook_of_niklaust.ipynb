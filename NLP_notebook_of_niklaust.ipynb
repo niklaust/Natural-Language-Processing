{
  "nbformat": 4,
  "nbformat_minor": 0,
  "metadata": {
    "colab": {
      "provenance": [],
      "authorship_tag": "ABX9TyPWW+XfEhYs+yOZQnqalMSv",
      "include_colab_link": true
    },
    "kernelspec": {
      "name": "python3",
      "display_name": "Python 3"
    },
    "language_info": {
      "name": "python"
    }
  },
  "cells": [
    {
      "cell_type": "markdown",
      "metadata": {
        "id": "view-in-github",
        "colab_type": "text"
      },
      "source": [
        "<a href=\"https://colab.research.google.com/github/niklaust/Natural-Language-Processing/blob/main/NLP_notebook_of_niklaust.ipynb\" target=\"_parent\"><img src=\"https://colab.research.google.com/assets/colab-badge.svg\" alt=\"Open In Colab\"/></a>"
      ]
    },
    {
      "cell_type": "markdown",
      "source": [
        "# **Reference**\n",
        "\n",
        "Steven Bird, Ewan Klein, Edward Loper.(2009). *Natural Language Processing with Python*. O'Reilly"
      ],
      "metadata": {
        "id": "i7DHFSJXeoOu"
      }
    },
    {
      "cell_type": "markdown",
      "source": [
        "<h1><center><b>Natural Language Processing with Python</b></center></h1>"
      ],
      "metadata": {
        "id": "A16Lk44mfvYH"
      }
    },
    {
      "cell_type": "markdown",
      "source": [
        "github:niklaust"
      ],
      "metadata": {
        "id": "kEaTieyWfrgu"
      }
    },
    {
      "cell_type": "markdown",
      "source": [
        "start 20221202\n",
        "\n",
        "ongoing......."
      ],
      "metadata": {
        "id": "j7lup2rkhKve"
      }
    },
    {
      "cell_type": "markdown",
      "source": [
        "**Natural language** : language that is used for everyday communication by humans. English, Chinese, Spanish and so on.\n",
        "\n",
        "**Artificial languages** : programming languages and mathematicl notations\n",
        "\n",
        "**NLP** :  A wide sense to cove any kind of computer manipulation of natural language.\n",
        "* Counting word frequencies \n",
        "* compare different writing styles.\n",
        "* \"Understanding\" complete human utterances, at least to extent of being able to give useful responses to them. \n",
        "\n",
        "**Technologies based on NLP** \n",
        "* Phones and handheld computers support predictive text and handwriting recognition\n",
        "* Web search engines gvie access to information locked up in unstructured text\n",
        "* Machine translation allows us to retrieve texts written in Chinese and read them in Spanish."
      ],
      "metadata": {
        "id": "va3EcGlgNhNM"
      }
    },
    {
      "cell_type": "markdown",
      "source": [
        "**What you will learn:**\n",
        "* How simple programs can help you **manipulate and analyze language data**, and how to write these programs\n",
        "* How key concepts from **NLP** and **linguistics** are used to **describe and analyze language**\n",
        "* How **data structures** and **algorithms** are **used in NLP**\n",
        "* How language data is stored in standard formats, and how data can be used to evaluate the performance of NLPtechniques."
      ],
      "metadata": {
        "id": "bm_GhZJeTsfH"
      }
    },
    {
      "cell_type": "markdown",
      "source": [
        "NLTK: defines an infrastructure that can be used to build NLP programs in Python.\n",
        "\n",
        "[NLTK Documentation](http://www.nltk.org/)"
      ],
      "metadata": {
        "id": "-AFb6vCUYpmM"
      }
    },
    {
      "cell_type": "code",
      "source": [
        "import nltk\n",
        "\n",
        "print(f\"nltk version: {nltk.__version__}\")"
      ],
      "metadata": {
        "colab": {
          "base_uri": "https://localhost:8080/"
        },
        "id": "cA12nWURXyN1",
        "outputId": "3444e3ea-ad47-436c-cf40-743a2baaf4e2"
      },
      "execution_count": 6,
      "outputs": [
        {
          "output_type": "stream",
          "name": "stdout",
          "text": [
            "nltk version: 3.7\n"
          ]
        }
      ]
    },
    {
      "cell_type": "markdown",
      "source": [
        "<table>\n",
        "  <tr>\n",
        "    <th colspan=\"3\"><h2>Languaege processing tasks and corresponding NLTK modules iwht examples of functionality</h2></th>\n",
        "  </tr>\n",
        "  <tr>\n",
        "    <th>Language processing task</th>\n",
        "    <th>NLTK modules</th>\n",
        "    <th>Functionality</th>\n",
        "  </tr>\n",
        "  <tr>\n",
        "    <td>Accessing corpora</td>\n",
        "    <td>nltk.corpus</td>\n",
        "    <td>Standardized interfaces to corpora and lexicons</td>\n",
        "  </tr>\n",
        "  <tr>\n",
        "    <td>String processing</td>\n",
        "    <td>nltk.tokenize, nltk.stem</td>\n",
        "    <td>Tokenizers, sentence tokenizer, stemmers</td>\n",
        "  </tr>\n",
        "  <tr>\n",
        "    <td>Collection discovery</td>\n",
        "    <td>nltk.collocations</td>\n",
        "    <td>t-test, chi-squared, point-wise mutual information</td>\n",
        "  </tr>\n",
        "  <tr>\n",
        "    <td>Part-of-speech tagging</td>\n",
        "    <td>nltk.tag</td>\n",
        "    <td>n-gram, backoff, Brill, HMM, Tnt</td>\n",
        "  </tr>\n",
        "  <tr>\n",
        "    <td>Classification</td>\n",
        "    <td>nltk.classify, nltk.cluster</td>\n",
        "    <td>Decision tree, maximum entropy, naive Bayes, EM, k-means</td>\n",
        "  </tr>\n",
        "  <tr>\n",
        "    <td>Chunking</td>\n",
        "    <td>nltk.chunk</td>\n",
        "    <td>Regular expression, n-gram, named entity</td>\n",
        "  </tr>\n",
        "  <tr>\n",
        "    <td>Parsing</td>\n",
        "    <td>nltk.parse</td>\n",
        "    <td>Chart, feature-based, unification, probabilistic, dependency</td>\n",
        "  </tr>\n",
        "  <tr>\n",
        "    <td>Sematic interpretation</td>\n",
        "    <td>nltk.sem, nltk.inference</td>\n",
        "    <td>Lambda calculas, first-order logic, model checking</td>\n",
        "  </tr>\n",
        "  <tr>\n",
        "    <td>Evaluation metrics</td>\n",
        "    <td>nltk.metrics</td>\n",
        "    <td>Percision, recall, agreement coefficients</td>\n",
        "  </tr>\n",
        "  <tr>\n",
        "    <td>Probability and estimation</td>\n",
        "    <td>nltk.probability</td>\n",
        "    <td>Frequency distributions, smoothed probability distributions</td>\n",
        "  </tr>\n",
        "  <tr>\n",
        "    <td>Applications</td>\n",
        "    <td>nltk.app, nltk.chat</td>\n",
        "    <td>Graphical concordancer, parsers, WordNet browser, chatbots</td>\n",
        "  </tr>\n",
        "  <tr>\n",
        "    <td>Linguistic fieldwork</td>\n",
        "    <td>nltk.toolbox</td>\n",
        "    <td>Manipulate data in SIL Toolbox format</td>\n",
        "  </tr>\n",
        "</table>"
      ],
      "metadata": {
        "id": "lxQd-e5nZ9pd"
      }
    },
    {
      "cell_type": "markdown",
      "source": [
        "# <center>Chapter 1: Language Processing and Python</center>"
      ],
      "metadata": {
        "id": "mnHiwRRElR3m"
      }
    },
    {
      "cell_type": "markdown",
      "source": [
        "## **1.1 Computing with Language: Texts and Words**"
      ],
      "metadata": {
        "id": "Wfpf3RU0lxYF"
      }
    },
    {
      "cell_type": "markdown",
      "source": [
        "\n",
        "\n",
        "Treat **text as raw data** for the programs we write, programs that that manipulate and analyze it in a variety of  interesting ways."
      ],
      "metadata": {
        "id": "gCKFxUzflamB"
      }
    },
    {
      "cell_type": "code",
      "source": [
        "import nltk\n",
        "nltk.download()"
      ],
      "metadata": {
        "colab": {
          "base_uri": "https://localhost:8080/"
        },
        "id": "EamywD3zmUdK",
        "outputId": "483c6516-1f5c-40f6-9abb-6ba598d15a95"
      },
      "execution_count": 42,
      "outputs": [
        {
          "name": "stdout",
          "output_type": "stream",
          "text": [
            "NLTK Downloader\n",
            "---------------------------------------------------------------------------\n",
            "    d) Download   l) List    u) Update   c) Config   h) Help   q) Quit\n",
            "---------------------------------------------------------------------------\n",
            "Downloader> d\n",
            "\n",
            "Download which package (l=list; x=cancel)?\n",
            "  Identifier> l\n",
            "Packages:\n",
            "  [ ] alpino.............. Alpino Dutch Treebank\n",
            "  [ ] averaged_perceptron_tagger_ru Averaged Perceptron Tagger (Russian)\n",
            "  [ ] basque_grammars..... Grammars for Basque\n",
            "  [ ] biocreative_ppi..... BioCreAtIvE (Critical Assessment of Information\n",
            "                           Extraction Systems in Biology)\n",
            "  [ ] bllip_wsj_no_aux.... BLLIP Parser: WSJ Model\n",
            "  [ ] brown_tei........... Brown Corpus (TEI XML Version)\n",
            "  [ ] cess_cat............ CESS-CAT Treebank\n",
            "  [ ] cess_esp............ CESS-ESP Treebank\n",
            "  [ ] comparative_sentences Comparative Sentence Dataset\n",
            "  [ ] comtrans............ ComTrans Corpus Sample\n",
            "  [ ] conll2007........... Dependency Treebanks from CoNLL 2007 (Catalan\n",
            "                           and Basque Subset)\n",
            "  [ ] crubadan............ Crubadan Corpus\n",
            "  [ ] dolch............... Dolch Word List\n",
            "  [ ] europarl_raw........ Sample European Parliament Proceedings Parallel\n",
            "                           Corpus\n",
            "  [ ] extended_omw........ Extended Open Multilingual WordNet\n",
            "  [ ] floresta............ Portuguese Treebank\n",
            "  [ ] framenet_v15........ FrameNet 1.5\n",
            "Hit Enter to continue: \n",
            "  [ ] framenet_v17........ FrameNet 1.7\n",
            "  [ ] gazetteers.......... Gazeteer Lists\n",
            "  [ ] indian.............. Indian Language POS-Tagged Corpus\n",
            "  [ ] jeita............... JEITA Public Morphologically Tagged Corpus (in\n",
            "                           ChaSen format)\n",
            "  [ ] kimmo............... PC-KIMMO Data Files\n",
            "  [ ] knbc................ KNB Corpus (Annotated blog corpus)\n",
            "  [ ] large_grammars...... Large context-free and feature-based grammars\n",
            "                           for parser comparison\n",
            "  [ ] lin_thesaurus....... Lin's Dependency Thesaurus\n",
            "  [ ] mac_morpho.......... MAC-MORPHO: Brazilian Portuguese news text with\n",
            "                           part-of-speech tags\n",
            "  [ ] machado............. Machado de Assis -- Obra Completa\n",
            "  [ ] masc_tagged......... MASC Tagged Corpus\n",
            "  [ ] moses_sample........ Moses Sample Models\n",
            "  [ ] mte_teip5........... MULTEXT-East 1984 annotated corpus 4.0\n",
            "  [ ] mwa_ppdb............ The monolingual word aligner (Sultan et al.\n",
            "                           2015) subset of the Paraphrase Database.\n",
            "  [ ] nombank.1.0......... NomBank Corpus 1.0\n",
            "  [ ] nonbreaking_prefixes Non-Breaking Prefixes (Moses Decoder)\n",
            "  [ ] omw-1.4............. Open Multilingual Wordnet\n",
            "Hit Enter to continue: \n",
            "  [ ] omw................. Open Multilingual Wordnet\n",
            "  [ ] opinion_lexicon..... Opinion Lexicon\n",
            "  [ ] paradigms........... Paradigm Corpus\n",
            "  [ ] pe08................ Cross-Framework and Cross-Domain Parser\n",
            "                           Evaluation Shared Task\n",
            "  [ ] perluniprops........ perluniprops: Index of Unicode Version 7.0.0\n",
            "                           character properties in Perl\n",
            "  [ ] pil................. The Patient Information Leaflet (PIL) Corpus\n",
            "  [ ] pl196x.............. Polish language of the XX century sixties\n",
            "  [ ] porter_test......... Porter Stemmer Test Files\n",
            "  [ ] problem_reports..... Problem Report Corpus\n",
            "  [ ] product_reviews_1... Product Reviews (5 Products)\n",
            "  [ ] product_reviews_2... Product Reviews (9 Products)\n",
            "  [ ] propbank............ Proposition Bank Corpus 1.0\n",
            "  [ ] pros_cons........... Pros and Cons\n",
            "  [ ] ptb................. Penn Treebank\n",
            "  [ ] qc.................. Experimental Data for Question Classification\n",
            "  [ ] rslp................ RSLP Stemmer (Removedor de Sufixos da Lingua\n",
            "                           Portuguesa)\n",
            "  [ ] rte................. PASCAL RTE Challenges 1, 2, and 3\n",
            "  [ ] sample_grammars..... Sample Grammars\n",
            "Hit Enter to continue: \n",
            "  [ ] semcor.............. SemCor 3.0\n",
            "  [ ] sentence_polarity... Sentence Polarity Dataset v1.0\n",
            "  [ ] sentiwordnet........ SentiWordNet\n",
            "  [ ] shakespeare......... Shakespeare XML Corpus Sample\n",
            "  [ ] sinica_treebank..... Sinica Treebank Corpus Sample\n",
            "  [ ] smultron............ SMULTRON Corpus Sample\n",
            "  [ ] snowball_data....... Snowball Data\n",
            "  [ ] spanish_grammars.... Grammars for Spanish\n",
            "  [ ] subjectivity........ Subjectivity Dataset v1.0\n",
            "  [ ] switchboard......... Switchboard Corpus Sample\n",
            "  [ ] twitter_samples..... Twitter Samples\n",
            "  [ ] universal_treebanks_v20 Universal Treebanks Version 2.0\n",
            "  [ ] vader_lexicon....... VADER Sentiment Lexicon\n",
            "  [ ] verbnet3............ VerbNet Lexicon, Version 3.3\n",
            "  [ ] verbnet............. VerbNet Lexicon, Version 2.1\n",
            "  [ ] wmt15_eval.......... Evaluation data from WMT15\n",
            "  [ ] word2vec_sample..... Word2Vec Sample\n",
            "  [ ] wordnet2021......... Open English Wordnet 2021\n",
            "  [ ] wordnet31........... Wordnet 3.1\n",
            "  [ ] ycoe................ York-Toronto-Helsinki Parsed Corpus of Old\n",
            "                           English Prose\n",
            "Hit Enter to continue: \n",
            "\n",
            "Collections:\n",
            "  [P] all-corpora......... All the corpora\n",
            "  [P] all-nltk............ All packages available on nltk_data gh-pages\n",
            "                           branch\n",
            "  [P] all................. All packages\n",
            "  [P] popular............. Popular packages\n",
            "  [P] tests............... Packages for running tests\n",
            "  [ ] third-party......... Third-party data packages\n",
            "\n",
            "([*] marks installed packages; [P] marks partially installed collections)\n",
            "\n",
            "Download which package (l=list; x=cancel)?\n",
            "  Identifier> all-corpora\n"
          ]
        },
        {
          "output_type": "stream",
          "name": "stderr",
          "text": [
            "    Downloading collection 'all-corpora'\n",
            "       | \n",
            "       | Downloading package abc to /root/nltk_data...\n",
            "       |   Package abc is already up-to-date!\n",
            "       | Downloading package alpino to /root/nltk_data...\n",
            "       |   Unzipping corpora/alpino.zip.\n",
            "       | Downloading package biocreative_ppi to /root/nltk_data...\n",
            "       |   Unzipping corpora/biocreative_ppi.zip.\n",
            "       | Downloading package brown to /root/nltk_data...\n",
            "       |   Package brown is already up-to-date!\n",
            "       | Downloading package brown_tei to /root/nltk_data...\n",
            "       |   Unzipping corpora/brown_tei.zip.\n",
            "       | Downloading package cess_cat to /root/nltk_data...\n",
            "       |   Unzipping corpora/cess_cat.zip.\n",
            "       | Downloading package cess_esp to /root/nltk_data...\n",
            "       |   Unzipping corpora/cess_esp.zip.\n",
            "       | Downloading package chat80 to /root/nltk_data...\n",
            "       |   Package chat80 is already up-to-date!\n",
            "       | Downloading package city_database to /root/nltk_data...\n",
            "       |   Package city_database is already up-to-date!\n",
            "       | Downloading package cmudict to /root/nltk_data...\n",
            "       |   Package cmudict is already up-to-date!\n",
            "       | Downloading package comparative_sentences to\n",
            "       |     /root/nltk_data...\n",
            "       |   Unzipping corpora/comparative_sentences.zip.\n",
            "       | Downloading package comtrans to /root/nltk_data...\n",
            "       | Downloading package conll2000 to /root/nltk_data...\n",
            "       |   Package conll2000 is already up-to-date!\n",
            "       | Downloading package conll2002 to /root/nltk_data...\n",
            "       |   Package conll2002 is already up-to-date!\n",
            "       | Downloading package conll2007 to /root/nltk_data...\n",
            "       | Downloading package crubadan to /root/nltk_data...\n",
            "       |   Unzipping corpora/crubadan.zip.\n",
            "       | Downloading package dependency_treebank to /root/nltk_data...\n",
            "       |   Package dependency_treebank is already up-to-date!\n",
            "       | Downloading package dolch to /root/nltk_data...\n",
            "       |   Unzipping corpora/dolch.zip.\n",
            "       | Downloading package europarl_raw to /root/nltk_data...\n",
            "       |   Unzipping corpora/europarl_raw.zip.\n",
            "       | Downloading package extended_omw to /root/nltk_data...\n",
            "       | Downloading package floresta to /root/nltk_data...\n",
            "       |   Unzipping corpora/floresta.zip.\n",
            "       | Downloading package framenet_v15 to /root/nltk_data...\n",
            "       |   Unzipping corpora/framenet_v15.zip.\n",
            "       | Downloading package framenet_v17 to /root/nltk_data...\n",
            "       |   Unzipping corpora/framenet_v17.zip.\n",
            "       | Downloading package gazetteers to /root/nltk_data...\n",
            "       |   Unzipping corpora/gazetteers.zip.\n",
            "       | Downloading package genesis to /root/nltk_data...\n",
            "       |   Package genesis is already up-to-date!\n",
            "       | Downloading package gutenberg to /root/nltk_data...\n",
            "       |   Package gutenberg is already up-to-date!\n",
            "       | Downloading package ieer to /root/nltk_data...\n",
            "       |   Package ieer is already up-to-date!\n",
            "       | Downloading package inaugural to /root/nltk_data...\n",
            "       |   Package inaugural is already up-to-date!\n",
            "       | Downloading package indian to /root/nltk_data...\n",
            "       |   Unzipping corpora/indian.zip.\n",
            "       | Downloading package jeita to /root/nltk_data...\n",
            "       | Downloading package kimmo to /root/nltk_data...\n",
            "       |   Unzipping corpora/kimmo.zip.\n",
            "       | Downloading package knbc to /root/nltk_data...\n",
            "       | Downloading package lin_thesaurus to /root/nltk_data...\n",
            "       |   Unzipping corpora/lin_thesaurus.zip.\n",
            "       | Downloading package mac_morpho to /root/nltk_data...\n",
            "       |   Unzipping corpora/mac_morpho.zip.\n",
            "       | Downloading package machado to /root/nltk_data...\n",
            "       | Downloading package masc_tagged to /root/nltk_data...\n",
            "       | Downloading package movie_reviews to /root/nltk_data...\n",
            "       |   Package movie_reviews is already up-to-date!\n",
            "       | Downloading package mte_teip5 to /root/nltk_data...\n",
            "       |   Unzipping corpora/mte_teip5.zip.\n",
            "       | Downloading package names to /root/nltk_data...\n",
            "       |   Package names is already up-to-date!\n",
            "       | Downloading package nombank.1.0 to /root/nltk_data...\n",
            "       | Downloading package nonbreaking_prefixes to\n",
            "       |     /root/nltk_data...\n",
            "       |   Unzipping corpora/nonbreaking_prefixes.zip.\n",
            "       | Downloading package nps_chat to /root/nltk_data...\n",
            "       |   Package nps_chat is already up-to-date!\n",
            "       | Downloading package omw to /root/nltk_data...\n",
            "       | Downloading package omw-1.4 to /root/nltk_data...\n",
            "       | Downloading package opinion_lexicon to /root/nltk_data...\n",
            "       |   Unzipping corpora/opinion_lexicon.zip.\n",
            "       | Downloading package panlex_swadesh to /root/nltk_data...\n",
            "       |   Package panlex_swadesh is already up-to-date!\n",
            "       | Downloading package paradigms to /root/nltk_data...\n",
            "       |   Unzipping corpora/paradigms.zip.\n",
            "       | Downloading package pe08 to /root/nltk_data...\n",
            "       |   Unzipping corpora/pe08.zip.\n",
            "       | Downloading package pil to /root/nltk_data...\n",
            "       |   Unzipping corpora/pil.zip.\n",
            "       | Downloading package pl196x to /root/nltk_data...\n",
            "       |   Unzipping corpora/pl196x.zip.\n",
            "       | Downloading package ppattach to /root/nltk_data...\n",
            "       |   Package ppattach is already up-to-date!\n",
            "       | Downloading package problem_reports to /root/nltk_data...\n",
            "       |   Unzipping corpora/problem_reports.zip.\n",
            "       | Downloading package product_reviews_1 to /root/nltk_data...\n",
            "       |   Unzipping corpora/product_reviews_1.zip.\n",
            "       | Downloading package product_reviews_2 to /root/nltk_data...\n",
            "       |   Unzipping corpora/product_reviews_2.zip.\n",
            "       | Downloading package propbank to /root/nltk_data...\n",
            "       | Downloading package pros_cons to /root/nltk_data...\n",
            "       |   Unzipping corpora/pros_cons.zip.\n",
            "       | Downloading package ptb to /root/nltk_data...\n",
            "       |   Unzipping corpora/ptb.zip.\n",
            "       | Downloading package qc to /root/nltk_data...\n",
            "       |   Unzipping corpora/qc.zip.\n",
            "       | Downloading package reuters to /root/nltk_data...\n",
            "       |   Package reuters is already up-to-date!\n",
            "       | Downloading package rte to /root/nltk_data...\n",
            "       |   Unzipping corpora/rte.zip.\n",
            "       | Downloading package semcor to /root/nltk_data...\n",
            "       | Downloading package senseval to /root/nltk_data...\n",
            "       |   Package senseval is already up-to-date!\n",
            "       | Downloading package sentence_polarity to /root/nltk_data...\n",
            "       |   Unzipping corpora/sentence_polarity.zip.\n",
            "       | Downloading package sentiwordnet to /root/nltk_data...\n",
            "       |   Unzipping corpora/sentiwordnet.zip.\n",
            "       | Downloading package shakespeare to /root/nltk_data...\n",
            "       |   Unzipping corpora/shakespeare.zip.\n",
            "       | Downloading package sinica_treebank to /root/nltk_data...\n",
            "       |   Unzipping corpora/sinica_treebank.zip.\n",
            "       | Downloading package smultron to /root/nltk_data...\n",
            "       |   Unzipping corpora/smultron.zip.\n",
            "       | Downloading package state_union to /root/nltk_data...\n",
            "       |   Package state_union is already up-to-date!\n",
            "       | Downloading package stopwords to /root/nltk_data...\n",
            "       |   Package stopwords is already up-to-date!\n",
            "       | Downloading package subjectivity to /root/nltk_data...\n",
            "       |   Unzipping corpora/subjectivity.zip.\n",
            "       | Downloading package swadesh to /root/nltk_data...\n",
            "       |   Package swadesh is already up-to-date!\n",
            "       | Downloading package switchboard to /root/nltk_data...\n",
            "       |   Unzipping corpora/switchboard.zip.\n",
            "       | Downloading package timit to /root/nltk_data...\n",
            "       |   Package timit is already up-to-date!\n",
            "       | Downloading package toolbox to /root/nltk_data...\n",
            "       |   Package toolbox is already up-to-date!\n",
            "       | Downloading package treebank to /root/nltk_data...\n",
            "       |   Package treebank is already up-to-date!\n",
            "       | Downloading package twitter_samples to /root/nltk_data...\n",
            "       |   Unzipping corpora/twitter_samples.zip.\n",
            "       | Downloading package udhr to /root/nltk_data...\n",
            "       |   Package udhr is already up-to-date!\n",
            "       | Downloading package udhr2 to /root/nltk_data...\n",
            "       |   Package udhr2 is already up-to-date!\n",
            "       | Downloading package unicode_samples to /root/nltk_data...\n",
            "       |   Package unicode_samples is already up-to-date!\n",
            "       | Downloading package universal_treebanks_v20 to\n",
            "       |     /root/nltk_data...\n",
            "       | Downloading package verbnet to /root/nltk_data...\n",
            "       |   Unzipping corpora/verbnet.zip.\n",
            "       | Downloading package verbnet3 to /root/nltk_data...\n",
            "       |   Unzipping corpora/verbnet3.zip.\n",
            "       | Downloading package webtext to /root/nltk_data...\n",
            "       |   Package webtext is already up-to-date!\n",
            "       | Downloading package wordnet to /root/nltk_data...\n",
            "       |   Package wordnet is already up-to-date!\n",
            "       | Downloading package wordnet2021 to /root/nltk_data...\n",
            "       | Downloading package wordnet31 to /root/nltk_data...\n",
            "       | Downloading package wordnet_ic to /root/nltk_data...\n",
            "       |   Package wordnet_ic is already up-to-date!\n",
            "       | Downloading package words to /root/nltk_data...\n",
            "       |   Package words is already up-to-date!\n",
            "       | Downloading package ycoe to /root/nltk_data...\n",
            "       |   Unzipping corpora/ycoe.zip.\n",
            "       | \n",
            "     Done downloading collection all-corpora\n"
          ]
        },
        {
          "name": "stdout",
          "output_type": "stream",
          "text": [
            "\n",
            "---------------------------------------------------------------------------\n",
            "    d) Download   l) List    u) Update   c) Config   h) Help   q) Quit\n",
            "---------------------------------------------------------------------------\n",
            "Downloader> q\n"
          ]
        },
        {
          "output_type": "execute_result",
          "data": {
            "text/plain": [
              "True"
            ]
          },
          "metadata": {},
          "execution_count": 42
        }
      ]
    },
    {
      "cell_type": "markdown",
      "source": [
        "\n",
        "concordance() : to see words in context.\n",
        "\n",
        "similar() : to find other words appear in a similar range of contexts\n",
        "\n",
        "common_contexts() : to examine the contexts that are shared by two or more words.\n",
        "\n",
        "dispersion_plot() :  to determine the location of a word in the text: how many words from the beginning (corpus) it appears (by each stripe). \n",
        "\n",
        "generate() : to generate some random text by gathers statistics about word sequences."
      ],
      "metadata": {
        "id": "qrA3GXPJ2fEn"
      }
    },
    {
      "cell_type": "code",
      "source": [
        "from nltk.book import *\n",
        "\n",
        "text1.concordance('monstrous')"
      ],
      "metadata": {
        "colab": {
          "base_uri": "https://localhost:8080/"
        },
        "id": "aAPY2snRuwL_",
        "outputId": "fbe02639-4304-424b-eb51-85957740ecfd"
      },
      "execution_count": 41,
      "outputs": [
        {
          "output_type": "stream",
          "name": "stdout",
          "text": [
            "Displaying 11 of 11 matches:\n",
            "ong the former , one was of a most monstrous size . ... This came towards us , \n",
            "ON OF THE PSALMS . \" Touching that monstrous bulk of the whale or ork we have r\n",
            "ll over with a heathenish array of monstrous clubs and spears . Some were thick\n",
            "d as you gazed , and wondered what monstrous cannibal and savage could ever hav\n",
            "that has survived the flood ; most monstrous and most mountainous ! That Himmal\n",
            "they might scout at Moby Dick as a monstrous fable , or still worse and more de\n",
            "th of Radney .'\" CHAPTER 55 Of the Monstrous Pictures of Whales . I shall ere l\n",
            "ing Scenes . In connexion with the monstrous pictures of whales , I am strongly\n",
            "ere to enter upon those still more monstrous stories of them which are to be fo\n",
            "ght have been rummaged out of this monstrous cabinet there is no telling . But \n",
            "of Whale - Bones ; for Whales of a monstrous size are oftentimes cast up dead u\n"
          ]
        }
      ]
    },
    {
      "cell_type": "code",
      "source": [
        "text1.concordance('inordinate')"
      ],
      "metadata": {
        "colab": {
          "base_uri": "https://localhost:8080/"
        },
        "id": "s-EYM3flwTmP",
        "outputId": "3a1a85d0-d9a8-4a7c-dc0e-bb036a7d32f7"
      },
      "execution_count": 43,
      "outputs": [
        {
          "output_type": "stream",
          "name": "stdout",
          "text": [
            "Displaying 3 of 3 matches:\n",
            "they said ; but somehow he got an inordinate quantity of cruel , unmitigated h\n",
            "oprietor merely on account of the inordinate possessions yet owned and rented \n",
            " - telling sail of any sort ; the inordinate length of each separate voyage ; \n"
          ]
        }
      ]
    },
    {
      "cell_type": "code",
      "source": [
        "text3.concordance('adam')"
      ],
      "metadata": {
        "colab": {
          "base_uri": "https://localhost:8080/"
        },
        "id": "M4tvlD70x_0o",
        "outputId": "8c8c00fe-43b1-4d4c-aae8-5a17621f64cb"
      },
      "execution_count": 63,
      "outputs": [
        {
          "output_type": "stream",
          "name": "stdout",
          "text": [
            "Displaying 18 of 18 matches:\n",
            "l of the air ; and brought them unto Adam to see what he would call th and wha\n",
            "what he would call th and whatsoever Adam called every living creature , that \n",
            "re , that was the name thereof . And Adam gave names to all cattle , and to th\n",
            "o every beast of the field ; but for Adam there was not found an help meet for\n",
            "God caused a deep sleep to fall upon Adam , and he sle and he took one of his \n",
            ", and brought her unto the man . And Adam said , This is now bone of my bones \n",
            " the garden in the cool of the d and Adam and his wife hid themselves from the\n",
            "arden . And the LORD God called unto Adam , and said unto him , Where art thou\n",
            "d he shall rule over thee . And unto Adam he said , Because thou hast hearkene\n",
            "nd unto dust shalt thou return . And Adam called his wife ' s name Eve ; becau\n",
            " was the mother of all living . Unto Adam also and to his wife did the LORD Go\n",
            "ep the way of the tree of life . And Adam knew Eve his wife ; and she conceive\n",
            "y Lamech seventy and sevenfold . And Adam knew his wife again ; and she bare a\n",
            "is is the book of the generations of Adam . In the day that God created man , \n",
            "blessed them , and called their name Adam , in the day when they were created \n",
            "the day when they were created . And Adam lived an hundred and thirty years , \n",
            "d called his name Se And the days of Adam after he had begotten Seth were eigh\n",
            "nd daughters : And all the days that Adam lived were nine hundred and thirty y\n"
          ]
        }
      ]
    },
    {
      "cell_type": "code",
      "source": [
        "text4.concordance('reign')"
      ],
      "metadata": {
        "colab": {
          "base_uri": "https://localhost:8080/"
        },
        "id": "05204vIhxgiv",
        "outputId": "5822c184-d4e3-4f53-d238-ef292bab5b26"
      },
      "execution_count": 67,
      "outputs": [
        {
          "output_type": "stream",
          "name": "stdout",
          "text": [
            "Displaying 6 of 6 matches:\n",
            "pristine health and beauty . But the reign of an intolerant spirit of party amo\n",
            "odshed , and there be ushered in the reign of peace to be made permanent by a g\n",
            "ence must be cast upon the side of a reign not of force but of law and trial , \n",
            "ere is realization that only under a reign of law , based on righteousness and \n",
            "t the world . We wish to advance the reign of justice and reason toward the ext\n",
            " force of history that can break the reign of hatred and resentment , and expos\n"
          ]
        }
      ]
    },
    {
      "cell_type": "code",
      "source": [
        "text5.concordance(':)')"
      ],
      "metadata": {
        "colab": {
          "base_uri": "https://localhost:8080/"
        },
        "id": "fH5Xi6Tz1dEX",
        "outputId": "cdb09237-728e-487f-d2bf-20588705968d"
      },
      "execution_count": 64,
      "outputs": [
        {
          "output_type": "stream",
          "name": "stdout",
          "text": [
            "Displaying 25 of 101 matches:\n",
            "e . . ACTION gives U121 a golf clap . :) JOIN hi U59 26 / m / ky women that ar\n",
            "OIN JOIN show will let 's talk . PART :) haha brb opps JOIN PART sho * . ACTIO\n",
            " mirror . hi U64 wb U139 u should U44 :) PART PART JOIN single dad here JOIN t\n",
            "0 well U68 what did u buy yeah i know :) U136 .. get the hell outta my freakin\n",
            " already U7 ... yayayayayyy !! OOooOO :) how you doin U139 lmaoo U121 ' iamaho\n",
            "U20 yep lmao U7 !!! . ACTION laughs . :) PART your fiance , do you know his ha\n",
            "hit ? il get u a cheap flight to hell :) lmao bbl maybe PART LOL lol U7 it was\n",
            "n be bought if theres enuff money U83 :) any guys have webcams ? . ACTION re-t\n",
            "Lies . lmao no U115 Check my record . :) Lol lick em U7 U23 how old r u lol Wa\n",
            "re not dead hahaha u got a good catch :) . ACTION covers her neck . are u mexi\n",
            "e baby sucks being you then huh ? j/k :) JOIN hey U27 ... welcome Hi !! PART J\n",
            "hey U31 ... welcome cool U31 hello U9 :) hey U31 U11 *hugs* are you sexy ? Hi \n",
            " U31 U11 *hugs* are you sexy ? Hi U17 :) yo U31 whats up JOIN am i ? Hi all yo\n",
            "sexy in the dark i think i am too U31 :) lol no U31 ... do n't leave have n't \n",
            "o me waht anyone else thinks about me :) lol . ACTION settles in next to U11 .\n",
            "days hi U37 , yes i sleep lol U3 .... :) When I do n\"t even know what that mea\n",
            "to the corner . PART Come on down U41 :) . ACTION hogs the couch . U17 looks o\n",
            " 's up there for a minute Hey U42 hon :) U31 , it is not up . ok i am back lol\n",
            "g ... I would rather Swim in an Ocean :) lol U18 Hard to read a book if you ne\n",
            "the solution is Simple .... Change it :) hey U33 fart ? hi U33 hi U33 hi U11 U\n",
            " nice JOIN good PART lol U11 amen U32 :) goody PART chuckle U20 lol .... i 'm \n",
            " JOIN JOIN U20 has an awesome pic too :) Doing great U43 -- thanks for asking \n",
            "ove U52 's pic hey U53 Hi Everyone .. :) U18 hugsssss :) hiy U16 hi U53 U9 PAR\n",
            "ey U53 Hi Everyone .. :) U18 hugsssss :) hiy U16 hi U53 U9 PART U53 hi U53 how\n",
            "IN already ? good ty hi U16 Hi U54 .. :) hi U53 yes U34 ? hiya U53 hi U52 hi U\n"
          ]
        }
      ]
    },
    {
      "cell_type": "code",
      "source": [
        "text1.similar(\"monstrous\")"
      ],
      "metadata": {
        "colab": {
          "base_uri": "https://localhost:8080/"
        },
        "id": "33USOA3d2LSp",
        "outputId": "b8e2f45a-22e7-4e06-f8d1-bb290776009d"
      },
      "execution_count": 70,
      "outputs": [
        {
          "output_type": "stream",
          "name": "stdout",
          "text": [
            "true contemptible christian abundant few part mean careful puzzled\n",
            "mystifying passing curious loving wise doleful gamesome singular\n",
            "delightfully perilous fearless\n"
          ]
        }
      ]
    },
    {
      "cell_type": "code",
      "source": [
        "text2.similar(\"monstrous\")"
      ],
      "metadata": {
        "colab": {
          "base_uri": "https://localhost:8080/"
        },
        "id": "ZjzQbCc_30Ho",
        "outputId": "3564c1e9-215b-4a0f-a079-5b8b17eaec11"
      },
      "execution_count": 71,
      "outputs": [
        {
          "output_type": "stream",
          "name": "stdout",
          "text": [
            "very so exceedingly heartily a as good great extremely remarkably\n",
            "sweet vast amazingly\n"
          ]
        }
      ]
    },
    {
      "cell_type": "code",
      "source": [
        "text2.common_contexts([\"monstrous\", \"very\"])"
      ],
      "metadata": {
        "colab": {
          "base_uri": "https://localhost:8080/"
        },
        "id": "LzoNfhdA4afx",
        "outputId": "a538ace5-3ee4-4cf5-a832-596f7e84e45a"
      },
      "execution_count": 72,
      "outputs": [
        {
          "output_type": "stream",
          "name": "stdout",
          "text": [
            "am_glad a_pretty a_lucky is_pretty be_glad\n"
          ]
        }
      ]
    },
    {
      "cell_type": "code",
      "source": [
        "text3.common_contexts([\"adam\", \"god\"])"
      ],
      "metadata": {
        "colab": {
          "base_uri": "https://localhost:8080/"
        },
        "id": "n73OkY-P4i5w",
        "outputId": "f9ed0d8e-f997-443e-8b50-f36ab46d7118"
      },
      "execution_count": 98,
      "outputs": [
        {
          "output_type": "stream",
          "name": "stdout",
          "text": [
            "and_said unto_, and_called\n"
          ]
        }
      ]
    },
    {
      "cell_type": "code",
      "source": [
        "text4.dispersion_plot([\"citizens\", \"democracy\", \"freedom\", \"duties\", \"America\"])\n"
      ],
      "metadata": {
        "colab": {
          "base_uri": "https://localhost:8080/",
          "height": 295
        },
        "id": "kVh1Sr494_NA",
        "outputId": "bb54800c-121d-4061-d348-66a9c4c96b16"
      },
      "execution_count": 78,
      "outputs": [
        {
          "output_type": "display_data",
          "data": {
            "text/plain": [
              "<Figure size 432x288 with 1 Axes>"
            ],
            "image/png": "[encoded data removed]"
          },
          "metadata": {
            "needs_background": "light"
          }
        }
      ]
    },
    {
      "cell_type": "code",
      "source": [
        "# commence : (cominciare: italiano), (comenzar: español)\n",
        "# initiate : (iniziare: italiano), (iniciar: español)\n",
        "# start: (starten: deutsch, nederlands), (starta: svenska)\n",
        "# begin: (beginnen: deutsch, nederlands)\n",
        "\n",
        "text4.dispersion_plot([\"commence\", \"initiate\", \"start\", \"begin\"]) # text4: U.S Presidential Inaugural Addresses, timeline over 220 years"
      ],
      "metadata": {
        "colab": {
          "base_uri": "https://localhost:8080/",
          "height": 295
        },
        "id": "OwuYcgs253E5",
        "outputId": "6398a39e-d8a3-4dd0-f84a-cada8904000c"
      },
      "execution_count": 82,
      "outputs": [
        {
          "output_type": "display_data",
          "data": {
            "text/plain": [
              "<Figure size 432x288 with 1 Axes>"
            ],
            "image/png": "[encoded data removed]"
          },
          "metadata": {
            "needs_background": "light"
          }
        }
      ]
    },
    {
      "cell_type": "code",
      "source": [
        "text5.dispersion_plot([\"commence\", \"initiate\", \"start\", \"begin\"]) # text5 chat informal language"
      ],
      "metadata": {
        "colab": {
          "base_uri": "https://localhost:8080/",
          "height": 295
        },
        "id": "ZNGgpcBWFA60",
        "outputId": "ab70e5b8-3a06-4d69-af3c-81e075550678"
      },
      "execution_count": 96,
      "outputs": [
        {
          "output_type": "display_data",
          "data": {
            "text/plain": [
              "<Figure size 432x288 with 1 Axes>"
            ],
            "image/png": "[encoded data removed]"
          },
          "metadata": {
            "needs_background": "light"
          }
        }
      ]
    },
    {
      "cell_type": "code",
      "source": [
        "text7.dispersion_plot([\"commence\", \"initiate\", \"start\", \"begin\"]) # text7: Wall Street Journal"
      ],
      "metadata": {
        "colab": {
          "base_uri": "https://localhost:8080/",
          "height": 295
        },
        "id": "zNO7SgCQCr5I",
        "outputId": "2a28a80c-0207-4406-f6b5-ba33f1346ff4"
      },
      "execution_count": 90,
      "outputs": [
        {
          "output_type": "display_data",
          "data": {
            "text/plain": [
              "<Figure size 432x288 with 1 Axes>"
            ],
            "image/png": "[encoded data removed]"
          },
          "metadata": {
            "needs_background": "light"
          }
        }
      ]
    },
    {
      "cell_type": "code",
      "source": [
        "text3.generate()"
      ],
      "metadata": {
        "colab": {
          "base_uri": "https://localhost:8080/",
          "height": 226
        },
        "id": "itMKYVgaEAMJ",
        "outputId": "5799e300-221d-4258-d5f5-2f59fb6157b2"
      },
      "execution_count": 93,
      "outputs": [
        {
          "output_type": "stream",
          "name": "stdout",
          "text": [
            "lamb for a burnt offering in the city . , duke Elah , duke Shobal ,\n",
            "and Akan . and looked upon my affliction . Because the LORD God\n",
            "amongst the trees of the mighty God of Abraham his father , that they\n",
            "found a plain man , and the wo The blessings of my hand to do justice\n",
            "and judgment ; that the LORD that spake unto me , and put him into the\n",
            "ark , and for your little ones . they heard that they have brought it\n",
            "unto Hagar , Sarai ' s brother will I slay\n"
          ]
        },
        {
          "output_type": "execute_result",
          "data": {
            "text/plain": [
              "\"lamb for a burnt offering in the city . , duke Elah , duke Shobal ,\\nand Akan . and looked upon my affliction . Because the LORD God\\namongst the trees of the mighty God of Abraham his father , that they\\nfound a plain man , and the wo The blessings of my hand to do justice\\nand judgment ; that the LORD that spake unto me , and put him into the\\nark , and for your little ones . they heard that they have brought it\\nunto Hagar , Sarai ' s brother will I slay\""
            ],
            "application/vnd.google.colaboratory.intrinsic+json": {
              "type": "string"
            }
          },
          "metadata": {},
          "execution_count": 93
        }
      ]
    },
    {
      "cell_type": "code",
      "source": [
        "text3.generate()"
      ],
      "metadata": {
        "colab": {
          "base_uri": "https://localhost:8080/",
          "height": 226
        },
        "id": "AnjAcezqETQM",
        "outputId": "6b6952de-7384-463b-9ea7-aeb0d1361eb5"
      },
      "execution_count": 95,
      "outputs": [
        {
          "output_type": "stream",
          "name": "stdout",
          "text": [
            "lamb for a burnt offering in the city . , duke Elah , duke Shobal ,\n",
            "and Akan . and looked upon my affliction . Because the LORD God\n",
            "amongst the trees of the mighty God of Abraham his father , that they\n",
            "found a plain man , and the wo The blessings of my hand to do justice\n",
            "and judgment ; that the LORD that spake unto me , and put him into the\n",
            "ark , and for your little ones . they heard that they have brought it\n",
            "unto Hagar , Sarai ' s brother will I slay\n"
          ]
        },
        {
          "output_type": "execute_result",
          "data": {
            "text/plain": [
              "\"lamb for a burnt offering in the city . , duke Elah , duke Shobal ,\\nand Akan . and looked upon my affliction . Because the LORD God\\namongst the trees of the mighty God of Abraham his father , that they\\nfound a plain man , and the wo The blessings of my hand to do justice\\nand judgment ; that the LORD that spake unto me , and put him into the\\nark , and for your little ones . they heard that they have brought it\\nunto Hagar , Sarai ' s brother will I slay\""
            ],
            "application/vnd.google.colaboratory.intrinsic+json": {
              "type": "string"
            }
          },
          "metadata": {},
          "execution_count": 95
        }
      ]
    },
    {
      "cell_type": "code",
      "source": [
        "text5.generate()"
      ],
      "metadata": {
        "colab": {
          "base_uri": "https://localhost:8080/",
          "height": 244
        },
        "id": "XCyeIoljEMp8",
        "outputId": "1df75235-c1dc-497d-b9d4-359c1f76a618"
      },
      "execution_count": 94,
      "outputs": [
        {
          "output_type": "stream",
          "name": "stderr",
          "text": [
            "Building ngram index...\n"
          ]
        },
        {
          "output_type": "stream",
          "name": "stdout",
          "text": [
            "heya U13 cripos . ,,,, i have never used elbows im standin where ?\n",
            "U122 JOIN I 'm getting him banned ty U36 wow mercy mercy me .... lol\n",
            "and I will end up together :-( not that I was U31 You called me Amy ?\n",
            ":) PART . the heck is that a roaring column of flame streaks out of\n",
            "uniform . JOIN PART PART NICK : U27 but that would be U41 but my table\n",
            "too dam low Heyy U103 28 m hawaii here if n e hott rocker girls wana\n",
            "chat pm me Watching = An hour\n"
          ]
        },
        {
          "output_type": "execute_result",
          "data": {
            "text/plain": [
              "\"heya U13 cripos . ,,,, i have never used elbows im standin where ?\\nU122 JOIN I 'm getting him banned ty U36 wow mercy mercy me .... lol\\nand I will end up together :-( not that I was U31 You called me Amy ?\\n:) PART . the heck is that a roaring column of flame streaks out of\\nuniform . JOIN PART PART NICK : U27 but that would be U41 but my table\\ntoo dam low Heyy U103 28 m hawaii here if n e hott rocker girls wana\\nchat pm me Watching = An hour\""
            ],
            "application/vnd.google.colaboratory.intrinsic+json": {
              "type": "string"
            }
          },
          "metadata": {},
          "execution_count": 94
        }
      ]
    }
  ]
}
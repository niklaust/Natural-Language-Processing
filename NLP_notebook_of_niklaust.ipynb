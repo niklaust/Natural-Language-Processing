{
  "nbformat": 4,
  "nbformat_minor": 0,
  "metadata": {
    "colab": {
      "provenance": [],
      "collapsed_sections": [
        "HDWSCPR3zYlL",
        "q7WtSI2xBxJu",
        "Cf0vljja2hen"
      ],
      "authorship_tag": "ABX9TyNzXR2uko1cIlpJ+ckvWXlK",
      "include_colab_link": true
    },
    "kernelspec": {
      "name": "python3",
      "display_name": "Python 3"
    },
    "language_info": {
      "name": "python"
    }
  },
  "cells": [
    {
      "cell_type": "markdown",
      "metadata": {
        "id": "view-in-github",
        "colab_type": "text"
      },
      "source": [
        "<a href=\"https://colab.research.google.com/github/niklaust/Natural_Language_Processing/blob/main/NLP_notebook_of_niklaust.ipynb\" target=\"_parent\"><img src=\"https://colab.research.google.com/assets/colab-badge.svg\" alt=\"Open In Colab\"/></a>"
      ]
    },
    {
      "cell_type": "markdown",
      "source": [
        "# **Reference**\n",
        "\n",
        "Steven Bird, Ewan Klein, Edward Loper.(2009). *Natural Language Processing with Python*. O'Reilly"
      ],
      "metadata": {
        "id": "i7DHFSJXeoOu"
      }
    },
    {
      "cell_type": "markdown",
      "source": [
        "<h1><center><b>Natural Language Processing with Python</b></center></h1>"
      ],
      "metadata": {
        "id": "A16Lk44mfvYH"
      }
    },
    {
      "cell_type": "markdown",
      "source": [
        "github:niklaust"
      ],
      "metadata": {
        "id": "kEaTieyWfrgu"
      }
    },
    {
      "cell_type": "markdown",
      "source": [
        "start 20221202\n",
        "\n",
        "ongoing......."
      ],
      "metadata": {
        "id": "j7lup2rkhKve"
      }
    },
    {
      "cell_type": "markdown",
      "source": [
        "**Natural language** : language that is used for everyday communication by humans. English, Chinese, Spanish and so on.\n",
        "\n",
        "**Artificial languages** : programming languages and mathematicl notations\n",
        "\n",
        "**NLP** :  A wide sense to cove any kind of computer manipulation of natural language.\n",
        "* Counting word frequencies \n",
        "* compare different writing styles.\n",
        "* \"Understanding\" complete human utterances, at least to extent of being able to give useful responses to them. \n",
        "\n",
        "**Technologies based on NLP** \n",
        "* Phones and handheld computers support predictive text and handwriting recognition\n",
        "* Web search engines gvie access to information locked up in unstructured text\n",
        "* Machine translation allows us to retrieve texts written in Chinese and read them in Spanish."
      ],
      "metadata": {
        "id": "va3EcGlgNhNM"
      }
    },
    {
      "cell_type": "markdown",
      "source": [
        "**What you will learn:**\n",
        "* How simple programs can help you **manipulate and analyze language data**, and how to write these programs\n",
        "* How key concepts from **NLP** and **linguistics** are used to **describe and analyze language**\n",
        "* How **data structures** and **algorithms** are **used in NLP**\n",
        "* How language data is stored in standard formats, and how data can be used to evaluate the performance of NLPtechniques."
      ],
      "metadata": {
        "id": "bm_GhZJeTsfH"
      }
    },
    {
      "cell_type": "markdown",
      "source": [
        "NLTK: defines an infrastructure that can be used to build NLP programs in Python.\n",
        "\n",
        "[NLTK Documentation](http://www.nltk.org/)"
      ],
      "metadata": {
        "id": "-AFb6vCUYpmM"
      }
    },
    {
      "cell_type": "code",
      "source": [
        "import nltk\n",
        "\n",
        "print(f\"nltk version: {nltk.__version__}\")"
      ],
      "metadata": {
        "colab": {
          "base_uri": "https://localhost:8080/"
        },
        "id": "cA12nWURXyN1",
        "outputId": "fd9a252e-a355-4a95-dc95-a6c71df3beb9"
      },
      "execution_count": null,
      "outputs": [
        {
          "output_type": "stream",
          "name": "stdout",
          "text": [
            "nltk version: 3.7\n"
          ]
        }
      ]
    },
    {
      "cell_type": "markdown",
      "source": [
        "<table>\n",
        "  <tr>\n",
        "    <th colspan=\"3\"><h2>Languaege processing tasks and corresponding NLTK modules with examples of functionality</h2></th>\n",
        "  </tr>\n",
        "  <tr>\n",
        "    <th>Language processing task</th>\n",
        "    <th>NLTK modules</th>\n",
        "    <th>Functionality</th>\n",
        "  </tr>\n",
        "  <tr>\n",
        "    <td>Accessing corpora</td>\n",
        "    <td>nltk.corpus</td>\n",
        "    <td>Standardized interfaces to corpora and lexicons</td>\n",
        "  </tr>\n",
        "  <tr>\n",
        "    <td>String processing</td>\n",
        "    <td>nltk.tokenize, nltk.stem</td>\n",
        "    <td>Tokenizers, sentence tokenizer, stemmers</td>\n",
        "  </tr>\n",
        "  <tr>\n",
        "    <td>Collection discovery</td>\n",
        "    <td>nltk.collocations</td>\n",
        "    <td>t-test, chi-squared, point-wise mutual information</td>\n",
        "  </tr>\n",
        "  <tr>\n",
        "    <td>Part-of-speech tagging</td>\n",
        "    <td>nltk.tag</td>\n",
        "    <td>n-gram, backoff, Brill, HMM, Tnt</td>\n",
        "  </tr>\n",
        "  <tr>\n",
        "    <td>Classification</td>\n",
        "    <td>nltk.classify, nltk.cluster</td>\n",
        "    <td>Decision tree, maximum entropy, naive Bayes, EM, k-means</td>\n",
        "  </tr>\n",
        "  <tr>\n",
        "    <td>Chunking</td>\n",
        "    <td>nltk.chunk</td>\n",
        "    <td>Regular expression, n-gram, named entity</td>\n",
        "  </tr>\n",
        "  <tr>\n",
        "    <td>Parsing</td>\n",
        "    <td>nltk.parse</td>\n",
        "    <td>Chart, feature-based, unification, probabilistic, dependency</td>\n",
        "  </tr>\n",
        "  <tr>\n",
        "    <td>Sematic interpretation</td>\n",
        "    <td>nltk.sem, nltk.inference</td>\n",
        "    <td>Lambda calculas, first-order logic, model checking</td>\n",
        "  </tr>\n",
        "  <tr>\n",
        "    <td>Evaluation metrics</td>\n",
        "    <td>nltk.metrics</td>\n",
        "    <td>Percision, recall, agreement coefficients</td>\n",
        "  </tr>\n",
        "  <tr>\n",
        "    <td>Probability and estimation</td>\n",
        "    <td>nltk.probability</td>\n",
        "    <td>Frequency distributions, smoothed probability distributions</td>\n",
        "  </tr>\n",
        "  <tr>\n",
        "    <td>Applications</td>\n",
        "    <td>nltk.app, nltk.chat</td>\n",
        "    <td>Graphical concordancer, parsers, WordNet browser, chatbots</td>\n",
        "  </tr>\n",
        "  <tr>\n",
        "    <td>Linguistic fieldwork</td>\n",
        "    <td>nltk.toolbox</td>\n",
        "    <td>Manipulate data in SIL Toolbox format</td>\n",
        "  </tr>\n",
        "</table>"
      ],
      "metadata": {
        "id": "lxQd-e5nZ9pd"
      }
    },
    {
      "cell_type": "markdown",
      "source": [
        "# <center><b>Chapter 1: Language Processing and Python</b></center>"
      ],
      "metadata": {
        "id": "mnHiwRRElR3m"
      }
    },
    {
      "cell_type": "markdown",
      "source": [
        "## **1.1 Computing with Language: Texts and Words**"
      ],
      "metadata": {
        "id": "Wfpf3RU0lxYF"
      }
    },
    {
      "cell_type": "markdown",
      "source": [
        "\n",
        "\n",
        "Treat **text as raw data** for the programs we write, programs that that manipulate and analyze it in a variety of  interesting ways."
      ],
      "metadata": {
        "id": "gCKFxUzflamB"
      }
    },
    {
      "cell_type": "code",
      "source": [
        "import nltk\n",
        "nltk.download()"
      ],
      "metadata": {
        "colab": {
          "base_uri": "https://localhost:8080/"
        },
        "id": "EamywD3zmUdK",
        "outputId": "6b033c8b-55bc-4f6e-9c2b-22bd6ce37c7d"
      },
      "execution_count": null,
      "outputs": [
        {
          "name": "stdout",
          "output_type": "stream",
          "text": [
            "NLTK Downloader\n",
            "---------------------------------------------------------------------------\n",
            "    d) Download   l) List    u) Update   c) Config   h) Help   q) Quit\n",
            "---------------------------------------------------------------------------\n",
            "Downloader> q\n"
          ]
        },
        {
          "output_type": "execute_result",
          "data": {
            "text/plain": [
              "True"
            ]
          },
          "metadata": {},
          "execution_count": 2
        }
      ]
    },
    {
      "cell_type": "markdown",
      "source": [
        "\n",
        "`concordance` : to see words in context.\n",
        "\n",
        "`similar` : to find other words appear in a similar range of contexts\n",
        "\n",
        "`common_contexts` : to examine the contexts that are shared by two or more words.\n",
        "\n",
        "`dispersion_plot` :  to determine the location of a word in the text: how many words from the beginning (corpus) it appears (by each stripe). \n",
        "\n",
        "`generate` : to generate some random text by gathers statistics about word sequences.\n",
        "\n",
        "``\n",
        "\n",
        "``\n",
        "``"
      ],
      "metadata": {
        "id": "qrA3GXPJ2fEn"
      }
    },
    {
      "cell_type": "markdown",
      "source": [
        "<table>\n",
        "  <tr>\n",
        "    <th colspan=\"2\"><h1>Introductory Examples for the NLTK Book</h1></th>\n",
        "  </tr>\n",
        "  <tr>\n",
        "    <td>text1:</td>\n",
        "    <td>Moby Dick by Herman Melville 1851</td>\n",
        "  </tr>\n",
        "  <tr>\n",
        "    <td>text2:</td>\n",
        "    <td>Sense and Sensibility by Jane Austen 1811</td>\n",
        "  </tr>\n",
        "   <tr>\n",
        "    <td>text3:</td>\n",
        "    <td>The Book of Genesis</td>\n",
        "  </tr>\n",
        "  <tr>\n",
        "    <td>text4:</td>\n",
        "    <td>Inaugural Address Corpus</td>\n",
        "  </tr>\n",
        "   <tr>\n",
        "    <td>text5:</td>\n",
        "    <td>Chat Corpus</td>\n",
        "  </tr>\n",
        "  <tr>\n",
        "    <td>text6:</td>\n",
        "    <td>Monty Python and the Holy Grail</td>\n",
        "  </tr>\n",
        "  <tr>\n",
        "    <td>text7:</td>\n",
        "    <td>Wall Street Journal</td>\n",
        "  </tr>\n",
        "  <tr>\n",
        "    <td>text8:</td>\n",
        "    <td>Personals Corpus</td>\n",
        "  </tr>\n",
        "   <tr>\n",
        "    <td>text9:</td>\n",
        "    <td>The Man Who Was Thursday by G . K . Chesterton 1908</td>\n",
        "  </tr>\n",
        "</table>"
      ],
      "metadata": {
        "id": "h0wjju9FuIuJ"
      }
    },
    {
      "cell_type": "code",
      "source": [
        "import nltk\n",
        "nltk.download(\"all-corpora\")"
      ],
      "metadata": {
        "id": "_fJuVAiPSbL3"
      },
      "execution_count": null,
      "outputs": []
    },
    {
      "cell_type": "code",
      "source": [
        "from nltk.book import *"
      ],
      "metadata": {
        "colab": {
          "base_uri": "https://localhost:8080/"
        },
        "id": "tUVf3GhGTS0P",
        "outputId": "3018d968-9e3c-43a2-ae14-5ab1a1ec0a28"
      },
      "execution_count": null,
      "outputs": [
        {
          "output_type": "stream",
          "name": "stdout",
          "text": [
            "*** Introductory Examples for the NLTK Book ***\n",
            "Loading text1, ..., text9 and sent1, ..., sent9\n",
            "Type the name of the text or sentence to view it.\n",
            "Type: 'texts()' or 'sents()' to list the materials.\n",
            "text1: Moby Dick by Herman Melville 1851\n",
            "text2: Sense and Sensibility by Jane Austen 1811\n",
            "text3: The Book of Genesis\n",
            "text4: Inaugural Address Corpus\n",
            "text5: Chat Corpus\n",
            "text6: Monty Python and the Holy Grail\n",
            "text7: Wall Street Journal\n",
            "text8: Personals Corpus\n",
            "text9: The Man Who Was Thursday by G . K . Chesterton 1908\n"
          ]
        }
      ]
    },
    {
      "cell_type": "code",
      "source": [
        "text1.concordance('monstrous')"
      ],
      "metadata": {
        "colab": {
          "base_uri": "https://localhost:8080/"
        },
        "id": "aAPY2snRuwL_",
        "outputId": "09895c79-cb4b-4940-e06f-1a27828588d3"
      },
      "execution_count": null,
      "outputs": [
        {
          "output_type": "stream",
          "name": "stdout",
          "text": [
            "Displaying 11 of 11 matches:\n",
            "ong the former , one was of a most monstrous size . ... This came towards us , \n",
            "ON OF THE PSALMS . \" Touching that monstrous bulk of the whale or ork we have r\n",
            "ll over with a heathenish array of monstrous clubs and spears . Some were thick\n",
            "d as you gazed , and wondered what monstrous cannibal and savage could ever hav\n",
            "that has survived the flood ; most monstrous and most mountainous ! That Himmal\n",
            "they might scout at Moby Dick as a monstrous fable , or still worse and more de\n",
            "th of Radney .'\" CHAPTER 55 Of the Monstrous Pictures of Whales . I shall ere l\n",
            "ing Scenes . In connexion with the monstrous pictures of whales , I am strongly\n",
            "ere to enter upon those still more monstrous stories of them which are to be fo\n",
            "ght have been rummaged out of this monstrous cabinet there is no telling . But \n",
            "of Whale - Bones ; for Whales of a monstrous size are oftentimes cast up dead u\n"
          ]
        }
      ]
    },
    {
      "cell_type": "code",
      "source": [
        "text1.concordance('inordinate')"
      ],
      "metadata": {
        "colab": {
          "base_uri": "https://localhost:8080/"
        },
        "id": "s-EYM3flwTmP",
        "outputId": "dc156b60-e8e5-49fa-eaf4-ae56182c25d4"
      },
      "execution_count": null,
      "outputs": [
        {
          "output_type": "stream",
          "name": "stdout",
          "text": [
            "Displaying 3 of 3 matches:\n",
            "they said ; but somehow he got an inordinate quantity of cruel , unmitigated h\n",
            "oprietor merely on account of the inordinate possessions yet owned and rented \n",
            " - telling sail of any sort ; the inordinate length of each separate voyage ; \n"
          ]
        }
      ]
    },
    {
      "cell_type": "code",
      "source": [
        "text3.concordance('adam')"
      ],
      "metadata": {
        "colab": {
          "base_uri": "https://localhost:8080/"
        },
        "id": "M4tvlD70x_0o",
        "outputId": "d22663e5-32bb-4707-8806-2cb7b0d67f15"
      },
      "execution_count": null,
      "outputs": [
        {
          "output_type": "stream",
          "name": "stdout",
          "text": [
            "Displaying 18 of 18 matches:\n",
            "l of the air ; and brought them unto Adam to see what he would call th and wha\n",
            "what he would call th and whatsoever Adam called every living creature , that \n",
            "re , that was the name thereof . And Adam gave names to all cattle , and to th\n",
            "o every beast of the field ; but for Adam there was not found an help meet for\n",
            "God caused a deep sleep to fall upon Adam , and he sle and he took one of his \n",
            ", and brought her unto the man . And Adam said , This is now bone of my bones \n",
            " the garden in the cool of the d and Adam and his wife hid themselves from the\n",
            "arden . And the LORD God called unto Adam , and said unto him , Where art thou\n",
            "d he shall rule over thee . And unto Adam he said , Because thou hast hearkene\n",
            "nd unto dust shalt thou return . And Adam called his wife ' s name Eve ; becau\n",
            " was the mother of all living . Unto Adam also and to his wife did the LORD Go\n",
            "ep the way of the tree of life . And Adam knew Eve his wife ; and she conceive\n",
            "y Lamech seventy and sevenfold . And Adam knew his wife again ; and she bare a\n",
            "is is the book of the generations of Adam . In the day that God created man , \n",
            "blessed them , and called their name Adam , in the day when they were created \n",
            "the day when they were created . And Adam lived an hundred and thirty years , \n",
            "d called his name Se And the days of Adam after he had begotten Seth were eigh\n",
            "nd daughters : And all the days that Adam lived were nine hundred and thirty y\n"
          ]
        }
      ]
    },
    {
      "cell_type": "code",
      "source": [
        "text4.concordance('reign')"
      ],
      "metadata": {
        "colab": {
          "base_uri": "https://localhost:8080/"
        },
        "id": "05204vIhxgiv",
        "outputId": "9ccae97d-422f-40df-b842-319f5d01cc40"
      },
      "execution_count": null,
      "outputs": [
        {
          "output_type": "stream",
          "name": "stdout",
          "text": [
            "Displaying 6 of 6 matches:\n",
            "pristine health and beauty . But the reign of an intolerant spirit of party amo\n",
            "odshed , and there be ushered in the reign of peace to be made permanent by a g\n",
            "ence must be cast upon the side of a reign not of force but of law and trial , \n",
            "ere is realization that only under a reign of law , based on righteousness and \n",
            "t the world . We wish to advance the reign of justice and reason toward the ext\n",
            " force of history that can break the reign of hatred and resentment , and expos\n"
          ]
        }
      ]
    },
    {
      "cell_type": "code",
      "source": [
        "text5.concordance(':)')"
      ],
      "metadata": {
        "colab": {
          "base_uri": "https://localhost:8080/"
        },
        "id": "fH5Xi6Tz1dEX",
        "outputId": "1a589aff-32b2-4a10-f8c0-843931de1bf3"
      },
      "execution_count": null,
      "outputs": [
        {
          "output_type": "stream",
          "name": "stdout",
          "text": [
            "Displaying 25 of 101 matches:\n",
            "e . . ACTION gives U121 a golf clap . :) JOIN hi U59 26 / m / ky women that ar\n",
            "OIN JOIN show will let 's talk . PART :) haha brb opps JOIN PART sho * . ACTIO\n",
            " mirror . hi U64 wb U139 u should U44 :) PART PART JOIN single dad here JOIN t\n",
            "0 well U68 what did u buy yeah i know :) U136 .. get the hell outta my freakin\n",
            " already U7 ... yayayayayyy !! OOooOO :) how you doin U139 lmaoo U121 ' iamaho\n",
            "U20 yep lmao U7 !!! . ACTION laughs . :) PART your fiance , do you know his ha\n",
            "hit ? il get u a cheap flight to hell :) lmao bbl maybe PART LOL lol U7 it was\n",
            "n be bought if theres enuff money U83 :) any guys have webcams ? . ACTION re-t\n",
            "Lies . lmao no U115 Check my record . :) Lol lick em U7 U23 how old r u lol Wa\n",
            "re not dead hahaha u got a good catch :) . ACTION covers her neck . are u mexi\n",
            "e baby sucks being you then huh ? j/k :) JOIN hey U27 ... welcome Hi !! PART J\n",
            "hey U31 ... welcome cool U31 hello U9 :) hey U31 U11 *hugs* are you sexy ? Hi \n",
            " U31 U11 *hugs* are you sexy ? Hi U17 :) yo U31 whats up JOIN am i ? Hi all yo\n",
            "sexy in the dark i think i am too U31 :) lol no U31 ... do n't leave have n't \n",
            "o me waht anyone else thinks about me :) lol . ACTION settles in next to U11 .\n",
            "days hi U37 , yes i sleep lol U3 .... :) When I do n\"t even know what that mea\n",
            "to the corner . PART Come on down U41 :) . ACTION hogs the couch . U17 looks o\n",
            " 's up there for a minute Hey U42 hon :) U31 , it is not up . ok i am back lol\n",
            "g ... I would rather Swim in an Ocean :) lol U18 Hard to read a book if you ne\n",
            "the solution is Simple .... Change it :) hey U33 fart ? hi U33 hi U33 hi U11 U\n",
            " nice JOIN good PART lol U11 amen U32 :) goody PART chuckle U20 lol .... i 'm \n",
            " JOIN JOIN U20 has an awesome pic too :) Doing great U43 -- thanks for asking \n",
            "ove U52 's pic hey U53 Hi Everyone .. :) U18 hugsssss :) hiy U16 hi U53 U9 PAR\n",
            "ey U53 Hi Everyone .. :) U18 hugsssss :) hiy U16 hi U53 U9 PART U53 hi U53 how\n",
            "IN already ? good ty hi U16 Hi U54 .. :) hi U53 yes U34 ? hiya U53 hi U52 hi U\n"
          ]
        }
      ]
    },
    {
      "cell_type": "code",
      "source": [
        "text1.similar(\"monstrous\")"
      ],
      "metadata": {
        "colab": {
          "base_uri": "https://localhost:8080/"
        },
        "id": "33USOA3d2LSp",
        "outputId": "c3a597d6-3567-4d24-d3b2-da67025908a1"
      },
      "execution_count": null,
      "outputs": [
        {
          "output_type": "stream",
          "name": "stdout",
          "text": [
            "true contemptible christian abundant few part mean careful puzzled\n",
            "mystifying passing curious loving wise doleful gamesome singular\n",
            "delightfully perilous fearless\n"
          ]
        }
      ]
    },
    {
      "cell_type": "code",
      "source": [
        "text2.similar(\"monstrous\")"
      ],
      "metadata": {
        "colab": {
          "base_uri": "https://localhost:8080/"
        },
        "id": "ZjzQbCc_30Ho",
        "outputId": "8f78e1b2-fc3b-4dc4-8ce8-70566aac0161"
      },
      "execution_count": null,
      "outputs": [
        {
          "output_type": "stream",
          "name": "stdout",
          "text": [
            "very so exceedingly heartily a as good great extremely remarkably\n",
            "sweet vast amazingly\n"
          ]
        }
      ]
    },
    {
      "cell_type": "code",
      "source": [
        "text2.common_contexts([\"monstrous\", \"very\"])"
      ],
      "metadata": {
        "colab": {
          "base_uri": "https://localhost:8080/"
        },
        "id": "LzoNfhdA4afx",
        "outputId": "1bfd4ebf-f6fd-4069-f5e4-2d185a32acd8"
      },
      "execution_count": null,
      "outputs": [
        {
          "output_type": "stream",
          "name": "stdout",
          "text": [
            "am_glad a_pretty a_lucky is_pretty be_glad\n"
          ]
        }
      ]
    },
    {
      "cell_type": "code",
      "source": [
        "text3.common_contexts([\"adam\", \"god\"])"
      ],
      "metadata": {
        "colab": {
          "base_uri": "https://localhost:8080/"
        },
        "id": "n73OkY-P4i5w",
        "outputId": "cedf74d5-f658-49c3-b643-b4d2ebe0f8d1"
      },
      "execution_count": null,
      "outputs": [
        {
          "output_type": "stream",
          "name": "stdout",
          "text": [
            "and_said unto_, and_called\n"
          ]
        }
      ]
    },
    {
      "cell_type": "code",
      "source": [
        "text4.dispersion_plot([\"citizens\", \"democracy\", \"freedom\", \"duties\", \"America\"])\n"
      ],
      "metadata": {
        "colab": {
          "base_uri": "https://localhost:8080/",
          "height": 295
        },
        "id": "kVh1Sr494_NA",
        "outputId": "716f0a26-64c7-430b-9c5a-f2007ffe5501"
      },
      "execution_count": null,
      "outputs": [
        {
          "output_type": "display_data",
          "data": {
            "text/plain": [
              "<Figure size 432x288 with 1 Axes>"
            ],
            "image/png": "[encoded data removed]"
          },
          "metadata": {
            "needs_background": "light"
          }
        }
      ]
    },
    {
      "cell_type": "code",
      "source": [
        "# commence : (cominciare: italiano), (comenzar: español)\n",
        "# initiate : (iniziare: italiano), (iniciar: español)\n",
        "# start: (starten: deutsch, nederlands), (starta: svenska)\n",
        "# begin: (beginnen: deutsch, nederlands), (börja: svenska), (begynna: svenska, Middle english)\n",
        "# (empezar: español)\n",
        "\n",
        "text4.dispersion_plot([\"commence\", \"initiate\", \"start\", \"begin\"]) # text4: U.S Presidential Inaugural Addresses, timeline over 220 years"
      ],
      "metadata": {
        "colab": {
          "base_uri": "https://localhost:8080/",
          "height": 295
        },
        "id": "OwuYcgs253E5",
        "outputId": "1d602e08-9456-4bbd-97b1-c61e8db83015"
      },
      "execution_count": null,
      "outputs": [
        {
          "output_type": "display_data",
          "data": {
            "text/plain": [
              "<Figure size 432x288 with 1 Axes>"
            ],
            "image/png": "[encoded data removed]"
          },
          "metadata": {
            "needs_background": "light"
          }
        }
      ]
    },
    {
      "cell_type": "code",
      "source": [
        "text1.dispersion_plot([\"commence\", \"initiate\", \"start\", \"begin\"]) # text1 Moby dick; literature"
      ],
      "metadata": {
        "colab": {
          "base_uri": "https://localhost:8080/",
          "height": 295
        },
        "id": "yfCVz9kNNM53",
        "outputId": "b3cfcf2d-7a8b-4d50-dd2f-1a7d4fbeab45"
      },
      "execution_count": null,
      "outputs": [
        {
          "output_type": "display_data",
          "data": {
            "text/plain": [
              "<Figure size 432x288 with 1 Axes>"
            ],
            "image/png": "[encoded data removed]"
          },
          "metadata": {
            "needs_background": "light"
          }
        }
      ]
    },
    {
      "cell_type": "code",
      "source": [
        "text5.dispersion_plot([\"commence\", \"initiate\", \"start\", \"begin\"]) # text5 chat informal language"
      ],
      "metadata": {
        "colab": {
          "base_uri": "https://localhost:8080/",
          "height": 295
        },
        "id": "ZNGgpcBWFA60",
        "outputId": "8430e9cb-b0bb-4897-c96a-c17100984ef5"
      },
      "execution_count": null,
      "outputs": [
        {
          "output_type": "display_data",
          "data": {
            "text/plain": [
              "<Figure size 432x288 with 1 Axes>"
            ],
            "image/png": "[encoded data removed]"
          },
          "metadata": {
            "needs_background": "light"
          }
        }
      ]
    },
    {
      "cell_type": "code",
      "source": [
        "text7.dispersion_plot([\"commence\", \"initiate\", \"start\", \"begin\"]) # text7: Wall Street Journal"
      ],
      "metadata": {
        "colab": {
          "base_uri": "https://localhost:8080/",
          "height": 295
        },
        "id": "zNO7SgCQCr5I",
        "outputId": "6169e592-7464-4716-8c24-47f00ce011c5"
      },
      "execution_count": null,
      "outputs": [
        {
          "output_type": "display_data",
          "data": {
            "text/plain": [
              "<Figure size 432x288 with 1 Axes>"
            ],
            "image/png": "[encoded data removed]"
          },
          "metadata": {
            "needs_background": "light"
          }
        }
      ]
    },
    {
      "cell_type": "code",
      "source": [
        "import nltk \n",
        "nltk.download('punkt')"
      ],
      "metadata": {
        "id": "uNwg9A2qUpru",
        "colab": {
          "base_uri": "https://localhost:8080/"
        },
        "outputId": "e082011d-3e81-4518-9dc8-d7c5f564a8a2"
      },
      "execution_count": null,
      "outputs": [
        {
          "output_type": "stream",
          "name": "stderr",
          "text": [
            "[nltk_data] Downloading package punkt to /root/nltk_data...\n",
            "[nltk_data]   Package punkt is already up-to-date!\n"
          ]
        },
        {
          "output_type": "execute_result",
          "data": {
            "text/plain": [
              "True"
            ]
          },
          "metadata": {},
          "execution_count": 19
        }
      ]
    },
    {
      "cell_type": "code",
      "source": [
        "text3.generate()"
      ],
      "metadata": {
        "colab": {
          "base_uri": "https://localhost:8080/",
          "height": 244
        },
        "id": "itMKYVgaEAMJ",
        "outputId": "54945e9a-1a63-4ab9-d8c3-daf0ee3be11b"
      },
      "execution_count": null,
      "outputs": [
        {
          "output_type": "stream",
          "name": "stderr",
          "text": [
            "Building ngram index...\n"
          ]
        },
        {
          "output_type": "stream",
          "name": "stdout",
          "text": [
            "lamb for a burnt offering in the city . , duke Elah , duke Shobal ,\n",
            "and Akan . and looked upon my affliction . Because the LORD God\n",
            "amongst the trees of the mighty God of Abraham his father , that they\n",
            "found a plain man , and the wo The blessings of my hand to do justice\n",
            "and judgment ; that the LORD that spake unto me , and put him into the\n",
            "ark , and for your little ones . they heard that they have brought it\n",
            "unto Hagar , Sarai ' s brother will I slay\n"
          ]
        },
        {
          "output_type": "execute_result",
          "data": {
            "text/plain": [
              "\"lamb for a burnt offering in the city . , duke Elah , duke Shobal ,\\nand Akan . and looked upon my affliction . Because the LORD God\\namongst the trees of the mighty God of Abraham his father , that they\\nfound a plain man , and the wo The blessings of my hand to do justice\\nand judgment ; that the LORD that spake unto me , and put him into the\\nark , and for your little ones . they heard that they have brought it\\nunto Hagar , Sarai ' s brother will I slay\""
            ],
            "application/vnd.google.colaboratory.intrinsic+json": {
              "type": "string"
            }
          },
          "metadata": {},
          "execution_count": 20
        }
      ]
    },
    {
      "cell_type": "code",
      "source": [
        "text3.generate()"
      ],
      "metadata": {
        "colab": {
          "base_uri": "https://localhost:8080/",
          "height": 226
        },
        "id": "AnjAcezqETQM",
        "outputId": "c8fb44ac-35e8-4e0a-bc22-8c50ccef1d71"
      },
      "execution_count": null,
      "outputs": [
        {
          "output_type": "stream",
          "name": "stdout",
          "text": [
            "lamb for a burnt offering in the city . , duke Elah , duke Shobal ,\n",
            "and Akan . and looked upon my affliction . Because the LORD God\n",
            "amongst the trees of the mighty God of Abraham his father , that they\n",
            "found a plain man , and the wo The blessings of my hand to do justice\n",
            "and judgment ; that the LORD that spake unto me , and put him into the\n",
            "ark , and for your little ones . they heard that they have brought it\n",
            "unto Hagar , Sarai ' s brother will I slay\n"
          ]
        },
        {
          "output_type": "execute_result",
          "data": {
            "text/plain": [
              "\"lamb for a burnt offering in the city . , duke Elah , duke Shobal ,\\nand Akan . and looked upon my affliction . Because the LORD God\\namongst the trees of the mighty God of Abraham his father , that they\\nfound a plain man , and the wo The blessings of my hand to do justice\\nand judgment ; that the LORD that spake unto me , and put him into the\\nark , and for your little ones . they heard that they have brought it\\nunto Hagar , Sarai ' s brother will I slay\""
            ],
            "application/vnd.google.colaboratory.intrinsic+json": {
              "type": "string"
            }
          },
          "metadata": {},
          "execution_count": 21
        }
      ]
    },
    {
      "cell_type": "code",
      "source": [
        "text5.generate()"
      ],
      "metadata": {
        "colab": {
          "base_uri": "https://localhost:8080/",
          "height": 244
        },
        "id": "XCyeIoljEMp8",
        "outputId": "60ba3ff7-4319-485a-da0d-b9eaf85873ea"
      },
      "execution_count": null,
      "outputs": [
        {
          "output_type": "stream",
          "name": "stderr",
          "text": [
            "Building ngram index...\n"
          ]
        },
        {
          "output_type": "stream",
          "name": "stdout",
          "text": [
            "heya U13 cripos . ,,,, i have never used elbows im standin where ?\n",
            "U122 JOIN I 'm getting him banned ty U36 wow mercy mercy me .... lol\n",
            "and I will end up together :-( not that I was U31 You called me Amy ?\n",
            ":) PART . the heck is that a roaring column of flame streaks out of\n",
            "uniform . JOIN PART PART NICK : U27 but that would be U41 but my table\n",
            "too dam low Heyy U103 28 m hawaii here if n e hott rocker girls wana\n",
            "chat pm me Watching = An hour\n"
          ]
        },
        {
          "output_type": "execute_result",
          "data": {
            "text/plain": [
              "\"heya U13 cripos . ,,,, i have never used elbows im standin where ?\\nU122 JOIN I 'm getting him banned ty U36 wow mercy mercy me .... lol\\nand I will end up together :-( not that I was U31 You called me Amy ?\\n:) PART . the heck is that a roaring column of flame streaks out of\\nuniform . JOIN PART PART NICK : U27 but that would be U41 but my table\\ntoo dam low Heyy U103 28 m hawaii here if n e hott rocker girls wana\\nchat pm me Watching = An hour\""
            ],
            "application/vnd.google.colaboratory.intrinsic+json": {
              "type": "string"
            }
          },
          "metadata": {},
          "execution_count": 22
        }
      ]
    },
    {
      "cell_type": "markdown",
      "source": [
        "**Counting Vocabulary**"
      ],
      "metadata": {
        "id": "Ku2ciuk2VHaw"
      }
    },
    {
      "cell_type": "markdown",
      "source": [
        "How to use the computer to count the words in a text in a variety of useful ways.\n",
        "\n",
        "`len`: to find out the length of a text from start to finish\n",
        "\n",
        " - The book of Genesis has 44,764 words and punctuation symbols, or \"tokens.\"\n",
        "\n",
        "\n",
        "A **Token** is the **teahnical name for a sequence of characters** -- such as hair, his, or :) --  that we want to treat as a group. When we ocunt the number of tokens in a text, say, the phrase **\"to be or not to be\"**, we are counting occurences of these sequences. Thus, in our example phrase there are **two occurences of \"to\", two of \"be\", and one each of \"or\" and \"not\"**. but there are only four distinct vocabulary items in this phrase.\n",
        "\n",
        "`set`: to find out how many of distinct words (items) of the book contain, all duplicates are collapsed together.\n",
        "\n",
        "`sorted` : to sort a list of vocabulary items. \n",
        "\n",
        "**Word type** is the form or spelling of the word independently of its specific occurrence in a text, the word considered as a unique item of vocabulary.\n",
        "\n",
        "  - The book of Genesis has 2789 items will include punctuation symbols, so we will generally call these unique items **types** instead of word types."
      ],
      "metadata": {
        "id": "drVrVl2Gld4B"
      }
    },
    {
      "cell_type": "code",
      "source": [
        "len(text3) # text3 : The Book of Genesis, there are 44764 tokens"
      ],
      "metadata": {
        "colab": {
          "base_uri": "https://localhost:8080/"
        },
        "id": "8vBvYpIqVOGo",
        "outputId": "7ba6d681-5008-41d8-bf25-b4cf6962e750"
      },
      "execution_count": null,
      "outputs": [
        {
          "output_type": "execute_result",
          "data": {
            "text/plain": [
              "44764"
            ]
          },
          "metadata": {},
          "execution_count": 23
        }
      ]
    },
    {
      "cell_type": "code",
      "source": [
        "len(set(text3)) # There are 2789 distinct words type"
      ],
      "metadata": {
        "colab": {
          "base_uri": "https://localhost:8080/"
        },
        "id": "2PWujg0-qHeS",
        "outputId": "0213eb3a-b877-41b7-e910-337a74f15307"
      },
      "execution_count": null,
      "outputs": [
        {
          "output_type": "execute_result",
          "data": {
            "text/plain": [
              "2789"
            ]
          },
          "metadata": {},
          "execution_count": 24
        }
      ]
    },
    {
      "cell_type": "code",
      "source": [
        "sorted(set(text3))[:20]  # sort distincted items from The Book of Genesis then shows 20 items, start beginning with puctuation then alphabetical order started from A-Z uppercase then lowercase a-z "
      ],
      "metadata": {
        "colab": {
          "base_uri": "https://localhost:8080/"
        },
        "id": "HWGsI4KyofCy",
        "outputId": "8d112770-b6f0-45e6-c3cb-082f8a733e4c"
      },
      "execution_count": null,
      "outputs": [
        {
          "output_type": "execute_result",
          "data": {
            "text/plain": [
              "['!',\n",
              " \"'\",\n",
              " '(',\n",
              " ')',\n",
              " ',',\n",
              " ',)',\n",
              " '.',\n",
              " '.)',\n",
              " ':',\n",
              " ';',\n",
              " ';)',\n",
              " '?',\n",
              " '?)',\n",
              " 'A',\n",
              " 'Abel',\n",
              " 'Abelmizraim',\n",
              " 'Abidah',\n",
              " 'Abide',\n",
              " 'Abimael',\n",
              " 'Abimelech']"
            ]
          },
          "metadata": {},
          "execution_count": 25
        }
      ]
    },
    {
      "cell_type": "code",
      "source": [
        "# calculate a measure of the lexical richness of the text.\n",
        "\n",
        "from __future__ import division\n",
        "\n",
        "len(text3)/len(set(text3))     # each word is used 16 times on average"
      ],
      "metadata": {
        "id": "dO0D580wlaXi",
        "colab": {
          "base_uri": "https://localhost:8080/"
        },
        "outputId": "d9be8a38-aae7-4bef-fa31-1a6717a12e0c"
      },
      "execution_count": null,
      "outputs": [
        {
          "output_type": "execute_result",
          "data": {
            "text/plain": [
              "16.050197203298673"
            ]
          },
          "metadata": {},
          "execution_count": 26
        }
      ]
    },
    {
      "cell_type": "code",
      "source": [
        "# focus on particular words\n",
        "\n",
        "text3.count(\"smote\")"
      ],
      "metadata": {
        "colab": {
          "base_uri": "https://localhost:8080/"
        },
        "id": "ecWJo4yZs0nR",
        "outputId": "8cc10a5a-2a35-4c42-e42a-c09e0d4c7c8d"
      },
      "execution_count": null,
      "outputs": [
        {
          "output_type": "execute_result",
          "data": {
            "text/plain": [
              "5"
            ]
          },
          "metadata": {},
          "execution_count": 27
        }
      ]
    },
    {
      "cell_type": "code",
      "source": [
        "text3.count(\"Smote\")   # case sensitive \"Smote\" and \"smote\" are different"
      ],
      "metadata": {
        "colab": {
          "base_uri": "https://localhost:8080/"
        },
        "id": "dZkjnmy0s_xQ",
        "outputId": "212843e5-950e-40fb-9f8f-84bccd70b381"
      },
      "execution_count": null,
      "outputs": [
        {
          "output_type": "execute_result",
          "data": {
            "text/plain": [
              "0"
            ]
          },
          "metadata": {},
          "execution_count": 28
        }
      ]
    },
    {
      "cell_type": "code",
      "source": [
        "100 * text4.count('a') / len(text4) # find percent of \"a\" occured in Inaugural address"
      ],
      "metadata": {
        "colab": {
          "base_uri": "https://localhost:8080/"
        },
        "id": "_S8A4AOrtPih",
        "outputId": "0a6cebf1-3d6c-45a6-91fb-02604576bbea"
      },
      "execution_count": null,
      "outputs": [
        {
          "output_type": "execute_result",
          "data": {
            "text/plain": [
              "1.457806031353621"
            ]
          },
          "metadata": {},
          "execution_count": 29
        }
      ]
    },
    {
      "cell_type": "code",
      "source": [
        "text5.count(\"lol\") # there are 704 \"lol\"s in Chat Corpus"
      ],
      "metadata": {
        "colab": {
          "base_uri": "https://localhost:8080/"
        },
        "id": "PFyheEfHtrAa",
        "outputId": "40401ab8-41cb-4a21-ef72-8a9a056cd877"
      },
      "execution_count": null,
      "outputs": [
        {
          "output_type": "execute_result",
          "data": {
            "text/plain": [
              "704"
            ]
          },
          "metadata": {},
          "execution_count": 30
        }
      ]
    },
    {
      "cell_type": "code",
      "source": [
        "100 * text5.count('lol') / len(text5)"
      ],
      "metadata": {
        "colab": {
          "base_uri": "https://localhost:8080/"
        },
        "id": "i4Lo_FCKv1nB",
        "outputId": "d4b34439-8f43-4a8d-9e9d-c11a2122351a"
      },
      "execution_count": null,
      "outputs": [
        {
          "output_type": "execute_result",
          "data": {
            "text/plain": [
              "1.5640968673628082"
            ]
          },
          "metadata": {},
          "execution_count": 31
        }
      ]
    },
    {
      "cell_type": "code",
      "source": [
        "def lexical_diversity(text):\n",
        "  return len(text)/ len(set(text))\n",
        "\n",
        "def count(text, word):\n",
        "  return text.count(word)\n",
        "\n",
        "def percentage(text, word):\n",
        "  return 100 * text.count(word) / len(text)  "
      ],
      "metadata": {
        "id": "aCC1t1O6wJ5q"
      },
      "execution_count": null,
      "outputs": []
    },
    {
      "cell_type": "code",
      "source": [
        "lexical_diversity(text3)\n"
      ],
      "metadata": {
        "colab": {
          "base_uri": "https://localhost:8080/"
        },
        "id": "uRwSk1abyrHR",
        "outputId": "11dc7e3a-d513-4273-e37e-c89e5311b74d"
      },
      "execution_count": null,
      "outputs": [
        {
          "output_type": "execute_result",
          "data": {
            "text/plain": [
              "16.050197203298673"
            ]
          },
          "metadata": {},
          "execution_count": 33
        }
      ]
    },
    {
      "cell_type": "code",
      "source": [
        "print(count(text1, 'happy'))\n",
        "print(count(text1, 'sad')) \n",
        "\n",
        "print(percentage(text1, 'courage'))\n",
        "print(percentage(text1, 'fear'))"
      ],
      "metadata": {
        "colab": {
          "base_uri": "https://localhost:8080/"
        },
        "id": "e2UI7_Yhw5x5",
        "outputId": "9891e1ab-c0ee-4ffd-9d87-ee76c773217c"
      },
      "execution_count": null,
      "outputs": [
        {
          "output_type": "stream",
          "name": "stdout",
          "text": [
            "8\n",
            "9\n",
            "0.0034506688546463255\n",
            "0.01226904481652027\n"
          ]
        }
      ]
    },
    {
      "cell_type": "markdown",
      "source": [
        "## **1.2 A Closer Look at Python: Texts as Lists of Words**"
      ],
      "metadata": {
        "id": "HDWSCPR3zYlL"
      }
    },
    {
      "cell_type": "markdown",
      "source": [
        "**Lists** : a sequence of chapters, made up of a sequence of sections, where each section is a sequence of paragraphs,"
      ],
      "metadata": {
        "id": "zOH1iBSvzsZK"
      }
    },
    {
      "cell_type": "code",
      "source": [
        "sent1 = ['Call', 'me', 'Ishmael', '.'] # assign list of words to variable called sent1\n",
        "\n",
        "sent1"
      ],
      "metadata": {
        "colab": {
          "base_uri": "https://localhost:8080/"
        },
        "id": "z-u1E31E1_uy",
        "outputId": "ae476810-c590-4780-e21a-c3ce44dbb6e8"
      },
      "execution_count": null,
      "outputs": [
        {
          "output_type": "execute_result",
          "data": {
            "text/plain": [
              "['Call', 'me', 'Ishmael', '.']"
            ]
          },
          "metadata": {},
          "execution_count": 35
        }
      ]
    },
    {
      "cell_type": "code",
      "source": [
        "sent2"
      ],
      "metadata": {
        "colab": {
          "base_uri": "https://localhost:8080/"
        },
        "id": "vnKhk7Uo3dMM",
        "outputId": "50733138-2c2b-4548-cff7-22d5d7397d25"
      },
      "execution_count": null,
      "outputs": [
        {
          "output_type": "execute_result",
          "data": {
            "text/plain": [
              "['The',\n",
              " 'family',\n",
              " 'of',\n",
              " 'Dashwood',\n",
              " 'had',\n",
              " 'long',\n",
              " 'been',\n",
              " 'settled',\n",
              " 'in',\n",
              " 'Sussex',\n",
              " '.']"
            ]
          },
          "metadata": {},
          "execution_count": 36
        }
      ]
    },
    {
      "cell_type": "code",
      "source": [
        "sent3"
      ],
      "metadata": {
        "colab": {
          "base_uri": "https://localhost:8080/"
        },
        "id": "W_6UOzis3gZS",
        "outputId": "0ecb0492-9dc2-4c9d-97e1-0944961bb38a"
      },
      "execution_count": null,
      "outputs": [
        {
          "output_type": "execute_result",
          "data": {
            "text/plain": [
              "['In',\n",
              " 'the',\n",
              " 'beginning',\n",
              " 'God',\n",
              " 'created',\n",
              " 'the',\n",
              " 'heaven',\n",
              " 'and',\n",
              " 'the',\n",
              " 'earth',\n",
              " '.']"
            ]
          },
          "metadata": {},
          "execution_count": 37
        }
      ]
    },
    {
      "cell_type": "code",
      "source": [
        "ex1 = ['Monty', 'Python', 'and', 'the', 'Holy', 'Grail']\n",
        "\n",
        "print(sorted(ex1))          # Uppercase A-Z -> Lowercase a-z\n",
        "print(len(set(ex1)))        # count items in a distinct list \n",
        "print(ex1.count('the'))     # there is only one 'the' "
      ],
      "metadata": {
        "colab": {
          "base_uri": "https://localhost:8080/"
        },
        "id": "iwZPto5u3rRx",
        "outputId": "0a20e8cd-9b84-45eb-d2fd-d5697d26d558"
      },
      "execution_count": null,
      "outputs": [
        {
          "output_type": "stream",
          "name": "stdout",
          "text": [
            "['Grail', 'Holy', 'Monty', 'Python', 'and', 'the']\n",
            "6\n",
            "1\n"
          ]
        }
      ]
    },
    {
      "cell_type": "markdown",
      "source": [
        "**Concatenation** combines the lists to gether into a single list."
      ],
      "metadata": {
        "id": "el63-93K5D6M"
      }
    },
    {
      "cell_type": "code",
      "source": [
        "# adding two lists \n",
        "\n",
        "['Monty' , 'Python'] + ['and', 'the', 'Holy', 'Grail']"
      ],
      "metadata": {
        "colab": {
          "base_uri": "https://localhost:8080/"
        },
        "id": "HPv286Nv4aCS",
        "outputId": "5d006978-0b61-461d-b127-afb93c803bfd"
      },
      "execution_count": null,
      "outputs": [
        {
          "output_type": "execute_result",
          "data": {
            "text/plain": [
              "['Monty', 'Python', 'and', 'the', 'Holy', 'Grail']"
            ]
          },
          "metadata": {},
          "execution_count": 39
        }
      ]
    },
    {
      "cell_type": "code",
      "source": [
        "sent4 + sent1"
      ],
      "metadata": {
        "colab": {
          "base_uri": "https://localhost:8080/"
        },
        "id": "W5mK1-bW5IcM",
        "outputId": "db5a95b1-b37d-4a38-88b1-378bf0e3769b"
      },
      "execution_count": null,
      "outputs": [
        {
          "output_type": "execute_result",
          "data": {
            "text/plain": [
              "['Fellow',\n",
              " '-',\n",
              " 'Citizens',\n",
              " 'of',\n",
              " 'the',\n",
              " 'Senate',\n",
              " 'and',\n",
              " 'of',\n",
              " 'the',\n",
              " 'House',\n",
              " 'of',\n",
              " 'Representatives',\n",
              " ':',\n",
              " 'Call',\n",
              " 'me',\n",
              " 'Ishmael',\n",
              " '.']"
            ]
          },
          "metadata": {},
          "execution_count": 40
        }
      ]
    },
    {
      "cell_type": "markdown",
      "source": [
        "**append** : to add a single item to a list"
      ],
      "metadata": {
        "id": "9E6OGJjp5P9i"
      }
    },
    {
      "cell_type": "code",
      "source": [
        "sent1.append(\"Some\")\n",
        "\n",
        "sent1"
      ],
      "metadata": {
        "colab": {
          "base_uri": "https://localhost:8080/"
        },
        "id": "cQgyz41N5PPy",
        "outputId": "bd033c99-214c-4155-dee4-6dc1b115fd38"
      },
      "execution_count": null,
      "outputs": [
        {
          "output_type": "execute_result",
          "data": {
            "text/plain": [
              "['Call', 'me', 'Ishmael', '.', 'Some']"
            ]
          },
          "metadata": {},
          "execution_count": 41
        }
      ]
    },
    {
      "cell_type": "markdown",
      "source": [
        "**Indexing Lists** \n",
        "\n",
        "A text in Python is a list of words, represented using a combination of brackets and quotes.\n",
        "\n",
        "\n",
        "We can pick out the 1st, 173rd or even 14278th word in a printed text, we can identify the elements of a Python list by their order of occurence in the list. **the number that represents this position** is the item's **index**"
      ],
      "metadata": {
        "id": "UcIJQpYh5-qc"
      }
    },
    {
      "cell_type": "code",
      "source": [
        "text4[173]"
      ],
      "metadata": {
        "colab": {
          "base_uri": "https://localhost:8080/",
          "height": 35
        },
        "id": "pMFpegV063nC",
        "outputId": "e76bf021-318d-42d3-b472-cc1c3116c45f"
      },
      "execution_count": null,
      "outputs": [
        {
          "output_type": "execute_result",
          "data": {
            "text/plain": [
              "'awaken'"
            ],
            "application/vnd.google.colaboratory.intrinsic+json": {
              "type": "string"
            }
          },
          "metadata": {},
          "execution_count": 42
        }
      ]
    },
    {
      "cell_type": "code",
      "source": [
        "text4.count('awaken') # count 'awaken' in text4"
      ],
      "metadata": {
        "colab": {
          "base_uri": "https://localhost:8080/"
        },
        "id": "Y575X_DF7SSL",
        "outputId": "5d826723-2ef6-48cb-8dcf-23966bf39a9f"
      },
      "execution_count": null,
      "outputs": [
        {
          "output_type": "execute_result",
          "data": {
            "text/plain": [
              "1"
            ]
          },
          "metadata": {},
          "execution_count": 43
        }
      ]
    },
    {
      "cell_type": "code",
      "source": [
        "text4.index('awaken')  # to find index of when it first occurs:"
      ],
      "metadata": {
        "colab": {
          "base_uri": "https://localhost:8080/"
        },
        "id": "-I6oA2tX66c6",
        "outputId": "d57846d1-0b37-45eb-f8ae-4f3c075e4718"
      },
      "execution_count": null,
      "outputs": [
        {
          "output_type": "execute_result",
          "data": {
            "text/plain": [
              "173"
            ]
          },
          "metadata": {},
          "execution_count": 44
        }
      ]
    },
    {
      "cell_type": "markdown",
      "source": [
        "**slicing**: allow to access sublists, extracting manageable pieces of language from large texts "
      ],
      "metadata": {
        "id": "BLWmtO_H7pHq"
      }
    },
    {
      "cell_type": "code",
      "source": [
        "text5[16715:16735]"
      ],
      "metadata": {
        "colab": {
          "base_uri": "https://localhost:8080/"
        },
        "id": "GrnTySM17-3k",
        "outputId": "88f68f28-da4c-4d38-f45a-c5133f20d9ed"
      },
      "execution_count": null,
      "outputs": [
        {
          "output_type": "execute_result",
          "data": {
            "text/plain": [
              "['U86',\n",
              " 'thats',\n",
              " 'why',\n",
              " 'something',\n",
              " 'like',\n",
              " 'gamefly',\n",
              " 'is',\n",
              " 'so',\n",
              " 'good',\n",
              " 'because',\n",
              " 'you',\n",
              " 'can',\n",
              " 'actually',\n",
              " 'play',\n",
              " 'a',\n",
              " 'full',\n",
              " 'game',\n",
              " 'without',\n",
              " 'buying',\n",
              " 'it']"
            ]
          },
          "metadata": {},
          "execution_count": 45
        }
      ]
    },
    {
      "cell_type": "code",
      "source": [
        "text6[1600:1625]"
      ],
      "metadata": {
        "colab": {
          "base_uri": "https://localhost:8080/"
        },
        "id": "v3RvGKCi8D48",
        "outputId": "18b4976e-5490-4daa-b49a-6819d00dd775"
      },
      "execution_count": null,
      "outputs": [
        {
          "output_type": "execute_result",
          "data": {
            "text/plain": [
              "['We',\n",
              " \"'\",\n",
              " 're',\n",
              " 'an',\n",
              " 'anarcho',\n",
              " '-',\n",
              " 'syndicalist',\n",
              " 'commune',\n",
              " '.',\n",
              " 'We',\n",
              " 'take',\n",
              " 'it',\n",
              " 'in',\n",
              " 'turns',\n",
              " 'to',\n",
              " 'act',\n",
              " 'as',\n",
              " 'a',\n",
              " 'sort',\n",
              " 'of',\n",
              " 'executive',\n",
              " 'officer',\n",
              " 'for',\n",
              " 'the',\n",
              " 'week']"
            ]
          },
          "metadata": {},
          "execution_count": 46
        }
      ]
    },
    {
      "cell_type": "code",
      "source": [
        "sent = ['word1', 'word2', 'word3', 'word4', 'word5',\n",
        "        'word6', 'word7', 'word8', 'word9', 'word10']\n",
        "\n",
        "\n",
        "for pos, word in enumerate(sent):\n",
        "  print(f\"{pos} .......... {word}\")"
      ],
      "metadata": {
        "colab": {
          "base_uri": "https://localhost:8080/"
        },
        "id": "8Lay8mrn8KUy",
        "outputId": "3753284b-06af-4241-ee67-4612692cf683"
      },
      "execution_count": null,
      "outputs": [
        {
          "output_type": "stream",
          "name": "stdout",
          "text": [
            "0 .......... word1\n",
            "1 .......... word2\n",
            "2 .......... word3\n",
            "3 .......... word4\n",
            "4 .......... word5\n",
            "5 .......... word6\n",
            "6 .......... word7\n",
            "7 .......... word8\n",
            "8 .......... word9\n",
            "9 .......... word10\n"
          ]
        }
      ]
    },
    {
      "cell_type": "code",
      "source": [
        "sent[0]  # the indexes start from zero "
      ],
      "metadata": {
        "colab": {
          "base_uri": "https://localhost:8080/",
          "height": 35
        },
        "id": "B-9Y4EGD8w3C",
        "outputId": "03882305-8e25-4976-a6ee-1b1c48327943"
      },
      "execution_count": null,
      "outputs": [
        {
          "output_type": "execute_result",
          "data": {
            "text/plain": [
              "'word1'"
            ],
            "application/vnd.google.colaboratory.intrinsic+json": {
              "type": "string"
            }
          },
          "metadata": {},
          "execution_count": 48
        }
      ]
    },
    {
      "cell_type": "code",
      "source": [
        "try:\n",
        "  sent[10]\n",
        "except:\n",
        "  print('IndexError: list index out of range')"
      ],
      "metadata": {
        "colab": {
          "base_uri": "https://localhost:8080/"
        },
        "id": "_KfJGwoX9JRa",
        "outputId": "dbda3732-507f-441c-ca10-d148ea9c3a99"
      },
      "execution_count": null,
      "outputs": [
        {
          "output_type": "stream",
          "name": "stdout",
          "text": [
            "IndexError: list index out of range\n"
          ]
        }
      ]
    },
    {
      "cell_type": "code",
      "source": [
        "sent[5: 8]"
      ],
      "metadata": {
        "colab": {
          "base_uri": "https://localhost:8080/"
        },
        "id": "qu9JL32j9e7j",
        "outputId": "e669af6a-5519-44c0-ea83-9f439ff1dfbf"
      },
      "execution_count": null,
      "outputs": [
        {
          "output_type": "execute_result",
          "data": {
            "text/plain": [
              "['word6', 'word7', 'word8']"
            ]
          },
          "metadata": {},
          "execution_count": 50
        }
      ]
    },
    {
      "cell_type": "code",
      "source": [
        "sent[:3] # from the first index upto 3 index but exculde 3"
      ],
      "metadata": {
        "colab": {
          "base_uri": "https://localhost:8080/"
        },
        "id": "6mLXLZiH9uWC",
        "outputId": "f09010d2-5182-4b10-e8de-81e1913b33d6"
      },
      "execution_count": null,
      "outputs": [
        {
          "output_type": "execute_result",
          "data": {
            "text/plain": [
              "['word1', 'word2', 'word3']"
            ]
          },
          "metadata": {},
          "execution_count": 51
        }
      ]
    },
    {
      "cell_type": "code",
      "source": [
        "sent[0] = 'First'\n",
        "sent[9] = 'Last'\n",
        "sent[1:9] = ['Second', 'Third']\n",
        "\n",
        "sent"
      ],
      "metadata": {
        "colab": {
          "base_uri": "https://localhost:8080/"
        },
        "id": "4WzZhY6L-Svq",
        "outputId": "5248d2fd-c346-4a52-90d5-f79e4418c110"
      },
      "execution_count": null,
      "outputs": [
        {
          "output_type": "execute_result",
          "data": {
            "text/plain": [
              "['First', 'Second', 'Third', 'Last']"
            ]
          },
          "metadata": {},
          "execution_count": 52
        }
      ]
    },
    {
      "cell_type": "code",
      "source": [
        "for pos, word in enumerate(sent):\n",
        "  print(f\"{pos} .......... {word}\")"
      ],
      "metadata": {
        "colab": {
          "base_uri": "https://localhost:8080/"
        },
        "id": "Pzqt-5yG-6ay",
        "outputId": "5a3c4051-d694-4467-ece4-231828da29ba"
      },
      "execution_count": null,
      "outputs": [
        {
          "output_type": "stream",
          "name": "stdout",
          "text": [
            "0 .......... First\n",
            "1 .......... Second\n",
            "2 .......... Third\n",
            "3 .......... Last\n"
          ]
        }
      ]
    },
    {
      "cell_type": "markdown",
      "source": [
        "**Variables**\n",
        "\n",
        "A thing that can be stored something like bag, box, bowl. -- my definition \n",
        "\n",
        "a **data item** that may take on more than one value during the runtime of a program. -- from google\n",
        "\n",
        "> variable = expression\n",
        "\n",
        "**Assignment** is the process we save any expression to the variable."
      ],
      "metadata": {
        "id": "dhOmRlD5_FlT"
      }
    },
    {
      "cell_type": "code",
      "source": [
        "vocab = set(text1)\n",
        "vocab_size = len(vocab)\n",
        "vocab_size"
      ],
      "metadata": {
        "colab": {
          "base_uri": "https://localhost:8080/"
        },
        "id": "0c91C3e0DMBE",
        "outputId": "00e69eae-ebe6-4d3b-ef8a-237e7988e3b4"
      },
      "execution_count": null,
      "outputs": [
        {
          "output_type": "execute_result",
          "data": {
            "text/plain": [
              "19317"
            ]
          },
          "metadata": {},
          "execution_count": 54
        }
      ]
    },
    {
      "cell_type": "markdown",
      "source": [
        "**Strings**\n"
      ],
      "metadata": {
        "id": "FANW8u_2DfK6"
      }
    },
    {
      "cell_type": "code",
      "source": [
        "name = 'Monty'\n",
        "\n",
        "print(name[0])\n",
        "print(name[:4])"
      ],
      "metadata": {
        "colab": {
          "base_uri": "https://localhost:8080/"
        },
        "id": "8RZdgWOWD1r5",
        "outputId": "b8b5c60f-f9c2-444a-f5ca-203609a9f422"
      },
      "execution_count": null,
      "outputs": [
        {
          "output_type": "stream",
          "name": "stdout",
          "text": [
            "M\n",
            "Mont\n"
          ]
        }
      ]
    },
    {
      "cell_type": "code",
      "source": [
        "name * 2  # string can multiply with intiger not float"
      ],
      "metadata": {
        "colab": {
          "base_uri": "https://localhost:8080/",
          "height": 35
        },
        "id": "qR_gEtnTD03u",
        "outputId": "bda6593a-8565-41cb-d544-12ee33131510"
      },
      "execution_count": null,
      "outputs": [
        {
          "output_type": "execute_result",
          "data": {
            "text/plain": [
              "'MontyMonty'"
            ],
            "application/vnd.google.colaboratory.intrinsic+json": {
              "type": "string"
            }
          },
          "metadata": {},
          "execution_count": 56
        }
      ]
    },
    {
      "cell_type": "code",
      "source": [
        "name + '!' # sting can concatenate or add"
      ],
      "metadata": {
        "colab": {
          "base_uri": "https://localhost:8080/",
          "height": 35
        },
        "id": "H2mgRAq4EKuK",
        "outputId": "b13f9ecc-5c67-4266-d051-296120fb4788"
      },
      "execution_count": null,
      "outputs": [
        {
          "output_type": "execute_result",
          "data": {
            "text/plain": [
              "'Monty!'"
            ],
            "application/vnd.google.colaboratory.intrinsic+json": {
              "type": "string"
            }
          },
          "metadata": {},
          "execution_count": 57
        }
      ]
    },
    {
      "cell_type": "code",
      "source": [
        "''.join(['Monty', 'Python']) # make a single string from list"
      ],
      "metadata": {
        "colab": {
          "base_uri": "https://localhost:8080/",
          "height": 35
        },
        "id": "gfRBXhDVEbGm",
        "outputId": "990ed300-b129-4b50-b87a-f45e8f667433"
      },
      "execution_count": null,
      "outputs": [
        {
          "output_type": "execute_result",
          "data": {
            "text/plain": [
              "'MontyPython'"
            ],
            "application/vnd.google.colaboratory.intrinsic+json": {
              "type": "string"
            }
          },
          "metadata": {},
          "execution_count": 58
        }
      ]
    },
    {
      "cell_type": "code",
      "source": [
        "'Monty Python'.split() # split a string into a list"
      ],
      "metadata": {
        "colab": {
          "base_uri": "https://localhost:8080/"
        },
        "id": "Zw9kmnuzFL-u",
        "outputId": "3581faf5-516e-4fb5-835f-bfbc060cea33"
      },
      "execution_count": null,
      "outputs": [
        {
          "output_type": "execute_result",
          "data": {
            "text/plain": [
              "['Monty', 'Python']"
            ]
          },
          "metadata": {},
          "execution_count": 59
        }
      ]
    },
    {
      "cell_type": "markdown",
      "source": [
        "## **1.3 Computing with Language: Simple Statistics**"
      ],
      "metadata": {
        "id": "Z9r9yx3XFXu0"
      }
    },
    {
      "cell_type": "markdown",
      "source": [
        "In this section, we pick up the question of **what make a text distinct**, and use automatic methods to **find characteristic words and expression of a text**."
      ],
      "metadata": {
        "id": "k6KrdSK_GOiL"
      }
    },
    {
      "cell_type": "code",
      "source": [
        "saying = ['After', 'all', 'is', 'said', 'and', 'done',\n",
        "          'more', 'is', 'said', 'than', 'done']\n",
        "\n",
        "tokens = set(saying)\n",
        "tokens = sorted(tokens)\n",
        "tokens[-2:]          # from the last two indexs"
      ],
      "metadata": {
        "colab": {
          "base_uri": "https://localhost:8080/"
        },
        "id": "32DLG6dUG7Ek",
        "outputId": "6325f35b-2ea9-46de-add6-fd125a07343c"
      },
      "execution_count": null,
      "outputs": [
        {
          "output_type": "execute_result",
          "data": {
            "text/plain": [
              "['said', 'than']"
            ]
          },
          "metadata": {},
          "execution_count": 60
        }
      ]
    },
    {
      "cell_type": "markdown",
      "source": [
        "**Frequency distribution**\n",
        "\n",
        "It tells us the **frequency of each vocabulary** item in the text. It is a \"distribution\" since it tells us how the total number of word tokens in the text are distributed across the vocabulary items.\n",
        "\n",
        "`FreqDist` find the frequent words \n",
        "`hapaxes` the owrds that occur once only"
      ],
      "metadata": {
        "id": "XGa6cLIxHXPI"
      }
    },
    {
      "cell_type": "code",
      "source": [
        "from nltk.book import FreqDist\n",
        "\n",
        "fdist1 = FreqDist(text1)\n",
        "\n",
        "fdist1"
      ],
      "metadata": {
        "colab": {
          "base_uri": "https://localhost:8080/"
        },
        "id": "IIdmDw1JIMRk",
        "outputId": "e90cbb27-9d34-4094-cd12-d4c5d383fc97"
      },
      "execution_count": null,
      "outputs": [
        {
          "output_type": "execute_result",
          "data": {
            "text/plain": [
              "FreqDist({',': 18713, 'the': 13721, '.': 6862, 'of': 6536, 'and': 6024, 'a': 4569, 'to': 4542, ';': 4072, 'in': 3916, 'that': 2982, ...})"
            ]
          },
          "metadata": {},
          "execution_count": 61
        }
      ]
    },
    {
      "cell_type": "code",
      "source": [
        "vocabulary1 = fdist1.keys()\n"
      ],
      "metadata": {
        "id": "Xq5-n4oZIUSb"
      },
      "execution_count": null,
      "outputs": []
    },
    {
      "cell_type": "code",
      "source": [
        "fdist1['whale']  # inspect the total number of words (\"outcomes\")"
      ],
      "metadata": {
        "colab": {
          "base_uri": "https://localhost:8080/"
        },
        "id": "LGxKjHgXKZs0",
        "outputId": "59a3f35c-1d65-45fe-ea39-d724607bb968"
      },
      "execution_count": null,
      "outputs": [
        {
          "output_type": "execute_result",
          "data": {
            "text/plain": [
              "906"
            ]
          },
          "metadata": {},
          "execution_count": 63
        }
      ]
    },
    {
      "cell_type": "code",
      "source": [
        "import matplotlib.pyplot as plt\n",
        "\n",
        "\n",
        "plt.figure(figsize=(10, 7))\n",
        "fdist1.plot(50, cumulative=True, color='#000080');  # cumulative counts "
      ],
      "metadata": {
        "colab": {
          "base_uri": "https://localhost:8080/",
          "height": 462
        },
        "id": "dCbmjgLOLxME",
        "outputId": "d8646b92-0aa3-46d9-dcdf-a64eec6704b9"
      },
      "execution_count": null,
      "outputs": [
        {
          "output_type": "display_data",
          "data": {
            "text/plain": [
              "<Figure size 720x504 with 1 Axes>"
            ],
            "image/png": "[encoded data removed]"
          },
          "metadata": {
            "needs_background": "light"
          }
        }
      ]
    },
    {
      "cell_type": "code",
      "source": [
        "fdist1.hapaxes()[:50] # hapexes the words that occur once only"
      ],
      "metadata": {
        "colab": {
          "base_uri": "https://localhost:8080/"
        },
        "id": "G2LF4x6sPja8",
        "outputId": "4163298c-e21c-45a7-d43e-182e2e586f48"
      },
      "execution_count": null,
      "outputs": [
        {
          "output_type": "execute_result",
          "data": {
            "text/plain": [
              "['Herman',\n",
              " 'Melville',\n",
              " ']',\n",
              " 'ETYMOLOGY',\n",
              " 'Late',\n",
              " 'Consumptive',\n",
              " 'School',\n",
              " 'threadbare',\n",
              " 'lexicons',\n",
              " 'mockingly',\n",
              " 'flags',\n",
              " 'mortality',\n",
              " 'signification',\n",
              " 'HACKLUYT',\n",
              " 'Sw',\n",
              " 'HVAL',\n",
              " 'roundness',\n",
              " 'Dut',\n",
              " 'Ger',\n",
              " 'WALLEN',\n",
              " 'WALW',\n",
              " 'IAN',\n",
              " 'RICHARDSON',\n",
              " 'KETOS',\n",
              " 'GREEK',\n",
              " 'CETUS',\n",
              " 'LATIN',\n",
              " 'WHOEL',\n",
              " 'ANGLO',\n",
              " 'SAXON',\n",
              " 'WAL',\n",
              " 'HWAL',\n",
              " 'SWEDISH',\n",
              " 'ICELANDIC',\n",
              " 'BALEINE',\n",
              " 'BALLENA',\n",
              " 'FEGEE',\n",
              " 'ERROMANGOAN',\n",
              " 'Librarian',\n",
              " 'painstaking',\n",
              " 'burrower',\n",
              " 'grub',\n",
              " 'Vaticans',\n",
              " 'stalls',\n",
              " 'higgledy',\n",
              " 'piggledy',\n",
              " 'gospel',\n",
              " 'promiscuously',\n",
              " 'commentator',\n",
              " 'belongest']"
            ]
          },
          "metadata": {},
          "execution_count": 66
        }
      ]
    },
    {
      "cell_type": "markdown",
      "source": [
        "**Myself**"
      ],
      "metadata": {
        "id": "i_ISnf-3_ECN"
      }
    },
    {
      "cell_type": "code",
      "source": [
        "from collections import Counter\n",
        "\n",
        "word_counts = Counter(text1)   # quite the same as FreqDist\n",
        "\n",
        "f_50 = {}\n",
        "\n",
        "for k, v in word_counts.most_common(50):\n",
        "  f_50[k] = v\n",
        "  print(f\"{k} .......... {v}\")"
      ],
      "metadata": {
        "colab": {
          "base_uri": "https://localhost:8080/"
        },
        "id": "pcL-2UeSKv-r",
        "outputId": "b17ef2c3-03b8-40c9-af23-cb17dd2ffbe5"
      },
      "execution_count": null,
      "outputs": [
        {
          "output_type": "stream",
          "name": "stdout",
          "text": [
            ", .......... 18713\n",
            "the .......... 13721\n",
            ". .......... 6862\n",
            "of .......... 6536\n",
            "and .......... 6024\n",
            "a .......... 4569\n",
            "to .......... 4542\n",
            "; .......... 4072\n",
            "in .......... 3916\n",
            "that .......... 2982\n",
            "' .......... 2684\n",
            "- .......... 2552\n",
            "his .......... 2459\n",
            "it .......... 2209\n",
            "I .......... 2124\n",
            "s .......... 1739\n",
            "is .......... 1695\n",
            "he .......... 1661\n",
            "with .......... 1659\n",
            "was .......... 1632\n",
            "as .......... 1620\n",
            "\" .......... 1478\n",
            "all .......... 1462\n",
            "for .......... 1414\n",
            "this .......... 1280\n",
            "! .......... 1269\n",
            "at .......... 1231\n",
            "by .......... 1137\n",
            "but .......... 1113\n",
            "not .......... 1103\n",
            "-- .......... 1070\n",
            "him .......... 1058\n",
            "from .......... 1052\n",
            "be .......... 1030\n",
            "on .......... 1005\n",
            "so .......... 918\n",
            "whale .......... 906\n",
            "one .......... 889\n",
            "you .......... 841\n",
            "had .......... 767\n",
            "have .......... 760\n",
            "there .......... 715\n",
            "But .......... 705\n",
            "or .......... 697\n",
            "were .......... 680\n",
            "now .......... 646\n",
            "which .......... 640\n",
            "? .......... 637\n",
            "me .......... 627\n",
            "like .......... 624\n"
          ]
        }
      ]
    },
    {
      "cell_type": "code",
      "source": [
        "import matplotlib.pyplot as plt\n",
        "\n",
        "names = list(f_50.keys())\n",
        "values = list(f_50.values())\n",
        "\n",
        "plt.figure(figsize=(10, 7))\n",
        "plt.plot(names, values, color=\"#000080\", alpha=0.8)\n",
        "plt.xticks(names, rotation='vertical')\n",
        "plt.xlabel('top 50 words')\n",
        "plt.ylabel('frequency')\n",
        "plt.show()"
      ],
      "metadata": {
        "colab": {
          "base_uri": "https://localhost:8080/",
          "height": 462
        },
        "id": "-79E8sRpMWMc",
        "outputId": "31a3f68e-6a9f-4dba-e7e0-3fad9d4608e8"
      },
      "execution_count": null,
      "outputs": [
        {
          "output_type": "display_data",
          "data": {
            "text/plain": [
              "<Figure size 720x504 with 1 Axes>"
            ],
            "image/png": "[encoded data removed]"
          },
          "metadata": {
            "needs_background": "light"
          }
        }
      ]
    },
    {
      "cell_type": "markdown",
      "source": [
        "**Fine-Grained Selection of Words**"
      ],
      "metadata": {
        "id": "72h1NGTsng81"
      }
    },
    {
      "cell_type": "code",
      "source": [
        "#  {w | w ∈ V & P(w)}       # any word which word in set V and property P is true\n",
        "#  [w for w in V if p(w)]   # any word for word in set V if property P is true\n",
        "\n",
        "V = set(text1)\n",
        "long_words = [w for w in V if len(w) > 15]  # list of each word for word in set of V If len of word greather than 15\n",
        "sorted(long_words)"
      ],
      "metadata": {
        "colab": {
          "base_uri": "https://localhost:8080/"
        },
        "id": "VSzfwzIMRM-F",
        "outputId": "7486e004-2615-4691-f030-69ae60c764f3"
      },
      "execution_count": null,
      "outputs": [
        {
          "output_type": "execute_result",
          "data": {
            "text/plain": [
              "['CIRCUMNAVIGATION',\n",
              " 'Physiognomically',\n",
              " 'apprehensiveness',\n",
              " 'cannibalistically',\n",
              " 'characteristically',\n",
              " 'circumnavigating',\n",
              " 'circumnavigation',\n",
              " 'circumnavigations',\n",
              " 'comprehensiveness',\n",
              " 'hermaphroditical',\n",
              " 'indiscriminately',\n",
              " 'indispensableness',\n",
              " 'irresistibleness',\n",
              " 'physiognomically',\n",
              " 'preternaturalness',\n",
              " 'responsibilities',\n",
              " 'simultaneousness',\n",
              " 'subterraneousness',\n",
              " 'supernaturalness',\n",
              " 'superstitiousness',\n",
              " 'uncomfortableness',\n",
              " 'uncompromisedness',\n",
              " 'undiscriminating',\n",
              " 'uninterpenetratingly']"
            ]
          },
          "metadata": {},
          "execution_count": 68
        }
      ]
    },
    {
      "cell_type": "code",
      "source": [
        "V4 = set(text4)\n",
        "long_words = [w for w in V4 if len(w) > 15]\n",
        "sorted(long_words)"
      ],
      "metadata": {
        "colab": {
          "base_uri": "https://localhost:8080/"
        },
        "id": "ZRVD-_xuXf3m",
        "outputId": "d1136553-d576-42ba-bd8e-d0e94ba5635b"
      },
      "execution_count": null,
      "outputs": [
        {
          "output_type": "execute_result",
          "data": {
            "text/plain": [
              "['RESPONSIBILITIES',\n",
              " 'antiphilosophists',\n",
              " 'constitutionally',\n",
              " 'contradistinction',\n",
              " 'discountenancing',\n",
              " 'disqualification',\n",
              " 'enthusiastically',\n",
              " 'instrumentalities',\n",
              " 'internationality',\n",
              " 'irresponsibility',\n",
              " 'misappropriation',\n",
              " 'misrepresentation',\n",
              " 'misunderstanding',\n",
              " 'responsibilities',\n",
              " 'sentimentalizing',\n",
              " 'transcontinental',\n",
              " 'uncharitableness',\n",
              " 'unconstitutional']"
            ]
          },
          "metadata": {},
          "execution_count": 69
        }
      ]
    },
    {
      "cell_type": "code",
      "source": [
        "#  words from the chat corpus that are longer than\n",
        "#  seven characters, that occur more than seven times:\n",
        "\n",
        "fdist5 = FreqDist(text5)\n",
        "V5 = set(text5)\n",
        "\n",
        "long_words = [w for w in V5 if len(w) > 7 and fdist5[w] > 7] \n",
        "sorted(long_words)"
      ],
      "metadata": {
        "colab": {
          "base_uri": "https://localhost:8080/"
        },
        "id": "4AiV_n9XTx9F",
        "outputId": "c1534af1-6496-4312-9412-69be8f971013"
      },
      "execution_count": null,
      "outputs": [
        {
          "output_type": "execute_result",
          "data": {
            "text/plain": [
              "['#14-19teens',\n",
              " '#talkcity_adults',\n",
              " '((((((((((',\n",
              " '........',\n",
              " 'Question',\n",
              " 'actually',\n",
              " 'anything',\n",
              " 'computer',\n",
              " 'cute.-ass',\n",
              " 'everyone',\n",
              " 'football',\n",
              " 'innocent',\n",
              " 'listening',\n",
              " 'remember',\n",
              " 'seriously',\n",
              " 'something',\n",
              " 'together',\n",
              " 'tomorrow',\n",
              " 'watching']"
            ]
          },
          "metadata": {},
          "execution_count": 70
        }
      ]
    },
    {
      "cell_type": "markdown",
      "source": [
        "**Collocations and Bigrams**"
      ],
      "metadata": {
        "id": "FzoelcJNnWt1"
      }
    },
    {
      "cell_type": "markdown",
      "source": [
        "A **Collocation** is **a sequence of words that occur together** unusually often. Thus **\"red wine\"** is a collocation, whereas **\"the wine\"** is not. A characteristic of collocations is that they are resistant to substitution with words that have similar senses; for example, **\"maroon wine\"** sounds very odd.\n",
        "\n",
        "`bigrams`: extracting from a text a list of word pairs; pair sequence of words in order \n",
        "\n",
        "`collocations`: find a sequence of words that occur together"
      ],
      "metadata": {
        "id": "YzWj-H5Qnosn"
      }
    },
    {
      "cell_type": "code",
      "source": [
        "col = bigrams(['more', 'is', 'said', 'than', 'done'])\n",
        "list(col)"
      ],
      "metadata": {
        "colab": {
          "base_uri": "https://localhost:8080/"
        },
        "id": "BjoZwOF6tn9U",
        "outputId": "1f108aaf-6e8e-4e27-c124-81d02f75489b"
      },
      "execution_count": null,
      "outputs": [
        {
          "output_type": "execute_result",
          "data": {
            "text/plain": [
              "[('more', 'is'), ('is', 'said'), ('said', 'than'), ('than', 'done')]"
            ]
          },
          "metadata": {},
          "execution_count": 71
        }
      ]
    },
    {
      "cell_type": "code",
      "source": [
        "text6.collocations()"
      ],
      "metadata": {
        "colab": {
          "base_uri": "https://localhost:8080/"
        },
        "id": "ul9xMcPiwa8e",
        "outputId": "c8b9dcd3-d685-4ca4-df92-9a64aa9be8f3"
      },
      "execution_count": null,
      "outputs": [
        {
          "output_type": "stream",
          "name": "stdout",
          "text": [
            "BLACK KNIGHT; clop clop; HEAD KNIGHT; mumble mumble; Holy Grail;\n",
            "squeak squeak; FRENCH GUARD; saw saw; Sir Robin; Run away; CARTOON\n",
            "CHARACTER; King Arthur; Iesu domine; Pie Iesu; DEAD PERSON; Round\n",
            "Table; clap clap; OLD MAN; dramatic chord; dona eis\n"
          ]
        }
      ]
    },
    {
      "cell_type": "code",
      "source": [
        "text4.collocations()"
      ],
      "metadata": {
        "colab": {
          "base_uri": "https://localhost:8080/"
        },
        "id": "PGOyI7SxufLs",
        "outputId": "f92c90ab-7e11-4f66-e314-ae08ff485738"
      },
      "execution_count": null,
      "outputs": [
        {
          "output_type": "stream",
          "name": "stdout",
          "text": [
            "United States; fellow citizens; years ago; four years; Federal\n",
            "Government; General Government; American people; Vice President; God\n",
            "bless; Chief Justice; one another; fellow Americans; Old World;\n",
            "Almighty God; Fellow citizens; Chief Magistrate; every citizen; Indian\n",
            "tribes; public debt; foreign nations\n"
          ]
        }
      ]
    },
    {
      "cell_type": "code",
      "source": [
        "text8.collocations()"
      ],
      "metadata": {
        "colab": {
          "base_uri": "https://localhost:8080/"
        },
        "id": "dRYnThupwQil",
        "outputId": "bfdb9cdf-5959-4625-c594-c45723683ee9"
      },
      "execution_count": null,
      "outputs": [
        {
          "output_type": "stream",
          "name": "stdout",
          "text": [
            "would like; medium build; social drinker; quiet nights; non smoker;\n",
            "long term; age open; Would like; easy going; financially secure; fun\n",
            "times; similar interests; Age open; weekends away; poss rship; well\n",
            "presented; never married; single mum; permanent relationship; slim\n",
            "build\n"
          ]
        }
      ]
    },
    {
      "cell_type": "code",
      "source": [
        "text1.collocations()"
      ],
      "metadata": {
        "colab": {
          "base_uri": "https://localhost:8080/"
        },
        "id": "QO2cvSHRypjt",
        "outputId": "8a1cd2d5-5a4c-4c28-e7d1-10e1e1a36397"
      },
      "execution_count": null,
      "outputs": [
        {
          "output_type": "stream",
          "name": "stdout",
          "text": [
            "Sperm Whale; Moby Dick; White Whale; old man; Captain Ahab; sperm\n",
            "whale; Right Whale; Captain Peleg; New Bedford; Cape Horn; cried Ahab;\n",
            "years ago; lower jaw; never mind; Father Mapple; cried Stubb; chief\n",
            "mate; white whale; ivory leg; one hand\n"
          ]
        }
      ]
    },
    {
      "cell_type": "markdown",
      "source": [
        "**Counting Other Things**"
      ],
      "metadata": {
        "id": "WJJuYN_IwshN"
      }
    },
    {
      "cell_type": "markdown",
      "source": [
        "We can **look at the distribution of word lengths in a text**, by creating a `FreqDist` out of a long list of numbers, where each number is the length of the corresponding word in the text:"
      ],
      "metadata": {
        "id": "0I-IDWY7wvvN"
      }
    },
    {
      "cell_type": "code",
      "source": [
        "text1_len  = [len(w) for w in text1]  # find length of each word\n",
        "text1_len[:10]"
      ],
      "metadata": {
        "colab": {
          "base_uri": "https://localhost:8080/"
        },
        "id": "KvPslTFWxJkz",
        "outputId": "5feb4d80-9a0b-4831-ec3e-ef527eb80717"
      },
      "execution_count": null,
      "outputs": [
        {
          "output_type": "execute_result",
          "data": {
            "text/plain": [
              "[1, 4, 4, 2, 6, 8, 4, 1, 9, 1]"
            ]
          },
          "metadata": {},
          "execution_count": 79
        }
      ]
    },
    {
      "cell_type": "code",
      "source": [
        "fdist = FreqDist([len(w) for w in text1]) # how frequency of \"length of word\"\n",
        "fdist"
      ],
      "metadata": {
        "colab": {
          "base_uri": "https://localhost:8080/"
        },
        "id": "2bPdIVKzyyM0",
        "outputId": "f0cce39f-6b53-4a71-c63e-4554a4863f80"
      },
      "execution_count": null,
      "outputs": [
        {
          "output_type": "execute_result",
          "data": {
            "text/plain": [
              "FreqDist({3: 50223, 1: 47933, 4: 42345, 2: 38513, 5: 26597, 6: 17111, 7: 14399, 8: 9966, 9: 6428, 10: 3528, ...})"
            ]
          },
          "metadata": {},
          "execution_count": 77
        }
      ]
    },
    {
      "cell_type": "code",
      "source": [
        "fdist.keys()  # there are 20 different word lengths"
      ],
      "metadata": {
        "colab": {
          "base_uri": "https://localhost:8080/"
        },
        "id": "_z7rA2dN0lNN",
        "outputId": "f4dd735f-c89a-4c7f-a902-13ab6779ea54"
      },
      "execution_count": null,
      "outputs": [
        {
          "output_type": "execute_result",
          "data": {
            "text/plain": [
              "dict_keys([1, 4, 2, 6, 8, 9, 11, 5, 7, 3, 10, 12, 13, 14, 16, 15, 17, 18, 20])"
            ]
          },
          "metadata": {},
          "execution_count": 80
        }
      ]
    },
    {
      "cell_type": "code",
      "source": [
        "fdist.items()"
      ],
      "metadata": {
        "colab": {
          "base_uri": "https://localhost:8080/"
        },
        "id": "f6c6rC5A67JX",
        "outputId": "c5d9b3c9-93a4-4012-f871-efde5922a0c0"
      },
      "execution_count": null,
      "outputs": [
        {
          "output_type": "execute_result",
          "data": {
            "text/plain": [
              "dict_items([(1, 47933), (4, 42345), (2, 38513), (6, 17111), (8, 9966), (9, 6428), (11, 1873), (5, 26597), (7, 14399), (3, 50223), (10, 3528), (12, 1053), (13, 567), (14, 177), (16, 22), (15, 70), (17, 12), (18, 1), (20, 1)])"
            ]
          },
          "metadata": {},
          "execution_count": 109
        }
      ]
    },
    {
      "cell_type": "code",
      "source": [
        "fdist.max()  # the most frequent word length is '3'"
      ],
      "metadata": {
        "colab": {
          "base_uri": "https://localhost:8080/"
        },
        "id": "Kz069ppv8knn",
        "outputId": "54cba9dc-0be8-4ad2-e5c0-db30c2c7505c"
      },
      "execution_count": null,
      "outputs": [
        {
          "output_type": "execute_result",
          "data": {
            "text/plain": [
              "3"
            ]
          },
          "metadata": {},
          "execution_count": 119
        }
      ]
    },
    {
      "cell_type": "code",
      "source": [
        "fdist[3]  # words of length 3 account for roughly 50,000"
      ],
      "metadata": {
        "colab": {
          "base_uri": "https://localhost:8080/"
        },
        "id": "8wRK5VkW6-QF",
        "outputId": "b3125ad8-4874-411c-952b-418f5431f612"
      },
      "execution_count": null,
      "outputs": [
        {
          "output_type": "execute_result",
          "data": {
            "text/plain": [
              "50223"
            ]
          },
          "metadata": {},
          "execution_count": 110
        }
      ]
    },
    {
      "cell_type": "code",
      "source": [
        "fdist.freq(3)   # words of length 3 is roughly 20% of words making up the book."
      ],
      "metadata": {
        "colab": {
          "base_uri": "https://localhost:8080/"
        },
        "id": "bD8pVrrP8cHW",
        "outputId": "2e1bdbd9-4762-4e3c-c2fd-05b504084b21"
      },
      "execution_count": null,
      "outputs": [
        {
          "output_type": "execute_result",
          "data": {
            "text/plain": [
              "0.19255882431878046"
            ]
          },
          "metadata": {},
          "execution_count": 118
        }
      ]
    },
    {
      "cell_type": "markdown",
      "source": [
        "<table>\n",
        "  <tr>\n",
        "    <th colspan=\"2\"><h1>Functions defined for NLTK's frequency distributions</h1></th>\n",
        "  </tr>\n",
        "  <tr>\n",
        "    <td>fdist = FreqDist(sample)</td>\n",
        "    <td>Create a frequency distribution containing the given samples</td>\n",
        "  </tr>\n",
        "  <tr>\n",
        "    <td>fdist.inc(sample)</td>\n",
        "    <td>Increment the count for this sample</td>\n",
        "  </tr>\n",
        "   <tr>\n",
        "    <td>fdist['monstrous']</td>\n",
        "    <td>Count of the number of times a given sample occurred</td>\n",
        "  </tr>\n",
        "  <tr>\n",
        "    <td>fdist.freq('monstrous')</td>\n",
        "    <td>Frequency of a given sample</td>\n",
        "  </tr>\n",
        "   <tr>\n",
        "    <td>fdist.N()</td>\n",
        "    <td>Total number of samples</td>\n",
        "  </tr>\n",
        "  <tr>\n",
        "    <td>fdist.keys()</td>\n",
        "    <td>The samples sorted in order of decreasing frequency</td>\n",
        "  </tr>\n",
        "  <tr>\n",
        "    <td>for sample in fdist:</td>\n",
        "    <td>Iterate over the samples, in order of decreasing frequency</td>\n",
        "  </tr>\n",
        "  <tr>\n",
        "    <td>fdist.tabulate()</td>\n",
        "    <td>Tabulate the frequency distribution</td>\n",
        "  </tr>\n",
        "   <tr>\n",
        "    <td>fdist.plot()</td>\n",
        "    <td>Graphical plot of the frequency distribution</td>\n",
        "  </tr>\n",
        "  <tr>\n",
        "    <td>fdist.plot(cummulative=True</td>\n",
        "    <td>Cumulative plot of the frequency distribution</td>\n",
        "  </tr>\n",
        "  <tr>\n",
        "    <td>fdist1 < fdist2</td>\n",
        "    <td>Test if samples in fdist 1 occur less frequently than in fdist2</td>\n",
        "  </tr>\n",
        "</table>"
      ],
      "metadata": {
        "id": "PR_asJGx9ZR9"
      }
    },
    {
      "cell_type": "markdown",
      "source": [
        "## **1.4 Back to Python: Making Decisions and Taking Control**"
      ],
      "metadata": {
        "id": "q7WtSI2xBxJu"
      }
    },
    {
      "cell_type": "markdown",
      "source": [
        "A key freature of programming is the **ability of machines to make decisions on our behalf, executing instruction when certain conditiosn are met**, or repeatedly looping through text data until some conditions is satisfied. this feature is known as **control**"
      ],
      "metadata": {
        "id": "FujgRLt6ChCm"
      }
    },
    {
      "cell_type": "markdown",
      "source": [
        "Conditionals"
      ],
      "metadata": {
        "id": "VD2fDizaC-IQ"
      }
    },
    {
      "cell_type": "markdown",
      "source": [
        "<table>\n",
        "  <tr>\n",
        "    <th colspan=\"2\"><h1>Numerical comparison operators</h1></th>\n",
        "  </tr>\n",
        "  <tr>\n",
        "    <th>Operator</th>\n",
        "    <th>Relationship</th>\n",
        "  </tr>\n",
        "  <tr>\n",
        "    <td><</td>\n",
        "    <td>Less than</td>\n",
        "  </tr>\n",
        "   <tr>\n",
        "    <td><=</td>\n",
        "    <td>Less than or equal to</td>\n",
        "  </tr>\n",
        "  <tr>\n",
        "    <td>==</td>\n",
        "    <td>Equal to (note this is two\"=\"signs, not one)</td>\n",
        "  </tr>\n",
        "   <tr>\n",
        "    <td>!=</td>\n",
        "    <td>Not equal to</td>\n",
        "  </tr>\n",
        "  <tr>\n",
        "    <td>></td>\n",
        "    <td>Greater than</td>\n",
        "  </tr>\n",
        "  <tr>\n",
        "    <td>>=</td>\n",
        "    <td>Greater than or equal to</td>\n",
        "  </tr>\n",
        "</table>"
      ],
      "metadata": {
        "id": "UXu3XqXFDFPe"
      }
    },
    {
      "cell_type": "code",
      "source": [
        "sent7"
      ],
      "metadata": {
        "colab": {
          "base_uri": "https://localhost:8080/"
        },
        "id": "TEzZAFX6EEBp",
        "outputId": "9533edd5-bcef-4ac6-cfe4-0ce3d08a241d"
      },
      "execution_count": null,
      "outputs": [
        {
          "output_type": "execute_result",
          "data": {
            "text/plain": [
              "['Pierre',\n",
              " 'Vinken',\n",
              " ',',\n",
              " '61',\n",
              " 'years',\n",
              " 'old',\n",
              " ',',\n",
              " 'will',\n",
              " 'join',\n",
              " 'the',\n",
              " 'board',\n",
              " 'as',\n",
              " 'a',\n",
              " 'nonexecutive',\n",
              " 'director',\n",
              " 'Nov.',\n",
              " '29',\n",
              " '.']"
            ]
          },
          "metadata": {},
          "execution_count": 122
        }
      ]
    },
    {
      "cell_type": "code",
      "source": [
        "# [w for w in text if condition]\n",
        "\n",
        "[w for w in sent7 if len(w) < 4]   # less than"
      ],
      "metadata": {
        "colab": {
          "base_uri": "https://localhost:8080/"
        },
        "id": "qHuDD4_0EHoO",
        "outputId": "34252762-3b24-434d-db5e-d8bf024bc051"
      },
      "execution_count": null,
      "outputs": [
        {
          "output_type": "execute_result",
          "data": {
            "text/plain": [
              "[',', '61', 'old', ',', 'the', 'as', 'a', '29', '.']"
            ]
          },
          "metadata": {},
          "execution_count": 124
        }
      ]
    },
    {
      "cell_type": "code",
      "source": [
        "[w for w in sent7 if len(w) <= 4]   # less than or equal"
      ],
      "metadata": {
        "colab": {
          "base_uri": "https://localhost:8080/"
        },
        "id": "lUGTXUJYEa2O",
        "outputId": "4ce8b772-76b5-43f6-b64e-bee09bb016f2"
      },
      "execution_count": null,
      "outputs": [
        {
          "output_type": "execute_result",
          "data": {
            "text/plain": [
              "[',', '61', 'old', ',', 'will', 'join', 'the', 'as', 'a', 'Nov.', '29', '.']"
            ]
          },
          "metadata": {},
          "execution_count": 125
        }
      ]
    },
    {
      "cell_type": "code",
      "source": [
        "[w for w in sent7 if len(w) == 4]   # equal 4"
      ],
      "metadata": {
        "colab": {
          "base_uri": "https://localhost:8080/"
        },
        "id": "E8auHE3fEnjV",
        "outputId": "35cd7b82-3db6-4326-a327-6fca11bf7190"
      },
      "execution_count": null,
      "outputs": [
        {
          "output_type": "execute_result",
          "data": {
            "text/plain": [
              "['will', 'join', 'Nov.']"
            ]
          },
          "metadata": {},
          "execution_count": 128
        }
      ]
    },
    {
      "cell_type": "code",
      "source": [
        "[w for w in sent7 if len(w) != 4]"
      ],
      "metadata": {
        "colab": {
          "base_uri": "https://localhost:8080/"
        },
        "id": "K5Tt7lA8Eyfa",
        "outputId": "c823e5a7-ef52-40dd-f091-6116edad4899"
      },
      "execution_count": null,
      "outputs": [
        {
          "output_type": "execute_result",
          "data": {
            "text/plain": [
              "['Pierre',\n",
              " 'Vinken',\n",
              " ',',\n",
              " '61',\n",
              " 'years',\n",
              " 'old',\n",
              " ',',\n",
              " 'the',\n",
              " 'board',\n",
              " 'as',\n",
              " 'a',\n",
              " 'nonexecutive',\n",
              " 'director',\n",
              " '29',\n",
              " '.']"
            ]
          },
          "metadata": {},
          "execution_count": 129
        }
      ]
    },
    {
      "cell_type": "markdown",
      "source": [
        "<table>\n",
        "  <tr>\n",
        "    <th colspan=\"2\"><h1>Some word comparison operators</h1></th>\n",
        "  </tr>\n",
        "  <tr>\n",
        "    <th>Function</th>\n",
        "    <th>Meaning</th>\n",
        "  </tr>\n",
        "  <tr>\n",
        "    <td>s.startswith(t)</td>\n",
        "    <td>Test if s starts with 't'</td>\n",
        "  </tr>\n",
        "   <tr>\n",
        "    <td>s.endswith(t)</td>\n",
        "    <td>Test if s end with 't'</td>\n",
        "  </tr>\n",
        "  <tr>\n",
        "    <td> t in s</td>\n",
        "    <td>Test if t in containsed inside s</td>\n",
        "  </tr>\n",
        "   <tr>\n",
        "    <td>s.islower()</td>\n",
        "    <td>Test if all cased characters in s are lowercase</td>\n",
        "  </tr>\n",
        "  <tr>\n",
        "    <td>s.isupper()</td>\n",
        "    <td>Test if all cased characters in s are uppercase</td>\n",
        "  </tr>\n",
        "  <tr>\n",
        "    <td>s.isalpha()</td>\n",
        "    <td>Test if all characters in s are alphabetic</td>\n",
        "  </tr>\n",
        "   <tr>\n",
        "    <td>s.isalnum</td>\n",
        "    <td>Test if all characters in s are alphanumeric</td>\n",
        "  </tr>\n",
        "  <tr>\n",
        "    <td>s.isdigit()</td>\n",
        "    <td>Test if all characters in s are digits</td>\n",
        "  </tr>\n",
        "  <tr>\n",
        "    <td>s.istitle()</td>\n",
        "    <td>Test if all characters is titlecased (all words in s have initial capitals)</td>\n",
        "  </tr>\n",
        "</table>"
      ],
      "metadata": {
        "id": "7IJmQWihFID9"
      }
    },
    {
      "cell_type": "code",
      "source": [
        "sorted([w for w in set(text1) if w.endswith('ableness')])"
      ],
      "metadata": {
        "colab": {
          "base_uri": "https://localhost:8080/"
        },
        "id": "_nL7WuezG0Ze",
        "outputId": "7a28202f-f40a-4c43-aa80-68f7163a6d14"
      },
      "execution_count": null,
      "outputs": [
        {
          "output_type": "execute_result",
          "data": {
            "text/plain": [
              "['comfortableness',\n",
              " 'honourableness',\n",
              " 'immutableness',\n",
              " 'indispensableness',\n",
              " 'indomitableness',\n",
              " 'intolerableness',\n",
              " 'palpableness',\n",
              " 'reasonableness',\n",
              " 'uncomfortableness']"
            ]
          },
          "metadata": {},
          "execution_count": 131
        }
      ]
    },
    {
      "cell_type": "code",
      "source": [
        "sorted([term for term in set(text4) if 'gnt' in term])"
      ],
      "metadata": {
        "colab": {
          "base_uri": "https://localhost:8080/"
        },
        "id": "g5o9fTMZHCL3",
        "outputId": "3e814a62-5708-45bb-db61-176f01dd5a49"
      },
      "execution_count": null,
      "outputs": [
        {
          "output_type": "execute_result",
          "data": {
            "text/plain": [
              "['Sovereignty', 'sovereignties', 'sovereignty']"
            ]
          },
          "metadata": {},
          "execution_count": 132
        }
      ]
    },
    {
      "cell_type": "code",
      "source": [
        "title = sorted([item for item in set(text6) if item.istitle()])\n",
        "title[:20]"
      ],
      "metadata": {
        "colab": {
          "base_uri": "https://localhost:8080/"
        },
        "id": "IQKJ84-QHJJO",
        "outputId": "b1575f79-396e-469f-9e27-4da2534a0267"
      },
      "execution_count": null,
      "outputs": [
        {
          "output_type": "execute_result",
          "data": {
            "text/plain": [
              "['A',\n",
              " 'Aaaaaaaaah',\n",
              " 'Aaaaaaaah',\n",
              " 'Aaaaaah',\n",
              " 'Aaaah',\n",
              " 'Aaaaugh',\n",
              " 'Aaagh',\n",
              " 'Aaah',\n",
              " 'Aaauggh',\n",
              " 'Aaaugh',\n",
              " 'Aaauugh',\n",
              " 'Aagh',\n",
              " 'Aah',\n",
              " 'Aauuggghhh',\n",
              " 'Aauuugh',\n",
              " 'Aauuuuugh',\n",
              " 'Aauuuves',\n",
              " 'Action',\n",
              " 'Actually',\n",
              " 'African']"
            ]
          },
          "metadata": {},
          "execution_count": 135
        }
      ]
    },
    {
      "cell_type": "code",
      "source": [
        "sorted(item for item in set(sent7) if item.isdigit())"
      ],
      "metadata": {
        "colab": {
          "base_uri": "https://localhost:8080/"
        },
        "id": "dS9zV_pjHau2",
        "outputId": "151b6363-2ff9-4afa-a84a-7124d357fe09"
      },
      "execution_count": null,
      "outputs": [
        {
          "output_type": "execute_result",
          "data": {
            "text/plain": [
              "['29', '61']"
            ]
          },
          "metadata": {},
          "execution_count": 136
        }
      ]
    },
    {
      "cell_type": "code",
      "source": [
        "sorted([w for w in set(text7) if '-' in w and 'index' in w])"
      ],
      "metadata": {
        "colab": {
          "base_uri": "https://localhost:8080/"
        },
        "id": "8ZVqKuHNHu5G",
        "outputId": "6e50004a-1d8b-4bd7-cedd-45d2b9c8fe10"
      },
      "execution_count": null,
      "outputs": [
        {
          "output_type": "execute_result",
          "data": {
            "text/plain": [
              "['Stock-index',\n",
              " 'index-arbitrage',\n",
              " 'index-fund',\n",
              " 'index-options',\n",
              " 'index-related',\n",
              " 'stock-index']"
            ]
          },
          "metadata": {},
          "execution_count": 137
        }
      ]
    },
    {
      "cell_type": "code",
      "source": [
        "sorted([wd for wd in set(text3) if wd.istitle() and len(wd) > 10])"
      ],
      "metadata": {
        "colab": {
          "base_uri": "https://localhost:8080/"
        },
        "id": "-h_ETBw0H9Me",
        "outputId": "7cc8854b-7656-48e4-f2b4-2626355e6fa5"
      },
      "execution_count": null,
      "outputs": [
        {
          "output_type": "execute_result",
          "data": {
            "text/plain": [
              "['Abelmizraim',\n",
              " 'Allonbachuth',\n",
              " 'Beerlahairoi',\n",
              " 'Canaanitish',\n",
              " 'Chedorlaomer',\n",
              " 'Girgashites',\n",
              " 'Hazarmaveth',\n",
              " 'Hazezontamar',\n",
              " 'Ishmeelites',\n",
              " 'Jegarsahadutha',\n",
              " 'Jehovahjireh',\n",
              " 'Kirjatharba',\n",
              " 'Melchizedek',\n",
              " 'Mesopotamia',\n",
              " 'Peradventure',\n",
              " 'Philistines',\n",
              " 'Zaphnathpaaneah']"
            ]
          },
          "metadata": {},
          "execution_count": 138
        }
      ]
    },
    {
      "cell_type": "code",
      "source": [
        "sorted(w for w in set(sent7) if not w.islower())"
      ],
      "metadata": {
        "colab": {
          "base_uri": "https://localhost:8080/"
        },
        "id": "QAU5k6VqIG91",
        "outputId": "dbac4763-9100-4ae4-e897-6cc03533eb53"
      },
      "execution_count": null,
      "outputs": [
        {
          "output_type": "execute_result",
          "data": {
            "text/plain": [
              "[',', '.', '29', '61', 'Nov.', 'Pierre', 'Vinken']"
            ]
          },
          "metadata": {},
          "execution_count": 139
        }
      ]
    },
    {
      "cell_type": "code",
      "source": [
        "sorted([t for t in set(text2) if 'cie' in t or 'cei' in t])"
      ],
      "metadata": {
        "colab": {
          "base_uri": "https://localhost:8080/"
        },
        "id": "ujzSf5rUINqU",
        "outputId": "29025707-e22c-4404-a5db-23809f7fcc23"
      },
      "execution_count": null,
      "outputs": [
        {
          "output_type": "execute_result",
          "data": {
            "text/plain": [
              "['ancient',\n",
              " 'ceiling',\n",
              " 'conceit',\n",
              " 'conceited',\n",
              " 'conceive',\n",
              " 'conscience',\n",
              " 'conscientious',\n",
              " 'conscientiously',\n",
              " 'deceitful',\n",
              " 'deceive',\n",
              " 'deceived',\n",
              " 'deceiving',\n",
              " 'deficiencies',\n",
              " 'deficiency',\n",
              " 'deficient',\n",
              " 'delicacies',\n",
              " 'excellencies',\n",
              " 'fancied',\n",
              " 'insufficiency',\n",
              " 'insufficient',\n",
              " 'legacies',\n",
              " 'perceive',\n",
              " 'perceived',\n",
              " 'perceiving',\n",
              " 'prescience',\n",
              " 'prophecies',\n",
              " 'receipt',\n",
              " 'receive',\n",
              " 'received',\n",
              " 'receiving',\n",
              " 'society',\n",
              " 'species',\n",
              " 'sufficient',\n",
              " 'sufficiently',\n",
              " 'undeceive',\n",
              " 'undeceiving']"
            ]
          },
          "metadata": {},
          "execution_count": 140
        }
      ]
    },
    {
      "cell_type": "code",
      "source": [
        "sorted(w for w in set(text1) if w.endswith('gress') or w.endswith('port'))  # latin sufixes -gress to walk, -port to carry"
      ],
      "metadata": {
        "colab": {
          "base_uri": "https://localhost:8080/"
        },
        "id": "40OAc6TIIVVM",
        "outputId": "3d1d631f-afca-46ff-fb0e-d1ae6b8030f8"
      },
      "execution_count": null,
      "outputs": [
        {
          "output_type": "execute_result",
          "data": {
            "text/plain": [
              "['disport',\n",
              " 'egress',\n",
              " 'import',\n",
              " 'passport',\n",
              " 'port',\n",
              " 'progress',\n",
              " 'report',\n",
              " 'seaport',\n",
              " 'sport',\n",
              " 'support',\n",
              " 'tigress']"
            ]
          },
          "metadata": {},
          "execution_count": 141
        }
      ]
    },
    {
      "cell_type": "markdown",
      "source": [
        "**Operating on Every Element**"
      ],
      "metadata": {
        "id": "WyNpKwtLJ7KV"
      }
    },
    {
      "cell_type": "code",
      "source": [
        "# [f(w) for ....]\n",
        "\n",
        "t1_len = [len(w) for w in text1]"
      ],
      "metadata": {
        "id": "kV4tWrNnKChI"
      },
      "execution_count": null,
      "outputs": []
    },
    {
      "cell_type": "code",
      "source": [
        "# [w.f() for ....]\n",
        "\n",
        "t1_cap = [w.upper() for w in text1]\n",
        "\n",
        "t1_cap[:20]"
      ],
      "metadata": {
        "colab": {
          "base_uri": "https://localhost:8080/"
        },
        "id": "Pael3w1aKO1e",
        "outputId": "75fc75b8-ec34-4d70-af4c-a32441b1672d"
      },
      "execution_count": null,
      "outputs": [
        {
          "output_type": "execute_result",
          "data": {
            "text/plain": [
              "['[',\n",
              " 'MOBY',\n",
              " 'DICK',\n",
              " 'BY',\n",
              " 'HERMAN',\n",
              " 'MELVILLE',\n",
              " '1851',\n",
              " ']',\n",
              " 'ETYMOLOGY',\n",
              " '.',\n",
              " '(',\n",
              " 'SUPPLIED',\n",
              " 'BY',\n",
              " 'A',\n",
              " 'LATE',\n",
              " 'CONSUMPTIVE',\n",
              " 'USHER',\n",
              " 'TO',\n",
              " 'A',\n",
              " 'GRAMMAR']"
            ]
          },
          "metadata": {},
          "execution_count": 146
        }
      ]
    },
    {
      "cell_type": "code",
      "source": [
        "count_all = len(text1)\n",
        "count_sensitive = len(set(text1))\n",
        "count_insensitive = len(set([word.lower() for word in text1])) # turn all word in lower then count disting word\n",
        "count_only_alpha = len(set([word.lower() for word in text1 if word.isalpha()]))\n",
        "\n",
        "print(count_all)\n",
        "print(count_sensitive)\n",
        "print(count_insensitive)\n",
        "print(count_only_alpha)"
      ],
      "metadata": {
        "colab": {
          "base_uri": "https://localhost:8080/"
        },
        "id": "YxyuJJ_8K1Y5",
        "outputId": "64240558-569f-498a-f407-130ab7e94c29"
      },
      "execution_count": null,
      "outputs": [
        {
          "output_type": "stream",
          "name": "stdout",
          "text": [
            "260819\n",
            "19317\n",
            "17231\n",
            "16948\n"
          ]
        }
      ]
    },
    {
      "cell_type": "markdown",
      "source": [
        "**Nested Code Blocks**"
      ],
      "metadata": {
        "id": "xaqUtMw2MOSu"
      }
    },
    {
      "cell_type": "markdown",
      "source": [
        "when statement is satisfied (True) then a block of code execute\n",
        "\n",
        "`if` statement is known as a **control structure** because it controls whether the code in the indented block will be run"
      ],
      "metadata": {
        "id": "pcEzhROtMudf"
      }
    },
    {
      "cell_type": "code",
      "source": [
        "word = 'cat'\n",
        "if len(word) < 5:\n",
        "  print('word length is less than 5')"
      ],
      "metadata": {
        "colab": {
          "base_uri": "https://localhost:8080/"
        },
        "id": "5YNAmUsLLr5f",
        "outputId": "0b9fe578-c097-4409-c412-432674fe0328"
      },
      "execution_count": null,
      "outputs": [
        {
          "output_type": "stream",
          "name": "stdout",
          "text": [
            "word length is less than 5\n"
          ]
        }
      ]
    },
    {
      "cell_type": "code",
      "source": [
        "word = 'cat'\n",
        "if len(word) >= 5:                                    # False \n",
        "  print('word length is greater than or equal to 5')  # Block of code doesn't run "
      ],
      "metadata": {
        "id": "TjUFb979NLHH"
      },
      "execution_count": null,
      "outputs": []
    },
    {
      "cell_type": "code",
      "source": [
        "for word in ['Call', 'me', 'Ishmael', '.']:   # for loop\n",
        "  print(word)"
      ],
      "metadata": {
        "colab": {
          "base_uri": "https://localhost:8080/"
        },
        "id": "reh8BdFiNpBQ",
        "outputId": "b6b17a26-8c75-4dfb-a587-2c9daaed4f1b"
      },
      "execution_count": null,
      "outputs": [
        {
          "output_type": "stream",
          "name": "stdout",
          "text": [
            "Call\n",
            "me\n",
            "Ishmael\n",
            ".\n"
          ]
        }
      ]
    },
    {
      "cell_type": "markdown",
      "source": [
        "**Looping with Conditions**"
      ],
      "metadata": {
        "id": "4AI23si3N_wX"
      }
    },
    {
      "cell_type": "code",
      "source": [
        "# combine the if and for statements \n",
        "\n",
        "sent1 = ['Call', 'me', 'Ishmael', '.']\n",
        "for w in sent1:\n",
        "  if w.endswith('l'):\n",
        "    print(w)"
      ],
      "metadata": {
        "colab": {
          "base_uri": "https://localhost:8080/"
        },
        "id": "H6Q4rcfGOIm7",
        "outputId": "7e7ab2bd-df02-4ac6-90ab-cdfb9500917f"
      },
      "execution_count": null,
      "outputs": [
        {
          "output_type": "stream",
          "name": "stdout",
          "text": [
            "Call\n",
            "Ishmael\n"
          ]
        }
      ]
    },
    {
      "cell_type": "code",
      "source": [
        "for token in sent1:\n",
        "  if token.islower():\n",
        "    print(token,'....','is a lowercase word')\n",
        "  elif token.istitle():\n",
        "    print(token,'....','is a titlecase word')\n",
        "  else:\n",
        "    print(token,'....','is punctuation')\n"
      ],
      "metadata": {
        "colab": {
          "base_uri": "https://localhost:8080/"
        },
        "id": "2CQreNYCOg6Z",
        "outputId": "f222d7e0-c75d-412a-b1a8-8ecec4da0945"
      },
      "execution_count": null,
      "outputs": [
        {
          "output_type": "stream",
          "name": "stdout",
          "text": [
            "Call .... is a titlecase word\n",
            "me .... is a lowercase word\n",
            "Ishmael .... is a titlecase word\n",
            ". .... is punctuation\n"
          ]
        }
      ]
    },
    {
      "cell_type": "code",
      "source": [
        "tricky = sorted([w for w in set(text2) if 'cie' in w or 'cei' in w])\n",
        "for word in tricky:\n",
        "  print(word, end=' ')"
      ],
      "metadata": {
        "colab": {
          "base_uri": "https://localhost:8080/"
        },
        "id": "YL4uQWBuPRWH",
        "outputId": "683c15da-1c37-4556-ed89-74c84e581cdd"
      },
      "execution_count": null,
      "outputs": [
        {
          "output_type": "stream",
          "name": "stdout",
          "text": [
            "ancient ceiling conceit conceited conceive conscience conscientious conscientiously deceitful deceive deceived deceiving deficiencies deficiency deficient delicacies excellencies fancied insufficiency insufficient legacies perceive perceived perceiving prescience prophecies receipt receive received receiving society species sufficient sufficiently undeceive undeceiving "
          ]
        }
      ]
    },
    {
      "cell_type": "markdown",
      "source": [
        "## **1.5 Automatic Natural Language Understanding**"
      ],
      "metadata": {
        "id": "Cf0vljja2hen"
      }
    },
    {
      "cell_type": "markdown",
      "source": [
        "Exploiting our knowledge of language and computation by **building useful language technologies**.\n",
        "\n",
        "At a purely practical levl, we all need help to **navigate** the universe of information locked up in **text on the Web**. \n",
        "\n",
        "Getting a cumputer to **answer questions automatically** involvese a range of language processing tasks, **including** **information extraction**, **inference**, and **summarization**, and would need to be carried out on a scale and with a level of robustness that is still beyound our current capabilities. \n",
        "\n",
        "On a more philosophical level, a long-standing challenge within artificial intelligence has been to **build intelligent machines**, and a major part of intelligent behavior is **understanding language**.\n",
        "\n",
        "**NLP technologies** become more mature, and robust methods for **analyzing unrestricted text** become more widespread, the prospect of **natural language understanding** has re-emerged as a **plausible goal**."
      ],
      "metadata": {
        "id": "4VdBKWhA2vQ2"
      }
    },
    {
      "cell_type": "markdown",
      "source": [
        "**Word Sense Disambiguation**"
      ],
      "metadata": {
        "id": "ihl06WTC5nX3"
      }
    },
    {
      "cell_type": "markdown",
      "source": [
        "In **word sense disambiguation** we want to work out which sense of a word was in tended in a given context.\n",
        "\n",
        "a. serve: help with food or drink; hold an office; put ball into play\n",
        "\n",
        "b. dish: plate; course of a meal; communications device\n",
        "\n",
        "\"he **served** the **dish**\" - \"serve\" and \"dish\" are being used with their food meanings.\n",
        "\n",
        "We automatically **disambiguate words** **using context**, exploiting the **simple fact that nearby words** have closely related meanings."
      ],
      "metadata": {
        "id": "iR95QJ7N6KKX"
      }
    },
    {
      "cell_type": "markdown",
      "source": [
        "Example of the **contextual effect**, consider the word by, which has several meaning\n",
        "\n",
        "a. The lost children were found by the searchers (agentive)\n",
        "\n",
        "b. The lost children were found by the mountain (locative)\n",
        "\n",
        "c. The lost children were found by the afternoon (temporal)"
      ],
      "metadata": {
        "id": "fgCmly5a8EZX"
      }
    },
    {
      "cell_type": "markdown",
      "source": [
        "**Pronoun Resolution**"
      ],
      "metadata": {
        "id": "Bro0e8j38uz4"
      }
    },
    {
      "cell_type": "markdown",
      "source": [
        "A deeper kind of language understanding is to work out **\"who did what to whom,\"** i.e., to detect the subjects and objects of verbs.\n",
        "\n",
        "a. The thieves stole the paintings. They were subsequently sold.\n",
        "\n",
        "b. The thieves stole the paintings. They were subsequently caught.\n",
        "\n",
        "c. The thieves stole the paintings. They were subsequently found.\n",
        "\n",
        "\n",
        "Answering this questing involves finding the **antecedent** of the pronoun they, either thieves or paintings. \n",
        "\n",
        "Computational techniques for tackling this problem include:\n",
        "\n",
        "* **anaphora resolution** -- indentifying what a pronoun or noun phrase refers to.\n",
        "\n",
        "* **sementic role labeling** -- identifying how noun phrase relates to the verb (as agent, patient, instrument, and so on)."
      ],
      "metadata": {
        "id": "24-lxI-N8yXn"
      }
    },
    {
      "cell_type": "markdown",
      "source": [
        "**Generating Language Output**"
      ],
      "metadata": {
        "id": "IdcdGG9BAdpn"
      }
    },
    {
      "cell_type": "markdown",
      "source": [
        "solve problems  --> generating language output\n",
        "\n",
        "If we can automatically **solve such problems** of language understanding, we will be able to move on to tasks that involve **generating languaege output**, such as **question answering** and **machine translation.** In the first case, a machine should be able to answer a user's questions relating to collection of texts:\n",
        "\n",
        "a. Text: ...The thieves stole the paintings. They were subsequently sold. ...\n",
        "\n",
        "b. Human: Who or what was sold?\n",
        "\n",
        "C. Machine: The paintings."
      ],
      "metadata": {
        "id": "fOb0cLj5AgYf"
      }
    },
    {
      "cell_type": "markdown",
      "source": [
        "**Machine Translation**"
      ],
      "metadata": {
        "id": "qTmFWlU-Druo"
      }
    },
    {
      "cell_type": "markdown",
      "source": [
        "Machine translation(MT): Since The Cold War,MT provide high-quality, idiomatic translation between any pair of languages."
      ],
      "metadata": {
        "id": "RfEN0ubDEGuH"
      }
    },
    {
      "cell_type": "markdown",
      "source": [
        "Pig or John, who was happy?\n",
        "\n",
        "\n",
        "0. The pig that John found looked happy\n",
        "\n",
        "1. Das Schwein, das John fand, schaute glücklich\n",
        "\n",
        "2. The pig, which found john, looked happy"
      ],
      "metadata": {
        "id": "PMjwoKJ4IQPx"
      }
    },
    {
      "cell_type": "markdown",
      "source": [
        "Machine translation is difficult because a given word could have **several possible translations** (depending on its meaning), and because word order must be changed in keeping with the grammatical structure of the target language. \n",
        "\n",
        "Today, these **difficulties are being faced** by **collecting massive** quantities of **parallel texts**, this process called **text alignment.**"
      ],
      "metadata": {
        "id": "73aynd_SIOWK"
      }
    },
    {
      "cell_type": "markdown",
      "source": [
        "**Spoken Dialogue Systems**"
      ],
      "metadata": {
        "id": "yjCVljklKJ6n"
      }
    },
    {
      "cell_type": "markdown",
      "source": [
        "Turing Test: distinguish a respond to a user's text input whether human or not."
      ],
      "metadata": {
        "id": "MA8fKDEoMS2Y"
      }
    },
    {
      "cell_type": "markdown",
      "source": [
        "**The architecture of a simple dialogue system**. \n",
        "\n",
        "* Along the top of the diagram, moving from left to right, is a \"pipeline\" of some language understanding **components.** These map from speech input via syntactic parssing to some kind of meaning representation. \n",
        "\n",
        "* Along the middle, moving from right to left, is the reverse pipeline of components for converting concepts to speech. These components make up the dynamic aspects of the system.\n",
        "\n",
        "* At the bottom of the diagram are some representative bodies of static information: the repositories of language-related data that the processing components draw on to do their work."
      ],
      "metadata": {
        "id": "ojAT1_NxRnKp"
      }
    },
    {
      "cell_type": "markdown",
      "source": [
        "![Simple pipeline architecture.jpg](data:image/jpeg;base64,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)"
      ],
      "metadata": {
        "id": "zCz-bDhBP6Dw"
      }
    },
    {
      "cell_type": "markdown",
      "source": [
        "**Figure**: Simple pipeline architecture for a spoken dialogue system: Spoken input (top left) is analyzed, words are recognized, sentences are parsed and interpreted in context, application-specific actions take place (top right); a response is planed, realized as a syntactic structure, then to suitably inflected words, and finally to spoken output; different types of linguistic knowledge inform each stage of the process."
      ],
      "metadata": {
        "id": "NVv_g6VGP9Oo"
      }
    },
    {
      "cell_type": "markdown",
      "source": [
        "**Textual Entailment**"
      ],
      "metadata": {
        "id": "VF_PC8LUS5B5"
      }
    },
    {
      "cell_type": "markdown",
      "source": [
        "Language understanding called Recognizing Textual Entailemnt (RTE). The RTE challenges provide data that allow competitors to develop their systems, but not enough data for \"brute force\" machine learning teachniques\n",
        "\n",
        "\n"
      ],
      "metadata": {
        "id": "vgARcQw0UxOR"
      }
    },
    {
      "cell_type": "markdown",
      "source": [
        "a. Text: David Golinkin is the editor or author of 18 books, and over 150 responsa, articles, sermons and books\n",
        "\n",
        "b. Hypothesis: Golinkin has written 18 books\n",
        "\n",
        "In order to determine whether the hypothesis is supported by the text, the system needs the following backgroud knowledge: (i) if someone is an author of a book, then he/she has written that book; (ii) if someone is an editor of a book, then he/she has not wrtten (all of) that book; (iii) if someone is editor or author of 18 books, then one cannot conclude that he/she is author of 18 books."
      ],
      "metadata": {
        "id": "v8cg1k_-VMIB"
      }
    },
    {
      "cell_type": "markdown",
      "source": [
        "wiki: a directional relation between text fragments. The relation holds whenever the truth of one text fragment follows from another text\n",
        "\n",
        "Me: broke text into pieces and use other resource to support the hypothesis of each text"
      ],
      "metadata": {
        "id": "iFnXf1M5bLb5"
      }
    },
    {
      "cell_type": "markdown",
      "source": [
        "**Limitations of NLP**"
      ],
      "metadata": {
        "id": "cLa0YkxaWLwZ"
      }
    },
    {
      "cell_type": "markdown",
      "source": [
        "NLP still **cannot** perform **common-sense reasoning** or draw on world knowledge in a general and robust manner.\n",
        "\n",
        "NLP research has been to make progress on the difficult task of building technologies that \"**understand language**\" using superficial yet powerful techniques."
      ],
      "metadata": {
        "id": "6IXsEsXHXlWJ"
      }
    },
    {
      "cell_type": "markdown",
      "source": [
        "# <center><b>Chapter 2: Accessing Text Corpora and Lexical Resources</b></center>"
      ],
      "metadata": {
        "id": "0kU2n_h3aZZg"
      }
    },
    {
      "cell_type": "markdown",
      "source": [
        "Practical work in Natural Language Processing typically uses large **bodies of linguistic data**, or **corpora.**\n",
        "\n",
        "\n",
        "\n",
        "\n",
        "il corpo, el cuerpo, der Körper, het lichaam (proto-West Germanic), en kropp"
      ],
      "metadata": {
        "id": "kzsz97ymLg-w"
      }
    },
    {
      "cell_type": "markdown",
      "source": [
        "The goal of this chapter is to answer the following questions:\n",
        "\n",
        "1. **What** are some useful text **corpora** and **lexical resources**, and how can we **access** them with Python?\n",
        "\n",
        "2. Which **Python constructs** are most helpful for his work?\n",
        "\n",
        "3. How do we **avoid repreating** ourselves when writing Python code?"
      ],
      "metadata": {
        "id": "jkxSq1yNNkkh"
      }
    },
    {
      "cell_type": "markdown",
      "source": [
        "## **2.1 Accessing Text Corpera**"
      ],
      "metadata": {
        "id": "icyzeCeZPRRx"
      }
    },
    {
      "cell_type": "markdown",
      "source": [
        "**Gutenberg Corpus**"
      ],
      "metadata": {
        "id": "GBP3fHI8PW8J"
      }
    },
    {
      "cell_type": "markdown",
      "source": [
        "a small selection of texts from the Project Gutenberg"
      ],
      "metadata": {
        "id": "F6G95U7zPeIx"
      }
    },
    {
      "cell_type": "code",
      "source": [
        "import nltk\n",
        "nltk.download('gutenberg')\n",
        "nltk.download('punkt')"
      ],
      "metadata": {
        "colab": {
          "base_uri": "https://localhost:8080/"
        },
        "id": "GPph6RpXcfqy",
        "outputId": "7af3b93f-81ef-4770-9be3-97635f119616"
      },
      "execution_count": 141,
      "outputs": [
        {
          "output_type": "stream",
          "name": "stderr",
          "text": [
            "[nltk_data] Downloading package gutenberg to /root/nltk_data...\n",
            "[nltk_data]   Package gutenberg is already up-to-date!\n",
            "[nltk_data] Downloading package punkt to /root/nltk_data...\n",
            "[nltk_data]   Package punkt is already up-to-date!\n"
          ]
        },
        {
          "output_type": "execute_result",
          "data": {
            "text/plain": [
              "True"
            ]
          },
          "metadata": {},
          "execution_count": 141
        }
      ]
    },
    {
      "cell_type": "code",
      "source": [
        "from nltk.corpus import gutenberg"
      ],
      "metadata": {
        "id": "0ntx0kpIPnLz"
      },
      "execution_count": 2,
      "outputs": []
    },
    {
      "cell_type": "code",
      "source": [
        "gutenberg.fileids()"
      ],
      "metadata": {
        "colab": {
          "base_uri": "https://localhost:8080/"
        },
        "id": "k8TFVovMRQ2Z",
        "outputId": "5800881f-f0cc-4270-ad68-f4e01ff97932"
      },
      "execution_count": 3,
      "outputs": [
        {
          "output_type": "execute_result",
          "data": {
            "text/plain": [
              "['austen-emma.txt',\n",
              " 'austen-persuasion.txt',\n",
              " 'austen-sense.txt',\n",
              " 'bible-kjv.txt',\n",
              " 'blake-poems.txt',\n",
              " 'bryant-stories.txt',\n",
              " 'burgess-busterbrown.txt',\n",
              " 'carroll-alice.txt',\n",
              " 'chesterton-ball.txt',\n",
              " 'chesterton-brown.txt',\n",
              " 'chesterton-thursday.txt',\n",
              " 'edgeworth-parents.txt',\n",
              " 'melville-moby_dick.txt',\n",
              " 'milton-paradise.txt',\n",
              " 'shakespeare-caesar.txt',\n",
              " 'shakespeare-hamlet.txt',\n",
              " 'shakespeare-macbeth.txt',\n",
              " 'whitman-leaves.txt']"
            ]
          },
          "metadata": {},
          "execution_count": 3
        }
      ]
    },
    {
      "cell_type": "code",
      "source": [
        "emma = gutenberg.words('austen-emma.txt')"
      ],
      "metadata": {
        "id": "f9SsSnVVPvrp"
      },
      "execution_count": 4,
      "outputs": []
    },
    {
      "cell_type": "code",
      "source": [
        "len(emma)"
      ],
      "metadata": {
        "colab": {
          "base_uri": "https://localhost:8080/"
        },
        "id": "Z_IRt2xbSUtr",
        "outputId": "9145a203-d8a7-4b7c-8b3c-fa6a2f1cab99"
      },
      "execution_count": 5,
      "outputs": [
        {
          "output_type": "execute_result",
          "data": {
            "text/plain": [
              "192427"
            ]
          },
          "metadata": {},
          "execution_count": 5
        }
      ]
    },
    {
      "cell_type": "code",
      "source": [
        "emma = nltk.Text(nltk.corpus.gutenberg.words('austen-emma.txt'))\n",
        "emma.concordance(\"surprize\")"
      ],
      "metadata": {
        "colab": {
          "base_uri": "https://localhost:8080/"
        },
        "id": "XpN-LBFXUF4z",
        "outputId": "c160f1ed-e18d-4969-b661-348ec0c62cfd"
      },
      "execution_count": 6,
      "outputs": [
        {
          "output_type": "stream",
          "name": "stdout",
          "text": [
            "Displaying 25 of 37 matches:\n",
            "er father , was sometimes taken by surprize at his being still able to pity ` \n",
            "hem do the other any good .\" \" You surprize me ! Emma must do Harriet good : a\n",
            "Knightley actually looked red with surprize and displeasure , as he stood up ,\n",
            "r . Elton , and found to his great surprize , that Mr . Elton was actually on \n",
            "d aid .\" Emma saw Mrs . Weston ' s surprize , and felt that it must be great ,\n",
            "father was quite taken up with the surprize of so sudden a journey , and his f\n",
            "y , in all the favouring warmth of surprize and conjecture . She was , moreove\n",
            "he appeared , to have her share of surprize , introduction , and pleasure . Th\n",
            "ir plans ; and it was an agreeable surprize to her , therefore , to perceive t\n",
            "talking aunt had taken me quite by surprize , it must have been the death of m\n",
            "f all the dialogue which ensued of surprize , and inquiry , and congratulation\n",
            " the present . They might chuse to surprize her .\" Mrs . Cole had many to agre\n",
            "the mode of it , the mystery , the surprize , is more like a young woman ' s s\n",
            " to her song took her agreeably by surprize -- a second , slightly but correct\n",
            "\" \" Oh ! no -- there is nothing to surprize one at all .-- A pretty fortune ; \n",
            "t to be considered . Emma ' s only surprize was that Jane Fairfax should accep\n",
            "of your admiration may take you by surprize some day or other .\" Mr . Knightle\n",
            "ation for her will ever take me by surprize .-- I never had a thought of her i\n",
            " expected by the best judges , for surprize -- but there was great joy . Mr . \n",
            " sound of at first , without great surprize . \" So unreasonably early !\" she w\n",
            "d Frank Churchill , with a look of surprize and displeasure .-- \" That is easy\n",
            "; and Emma could imagine with what surprize and mortification she must be retu\n",
            "tled that Jane should go . Quite a surprize to me ! I had not the least idea !\n",
            " . It is impossible to express our surprize . He came to speak to his father o\n",
            "g engaged !\" Emma even jumped with surprize ;-- and , horror - struck , exclai\n"
          ]
        }
      ]
    },
    {
      "cell_type": "code",
      "source": [
        "for fileid in gutenberg.fileids():\n",
        "  print(fileid)"
      ],
      "metadata": {
        "colab": {
          "base_uri": "https://localhost:8080/"
        },
        "id": "VG50t55YVhPz",
        "outputId": "9ebbf47c-c70c-4a55-913f-15420d8420c1"
      },
      "execution_count": 7,
      "outputs": [
        {
          "output_type": "stream",
          "name": "stdout",
          "text": [
            "austen-emma.txt\n",
            "austen-persuasion.txt\n",
            "austen-sense.txt\n",
            "bible-kjv.txt\n",
            "blake-poems.txt\n",
            "bryant-stories.txt\n",
            "burgess-busterbrown.txt\n",
            "carroll-alice.txt\n",
            "chesterton-ball.txt\n",
            "chesterton-brown.txt\n",
            "chesterton-thursday.txt\n",
            "edgeworth-parents.txt\n",
            "melville-moby_dick.txt\n",
            "milton-paradise.txt\n",
            "shakespeare-caesar.txt\n",
            "shakespeare-hamlet.txt\n",
            "shakespeare-macbeth.txt\n",
            "whitman-leaves.txt\n"
          ]
        }
      ]
    },
    {
      "cell_type": "code",
      "source": [
        "for fileid in gutenberg.fileids():\n",
        "  num_chars = len(gutenberg.raw(fileid))\n",
        "  num_words = len(gutenberg.words(fileid))\n",
        "  num_sents = len(gutenberg.sents(fileid))\n",
        "  num_vocab = len(set([w.lower() for w in gutenberg.words(fileid)]))\n",
        "  # average word length, average sentence length, the number of tiems each vocabulary item appears\n",
        "  print(int(num_chars/num_words), int(num_words/num_sents), int(num_words/num_vocab), fileid)"
      ],
      "metadata": {
        "colab": {
          "base_uri": "https://localhost:8080/"
        },
        "id": "V9kLUKUlShuR",
        "outputId": "ca9b5467-4c04-4afd-dada-a3ca00e2eecf"
      },
      "execution_count": 8,
      "outputs": [
        {
          "output_type": "stream",
          "name": "stdout",
          "text": [
            "4 24 26 austen-emma.txt\n",
            "4 26 16 austen-persuasion.txt\n",
            "4 28 22 austen-sense.txt\n",
            "4 33 79 bible-kjv.txt\n",
            "4 19 5 blake-poems.txt\n",
            "4 19 14 bryant-stories.txt\n",
            "4 17 12 burgess-busterbrown.txt\n",
            "4 20 12 carroll-alice.txt\n",
            "4 20 11 chesterton-ball.txt\n",
            "4 22 11 chesterton-brown.txt\n",
            "4 18 10 chesterton-thursday.txt\n",
            "4 20 24 edgeworth-parents.txt\n",
            "4 25 15 melville-moby_dick.txt\n",
            "4 52 10 milton-paradise.txt\n",
            "4 11 8 shakespeare-caesar.txt\n",
            "4 12 7 shakespeare-hamlet.txt\n",
            "4 12 6 shakespeare-macbeth.txt\n",
            "4 36 12 whitman-leaves.txt\n"
          ]
        }
      ]
    },
    {
      "cell_type": "code",
      "source": [
        "macbeth_sentences = gutenberg.sents('shakespeare-macbeth.txt')\n",
        "macbeth_sentences"
      ],
      "metadata": {
        "colab": {
          "base_uri": "https://localhost:8080/"
        },
        "id": "NELJFUziZM2y",
        "outputId": "0125c4ba-cc59-4293-aa9f-81531c22d5e5"
      },
      "execution_count": 9,
      "outputs": [
        {
          "output_type": "execute_result",
          "data": {
            "text/plain": [
              "[['[', 'The', 'Tragedie', 'of', 'Macbeth', 'by', 'William', 'Shakespeare', '1603', ']'], ['Actus', 'Primus', '.'], ...]"
            ]
          },
          "metadata": {},
          "execution_count": 9
        }
      ]
    },
    {
      "cell_type": "markdown",
      "source": [
        "**Web and Chat Text**"
      ],
      "metadata": {
        "id": "NfBCupd1gWnZ"
      }
    },
    {
      "cell_type": "markdown",
      "source": [
        "less formal language"
      ],
      "metadata": {
        "id": "CDBAh6AMgjbC"
      }
    },
    {
      "cell_type": "code",
      "source": [
        "nltk.download('webtext')"
      ],
      "metadata": {
        "colab": {
          "base_uri": "https://localhost:8080/"
        },
        "id": "7Ft7gsW2X5x8",
        "outputId": "b85d9120-dab0-4286-c96f-3d80d5559112"
      },
      "execution_count": 22,
      "outputs": [
        {
          "output_type": "stream",
          "name": "stderr",
          "text": [
            "[nltk_data] Downloading package webtext to /root/nltk_data...\n",
            "[nltk_data]   Package webtext is already up-to-date!\n"
          ]
        },
        {
          "output_type": "execute_result",
          "data": {
            "text/plain": [
              "True"
            ]
          },
          "metadata": {},
          "execution_count": 22
        }
      ]
    },
    {
      "cell_type": "code",
      "source": [
        "from nltk.corpus import webtext"
      ],
      "metadata": {
        "id": "IQEVMnOWgtzb"
      },
      "execution_count": 23,
      "outputs": []
    },
    {
      "cell_type": "code",
      "source": [
        "for fileid in webtext.fileids():\n",
        "  print(fileid,'---',webtext.raw(fileid)[:65], '...')"
      ],
      "metadata": {
        "colab": {
          "base_uri": "https://localhost:8080/"
        },
        "id": "S-iViGjRgyFS",
        "outputId": "d70b29a9-44de-4972-e585-3c4f5da3658c"
      },
      "execution_count": 24,
      "outputs": [
        {
          "output_type": "stream",
          "name": "stdout",
          "text": [
            "firefox.txt --- Cookie Manager: \"Don't allow sites that set removed cookies to se ...\n",
            "grail.txt --- SCENE 1: [wind] [clop clop clop] \n",
            "KING ARTHUR: Whoa there!  [clop ...\n",
            "overheard.txt --- White guy: So, do you have any plans for this evening?\n",
            "Asian girl ...\n",
            "pirates.txt --- PIRATES OF THE CARRIBEAN: DEAD MAN'S CHEST, by Ted Elliott & Terr ...\n",
            "singles.txt --- 25 SEXY MALE, seeks attrac older single lady, for discreet encoun ...\n",
            "wine.txt --- Lovely delicate, fragrant Rhone wine. Polished leather and strawb ...\n"
          ]
        }
      ]
    },
    {
      "cell_type": "markdown",
      "source": [
        "There is also a corpus of instant messaging chat sessions"
      ],
      "metadata": {
        "id": "MzNgie-lhcc7"
      }
    },
    {
      "cell_type": "code",
      "source": [
        "nltk.download('nps_chat')"
      ],
      "metadata": {
        "colab": {
          "base_uri": "https://localhost:8080/"
        },
        "id": "77MYe73_YE9P",
        "outputId": "4d102ad7-b433-45fd-82b5-d534d99d4201"
      },
      "execution_count": 25,
      "outputs": [
        {
          "output_type": "stream",
          "name": "stderr",
          "text": [
            "[nltk_data] Downloading package nps_chat to /root/nltk_data...\n",
            "[nltk_data]   Package nps_chat is already up-to-date!\n"
          ]
        },
        {
          "output_type": "execute_result",
          "data": {
            "text/plain": [
              "True"
            ]
          },
          "metadata": {},
          "execution_count": 25
        }
      ]
    },
    {
      "cell_type": "code",
      "source": [
        "from nltk.corpus import nps_chat"
      ],
      "metadata": {
        "id": "4aUHuz6Ohuln"
      },
      "execution_count": 26,
      "outputs": []
    },
    {
      "cell_type": "code",
      "source": [
        "chatroom = nps_chat.posts('10-19-20s_706posts.xml')\n",
        "chatroom[123]"
      ],
      "metadata": {
        "colab": {
          "base_uri": "https://localhost:8080/"
        },
        "id": "ZbrwlieJh8N7",
        "outputId": "b7b7d07f-6b7d-44ef-b315-8fb4ea748707"
      },
      "execution_count": 27,
      "outputs": [
        {
          "output_type": "execute_result",
          "data": {
            "text/plain": [
              "['i',\n",
              " 'do',\n",
              " \"n't\",\n",
              " 'want',\n",
              " 'hot',\n",
              " 'pics',\n",
              " 'of',\n",
              " 'a',\n",
              " 'female',\n",
              " ',',\n",
              " 'I',\n",
              " 'can',\n",
              " 'look',\n",
              " 'in',\n",
              " 'a',\n",
              " 'mirror',\n",
              " '.']"
            ]
          },
          "metadata": {},
          "execution_count": 27
        }
      ]
    },
    {
      "cell_type": "code",
      "source": [
        "chatroom[124]"
      ],
      "metadata": {
        "colab": {
          "base_uri": "https://localhost:8080/"
        },
        "id": "b0mZlxI6iWtm",
        "outputId": "830c2269-8da2-47a1-e673-7301c53e4c4c"
      },
      "execution_count": 28,
      "outputs": [
        {
          "output_type": "execute_result",
          "data": {
            "text/plain": [
              "['hi', 'U64']"
            ]
          },
          "metadata": {},
          "execution_count": 28
        }
      ]
    },
    {
      "cell_type": "markdown",
      "source": [
        "**Brown Corpus**"
      ],
      "metadata": {
        "id": "3JSJQHW3ivsy"
      }
    },
    {
      "cell_type": "markdown",
      "source": [
        "This corpus contains text from 500 soures, and the sources have been categorized by genre, such as news, editorial\n",
        "\n",
        "The Brown Corpus is a convenient resource for **studying systematic differences between genres,** a kind of linguistic inquire known as **stylistics.** "
      ],
      "metadata": {
        "id": "gq0JybaFi9cM"
      }
    },
    {
      "cell_type": "markdown",
      "source": [
        "<table>\n",
        "  <tr>\n",
        "    <th colspan=\"4\"><h2>Example document for each section of the Brown Corpus</h2></th>\n",
        "  </tr>\n",
        "  <tr>\n",
        "    <th>ID</th>\n",
        "    <th>File</th>\n",
        "    <th>Genre</th>\n",
        "    <th>Description</th>\n",
        "    <th\n",
        "  </tr>\n",
        "  <tr>\n",
        "    <td>A16</td>\n",
        "    <td>ca16</td>\n",
        "    <td>news</td>\n",
        "    <td>Chicago Tribune: Society Reportage</td>\n",
        "  </tr>\n",
        "  <tr>\n",
        "    <td>B02</td>\n",
        "    <td>cb02</td>\n",
        "    <td>editorial</td>\n",
        "    <td>Christian Science Monitor: Editorials</td>\n",
        "  </tr>\n",
        "  <tr>\n",
        "    <td>C17</td>\n",
        "    <td>cc17</td>\n",
        "    <td>review</td>\n",
        "    <td>Time Magazine: Reviews</td>\n",
        "  </tr>\n",
        "  <tr>\n",
        "    <td>D12</td>\n",
        "    <td>cd12</td>\n",
        "    <td>religion</td>\n",
        "    <td>Underwood: Probing the Ethics of Realtors</td>\n",
        "  </tr>\n",
        "  <tr>\n",
        "    <td>E36</td>\n",
        "    <td>ce36</td>\n",
        "    <td>hobbies</td>\n",
        "    <td>Norling: REnting a Car in Europe</td>\n",
        "  </tr>\n",
        "  <tr>\n",
        "    <td>F25</td>\n",
        "    <td>cf25</td>\n",
        "    <td>lore</td>\n",
        "    <td>Boroff: Jewish Teenage Culture</td>\n",
        "  </tr>\n",
        "  <tr>\n",
        "    <td>G22</td>\n",
        "    <td>cg22</td>\n",
        "    <td>belles_letteres</td>\n",
        "    <td>Reiner: Coping with Runaway Technology</td>\n",
        "  </tr>\n",
        "  <tr>\n",
        "    <td>H15</td>\n",
        "    <td>ch15</td>\n",
        "    <td>government</td>\n",
        "    <td>US Office of Civil and Defence Mobilization: The Family Fallout Shelter</td>\n",
        "  </tr>\n",
        "  <tr>\n",
        "    <td>J17</td>\n",
        "    <td>cj19</td>\n",
        "    <td>learned</td>\n",
        "    <td>Mosteller: Probability with Statistical Applications</td>\n",
        "  </tr>\n",
        "  <tr>\n",
        "    <td>K04</td>\n",
        "    <td>ck04</td>\n",
        "    <td>fiction</td>\n",
        "    <td>W.E.B. Du bois: Worlds of Color</td>\n",
        "  </tr>\n",
        "  <tr>\n",
        "    <td>L13</td>\n",
        "    <td>cl13</td>\n",
        "    <td>mystery</td>\n",
        "    <td>Hitchens: Footsteps in the Night</td>\n",
        "  </tr>\n",
        "  <tr>\n",
        "    <td>M01</td>\n",
        "    <td>cm01</td>\n",
        "    <td>science_fiction</td>\n",
        "    <td>Heinlein: Stranger in a Strange Land</td>\n",
        "  </tr>\n",
        "  <tr>\n",
        "    <td>N14</td>\n",
        "    <td>cn15</td>\n",
        "    <td>adventure</td>\n",
        "    <td>Field: Rattlesnake Ridge</td>\n",
        "  </tr>\n",
        "  <tr>\n",
        "    <td>P12</td>\n",
        "    <td>cp12</td>\n",
        "    <td>romance</td>\n",
        "    <td>Callaghan: A Passion in Rome</td>\n",
        "  </tr>\n",
        "  <tr>\n",
        "    <td>R06</td>\n",
        "    <td>cr06</td>\n",
        "    <td>humor</td>\n",
        "    <td>Thurber: The Future, If Any, of Comedy</td>\n",
        "  </tr>\n",
        "</table>"
      ],
      "metadata": {
        "id": "EIg5PoNtjKk0"
      }
    },
    {
      "cell_type": "code",
      "source": [
        "nltk.download('brown')"
      ],
      "metadata": {
        "colab": {
          "base_uri": "https://localhost:8080/"
        },
        "id": "knLGTzYHYLUr",
        "outputId": "293812a7-611e-4c3f-83a6-e600f41b395d"
      },
      "execution_count": 32,
      "outputs": [
        {
          "output_type": "stream",
          "name": "stderr",
          "text": [
            "[nltk_data] Downloading package brown to /root/nltk_data...\n",
            "[nltk_data]   Unzipping corpora/brown.zip.\n"
          ]
        },
        {
          "output_type": "execute_result",
          "data": {
            "text/plain": [
              "True"
            ]
          },
          "metadata": {},
          "execution_count": 32
        }
      ]
    },
    {
      "cell_type": "code",
      "source": [
        "from nltk.corpus import brown"
      ],
      "metadata": {
        "id": "R7RPFdlRjJzL"
      },
      "execution_count": 33,
      "outputs": []
    },
    {
      "cell_type": "code",
      "source": [
        "brown.categories()"
      ],
      "metadata": {
        "colab": {
          "base_uri": "https://localhost:8080/"
        },
        "id": "d-zOHGEtlurt",
        "outputId": "4c86a79a-8159-4924-ac1a-6c28c9ad10b2"
      },
      "execution_count": 34,
      "outputs": [
        {
          "output_type": "execute_result",
          "data": {
            "text/plain": [
              "['adventure',\n",
              " 'belles_lettres',\n",
              " 'editorial',\n",
              " 'fiction',\n",
              " 'government',\n",
              " 'hobbies',\n",
              " 'humor',\n",
              " 'learned',\n",
              " 'lore',\n",
              " 'mystery',\n",
              " 'news',\n",
              " 'religion',\n",
              " 'reviews',\n",
              " 'romance',\n",
              " 'science_fiction']"
            ]
          },
          "metadata": {},
          "execution_count": 34
        }
      ]
    },
    {
      "cell_type": "code",
      "source": [
        "news_text = brown.words(categories='news')\n",
        "fdist = nltk.FreqDist([w.lower() for w in news_text])\n",
        "models = ['can', 'could', 'may', 'might', 'shall', 'should', 'must', 'will', \"ought\"]\n",
        "for m in models:\n",
        "  print(m + ':', fdist[m])"
      ],
      "metadata": {
        "colab": {
          "base_uri": "https://localhost:8080/"
        },
        "id": "hO2Jco4NmSYr",
        "outputId": "c1a79f6b-f1f0-47c9-8d25-3c26ac58cbdb"
      },
      "execution_count": 35,
      "outputs": [
        {
          "output_type": "stream",
          "name": "stdout",
          "text": [
            "can: 94\n",
            "could: 87\n",
            "may: 93\n",
            "might: 38\n",
            "shall: 5\n",
            "should: 61\n",
            "must: 53\n",
            "will: 389\n",
            "ought: 1\n"
          ]
        }
      ]
    },
    {
      "cell_type": "code",
      "source": [
        "gov_text = brown.words(categories='government')\n",
        "fdist = nltk.FreqDist([w.lower() for w in gov_text])\n",
        "models = ['who', 'what', 'where', 'When', 'why', 'how']\n",
        "for m in models:\n",
        "  print(m + ':', fdist[m])"
      ],
      "metadata": {
        "colab": {
          "base_uri": "https://localhost:8080/"
        },
        "id": "KmpgkOIwngB7",
        "outputId": "025b9cc6-6052-415e-8424-2683e1b12bde"
      },
      "execution_count": 36,
      "outputs": [
        {
          "output_type": "stream",
          "name": "stdout",
          "text": [
            "who: 77\n",
            "what: 58\n",
            "where: 48\n",
            "When: 0\n",
            "why: 6\n",
            "how: 27\n"
          ]
        }
      ]
    },
    {
      "cell_type": "code",
      "source": [
        "cfd = nltk.ConditionalFreqDist(\n",
        "    (genre, word)\n",
        "    for genre in brown.categories()\n",
        "    for word in brown.words(categories=genre))\n",
        "\n",
        "genres = ['news', 'religion', 'hobbies', 'science_fiction', 'romance', 'humor']\n",
        "models = ['can', 'could', 'may', 'might', 'shall', 'should', 'must', 'will', \"ought\"]\n",
        "cfd.tabulate(conditions=genres, samples=models)"
      ],
      "metadata": {
        "colab": {
          "base_uri": "https://localhost:8080/"
        },
        "id": "Nwpu1uECoSOL",
        "outputId": "3898bf4e-b002-4c81-8973-7fdaef789b1c"
      },
      "execution_count": 37,
      "outputs": [
        {
          "output_type": "stream",
          "name": "stdout",
          "text": [
            "                   can  could    may  might  shall should   must   will  ought \n",
            "           news     93     86     66     38      5     59     50    389      1 \n",
            "       religion     82     59     78     12     21     45     54     71      4 \n",
            "        hobbies    268     58    131     22      5     73     83    264      0 \n",
            "science_fiction     16     49      4     12      3      3      8     16      1 \n",
            "        romance     74    193     11     51      3     32     45     43     14 \n",
            "          humor     16     30      8      8      2      7      9     13      2 \n"
          ]
        }
      ]
    },
    {
      "cell_type": "markdown",
      "source": [
        "**Reuters Corpus**"
      ],
      "metadata": {
        "id": "-AzL0wkGpcdN"
      }
    },
    {
      "cell_type": "markdown",
      "source": [
        "Contains **10,788 news documents** totaling 1.3 million words. The documents have been **classified into 90 topics**, and **grouped into two sets**, called \"training\" and \"test\"\n",
        "\n",
        "The Reuters Corpus categories **overlap with each other**, because a news story often covers multiple topics"
      ],
      "metadata": {
        "id": "gm67Usw7pe20"
      }
    },
    {
      "cell_type": "code",
      "source": [
        "nltk.download('reuters')"
      ],
      "metadata": {
        "colab": {
          "base_uri": "https://localhost:8080/"
        },
        "id": "FtpYsLSVYQN7",
        "outputId": "208ebacb-b0c7-4115-d7a2-ecfb2419987e"
      },
      "execution_count": 41,
      "outputs": [
        {
          "output_type": "stream",
          "name": "stderr",
          "text": [
            "[nltk_data] Downloading package reuters to /root/nltk_data...\n",
            "[nltk_data]   Package reuters is already up-to-date!\n"
          ]
        },
        {
          "output_type": "execute_result",
          "data": {
            "text/plain": [
              "True"
            ]
          },
          "metadata": {},
          "execution_count": 41
        }
      ]
    },
    {
      "cell_type": "code",
      "source": [
        "from nltk.corpus import reuters"
      ],
      "metadata": {
        "id": "sotYmnh_pGsd"
      },
      "execution_count": 42,
      "outputs": []
    },
    {
      "cell_type": "code",
      "source": [
        "reuters.fileids()[0:10] # training and test set"
      ],
      "metadata": {
        "id": "nSIPVJ4gqFOb",
        "colab": {
          "base_uri": "https://localhost:8080/"
        },
        "outputId": "6e97d204-d5ca-437c-c394-16a1576d0888"
      },
      "execution_count": 140,
      "outputs": [
        {
          "output_type": "execute_result",
          "data": {
            "text/plain": [
              "['test/14826',\n",
              " 'test/14828',\n",
              " 'test/14829',\n",
              " 'test/14832',\n",
              " 'test/14833',\n",
              " 'test/14839',\n",
              " 'test/14840',\n",
              " 'test/14841',\n",
              " 'test/14842',\n",
              " 'test/14843']"
            ]
          },
          "metadata": {},
          "execution_count": 140
        }
      ]
    },
    {
      "cell_type": "code",
      "source": [
        "reuters.categories()[:10]"
      ],
      "metadata": {
        "colab": {
          "base_uri": "https://localhost:8080/"
        },
        "id": "o7Ins2qCqY7T",
        "outputId": "34eb1a29-7eab-4a83-d853-1952c909126f"
      },
      "execution_count": 44,
      "outputs": [
        {
          "output_type": "execute_result",
          "data": {
            "text/plain": [
              "['acq',\n",
              " 'alum',\n",
              " 'barley',\n",
              " 'bop',\n",
              " 'carcass',\n",
              " 'castor-oil',\n",
              " 'cocoa',\n",
              " 'coconut',\n",
              " 'coconut-oil',\n",
              " 'coffee']"
            ]
          },
          "metadata": {},
          "execution_count": 44
        }
      ]
    },
    {
      "cell_type": "code",
      "source": [
        "reuters.categories('training/9865')"
      ],
      "metadata": {
        "colab": {
          "base_uri": "https://localhost:8080/"
        },
        "id": "0qhU138fqejz",
        "outputId": "598e1797-2e9e-4d0b-f8b4-907f4fcf6cee"
      },
      "execution_count": 45,
      "outputs": [
        {
          "output_type": "execute_result",
          "data": {
            "text/plain": [
              "['barley', 'corn', 'grain', 'wheat']"
            ]
          },
          "metadata": {},
          "execution_count": 45
        }
      ]
    },
    {
      "cell_type": "code",
      "source": [
        "reuters.categories(['training/9865', 'training/9880'])"
      ],
      "metadata": {
        "colab": {
          "base_uri": "https://localhost:8080/"
        },
        "id": "-CBz0wdRq6fL",
        "outputId": "53f2c806-2afd-441c-9523-0262f32b5c1e"
      },
      "execution_count": 46,
      "outputs": [
        {
          "output_type": "execute_result",
          "data": {
            "text/plain": [
              "['barley', 'corn', 'grain', 'money-fx', 'wheat']"
            ]
          },
          "metadata": {},
          "execution_count": 46
        }
      ]
    },
    {
      "cell_type": "code",
      "source": [
        "reuters.fileids('rye') # which document this keyword appears"
      ],
      "metadata": {
        "colab": {
          "base_uri": "https://localhost:8080/"
        },
        "id": "_umJviCrrC4N",
        "outputId": "474e6149-51cc-4e63-c5a6-eb2b3f8b0e03"
      },
      "execution_count": 47,
      "outputs": [
        {
          "output_type": "execute_result",
          "data": {
            "text/plain": [
              "['test/19668', 'training/97']"
            ]
          },
          "metadata": {},
          "execution_count": 47
        }
      ]
    },
    {
      "cell_type": "code",
      "source": [
        "reuters.fileids(['oat', 'triticale', 'maize'])"
      ],
      "metadata": {
        "colab": {
          "base_uri": "https://localhost:8080/"
        },
        "id": "Cg3a2dmUrpp0",
        "outputId": "c4a4416c-7cc4-44a2-cebf-b37bd0997c6f"
      },
      "execution_count": 48,
      "outputs": [
        {
          "output_type": "execute_result",
          "data": {
            "text/plain": [
              "['test/15871',\n",
              " 'test/15875',\n",
              " 'test/15952',\n",
              " 'test/16071',\n",
              " 'test/19275',\n",
              " 'test/19668',\n",
              " 'training/13852',\n",
              " 'training/1405',\n",
              " 'training/197',\n",
              " 'training/417',\n",
              " 'training/5',\n",
              " 'training/855',\n",
              " 'training/8759',\n",
              " 'training/97']"
            ]
          },
          "metadata": {},
          "execution_count": 48
        }
      ]
    },
    {
      "cell_type": "code",
      "source": [
        "reuters.words('training/9865')[:14]"
      ],
      "metadata": {
        "colab": {
          "base_uri": "https://localhost:8080/"
        },
        "id": "kxbwvBe-sLET",
        "outputId": "1d18a007-aa5a-424d-a907-62063587a821"
      },
      "execution_count": 49,
      "outputs": [
        {
          "output_type": "execute_result",
          "data": {
            "text/plain": [
              "['FRENCH',\n",
              " 'FREE',\n",
              " 'MARKET',\n",
              " 'CEREAL',\n",
              " 'EXPORT',\n",
              " 'BIDS',\n",
              " 'DETAILED',\n",
              " 'French',\n",
              " 'operators',\n",
              " 'have',\n",
              " 'requested',\n",
              " 'licences',\n",
              " 'to',\n",
              " 'export']"
            ]
          },
          "metadata": {},
          "execution_count": 49
        }
      ]
    },
    {
      "cell_type": "code",
      "source": [
        "reuters.words(['training/9865', 'training/9880'])"
      ],
      "metadata": {
        "colab": {
          "base_uri": "https://localhost:8080/"
        },
        "id": "YlGtPiJbsRY0",
        "outputId": "88d4fccf-860f-41bd-eb77-57c804a8208e"
      },
      "execution_count": 50,
      "outputs": [
        {
          "output_type": "execute_result",
          "data": {
            "text/plain": [
              "['FRENCH', 'FREE', 'MARKET', 'CEREAL', 'EXPORT', ...]"
            ]
          },
          "metadata": {},
          "execution_count": 50
        }
      ]
    },
    {
      "cell_type": "code",
      "source": [
        "reuters.words(categories='barley')"
      ],
      "metadata": {
        "colab": {
          "base_uri": "https://localhost:8080/"
        },
        "id": "Pp8hRcg7sZjr",
        "outputId": "2def058f-bbcf-4b5b-d75c-c93ea6b48758"
      },
      "execution_count": 51,
      "outputs": [
        {
          "output_type": "execute_result",
          "data": {
            "text/plain": [
              "['FRENCH', 'FREE', 'MARKET', 'CEREAL', 'EXPORT', ...]"
            ]
          },
          "metadata": {},
          "execution_count": 51
        }
      ]
    },
    {
      "cell_type": "code",
      "source": [
        "reuters.words(categories=['barley', 'corn'])"
      ],
      "metadata": {
        "colab": {
          "base_uri": "https://localhost:8080/"
        },
        "id": "AAj-2ZzpsfST",
        "outputId": "d6bf65f2-4fe2-4b0c-e624-e1f0ef128333"
      },
      "execution_count": 52,
      "outputs": [
        {
          "output_type": "execute_result",
          "data": {
            "text/plain": [
              "['THAI', 'TRADE', 'DEFICIT', 'WIDENS', 'IN', 'FIRST', ...]"
            ]
          },
          "metadata": {},
          "execution_count": 52
        }
      ]
    },
    {
      "cell_type": "markdown",
      "source": [
        "**Inaugural Address Corpus**"
      ],
      "metadata": {
        "id": "ubZp2PT8srnd"
      }
    },
    {
      "cell_type": "markdown",
      "source": [
        "the corpus is **a collection of 55 texts**, one for each presidential address."
      ],
      "metadata": {
        "id": "rVDon3cws0J1"
      }
    },
    {
      "cell_type": "code",
      "source": [
        "nltk.download('inaugural')"
      ],
      "metadata": {
        "colab": {
          "base_uri": "https://localhost:8080/"
        },
        "id": "_KdLfp3sYU1z",
        "outputId": "62b9fdfb-d23b-4610-ca07-d7b016577108"
      },
      "execution_count": 55,
      "outputs": [
        {
          "output_type": "stream",
          "name": "stderr",
          "text": [
            "[nltk_data] Downloading package inaugural to /root/nltk_data...\n",
            "[nltk_data]   Unzipping corpora/inaugural.zip.\n"
          ]
        },
        {
          "output_type": "execute_result",
          "data": {
            "text/plain": [
              "True"
            ]
          },
          "metadata": {},
          "execution_count": 55
        }
      ]
    },
    {
      "cell_type": "code",
      "source": [
        "from nltk.corpus import inaugural"
      ],
      "metadata": {
        "id": "-AEwAVOBtCE7"
      },
      "execution_count": 56,
      "outputs": []
    },
    {
      "cell_type": "code",
      "source": [
        "inaugural.fileids()[:4]"
      ],
      "metadata": {
        "colab": {
          "base_uri": "https://localhost:8080/"
        },
        "id": "VUg7CiactF5j",
        "outputId": "0f868a0d-811f-416c-ef29-29f097fbaf26"
      },
      "execution_count": 57,
      "outputs": [
        {
          "output_type": "execute_result",
          "data": {
            "text/plain": [
              "['1789-Washington.txt',\n",
              " '1793-Washington.txt',\n",
              " '1797-Adams.txt',\n",
              " '1801-Jefferson.txt']"
            ]
          },
          "metadata": {},
          "execution_count": 57
        }
      ]
    },
    {
      "cell_type": "code",
      "source": [
        "year = [fileid[: 4] for fileid in inaugural.fileids()] # year of each text appears in its file name."
      ],
      "metadata": {
        "id": "Eu0Ju4MptKHb"
      },
      "execution_count": 58,
      "outputs": []
    },
    {
      "cell_type": "code",
      "source": [
        "import matplotlib.pyplot as plt\n",
        "\n",
        "plt.figure(figsize=(10, 7))\n",
        "\n",
        "cfd = nltk.ConditionalFreqDist(\n",
        "    (target, fileid[:4])\n",
        "    for fileid in inaugural.fileids()\n",
        "    for w in inaugural.words(fileid)\n",
        "    for target in ['america', 'citizen']\n",
        "    if w.lower().startswith(target))\n",
        "\n",
        "cfd.plot();"
      ],
      "metadata": {
        "colab": {
          "base_uri": "https://localhost:8080/",
          "height": 458
        },
        "id": "5zDoVXkgto7O",
        "outputId": "71f4e447-d63b-43e7-bea9-b2a70287e39b"
      },
      "execution_count": 59,
      "outputs": [
        {
          "output_type": "display_data",
          "data": {
            "text/plain": [
              "<Figure size 720x504 with 1 Axes>"
            ],
            "image/png": "[encoded data removed]"
          },
          "metadata": {
            "needs_background": "light"
          }
        }
      ]
    },
    {
      "cell_type": "code",
      "source": [
        "import matplotlib.pyplot as plt\n",
        "\n",
        "plt.figure(figsize=(10, 7))\n",
        "\n",
        "cfd = nltk.ConditionalFreqDist(\n",
        "    (target, fileid[:4])\n",
        "    for fileid in inaugural.fileids()\n",
        "    for w in inaugural.words(fileid)\n",
        "    for target in [\"economy\", \"welfare\", \"job\", \"health\", \"poverty\"]\n",
        "    if w.lower().startswith(target))\n",
        "\n",
        "cfd.plot();"
      ],
      "metadata": {
        "colab": {
          "base_uri": "https://localhost:8080/",
          "height": 458
        },
        "id": "MW2N0g6du2is",
        "outputId": "2a649b86-75d8-44a8-fff6-15ffc2580977"
      },
      "execution_count": 60,
      "outputs": [
        {
          "output_type": "display_data",
          "data": {
            "text/plain": [
              "<Figure size 720x504 with 1 Axes>"
            ],
            "image/png": "[encoded data removed]"
          },
          "metadata": {
            "needs_background": "light"
          }
        }
      ]
    },
    {
      "cell_type": "markdown",
      "source": [
        "**Annotated Text Corpora**"
      ],
      "metadata": {
        "id": "03fRSfLFzral"
      }
    },
    {
      "cell_type": "markdown",
      "source": [
        "<table>\n",
        "  <tr>\n",
        "    <th colspan=\"3\"><h2>Some of  the corpora and corpus samples distributed with NLTK</h2></th>\n",
        "  </tr>\n",
        "  <tr>\n",
        "    <th>Corpus</th>\n",
        "    <th>Compiler</th>\n",
        "    <th>Contents</th>\n",
        "  </tr>\n",
        "  <tr>\n",
        "    <td>Brown Corpus</td>\n",
        "    <td>Francis, Kucera</td>\n",
        "    <td>15 genres, 1.15M words, tagged, categorized</td>\n",
        "  </tr>\n",
        "  <tr>\n",
        "    <td>CESS Treebanks</td>\n",
        "    <td>CLiC-UB</td>\n",
        "    <td>1M words, tagged and parsed (catalan, Spanish)</td>\n",
        "  </tr>\n",
        "  <tr>\n",
        "    <td>Chat-80 Data Files</td>\n",
        "    <td>Pereira & Warren</td>\n",
        "    <td>World Geographic Database</td>\n",
        "  </tr>\n",
        "  <tr>\n",
        "    <td>CMU Pronouncing Dictionary</td>\n",
        "    <td>CMU</td>\n",
        "    <td>127k entries</td>\n",
        "  </tr>\n",
        "  <tr>\n",
        "    <td>CoNLL 2000 Chunking Data</td>\n",
        "    <td>CoNLL</td>\n",
        "    <td>270k words, tagged and chunked</td>\n",
        "  </tr>\n",
        "  <tr>\n",
        "    <td>CoNLL 2002 Named Entity</td>\n",
        "    <td>CoNLL</td>\n",
        "    <td>700k words, POS and named entity tagged (Dutch, Spanish)</td>\n",
        "  </tr>\n",
        "  <tr>\n",
        "    <td>CoNLL 2007 Dependency Parsed Tree-backs (selections)</td>\n",
        "    <td>CoNLL</td>\n",
        "    <td>150K words, dependency parsed (Basque, Catalan)</td>\n",
        "  </tr>\n",
        "  <tr>\n",
        "    <td>Dependency Treebank</td>\n",
        "    <td>Narad</td>\n",
        "    <td>Dependency pared version of Penn Treebank sample</td>\n",
        "  </tr>\n",
        "  <tr>\n",
        "    <td>Floresta Treebank</td>\n",
        "    <td>Diana Santos et al.</td>\n",
        "    <td>9k sentences, tagged and parsed (Portuguese)</td>\n",
        "  </tr>\n",
        "  <tr>\n",
        "    <td>Gazetteer Lists</td>\n",
        "    <td>Various</td>\n",
        "    <td>Lists of cities and countries</td>\n",
        "  </tr>\n",
        "  <tr>\n",
        "    <td>Genesis Corpus</td>\n",
        "    <td>Misc web sources</td>\n",
        "    <td>6 texts, 200k words, 6 languages</td>\n",
        "  </tr>\n",
        "  <tr>\n",
        "    <td>Gutenberg (selections)</td>\n",
        "    <td>Hart, Newby, et al.</td>\n",
        "    <td>18 texts, 2M words</td>\n",
        "  </tr>\n",
        "  <tr>\n",
        "    <td>Inaugural Address Corpus</td>\n",
        "    <td>CSpan</td>\n",
        "    <td>U.S. Presidential Inaugural Addresses(1789-present)</td>\n",
        "  </tr>\n",
        "  <tr>\n",
        "    <td>Indian POS Tagged Corpus</td>\n",
        "    <td>Kumaran et al.</td>\n",
        "    <td>60k words, tagged(Bangla, Hindi, Marathi, Telugu)</td>\n",
        "  </tr>\n",
        "  <tr>\n",
        "    <td>MacMorpho Corpus</td>\n",
        "    <td>NILC, USP, Brazil</td>\n",
        "    <td>1M words, tagged (Brazilian Protuguese)</td>\n",
        "  </tr>\n",
        "  <tr>\n",
        "    <td>Movie Reviews</td>\n",
        "    <td>Pang, Lee</td>\n",
        "    <td>2k movie reviews with sentiment polarity classification</td>\n",
        "  </tr>\n",
        "  <tr>\n",
        "    <td>Names Corpus</td>\n",
        "    <td>Kantrowitz, Ross</td>\n",
        "    <td>8k male and female names</td>\n",
        "  </tr>\n",
        "  <tr>\n",
        "    <td>NIST 199 Info Extr (selections)</td>\n",
        "    <td>Garofolo</td>\n",
        "    <td>63K words, newswire and named entity SGML markup</td>\n",
        "  </tr>\n",
        "  <tr>\n",
        "    <td>NPS Chat Corpus</td>\n",
        "    <td>Forsyth, Martell</td>\n",
        "    <td>10k IM chat posts, POS and dialogue-act tagged</td>\n",
        "  </tr>\n",
        "  <tr>\n",
        "    <td>Penn Treebank (selections)</td>\n",
        "    <td>LDC</td>\n",
        "    <td>40k words, tagged and parsed</td>\n",
        "  </tr>\n",
        "  <tr>\n",
        "    <td>PP Attachment Corpus</td>\n",
        "    <td>Ratnaparkhi</td>\n",
        "    <td>28k prepositional phrases, tagged as noun or verb modifiers</td>\n",
        "  </tr>\n",
        "  <tr>\n",
        "    <td>Proposition Bank</td>\n",
        "    <td>Palmer</td>\n",
        "    <td>113k propositions, 3,300 verb frames</td>\n",
        "  </tr>\n",
        "  <tr>\n",
        "    <td>Question Classification</td>\n",
        "    <td>Li, Roth</td>\n",
        "    <td>6k questions, categorized</td>\n",
        "  </tr>\n",
        "  <tr>\n",
        "    <td>Reuters Corpus</td>\n",
        "    <td>Reuters</td>\n",
        "    <td>1.3M words, 10k news documents, categorized</td>\n",
        "  </tr>\n",
        "  <tr>\n",
        "    <td>Roget's Thesaurus</td>\n",
        "    <td>Project Gutenberg</td>\n",
        "    <td>200k words, formatted text</td>\n",
        "  </tr>\n",
        "  <tr>\n",
        "    <td>RTE Textual Entailment</td>\n",
        "    <td>Dagan et al.</td>\n",
        "    <td>8k sentence pairs, categorized</td>\n",
        "  </tr>\n",
        "  <tr>\n",
        "    <td>SEMCOR</td>\n",
        "    <td>Rus, Mihalcea</td>\n",
        "    <td>880k words, POS and sense tagged</td>\n",
        "  </tr>\n",
        "  <tr>\n",
        "    <td>Senseval 2 Corpus</td>\n",
        "    <td>Pedersen</td>\n",
        "    <td>600k words, POS and sense tagged</td>\n",
        "  </tr>\n",
        "  <tr>\n",
        "    <td>Shakespeare texts (selections)</td>\n",
        "    <td>Bosak</td>\n",
        "    <td>8 books in XML format</td>\n",
        "  </tr>\n",
        "  <tr>\n",
        "    <td>State of the Union Corpus</td>\n",
        "    <td>CSpan</td>\n",
        "    <td>485k words, formatted text</td>\n",
        "  </tr>\n",
        "  <tr>\n",
        "    <td>Stopwords Corpus</td>\n",
        "    <td>Porter et al.</td>\n",
        "    <td>2,400 stopwords for 11 languages</td>\n",
        "  </tr>\n",
        "  <tr>\n",
        "    <td>Swadesh Corpus</td>\n",
        "    <td>Wiktionary</td>\n",
        "    <td>Comparative wordlists in 24 languages</td>\n",
        "  </tr>\n",
        "  <tr>\n",
        "    <td>Switchboard Corpus (selections)</td>\n",
        "    <td>LDC</td>\n",
        "    <td>36 phone calls, transcribed, parsed</td>\n",
        "  </tr>\n",
        "  <tr>\n",
        "    <td>TIMIT Corpus (selections)</td>\n",
        "    <td>NIST/LDC</td>\n",
        "    <td>Audio files and transcripts for 16 speakers</td>\n",
        "  </tr>\n",
        "  <tr>\n",
        "    <td>Univ Ded of Human Rights</td>\n",
        "    <td>United Nations</td>\n",
        "    <td>480k words, 300 + languages</td>\n",
        "  </tr>\n",
        "  <tr>\n",
        "    <td>VerNet 2.1</td>\n",
        "    <td>Palmer et al.</td>\n",
        "    <td>5k verbs, hierachically organized, linked to WordNet</td>\n",
        "  </tr>\n",
        "  <tr>\n",
        "    <td>Wordlist Corpus</td>\n",
        "    <td>OpenOffice.org et al.</td>\n",
        "    <td>960k words and 20k affizes for 8 languages</td>\n",
        "  </tr>\n",
        "  <tr>\n",
        "    <td>WordNet 3.0 (English)</td>\n",
        "    <td>Miller, Fellbaum</td>\n",
        "    <td>145k synonym sets</td>\n",
        "  </tr>\n",
        "</table>"
      ],
      "metadata": {
        "id": "o66rt9YzcVka"
      }
    },
    {
      "cell_type": "markdown",
      "source": [
        "**Corpora in Other Languages**"
      ],
      "metadata": {
        "id": "5gA0HWAE0DwM"
      }
    },
    {
      "cell_type": "markdown",
      "source": [
        "NLTK comes with corpora for many languages, though in some case you will need to learn how to **mainpulate character encodings** in Python before using these corpora "
      ],
      "metadata": {
        "id": "rmebGiZ80LI8"
      }
    },
    {
      "cell_type": "code",
      "source": [
        "nltk.download('cess_esp')"
      ],
      "metadata": {
        "colab": {
          "base_uri": "https://localhost:8080/"
        },
        "id": "ItLtCc8dYfbr",
        "outputId": "6d0f392a-23ac-440b-fcce-a2f095145ad6"
      },
      "execution_count": 63,
      "outputs": [
        {
          "output_type": "stream",
          "name": "stderr",
          "text": [
            "[nltk_data] Downloading package cess_esp to /root/nltk_data...\n",
            "[nltk_data]   Package cess_esp is already up-to-date!\n"
          ]
        },
        {
          "output_type": "execute_result",
          "data": {
            "text/plain": [
              "True"
            ]
          },
          "metadata": {},
          "execution_count": 63
        }
      ]
    },
    {
      "cell_type": "code",
      "source": [
        "nltk.corpus.cess_esp.words()"
      ],
      "metadata": {
        "colab": {
          "base_uri": "https://localhost:8080/"
        },
        "id": "NH5iFsuy0ehP",
        "outputId": "bc64f485-0b5d-4492-a92a-61cdb21b988d"
      },
      "execution_count": 64,
      "outputs": [
        {
          "output_type": "execute_result",
          "data": {
            "text/plain": [
              "['El', 'grupo', 'estatal', 'Electricité_de_France', ...]"
            ]
          },
          "metadata": {},
          "execution_count": 64
        }
      ]
    },
    {
      "cell_type": "code",
      "source": [
        "nltk.download('floresta')"
      ],
      "metadata": {
        "colab": {
          "base_uri": "https://localhost:8080/"
        },
        "id": "H9pCi0KwYitT",
        "outputId": "c10edfe2-f49b-42cb-ae22-6d259e062cb1"
      },
      "execution_count": 67,
      "outputs": [
        {
          "output_type": "stream",
          "name": "stderr",
          "text": [
            "[nltk_data] Downloading package floresta to /root/nltk_data...\n",
            "[nltk_data]   Package floresta is already up-to-date!\n"
          ]
        },
        {
          "output_type": "execute_result",
          "data": {
            "text/plain": [
              "True"
            ]
          },
          "metadata": {},
          "execution_count": 67
        }
      ]
    },
    {
      "cell_type": "code",
      "source": [
        "nltk.corpus.floresta.words()"
      ],
      "metadata": {
        "colab": {
          "base_uri": "https://localhost:8080/"
        },
        "id": "ow6FHzFb0lsM",
        "outputId": "d2881ded-d1d3-48f3-ad49-06a475ca6297"
      },
      "execution_count": 68,
      "outputs": [
        {
          "output_type": "execute_result",
          "data": {
            "text/plain": [
              "['Um', 'revivalismo', 'refrescante', 'O', '7_e_Meio', ...]"
            ]
          },
          "metadata": {},
          "execution_count": 68
        }
      ]
    },
    {
      "cell_type": "code",
      "source": [
        "nltk.download('indian')"
      ],
      "metadata": {
        "colab": {
          "base_uri": "https://localhost:8080/"
        },
        "id": "SV-fGF8dYltz",
        "outputId": "6a211fc2-02d7-4ea5-d586-2e91cbc4dec2"
      },
      "execution_count": 71,
      "outputs": [
        {
          "output_type": "stream",
          "name": "stderr",
          "text": [
            "[nltk_data] Downloading package indian to /root/nltk_data...\n",
            "[nltk_data]   Package indian is already up-to-date!\n"
          ]
        },
        {
          "output_type": "execute_result",
          "data": {
            "text/plain": [
              "True"
            ]
          },
          "metadata": {},
          "execution_count": 71
        }
      ]
    },
    {
      "cell_type": "code",
      "source": [
        "nltk.corpus.indian.words('hindi.pos')"
      ],
      "metadata": {
        "colab": {
          "base_uri": "https://localhost:8080/"
        },
        "id": "oe6bmyaE0skk",
        "outputId": "c56c8905-7294-4b7c-c54a-ce83696e7fd8"
      },
      "execution_count": 72,
      "outputs": [
        {
          "output_type": "execute_result",
          "data": {
            "text/plain": [
              "['पूर्ण', 'प्रतिबंध', 'हटाओ', ':', 'इराक', 'संयुक्त', ...]"
            ]
          },
          "metadata": {},
          "execution_count": 72
        }
      ]
    },
    {
      "cell_type": "code",
      "source": [
        "nltk.download('udhr')"
      ],
      "metadata": {
        "colab": {
          "base_uri": "https://localhost:8080/"
        },
        "id": "d8m-O7VUYoa0",
        "outputId": "9a40e516-c526-4a6d-e568-1d7653c269d7"
      },
      "execution_count": 75,
      "outputs": [
        {
          "output_type": "stream",
          "name": "stderr",
          "text": [
            "[nltk_data] Downloading package udhr to /root/nltk_data...\n",
            "[nltk_data]   Package udhr is already up-to-date!\n"
          ]
        },
        {
          "output_type": "execute_result",
          "data": {
            "text/plain": [
              "True"
            ]
          },
          "metadata": {},
          "execution_count": 75
        }
      ]
    },
    {
      "cell_type": "code",
      "source": [
        "nltk.corpus.udhr.fileids()[:10] # The Universal Declaration of Human Righs in different languages"
      ],
      "metadata": {
        "colab": {
          "base_uri": "https://localhost:8080/"
        },
        "id": "Fyf3HdyD0xId",
        "outputId": "af0bd3c0-ddc4-4e5d-eac3-fe3de4c3b160"
      },
      "execution_count": 76,
      "outputs": [
        {
          "output_type": "execute_result",
          "data": {
            "text/plain": [
              "['Abkhaz-Cyrillic+Abkh',\n",
              " 'Abkhaz-UTF8',\n",
              " 'Achehnese-Latin1',\n",
              " 'Achuar-Shiwiar-Latin1',\n",
              " 'Adja-UTF8',\n",
              " 'Afaan_Oromo_Oromiffa-Latin1',\n",
              " 'Afrikaans-Latin1',\n",
              " 'Aguaruna-Latin1',\n",
              " 'Akuapem_Twi-UTF8',\n",
              " 'Albanian_Shqip-Latin1']"
            ]
          },
          "metadata": {},
          "execution_count": 76
        }
      ]
    },
    {
      "cell_type": "code",
      "source": [
        "nltk.corpus.udhr.words('Javanese-Latin1')[11:]"
      ],
      "metadata": {
        "colab": {
          "base_uri": "https://localhost:8080/"
        },
        "id": "Ys590CQT01di",
        "outputId": "40ae6997-75ec-4f05-9e72-f9b7b583c23e"
      },
      "execution_count": 77,
      "outputs": [
        {
          "output_type": "execute_result",
          "data": {
            "text/plain": [
              "['Saben', 'umat', 'manungsa', 'lair', 'kanthi', 'hak', ...]"
            ]
          },
          "metadata": {},
          "execution_count": 77
        }
      ]
    },
    {
      "cell_type": "code",
      "source": [
        "import matplotlib.pyplot as plt\n",
        "from nltk.corpus import udhr\n",
        "\n",
        "plt.figure(figsize=(10, 7))\n",
        "\n",
        "languages = ['Chickasaw', 'English', 'German_Deutsch', 'Dutch_Nederlands', \n",
        "             'Swedish_Svenska','Greenlandic_Inuktikut', 'Ibibio_Efik', \n",
        "             'Italian_Italiano', 'Spanish_Espanol' , ]\n",
        "\n",
        "cfd=nltk.ConditionalFreqDist(\n",
        "    (lang, len(word))\n",
        "    for lang in languages\n",
        "    for word in udhr.words(lang + '-Latin1'))\n",
        "\n",
        "cfd.plot(cumulative=True);"
      ],
      "metadata": {
        "colab": {
          "base_uri": "https://localhost:8080/",
          "height": 445
        },
        "id": "4jIb_rqt1Ibs",
        "outputId": "e201874c-047c-46b1-a147-4a0390c8805a"
      },
      "execution_count": 78,
      "outputs": [
        {
          "output_type": "display_data",
          "data": {
            "text/plain": [
              "<Figure size 720x504 with 1 Axes>"
            ],
            "image/png": "[encoded data removed]"
          },
          "metadata": {
            "needs_background": "light"
          }
        }
      ]
    },
    {
      "cell_type": "markdown",
      "source": [
        "**Text Corpus Structure**"
      ],
      "metadata": {
        "id": "wjSHBOMrTfpz"
      }
    },
    {
      "cell_type": "markdown",
      "source": [
        "The **simplest kind lacks any structure**: it is just a collection of texts.\n",
        "\n",
        "Often, texts are **grouped into categories** that might correspond to genre, source, author, laguage, etc."
      ],
      "metadata": {
        "id": "R-SBfXg1TkNb"
      }
    },
    {
      "cell_type": "markdown",
      "source": [
        "picture...."
      ],
      "metadata": {
        "id": "Z0N57rbPT7Nz"
      }
    },
    {
      "cell_type": "markdown",
      "source": [
        "**Figure:** Common structures for text corpora: The simplest kind of corpus is a collection of **isolated** texts with no particular organization; some corpora are structured into **categories**, such as genre (Brown Corpus); some categorizations overlap, such as topic categories (Reuters Corpus); other corpora represent language use **over time** (Inaugural Address Corpus)."
      ],
      "metadata": {
        "id": "RlI6yqojT95z"
      }
    },
    {
      "cell_type": "markdown",
      "source": [
        "<table>\n",
        "  <tr>\n",
        "    <th colspan=\"2\"><h1>Basic corpus functionality defined in NLTK</h1></th>\n",
        "  </tr>\n",
        "  <tr>\n",
        "    <td>fileids()</td>\n",
        "    <td>The files of the corpus</td>\n",
        "  </tr>\n",
        "  <tr>\n",
        "    <td>fileids([categories])</td>\n",
        "    <td>The files of the corpus corresponding to these categories</td>\n",
        "  </tr>\n",
        "   <tr>\n",
        "    <td>categories()</td>\n",
        "    <td>The categories of the corpus</td>\n",
        "  </tr>\n",
        "  <tr>\n",
        "    <td>categories([fileids])</td>\n",
        "    <td>The categories of the corpus corresponding to these files</td>\n",
        "  </tr>\n",
        "   <tr>\n",
        "    <td>raw()</td>\n",
        "    <td>The raw content of the corpus</td>\n",
        "  </tr>\n",
        "  <tr>\n",
        "    <td>raw(fileids=[f1,f2,f3])</td>\n",
        "    <td>The raw content of the specified files</td>\n",
        "  </tr>\n",
        "  <tr>\n",
        "    <td>raw(categories=[c1,c2])</td>\n",
        "    <td>The raw content of the specified categories</td>\n",
        "  </tr>\n",
        "  <tr>\n",
        "    <td>words()</td>\n",
        "    <td>The words of the whole corpus</td>\n",
        "  </tr>\n",
        "   <tr>\n",
        "    <td>words(fileids=[f1,f2,f3])</td>\n",
        "    <td>The words of the specified fileids</td>\n",
        "  </tr>\n",
        "  <tr>\n",
        "    <td>words(categories=[c1,c2]</td>\n",
        "    <td>The words of the specified categories</td>\n",
        "  </tr>\n",
        "  <tr>\n",
        "    <td>sents()</td>\n",
        "    <td>The sentences of the specified categories</td>\n",
        "  </tr>\n",
        "   <tr>\n",
        "    <td>sents(fileids=[f1,f2,f3])</td>\n",
        "    <td>The sentences of the specified fileids</td>\n",
        "  </tr>\n",
        "  <tr>\n",
        "    <td>sents(categories=[c1,c2])</td>\n",
        "    <td>The sentences of of the specified categories</td>\n",
        "  </tr>\n",
        "   <tr>\n",
        "    <td>abspath(fileid)</td>\n",
        "    <td>The location of the given file of disk</td>\n",
        "  </tr>\n",
        "  <tr>\n",
        "    <td>encoding(fileid)</td>\n",
        "    <td>The encoding of  the file (if known)</td>\n",
        "  </tr>\n",
        "  <tr>\n",
        "    <td>open(fileid)</td>\n",
        "    <td>Open a stream for reading the given corpus file</td>\n",
        "  </tr>\n",
        "  <tr>\n",
        "    <td>root()</td>\n",
        "    <td>The path to the root of locally installed corpus</td>\n",
        "  </tr>\n",
        "   <tr>\n",
        "    <td>readme()</td>\n",
        "    <td>The contents of the README file of the corpus</td>\n",
        "  </tr>\n",
        "</table>"
      ],
      "metadata": {
        "id": "4-jRKqIUU8JM"
      }
    },
    {
      "cell_type": "code",
      "source": [
        "raw = gutenberg.raw(\"burgess-busterbrown.txt\")\n",
        "raw[1:20]                                            # whole book in string include whitespace and newline"
      ],
      "metadata": {
        "colab": {
          "base_uri": "https://localhost:8080/",
          "height": 35
        },
        "id": "YorAwRQ3Xq9c",
        "outputId": "441573cc-ef0c-4b3c-b186-8fd3083f8154"
      },
      "execution_count": 83,
      "outputs": [
        {
          "output_type": "execute_result",
          "data": {
            "text/plain": [
              "'The Adventures of B'"
            ],
            "application/vnd.google.colaboratory.intrinsic+json": {
              "type": "string"
            }
          },
          "metadata": {},
          "execution_count": 83
        }
      ]
    },
    {
      "cell_type": "code",
      "source": [
        "words = gutenberg.words(\"burgess-busterbrown.txt\")\n",
        "words[1:20]                                           # as a list of words"
      ],
      "metadata": {
        "colab": {
          "base_uri": "https://localhost:8080/"
        },
        "id": "M5Db0AlkYsKU",
        "outputId": "84005911-55e3-4602-9df2-6440541889b9"
      },
      "execution_count": 80,
      "outputs": [
        {
          "output_type": "execute_result",
          "data": {
            "text/plain": [
              "['The',\n",
              " 'Adventures',\n",
              " 'of',\n",
              " 'Buster',\n",
              " 'Bear',\n",
              " 'by',\n",
              " 'Thornton',\n",
              " 'W',\n",
              " '.',\n",
              " 'Burgess',\n",
              " '1920',\n",
              " ']',\n",
              " 'I',\n",
              " 'BUSTER',\n",
              " 'BEAR',\n",
              " 'GOES',\n",
              " 'FISHING',\n",
              " 'Buster',\n",
              " 'Bear']"
            ]
          },
          "metadata": {},
          "execution_count": 80
        }
      ]
    },
    {
      "cell_type": "code",
      "source": [
        "sents = gutenberg.sents(\"burgess-busterbrown.txt\")\n",
        "sents[1:4]                                             # each sentence"
      ],
      "metadata": {
        "colab": {
          "base_uri": "https://localhost:8080/"
        },
        "id": "_h0gLuMrZBtM",
        "outputId": "4223ec88-495e-43a5-d1f7-e158bdee77fd"
      },
      "execution_count": 225,
      "outputs": [
        {
          "output_type": "execute_result",
          "data": {
            "text/plain": [
              "[['I'],\n",
              " ['BUSTER', 'BEAR', 'GOES', 'FISHING'],\n",
              " ['Buster',\n",
              "  'Bear',\n",
              "  'yawned',\n",
              "  'as',\n",
              "  'he',\n",
              "  'lay',\n",
              "  'on',\n",
              "  'his',\n",
              "  'comfortable',\n",
              "  'bed',\n",
              "  'of',\n",
              "  'leaves',\n",
              "  'and',\n",
              "  'watched',\n",
              "  'the',\n",
              "  'first',\n",
              "  'early',\n",
              "  'morning',\n",
              "  'sunbeams',\n",
              "  'creeping',\n",
              "  'through',\n",
              "  'the',\n",
              "  'Green',\n",
              "  'Forest',\n",
              "  'to',\n",
              "  'chase',\n",
              "  'out',\n",
              "  'the',\n",
              "  'Black',\n",
              "  'Shadows',\n",
              "  '.']]"
            ]
          },
          "metadata": {},
          "execution_count": 225
        }
      ]
    },
    {
      "cell_type": "markdown",
      "source": [
        "**Loading Your Own Corpus**"
      ],
      "metadata": {
        "id": "ANNzcUc3aAhT"
      }
    },
    {
      "cell_type": "markdown",
      "source": [
        "`PlaintextCorpusReader`"
      ],
      "metadata": {
        "id": "8vc6krpSaEH7"
      }
    },
    {
      "cell_type": "code",
      "source": [
        "from nltk.corpus import PlaintextCorpusReader\n",
        "\n",
        "corpus_root = '/content/'\n",
        "wordlists = PlaintextCorpusReader(corpus_root, '.*')\n",
        "# wordlists.fileids()                                # show all files in the same directory\n",
        "wordlists.words('LA_DIVINA_COMMEDIA_INFERNO.txt')    # select this file"
      ],
      "metadata": {
        "colab": {
          "base_uri": "https://localhost:8080/"
        },
        "id": "fASHuA1vb2_k",
        "outputId": "488a8bf2-79d2-48cf-dacd-c28ca104d10e"
      },
      "execution_count": 226,
      "outputs": [
        {
          "output_type": "execute_result",
          "data": {
            "text/plain": [
              "['The', 'Project', 'Gutenberg', 'eBook', 'of', 'La', ...]"
            ]
          },
          "metadata": {},
          "execution_count": 226
        }
      ]
    },
    {
      "cell_type": "code",
      "source": [
        "from nltk.corpus import BracketParseCorpusReader\n",
        "\n",
        "corpus_root = r\"/content/\"\n",
        "file_pattern = r\"......*\\.txt\"                           # text file\n",
        "libro = BracketParseCorpusReader(corpus_root, file_pattern)\n",
        "libro.fileids()"
      ],
      "metadata": {
        "colab": {
          "base_uri": "https://localhost:8080/"
        },
        "id": "uf28B7ZjfIJM",
        "outputId": "911d5668-c6a3-4441-cb68-203ed4dc4147"
      },
      "execution_count": 230,
      "outputs": [
        {
          "output_type": "execute_result",
          "data": {
            "text/plain": [
              "['LA_DIVINA_COMMEDIA_INFERNO.txt']"
            ]
          },
          "metadata": {},
          "execution_count": 230
        }
      ]
    },
    {
      "cell_type": "code",
      "source": [
        "inferno = libro.raw('LA_DIVINA_COMMEDIA_INFERNO.txt')\n",
        "inferno"
      ],
      "metadata": {
        "colab": {
          "base_uri": "https://localhost:8080/",
          "height": 209
        },
        "id": "Aq0aBZFNkugc",
        "outputId": "acafe8b2-550d-4d6b-b15a-a033b168a3cf"
      },
      "execution_count": 231,
      "outputs": [
        {
          "output_type": "execute_result",
          "data": {
            "text/plain": [
              "'The Project Gutenberg eBook of La Divina Commedia di Dante: Inferno, by Dante Alighieri\\r\\n\\r\\nThis eBook is for the use of anyone anywhere in the United States and\\r\\nmost other parts of the world at no cost and with almost no restrictions\\r\\nwhatsoever. You may copy it, give it away or re-use it under the terms\\r\\nof the Project Gutenberg License included with this eBook or online at\\r\\nwww.gutenberg.org. If you are not located in the United States, you\\r\\nwill have to check the laws of the country where you are located before\\r\\nusing this eBook.\\r\\n\\r\\nTitle: La Divina Commedia di Dante\\r\\n       Inferno\\r\\n\\r\\nAuthor: Dante Alighieri\\r\\n\\r\\nRelease Date: August, 1997 [eBook #997]\\r\\n[Most recently updated: April 10, 2021]\\r\\n\\r\\nLanguage: Italian\\r\\n\\r\\nCharacter set encoding: UTF-8\\r\\n\\r\\n\\r\\n*** START OF THE PROJECT GUTENBERG EBOOK LA DIVINA COMMEDIA ***\\r\\n\\r\\n\\r\\n\\r\\n\\r\\nLA DIVINA COMMEDIA\\r\\n\\r\\ndi Dante Alighieri\\r\\n\\r\\nCANTICA I: INFERNO\\r\\n\\r\\n\\r\\nContents\\r\\n\\r\\n INFERNO\\r\\n Canto I. \\r\\n Canto II. \\r\\n Canto III. \\r\\n Canto IV. \\r\\n Canto V. \\r\\n Canto VI. \\r\\n Canto VII. \\r\\n Canto VIII. \\r\\n Canto IX. \\r\\n Canto X. \\r\\n Canto XI. \\r\\n Canto XII. \\r\\n Canto XIII. \\r\\n Canto XIV. \\r\\n Canto XV. \\r\\n Canto XVI. \\r\\n Canto XVII. \\r\\n Canto XVIII. \\r\\n Canto XIX. \\r\\n Canto XX. \\r\\n Canto XXI. \\r\\n Canto XXII. \\r\\n Canto XXIII. \\r\\n Canto XXIV. \\r\\n Canto XXV. \\r\\n Canto XXVI. \\r\\n Canto XXVII. \\r\\n Canto XXVIII. \\r\\n Canto XXIX. \\r\\n Canto XXX. \\r\\n Canto XXXI. \\r\\n Canto XXXII. \\r\\n Canto XXXIII. \\r\\n Canto XXXIV. \\r\\n\\r\\n\\r\\n\\r\\n\\r\\nINFERNO\\r\\n\\r\\n\\r\\n\\r\\n\\r\\nInferno\\r\\nCanto I\\r\\n\\r\\n\\r\\nNel mezzo del cammin di nostra vita\\r\\nmi ritrovai per una selva oscura,\\r\\nché la diritta via era smarrita.\\r\\n\\r\\nAhi quanto a dir qual era è cosa dura\\r\\nesta selva selvaggia e aspra e forte\\r\\nche nel pensier rinova la paura!\\r\\n\\r\\nTant’ è amara che poco è più morte;\\r\\nma per trattar del ben ch’i’ vi trovai,\\r\\ndirò de l’altre cose ch’i’ v’ho scorte.\\r\\n\\r\\nIo non so ben ridir com’ i’ v’intrai,\\r\\ntant’ era pien di sonno a quel punto\\r\\nche la verace via abbandonai.\\r\\n\\r\\nMa poi ch’i’ fui al piè d’un colle giunto,\\r\\nlà dove terminava quella valle\\r\\nche m’avea di paura il cor compunto,\\r\\n\\r\\nguardai in alto e vidi le sue spalle\\r\\nvestite già de’ raggi del pianeta\\r\\nche mena dritto altrui per ogne calle.\\r\\n\\r\\nAllor fu la paura un poco queta,\\r\\nche nel lago del cor m’era durata\\r\\nla notte ch’i’ passai con tanta pieta.\\r\\n\\r\\nE come quei che con lena affannata,\\r\\nuscito fuor del pelago a la riva,\\r\\nsi volge a l’acqua perigliosa e guata,\\r\\n\\r\\ncosì l’animo mio, ch’ancor fuggiva,\\r\\nsi volse a retro a rimirar lo passo\\r\\nche non lasciò già mai persona viva.\\r\\n\\r\\nPoi ch’èi posato un poco il corpo lasso,\\r\\nripresi via per la piaggia diserta,\\r\\nsì che ’l piè fermo sempre era ’l più basso.\\r\\n\\r\\nEd ecco, quasi al cominciar de l’erta,\\r\\nuna lonza leggera e presta molto,\\r\\nche di pel macolato era coverta;\\r\\n\\r\\ne non mi si partia dinanzi al volto,\\r\\nanzi ’mpediva tanto il mio cammino,\\r\\nch’i’ fui per ritornar più volte vòlto.\\r\\n\\r\\nTemp’ era dal principio del mattino,\\r\\ne ’l sol montava ’n sù con quelle stelle\\r\\nch’eran con lui quando l’amor divino\\r\\n\\r\\nmosse di prima quelle cose belle;\\r\\nsì ch’a bene sperar m’era cagione\\r\\ndi quella fiera a la gaetta pelle\\r\\n\\r\\nl’ora del tempo e la dolce stagione;\\r\\nma non sì che paura non mi desse\\r\\nla vista che m’apparve d’un leone.\\r\\n\\r\\nQuesti parea che contra me venisse\\r\\ncon la test’ alta e con rabbiosa fame,\\r\\nsì che parea che l’aere ne tremesse.\\r\\n\\r\\nEd una lupa, che di tutte brame\\r\\nsembiava carca ne la sua magrezza,\\r\\ne molte genti fé già viver grame,\\r\\n\\r\\nquesta mi porse tanto di gravezza\\r\\ncon la paura ch’uscia di sua vista,\\r\\nch’io perdei la speranza de l’altezza.\\r\\n\\r\\nE qual è quei che volontieri acquista,\\r\\ne giugne ’l tempo che perder lo face,\\r\\nche ’n tutti suoi pensier piange e s’attrista;\\r\\n\\r\\ntal mi fece la bestia sanza pace,\\r\\nche, venendomi ’ncontro, a poco a poco\\r\\nmi ripigneva là dove ’l sol tace.\\r\\n\\r\\nMentre ch’i’ rovinava in basso loco,\\r\\ndinanzi a li occhi mi si fu offerto\\r\\nchi per lungo silenzio parea fioco.\\r\\n\\r\\nQuando vidi costui nel gran diserto,\\r\\n«Miserere di me», gridai a lui,\\r\\n«qual che tu sii, od ombra od omo certo!».\\r\\n\\r\\nRispuosemi: «Non omo, omo già fui,\\r\\ne li parenti miei furon lombardi,\\r\\nmantoani per patrïa ambedui.\\r\\n\\r\\nNacqui sub Iulio, ancor che fosse tardi,\\r\\ne vissi a Roma sotto ’l buono Augusto\\r\\nnel tempo de li dèi falsi e bugiardi.\\r\\n\\r\\nPoeta fui, e cantai di quel giusto\\r\\nfigliuol d’Anchise che venne di Troia,\\r\\npoi che ’l superbo Ilïón fu combusto.\\r\\n\\r\\nMa tu perché ritorni a tanta noia?\\r\\nperché non sali il dilettoso monte\\r\\nch’è principio e cagion di tutta gioia?».\\r\\n\\r\\n«Or se’ tu quel Virgilio e quella fonte\\r\\nche spandi di parlar sì largo fiume?»,\\r\\nrispuos’ io lui con vergognosa fronte.\\r\\n\\r\\n«O de li altri poeti onore e lume,\\r\\nvagliami ’l lungo studio e ’l grande amore\\r\\nche m’ha fatto cercar lo tuo volume.\\r\\n\\r\\nTu se’ lo mio maestro e ’l mio autore,\\r\\ntu se’ solo colui da cu’ io tolsi\\r\\nlo bello stilo che m’ha fatto onore.\\r\\n\\r\\nVedi la bestia per cu’ io mi volsi;\\r\\naiutami da lei, famoso saggio,\\r\\nch’ella mi fa tremar le vene e i polsi».\\r\\n\\r\\n«A te convien tenere altro vïaggio»,\\r\\nrispuose, poi che lagrimar mi vide,\\r\\n«se vuo’ campar d’esto loco selvaggio;\\r\\n\\r\\nché questa bestia, per la qual tu gride,\\r\\nnon lascia altrui passar per la sua via,\\r\\nma tanto lo ’mpedisce che l’uccide;\\r\\n\\r\\ne ha natura sì malvagia e ria,\\r\\nche mai non empie la bramosa voglia,\\r\\ne dopo ’l pasto ha più fame che pria.\\r\\n\\r\\nMolti son li animali a cui s’ammoglia,\\r\\ne più saranno ancora, infin che ’l veltro\\r\\nverrà, che la farà morir con doglia.\\r\\n\\r\\nQuesti non ciberà terra né peltro,\\r\\nma sapïenza, amore e virtute,\\r\\ne sua nazion sarà tra feltro e feltro.\\r\\n\\r\\nDi quella umile Italia fia salute\\r\\nper cui morì la vergine Cammilla,\\r\\nEurialo e Turno e Niso di ferute.\\r\\n\\r\\nQuesti la caccerà per ogne villa,\\r\\nfin che l’avrà rimessa ne lo ’nferno,\\r\\nlà onde ’nvidia prima dipartilla.\\r\\n\\r\\nOnd’ io per lo tuo me’ penso e discerno\\r\\nche tu mi segui, e io sarò tua guida,\\r\\ne trarrotti di qui per loco etterno;\\r\\n\\r\\nove udirai le disperate strida,\\r\\nvedrai li antichi spiriti dolenti,\\r\\nch’a la seconda morte ciascun grida;\\r\\n\\r\\ne vederai color che son contenti\\r\\nnel foco, perché speran di venire\\r\\nquando che sia a le beate genti.\\r\\n\\r\\nA le quai poi se tu vorrai salire,\\r\\nanima fia a ciò più di me degna:\\r\\ncon lei ti lascerò nel mio partire;\\r\\n\\r\\nché quello imperador che là sù regna,\\r\\nperch’ i’ fu’ ribellante a la sua legge,\\r\\nnon vuol che ’n sua città per me si vegna.\\r\\n\\r\\nIn tutte parti impera e quivi regge;\\r\\nquivi è la sua città e l’alto seggio:\\r\\noh felice colui cu’ ivi elegge!».\\r\\n\\r\\nE io a lui: «Poeta, io ti richeggio\\r\\nper quello Dio che tu non conoscesti,\\r\\nacciò ch’io fugga questo male e peggio,\\r\\n\\r\\nche tu mi meni là dov’ or dicesti,\\r\\nsì ch’io veggia la porta di san Pietro\\r\\ne color cui tu fai cotanto mesti».\\r\\n\\r\\nAllor si mosse, e io li tenni dietro.\\r\\n\\r\\n\\r\\n\\r\\n\\r\\nInferno\\r\\nCanto II\\r\\n\\r\\n\\r\\nLo giorno se n’andava, e l’aere bruno\\r\\ntoglieva li animai che sono in terra\\r\\nda le fatiche loro; e io sol uno\\r\\n\\r\\nm’apparecchiava a sostener la guerra\\r\\nsì del cammino e sì de la pietate,\\r\\nche ritrarrà la mente che non erra.\\r\\n\\r\\nO muse, o alto ingegno, or m’aiutate;\\r\\no mente che scrivesti ciò ch’io vidi,\\r\\nqui si parrà la tua nobilitate.\\r\\n\\r\\nIo cominciai: «Poeta che mi guidi,\\r\\nguarda la mia virtù s’ell’ è possente,\\r\\nprima ch’a l’alto passo tu mi fidi.\\r\\n\\r\\nTu dici che di Silvïo il parente,\\r\\ncorruttibile ancora, ad immortale\\r\\nsecolo andò, e fu sensibilmente.\\r\\n\\r\\nPerò, se l’avversario d’ogne male\\r\\ncortese i fu, pensando l’alto effetto\\r\\nch’uscir dovea di lui, e ’l chi e ’l quale\\r\\n\\r\\nnon pare indegno ad omo d’intelletto;\\r\\nch’e’ fu de l’alma Roma e di suo impero\\r\\nne l’empireo ciel per padre eletto:\\r\\n\\r\\nla quale e ’l quale, a voler dir lo vero,\\r\\nfu stabilita per lo loco santo\\r\\nu’ siede il successor del maggior Piero.\\r\\n\\r\\nPer quest’ andata onde li dai tu vanto,\\r\\nintese cose che furon cagione\\r\\ndi sua vittoria e del papale ammanto.\\r\\n\\r\\nAndovvi poi lo Vas d’elezïone,\\r\\nper recarne conforto a quella fede\\r\\nch’è principio a la via di salvazione.\\r\\n\\r\\nMa io, perché venirvi? o chi ’l concede?\\r\\nIo non Enëa, io non Paulo sono;\\r\\nme degno a ciò né io né altri ’l crede.\\r\\n\\r\\nPer che, se del venire io m’abbandono,\\r\\ntemo che la venuta non sia folle.\\r\\nSe’ savio; intendi me’ ch’i’ non ragiono».\\r\\n\\r\\nE qual è quei che disvuol ciò che volle\\r\\ne per novi pensier cangia proposta,\\r\\nsì che dal cominciar tutto si tolle,\\r\\n\\r\\ntal mi fec’ ïo ’n quella oscura costa,\\r\\nperché, pensando, consumai la ’mpresa\\r\\nche fu nel cominciar cotanto tosta.\\r\\n\\r\\n«S’i’ ho ben la parola tua intesa»,\\r\\nrispuose del magnanimo quell’ ombra,\\r\\n«l’anima tua è da viltade offesa;\\r\\n\\r\\nla qual molte fïate l’omo ingombra\\r\\nsì che d’onrata impresa lo rivolve,\\r\\ncome falso veder bestia quand’ ombra.\\r\\n\\r\\nDa questa tema acciò che tu ti solve,\\r\\ndirotti perch’ io venni e quel ch’io ’ntesi\\r\\nnel primo punto che di te mi dolve.\\r\\n\\r\\nIo era tra color che son sospesi,\\r\\ne donna mi chiamò beata e bella,\\r\\ntal che di comandare io la richiesi.\\r\\n\\r\\nLucevan li occhi suoi più che la stella;\\r\\ne cominciommi a dir soave e piana,\\r\\ncon angelica voce, in sua favella:\\r\\n\\r\\n“O anima cortese mantoana,\\r\\ndi cui la fama ancor nel mondo dura,\\r\\ne durerà quanto ’l mondo lontana,\\r\\n\\r\\nl’amico mio, e non de la ventura,\\r\\nne la diserta piaggia è impedito\\r\\nsì nel cammin, che vòlt’ è per paura;\\r\\n\\r\\ne temo che non sia già sì smarrito,\\r\\nch’io mi sia tardi al soccorso levata,\\r\\nper quel ch’i’ ho di lui nel cielo udito.\\r\\n\\r\\nOr movi, e con la tua parola ornata\\r\\ne con ciò c’ha mestieri al suo campare,\\r\\nl’aiuta sì ch’i’ ne sia consolata.\\r\\n\\r\\nI’ son Beatrice che ti faccio andare;\\r\\nvegno del loco ove tornar disio;\\r\\namor mi mosse, che mi fa parlare.\\r\\n\\r\\nQuando sarò dinanzi al segnor mio,\\r\\ndi te mi loderò sovente a lui”.\\r\\nTacette allora, e poi comincia’ io:\\r\\n\\r\\n“O donna di virtù sola per cui\\r\\nl’umana spezie eccede ogne contento\\r\\ndi quel ciel c’ha minor li cerchi sui,\\r\\n\\r\\ntanto m’aggrada il tuo comandamento,\\r\\nche l’ubidir, se già fosse, m’è tardi;\\r\\npiù non t’è uo’ ch’aprirmi il tuo talento.\\r\\n\\r\\nMa dimmi la cagion che non ti guardi\\r\\nde lo scender qua giuso in questo centro\\r\\nde l’ampio loco ove tornar tu ardi”.\\r\\n\\r\\n“Da che tu vuo’ saver cotanto a dentro,\\r\\ndirotti brievemente”, mi rispuose,\\r\\n“perch’ i’ non temo di venir qua entro.\\r\\n\\r\\nTemer si dee di sole quelle cose\\r\\nc’hanno potenza di fare altrui male;\\r\\nde l’altre no, ché non son paurose.\\r\\n\\r\\nI’ son fatta da Dio, sua mercé, tale,\\r\\nche la vostra miseria non mi tange,\\r\\nné fiamma d’esto ’ncendio non m’assale.\\r\\n\\r\\nDonna è gentil nel ciel che si compiange\\r\\ndi questo ’mpedimento ov’ io ti mando,\\r\\nsì che duro giudicio là sù frange.\\r\\n\\r\\nQuesta chiese Lucia in suo dimando\\r\\ne disse:—Or ha bisogno il tuo fedele\\r\\ndi te, e io a te lo raccomando—.\\r\\n\\r\\nLucia, nimica di ciascun crudele,\\r\\nsi mosse, e venne al loco dov’ i’ era,\\r\\nche mi sedea con l’antica Rachele.\\r\\n\\r\\nDisse:—Beatrice, loda di Dio vera,\\r\\nché non soccorri quei che t’amò tanto,\\r\\nch’uscì per te de la volgare schiera?\\r\\n\\r\\nNon odi tu la pieta del suo pianto,\\r\\nnon vedi tu la morte che ’l combatte\\r\\nsu la fiumana ove ’l mar non ha vanto?—.\\r\\n\\r\\nAl mondo non fur mai persone ratte\\r\\na far lor pro o a fuggir lor danno,\\r\\ncom’ io, dopo cotai parole fatte,\\r\\n\\r\\nvenni qua giù del mio beato scanno,\\r\\nfidandomi del tuo parlare onesto,\\r\\nch’onora te e quei ch’udito l’hanno”.\\r\\n\\r\\nPoscia che m’ebbe ragionato questo,\\r\\nli occhi lucenti lagrimando volse,\\r\\nper che mi fece del venir più presto.\\r\\n\\r\\nE venni a te così com’ ella volse:\\r\\nd’inanzi a quella fiera ti levai\\r\\nche del bel monte il corto andar ti tolse.\\r\\n\\r\\nDunque: che è? perché, perché restai,\\r\\nperché tanta viltà nel core allette,\\r\\nperché ardire e franchezza non hai,\\r\\n\\r\\nposcia che tai tre donne benedette\\r\\ncuran di te ne la corte del cielo,\\r\\ne ’l mio parlar tanto ben ti promette?».\\r\\n\\r\\nQuali fioretti dal notturno gelo\\r\\nchinati e chiusi, poi che ’l sol li ’mbianca,\\r\\nsi drizzan tutti aperti in loro stelo,\\r\\n\\r\\ntal mi fec’ io di mia virtude stanca,\\r\\ne tanto buono ardire al cor mi corse,\\r\\nch’i’ cominciai come persona franca:\\r\\n\\r\\n«Oh pietosa colei che mi soccorse!\\r\\ne te cortese ch’ubidisti tosto\\r\\na le vere parole che ti porse!\\r\\n\\r\\nTu m’hai con disiderio il cor disposto\\r\\nsì al venir con le parole tue,\\r\\nch’i’ son tornato nel primo proposto.\\r\\n\\r\\nOr va, ch’un sol volere è d’ambedue:\\r\\ntu duca, tu segnore e tu maestro».\\r\\nCosì li dissi; e poi che mosso fue,\\r\\n\\r\\nintrai per lo cammino alto e silvestro.\\r\\n\\r\\n\\r\\n\\r\\n\\r\\nInferno\\r\\nCanto III\\r\\n\\r\\n\\r\\n‘Per me si va ne la città dolente,\\r\\nper me si va ne l’etterno dolore,\\r\\nper me si va tra la perduta gente.\\r\\n\\r\\nGiustizia mosse il mio alto fattore;\\r\\nfecemi la divina podestate,\\r\\nla somma sapïenza e ’l primo amore.\\r\\n\\r\\nDinanzi a me non fuor cose create\\r\\nse non etterne, e io etterno duro.\\r\\nLasciate ogne speranza, voi ch’intrate’.\\r\\n\\r\\nQueste parole di colore oscuro\\r\\nvid’ ïo scritte al sommo d’una porta;\\r\\nper ch’io: «Maestro, il senso lor m’è duro».\\r\\n\\r\\nEd elli a me, come persona accorta:\\r\\n«Qui si convien lasciare ogne sospetto;\\r\\nogne viltà convien che qui sia morta.\\r\\n\\r\\nNoi siam venuti al loco ov’ i’ t’ho detto\\r\\nche tu vedrai le genti dolorose\\r\\nc’hanno perduto il ben de l’intelletto».\\r\\n\\r\\nE poi che la sua mano a la mia puose\\r\\ncon lieto volto, ond’ io mi confortai,\\r\\nmi mise dentro a le segrete cose.\\r\\n\\r\\nQuivi sospiri, pianti e alti guai\\r\\nrisonavan per l’aere sanza stelle,\\r\\nper ch’io al cominciar ne lagrimai.\\r\\n\\r\\nDiverse lingue, orribili favelle,\\r\\nparole di dolore, accenti d’ira,\\r\\nvoci alte e fioche, e suon di man con elle\\r\\n\\r\\nfacevano un tumulto, il qual s’aggira\\r\\nsempre in quell’ aura sanza tempo tinta,\\r\\ncome la rena quando turbo spira.\\r\\n\\r\\nE io ch’avea d’error la testa cinta,\\r\\ndissi: «Maestro, che è quel ch’i’ odo?\\r\\ne che gent’ è che par nel duol sì vinta?».\\r\\n\\r\\nEd elli a me: «Questo misero modo\\r\\ntegnon l’anime triste di coloro\\r\\nche visser sanza ’nfamia e sanza lodo.\\r\\n\\r\\nMischiate sono a quel cattivo coro\\r\\nde li angeli che non furon ribelli\\r\\nné fur fedeli a Dio, ma per sé fuoro.\\r\\n\\r\\nCaccianli i ciel per non esser men belli,\\r\\nné lo profondo inferno li riceve,\\r\\nch’alcuna gloria i rei avrebber d’elli».\\r\\n\\r\\nE io: «Maestro, che è tanto greve\\r\\na lor che lamentar li fa sì forte?».\\r\\nRispuose: «Dicerolti molto breve.\\r\\n\\r\\nQuesti non hanno speranza di morte,\\r\\ne la lor cieca vita è tanto bassa,\\r\\nche ’nvidïosi son d’ogne altra sorte.\\r\\n\\r\\nFama di loro il mondo esser non lassa;\\r\\nmisericordia e giustizia li sdegna:\\r\\nnon ragioniam di lor, ma guarda e passa».\\r\\n\\r\\nE io, che riguardai, vidi una ’nsegna\\r\\nche girando correva tanto ratta,\\r\\nche d’ogne posa mi parea indegna;\\r\\n\\r\\ne dietro le venìa sì lunga tratta\\r\\ndi gente, ch’i’ non averei creduto\\r\\nche morte tanta n’avesse disfatta.\\r\\n\\r\\nPoscia ch’io v’ebbi alcun riconosciuto,\\r\\nvidi e conobbi l’ombra di colui\\r\\nche fece per viltade il gran rifiuto.\\r\\n\\r\\nIncontanente intesi e certo fui\\r\\nche questa era la setta d’i cattivi,\\r\\na Dio spiacenti e a’ nemici sui.\\r\\n\\r\\nQuesti sciaurati, che mai non fur vivi,\\r\\nerano ignudi e stimolati molto\\r\\nda mosconi e da vespe ch’eran ivi.\\r\\n\\r\\nElle rigavan lor di sangue il volto,\\r\\nche, mischiato di lagrime, a’ lor piedi\\r\\nda fastidiosi vermi era ricolto.\\r\\n\\r\\nE poi ch’a riguardar oltre mi diedi,\\r\\nvidi genti a la riva d’un gran fiume;\\r\\nper ch’io dissi: «Maestro, or mi concedi\\r\\n\\r\\nch’i’ sappia quali sono, e qual costume\\r\\nle fa di trapassar parer sì pronte,\\r\\ncom’ i’ discerno per lo fioco lume».\\r\\n\\r\\nEd elli a me: «Le cose ti fier conte\\r\\nquando noi fermerem li nostri passi\\r\\nsu la trista riviera d’Acheronte».\\r\\n\\r\\nAllor con li occhi vergognosi e bassi,\\r\\ntemendo no ’l mio dir li fosse grave,\\r\\ninfino al fiume del parlar mi trassi.\\r\\n\\r\\nEd ecco verso noi venir per nave\\r\\nun vecchio, bianco per antico pelo,\\r\\ngridando: «Guai a voi, anime prave!\\r\\n\\r\\nNon isperate mai veder lo cielo:\\r\\ni’ vegno per menarvi a l’altra riva\\r\\nne le tenebre etterne, in caldo e ’n gelo.\\r\\n\\r\\nE tu che se’ costì, anima viva,\\r\\npàrtiti da cotesti che son morti».\\r\\nMa poi che vide ch’io non mi partiva,\\r\\n\\r\\ndisse: «Per altra via, per altri porti\\r\\nverrai a piaggia, non qui, per passare:\\r\\npiù lieve legno convien che ti porti».\\r\\n\\r\\nE ’l duca lui: «Caron, non ti crucciare:\\r\\nvuolsi così colà dove si puote\\r\\nciò che si vuole, e più non dimandare».\\r\\n\\r\\nQuinci fuor quete le lanose gote\\r\\nal nocchier de la livida palude,\\r\\nche ’ntorno a li occhi avea di fiamme rote.\\r\\n\\r\\nMa quell’ anime, ch’eran lasse e nude,\\r\\ncangiar colore e dibattero i denti,\\r\\nratto che ’nteser le parole crude.\\r\\n\\r\\nBestemmiavano Dio e lor parenti,\\r\\nl’umana spezie e ’l loco e ’l tempo e ’l seme\\r\\ndi lor semenza e di lor nascimenti.\\r\\n\\r\\nPoi si ritrasser tutte quante insieme,\\r\\nforte piangendo, a la riva malvagia\\r\\nch’attende ciascun uom che Dio non teme.\\r\\n\\r\\nCaron dimonio, con occhi di bragia\\r\\nloro accennando, tutte le raccoglie;\\r\\nbatte col remo qualunque s’adagia.\\r\\n\\r\\nCome d’autunno si levan le foglie\\r\\nl’una appresso de l’altra, fin che ’l ramo\\r\\nvede a la terra tutte le sue spoglie,\\r\\n\\r\\nsimilemente il mal seme d’Adamo\\r\\ngittansi di quel lito ad una ad una,\\r\\nper cenni come augel per suo richiamo.\\r\\n\\r\\nCosì sen vanno su per l’onda bruna,\\r\\ne avanti che sien di là discese,\\r\\nanche di qua nuova schiera s’auna.\\r\\n\\r\\n«Figliuol mio», disse ’l maestro cortese,\\r\\n«quelli che muoion ne l’ira di Dio\\r\\ntutti convegnon qui d’ogne paese;\\r\\n\\r\\ne pronti sono a trapassar lo rio,\\r\\nché la divina giustizia li sprona,\\r\\nsì che la tema si volve in disio.\\r\\n\\r\\nQuinci non passa mai anima buona;\\r\\ne però, se Caron di te si lagna,\\r\\nben puoi sapere omai che ’l suo dir suona».\\r\\n\\r\\nFinito questo, la buia campagna\\r\\ntremò sì forte, che de lo spavento\\r\\nla mente di sudore ancor mi bagna.\\r\\n\\r\\nLa terra lagrimosa diede vento,\\r\\nche balenò una luce vermiglia\\r\\nla qual mi vinse ciascun sentimento;\\r\\n\\r\\ne caddi come l’uom cui sonno piglia.\\r\\n\\r\\n\\r\\n\\r\\n\\r\\nInferno\\r\\nCanto IV\\r\\n\\r\\n\\r\\nRuppemi l’alto sonno ne la testa\\r\\nun greve truono, sì ch’io mi riscossi\\r\\ncome persona ch’è per forza desta;\\r\\n\\r\\ne l’occhio riposato intorno mossi,\\r\\ndritto levato, e fiso riguardai\\r\\nper conoscer lo loco dov’ io fossi.\\r\\n\\r\\nVero è che ’n su la proda mi trovai\\r\\nde la valle d’abisso dolorosa\\r\\nche ’ntrono accoglie d’infiniti guai.\\r\\n\\r\\nOscura e profonda era e nebulosa\\r\\ntanto che, per ficcar lo viso a fondo,\\r\\nio non vi discernea alcuna cosa.\\r\\n\\r\\n«Or discendiam qua giù nel cieco mondo»,\\r\\ncominciò il poeta tutto smorto.\\r\\n«Io sarò primo, e tu sarai secondo».\\r\\n\\r\\nE io, che del color mi fui accorto,\\r\\ndissi: «Come verrò, se tu paventi\\r\\nche suoli al mio dubbiare esser conforto?».\\r\\n\\r\\nEd elli a me: «L’angoscia de le genti\\r\\nche son qua giù, nel viso mi dipigne\\r\\nquella pietà che tu per tema senti.\\r\\n\\r\\nAndiam, ché la via lunga ne sospigne».\\r\\nCosì si mise e così mi fé intrare\\r\\nnel primo cerchio che l’abisso cigne.\\r\\n\\r\\nQuivi, secondo che per ascoltare,\\r\\nnon avea pianto mai che di sospiri\\r\\nche l’aura etterna facevan tremare;\\r\\n\\r\\nciò avvenia di duol sanza martìri,\\r\\nch’avean le turbe, ch’eran molte e grandi,\\r\\nd’infanti e di femmine e di viri.\\r\\n\\r\\nLo buon maestro a me: «Tu non dimandi\\r\\nche spiriti son questi che tu vedi?\\r\\nOr vo’ che sappi, innanzi che più andi,\\r\\n\\r\\nch’ei non peccaro; e s’elli hanno mercedi,\\r\\nnon basta, perché non ebber battesmo,\\r\\nch’è porta de la fede che tu credi;\\r\\n\\r\\ne s’e’ furon dinanzi al cristianesmo,\\r\\nnon adorar debitamente a Dio:\\r\\ne di questi cotai son io medesmo.\\r\\n\\r\\nPer tai difetti, non per altro rio,\\r\\nsemo perduti, e sol di tanto offesi\\r\\nche sanza speme vivemo in disio».\\r\\n\\r\\nGran duol mi prese al cor quando lo ’ntesi,\\r\\nperò che gente di molto valore\\r\\nconobbi che ’n quel limbo eran sospesi.\\r\\n\\r\\n«Dimmi, maestro mio, dimmi, segnore»,\\r\\ncomincia’ io per voler esser certo\\r\\ndi quella fede che vince ogne errore:\\r\\n\\r\\n«uscicci mai alcuno, o per suo merto\\r\\no per altrui, che poi fosse beato?».\\r\\nE quei che ’ntese il mio parlar coverto,\\r\\n\\r\\nrispuose: «Io era nuovo in questo stato,\\r\\nquando ci vidi venire un possente,\\r\\ncon segno di vittoria coronato.\\r\\n\\r\\nTrasseci l’ombra del primo parente,\\r\\nd’Abèl suo figlio e quella di Noè,\\r\\ndi Moïsè legista e ubidente;\\r\\n\\r\\nAbraàm patrïarca e Davìd re,\\r\\nIsraèl con lo padre e co’ suoi nati\\r\\ne con Rachele, per cui tanto fé,\\r\\n\\r\\ne altri molti, e feceli beati.\\r\\nE vo’ che sappi che, dinanzi ad essi,\\r\\nspiriti umani non eran salvati».\\r\\n\\r\\nNon lasciavam l’andar perch’ ei dicessi,\\r\\nma passavam la selva tuttavia,\\r\\nla selva, dico, di spiriti spessi.\\r\\n\\r\\nNon era lunga ancor la nostra via\\r\\ndi qua dal sonno, quand’ io vidi un foco\\r\\nch’emisperio di tenebre vincia.\\r\\n\\r\\nDi lungi n’eravamo ancora un poco,\\r\\nma non sì ch’io non discernessi in parte\\r\\nch’orrevol gente possedea quel loco.\\r\\n\\r\\n«O tu ch’onori scïenzïa e arte,\\r\\nquesti chi son c’hanno cotanta onranza,\\r\\nche dal modo de li altri li diparte?».\\r\\n\\r\\nE quelli a me: «L’onrata nominanza\\r\\nche di lor suona sù ne la tua vita,\\r\\ngrazïa acquista in ciel che sì li avanza».\\r\\n\\r\\nIntanto voce fu per me udita:\\r\\n«Onorate l’altissimo poeta;\\r\\nl’ombra sua torna, ch’era dipartita».\\r\\n\\r\\nPoi che la voce fu restata e queta,\\r\\nvidi quattro grand’ ombre a noi venire:\\r\\nsembianz’ avevan né trista né lieta.\\r\\n\\r\\nLo buon maestro cominciò a dire:\\r\\n«Mira colui con quella spada in mano,\\r\\nche vien dinanzi ai tre sì come sire:\\r\\n\\r\\nquelli è Omero poeta sovrano;\\r\\nl’altro è Orazio satiro che vene;\\r\\nOvidio è ’l terzo, e l’ultimo Lucano.\\r\\n\\r\\nPerò che ciascun meco si convene\\r\\nnel nome che sonò la voce sola,\\r\\nfannomi onore, e di ciò fanno bene».\\r\\n\\r\\nCosì vid’ i’ adunar la bella scola\\r\\ndi quel segnor de l’altissimo canto\\r\\nche sovra li altri com’ aquila vola.\\r\\n\\r\\nDa ch’ebber ragionato insieme alquanto,\\r\\nvolsersi a me con salutevol cenno,\\r\\ne ’l mio maestro sorrise di tanto;\\r\\n\\r\\ne più d’onore ancora assai mi fenno,\\r\\nch’e’ sì mi fecer de la loro schiera,\\r\\nsì ch’io fui sesto tra cotanto senno.\\r\\n\\r\\nCosì andammo infino a la lumera,\\r\\nparlando cose che ’l tacere è bello,\\r\\nsì com’ era ’l parlar colà dov’ era.\\r\\n\\r\\nVenimmo al piè d’un nobile castello,\\r\\nsette volte cerchiato d’alte mura,\\r\\ndifeso intorno d’un bel fiumicello.\\r\\n\\r\\nQuesto passammo come terra dura;\\r\\nper sette porte intrai con questi savi:\\r\\ngiugnemmo in prato di fresca verdura.\\r\\n\\r\\nGenti v’eran con occhi tardi e gravi,\\r\\ndi grande autorità ne’ lor sembianti:\\r\\nparlavan rado, con voci soavi.\\r\\n\\r\\nTraemmoci così da l’un de’ canti,\\r\\nin loco aperto, luminoso e alto,\\r\\nsì che veder si potien tutti quanti.\\r\\n\\r\\nColà diritto, sovra ’l verde smalto,\\r\\nmi fuor mostrati li spiriti magni,\\r\\nche del vedere in me stesso m’essalto.\\r\\n\\r\\nI’ vidi Eletra con molti compagni,\\r\\ntra ’ quai conobbi Ettòr ed Enea,\\r\\nCesare armato con li occhi grifagni.\\r\\n\\r\\nVidi Cammilla e la Pantasilea;\\r\\nda l’altra parte vidi ’l re Latino\\r\\nche con Lavina sua figlia sedea.\\r\\n\\r\\nVidi quel Bruto che cacciò Tarquino,\\r\\nLucrezia, Iulia, Marzïa e Corniglia;\\r\\ne solo, in parte, vidi ’l Saladino.\\r\\n\\r\\nPoi ch’innalzai un poco più le ciglia,\\r\\nvidi ’l maestro di color che sanno\\r\\nseder tra filosofica famiglia.\\r\\n\\r\\nTutti lo miran, tutti onor li fanno:\\r\\nquivi vid’ ïo Socrate e Platone,\\r\\nche ’nnanzi a li altri più presso li stanno;\\r\\n\\r\\nDemocrito che ’l mondo a caso pone,\\r\\nDïogenès, Anassagora e Tale,\\r\\nEmpedoclès, Eraclito e Zenone;\\r\\n\\r\\ne vidi il buono accoglitor del quale,\\r\\nDïascoride dico; e vidi Orfeo,\\r\\nTulïo e Lino e Seneca morale;\\r\\n\\r\\nEuclide geomètra e Tolomeo,\\r\\nIpocràte, Avicenna e Galïeno,\\r\\nAveroìs, che ’l gran comento feo.\\r\\n\\r\\nIo non posso ritrar di tutti a pieno,\\r\\nperò che sì mi caccia il lungo tema,\\r\\nche molte volte al fatto il dir vien meno.\\r\\n\\r\\nLa sesta compagnia in due si scema:\\r\\nper altra via mi mena il savio duca,\\r\\nfuor de la queta, ne l’aura che trema.\\r\\n\\r\\nE vegno in parte ove non è che luca.\\r\\n\\r\\n\\r\\n\\r\\n\\r\\nInferno\\r\\nCanto V\\r\\n\\r\\n\\r\\nCosì discesi del cerchio primaio\\r\\ngiù nel secondo, che men loco cinghia\\r\\ne tanto più dolor, che punge a guaio.\\r\\n\\r\\nStavvi Minòs orribilmente, e ringhia:\\r\\nessamina le colpe ne l’intrata;\\r\\ngiudica e manda secondo ch’avvinghia.\\r\\n\\r\\nDico che quando l’anima mal nata\\r\\nli vien dinanzi, tutta si confessa;\\r\\ne quel conoscitor de le peccata\\r\\n\\r\\nvede qual loco d’inferno è da essa;\\r\\ncignesi con la coda tante volte\\r\\nquantunque gradi vuol che giù sia messa.\\r\\n\\r\\nSempre dinanzi a lui ne stanno molte:\\r\\nvanno a vicenda ciascuna al giudizio,\\r\\ndicono e odono e poi son giù volte.\\r\\n\\r\\n«O tu che vieni al doloroso ospizio»,\\r\\ndisse Minòs a me quando mi vide,\\r\\nlasciando l’atto di cotanto offizio,\\r\\n\\r\\n«guarda com’ entri e di cui tu ti fide;\\r\\nnon t’inganni l’ampiezza de l’intrare!».\\r\\nE ’l duca mio a lui: «Perché pur gride?\\r\\n\\r\\nNon impedir lo suo fatale andare:\\r\\nvuolsi così colà dove si puote\\r\\nciò che si vuole, e più non dimandare».\\r\\n\\r\\nOr incomincian le dolenti note\\r\\na farmisi sentire; or son venuto\\r\\nlà dove molto pianto mi percuote.\\r\\n\\r\\nIo venni in loco d’ogne luce muto,\\r\\nche mugghia come fa mar per tempesta,\\r\\nse da contrari venti è combattuto.\\r\\n\\r\\nLa bufera infernal, che mai non resta,\\r\\nmena li spirti con la sua rapina;\\r\\nvoltando e percotendo li molesta.\\r\\n\\r\\nQuando giungon davanti a la ruina,\\r\\nquivi le strida, il compianto, il lamento;\\r\\nbestemmian quivi la virtù divina.\\r\\n\\r\\nIntesi ch’a così fatto tormento\\r\\nenno dannati i peccator carnali,\\r\\nche la ragion sommettono al talento.\\r\\n\\r\\nE come li stornei ne portan l’ali\\r\\nnel freddo tempo, a schiera larga e piena,\\r\\ncosì quel fiato li spiriti mali\\r\\n\\r\\ndi qua, di là, di giù, di sù li mena;\\r\\nnulla speranza li conforta mai,\\r\\nnon che di posa, ma di minor pena.\\r\\n\\r\\nE come i gru van cantando lor lai,\\r\\nfaccendo in aere di sé lunga riga,\\r\\ncosì vid’ io venir, traendo guai,\\r\\n\\r\\nombre portate da la detta briga;\\r\\nper ch’i’ dissi: «Maestro, chi son quelle\\r\\ngenti che l’aura nera sì gastiga?».\\r\\n\\r\\n«La prima di color di cui novelle\\r\\ntu vuo’ saper», mi disse quelli allotta,\\r\\n«fu imperadrice di molte favelle.\\r\\n\\r\\nA vizio di lussuria fu sì rotta,\\r\\nche libito fé licito in sua legge,\\r\\nper tòrre il biasmo in che era condotta.\\r\\n\\r\\nEll’ è Semiramìs, di cui si legge\\r\\nche succedette a Nino e fu sua sposa:\\r\\ntenne la terra che ’l Soldan corregge.\\r\\n\\r\\nL’altra è colei che s’ancise amorosa,\\r\\ne ruppe fede al cener di Sicheo;\\r\\npoi è Cleopatràs lussurïosa.\\r\\n\\r\\nElena vedi, per cui tanto reo\\r\\ntempo si volse, e vedi ’l grande Achille,\\r\\nche con amore al fine combatteo.\\r\\n\\r\\nVedi Parìs, Tristano»; e più di mille\\r\\nombre mostrommi e nominommi a dito,\\r\\nch’amor di nostra vita dipartille.\\r\\n\\r\\nPoscia ch’io ebbi ’l mio dottore udito\\r\\nnomar le donne antiche e ’ cavalieri,\\r\\npietà mi giunse, e fui quasi smarrito.\\r\\n\\r\\nI’ cominciai: «Poeta, volontieri\\r\\nparlerei a quei due che ’nsieme vanno,\\r\\ne paion sì al vento esser leggeri».\\r\\n\\r\\nEd elli a me: «Vedrai quando saranno\\r\\npiù presso a noi; e tu allor li priega\\r\\nper quello amor che i mena, ed ei verranno».\\r\\n\\r\\nSì tosto come il vento a noi li piega,\\r\\nmossi la voce: «O anime affannate,\\r\\nvenite a noi parlar, s’altri nol niega!».\\r\\n\\r\\nQuali colombe dal disio chiamate\\r\\ncon l’ali alzate e ferme al dolce nido\\r\\nvegnon per l’aere, dal voler portate;\\r\\n\\r\\ncotali uscir de la schiera ov’ è Dido,\\r\\na noi venendo per l’aere maligno,\\r\\nsì forte fu l’affettüoso grido.\\r\\n\\r\\n«O animal grazïoso e benigno\\r\\nche visitando vai per l’aere perso\\r\\nnoi che tignemmo il mondo di sanguigno,\\r\\n\\r\\nse fosse amico il re de l’universo,\\r\\nnoi pregheremmo lui de la tua pace,\\r\\npoi c’hai pietà del nostro mal perverso.\\r\\n\\r\\nDi quel che udire e che parlar vi piace,\\r\\nnoi udiremo e parleremo a voi,\\r\\nmentre che ’l vento, come fa, ci tace.\\r\\n\\r\\nSiede la terra dove nata fui\\r\\nsu la marina dove ’l Po discende\\r\\nper aver pace co’ seguaci sui.\\r\\n\\r\\nAmor, ch’al cor gentil ratto s’apprende,\\r\\nprese costui de la bella persona\\r\\nche mi fu tolta; e ’l modo ancor m’offende.\\r\\n\\r\\nAmor, ch’a nullo amato amar perdona,\\r\\nmi prese del costui piacer sì forte,\\r\\nche, come vedi, ancor non m’abbandona.\\r\\n\\r\\nAmor condusse noi ad una morte.\\r\\nCaina attende chi a vita ci spense».\\r\\nQueste parole da lor ci fuor porte.\\r\\n\\r\\nQuand’ io intesi quell’ anime offense,\\r\\nchina’ il viso, e tanto il tenni basso,\\r\\nfin che ’l poeta mi disse: «Che pense?».\\r\\n\\r\\nQuando rispuosi, cominciai: «Oh lasso,\\r\\nquanti dolci pensier, quanto disio\\r\\nmenò costoro al doloroso passo!».\\r\\n\\r\\nPoi mi rivolsi a loro e parla’ io,\\r\\ne cominciai: «Francesca, i tuoi martìri\\r\\na lagrimar mi fanno tristo e pio.\\r\\n\\r\\nMa dimmi: al tempo d’i dolci sospiri,\\r\\na che e come concedette amore\\r\\nche conosceste i dubbiosi disiri?».\\r\\n\\r\\nE quella a me: «Nessun maggior dolore\\r\\nche ricordarsi del tempo felice\\r\\nnella miseria; e ciò sa ’l tuo dottore.\\r\\n\\r\\nMa s’a conoscer la prima radice\\r\\ndel nostro amor tu hai cotanto affetto,\\r\\ndirò come colui che piange e dice.\\r\\n\\r\\nNoi leggiavamo un giorno per diletto\\r\\ndi Lancialotto come amor lo strinse;\\r\\nsoli eravamo e sanza alcun sospetto.\\r\\n\\r\\nPer più fïate li occhi ci sospinse\\r\\nquella lettura, e scolorocci il viso;\\r\\nma solo un punto fu quel che ci vinse.\\r\\n\\r\\nQuando leggemmo il disïato riso\\r\\nesser basciato da cotanto amante,\\r\\nquesti, che mai da me non fia diviso,\\r\\n\\r\\nla bocca mi basciò tutto tremante.\\r\\nGaleotto fu ’l libro e chi lo scrisse:\\r\\nquel giorno più non vi leggemmo avante».\\r\\n\\r\\nMentre che l’uno spirto questo disse,\\r\\nl’altro piangëa; sì che di pietade\\r\\nio venni men così com’ io morisse.\\r\\n\\r\\nE caddi come corpo morto cade.\\r\\n\\r\\n\\r\\n\\r\\n\\r\\nInferno\\r\\nCanto VI\\r\\n\\r\\n\\r\\nAl tornar de la mente, che si chiuse\\r\\ndinanzi a la pietà d’i due cognati,\\r\\nche di trestizia tutto mi confuse,\\r\\n\\r\\nnovi tormenti e novi tormentati\\r\\nmi veggio intorno, come ch’io mi mova\\r\\ne ch’io mi volga, e come che io guati.\\r\\n\\r\\nIo sono al terzo cerchio, de la piova\\r\\netterna, maladetta, fredda e greve;\\r\\nregola e qualità mai non l’è nova.\\r\\n\\r\\nGrandine grossa, acqua tinta e neve\\r\\nper l’aere tenebroso si riversa;\\r\\npute la terra che questo riceve.\\r\\n\\r\\nCerbero, fiera crudele e diversa,\\r\\ncon tre gole caninamente latra\\r\\nsovra la gente che quivi è sommersa.\\r\\n\\r\\nLi occhi ha vermigli, la barba unta e atra,\\r\\ne ’l ventre largo, e unghiate le mani;\\r\\ngraffia li spirti ed iscoia ed isquatra.\\r\\n\\r\\nUrlar li fa la pioggia come cani;\\r\\nde l’un de’ lati fanno a l’altro schermo;\\r\\nvolgonsi spesso i miseri profani.\\r\\n\\r\\nQuando ci scorse Cerbero, il gran vermo,\\r\\nle bocche aperse e mostrocci le sanne;\\r\\nnon avea membro che tenesse fermo.\\r\\n\\r\\nE ’l duca mio distese le sue spanne,\\r\\nprese la terra, e con piene le pugna\\r\\nla gittò dentro a le bramose canne.\\r\\n\\r\\nQual è quel cane ch’abbaiando agogna,\\r\\ne si racqueta poi che ’l pasto morde,\\r\\nché solo a divorarlo intende e pugna,\\r\\n\\r\\ncotai si fecer quelle facce lorde\\r\\nde lo demonio Cerbero, che ’ntrona\\r\\nl’anime sì, ch’esser vorrebber sorde.\\r\\n\\r\\nNoi passavam su per l’ombre che adona\\r\\nla greve pioggia, e ponavam le piante\\r\\nsovra lor vanità che par persona.\\r\\n\\r\\nElle giacean per terra tutte quante,\\r\\nfuor d’una ch’a seder si levò, ratto\\r\\nch’ella ci vide passarsi davante.\\r\\n\\r\\n«O tu che se’ per questo ’nferno tratto»,\\r\\nmi disse, «riconoscimi, se sai:\\r\\ntu fosti, prima ch’io disfatto, fatto».\\r\\n\\r\\nE io a lui: «L’angoscia che tu hai\\r\\nforse ti tira fuor de la mia mente,\\r\\nsì che non par ch’i’ ti vedessi mai.\\r\\n\\r\\nMa dimmi chi tu se’ che ’n sì dolente\\r\\nloco se’ messo, e hai sì fatta pena,\\r\\nche, s’altra è maggio, nulla è sì spiacente».\\r\\n\\r\\nEd elli a me: «La tua città, ch’è piena\\r\\nd’invidia sì che già trabocca il sacco,\\r\\nseco mi tenne in la vita serena.\\r\\n\\r\\nVoi cittadini mi chiamaste Ciacco:\\r\\nper la dannosa colpa de la gola,\\r\\ncome tu vedi, a la pioggia mi fiacco.\\r\\n\\r\\nE io anima trista non son sola,\\r\\nché tutte queste a simil pena stanno\\r\\nper simil colpa». E più non fé parola.\\r\\n\\r\\nIo li rispuosi: «Ciacco, il tuo affanno\\r\\nmi pesa sì, ch’a lagrimar mi ’nvita;\\r\\nma dimmi, se tu sai, a che verranno\\r\\n\\r\\nli cittadin de la città partita;\\r\\ns’alcun v’è giusto; e dimmi la cagione\\r\\nper che l’ha tanta discordia assalita».\\r\\n\\r\\nE quelli a me: «Dopo lunga tencione\\r\\nverranno al sangue, e la parte selvaggia\\r\\ncaccerà l’altra con molta offensione.\\r\\n\\r\\nPoi appresso convien che questa caggia\\r\\ninfra tre soli, e che l’altra sormonti\\r\\ncon la forza di tal che testé piaggia.\\r\\n\\r\\nAlte terrà lungo tempo le fronti,\\r\\ntenendo l’altra sotto gravi pesi,\\r\\ncome che di ciò pianga o che n’aonti.\\r\\n\\r\\nGiusti son due, e non vi sono intesi;\\r\\nsuperbia, invidia e avarizia sono\\r\\nle tre faville c’hanno i cuori accesi».\\r\\n\\r\\nQui puose fine al lagrimabil suono.\\r\\nE io a lui: «Ancor vo’ che mi ’nsegni\\r\\ne che di più parlar mi facci dono.\\r\\n\\r\\nFarinata e ’l Tegghiaio, che fuor sì degni,\\r\\nIacopo Rusticucci, Arrigo e ’l Mosca\\r\\ne li altri ch’a ben far puoser li ’ngegni,\\r\\n\\r\\ndimmi ove sono e fa ch’io li conosca;\\r\\nché gran disio mi stringe di savere\\r\\nse ’l ciel li addolcia o lo ’nferno li attosca».\\r\\n\\r\\nE quelli: «Ei son tra l’anime più nere;\\r\\ndiverse colpe giù li grava al fondo:\\r\\nse tanto scendi, là i potrai vedere.\\r\\n\\r\\nMa quando tu sarai nel dolce mondo,\\r\\npriegoti ch’a la mente altrui mi rechi:\\r\\npiù non ti dico e più non ti rispondo».\\r\\n\\r\\nLi diritti occhi torse allora in biechi;\\r\\nguardommi un poco e poi chinò la testa:\\r\\ncadde con essa a par de li altri ciechi.\\r\\n\\r\\nE ’l duca disse a me: «Più non si desta\\r\\ndi qua dal suon de l’angelica tromba,\\r\\nquando verrà la nimica podesta:\\r\\n\\r\\nciascun rivederà la trista tomba,\\r\\nripiglierà sua carne e sua figura,\\r\\nudirà quel ch’in etterno rimbomba».\\r\\n\\r\\nSì trapassammo per sozza mistura\\r\\nde l’ombre e de la pioggia, a passi lenti,\\r\\ntoccando un poco la vita futura;\\r\\n\\r\\nper ch’io dissi: «Maestro, esti tormenti\\r\\ncrescerann’ ei dopo la gran sentenza,\\r\\no fier minori, o saran sì cocenti?».\\r\\n\\r\\nEd elli a me: «Ritorna a tua scïenza,\\r\\nche vuol, quanto la cosa è più perfetta,\\r\\npiù senta il bene, e così la doglienza.\\r\\n\\r\\nTutto che questa gente maladetta\\r\\nin vera perfezion già mai non vada,\\r\\ndi là più che di qua essere aspetta».\\r\\n\\r\\nNoi aggirammo a tondo quella strada,\\r\\nparlando più assai ch’i’ non ridico;\\r\\nvenimmo al punto dove si digrada:\\r\\n\\r\\nquivi trovammo Pluto, il gran nemico.\\r\\n\\r\\n\\r\\n\\r\\n\\r\\nInferno\\r\\nCanto VII\\r\\n\\r\\n\\r\\n«Pape Satàn, pape Satàn aleppe!»,\\r\\ncominciò Pluto con la voce chioccia;\\r\\ne quel savio gentil, che tutto seppe,\\r\\n\\r\\ndisse per confortarmi: «Non ti noccia\\r\\nla tua paura; ché, poder ch’elli abbia,\\r\\nnon ci torrà lo scender questa roccia».\\r\\n\\r\\nPoi si rivolse a quella ’nfiata labbia,\\r\\ne disse: «Taci, maladetto lupo!\\r\\nconsuma dentro te con la tua rabbia.\\r\\n\\r\\nNon è sanza cagion l’andare al cupo:\\r\\nvuolsi ne l’alto, là dove Michele\\r\\nfé la vendetta del superbo strupo».\\r\\n\\r\\nQuali dal vento le gonfiate vele\\r\\ncaggiono avvolte, poi che l’alber fiacca,\\r\\ntal cadde a terra la fiera crudele.\\r\\n\\r\\nCosì scendemmo ne la quarta lacca,\\r\\npigliando più de la dolente ripa\\r\\nche ’l mal de l’universo tutto insacca.\\r\\n\\r\\nAhi giustizia di Dio! tante chi stipa\\r\\nnove travaglie e pene quant’ io viddi?\\r\\ne perché nostra colpa sì ne scipa?\\r\\n\\r\\nCome fa l’onda là sovra Cariddi,\\r\\nche si frange con quella in cui s’intoppa,\\r\\ncosì convien che qui la gente riddi.\\r\\n\\r\\nQui vid’ i’ gente più ch’altrove troppa,\\r\\ne d’una parte e d’altra, con grand’ urli,\\r\\nvoltando pesi per forza di poppa.\\r\\n\\r\\nPercotëansi ’ncontro; e poscia pur lì\\r\\nsi rivolgea ciascun, voltando a retro,\\r\\ngridando: «Perché tieni?» e «Perché burli?».\\r\\n\\r\\nCosì tornavan per lo cerchio tetro\\r\\nda ogne mano a l’opposito punto,\\r\\ngridandosi anche loro ontoso metro;\\r\\n\\r\\npoi si volgea ciascun, quand’ era giunto,\\r\\nper lo suo mezzo cerchio a l’altra giostra.\\r\\nE io, ch’avea lo cor quasi compunto,\\r\\n\\r\\ndissi: «Maestro mio, or mi dimostra\\r\\nche gente è questa, e se tutti fuor cherci\\r\\nquesti chercuti a la sinistra nostra».\\r\\n\\r\\nEd elli a me: «Tutti quanti fuor guerci\\r\\nsì de la mente in la vita primaia,\\r\\nche con misura nullo spendio ferci.\\r\\n\\r\\nAssai la voce lor chiaro l’abbaia,\\r\\nquando vegnono a’ due punti del cerchio\\r\\ndove colpa contraria li dispaia.\\r\\n\\r\\nQuesti fuor cherci, che non han coperchio\\r\\npiloso al capo, e papi e cardinali,\\r\\nin cui usa avarizia il suo soperchio».\\r\\n\\r\\nE io: «Maestro, tra questi cotali\\r\\ndovre’ io ben riconoscere alcuni\\r\\nche furo immondi di cotesti mali».\\r\\n\\r\\nEd elli a me: «Vano pensiero aduni:\\r\\nla sconoscente vita che i fé sozzi,\\r\\nad ogne conoscenza or li fa bruni.\\r\\n\\r\\nIn etterno verranno a li due cozzi:\\r\\nquesti resurgeranno del sepulcro\\r\\ncol pugno chiuso, e questi coi crin mozzi.\\r\\n\\r\\nMal dare e mal tener lo mondo pulcro\\r\\nha tolto loro, e posti a questa zuffa:\\r\\nqual ella sia, parole non ci appulcro.\\r\\n\\r\\nOr puoi, figliuol, veder la corta buffa\\r\\nd’i ben che son commessi a la fortuna,\\r\\nper che l’umana gente si rabbuffa;\\r\\n\\r\\nché tutto l’oro ch’è sotto la luna\\r\\ne che già fu, di quest’ anime stanche\\r\\nnon poterebbe farne posare una».\\r\\n\\r\\n«Maestro mio», diss’ io, «or mi dì anche:\\r\\nquesta fortuna di che tu mi tocche,\\r\\nche è, che i ben del mondo ha sì tra branche?».\\r\\n\\r\\nE quelli a me: «Oh creature sciocche,\\r\\nquanta ignoranza è quella che v’offende!\\r\\nOr vo’ che tu mia sentenza ne ’mbocche.\\r\\n\\r\\nColui lo cui saver tutto trascende,\\r\\nfece li cieli e diè lor chi conduce\\r\\nsì, ch’ogne parte ad ogne parte splende,\\r\\n\\r\\ndistribuendo igualmente la luce.\\r\\nSimilemente a li splendor mondani\\r\\nordinò general ministra e duce\\r\\n\\r\\nche permutasse a tempo li ben vani\\r\\ndi gente in gente e d’uno in altro sangue,\\r\\noltre la difension d’i senni umani;\\r\\n\\r\\nper ch’una gente impera e l’altra langue,\\r\\nseguendo lo giudicio di costei,\\r\\nche è occulto come in erba l’angue.\\r\\n\\r\\nVostro saver non ha contasto a lei:\\r\\nquesta provede, giudica, e persegue\\r\\nsuo regno come il loro li altri dèi.\\r\\n\\r\\nLe sue permutazion non hanno triegue:\\r\\nnecessità la fa esser veloce;\\r\\nsì spesso vien chi vicenda consegue.\\r\\n\\r\\nQuest’ è colei ch’è tanto posta in croce\\r\\npur da color che le dovrien dar lode,\\r\\ndandole biasmo a torto e mala voce;\\r\\n\\r\\nma ella s’è beata e ciò non ode:\\r\\ncon l’altre prime creature lieta\\r\\nvolve sua spera e beata si gode.\\r\\n\\r\\nOr discendiamo omai a maggior pieta;\\r\\ngià ogne stella cade che saliva\\r\\nquand’ io mi mossi, e ’l troppo star si vieta».\\r\\n\\r\\nNoi ricidemmo il cerchio a l’altra riva\\r\\nsovr’ una fonte che bolle e riversa\\r\\nper un fossato che da lei deriva.\\r\\n\\r\\nL’acqua era buia assai più che persa;\\r\\ne noi, in compagnia de l’onde bige,\\r\\nintrammo giù per una via diversa.\\r\\n\\r\\nIn la palude va c’ha nome Stige\\r\\nquesto tristo ruscel, quand’ è disceso\\r\\nal piè de le maligne piagge grige.\\r\\n\\r\\nE io, che di mirare stava inteso,\\r\\nvidi genti fangose in quel pantano,\\r\\nignude tutte, con sembiante offeso.\\r\\n\\r\\nQueste si percotean non pur con mano,\\r\\nma con la testa e col petto e coi piedi,\\r\\ntroncandosi co’ denti a brano a brano.\\r\\n\\r\\nLo buon maestro disse: «Figlio, or vedi\\r\\nl’anime di color cui vinse l’ira;\\r\\ne anche vo’ che tu per certo credi\\r\\n\\r\\nche sotto l’acqua è gente che sospira,\\r\\ne fanno pullular quest’ acqua al summo,\\r\\ncome l’occhio ti dice, u’ che s’aggira.\\r\\n\\r\\nFitti nel limo dicon: “Tristi fummo\\r\\nne l’aere dolce che dal sol s’allegra,\\r\\nportando dentro accidïoso fummo:\\r\\n\\r\\nor ci attristiam ne la belletta negra”.\\r\\nQuest’ inno si gorgoglian ne la strozza,\\r\\nché dir nol posson con parola integra».\\r\\n\\r\\nCosì girammo de la lorda pozza\\r\\ngrand’ arco tra la ripa secca e ’l mézzo,\\r\\ncon li occhi vòlti a chi del fango ingozza.\\r\\n\\r\\nVenimmo al piè d’una torre al da sezzo.\\r\\n\\r\\n\\r\\n\\r\\n\\r\\nInferno\\r\\nCanto VIII\\r\\n\\r\\n\\r\\nIo dico, seguitando, ch’assai prima\\r\\nche noi fossimo al piè de l’alta torre,\\r\\nli occhi nostri n’andar suso a la cima\\r\\n\\r\\nper due fiammette che i vedemmo porre,\\r\\ne un’altra da lungi render cenno,\\r\\ntanto ch’a pena il potea l’occhio tòrre.\\r\\n\\r\\nE io mi volsi al mar di tutto ’l senno;\\r\\ndissi: «Questo che dice? e che risponde\\r\\nquell’ altro foco? e chi son quei che ’l fenno?».\\r\\n\\r\\nEd elli a me: «Su per le sucide onde\\r\\ngià scorgere puoi quello che s’aspetta,\\r\\nse ’l fummo del pantan nol ti nasconde».\\r\\n\\r\\nCorda non pinse mai da sé saetta\\r\\nche sì corresse via per l’aere snella,\\r\\ncom’ io vidi una nave piccioletta\\r\\n\\r\\nvenir per l’acqua verso noi in quella,\\r\\nsotto ’l governo d’un sol galeoto,\\r\\nche gridava: «Or se’ giunta, anima fella!».\\r\\n\\r\\n«Flegïàs, Flegïàs, tu gridi a vòto»,\\r\\ndisse lo mio segnore, «a questa volta:\\r\\npiù non ci avrai che sol passando il loto».\\r\\n\\r\\nQual è colui che grande inganno ascolta\\r\\nche li sia fatto, e poi se ne rammarca,\\r\\nfecesi Flegïàs ne l’ira accolta.\\r\\n\\r\\nLo duca mio discese ne la barca,\\r\\ne poi mi fece intrare appresso lui;\\r\\ne sol quand’ io fui dentro parve carca.\\r\\n\\r\\nTosto che ’l duca e io nel legno fui,\\r\\nsegando se ne va l’antica prora\\r\\nde l’acqua più che non suol con altrui.\\r\\n\\r\\nMentre noi corravam la morta gora,\\r\\ndinanzi mi si fece un pien di fango,\\r\\ne disse: «Chi se’ tu che vieni anzi ora?».\\r\\n\\r\\nE io a lui: «S’i’ vegno, non rimango;\\r\\nma tu chi se’, che sì se’ fatto brutto?».\\r\\nRispuose: «Vedi che son un che piango».\\r\\n\\r\\nE io a lui: «Con piangere e con lutto,\\r\\nspirito maladetto, ti rimani;\\r\\nch’i’ ti conosco, ancor sie lordo tutto».\\r\\n\\r\\nAllor distese al legno ambo le mani;\\r\\nper che ’l maestro accorto lo sospinse,\\r\\ndicendo: «Via costà con li altri cani!».\\r\\n\\r\\nLo collo poi con le braccia mi cinse;\\r\\nbasciommi ’l volto e disse: «Alma sdegnosa,\\r\\nbenedetta colei che ’n te s’incinse!\\r\\n\\r\\nQuei fu al mondo persona orgogliosa;\\r\\nbontà non è che sua memoria fregi:\\r\\ncosì s’è l’ombra sua qui furïosa.\\r\\n\\r\\nQuanti si tegnon or là sù gran regi\\r\\nche qui staranno come porci in brago,\\r\\ndi sé lasciando orribili dispregi!».\\r\\n\\r\\nE io: «Maestro, molto sarei vago\\r\\ndi vederlo attuffare in questa broda\\r\\nprima che noi uscissimo del lago».\\r\\n\\r\\nEd elli a me: «Avante che la proda\\r\\nti si lasci veder, tu sarai sazio:\\r\\ndi tal disïo convien che tu goda».\\r\\n\\r\\nDopo ciò poco vid’ io quello strazio\\r\\nfar di costui a le fangose genti,\\r\\nche Dio ancor ne lodo e ne ringrazio.\\r\\n\\r\\nTutti gridavano: «A Filippo Argenti!»;\\r\\ne ’l fiorentino spirito bizzarro\\r\\nin sé medesmo si volvea co’ denti.\\r\\n\\r\\nQuivi il lasciammo, che più non ne narro;\\r\\nma ne l’orecchie mi percosse un duolo,\\r\\nper ch’io avante l’occhio intento sbarro.\\r\\n\\r\\nLo buon maestro disse: «Omai, figliuolo,\\r\\ns’appressa la città c’ha nome Dite,\\r\\ncoi gravi cittadin, col grande stuolo».\\r\\n\\r\\nE io: «Maestro, già le sue meschite\\r\\nlà entro certe ne la valle cerno,\\r\\nvermiglie come se di foco uscite\\r\\n\\r\\nfossero». Ed ei mi disse: «Il foco etterno\\r\\nch’entro l’affoca le dimostra rosse,\\r\\ncome tu vedi in questo basso inferno».\\r\\n\\r\\nNoi pur giugnemmo dentro a l’alte fosse\\r\\nche vallan quella terra sconsolata:\\r\\nle mura mi parean che ferro fosse.\\r\\n\\r\\nNon sanza prima far grande aggirata,\\r\\nvenimmo in parte dove il nocchier forte\\r\\n«Usciteci», gridò: «qui è l’intrata».\\r\\n\\r\\nIo vidi più di mille in su le porte\\r\\nda ciel piovuti, che stizzosamente\\r\\ndicean: «Chi è costui che sanza morte\\r\\n\\r\\nva per lo regno de la morta gente?».\\r\\nE ’l savio mio maestro fece segno\\r\\ndi voler lor parlar segretamente.\\r\\n\\r\\nAllor chiusero un poco il gran disdegno\\r\\ne disser: «Vien tu solo, e quei sen vada\\r\\nche sì ardito intrò per questo regno.\\r\\n\\r\\nSol si ritorni per la folle strada:\\r\\npruovi, se sa; ché tu qui rimarrai,\\r\\nche li ha’ iscorta sì buia contrada».\\r\\n\\r\\nPensa, lettor, se io mi sconfortai\\r\\nnel suon de le parole maladette,\\r\\nché non credetti ritornarci mai.\\r\\n\\r\\n«O caro duca mio, che più di sette\\r\\nvolte m’hai sicurtà renduta e tratto\\r\\nd’alto periglio che ’ncontra mi stette,\\r\\n\\r\\nnon mi lasciar», diss’ io, «così disfatto;\\r\\ne se ’l passar più oltre ci è negato,\\r\\nritroviam l’orme nostre insieme ratto».\\r\\n\\r\\nE quel segnor che lì m’avea menato,\\r\\nmi disse: «Non temer; ché ’l nostro passo\\r\\nnon ci può tòrre alcun: da tal n’è dato.\\r\\n\\r\\nMa qui m’attendi, e lo spirito lasso\\r\\nconforta e ciba di speranza buona,\\r\\nch’i’ non ti lascerò nel mondo basso».\\r\\n\\r\\nCosì sen va, e quivi m’abbandona\\r\\nlo dolce padre, e io rimagno in forse,\\r\\nche sì e no nel capo mi tenciona.\\r\\n\\r\\nUdir non potti quello ch’a lor porse;\\r\\nma ei non stette là con essi guari,\\r\\nche ciascun dentro a pruova si ricorse.\\r\\n\\r\\nChiuser le porte que’ nostri avversari\\r\\nnel petto al mio segnor, che fuor rimase\\r\\ne rivolsesi a me con passi rari.\\r\\n\\r\\nLi occhi a la terra e le ciglia avea rase\\r\\nd’ogne baldanza, e dicea ne’ sospiri:\\r\\n«Chi m’ha negate le dolenti case!».\\r\\n\\r\\nE a me disse: «Tu, perch’ io m’adiri,\\r\\nnon sbigottir, ch’io vincerò la prova,\\r\\nqual ch’a la difension dentro s’aggiri.\\r\\n\\r\\nQuesta lor tracotanza non è nova;\\r\\nché già l’usaro a men segreta porta,\\r\\nla qual sanza serrame ancor si trova.\\r\\n\\r\\nSovr’ essa vedestù la scritta morta:\\r\\ne già di qua da lei discende l’erta,\\r\\npassando per li cerchi sanza scorta,\\r\\n\\r\\ntal che per lui ne fia la terra aperta».\\r\\n\\r\\n\\r\\n\\r\\n\\r\\nInferno\\r\\nCanto IX\\r\\n\\r\\n\\r\\nQuel color che viltà di fuor mi pinse\\r\\nveggendo il duca mio tornare in volta,\\r\\npiù tosto dentro il suo novo ristrinse.\\r\\n\\r\\nAttento si fermò com’ uom ch’ascolta;\\r\\nché l’occhio nol potea menare a lunga\\r\\nper l’aere nero e per la nebbia folta.\\r\\n\\r\\n«Pur a noi converrà vincer la punga»,\\r\\ncominciò el, «se non . . . Tal ne s’offerse.\\r\\nOh quanto tarda a me ch’altri qui giunga!».\\r\\n\\r\\nI’ vidi ben sì com’ ei ricoperse\\r\\nlo cominciar con l’altro che poi venne,\\r\\nche fur parole a le prime diverse;\\r\\n\\r\\nma nondimen paura il suo dir dienne,\\r\\nperch’ io traeva la parola tronca\\r\\nforse a peggior sentenzia che non tenne.\\r\\n\\r\\n«In questo fondo de la trista conca\\r\\ndiscende mai alcun del primo grado,\\r\\nche sol per pena ha la speranza cionca?».\\r\\n\\r\\nQuesta question fec’ io; e quei «Di rado\\r\\nincontra», mi rispuose, «che di noi\\r\\nfaccia il cammino alcun per qual io vado.\\r\\n\\r\\nVer è ch’altra fïata qua giù fui,\\r\\ncongiurato da quella Eritón cruda\\r\\nche richiamava l’ombre a’ corpi sui.\\r\\n\\r\\nDi poco era di me la carne nuda,\\r\\nch’ella mi fece intrar dentr’ a quel muro,\\r\\nper trarne un spirto del cerchio di Giuda.\\r\\n\\r\\nQuell’ è ’l più basso loco e ’l più oscuro,\\r\\ne ’l più lontan dal ciel che tutto gira:\\r\\nben so ’l cammin; però ti fa sicuro.\\r\\n\\r\\nQuesta palude che ’l gran puzzo spira\\r\\ncigne dintorno la città dolente,\\r\\nu’ non potemo intrare omai sanz’ ira».\\r\\n\\r\\nE altro disse, ma non l’ho a mente;\\r\\nperò che l’occhio m’avea tutto tratto\\r\\nver’ l’alta torre a la cima rovente,\\r\\n\\r\\ndove in un punto furon dritte ratto\\r\\ntre furïe infernal di sangue tinte,\\r\\nche membra feminine avieno e atto,\\r\\n\\r\\ne con idre verdissime eran cinte;\\r\\nserpentelli e ceraste avien per crine,\\r\\nonde le fiere tempie erano avvinte.\\r\\n\\r\\nE quei, che ben conobbe le meschine\\r\\nde la regina de l’etterno pianto,\\r\\n«Guarda», mi disse, «le feroci Erine.\\r\\n\\r\\nQuest’ è Megera dal sinistro canto;\\r\\nquella che piange dal destro è Aletto;\\r\\nTesifón è nel mezzo»; e tacque a tanto.\\r\\n\\r\\nCon l’unghie si fendea ciascuna il petto;\\r\\nbattiensi a palme e gridavan sì alto,\\r\\nch’i’ mi strinsi al poeta per sospetto.\\r\\n\\r\\n«Vegna Medusa: sì ’l farem di smalto»,\\r\\ndicevan tutte riguardando in giuso;\\r\\n«mal non vengiammo in Tesëo l’assalto».\\r\\n\\r\\n«Volgiti ’n dietro e tien lo viso chiuso;\\r\\nché se ’l Gorgón si mostra e tu ’l vedessi,\\r\\nnulla sarebbe di tornar mai suso».\\r\\n\\r\\nCosì disse ’l maestro; ed elli stessi\\r\\nmi volse, e non si tenne a le mie mani,\\r\\nche con le sue ancor non mi chiudessi.\\r\\n\\r\\nO voi ch’avete li ’ntelletti sani,\\r\\nmirate la dottrina che s’asconde\\r\\nsotto ’l velame de li versi strani.\\r\\n\\r\\nE già venìa su per le torbide onde\\r\\nun fracasso d’un suon, pien di spavento,\\r\\nper cui tremavano amendue le sponde,\\r\\n\\r\\nnon altrimenti fatto che d’un vento\\r\\nimpetüoso per li avversi ardori,\\r\\nche fier la selva e sanz’ alcun rattento\\r\\n\\r\\nli rami schianta, abbatte e porta fori;\\r\\ndinanzi polveroso va superbo,\\r\\ne fa fuggir le fiere e li pastori.\\r\\n\\r\\nLi occhi mi sciolse e disse: «Or drizza il nerbo\\r\\ndel viso su per quella schiuma antica\\r\\nper indi ove quel fummo è più acerbo».\\r\\n\\r\\nCome le rane innanzi a la nimica\\r\\nbiscia per l’acqua si dileguan tutte,\\r\\nfin ch’a la terra ciascuna s’abbica,\\r\\n\\r\\nvid’ io più di mille anime distrutte\\r\\nfuggir così dinanzi ad un ch’al passo\\r\\npassava Stige con le piante asciutte.\\r\\n\\r\\nDal volto rimovea quell’ aere grasso,\\r\\nmenando la sinistra innanzi spesso;\\r\\ne sol di quell’ angoscia parea lasso.\\r\\n\\r\\nBen m’accorsi ch’elli era da ciel messo,\\r\\ne volsimi al maestro; e quei fé segno\\r\\nch’i’ stessi queto ed inchinassi ad esso.\\r\\n\\r\\nAhi quanto mi parea pien di disdegno!\\r\\nVenne a la porta e con una verghetta\\r\\nl’aperse, che non v’ebbe alcun ritegno.\\r\\n\\r\\n«O cacciati del ciel, gente dispetta»,\\r\\ncominciò elli in su l’orribil soglia,\\r\\n«ond’ esta oltracotanza in voi s’alletta?\\r\\n\\r\\nPerché recalcitrate a quella voglia\\r\\na cui non puote il fin mai esser mozzo,\\r\\ne che più volte v’ha cresciuta doglia?\\r\\n\\r\\nChe giova ne le fata dar di cozzo?\\r\\nCerbero vostro, se ben vi ricorda,\\r\\nne porta ancor pelato il mento e ’l gozzo».\\r\\n\\r\\nPoi si rivolse per la strada lorda,\\r\\ne non fé motto a noi, ma fé sembiante\\r\\nd’omo cui altra cura stringa e morda\\r\\n\\r\\nche quella di colui che li è davante;\\r\\ne noi movemmo i piedi inver’ la terra,\\r\\nsicuri appresso le parole sante.\\r\\n\\r\\nDentro li ’ntrammo sanz’ alcuna guerra;\\r\\ne io, ch’avea di riguardar disio\\r\\nla condizion che tal fortezza serra,\\r\\n\\r\\ncom’ io fui dentro, l’occhio intorno invio:\\r\\ne veggio ad ogne man grande campagna,\\r\\npiena di duolo e di tormento rio.\\r\\n\\r\\nSì come ad Arli, ove Rodano stagna,\\r\\nsì com’ a Pola, presso del Carnaro\\r\\nch’Italia chiude e suoi termini bagna,\\r\\n\\r\\nfanno i sepulcri tutt’ il loco varo,\\r\\ncosì facevan quivi d’ogne parte,\\r\\nsalvo che ’l modo v’era più amaro;\\r\\n\\r\\nché tra li avelli fiamme erano sparte,\\r\\nper le quali eran sì del tutto accesi,\\r\\nche ferro più non chiede verun’ arte.\\r\\n\\r\\nTutti li lor coperchi eran sospesi,\\r\\ne fuor n’uscivan sì duri lamenti,\\r\\nche ben parean di miseri e d’offesi.\\r\\n\\r\\nE io: «Maestro, quai son quelle genti\\r\\nche, seppellite dentro da quell’ arche,\\r\\nsi fan sentir coi sospiri dolenti?».\\r\\n\\r\\nE quelli a me: «Qui son li eresïarche\\r\\ncon lor seguaci, d’ogne setta, e molto\\r\\npiù che non credi son le tombe carche.\\r\\n\\r\\nSimile qui con simile è sepolto,\\r\\ne i monimenti son più e men caldi».\\r\\nE poi ch’a la man destra si fu vòlto,\\r\\n\\r\\npassammo tra i martìri e li alti spaldi.\\r\\n\\r\\n\\r\\n\\r\\n\\r\\nInferno\\r\\nCanto X\\r\\n\\r\\n\\r\\nOra sen va per un secreto calle,\\r\\ntra ’l muro de la terra e li martìri,\\r\\nlo mio maestro, e io dopo le spalle.\\r\\n\\r\\n«O virtù somma, che per li empi giri\\r\\nmi volvi», cominciai, «com’ a te piace,\\r\\nparlami, e sodisfammi a’ miei disiri.\\r\\n\\r\\nLa gente che per li sepolcri giace\\r\\npotrebbesi veder? già son levati\\r\\ntutt’ i coperchi, e nessun guardia face».\\r\\n\\r\\nE quelli a me: «Tutti saran serrati\\r\\nquando di Iosafàt qui torneranno\\r\\ncoi corpi che là sù hanno lasciati.\\r\\n\\r\\nSuo cimitero da questa parte hanno\\r\\ncon Epicuro tutti suoi seguaci,\\r\\nche l’anima col corpo morta fanno.\\r\\n\\r\\nPerò a la dimanda che mi faci\\r\\nquinc’ entro satisfatto sarà tosto,\\r\\ne al disio ancor che tu mi taci».\\r\\n\\r\\nE io: «Buon duca, non tegno riposto\\r\\na te mio cuor se non per dicer poco,\\r\\ne tu m’hai non pur mo a ciò disposto».\\r\\n\\r\\n«O Tosco che per la città del foco\\r\\nvivo ten vai così parlando onesto,\\r\\npiacciati di restare in questo loco.\\r\\n\\r\\nLa tua loquela ti fa manifesto\\r\\ndi quella nobil patrïa natio,\\r\\na la qual forse fui troppo molesto».\\r\\n\\r\\nSubitamente questo suono uscìo\\r\\nd’una de l’arche; però m’accostai,\\r\\ntemendo, un poco più al duca mio.\\r\\n\\r\\nEd el mi disse: «Volgiti! Che fai?\\r\\nVedi là Farinata che s’è dritto:\\r\\nda la cintola in sù tutto ’l vedrai».\\r\\n\\r\\nIo avea già il mio viso nel suo fitto;\\r\\ned el s’ergea col petto e con la fronte\\r\\ncom’ avesse l’inferno a gran dispitto.\\r\\n\\r\\nE l’animose man del duca e pronte\\r\\nmi pinser tra le sepulture a lui,\\r\\ndicendo: «Le parole tue sien conte».\\r\\n\\r\\nCom’ io al piè de la sua tomba fui,\\r\\nguardommi un poco, e poi, quasi sdegnoso,\\r\\nmi dimandò: «Chi fuor li maggior tui?».\\r\\n\\r\\nIo ch’era d’ubidir disideroso,\\r\\nnon gliel celai, ma tutto gliel’ apersi;\\r\\nond’ ei levò le ciglia un poco in suso;\\r\\n\\r\\npoi disse: «Fieramente furo avversi\\r\\na me e a miei primi e a mia parte,\\r\\nsì che per due fïate li dispersi».\\r\\n\\r\\n«S’ei fur cacciati, ei tornar d’ogne parte»,\\r\\nrispuos’ io lui, «l’una e l’altra fïata;\\r\\nma i vostri non appreser ben quell’ arte».\\r\\n\\r\\nAllor surse a la vista scoperchiata\\r\\nun’ombra, lungo questa, infino al mento:\\r\\ncredo che s’era in ginocchie levata.\\r\\n\\r\\nDintorno mi guardò, come talento\\r\\navesse di veder s’altri era meco;\\r\\ne poi che ’l sospecciar fu tutto spento,\\r\\n\\r\\npiangendo disse: «Se per questo cieco\\r\\ncarcere vai per altezza d’ingegno,\\r\\nmio figlio ov’ è? e perché non è teco?».\\r\\n\\r\\nE io a lui: «Da me stesso non vegno:\\r\\ncolui ch’attende là, per qui mi mena\\r\\nforse cui Guido vostro ebbe a disdegno».\\r\\n\\r\\nLe sue parole e ’l modo de la pena\\r\\nm’avean di costui già letto il nome;\\r\\nperò fu la risposta così piena.\\r\\n\\r\\nDi sùbito drizzato gridò: «Come?\\r\\ndicesti “elli ebbe”? non viv’ elli ancora?\\r\\nnon fiere li occhi suoi lo dolce lume?».\\r\\n\\r\\nQuando s’accorse d’alcuna dimora\\r\\nch’io facëa dinanzi a la risposta,\\r\\nsupin ricadde e più non parve fora.\\r\\n\\r\\nMa quell’ altro magnanimo, a cui posta\\r\\nrestato m’era, non mutò aspetto,\\r\\nné mosse collo, né piegò sua costa;\\r\\n\\r\\ne sé continüando al primo detto,\\r\\n«S’elli han quell’ arte», disse, «male appresa,\\r\\nciò mi tormenta più che questo letto.\\r\\n\\r\\nMa non cinquanta volte fia raccesa\\r\\nla faccia de la donna che qui regge,\\r\\nche tu saprai quanto quell’ arte pesa.\\r\\n\\r\\nE se tu mai nel dolce mondo regge,\\r\\ndimmi: perché quel popolo è sì empio\\r\\nincontr’ a’ miei in ciascuna sua legge?».\\r\\n\\r\\nOnd’ io a lui: «Lo strazio e ’l grande scempio\\r\\nche fece l’Arbia colorata in rosso,\\r\\ntal orazion fa far nel nostro tempio».\\r\\n\\r\\nPoi ch’ebbe sospirando il capo mosso,\\r\\n«A ciò non fu’ io sol», disse, «né certo\\r\\nsanza cagion con li altri sarei mosso.\\r\\n\\r\\nMa fu’ io solo, là dove sofferto\\r\\nfu per ciascun di tòrre via Fiorenza,\\r\\ncolui che la difesi a viso aperto».\\r\\n\\r\\n«Deh, se riposi mai vostra semenza»,\\r\\nprega’ io lui, «solvetemi quel nodo\\r\\nche qui ha ’nviluppata mia sentenza.\\r\\n\\r\\nEl par che voi veggiate, se ben odo,\\r\\ndinanzi quel che ’l tempo seco adduce,\\r\\ne nel presente tenete altro modo».\\r\\n\\r\\n«Noi veggiam, come quei c’ha mala luce,\\r\\nle cose», disse, «che ne son lontano;\\r\\ncotanto ancor ne splende il sommo duce.\\r\\n\\r\\nQuando s’appressano o son, tutto è vano\\r\\nnostro intelletto; e s’altri non ci apporta,\\r\\nnulla sapem di vostro stato umano.\\r\\n\\r\\nPerò comprender puoi che tutta morta\\r\\nfia nostra conoscenza da quel punto\\r\\nche del futuro fia chiusa la porta».\\r\\n\\r\\nAllor, come di mia colpa compunto,\\r\\ndissi: «Or direte dunque a quel caduto\\r\\nche ’l suo nato è co’ vivi ancor congiunto;\\r\\n\\r\\ne s’i’ fui, dianzi, a la risposta muto,\\r\\nfate i saper che ’l fei perché pensava\\r\\ngià ne l’error che m’avete soluto».\\r\\n\\r\\nE già ’l maestro mio mi richiamava;\\r\\nper ch’i’ pregai lo spirto più avaccio\\r\\nche mi dicesse chi con lu’ istava.\\r\\n\\r\\nDissemi: «Qui con più di mille giaccio:\\r\\nqua dentro è ’l secondo Federico\\r\\ne ’l Cardinale; e de li altri mi taccio».\\r\\n\\r\\nIndi s’ascose; e io inver’ l’antico\\r\\npoeta volsi i passi, ripensando\\r\\na quel parlar che mi parea nemico.\\r\\n\\r\\nElli si mosse; e poi, così andando,\\r\\nmi disse: «Perché se’ tu sì smarrito?».\\r\\nE io li sodisfeci al suo dimando.\\r\\n\\r\\n«La mente tua conservi quel ch’udito\\r\\nhai contra te», mi comandò quel saggio;\\r\\n«e ora attendi qui», e drizzò ’l dito:\\r\\n\\r\\n«quando sarai dinanzi al dolce raggio\\r\\ndi quella il cui bell’ occhio tutto vede,\\r\\nda lei saprai di tua vita il vïaggio».\\r\\n\\r\\nAppresso mosse a man sinistra il piede:\\r\\nlasciammo il muro e gimmo inver’ lo mezzo\\r\\nper un sentier ch’a una valle fiede,\\r\\n\\r\\nche ’nfin là sù facea spiacer suo lezzo.\\r\\n\\r\\n\\r\\n\\r\\n\\r\\nInferno\\r\\nCanto XI\\r\\n\\r\\n\\r\\nIn su l’estremità d’un’alta ripa\\r\\nche facevan gran pietre rotte in cerchio,\\r\\nvenimmo sopra più crudele stipa;\\r\\n\\r\\ne quivi, per l’orribile soperchio\\r\\ndel puzzo che ’l profondo abisso gitta,\\r\\nci raccostammo, in dietro, ad un coperchio\\r\\n\\r\\nd’un grand’ avello, ov’ io vidi una scritta\\r\\nche dicea: ‘Anastasio papa guardo,\\r\\nlo qual trasse Fotin de la via dritta’.\\r\\n\\r\\n«Lo nostro scender conviene esser tardo,\\r\\nsì che s’ausi un poco in prima il senso\\r\\nal tristo fiato; e poi no i fia riguardo».\\r\\n\\r\\nCosì ’l maestro; e io «Alcun compenso»,\\r\\ndissi lui, «trova che ’l tempo non passi\\r\\nperduto». Ed elli: «Vedi ch’a ciò penso».\\r\\n\\r\\n«Figliuol mio, dentro da cotesti sassi»,\\r\\ncominciò poi a dir, «son tre cerchietti\\r\\ndi grado in grado, come que’ che lassi.\\r\\n\\r\\nTutti son pien di spirti maladetti;\\r\\nma perché poi ti basti pur la vista,\\r\\nintendi come e perché son costretti.\\r\\n\\r\\nD’ogne malizia, ch’odio in cielo acquista,\\r\\ningiuria è ’l fine, ed ogne fin cotale\\r\\no con forza o con frode altrui contrista.\\r\\n\\r\\nMa perché frode è de l’uom proprio male,\\r\\npiù spiace a Dio; e però stan di sotto\\r\\nli frodolenti, e più dolor li assale.\\r\\n\\r\\nDi vïolenti il primo cerchio è tutto;\\r\\nma perché si fa forza a tre persone,\\r\\nin tre gironi è distinto e costrutto.\\r\\n\\r\\nA Dio, a sé, al prossimo si pòne\\r\\nfar forza, dico in loro e in lor cose,\\r\\ncome udirai con aperta ragione.\\r\\n\\r\\nMorte per forza e ferute dogliose\\r\\nnel prossimo si danno, e nel suo avere\\r\\nruine, incendi e tollette dannose;\\r\\n\\r\\nonde omicide e ciascun che mal fiere,\\r\\nguastatori e predon, tutti tormenta\\r\\nlo giron primo per diverse schiere.\\r\\n\\r\\nPuote omo avere in sé man vïolenta\\r\\ne ne’ suoi beni; e però nel secondo\\r\\ngiron convien che sanza pro si penta\\r\\n\\r\\nqualunque priva sé del vostro mondo,\\r\\nbiscazza e fonde la sua facultade,\\r\\ne piange là dov’ esser de’ giocondo.\\r\\n\\r\\nPuossi far forza ne la deïtade,\\r\\ncol cor negando e bestemmiando quella,\\r\\ne spregiando natura e sua bontade;\\r\\n\\r\\ne però lo minor giron suggella\\r\\ndel segno suo e Soddoma e Caorsa\\r\\ne chi, spregiando Dio col cor, favella.\\r\\n\\r\\nLa frode, ond’ ogne coscïenza è morsa,\\r\\npuò l’omo usare in colui che ’n lui fida\\r\\ne in quel che fidanza non imborsa.\\r\\n\\r\\nQuesto modo di retro par ch’incida\\r\\npur lo vinco d’amor che fa natura;\\r\\nonde nel cerchio secondo s’annida\\r\\n\\r\\nipocresia, lusinghe e chi affattura,\\r\\nfalsità, ladroneccio e simonia,\\r\\nruffian, baratti e simile lordura.\\r\\n\\r\\nPer l’altro modo quell’ amor s’oblia\\r\\nche fa natura, e quel ch’è poi aggiunto,\\r\\ndi che la fede spezïal si cria;\\r\\n\\r\\nonde nel cerchio minore, ov’ è ’l punto\\r\\nde l’universo in su che Dite siede,\\r\\nqualunque trade in etterno è consunto».\\r\\n\\r\\nE io: «Maestro, assai chiara procede\\r\\nla tua ragione, e assai ben distingue\\r\\nquesto baràtro e ’l popol ch’e’ possiede.\\r\\n\\r\\nMa dimmi: quei de la palude pingue,\\r\\nche mena il vento, e che batte la pioggia,\\r\\ne che s’incontran con sì aspre lingue,\\r\\n\\r\\nperché non dentro da la città roggia\\r\\nsono ei puniti, se Dio li ha in ira?\\r\\ne se non li ha, perché sono a tal foggia?».\\r\\n\\r\\nEd elli a me «Perché tanto delira»,\\r\\ndisse, «lo ’ngegno tuo da quel che sòle?\\r\\no ver la mente dove altrove mira?\\r\\n\\r\\nNon ti rimembra di quelle parole\\r\\ncon le quai la tua Etica pertratta\\r\\nle tre disposizion che ’l ciel non vole,\\r\\n\\r\\nincontenenza, malizia e la matta\\r\\nbestialitade? e come incontenenza\\r\\nmen Dio offende e men biasimo accatta?\\r\\n\\r\\nSe tu riguardi ben questa sentenza,\\r\\ne rechiti a la mente chi son quelli\\r\\nche sù di fuor sostegnon penitenza,\\r\\n\\r\\ntu vedrai ben perché da questi felli\\r\\nsien dipartiti, e perché men crucciata\\r\\nla divina vendetta li martelli».\\r\\n\\r\\n«O sol che sani ogne vista turbata,\\r\\ntu mi contenti sì quando tu solvi,\\r\\nche, non men che saver, dubbiar m’aggrata.\\r\\n\\r\\nAncora in dietro un poco ti rivolvi»,\\r\\ndiss’ io, «là dove di’ ch’usura offende\\r\\nla divina bontade, e ’l groppo solvi».\\r\\n\\r\\n«Filosofia», mi disse, «a chi la ’ntende,\\r\\nnota, non pure in una sola parte,\\r\\ncome natura lo suo corso prende\\r\\n\\r\\ndal divino ’ntelletto e da sua arte;\\r\\ne se tu ben la tua Fisica note,\\r\\ntu troverai, non dopo molte carte,\\r\\n\\r\\nche l’arte vostra quella, quanto pote,\\r\\nsegue, come ’l maestro fa ’l discente;\\r\\nsì che vostr’ arte a Dio quasi è nepote.\\r\\n\\r\\nDa queste due, se tu ti rechi a mente\\r\\nlo Genesì dal principio, convene\\r\\nprender sua vita e avanzar la gente;\\r\\n\\r\\ne perché l’usuriere altra via tene,\\r\\nper sé natura e per la sua seguace\\r\\ndispregia, poi ch’in altro pon la spene.\\r\\n\\r\\nMa seguimi oramai che ’l gir mi piace;\\r\\nché i Pesci guizzan su per l’orizzonta,\\r\\ne ’l Carro tutto sovra ’l Coro giace,\\r\\n\\r\\ne ’l balzo via là oltra si dismonta».\\r\\n\\r\\n\\r\\n\\r\\n\\r\\nInferno\\r\\nCanto XII\\r\\n\\r\\n\\r\\nEra lo loco ov’ a scender la riva\\r\\nvenimmo, alpestro e, per quel che v’er’ anco,\\r\\ntal, ch’ogne vista ne sarebbe schiva.\\r\\n\\r\\nQual è quella ruina che nel fianco\\r\\ndi qua da Trento l’Adice percosse,\\r\\no per tremoto o per sostegno manco,\\r\\n\\r\\nche da cima del monte, onde si mosse,\\r\\nal piano è sì la roccia discoscesa,\\r\\nch’alcuna via darebbe a chi sù fosse:\\r\\n\\r\\ncotal di quel burrato era la scesa;\\r\\ne ’n su la punta de la rotta lacca\\r\\nl’infamïa di Creti era distesa\\r\\n\\r\\nche fu concetta ne la falsa vacca;\\r\\ne quando vide noi, sé stesso morse,\\r\\nsì come quei cui l’ira dentro fiacca.\\r\\n\\r\\nLo savio mio inver’ lui gridò: «Forse\\r\\ntu credi che qui sia ’l duca d’Atene,\\r\\nche sù nel mondo la morte ti porse?\\r\\n\\r\\nPàrtiti, bestia, ché questi non vene\\r\\nammaestrato da la tua sorella,\\r\\nma vassi per veder le vostre pene».\\r\\n\\r\\nQual è quel toro che si slaccia in quella\\r\\nc’ha ricevuto già ’l colpo mortale,\\r\\nche gir non sa, ma qua e là saltella,\\r\\n\\r\\nvid’ io lo Minotauro far cotale;\\r\\ne quello accorto gridò: «Corri al varco;\\r\\nmentre ch’e’ ’nfuria, è buon che tu ti cale».\\r\\n\\r\\nCosì prendemmo via giù per lo scarco\\r\\ndi quelle pietre, che spesso moviensi\\r\\nsotto i miei piedi per lo novo carco.\\r\\n\\r\\nIo gia pensando; e quei disse: «Tu pensi\\r\\nforse a questa ruina, ch’è guardata\\r\\nda quell’ ira bestial ch’i’ ora spensi.\\r\\n\\r\\nOr vo’ che sappi che l’altra fïata\\r\\nch’i’ discesi qua giù nel basso inferno,\\r\\nquesta roccia non era ancor cascata.\\r\\n\\r\\nMa certo poco pria, se ben discerno,\\r\\nche venisse colui che la gran preda\\r\\nlevò a Dite del cerchio superno,\\r\\n\\r\\nda tutte parti l’alta valle feda\\r\\ntremò sì, ch’i’ pensai che l’universo\\r\\nsentisse amor, per lo qual è chi creda\\r\\n\\r\\npiù volte il mondo in caòsso converso;\\r\\ne in quel punto questa vecchia roccia,\\r\\nqui e altrove, tal fece riverso.\\r\\n\\r\\nMa ficca li occhi a valle, ché s’approccia\\r\\nla riviera del sangue in la qual bolle\\r\\nqual che per vïolenza in altrui noccia».\\r\\n\\r\\nOh cieca cupidigia e ira folle,\\r\\nche sì ci sproni ne la vita corta,\\r\\ne ne l’etterna poi sì mal c’immolle!\\r\\n\\r\\nIo vidi un’ampia fossa in arco torta,\\r\\ncome quella che tutto ’l piano abbraccia,\\r\\nsecondo ch’avea detto la mia scorta;\\r\\n\\r\\ne tra ’l piè de la ripa ed essa, in traccia\\r\\ncorrien centauri, armati di saette,\\r\\ncome solien nel mondo andare a caccia.\\r\\n\\r\\nVeggendoci calar, ciascun ristette,\\r\\ne de la schiera tre si dipartiro\\r\\ncon archi e asticciuole prima elette;\\r\\n\\r\\ne l’un gridò da lungi: «A qual martiro\\r\\nvenite voi che scendete la costa?\\r\\nDitel costinci; se non, l’arco tiro».\\r\\n\\r\\nLo mio maestro disse: «La risposta\\r\\nfarem noi a Chirón costà di presso:\\r\\nmal fu la voglia tua sempre sì tosta».\\r\\n\\r\\nPoi mi tentò, e disse: «Quelli è Nesso,\\r\\nche morì per la bella Deianira,\\r\\ne fé di sé la vendetta elli stesso.\\r\\n\\r\\nE quel di mezzo, ch’al petto si mira,\\r\\nè il gran Chirón, il qual nodrì Achille;\\r\\nquell’ altro è Folo, che fu sì pien d’ira.\\r\\n\\r\\nDintorno al fosso vanno a mille a mille,\\r\\nsaettando qual anima si svelle\\r\\ndel sangue più che sua colpa sortille».\\r\\n\\r\\nNoi ci appressammo a quelle fiere isnelle:\\r\\nChirón prese uno strale, e con la cocca\\r\\nfece la barba in dietro a le mascelle.\\r\\n\\r\\nQuando s’ebbe scoperta la gran bocca,\\r\\ndisse a’ compagni: «Siete voi accorti\\r\\nche quel di retro move ciò ch’el tocca?\\r\\n\\r\\nCosì non soglion far li piè d’i morti».\\r\\nE ’l mio buon duca, che già li er’ al petto,\\r\\ndove le due nature son consorti,\\r\\n\\r\\nrispuose: «Ben è vivo, e sì soletto\\r\\nmostrar li mi convien la valle buia;\\r\\nnecessità ’l ci ’nduce, e non diletto.\\r\\n\\r\\nTal si partì da cantare alleluia\\r\\nche mi commise quest’ officio novo:\\r\\nnon è ladron, né io anima fuia.\\r\\n\\r\\nMa per quella virtù per cu’ io movo\\r\\nli passi miei per sì selvaggia strada,\\r\\ndanne un de’ tuoi, a cui noi siamo a provo,\\r\\n\\r\\ne che ne mostri là dove si guada,\\r\\ne che porti costui in su la groppa,\\r\\nché non è spirto che per l’aere vada».\\r\\n\\r\\nChirón si volse in su la destra poppa,\\r\\ne disse a Nesso: «Torna, e sì li guida,\\r\\ne fa cansar s’altra schiera v’intoppa».\\r\\n\\r\\nOr ci movemmo con la scorta fida\\r\\nlungo la proda del bollor vermiglio,\\r\\ndove i bolliti facieno alte strida.\\r\\n\\r\\nIo vidi gente sotto infino al ciglio;\\r\\ne ’l gran centauro disse: «E’ son tiranni\\r\\nche dier nel sangue e ne l’aver di piglio.\\r\\n\\r\\nQuivi si piangon li spietati danni;\\r\\nquivi è Alessandro, e Dïonisio fero\\r\\nche fé Cicilia aver dolorosi anni.\\r\\n\\r\\nE quella fronte c’ha ’l pel così nero,\\r\\nè Azzolino; e quell’ altro ch’è biondo,\\r\\nè Opizzo da Esti, il qual per vero\\r\\n\\r\\nfu spento dal figliastro sù nel mondo».\\r\\nAllor mi volsi al poeta, e quei disse:\\r\\n«Questi ti sia or primo, e io secondo».\\r\\n\\r\\nPoco più oltre il centauro s’affisse\\r\\nsovr’ una gente che ’nfino a la gola\\r\\nparea che di quel bulicame uscisse.\\r\\n\\r\\nMostrocci un’ombra da l’un canto sola,\\r\\ndicendo: «Colui fesse in grembo a Dio\\r\\nlo cor che ’n su Tamisi ancor si cola».\\r\\n\\r\\nPoi vidi gente che di fuor del rio\\r\\ntenean la testa e ancor tutto ’l casso;\\r\\ne di costoro assai riconobb’ io.\\r\\n\\r\\nCosì a più a più si facea basso\\r\\nquel sangue, sì che cocea pur li piedi;\\r\\ne quindi fu del fosso il nostro passo.\\r\\n\\r\\n«Sì come tu da questa parte vedi\\r\\nlo bulicame che sempre si scema»,\\r\\ndisse ’l centauro, «voglio che tu credi\\r\\n\\r\\nche da quest’ altra a più a più giù prema\\r\\nlo fondo suo, infin ch’el si raggiunge\\r\\nove la tirannia convien che gema.\\r\\n\\r\\nLa divina giustizia di qua punge\\r\\nquell’ Attila che fu flagello in terra,\\r\\ne Pirro e Sesto; e in etterno munge\\r\\n\\r\\nle lagrime, che col bollor diserra,\\r\\na Rinier da Corneto, a Rinier Pazzo,\\r\\nche fecero a le strade tanta guerra».\\r\\n\\r\\nPoi si rivolse e ripassossi ’l guazzo.\\r\\n\\r\\n\\r\\n\\r\\n\\r\\nInferno\\r\\nCanto XIII\\r\\n\\r\\n\\r\\nNon era ancor di là Nesso arrivato,\\r\\nquando noi ci mettemmo per un bosco\\r\\nche da neun sentiero era segnato.\\r\\n\\r\\nNon fronda verde, ma di color fosco;\\r\\nnon rami schietti, ma nodosi e ’nvolti;\\r\\nnon pomi v’eran, ma stecchi con tòsco.\\r\\n\\r\\nNon han sì aspri sterpi né sì folti\\r\\nquelle fiere selvagge che ’n odio hanno\\r\\ntra Cecina e Corneto i luoghi cólti.\\r\\n\\r\\nQuivi le brutte Arpie lor nidi fanno,\\r\\nche cacciar de le Strofade i Troiani\\r\\ncon tristo annunzio di futuro danno.\\r\\n\\r\\nAli hanno late, e colli e visi umani,\\r\\npiè con artigli, e pennuto ’l gran ventre;\\r\\nfanno lamenti in su li alberi strani.\\r\\n\\r\\nE ’l buon maestro «Prima che più entre,\\r\\nsappi che se’ nel secondo girone»,\\r\\nmi cominciò a dire, «e sarai mentre\\r\\n\\r\\nche tu verrai ne l’orribil sabbione.\\r\\nPerò riguarda ben; sì vederai\\r\\ncose che torrien fede al mio sermone».\\r\\n\\r\\nIo sentia d’ogne parte trarre guai\\r\\ne non vedea persona che ’l facesse;\\r\\nper ch’io tutto smarrito m’arrestai.\\r\\n\\r\\nCred’ ïo ch’ei credette ch’io credesse\\r\\nche tante voci uscisser, tra quei bronchi,\\r\\nda gente che per noi si nascondesse.\\r\\n\\r\\nPerò disse ’l maestro: «Se tu tronchi\\r\\nqualche fraschetta d’una d’este piante,\\r\\nli pensier c’hai si faran tutti monchi».\\r\\n\\r\\nAllor porsi la mano un poco avante\\r\\ne colsi un ramicel da un gran pruno;\\r\\ne ’l tronco suo gridò: «Perché mi schiante?».\\r\\n\\r\\nDa che fatto fu poi di sangue bruno,\\r\\nricominciò a dir: «Perché mi scerpi?\\r\\nnon hai tu spirto di pietade alcuno?\\r\\n\\r\\nUomini fummo, e or siam fatti sterpi:\\r\\nben dovrebb’ esser la tua man più pia,\\r\\nse state fossimo anime di serpi».\\r\\n\\r\\nCome d’un stizzo verde ch’arso sia\\r\\nda l’un de’ capi, che da l’altro geme\\r\\ne cigola per vento che va via,\\r\\n\\r\\nsì de la scheggia rotta usciva insieme\\r\\nparole e sangue; ond’ io lasciai la cima\\r\\ncadere, e stetti come l’uom che teme.\\r\\n\\r\\n«S’elli avesse potuto creder prima»,\\r\\nrispuose ’l savio mio, «anima lesa,\\r\\nciò c’ha veduto pur con la mia rima,\\r\\n\\r\\nnon averebbe in te la man distesa;\\r\\nma la cosa incredibile mi fece\\r\\nindurlo ad ovra ch’a me stesso pesa.\\r\\n\\r\\nMa dilli chi tu fosti, sì che ’n vece\\r\\nd’alcun’ ammenda tua fama rinfreschi\\r\\nnel mondo sù, dove tornar li lece».\\r\\n\\r\\nE ’l tronco: «Sì col dolce dir m’adeschi,\\r\\nch’i’ non posso tacere; e voi non gravi\\r\\nperch’ ïo un poco a ragionar m’inveschi.\\r\\n\\r\\nIo son colui che tenni ambo le chiavi\\r\\ndel cor di Federigo, e che le volsi,\\r\\nserrando e diserrando, sì soavi,\\r\\n\\r\\nche dal secreto suo quasi ogn’ uom tolsi;\\r\\nfede portai al glorïoso offizio,\\r\\ntanto ch’i’ ne perde’ li sonni e ’ polsi.\\r\\n\\r\\nLa meretrice che mai da l’ospizio\\r\\ndi Cesare non torse li occhi putti,\\r\\nmorte comune e de le corti vizio,\\r\\n\\r\\ninfiammò contra me li animi tutti;\\r\\ne li ’nfiammati infiammar sì Augusto,\\r\\nche ’ lieti onor tornaro in tristi lutti.\\r\\n\\r\\nL’animo mio, per disdegnoso gusto,\\r\\ncredendo col morir fuggir disdegno,\\r\\ningiusto fece me contra me giusto.\\r\\n\\r\\nPer le nove radici d’esto legno\\r\\nvi giuro che già mai non ruppi fede\\r\\nal mio segnor, che fu d’onor sì degno.\\r\\n\\r\\nE se di voi alcun nel mondo riede,\\r\\nconforti la memoria mia, che giace\\r\\nancor del colpo che ’nvidia le diede».\\r\\n\\r\\nUn poco attese, e poi «Da ch’el si tace»,\\r\\ndisse ’l poeta a me, «non perder l’ora;\\r\\nma parla, e chiedi a lui, se più ti piace».\\r\\n\\r\\nOnd’ ïo a lui: «Domandal tu ancora\\r\\ndi quel che credi ch’a me satisfaccia;\\r\\nch’i’ non potrei, tanta pietà m’accora».\\r\\n\\r\\nPerciò ricominciò: «Se l’om ti faccia\\r\\nliberamente ciò che ’l tuo dir priega,\\r\\nspirito incarcerato, ancor ti piaccia\\r\\n\\r\\ndi dirne come l’anima si lega\\r\\nin questi nocchi; e dinne, se tu puoi,\\r\\ns’alcuna mai di tai membra si spiega».\\r\\n\\r\\nAllor soffiò il tronco forte, e poi\\r\\nsi convertì quel vento in cotal voce:\\r\\n«Brievemente sarà risposto a voi.\\r\\n\\r\\nQuando si parte l’anima feroce\\r\\ndal corpo ond’ ella stessa s’è disvelta,\\r\\nMinòs la manda a la settima foce.\\r\\n\\r\\nCade in la selva, e non l’è parte scelta;\\r\\nma là dove fortuna la balestra,\\r\\nquivi germoglia come gran di spelta.\\r\\n\\r\\nSurge in vermena e in pianta silvestra:\\r\\nl’Arpie, pascendo poi de le sue foglie,\\r\\nfanno dolore, e al dolor fenestra.\\r\\n\\r\\nCome l’altre verrem per nostre spoglie,\\r\\nma non però ch’alcuna sen rivesta,\\r\\nché non è giusto aver ciò ch’om si toglie.\\r\\n\\r\\nQui le strascineremo, e per la mesta\\r\\nselva saranno i nostri corpi appesi,\\r\\nciascuno al prun de l’ombra sua molesta».\\r\\n\\r\\nNoi eravamo ancora al tronco attesi,\\r\\ncredendo ch’altro ne volesse dire,\\r\\nquando noi fummo d’un romor sorpresi,\\r\\n\\r\\nsimilemente a colui che venire\\r\\nsente ’l porco e la caccia a la sua posta,\\r\\nch’ode le bestie, e le frasche stormire.\\r\\n\\r\\nEd ecco due da la sinistra costa,\\r\\nnudi e graffiati, fuggendo sì forte,\\r\\nche de la selva rompieno ogne rosta.\\r\\n\\r\\nQuel dinanzi: «Or accorri, accorri, morte!».\\r\\nE l’altro, cui pareva tardar troppo,\\r\\ngridava: «Lano, sì non furo accorte\\r\\n\\r\\nle gambe tue a le giostre dal Toppo!».\\r\\nE poi che forse li fallia la lena,\\r\\ndi sé e d’un cespuglio fece un groppo.\\r\\n\\r\\nDi rietro a loro era la selva piena\\r\\ndi nere cagne, bramose e correnti\\r\\ncome veltri ch’uscisser di catena.\\r\\n\\r\\nIn quel che s’appiattò miser li denti,\\r\\ne quel dilaceraro a brano a brano;\\r\\npoi sen portar quelle membra dolenti.\\r\\n\\r\\nPresemi allor la mia scorta per mano,\\r\\ne menommi al cespuglio che piangea\\r\\nper le rotture sanguinenti in vano.\\r\\n\\r\\n«O Iacopo», dicea, «da Santo Andrea,\\r\\nche t’è giovato di me fare schermo?\\r\\nche colpa ho io de la tua vita rea?».\\r\\n\\r\\nQuando ’l maestro fu sovr’ esso fermo,\\r\\ndisse: «Chi fosti, che per tante punte\\r\\nsoffi con sangue doloroso sermo?».\\r\\n\\r\\nEd elli a noi: «O anime che giunte\\r\\nsiete a veder lo strazio disonesto\\r\\nc’ha le mie fronde sì da me disgiunte,\\r\\n\\r\\nraccoglietele al piè del tristo cesto.\\r\\nI’ fui de la città che nel Batista\\r\\nmutò ’l primo padrone; ond’ ei per questo\\r\\n\\r\\nsempre con l’arte sua la farà trista;\\r\\ne se non fosse che ’n sul passo d’Arno\\r\\nrimane ancor di lui alcuna vista,\\r\\n\\r\\nque’ cittadin che poi la rifondarno\\r\\nsovra ’l cener che d’Attila rimase,\\r\\navrebber fatto lavorare indarno.\\r\\n\\r\\nIo fei gibetto a me de le mie case».\\r\\n\\r\\n\\r\\n\\r\\n\\r\\nInferno\\r\\nCanto XIV\\r\\n\\r\\n\\r\\nPoi che la carità del natio loco\\r\\nmi strinse, raunai le fronde sparte\\r\\ne rende’le a colui, ch’era già fioco.\\r\\n\\r\\nIndi venimmo al fine ove si parte\\r\\nlo secondo giron dal terzo, e dove\\r\\nsi vede di giustizia orribil arte.\\r\\n\\r\\nA ben manifestar le cose nove,\\r\\ndico che arrivammo ad una landa\\r\\nche dal suo letto ogne pianta rimove.\\r\\n\\r\\nLa dolorosa selva l’è ghirlanda\\r\\nintorno, come ’l fosso tristo ad essa;\\r\\nquivi fermammo i passi a randa a randa.\\r\\n\\r\\nLo spazzo era una rena arida e spessa,\\r\\nnon d’altra foggia fatta che colei\\r\\nche fu da’ piè di Caton già soppressa.\\r\\n\\r\\nO vendetta di Dio, quanto tu dei\\r\\nesser temuta da ciascun che legge\\r\\nciò che fu manifesto a li occhi mei!\\r\\n\\r\\nD’anime nude vidi molte gregge\\r\\nche piangean tutte assai miseramente,\\r\\ne parea posta lor diversa legge.\\r\\n\\r\\nSupin giacea in terra alcuna gente,\\r\\nalcuna si sedea tutta raccolta,\\r\\ne altra andava continüamente.\\r\\n\\r\\nQuella che giva ’ntorno era più molta,\\r\\ne quella men che giacëa al tormento,\\r\\nma più al duolo avea la lingua sciolta.\\r\\n\\r\\nSovra tutto ’l sabbion, d’un cader lento,\\r\\npiovean di foco dilatate falde,\\r\\ncome di neve in alpe sanza vento.\\r\\n\\r\\nQuali Alessandro in quelle parti calde\\r\\nd’Indïa vide sopra ’l süo stuolo\\r\\nfiamme cadere infino a terra salde,\\r\\n\\r\\nper ch’ei provide a scalpitar lo suolo\\r\\ncon le sue schiere, acciò che lo vapore\\r\\nmei si stingueva mentre ch’era solo:\\r\\n\\r\\ntale scendeva l’etternale ardore;\\r\\nonde la rena s’accendea, com’ esca\\r\\nsotto focile, a doppiar lo dolore.\\r\\n\\r\\nSanza riposo mai era la tresca\\r\\nde le misere mani, or quindi or quinci\\r\\nescotendo da sé l’arsura fresca.\\r\\n\\r\\nI’ cominciai: «Maestro, tu che vinci\\r\\ntutte le cose, fuor che ’ demon duri\\r\\nch’a l’intrar de la porta incontra uscinci,\\r\\n\\r\\nchi è quel grande che non par che curi\\r\\nlo ’ncendio e giace dispettoso e torto,\\r\\nsì che la pioggia non par che ’l marturi?».\\r\\n\\r\\nE quel medesmo, che si fu accorto\\r\\nch’io domandava il mio duca di lui,\\r\\ngridò: «Qual io fui vivo, tal son morto.\\r\\n\\r\\nSe Giove stanchi ’l suo fabbro da cui\\r\\ncrucciato prese la folgore aguta\\r\\nonde l’ultimo dì percosso fui;\\r\\n\\r\\no s’elli stanchi li altri a muta a muta\\r\\nin Mongibello a la focina negra,\\r\\nchiamando “Buon Vulcano, aiuta, aiuta!”,\\r\\n\\r\\nsì com’ el fece a la pugna di Flegra,\\r\\ne me saetti con tutta sua forza:\\r\\nnon ne potrebbe aver vendetta allegra».\\r\\n\\r\\nAllora il duca mio parlò di forza\\r\\ntanto, ch’i’ non l’avea sì forte udito:\\r\\n«O Capaneo, in ciò che non s’ammorza\\r\\n\\r\\nla tua superbia, se’ tu più punito;\\r\\nnullo martiro, fuor che la tua rabbia,\\r\\nsarebbe al tuo furor dolor compito».\\r\\n\\r\\nPoi si rivolse a me con miglior labbia,\\r\\ndicendo: «Quei fu l’un d’i sette regi\\r\\nch’assiser Tebe; ed ebbe e par ch’elli abbia\\r\\n\\r\\nDio in disdegno, e poco par che ’l pregi;\\r\\nma, com’ io dissi lui, li suoi dispetti\\r\\nsono al suo petto assai debiti fregi.\\r\\n\\r\\nOr mi vien dietro, e guarda che non metti,\\r\\nancor, li piedi ne la rena arsiccia;\\r\\nma sempre al bosco tien li piedi stretti».\\r\\n\\r\\nTacendo divenimmo là ’ve spiccia\\r\\nfuor de la selva un picciol fiumicello,\\r\\nlo cui rossore ancor mi raccapriccia.\\r\\n\\r\\nQuale del Bulicame esce ruscello\\r\\nche parton poi tra lor le peccatrici,\\r\\ntal per la rena giù sen giva quello.\\r\\n\\r\\nLo fondo suo e ambo le pendici\\r\\nfatt’ era ’n pietra, e ’ margini dallato;\\r\\nper ch’io m’accorsi che ’l passo era lici.\\r\\n\\r\\n«Tra tutto l’altro ch’i’ t’ho dimostrato,\\r\\nposcia che noi intrammo per la porta\\r\\nlo cui sogliare a nessuno è negato,\\r\\n\\r\\ncosa non fu da li tuoi occhi scorta\\r\\nnotabile com’ è ’l presente rio,\\r\\nche sovra sé tutte fiammelle ammorta».\\r\\n\\r\\nQueste parole fuor del duca mio;\\r\\nper ch’io ’l pregai che mi largisse ’l pasto\\r\\ndi cui largito m’avëa il disio.\\r\\n\\r\\n«In mezzo mar siede un paese guasto»,\\r\\ndiss’ elli allora, «che s’appella Creta,\\r\\nsotto ’l cui rege fu già ’l mondo casto.\\r\\n\\r\\nUna montagna v’è che già fu lieta\\r\\nd’acqua e di fronde, che si chiamò Ida;\\r\\nor è diserta come cosa vieta.\\r\\n\\r\\nRëa la scelse già per cuna fida\\r\\ndel suo figliuolo, e per celarlo meglio,\\r\\nquando piangea, vi facea far le grida.\\r\\n\\r\\nDentro dal monte sta dritto un gran veglio,\\r\\nche tien volte le spalle inver’ Dammiata\\r\\ne Roma guarda come süo speglio.\\r\\n\\r\\nLa sua testa è di fin oro formata,\\r\\ne puro argento son le braccia e ’l petto,\\r\\npoi è di rame infino a la forcata;\\r\\n\\r\\nda indi in giuso è tutto ferro eletto,\\r\\nsalvo che ’l destro piede è terra cotta;\\r\\ne sta ’n su quel, più che ’n su l’altro, eretto.\\r\\n\\r\\nCiascuna parte, fuor che l’oro, è rotta\\r\\nd’una fessura che lagrime goccia,\\r\\nle quali, accolte, fóran quella grotta.\\r\\n\\r\\nLor corso in questa valle si diroccia;\\r\\nfanno Acheronte, Stige e Flegetonta;\\r\\npoi sen van giù per questa stretta doccia,\\r\\n\\r\\ninfin, là ove più non si dismonta,\\r\\nfanno Cocito; e qual sia quello stagno\\r\\ntu lo vedrai, però qui non si conta».\\r\\n\\r\\nE io a lui: «Se ’l presente rigagno\\r\\nsi diriva così dal nostro mondo,\\r\\nperché ci appar pur a questo vivagno?».\\r\\n\\r\\nEd elli a me: «Tu sai che ’l loco è tondo;\\r\\ne tutto che tu sie venuto molto,\\r\\npur a sinistra, giù calando al fondo,\\r\\n\\r\\nnon se’ ancor per tutto ’l cerchio vòlto;\\r\\nper che, se cosa n’apparisce nova,\\r\\nnon de’ addur maraviglia al tuo volto».\\r\\n\\r\\nE io ancor: «Maestro, ove si trova\\r\\nFlegetonta e Letè? ché de l’un taci,\\r\\ne l’altro di’ che si fa d’esta piova».\\r\\n\\r\\n«In tutte tue question certo mi piaci»,\\r\\nrispuose, «ma ’l bollor de l’acqua rossa\\r\\ndovea ben solver l’una che tu faci.\\r\\n\\r\\nLetè vedrai, ma fuor di questa fossa,\\r\\nlà dove vanno l’anime a lavarsi\\r\\nquando la colpa pentuta è rimossa».\\r\\n\\r\\nPoi disse: «Omai è tempo da scostarsi\\r\\ndal bosco; fa che di retro a me vegne:\\r\\nli margini fan via, che non son arsi,\\r\\n\\r\\ne sopra loro ogne vapor si spegne».\\r\\n\\r\\n\\r\\n\\r\\n\\r\\nInferno\\r\\nCanto XV\\r\\n\\r\\n\\r\\nOra cen porta l’un de’ duri margini;\\r\\ne ’l fummo del ruscel di sopra aduggia,\\r\\nsì che dal foco salva l’acqua e li argini.\\r\\n\\r\\nQuali Fiamminghi tra Guizzante e Bruggia,\\r\\ntemendo ’l fiotto che ’nver’ lor s’avventa,\\r\\nfanno lo schermo perché ’l mar si fuggia;\\r\\n\\r\\ne quali Padoan lungo la Brenta,\\r\\nper difender lor ville e lor castelli,\\r\\nanzi che Carentana il caldo senta:\\r\\n\\r\\na tale imagine eran fatti quelli,\\r\\ntutto che né sì alti né sì grossi,\\r\\nqual che si fosse, lo maestro félli.\\r\\n\\r\\nGià eravam da la selva rimossi\\r\\ntanto, ch’i’ non avrei visto dov’ era,\\r\\nperch’ io in dietro rivolto mi fossi,\\r\\n\\r\\nquando incontrammo d’anime una schiera\\r\\nche venian lungo l’argine, e ciascuna\\r\\nci riguardava come suol da sera\\r\\n\\r\\nguardare uno altro sotto nuova luna;\\r\\ne sì ver’ noi aguzzavan le ciglia\\r\\ncome ’l vecchio sartor fa ne la cruna.\\r\\n\\r\\nCosì adocchiato da cotal famiglia,\\r\\nfui conosciuto da un, che mi prese\\r\\nper lo lembo e gridò: «Qual maraviglia!».\\r\\n\\r\\nE io, quando ’l suo braccio a me distese,\\r\\nficcaï li occhi per lo cotto aspetto,\\r\\nsì che ’l viso abbrusciato non difese\\r\\n\\r\\nla conoscenza süa al mio ’ntelletto;\\r\\ne chinando la mano a la sua faccia,\\r\\nrispuosi: «Siete voi qui, ser Brunetto?».\\r\\n\\r\\nE quelli: «O figliuol mio, non ti dispiaccia\\r\\nse Brunetto Latino un poco teco\\r\\nritorna ’n dietro e lascia andar la traccia».\\r\\n\\r\\nI’ dissi lui: «Quanto posso, ven preco;\\r\\ne se volete che con voi m’asseggia,\\r\\nfaròl, se piace a costui che vo seco».\\r\\n\\r\\n«O figliuol», disse, «qual di questa greggia\\r\\ns’arresta punto, giace poi cent’ anni\\r\\nsanz’ arrostarsi quando ’l foco il feggia.\\r\\n\\r\\nPerò va oltre: i’ ti verrò a’ panni;\\r\\ne poi rigiugnerò la mia masnada,\\r\\nche va piangendo i suoi etterni danni».\\r\\n\\r\\nIo non osava scender de la strada\\r\\nper andar par di lui; ma ’l capo chino\\r\\ntenea com’ uom che reverente vada.\\r\\n\\r\\nEl cominciò: «Qual fortuna o destino\\r\\nanzi l’ultimo dì qua giù ti mena?\\r\\ne chi è questi che mostra ’l cammino?».\\r\\n\\r\\n«Là sù di sopra, in la vita serena»,\\r\\nrispuos’ io lui, «mi smarri’ in una valle,\\r\\navanti che l’età mia fosse piena.\\r\\n\\r\\nPur ier mattina le volsi le spalle:\\r\\nquesti m’apparve, tornand’ ïo in quella,\\r\\ne reducemi a ca per questo calle».\\r\\n\\r\\nEd elli a me: «Se tu segui tua stella,\\r\\nnon puoi fallire a glorïoso porto,\\r\\nse ben m’accorsi ne la vita bella;\\r\\n\\r\\ne s’io non fossi sì per tempo morto,\\r\\nveggendo il cielo a te così benigno,\\r\\ndato t’avrei a l’opera conforto.\\r\\n\\r\\nMa quello ingrato popolo maligno\\r\\nche discese di Fiesole ab antico,\\r\\ne tiene ancor del monte e del macigno,\\r\\n\\r\\nti si farà, per tuo ben far, nimico;\\r\\ned è ragion, ché tra li lazzi sorbi\\r\\nsi disconvien fruttare al dolce fico.\\r\\n\\r\\nVecchia fama nel mondo li chiama orbi;\\r\\ngent’ è avara, invidiosa e superba:\\r\\ndai lor costumi fa che tu ti forbi.\\r\\n\\r\\nLa tua fortuna tanto onor ti serba,\\r\\nche l’una parte e l’altra avranno fame\\r\\ndi te; ma lungi fia dal becco l’erba.\\r\\n\\r\\nFaccian le bestie fiesolane strame\\r\\ndi lor medesme, e non tocchin la pianta,\\r\\ns’alcuna surge ancora in lor letame,\\r\\n\\r\\nin cui riviva la sementa santa\\r\\ndi que’ Roman che vi rimaser quando\\r\\nfu fatto il nido di malizia tanta».\\r\\n\\r\\n«Se fosse tutto pieno il mio dimando»,\\r\\nrispuos’ io lui, «voi non sareste ancora\\r\\nde l’umana natura posto in bando;\\r\\n\\r\\nché ’n la mente m’è fitta, e or m’accora,\\r\\nla cara e buona imagine paterna\\r\\ndi voi quando nel mondo ad ora ad ora\\r\\n\\r\\nm’insegnavate come l’uom s’etterna:\\r\\ne quant’ io l’abbia in grado, mentr’ io vivo\\r\\nconvien che ne la mia lingua si scerna.\\r\\n\\r\\nCiò che narrate di mio corso scrivo,\\r\\ne serbolo a chiosar con altro testo\\r\\na donna che saprà, s’a lei arrivo.\\r\\n\\r\\nTanto vogl’ io che vi sia manifesto,\\r\\npur che mia coscïenza non mi garra,\\r\\nch’a la Fortuna, come vuol, son presto.\\r\\n\\r\\nNon è nuova a li orecchi miei tal arra:\\r\\nperò giri Fortuna la sua rota\\r\\ncome le piace, e ’l villan la sua marra».\\r\\n\\r\\nLo mio maestro allora in su la gota\\r\\ndestra si volse in dietro e riguardommi;\\r\\npoi disse: «Bene ascolta chi la nota».\\r\\n\\r\\nNé per tanto di men parlando vommi\\r\\ncon ser Brunetto, e dimando chi sono\\r\\nli suoi compagni più noti e più sommi.\\r\\n\\r\\nEd elli a me: «Saper d’alcuno è buono;\\r\\nde li altri fia laudabile tacerci,\\r\\nché ’l tempo saria corto a tanto suono.\\r\\n\\r\\nIn somma sappi che tutti fur cherci\\r\\ne litterati grandi e di gran fama,\\r\\nd’un peccato medesmo al mondo lerci.\\r\\n\\r\\nPriscian sen va con quella turba grama,\\r\\ne Francesco d’Accorso anche; e vedervi,\\r\\ns’avessi avuto di tal tigna brama,\\r\\n\\r\\ncolui potei che dal servo de’ servi\\r\\nfu trasmutato d’Arno in Bacchiglione,\\r\\ndove lasciò li mal protesi nervi.\\r\\n\\r\\nDi più direi; ma ’l venire e ’l sermone\\r\\npiù lungo esser non può, però ch’i’ veggio\\r\\nlà surger nuovo fummo del sabbione.\\r\\n\\r\\nGente vien con la quale esser non deggio.\\r\\nSieti raccomandato il mio Tesoro,\\r\\nnel qual io vivo ancora, e più non cheggio».\\r\\n\\r\\nPoi si rivolse, e parve di coloro\\r\\nche corrono a Verona il drappo verde\\r\\nper la campagna; e parve di costoro\\r\\n\\r\\nquelli che vince, non colui che perde.\\r\\n\\r\\n\\r\\n\\r\\n\\r\\nInferno\\r\\nCanto XVI\\r\\n\\r\\n\\r\\nGià era in loco onde s’udia ’l rimbombo\\r\\nde l’acqua che cadea ne l’altro giro,\\r\\nsimile a quel che l’arnie fanno rombo,\\r\\n\\r\\nquando tre ombre insieme si partiro,\\r\\ncorrendo, d’una torma che passava\\r\\nsotto la pioggia de l’aspro martiro.\\r\\n\\r\\nVenian ver’ noi, e ciascuna gridava:\\r\\n«Sòstati tu ch’a l’abito ne sembri\\r\\nesser alcun di nostra terra prava».\\r\\n\\r\\nAhimè, che piaghe vidi ne’ lor membri,\\r\\nricenti e vecchie, da le fiamme incese!\\r\\nAncor men duol pur ch’i’ me ne rimembri.\\r\\n\\r\\nA le lor grida il mio dottor s’attese;\\r\\nvolse ’l viso ver’ me, e «Or aspetta»,\\r\\ndisse, «a costor si vuole esser cortese.\\r\\n\\r\\nE se non fosse il foco che saetta\\r\\nla natura del loco, i’ dicerei\\r\\nche meglio stesse a te che a lor la fretta».\\r\\n\\r\\nRicominciar, come noi restammo, ei\\r\\nl’antico verso; e quando a noi fuor giunti,\\r\\nfenno una rota di sé tutti e trei.\\r\\n\\r\\nQual sogliono i campion far nudi e unti,\\r\\navvisando lor presa e lor vantaggio,\\r\\nprima che sien tra lor battuti e punti,\\r\\n\\r\\ncosì rotando, ciascuno il visaggio\\r\\ndrizzava a me, sì che ’n contraro il collo\\r\\nfaceva ai piè continüo vïaggio.\\r\\n\\r\\nE «Se miseria d’esto loco sollo\\r\\nrende in dispetto noi e nostri prieghi»,\\r\\ncominciò l’uno, «e ’l tinto aspetto e brollo,\\r\\n\\r\\nla fama nostra il tuo animo pieghi\\r\\na dirne chi tu se’, che i vivi piedi\\r\\ncosì sicuro per lo ’nferno freghi.\\r\\n\\r\\nQuesti, l’orme di cui pestar mi vedi,\\r\\ntutto che nudo e dipelato vada,\\r\\nfu di grado maggior che tu non credi:\\r\\n\\r\\nnepote fu de la buona Gualdrada;\\r\\nGuido Guerra ebbe nome, e in sua vita\\r\\nfece col senno assai e con la spada.\\r\\n\\r\\nL’altro, ch’appresso me la rena trita,\\r\\nè Tegghiaio Aldobrandi, la cui voce\\r\\nnel mondo sù dovria esser gradita.\\r\\n\\r\\nE io, che posto son con loro in croce,\\r\\nIacopo Rusticucci fui, e certo\\r\\nla fiera moglie più ch’altro mi nuoce».\\r\\n\\r\\nS’i’ fossi stato dal foco coperto,\\r\\ngittato mi sarei tra lor di sotto,\\r\\ne credo che ’l dottor l’avria sofferto;\\r\\n\\r\\nma perch’ io mi sarei brusciato e cotto,\\r\\nvinse paura la mia buona voglia\\r\\nche di loro abbracciar mi facea ghiotto.\\r\\n\\r\\nPoi cominciai: «Non dispetto, ma doglia\\r\\nla vostra condizion dentro mi fisse,\\r\\ntanta che tardi tutta si dispoglia,\\r\\n\\r\\ntosto che questo mio segnor mi disse\\r\\nparole per le quali i’ mi pensai\\r\\nche qual voi siete, tal gente venisse.\\r\\n\\r\\nDi vostra terra sono, e sempre mai\\r\\nl’ovra di voi e li onorati nomi\\r\\ncon affezion ritrassi e ascoltai.\\r\\n\\r\\nLascio lo fele e vo per dolci pomi\\r\\npromessi a me per lo verace duca;\\r\\nma ’nfino al centro pria convien ch’i’ tomi».\\r\\n\\r\\n«Se lungamente l’anima conduca\\r\\nle membra tue», rispuose quelli ancora,\\r\\n«e se la fama tua dopo te luca,\\r\\n\\r\\ncortesia e valor dì se dimora\\r\\nne la nostra città sì come suole,\\r\\no se del tutto se n’è gita fora;\\r\\n\\r\\nché Guiglielmo Borsiere, il qual si duole\\r\\ncon noi per poco e va là coi compagni,\\r\\nassai ne cruccia con le sue parole».\\r\\n\\r\\n«La gente nuova e i sùbiti guadagni\\r\\norgoglio e dismisura han generata,\\r\\nFiorenza, in te, sì che tu già ten piagni».\\r\\n\\r\\nCosì gridai con la faccia levata;\\r\\ne i tre, che ciò inteser per risposta,\\r\\nguardar l’un l’altro com’ al ver si guata.\\r\\n\\r\\n«Se l’altre volte sì poco ti costa»,\\r\\nrispuoser tutti, «il satisfare altrui,\\r\\nfelice te se sì parli a tua posta!\\r\\n\\r\\nPerò, se campi d’esti luoghi bui\\r\\ne torni a riveder le belle stelle,\\r\\nquando ti gioverà dicere “I’ fui”,\\r\\n\\r\\nfa che di noi a la gente favelle».\\r\\nIndi rupper la rota, e a fuggirsi\\r\\nali sembiar le gambe loro isnelle.\\r\\n\\r\\nUn amen non saria possuto dirsi\\r\\ntosto così com’ e’ fuoro spariti;\\r\\nper ch’al maestro parve di partirsi.\\r\\n\\r\\nIo lo seguiva, e poco eravam iti,\\r\\nche ’l suon de l’acqua n’era sì vicino,\\r\\nche per parlar saremmo a pena uditi.\\r\\n\\r\\nCome quel fiume c’ha proprio cammino\\r\\nprima dal Monte Viso ’nver’ levante,\\r\\nda la sinistra costa d’Apennino,\\r\\n\\r\\nche si chiama Acquacheta suso, avante\\r\\nche si divalli giù nel basso letto,\\r\\ne a Forlì di quel nome è vacante,\\r\\n\\r\\nrimbomba là sovra San Benedetto\\r\\nde l’Alpe per cadere ad una scesa\\r\\nove dovea per mille esser recetto;\\r\\n\\r\\ncosì, giù d’una ripa discoscesa,\\r\\ntrovammo risonar quell’ acqua tinta,\\r\\nsì che ’n poc’ ora avria l’orecchia offesa.\\r\\n\\r\\nIo avea una corda intorno cinta,\\r\\ne con essa pensai alcuna volta\\r\\nprender la lonza a la pelle dipinta.\\r\\n\\r\\nPoscia ch’io l’ebbi tutta da me sciolta,\\r\\nsì come ’l duca m’avea comandato,\\r\\nporsila a lui aggroppata e ravvolta.\\r\\n\\r\\nOnd’ ei si volse inver’ lo destro lato,\\r\\ne alquanto di lunge da la sponda\\r\\nla gittò giuso in quell’ alto burrato.\\r\\n\\r\\n‘E’ pur convien che novità risponda’,\\r\\ndicea fra me medesmo, ‘al novo cenno\\r\\nche ’l maestro con l’occhio sì seconda’.\\r\\n\\r\\nAhi quanto cauti li uomini esser dienno\\r\\npresso a color che non veggion pur l’ovra,\\r\\nma per entro i pensier miran col senno!\\r\\n\\r\\nEl disse a me: «Tosto verrà di sovra\\r\\nciò ch’io attendo e che il tuo pensier sogna;\\r\\ntosto convien ch’al tuo viso si scovra».\\r\\n\\r\\nSempre a quel ver c’ha faccia di menzogna\\r\\nde’ l’uom chiuder le labbra fin ch’el puote,\\r\\nperò che sanza colpa fa vergogna;\\r\\n\\r\\nma qui tacer nol posso; e per le note\\r\\ndi questa comedìa, lettor, ti giuro,\\r\\ns’elle non sien di lunga grazia vòte,\\r\\n\\r\\nch’i’ vidi per quell’ aere grosso e scuro\\r\\nvenir notando una figura in suso,\\r\\nmaravigliosa ad ogne cor sicuro,\\r\\n\\r\\nsì come torna colui che va giuso\\r\\ntalora a solver l’àncora ch’aggrappa\\r\\no scoglio o altro che nel mare è chiuso,\\r\\n\\r\\nche ’n sù si stende e da piè si rattrappa.\\r\\n\\r\\n\\r\\n\\r\\n\\r\\nInferno\\r\\nCanto XVII\\r\\n\\r\\n\\r\\n«Ecco la fiera con la coda aguzza,\\r\\nche passa i monti e rompe i muri e l’armi!\\r\\nEcco colei che tutto ’l mondo appuzza!».\\r\\n\\r\\nSì cominciò lo mio duca a parlarmi;\\r\\ne accennolle che venisse a proda,\\r\\nvicino al fin d’i passeggiati marmi.\\r\\n\\r\\nE quella sozza imagine di froda\\r\\nsen venne, e arrivò la testa e ’l busto,\\r\\nma ’n su la riva non trasse la coda.\\r\\n\\r\\nLa faccia sua era faccia d’uom giusto,\\r\\ntanto benigna avea di fuor la pelle,\\r\\ne d’un serpente tutto l’altro fusto;\\r\\n\\r\\ndue branche avea pilose insin l’ascelle;\\r\\nlo dosso e ’l petto e ambedue le coste\\r\\ndipinti avea di nodi e di rotelle.\\r\\n\\r\\nCon più color, sommesse e sovraposte\\r\\nnon fer mai drappi Tartari né Turchi,\\r\\nné fuor tai tele per Aragne imposte.\\r\\n\\r\\nCome talvolta stanno a riva i burchi,\\r\\nche parte sono in acqua e parte in terra,\\r\\ne come là tra li Tedeschi lurchi\\r\\n\\r\\nlo bivero s’assetta a far sua guerra,\\r\\ncosì la fiera pessima si stava\\r\\nsu l’orlo ch’è di pietra e ’l sabbion serra.\\r\\n\\r\\nNel vano tutta sua coda guizzava,\\r\\ntorcendo in sù la venenosa forca\\r\\nch’a guisa di scorpion la punta armava.\\r\\n\\r\\nLo duca disse: «Or convien che si torca\\r\\nla nostra via un poco insino a quella\\r\\nbestia malvagia che colà si corca».\\r\\n\\r\\nPerò scendemmo a la destra mammella,\\r\\ne diece passi femmo in su lo stremo,\\r\\nper ben cessar la rena e la fiammella.\\r\\n\\r\\nE quando noi a lei venuti semo,\\r\\npoco più oltre veggio in su la rena\\r\\ngente seder propinqua al loco scemo.\\r\\n\\r\\nQuivi ’l maestro «Acciò che tutta piena\\r\\nesperïenza d’esto giron porti»,\\r\\nmi disse, «va, e vedi la lor mena.\\r\\n\\r\\nLi tuoi ragionamenti sian là corti;\\r\\nmentre che torni, parlerò con questa,\\r\\nche ne conceda i suoi omeri forti».\\r\\n\\r\\nCosì ancor su per la strema testa\\r\\ndi quel settimo cerchio tutto solo\\r\\nandai, dove sedea la gente mesta.\\r\\n\\r\\nPer li occhi fora scoppiava lor duolo;\\r\\ndi qua, di là soccorrien con le mani\\r\\nquando a’ vapori, e quando al caldo suolo:\\r\\n\\r\\nnon altrimenti fan di state i cani\\r\\nor col ceffo or col piè, quando son morsi\\r\\no da pulci o da mosche o da tafani.\\r\\n\\r\\nPoi che nel viso a certi li occhi porsi,\\r\\nne’ quali ’l doloroso foco casca,\\r\\nnon ne conobbi alcun; ma io m’accorsi\\r\\n\\r\\nche dal collo a ciascun pendea una tasca\\r\\nch’avea certo colore e certo segno,\\r\\ne quindi par che ’l loro occhio si pasca.\\r\\n\\r\\nE com’ io riguardando tra lor vegno,\\r\\nin una borsa gialla vidi azzurro\\r\\nche d’un leone avea faccia e contegno.\\r\\n\\r\\nPoi, procedendo di mio sguardo il curro,\\r\\nvidine un’altra come sangue rossa,\\r\\nmostrando un’oca bianca più che burro.\\r\\n\\r\\nE un che d’una scrofa azzurra e grossa\\r\\nsegnato avea lo suo sacchetto bianco,\\r\\nmi disse: «Che fai tu in questa fossa?\\r\\n\\r\\nOr te ne va; e perché se’ vivo anco,\\r\\nsappi che ’l mio vicin Vitalïano\\r\\nsederà qui dal mio sinistro fianco.\\r\\n\\r\\nCon questi Fiorentin son padoano:\\r\\nspesse fïate mi ’ntronan li orecchi\\r\\ngridando: “Vegna ’l cavalier sovrano,\\r\\n\\r\\nche recherà la tasca con tre becchi!”».\\r\\nQui distorse la bocca e di fuor trasse\\r\\nla lingua, come bue che ’l naso lecchi.\\r\\n\\r\\nE io, temendo no ’l più star crucciasse\\r\\nlui che di poco star m’avea ’mmonito,\\r\\ntorna’mi in dietro da l’anime lasse.\\r\\n\\r\\nTrova’ il duca mio ch’era salito\\r\\ngià su la groppa del fiero animale,\\r\\ne disse a me: «Or sie forte e ardito.\\r\\n\\r\\nOmai si scende per sì fatte scale;\\r\\nmonta dinanzi, ch’i’ voglio esser mezzo,\\r\\nsì che la coda non possa far male».\\r\\n\\r\\nQual è colui che sì presso ha ’l riprezzo\\r\\nde la quartana, c’ha già l’unghie smorte,\\r\\ne triema tutto pur guardando ’l rezzo,\\r\\n\\r\\ntal divenn’ io a le parole porte;\\r\\nma vergogna mi fé le sue minacce,\\r\\nche innanzi a buon segnor fa servo forte.\\r\\n\\r\\nI’ m’assettai in su quelle spallacce;\\r\\nsì volli dir, ma la voce non venne\\r\\ncom’ io credetti: ‘Fa che tu m’abbracce’.\\r\\n\\r\\nMa esso, ch’altra volta mi sovvenne\\r\\nad altro forse, tosto ch’i’ montai\\r\\ncon le braccia m’avvinse e mi sostenne;\\r\\n\\r\\ne disse: «Gerïon, moviti omai:\\r\\nle rote larghe, e lo scender sia poco;\\r\\npensa la nova soma che tu hai».\\r\\n\\r\\nCome la navicella esce di loco\\r\\nin dietro in dietro, sì quindi si tolse;\\r\\ne poi ch’al tutto si sentì a gioco,\\r\\n\\r\\nlà ’v’ era ’l petto, la coda rivolse,\\r\\ne quella tesa, come anguilla, mosse,\\r\\ne con le branche l’aere a sé raccolse.\\r\\n\\r\\nMaggior paura non credo che fosse\\r\\nquando Fetonte abbandonò li freni,\\r\\nper che ’l ciel, come pare ancor, si cosse;\\r\\n\\r\\nné quando Icaro misero le reni\\r\\nsentì spennar per la scaldata cera,\\r\\ngridando il padre a lui «Mala via tieni!»,\\r\\n\\r\\nche fu la mia, quando vidi ch’i’ era\\r\\nne l’aere d’ogne parte, e vidi spenta\\r\\nogne veduta fuor che de la fera.\\r\\n\\r\\nElla sen va notando lenta lenta;\\r\\nrota e discende, ma non me n’accorgo\\r\\nse non che al viso e di sotto mi venta.\\r\\n\\r\\nIo sentia già da la man destra il gorgo\\r\\nfar sotto noi un orribile scroscio,\\r\\nper che con li occhi ’n giù la testa sporgo.\\r\\n\\r\\nAllor fu’ io più timido a lo stoscio,\\r\\nperò ch’i’ vidi fuochi e senti’ pianti;\\r\\nond’ io tremando tutto mi raccoscio.\\r\\n\\r\\nE vidi poi, ché nol vedea davanti,\\r\\nlo scendere e ’l girar per li gran mali\\r\\nche s’appressavan da diversi canti.\\r\\n\\r\\nCome ’l falcon ch’è stato assai su l’ali,\\r\\nche sanza veder logoro o uccello\\r\\nfa dire al falconiere «Omè, tu cali!»,\\r\\n\\r\\ndiscende lasso onde si move isnello,\\r\\nper cento rote, e da lunge si pone\\r\\ndal suo maestro, disdegnoso e fello;\\r\\n\\r\\ncosì ne puose al fondo Gerïone\\r\\nal piè al piè de la stagliata rocca,\\r\\ne, discarcate le nostre persone,\\r\\n\\r\\nsi dileguò come da corda cocca.\\r\\n\\r\\n\\r\\n\\r\\n\\r\\nInferno\\r\\nCanto XVIII\\r\\n\\r\\n\\r\\nLuogo è in inferno detto Malebolge,\\r\\ntutto di pietra di color ferrigno,\\r\\ncome la cerchia che dintorno il volge.\\r\\n\\r\\nNel dritto mezzo del campo maligno\\r\\nvaneggia un pozzo assai largo e profondo,\\r\\ndi cui suo loco dicerò l’ordigno.\\r\\n\\r\\nQuel cinghio che rimane adunque è tondo\\r\\ntra ’l pozzo e ’l piè de l’alta ripa dura,\\r\\ne ha distinto in dieci valli il fondo.\\r\\n\\r\\nQuale, dove per guardia de le mura\\r\\npiù e più fossi cingon li castelli,\\r\\nla parte dove son rende figura,\\r\\n\\r\\ntale imagine quivi facean quelli;\\r\\ne come a tai fortezze da’ lor sogli\\r\\na la ripa di fuor son ponticelli,\\r\\n\\r\\ncosì da imo de la roccia scogli\\r\\nmovien che ricidien li argini e ’ fossi\\r\\ninfino al pozzo che i tronca e raccogli.\\r\\n\\r\\nIn questo luogo, de la schiena scossi\\r\\ndi Gerïon, trovammoci; e ’l poeta\\r\\ntenne a sinistra, e io dietro mi mossi.\\r\\n\\r\\nA la man destra vidi nova pieta,\\r\\nnovo tormento e novi frustatori,\\r\\ndi che la prima bolgia era repleta.\\r\\n\\r\\nNel fondo erano ignudi i peccatori;\\r\\ndal mezzo in qua ci venien verso ’l volto,\\r\\ndi là con noi, ma con passi maggiori,\\r\\n\\r\\ncome i Roman per l’essercito molto,\\r\\nl’anno del giubileo, su per lo ponte\\r\\nhanno a passar la gente modo colto,\\r\\n\\r\\nche da l’un lato tutti hanno la fronte\\r\\nverso ’l castello e vanno a Santo Pietro,\\r\\nda l’altra sponda vanno verso ’l monte.\\r\\n\\r\\nDi qua, di là, su per lo sasso tetro\\r\\nvidi demon cornuti con gran ferze,\\r\\nche li battien crudelmente di retro.\\r\\n\\r\\nAhi come facean lor levar le berze\\r\\na le prime percosse! già nessuno\\r\\nle seconde aspettava né le terze.\\r\\n\\r\\nMentr’ io andava, li occhi miei in uno\\r\\nfuro scontrati; e io sì tosto dissi:\\r\\n«Già di veder costui non son digiuno».\\r\\n\\r\\nPer ch’ïo a figurarlo i piedi affissi;\\r\\ne ’l dolce duca meco si ristette,\\r\\ne assentio ch’alquanto in dietro gissi.\\r\\n\\r\\nE quel frustato celar si credette\\r\\nbassando ’l viso; ma poco li valse,\\r\\nch’io dissi: «O tu che l’occhio a terra gette,\\r\\n\\r\\nse le fazion che porti non son false,\\r\\nVenedico se’ tu Caccianemico.\\r\\nMa che ti mena a sì pungenti salse?».\\r\\n\\r\\nEd elli a me: «Mal volontier lo dico;\\r\\nma sforzami la tua chiara favella,\\r\\nche mi fa sovvenir del mondo antico.\\r\\n\\r\\nI’ fui colui che la Ghisolabella\\r\\ncondussi a far la voglia del marchese,\\r\\ncome che suoni la sconcia novella.\\r\\n\\r\\nE non pur io qui piango bolognese;\\r\\nanzi n’è questo loco tanto pieno,\\r\\nche tante lingue non son ora apprese\\r\\n\\r\\na dicer ‘sipa’ tra Sàvena e Reno;\\r\\ne se di ciò vuoi fede o testimonio,\\r\\nrècati a mente il nostro avaro seno».\\r\\n\\r\\nCosì parlando il percosse un demonio\\r\\nde la sua scurïada, e disse: «Via,\\r\\nruffian! qui non son femmine da conio».\\r\\n\\r\\nI’ mi raggiunsi con la scorta mia;\\r\\nposcia con pochi passi divenimmo\\r\\nlà ’v’ uno scoglio de la ripa uscia.\\r\\n\\r\\nAssai leggeramente quel salimmo;\\r\\ne vòlti a destra su per la sua scheggia,\\r\\nda quelle cerchie etterne ci partimmo.\\r\\n\\r\\nQuando noi fummo là dov’ el vaneggia\\r\\ndi sotto per dar passo a li sferzati,\\r\\nlo duca disse: «Attienti, e fa che feggia\\r\\n\\r\\nlo viso in te di quest’ altri mal nati,\\r\\nai quali ancor non vedesti la faccia\\r\\nperò che son con noi insieme andati».\\r\\n\\r\\nDel vecchio ponte guardavam la traccia\\r\\nche venìa verso noi da l’altra banda,\\r\\ne che la ferza similmente scaccia.\\r\\n\\r\\nE ’l buon maestro, sanza mia dimanda,\\r\\nmi disse: «Guarda quel grande che vene,\\r\\ne per dolor non par lagrime spanda:\\r\\n\\r\\nquanto aspetto reale ancor ritene!\\r\\nQuelli è Iasón, che per cuore e per senno\\r\\nli Colchi del monton privati féne.\\r\\n\\r\\nEllo passò per l’isola di Lenno\\r\\npoi che l’ardite femmine spietate\\r\\ntutti li maschi loro a morte dienno.\\r\\n\\r\\nIvi con segni e con parole ornate\\r\\nIsifile ingannò, la giovinetta\\r\\nche prima avea tutte l’altre ingannate.\\r\\n\\r\\nLasciolla quivi, gravida, soletta;\\r\\ntal colpa a tal martiro lui condanna;\\r\\ne anche di Medea si fa vendetta.\\r\\n\\r\\nCon lui sen va chi da tal parte inganna;\\r\\ne questo basti de la prima valle\\r\\nsapere e di color che ’n sé assanna».\\r\\n\\r\\nGià eravam là ’ve lo stretto calle\\r\\ncon l’argine secondo s’incrocicchia,\\r\\ne fa di quello ad un altr’ arco spalle.\\r\\n\\r\\nQuindi sentimmo gente che si nicchia\\r\\nne l’altra bolgia e che col muso scuffa,\\r\\ne sé medesma con le palme picchia.\\r\\n\\r\\nLe ripe eran grommate d’una muffa,\\r\\nper l’alito di giù che vi s’appasta,\\r\\nche con li occhi e col naso facea zuffa.\\r\\n\\r\\nLo fondo è cupo sì, che non ci basta\\r\\nloco a veder sanza montare al dosso\\r\\nde l’arco, ove lo scoglio più sovrasta.\\r\\n\\r\\nQuivi venimmo; e quindi giù nel fosso\\r\\nvidi gente attuffata in uno sterco\\r\\nche da li uman privadi parea mosso.\\r\\n\\r\\nE mentre ch’io là giù con l’occhio cerco,\\r\\nvidi un col capo sì di merda lordo,\\r\\nche non parëa s’era laico o cherco.\\r\\n\\r\\nQuei mi sgridò: «Perché se’ tu sì gordo\\r\\ndi riguardar più me che li altri brutti?».\\r\\nE io a lui: «Perché, se ben ricordo,\\r\\n\\r\\ngià t’ho veduto coi capelli asciutti,\\r\\ne se’ Alessio Interminei da Lucca:\\r\\nperò t’adocchio più che li altri tutti».\\r\\n\\r\\nEd elli allor, battendosi la zucca:\\r\\n«Qua giù m’hanno sommerso le lusinghe\\r\\nond’ io non ebbi mai la lingua stucca».\\r\\n\\r\\nAppresso ciò lo duca «Fa che pinghe»,\\r\\nmi disse, «il viso un poco più avante,\\r\\nsì che la faccia ben con l’occhio attinghe\\r\\n\\r\\ndi quella sozza e scapigliata fante\\r\\nche là si graffia con l’unghie merdose,\\r\\ne or s’accoscia e ora è in piedi stante.\\r\\n\\r\\nTaïde è, la puttana che rispuose\\r\\nal drudo suo quando disse “Ho io grazie\\r\\ngrandi apo te?”: “Anzi maravigliose!”.\\r\\n\\r\\nE quinci sian le nostre viste sazie».\\r\\n\\r\\n\\r\\n\\r\\n\\r\\nInferno\\r\\nCanto XIX\\r\\n\\r\\n\\r\\nO Simon mago, o miseri seguaci\\r\\nche le cose di Dio, che di bontate\\r\\ndeon essere spose, e voi rapaci\\r\\n\\r\\nper oro e per argento avolterate,\\r\\nor convien che per voi suoni la tromba,\\r\\nperò che ne la terza bolgia state.\\r\\n\\r\\nGià eravamo, a la seguente tomba,\\r\\nmontati de lo scoglio in quella parte\\r\\nch’a punto sovra mezzo ’l fosso piomba.\\r\\n\\r\\nO somma sapïenza, quanta è l’arte\\r\\nche mostri in cielo, in terra e nel mal mondo,\\r\\ne quanto giusto tua virtù comparte!\\r\\n\\r\\nIo vidi per le coste e per lo fondo\\r\\npiena la pietra livida di fóri,\\r\\nd’un largo tutti e ciascun era tondo.\\r\\n\\r\\nNon mi parean men ampi né maggiori\\r\\nche que’ che son nel mio bel San Giovanni,\\r\\nfatti per loco d’i battezzatori;\\r\\n\\r\\nl’un de li quali, ancor non è molt’ anni,\\r\\nrupp’ io per un che dentro v’annegava:\\r\\ne questo sia suggel ch’ogn’ omo sganni.\\r\\n\\r\\nFuor de la bocca a ciascun soperchiava\\r\\nd’un peccator li piedi e de le gambe\\r\\ninfino al grosso, e l’altro dentro stava.\\r\\n\\r\\nLe piante erano a tutti accese intrambe;\\r\\nper che sì forte guizzavan le giunte,\\r\\nche spezzate averien ritorte e strambe.\\r\\n\\r\\nQual suole il fiammeggiar de le cose unte\\r\\nmuoversi pur su per la strema buccia,\\r\\ntal era lì dai calcagni a le punte.\\r\\n\\r\\n«Chi è colui, maestro, che si cruccia\\r\\nguizzando più che li altri suoi consorti»,\\r\\ndiss’ io, «e cui più roggia fiamma succia?».\\r\\n\\r\\nEd elli a me: «Se tu vuo’ ch’i’ ti porti\\r\\nlà giù per quella ripa che più giace,\\r\\nda lui saprai di sé e de’ suoi torti».\\r\\n\\r\\nE io: «Tanto m’è bel, quanto a te piace:\\r\\ntu se’ segnore, e sai ch’i’ non mi parto\\r\\ndal tuo volere, e sai quel che si tace».\\r\\n\\r\\nAllor venimmo in su l’argine quarto;\\r\\nvolgemmo e discendemmo a mano stanca\\r\\nlà giù nel fondo foracchiato e arto.\\r\\n\\r\\nLo buon maestro ancor de la sua anca\\r\\nnon mi dipuose, sì mi giunse al rotto\\r\\ndi quel che si piangeva con la zanca.\\r\\n\\r\\n«O qual che se’ che ’l di sù tien di sotto,\\r\\nanima trista come pal commessa»,\\r\\ncomincia’ io a dir, «se puoi, fa motto».\\r\\n\\r\\nIo stava come ’l frate che confessa\\r\\nlo perfido assessin, che, poi ch’è fitto,\\r\\nrichiama lui per che la morte cessa.\\r\\n\\r\\nEd el gridò: «Se’ tu già costì ritto,\\r\\nse’ tu già costì ritto, Bonifazio?\\r\\nDi parecchi anni mi mentì lo scritto.\\r\\n\\r\\nSe’ tu sì tosto di quell’ aver sazio\\r\\nper lo qual non temesti tòrre a ’nganno\\r\\nla bella donna, e poi di farne strazio?».\\r\\n\\r\\nTal mi fec’ io, quai son color che stanno,\\r\\nper non intender ciò ch’è lor risposto,\\r\\nquasi scornati, e risponder non sanno.\\r\\n\\r\\nAllor Virgilio disse: «Dilli tosto:\\r\\n“Non son colui, non son colui che credi”»;\\r\\ne io rispuosi come a me fu imposto.\\r\\n\\r\\nPer che lo spirto tutti storse i piedi;\\r\\npoi, sospirando e con voce di pianto,\\r\\nmi disse: «Dunque che a me richiedi?\\r\\n\\r\\nSe di saper ch’i’ sia ti cal cotanto,\\r\\nche tu abbi però la ripa corsa,\\r\\nsappi ch’i’ fui vestito del gran manto;\\r\\n\\r\\ne veramente fui figliuol de l’orsa,\\r\\ncupido sì per avanzar li orsatti,\\r\\nche sù l’avere e qui me misi in borsa.\\r\\n\\r\\nDi sotto al capo mio son li altri tratti\\r\\nche precedetter me simoneggiando,\\r\\nper le fessure de la pietra piatti.\\r\\n\\r\\nLà giù cascherò io altresì quando\\r\\nverrà colui ch’i’ credea che tu fossi,\\r\\nallor ch’i’ feci ’l sùbito dimando.\\r\\n\\r\\nMa più è ’l tempo già che i piè mi cossi\\r\\ne ch’i’ son stato così sottosopra,\\r\\nch’el non starà piantato coi piè rossi:\\r\\n\\r\\nché dopo lui verrà di più laida opra,\\r\\ndi ver’ ponente, un pastor sanza legge,\\r\\ntal che convien che lui e me ricuopra.\\r\\n\\r\\nNuovo Iasón sarà, di cui si legge\\r\\nne’ Maccabei; e come a quel fu molle\\r\\nsuo re, così fia lui chi Francia regge».\\r\\n\\r\\nIo non so s’i’ mi fui qui troppo folle,\\r\\nch’i’ pur rispuosi lui a questo metro:\\r\\n«Deh, or mi dì: quanto tesoro volle\\r\\n\\r\\nNostro Segnore in prima da san Pietro\\r\\nch’ei ponesse le chiavi in sua balìa?\\r\\nCerto non chiese se non “Viemmi retro”.\\r\\n\\r\\nNé Pier né li altri tolsero a Matia\\r\\noro od argento, quando fu sortito\\r\\nal loco che perdé l’anima ria.\\r\\n\\r\\nPerò ti sta, ché tu se’ ben punito;\\r\\ne guarda ben la mal tolta moneta\\r\\nch’esser ti fece contra Carlo ardito.\\r\\n\\r\\nE se non fosse ch’ancor lo mi vieta\\r\\nla reverenza de le somme chiavi\\r\\nche tu tenesti ne la vita lieta,\\r\\n\\r\\nio userei parole ancor più gravi;\\r\\nché la vostra avarizia il mondo attrista,\\r\\ncalcando i buoni e sollevando i pravi.\\r\\n\\r\\nDi voi pastor s’accorse il Vangelista,\\r\\nquando colei che siede sopra l’acque\\r\\nputtaneggiar coi regi a lui fu vista;\\r\\n\\r\\nquella che con le sette teste nacque,\\r\\ne da le diece corna ebbe argomento,\\r\\nfin che virtute al suo marito piacque.\\r\\n\\r\\nFatto v’avete dio d’oro e d’argento;\\r\\ne che altro è da voi a l’idolatre,\\r\\nse non ch’elli uno, e voi ne orate cento?\\r\\n\\r\\nAhi, Costantin, di quanto mal fu matre,\\r\\nnon la tua conversion, ma quella dote\\r\\nche da te prese il primo ricco patre!».\\r\\n\\r\\nE mentr’ io li cantava cotai note,\\r\\no ira o coscïenza che ’l mordesse,\\r\\nforte spingava con ambo le piote.\\r\\n\\r\\nI’ credo ben ch’al mio duca piacesse,\\r\\ncon sì contenta labbia sempre attese\\r\\nlo suon de le parole vere espresse.\\r\\n\\r\\nPerò con ambo le braccia mi prese;\\r\\ne poi che tutto su mi s’ebbe al petto,\\r\\nrimontò per la via onde discese.\\r\\n\\r\\nNé si stancò d’avermi a sé distretto,\\r\\nsì men portò sovra ’l colmo de l’arco\\r\\nche dal quarto al quinto argine è tragetto.\\r\\n\\r\\nQuivi soavemente spuose il carco,\\r\\nsoave per lo scoglio sconcio ed erto\\r\\nche sarebbe a le capre duro varco.\\r\\n\\r\\nIndi un altro vallon mi fu scoperto.\\r\\n\\r\\n\\r\\n\\r\\n\\r\\nInferno\\r\\nCanto XX\\r\\n\\r\\n\\r\\nDi nova pena mi conven far versi\\r\\ne dar matera al ventesimo canto\\r\\nde la prima canzon, ch’è d’i sommersi.\\r\\n\\r\\nIo era già disposto tutto quanto\\r\\na riguardar ne lo scoperto fondo,\\r\\nche si bagnava d’angoscioso pianto;\\r\\n\\r\\ne vidi gente per lo vallon tondo\\r\\nvenir, tacendo e lagrimando, al passo\\r\\nche fanno le letane in questo mondo.\\r\\n\\r\\nCome ’l viso mi scese in lor più basso,\\r\\nmirabilmente apparve esser travolto\\r\\nciascun tra ’l mento e ’l principio del casso,\\r\\n\\r\\nché da le reni era tornato ’l volto,\\r\\ne in dietro venir li convenia,\\r\\nperché ’l veder dinanzi era lor tolto.\\r\\n\\r\\nForse per forza già di parlasia\\r\\nsi travolse così alcun del tutto;\\r\\nma io nol vidi, né credo che sia.\\r\\n\\r\\nSe Dio ti lasci, lettor, prender frutto\\r\\ndi tua lezione, or pensa per te stesso\\r\\ncom’ io potea tener lo viso asciutto,\\r\\n\\r\\nquando la nostra imagine di presso\\r\\nvidi sì torta, che ’l pianto de li occhi\\r\\nle natiche bagnava per lo fesso.\\r\\n\\r\\nCerto io piangea, poggiato a un de’ rocchi\\r\\ndel duro scoglio, sì che la mia scorta\\r\\nmi disse: «Ancor se’ tu de li altri sciocchi?\\r\\n\\r\\nQui vive la pietà quand’ è ben morta;\\r\\nchi è più scellerato che colui\\r\\nche al giudicio divin passion comporta?\\r\\n\\r\\nDrizza la testa, drizza, e vedi a cui\\r\\ns’aperse a li occhi d’i Teban la terra;\\r\\nper ch’ei gridavan tutti: “Dove rui,\\r\\n\\r\\nAnfïarao? perché lasci la guerra?”.\\r\\nE non restò di ruinare a valle\\r\\nfino a Minòs che ciascheduno afferra.\\r\\n\\r\\nMira c’ha fatto petto de le spalle;\\r\\nperché volle veder troppo davante,\\r\\ndi retro guarda e fa retroso calle.\\r\\n\\r\\nVedi Tiresia, che mutò sembiante\\r\\nquando di maschio femmina divenne,\\r\\ncangiandosi le membra tutte quante;\\r\\n\\r\\ne prima, poi, ribatter li convenne\\r\\nli duo serpenti avvolti, con la verga,\\r\\nche rïavesse le maschili penne.\\r\\n\\r\\nAronta è quel ch’al ventre li s’atterga,\\r\\nche ne’ monti di Luni, dove ronca\\r\\nlo Carrarese che di sotto alberga,\\r\\n\\r\\nebbe tra ’ bianchi marmi la spelonca\\r\\nper sua dimora; onde a guardar le stelle\\r\\ne ’l mar non li era la veduta tronca.\\r\\n\\r\\nE quella che ricuopre le mammelle,\\r\\nche tu non vedi, con le trecce sciolte,\\r\\ne ha di là ogne pilosa pelle,\\r\\n\\r\\nManto fu, che cercò per terre molte;\\r\\nposcia si puose là dove nacqu’ io;\\r\\nonde un poco mi piace che m’ascolte.\\r\\n\\r\\nPoscia che ’l padre suo di vita uscìo\\r\\ne venne serva la città di Baco,\\r\\nquesta gran tempo per lo mondo gio.\\r\\n\\r\\nSuso in Italia bella giace un laco,\\r\\na piè de l’Alpe che serra Lamagna\\r\\nsovra Tiralli, c’ha nome Benaco.\\r\\n\\r\\nPer mille fonti, credo, e più si bagna\\r\\ntra Garda e Val Camonica e Pennino\\r\\nde l’acqua che nel detto laco stagna.\\r\\n\\r\\nLoco è nel mezzo là dove ’l trentino\\r\\npastore e quel di Brescia e ’l veronese\\r\\nsegnar poria, s’e’ fesse quel cammino.\\r\\n\\r\\nSiede Peschiera, bello e forte arnese\\r\\nda fronteggiar Bresciani e Bergamaschi,\\r\\nove la riva ’ntorno più discese.\\r\\n\\r\\nIvi convien che tutto quanto caschi\\r\\nciò che ’n grembo a Benaco star non può,\\r\\ne fassi fiume giù per verdi paschi.\\r\\n\\r\\nTosto che l’acqua a correr mette co,\\r\\nnon più Benaco, ma Mencio si chiama\\r\\nfino a Governol, dove cade in Po.\\r\\n\\r\\nNon molto ha corso, ch’el trova una lama,\\r\\nne la qual si distende e la ’mpaluda;\\r\\ne suol di state talor essere grama.\\r\\n\\r\\nQuindi passando la vergine cruda\\r\\nvide terra, nel mezzo del pantano,\\r\\nsanza coltura e d’abitanti nuda.\\r\\n\\r\\nLì, per fuggire ogne consorzio umano,\\r\\nristette con suoi servi a far sue arti,\\r\\ne visse, e vi lasciò suo corpo vano.\\r\\n\\r\\nLi uomini poi che ’ntorno erano sparti\\r\\ns’accolsero a quel loco, ch’era forte\\r\\nper lo pantan ch’avea da tutte parti.\\r\\n\\r\\nFer la città sovra quell’ ossa morte;\\r\\ne per colei che ’l loco prima elesse,\\r\\nMantüa l’appellar sanz’ altra sorte.\\r\\n\\r\\nGià fuor le genti sue dentro più spesse,\\r\\nprima che la mattia da Casalodi\\r\\nda Pinamonte inganno ricevesse.\\r\\n\\r\\nPerò t’assenno che, se tu mai odi\\r\\noriginar la mia terra altrimenti,\\r\\nla verità nulla menzogna frodi».\\r\\n\\r\\nE io: «Maestro, i tuoi ragionamenti\\r\\nmi son sì certi e prendon sì mia fede,\\r\\nche li altri mi sarien carboni spenti.\\r\\n\\r\\nMa dimmi, de la gente che procede,\\r\\nse tu ne vedi alcun degno di nota;\\r\\nché solo a ciò la mia mente rifiede».\\r\\n\\r\\nAllor mi disse: «Quel che da la gota\\r\\nporge la barba in su le spalle brune,\\r\\nfu—quando Grecia fu di maschi vòta,\\r\\n\\r\\nsì ch’a pena rimaser per le cune—\\r\\naugure, e diede ’l punto con Calcanta\\r\\nin Aulide a tagliar la prima fune.\\r\\n\\r\\nEuripilo ebbe nome, e così ’l canta\\r\\nl’alta mia tragedìa in alcun loco:\\r\\nben lo sai tu che la sai tutta quanta.\\r\\n\\r\\nQuell’ altro che ne’ fianchi è così poco,\\r\\nMichele Scotto fu, che veramente\\r\\nde le magiche frode seppe ’l gioco.\\r\\n\\r\\nVedi Guido Bonatti; vedi Asdente,\\r\\nch’avere inteso al cuoio e a lo spago\\r\\nora vorrebbe, ma tardi si pente.\\r\\n\\r\\nVedi le triste che lasciaron l’ago,\\r\\nla spuola e ’l fuso, e fecersi ’ndivine;\\r\\nfecer malie con erbe e con imago.\\r\\n\\r\\nMa vienne omai, ché già tiene ’l confine\\r\\nd’amendue li emisperi e tocca l’onda\\r\\nsotto Sobilia Caino e le spine;\\r\\n\\r\\ne già iernotte fu la luna tonda:\\r\\nben ten de’ ricordar, ché non ti nocque\\r\\nalcuna volta per la selva fonda».\\r\\n\\r\\nSì mi parlava, e andavamo introcque.\\r\\n\\r\\n\\r\\n\\r\\n\\r\\nInferno\\r\\nCanto XXI\\r\\n\\r\\n\\r\\nCosì di ponte in ponte, altro parlando\\r\\nche la mia comedìa cantar non cura,\\r\\nvenimmo; e tenavamo ’l colmo, quando\\r\\n\\r\\nrestammo per veder l’altra fessura\\r\\ndi Malebolge e li altri pianti vani;\\r\\ne vidila mirabilmente oscura.\\r\\n\\r\\nQuale ne l’arzanà de’ Viniziani\\r\\nbolle l’inverno la tenace pece\\r\\na rimpalmare i legni lor non sani,\\r\\n\\r\\nché navicar non ponno—in quella vece\\r\\nchi fa suo legno novo e chi ristoppa\\r\\nle coste a quel che più vïaggi fece;\\r\\n\\r\\nchi ribatte da proda e chi da poppa;\\r\\naltri fa remi e altri volge sarte;\\r\\nchi terzeruolo e artimon rintoppa—:\\r\\n\\r\\ntal, non per foco ma per divin’ arte,\\r\\nbollia là giuso una pegola spessa,\\r\\nche ’nviscava la ripa d’ogne parte.\\r\\n\\r\\nI’ vedea lei, ma non vedëa in essa\\r\\nmai che le bolle che ’l bollor levava,\\r\\ne gonfiar tutta, e riseder compressa.\\r\\n\\r\\nMentr’ io là giù fisamente mirava,\\r\\nlo duca mio, dicendo «Guarda, guarda!»,\\r\\nmi trasse a sé del loco dov’ io stava.\\r\\n\\r\\nAllor mi volsi come l’uom cui tarda\\r\\ndi veder quel che li convien fuggire\\r\\ne cui paura sùbita sgagliarda,\\r\\n\\r\\nche, per veder, non indugia ’l partire:\\r\\ne vidi dietro a noi un diavol nero\\r\\ncorrendo su per lo scoglio venire.\\r\\n\\r\\nAhi quant’ elli era ne l’aspetto fero!\\r\\ne quanto mi parea ne l’atto acerbo,\\r\\ncon l’ali aperte e sovra i piè leggero!\\r\\n\\r\\nL’omero suo, ch’era aguto e superbo,\\r\\ncarcava un peccator con ambo l’anche,\\r\\ne quei tenea de’ piè ghermito ’l nerbo.\\r\\n\\r\\nDel nostro ponte disse: «O Malebranche,\\r\\necco un de li anzïan di Santa Zita!\\r\\nMettetel sotto, ch’i’ torno per anche\\r\\n\\r\\na quella terra, che n’è ben fornita:\\r\\nogn’ uom v’è barattier, fuor che Bonturo;\\r\\ndel no, per li denar, vi si fa ita».\\r\\n\\r\\nLà giù ’l buttò, e per lo scoglio duro\\r\\nsi volse; e mai non fu mastino sciolto\\r\\ncon tanta fretta a seguitar lo furo.\\r\\n\\r\\nQuel s’attuffò, e tornò sù convolto;\\r\\nma i demon che del ponte avean coperchio,\\r\\ngridar: «Qui non ha loco il Santo Volto!\\r\\n\\r\\nqui si nuota altrimenti che nel Serchio!\\r\\nPerò, se tu non vuo’ di nostri graffi,\\r\\nnon far sopra la pegola soverchio».\\r\\n\\r\\nPoi l’addentar con più di cento raffi,\\r\\ndisser: «Coverto convien che qui balli,\\r\\nsì che, se puoi, nascosamente accaffi».\\r\\n\\r\\nNon altrimenti i cuoci a’ lor vassalli\\r\\nfanno attuffare in mezzo la caldaia\\r\\nla carne con li uncin, perché non galli.\\r\\n\\r\\nLo buon maestro «Acciò che non si paia\\r\\nche tu ci sia», mi disse, «giù t’acquatta\\r\\ndopo uno scheggio, ch’alcun schermo t’aia;\\r\\n\\r\\ne per nulla offension che mi sia fatta,\\r\\nnon temer tu, ch’i’ ho le cose conte,\\r\\nperch’ altra volta fui a tal baratta».\\r\\n\\r\\nPoscia passò di là dal co del ponte;\\r\\ne com’ el giunse in su la ripa sesta,\\r\\nmestier li fu d’aver sicura fronte.\\r\\n\\r\\nCon quel furore e con quella tempesta\\r\\nch’escono i cani a dosso al poverello\\r\\nche di sùbito chiede ove s’arresta,\\r\\n\\r\\nusciron quei di sotto al ponticello,\\r\\ne volser contra lui tutt’ i runcigli;\\r\\nma el gridò: «Nessun di voi sia fello!\\r\\n\\r\\nInnanzi che l’uncin vostro mi pigli,\\r\\ntraggasi avante l’un di voi che m’oda,\\r\\ne poi d’arruncigliarmi si consigli».\\r\\n\\r\\nTutti gridaron: «Vada Malacoda!»;\\r\\nper ch’un si mosse—e li altri stetter fermi—\\r\\ne venne a lui dicendo: «Che li approda?».\\r\\n\\r\\n«Credi tu, Malacoda, qui vedermi\\r\\nesser venuto», disse ’l mio maestro,\\r\\n«sicuro già da tutti vostri schermi,\\r\\n\\r\\nsanza voler divino e fato destro?\\r\\nLascian’ andar, ché nel cielo è voluto\\r\\nch’i’ mostri altrui questo cammin silvestro».\\r\\n\\r\\nAllor li fu l’orgoglio sì caduto,\\r\\nch’e’ si lasciò cascar l’uncino a’ piedi,\\r\\ne disse a li altri: «Omai non sia feruto».\\r\\n\\r\\nE ’l duca mio a me: «O tu che siedi\\r\\ntra li scheggion del ponte quatto quatto,\\r\\nsicuramente omai a me ti riedi».\\r\\n\\r\\nPer ch’io mi mossi e a lui venni ratto;\\r\\ne i diavoli si fecer tutti avanti,\\r\\nsì ch’io temetti ch’ei tenesser patto;\\r\\n\\r\\ncosì vid’ ïo già temer li fanti\\r\\nch’uscivan patteggiati di Caprona,\\r\\nveggendo sé tra nemici cotanti.\\r\\n\\r\\nI’ m’accostai con tutta la persona\\r\\nlungo ’l mio duca, e non torceva li occhi\\r\\nda la sembianza lor ch’era non buona.\\r\\n\\r\\nEi chinavan li raffi e «Vuo’ che ’l tocchi»,\\r\\ndiceva l’un con l’altro, «in sul groppone?».\\r\\nE rispondien: «Sì, fa che gliel’ accocchi».\\r\\n\\r\\nMa quel demonio che tenea sermone\\r\\ncol duca mio, si volse tutto presto\\r\\ne disse: «Posa, posa, Scarmiglione!».\\r\\n\\r\\nPoi disse a noi: «Più oltre andar per questo\\r\\niscoglio non si può, però che giace\\r\\ntutto spezzato al fondo l’arco sesto.\\r\\n\\r\\nE se l’andare avante pur vi piace,\\r\\nandatevene su per questa grotta;\\r\\npresso è un altro scoglio che via face.\\r\\n\\r\\nIer, più oltre cinqu’ ore che quest’ otta,\\r\\nmille dugento con sessanta sei\\r\\nanni compié che qui la via fu rotta.\\r\\n\\r\\nIo mando verso là di questi miei\\r\\na riguardar s’alcun se ne sciorina;\\r\\ngite con lor, che non saranno rei».\\r\\n\\r\\n«Tra’ti avante, Alichino, e Calcabrina»,\\r\\ncominciò elli a dire, «e tu, Cagnazzo;\\r\\ne Barbariccia guidi la decina.\\r\\n\\r\\nLibicocco vegn’ oltre e Draghignazzo,\\r\\nCirïatto sannuto e Graffiacane\\r\\ne Farfarello e Rubicante pazzo.\\r\\n\\r\\nCercate ’ntorno le boglienti pane;\\r\\ncostor sian salvi infino a l’altro scheggio\\r\\nche tutto intero va sovra le tane».\\r\\n\\r\\n«Omè, maestro, che è quel ch’i’ veggio?»,\\r\\ndiss’ io, «deh, sanza scorta andianci soli,\\r\\nse tu sa’ ir; ch’i’ per me non la cheggio.\\r\\n\\r\\nSe tu se’ sì accorto come suoli,\\r\\nnon vedi tu ch’e’ digrignan li denti\\r\\ne con le ciglia ne minaccian duoli?».\\r\\n\\r\\nEd elli a me: «Non vo’ che tu paventi;\\r\\nlasciali digrignar pur a lor senno,\\r\\nch’e’ fanno ciò per li lessi dolenti».\\r\\n\\r\\nPer l’argine sinistro volta dienno;\\r\\nma prima avea ciascun la lingua stretta\\r\\ncoi denti, verso lor duca, per cenno;\\r\\n\\r\\ned elli avea del cul fatto trombetta.\\r\\n\\r\\n\\r\\n\\r\\n\\r\\nInferno\\r\\nCanto XXII\\r\\n\\r\\n\\r\\nIo vidi già cavalier muover campo,\\r\\ne cominciare stormo e far lor mostra,\\r\\ne talvolta partir per loro scampo;\\r\\n\\r\\ncorridor vidi per la terra vostra,\\r\\no Aretini, e vidi gir gualdane,\\r\\nfedir torneamenti e correr giostra;\\r\\n\\r\\nquando con trombe, e quando con campane,\\r\\ncon tamburi e con cenni di castella,\\r\\ne con cose nostrali e con istrane;\\r\\n\\r\\nné già con sì diversa cennamella\\r\\ncavalier vidi muover né pedoni,\\r\\nné nave a segno di terra o di stella.\\r\\n\\r\\nNoi andavam con li diece demoni.\\r\\nAhi fiera compagnia! ma ne la chiesa\\r\\ncoi santi, e in taverna coi ghiottoni.\\r\\n\\r\\nPur a la pegola era la mia ’ntesa,\\r\\nper veder de la bolgia ogne contegno\\r\\ne de la gente ch’entro v’era incesa.\\r\\n\\r\\nCome i dalfini, quando fanno segno\\r\\na’ marinar con l’arco de la schiena\\r\\nche s’argomentin di campar lor legno,\\r\\n\\r\\ntalor così, ad alleggiar la pena,\\r\\nmostrav’ alcun de’ peccatori ’l dosso\\r\\ne nascondea in men che non balena.\\r\\n\\r\\nE come a l’orlo de l’acqua d’un fosso\\r\\nstanno i ranocchi pur col muso fuori,\\r\\nsì che celano i piedi e l’altro grosso,\\r\\n\\r\\nsì stavan d’ogne parte i peccatori;\\r\\nma come s’appressava Barbariccia,\\r\\ncosì si ritraén sotto i bollori.\\r\\n\\r\\nI’ vidi, e anco il cor me n’accapriccia,\\r\\nuno aspettar così, com’ elli ’ncontra\\r\\nch’una rana rimane e l’altra spiccia;\\r\\n\\r\\ne Graffiacan, che li era più di contra,\\r\\nli arruncigliò le ’mpegolate chiome\\r\\ne trassel sù, che mi parve una lontra.\\r\\n\\r\\nI’ sapea già di tutti quanti ’l nome,\\r\\nsì li notai quando fuorono eletti,\\r\\ne poi ch’e’ si chiamaro, attesi come.\\r\\n\\r\\n«O Rubicante, fa che tu li metti\\r\\nli unghioni a dosso, sì che tu lo scuoi!»,\\r\\ngridavan tutti insieme i maladetti.\\r\\n\\r\\nE io: «Maestro mio, fa, se tu puoi,\\r\\nche tu sappi chi è lo sciagurato\\r\\nvenuto a man de li avversari suoi».\\r\\n\\r\\nLo duca mio li s’accostò allato;\\r\\ndomandollo ond’ ei fosse, e quei rispuose:\\r\\n«I’ fui del regno di Navarra nato.\\r\\n\\r\\nMia madre a servo d’un segnor mi puose,\\r\\nche m’avea generato d’un ribaldo,\\r\\ndistruggitor di sé e di sue cose.\\r\\n\\r\\nPoi fui famiglia del buon re Tebaldo;\\r\\nquivi mi misi a far baratteria,\\r\\ndi ch’io rendo ragione in questo caldo».\\r\\n\\r\\nE Cirïatto, a cui di bocca uscia\\r\\nd’ogne parte una sanna come a porco,\\r\\nli fé sentir come l’una sdruscia.\\r\\n\\r\\nTra male gatte era venuto ’l sorco;\\r\\nma Barbariccia il chiuse con le braccia\\r\\ne disse: «State in là, mentr’ io lo ’nforco».\\r\\n\\r\\nE al maestro mio volse la faccia;\\r\\n«Domanda», disse, «ancor, se più disii\\r\\nsaper da lui, prima ch’altri ’l disfaccia».\\r\\n\\r\\nLo duca dunque: «Or dì: de li altri rii\\r\\nconosci tu alcun che sia latino\\r\\nsotto la pece?». E quelli: «I’ mi partii,\\r\\n\\r\\npoco è, da un che fu di là vicino.\\r\\nCosì foss’ io ancor con lui coperto,\\r\\nch’i’ non temerei unghia né uncino!».\\r\\n\\r\\nE Libicocco «Troppo avem sofferto»,\\r\\ndisse; e preseli ’l braccio col runciglio,\\r\\nsì che, stracciando, ne portò un lacerto.\\r\\n\\r\\nDraghignazzo anco i volle dar di piglio\\r\\ngiuso a le gambe; onde ’l decurio loro\\r\\nsi volse intorno intorno con mal piglio.\\r\\n\\r\\nQuand’ elli un poco rappaciati fuoro,\\r\\na lui, ch’ancor mirava sua ferita,\\r\\ndomandò ’l duca mio sanza dimoro:\\r\\n\\r\\n«Chi fu colui da cui mala partita\\r\\ndi’ che facesti per venire a proda?».\\r\\nEd ei rispuose: «Fu frate Gomita,\\r\\n\\r\\nquel di Gallura, vasel d’ogne froda,\\r\\nch’ebbe i nemici di suo donno in mano,\\r\\ne fé sì lor, che ciascun se ne loda.\\r\\n\\r\\nDanar si tolse e lasciolli di piano,\\r\\nsì com’ e’ dice; e ne li altri offici anche\\r\\nbarattier fu non picciol, ma sovrano.\\r\\n\\r\\nUsa con esso donno Michel Zanche\\r\\ndi Logodoro; e a dir di Sardigna\\r\\nle lingue lor non si sentono stanche.\\r\\n\\r\\nOmè, vedete l’altro che digrigna;\\r\\ni’ direi anche, ma i’ temo ch’ello\\r\\nnon s’apparecchi a grattarmi la tigna».\\r\\n\\r\\nE ’l gran proposto, vòlto a Farfarello\\r\\nche stralunava li occhi per fedire,\\r\\ndisse: «Fatti ’n costà, malvagio uccello!».\\r\\n\\r\\n«Se voi volete vedere o udire»,\\r\\nricominciò lo spaürato appresso,\\r\\n«Toschi o Lombardi, io ne farò venire;\\r\\n\\r\\nma stieno i Malebranche un poco in cesso,\\r\\nsì ch’ei non teman de le lor vendette;\\r\\ne io, seggendo in questo loco stesso,\\r\\n\\r\\nper un ch’io son, ne farò venir sette\\r\\nquand’ io suffolerò, com’ è nostro uso\\r\\ndi fare allor che fori alcun si mette».\\r\\n\\r\\nCagnazzo a cotal motto levò ’l muso,\\r\\ncrollando ’l capo, e disse: «Odi malizia\\r\\nch’elli ha pensata per gittarsi giuso!».\\r\\n\\r\\nOnd’ ei, ch’avea lacciuoli a gran divizia,\\r\\nrispuose: «Malizioso son io troppo,\\r\\nquand’ io procuro a’ mia maggior trestizia».\\r\\n\\r\\nAlichin non si tenne e, di rintoppo\\r\\na li altri, disse a lui: «Se tu ti cali,\\r\\nio non ti verrò dietro di gualoppo,\\r\\n\\r\\nma batterò sovra la pece l’ali.\\r\\nLascisi ’l collo, e sia la ripa scudo,\\r\\na veder se tu sol più di noi vali».\\r\\n\\r\\nO tu che leggi, udirai nuovo ludo:\\r\\nciascun da l’altra costa li occhi volse,\\r\\nquel prima, ch’a ciò fare era più crudo.\\r\\n\\r\\nLo Navarrese ben suo tempo colse;\\r\\nfermò le piante a terra, e in un punto\\r\\nsaltò e dal proposto lor si sciolse.\\r\\n\\r\\nDi che ciascun di colpa fu compunto,\\r\\nma quei più che cagion fu del difetto;\\r\\nperò si mosse e gridò: «Tu se’ giunto!».\\r\\n\\r\\nMa poco i valse: ché l’ali al sospetto\\r\\nnon potero avanzar; quelli andò sotto,\\r\\ne quei drizzò volando suso il petto:\\r\\n\\r\\nnon altrimenti l’anitra di botto,\\r\\nquando ’l falcon s’appressa, giù s’attuffa,\\r\\ned ei ritorna sù crucciato e rotto.\\r\\n\\r\\nIrato Calcabrina de la buffa,\\r\\nvolando dietro li tenne, invaghito\\r\\nche quei campasse per aver la zuffa;\\r\\n\\r\\ne come ’l barattier fu disparito,\\r\\ncosì volse li artigli al suo compagno,\\r\\ne fu con lui sopra ’l fosso ghermito.\\r\\n\\r\\nMa l’altro fu bene sparvier grifagno\\r\\nad artigliar ben lui, e amendue\\r\\ncadder nel mezzo del bogliente stagno.\\r\\n\\r\\nLo caldo sghermitor sùbito fue;\\r\\nma però di levarsi era neente,\\r\\nsì avieno inviscate l’ali sue.\\r\\n\\r\\nBarbariccia, con li altri suoi dolente,\\r\\nquattro ne fé volar da l’altra costa\\r\\ncon tutt’ i raffi, e assai prestamente\\r\\n\\r\\ndi qua, di là discesero a la posta;\\r\\nporser li uncini verso li ’mpaniati,\\r\\nch’eran già cotti dentro da la crosta.\\r\\n\\r\\nE noi lasciammo lor così ’mpacciati.\\r\\n\\r\\n\\r\\n\\r\\n\\r\\nInferno\\r\\nCanto XXIII\\r\\n\\r\\n\\r\\nTaciti, soli, sanza compagnia\\r\\nn’andavam l’un dinanzi e l’altro dopo,\\r\\ncome frati minor vanno per via.\\r\\n\\r\\nVòlt’ era in su la favola d’Isopo\\r\\nlo mio pensier per la presente rissa,\\r\\ndov’ el parlò de la rana e del topo;\\r\\n\\r\\nché più non si pareggia ‘mo’ e ‘issa’\\r\\nche l’un con l’altro fa, se ben s’accoppia\\r\\nprincipio e fine con la mente fissa.\\r\\n\\r\\nE come l’un pensier de l’altro scoppia,\\r\\ncosì nacque di quello un altro poi,\\r\\nche la prima paura mi fé doppia.\\r\\n\\r\\nIo pensava così: ‘Questi per noi\\r\\nsono scherniti con danno e con beffa\\r\\nsì fatta, ch’assai credo che lor nòi.\\r\\n\\r\\nSe l’ira sovra ’l mal voler s’aggueffa,\\r\\nei ne verranno dietro più crudeli\\r\\nche ’l cane a quella lievre ch’elli acceffa’.\\r\\n\\r\\nGià mi sentia tutti arricciar li peli\\r\\nde la paura e stava in dietro intento,\\r\\nquand’ io dissi: «Maestro, se non celi\\r\\n\\r\\nte e me tostamente, i’ ho pavento\\r\\nd’i Malebranche. Noi li avem già dietro;\\r\\nio li ’magino sì, che già li sento».\\r\\n\\r\\nE quei: «S’i’ fossi di piombato vetro,\\r\\nl’imagine di fuor tua non trarrei\\r\\npiù tosto a me, che quella dentro ’mpetro.\\r\\n\\r\\nPur mo venieno i tuo’ pensier tra ’ miei,\\r\\ncon simile atto e con simile faccia,\\r\\nsì che d’intrambi un sol consiglio fei.\\r\\n\\r\\nS’elli è che sì la destra costa giaccia,\\r\\nche noi possiam ne l’altra bolgia scendere,\\r\\nnoi fuggirem l’imaginata caccia».\\r\\n\\r\\nGià non compié di tal consiglio rendere,\\r\\nch’io li vidi venir con l’ali tese\\r\\nnon molto lungi, per volerne prendere.\\r\\n\\r\\nLo duca mio di sùbito mi prese,\\r\\ncome la madre ch’al romore è desta\\r\\ne vede presso a sé le fiamme accese,\\r\\n\\r\\nche prende il figlio e fugge e non s’arresta,\\r\\navendo più di lui che di sé cura,\\r\\ntanto che solo una camiscia vesta;\\r\\n\\r\\ne giù dal collo de la ripa dura\\r\\nsupin si diede a la pendente roccia,\\r\\nche l’un de’ lati a l’altra bolgia tura.\\r\\n\\r\\nNon corse mai sì tosto acqua per doccia\\r\\na volger ruota di molin terragno,\\r\\nquand’ ella più verso le pale approccia,\\r\\n\\r\\ncome ’l maestro mio per quel vivagno,\\r\\nportandosene me sovra ’l suo petto,\\r\\ncome suo figlio, non come compagno.\\r\\n\\r\\nA pena fuoro i piè suoi giunti al letto\\r\\ndel fondo giù, ch’e’ furon in sul colle\\r\\nsovresso noi; ma non lì era sospetto:\\r\\n\\r\\nché l’alta provedenza che lor volle\\r\\nporre ministri de la fossa quinta,\\r\\npoder di partirs’ indi a tutti tolle.\\r\\n\\r\\nLà giù trovammo una gente dipinta\\r\\nche giva intorno assai con lenti passi,\\r\\npiangendo e nel sembiante stanca e vinta.\\r\\n\\r\\nElli avean cappe con cappucci bassi\\r\\ndinanzi a li occhi, fatte de la taglia\\r\\nche in Clugnì per li monaci fassi.\\r\\n\\r\\nDi fuor dorate son, sì ch’elli abbaglia;\\r\\nma dentro tutte piombo, e gravi tanto,\\r\\nche Federigo le mettea di paglia.\\r\\n\\r\\nOh in etterno faticoso manto!\\r\\nNoi ci volgemmo ancor pur a man manca\\r\\ncon loro insieme, intenti al tristo pianto;\\r\\n\\r\\nma per lo peso quella gente stanca\\r\\nvenìa sì pian, che noi eravam nuovi\\r\\ndi compagnia ad ogne mover d’anca.\\r\\n\\r\\nPer ch’io al duca mio: «Fa che tu trovi\\r\\nalcun ch’al fatto o al nome si conosca,\\r\\ne li occhi, sì andando, intorno movi».\\r\\n\\r\\nE un che ’ntese la parola tosca,\\r\\ndi retro a noi gridò: «Tenete i piedi,\\r\\nvoi che correte sì per l’aura fosca!\\r\\n\\r\\nForse ch’avrai da me quel che tu chiedi».\\r\\nOnde ’l duca si volse e disse: «Aspetta,\\r\\ne poi secondo il suo passo procedi».\\r\\n\\r\\nRistetti, e vidi due mostrar gran fretta\\r\\nde l’animo, col viso, d’esser meco;\\r\\nma tardavali ’l carco e la via stretta.\\r\\n\\r\\nQuando fuor giunti, assai con l’occhio bieco\\r\\nmi rimiraron sanza far parola;\\r\\npoi si volsero in sé, e dicean seco:\\r\\n\\r\\n«Costui par vivo a l’atto de la gola;\\r\\ne s’e’ son morti, per qual privilegio\\r\\nvanno scoperti de la grave stola?».\\r\\n\\r\\nPoi disser me: «O Tosco, ch’al collegio\\r\\nde l’ipocriti tristi se’ venuto,\\r\\ndir chi tu se’ non avere in dispregio».\\r\\n\\r\\nE io a loro: «I’ fui nato e cresciuto\\r\\nsovra ’l bel fiume d’Arno a la gran villa,\\r\\ne son col corpo ch’i’ ho sempre avuto.\\r\\n\\r\\nMa voi chi siete, a cui tanto distilla\\r\\nquant’ i’ veggio dolor giù per le guance?\\r\\ne che pena è in voi che sì sfavilla?».\\r\\n\\r\\nE l’un rispuose a me: «Le cappe rance\\r\\nson di piombo sì grosse, che li pesi\\r\\nfan così cigolar le lor bilance.\\r\\n\\r\\nFrati godenti fummo, e bolognesi;\\r\\nio Catalano e questi Loderingo\\r\\nnomati, e da tua terra insieme presi\\r\\n\\r\\ncome suole esser tolto un uom solingo,\\r\\nper conservar sua pace; e fummo tali,\\r\\nch’ancor si pare intorno dal Gardingo».\\r\\n\\r\\nIo cominciai: «O frati, i vostri mali . . . »;\\r\\nma più non dissi, ch’a l’occhio mi corse\\r\\nun, crucifisso in terra con tre pali.\\r\\n\\r\\nQuando mi vide, tutto si distorse,\\r\\nsoffiando ne la barba con sospiri;\\r\\ne ’l frate Catalan, ch’a ciò s’accorse,\\r\\n\\r\\nmi disse: «Quel confitto che tu miri,\\r\\nconsigliò i Farisei che convenia\\r\\nporre un uom per lo popolo a’ martìri.\\r\\n\\r\\nAttraversato è, nudo, ne la via,\\r\\ncome tu vedi, ed è mestier ch’el senta\\r\\nqualunque passa, come pesa, pria.\\r\\n\\r\\nE a tal modo il socero si stenta\\r\\nin questa fossa, e li altri dal concilio\\r\\nche fu per li Giudei mala sementa».\\r\\n\\r\\nAllor vid’ io maravigliar Virgilio\\r\\nsovra colui ch’era disteso in croce\\r\\ntanto vilmente ne l’etterno essilio.\\r\\n\\r\\nPoscia drizzò al frate cotal voce:\\r\\n«Non vi dispiaccia, se vi lece, dirci\\r\\ns’a la man destra giace alcuna foce\\r\\n\\r\\nonde noi amendue possiamo uscirci,\\r\\nsanza costrigner de li angeli neri\\r\\nche vegnan d’esto fondo a dipartirci».\\r\\n\\r\\nRispuose adunque: «Più che tu non speri\\r\\ns’appressa un sasso che da la gran cerchia\\r\\nsi move e varca tutt’ i vallon feri,\\r\\n\\r\\nsalvo che ’n questo è rotto e nol coperchia;\\r\\nmontar potrete su per la ruina,\\r\\nche giace in costa e nel fondo soperchia».\\r\\n\\r\\nLo duca stette un poco a testa china;\\r\\npoi disse: «Mal contava la bisogna\\r\\ncolui che i peccator di qua uncina».\\r\\n\\r\\nE ’l frate: «Io udi’ già dire a Bologna\\r\\ndel diavol vizi assai, tra ’ quali udi’\\r\\nch’elli è bugiardo, e padre di menzogna».\\r\\n\\r\\nAppresso il duca a gran passi sen gì,\\r\\nturbato un poco d’ira nel sembiante;\\r\\nond’ io da li ’ncarcati mi parti’\\r\\n\\r\\ndietro a le poste de le care piante.\\r\\n\\r\\n\\r\\n\\r\\n\\r\\nInferno\\r\\nCanto XXIV\\r\\n\\r\\n\\r\\nIn quella parte del giovanetto anno\\r\\nche ’l sole i crin sotto l’Aquario tempra\\r\\ne già le notti al mezzo dì sen vanno,\\r\\n\\r\\nquando la brina in su la terra assempra\\r\\nl’imagine di sua sorella bianca,\\r\\nma poco dura a la sua penna tempra,\\r\\n\\r\\nlo villanello a cui la roba manca,\\r\\nsi leva, e guarda, e vede la campagna\\r\\nbiancheggiar tutta; ond’ ei si batte l’anca,\\r\\n\\r\\nritorna in casa, e qua e là si lagna,\\r\\ncome ’l tapin che non sa che si faccia;\\r\\npoi riede, e la speranza ringavagna,\\r\\n\\r\\nveggendo ’l mondo aver cangiata faccia\\r\\nin poco d’ora, e prende suo vincastro\\r\\ne fuor le pecorelle a pascer caccia.\\r\\n\\r\\nCosì mi fece sbigottir lo mastro\\r\\nquand’ io li vidi sì turbar la fronte,\\r\\ne così tosto al mal giunse lo ’mpiastro;\\r\\n\\r\\nché, come noi venimmo al guasto ponte,\\r\\nlo duca a me si volse con quel piglio\\r\\ndolce ch’io vidi prima a piè del monte.\\r\\n\\r\\nLe braccia aperse, dopo alcun consiglio\\r\\neletto seco riguardando prima\\r\\nben la ruina, e diedemi di piglio.\\r\\n\\r\\nE come quei ch’adopera ed estima,\\r\\nche sempre par che ’nnanzi si proveggia,\\r\\ncosì, levando me sù ver’ la cima\\r\\n\\r\\nd’un ronchione, avvisava un’altra scheggia\\r\\ndicendo: «Sovra quella poi t’aggrappa;\\r\\nma tenta pria s’è tal ch’ella ti reggia».\\r\\n\\r\\nNon era via da vestito di cappa,\\r\\nché noi a pena, ei lieve e io sospinto,\\r\\npotavam sù montar di chiappa in chiappa.\\r\\n\\r\\nE se non fosse che da quel precinto\\r\\npiù che da l’altro era la costa corta,\\r\\nnon so di lui, ma io sarei ben vinto.\\r\\n\\r\\nMa perché Malebolge inver’ la porta\\r\\ndel bassissimo pozzo tutta pende,\\r\\nlo sito di ciascuna valle porta\\r\\n\\r\\nche l’una costa surge e l’altra scende;\\r\\nnoi pur venimmo al fine in su la punta\\r\\nonde l’ultima pietra si scoscende.\\r\\n\\r\\nLa lena m’era del polmon sì munta\\r\\nquand’ io fui sù, ch’i’ non potea più oltre,\\r\\nanzi m’assisi ne la prima giunta.\\r\\n\\r\\n«Omai convien che tu così ti spoltre»,\\r\\ndisse ’l maestro; «ché, seggendo in piuma,\\r\\nin fama non si vien, né sotto coltre;\\r\\n\\r\\nsanza la qual chi sua vita consuma,\\r\\ncotal vestigio in terra di sé lascia,\\r\\nqual fummo in aere e in acqua la schiuma.\\r\\n\\r\\nE però leva sù; vinci l’ambascia\\r\\ncon l’animo che vince ogne battaglia,\\r\\nse col suo grave corpo non s’accascia.\\r\\n\\r\\nPiù lunga scala convien che si saglia;\\r\\nnon basta da costoro esser partito.\\r\\nSe tu mi ’ntendi, or fa sì che ti vaglia».\\r\\n\\r\\nLeva’mi allor, mostrandomi fornito\\r\\nmeglio di lena ch’i’ non mi sentia,\\r\\ne dissi: «Va, ch’i’ son forte e ardito».\\r\\n\\r\\nSu per lo scoglio prendemmo la via,\\r\\nch’era ronchioso, stretto e malagevole,\\r\\ned erto più assai che quel di pria.\\r\\n\\r\\nParlando andava per non parer fievole;\\r\\nonde una voce uscì de l’altro fosso,\\r\\na parole formar disconvenevole.\\r\\n\\r\\nNon so che disse, ancor che sovra ’l dosso\\r\\nfossi de l’arco già che varca quivi;\\r\\nma chi parlava ad ire parea mosso.\\r\\n\\r\\nIo era vòlto in giù, ma li occhi vivi\\r\\nnon poteano ire al fondo per lo scuro;\\r\\nper ch’io: «Maestro, fa che tu arrivi\\r\\n\\r\\nda l’altro cinghio e dismontiam lo muro;\\r\\nché, com’ i’ odo quinci e non intendo,\\r\\ncosì giù veggio e neente affiguro».\\r\\n\\r\\n«Altra risposta», disse, «non ti rendo\\r\\nse non lo far; ché la dimanda onesta\\r\\nsi de’ seguir con l’opera tacendo».\\r\\n\\r\\nNoi discendemmo il ponte da la testa\\r\\ndove s’aggiugne con l’ottava ripa,\\r\\ne poi mi fu la bolgia manifesta:\\r\\n\\r\\ne vidivi entro terribile stipa\\r\\ndi serpenti, e di sì diversa mena\\r\\nche la memoria il sangue ancor mi scipa.\\r\\n\\r\\nPiù non si vanti Libia con sua rena;\\r\\nché se chelidri, iaculi e faree\\r\\nproduce, e cencri con anfisibena,\\r\\n\\r\\nné tante pestilenzie né sì ree\\r\\nmostrò già mai con tutta l’Etïopia\\r\\nné con ciò che di sopra al Mar Rosso èe.\\r\\n\\r\\nTra questa cruda e tristissima copia\\r\\ncorrëan genti nude e spaventate,\\r\\nsanza sperar pertugio o elitropia:\\r\\n\\r\\ncon serpi le man dietro avean legate;\\r\\nquelle ficcavan per le ren la coda\\r\\ne ’l capo, ed eran dinanzi aggroppate.\\r\\n\\r\\nEd ecco a un ch’era da nostra proda,\\r\\ns’avventò un serpente che ’l trafisse\\r\\nlà dove ’l collo a le spalle s’annoda.\\r\\n\\r\\nNé O sì tosto mai né I si scrisse,\\r\\ncom’ el s’accese e arse, e cener tutto\\r\\nconvenne che cascando divenisse;\\r\\n\\r\\ne poi che fu a terra sì distrutto,\\r\\nla polver si raccolse per sé stessa\\r\\ne ’n quel medesmo ritornò di butto.\\r\\n\\r\\nCosì per li gran savi si confessa\\r\\nche la fenice more e poi rinasce,\\r\\nquando al cinquecentesimo anno appressa;\\r\\n\\r\\nerba né biado in sua vita non pasce,\\r\\nma sol d’incenso lagrime e d’amomo,\\r\\ne nardo e mirra son l’ultime fasce.\\r\\n\\r\\nE qual è quel che cade, e non sa como,\\r\\nper forza di demon ch’a terra il tira,\\r\\no d’altra oppilazion che lega l’omo,\\r\\n\\r\\nquando si leva, che ’ntorno si mira\\r\\ntutto smarrito de la grande angoscia\\r\\nch’elli ha sofferta, e guardando sospira:\\r\\n\\r\\ntal era ’l peccator levato poscia.\\r\\nOh potenza di Dio, quant’ è severa,\\r\\nche cotai colpi per vendetta croscia!\\r\\n\\r\\nLo duca il domandò poi chi ello era;\\r\\nper ch’ei rispuose: «Io piovvi di Toscana,\\r\\npoco tempo è, in questa gola fiera.\\r\\n\\r\\nVita bestial mi piacque e non umana,\\r\\nsì come a mul ch’i’ fui; son Vanni Fucci\\r\\nbestia, e Pistoia mi fu degna tana».\\r\\n\\r\\nE ïo al duca: «Dilli che non mucci,\\r\\ne domanda che colpa qua giù ’l pinse;\\r\\nch’io ’l vidi uomo di sangue e di crucci».\\r\\n\\r\\nE ’l peccator, che ’ntese, non s’infinse,\\r\\nma drizzò verso me l’animo e ’l volto,\\r\\ne di trista vergogna si dipinse;\\r\\n\\r\\npoi disse: «Più mi duol che tu m’hai colto\\r\\nne la miseria dove tu mi vedi,\\r\\nche quando fui de l’altra vita tolto.\\r\\n\\r\\nIo non posso negar quel che tu chiedi;\\r\\nin giù son messo tanto perch’ io fui\\r\\nladro a la sagrestia d’i belli arredi,\\r\\n\\r\\ne falsamente già fu apposto altrui.\\r\\nMa perché di tal vista tu non godi,\\r\\nse mai sarai di fuor da’ luoghi bui,\\r\\n\\r\\napri li orecchi al mio annunzio, e odi.\\r\\nPistoia in pria d’i Neri si dimagra;\\r\\npoi Fiorenza rinova gente e modi.\\r\\n\\r\\nTragge Marte vapor di Val di Magra\\r\\nch’è di torbidi nuvoli involuto;\\r\\ne con tempesta impetüosa e agra\\r\\n\\r\\nsovra Campo Picen fia combattuto;\\r\\nond’ ei repente spezzerà la nebbia,\\r\\nsì ch’ogne Bianco ne sarà feruto.\\r\\n\\r\\nE detto l’ho perché doler ti debbia!».\\r\\n\\r\\n\\r\\n\\r\\n\\r\\nInferno\\r\\nCanto XXV\\r\\n\\r\\n\\r\\nAl fine de le sue parole il ladro\\r\\nle mani alzò con amendue le fiche,\\r\\ngridando: «Togli, Dio, ch’a te le squadro!».\\r\\n\\r\\nDa indi in qua mi fuor le serpi amiche,\\r\\nperch’ una li s’avvolse allora al collo,\\r\\ncome dicesse ‘Non vo’ che più diche’;\\r\\n\\r\\ne un’altra a le braccia, e rilegollo,\\r\\nribadendo sé stessa sì dinanzi,\\r\\nche non potea con esse dare un crollo.\\r\\n\\r\\nAhi Pistoia, Pistoia, ché non stanzi\\r\\nd’incenerarti sì che più non duri,\\r\\npoi che ’n mal fare il seme tuo avanzi?\\r\\n\\r\\nPer tutt’ i cerchi de lo ’nferno scuri\\r\\nnon vidi spirto in Dio tanto superbo,\\r\\nnon quel che cadde a Tebe giù da’ muri.\\r\\n\\r\\nEl si fuggì che non parlò più verbo;\\r\\ne io vidi un centauro pien di rabbia\\r\\nvenir chiamando: «Ov’ è, ov’ è l’acerbo?».\\r\\n\\r\\nMaremma non cred’ io che tante n’abbia,\\r\\nquante bisce elli avea su per la groppa\\r\\ninfin ove comincia nostra labbia.\\r\\n\\r\\nSovra le spalle, dietro da la coppa,\\r\\ncon l’ali aperte li giacea un draco;\\r\\ne quello affuoca qualunque s’intoppa.\\r\\n\\r\\nLo mio maestro disse: «Questi è Caco,\\r\\nche, sotto ’l sasso di monte Aventino,\\r\\ndi sangue fece spesse volte laco.\\r\\n\\r\\nNon va co’ suoi fratei per un cammino,\\r\\nper lo furto che frodolente fece\\r\\ndel grande armento ch’elli ebbe a vicino;\\r\\n\\r\\nonde cessar le sue opere biece\\r\\nsotto la mazza d’Ercule, che forse\\r\\ngliene diè cento, e non sentì le diece».\\r\\n\\r\\nMentre che sì parlava, ed el trascorse,\\r\\ne tre spiriti venner sotto noi,\\r\\nde’ quai né io né ’l duca mio s’accorse,\\r\\n\\r\\nse non quando gridar: «Chi siete voi?»;\\r\\nper che nostra novella si ristette,\\r\\ne intendemmo pur ad essi poi.\\r\\n\\r\\nIo non li conoscea; ma ei seguette,\\r\\ncome suol seguitar per alcun caso,\\r\\nche l’un nomar un altro convenette,\\r\\n\\r\\ndicendo: «Cianfa dove fia rimaso?»;\\r\\nper ch’io, acciò che ’l duca stesse attento,\\r\\nmi puosi ’l dito su dal mento al naso.\\r\\n\\r\\nSe tu se’ or, lettore, a creder lento\\r\\nciò ch’io dirò, non sarà maraviglia,\\r\\nché io che ’l vidi, a pena il mi consento.\\r\\n\\r\\nCom’ io tenea levate in lor le ciglia,\\r\\ne un serpente con sei piè si lancia\\r\\ndinanzi a l’uno, e tutto a lui s’appiglia.\\r\\n\\r\\nCo’ piè di mezzo li avvinse la pancia\\r\\ne con li anterïor le braccia prese;\\r\\npoi li addentò e l’una e l’altra guancia;\\r\\n\\r\\nli diretani a le cosce distese,\\r\\ne miseli la coda tra ’mbedue\\r\\ne dietro per le ren sù la ritese.\\r\\n\\r\\nEllera abbarbicata mai non fue\\r\\nad alber sì, come l’orribil fiera\\r\\nper l’altrui membra avviticchiò le sue.\\r\\n\\r\\nPoi s’appiccar, come di calda cera\\r\\nfossero stati, e mischiar lor colore,\\r\\nné l’un né l’altro già parea quel ch’era:\\r\\n\\r\\ncome procede innanzi da l’ardore,\\r\\nper lo papiro suso, un color bruno\\r\\nche non è nero ancora e ’l bianco more.\\r\\n\\r\\nLi altri due ’l riguardavano, e ciascuno\\r\\ngridava: «Omè, Agnel, come ti muti!\\r\\nVedi che già non se’ né due né uno».\\r\\n\\r\\nGià eran li due capi un divenuti,\\r\\nquando n’apparver due figure miste\\r\\nin una faccia, ov’ eran due perduti.\\r\\n\\r\\nFersi le braccia due di quattro liste;\\r\\nle cosce con le gambe e ’l ventre e ’l casso\\r\\ndivenner membra che non fuor mai viste.\\r\\n\\r\\nOgne primaio aspetto ivi era casso:\\r\\ndue e nessun l’imagine perversa\\r\\nparea; e tal sen gio con lento passo.\\r\\n\\r\\nCome ’l ramarro sotto la gran fersa\\r\\ndei dì canicular, cangiando sepe,\\r\\nfolgore par se la via attraversa,\\r\\n\\r\\nsì pareva, venendo verso l’epe\\r\\nde li altri due, un serpentello acceso,\\r\\nlivido e nero come gran di pepe;\\r\\n\\r\\ne quella parte onde prima è preso\\r\\nnostro alimento, a l’un di lor trafisse;\\r\\npoi cadde giuso innanzi lui disteso.\\r\\n\\r\\nLo trafitto ’l mirò, ma nulla disse;\\r\\nanzi, co’ piè fermati, sbadigliava\\r\\npur come sonno o febbre l’assalisse.\\r\\n\\r\\nElli ’l serpente e quei lui riguardava;\\r\\nl’un per la piaga e l’altro per la bocca\\r\\nfummavan forte, e ’l fummo si scontrava.\\r\\n\\r\\nTaccia Lucano ormai là dov’ e’ tocca\\r\\ndel misero Sabello e di Nasidio,\\r\\ne attenda a udir quel ch’or si scocca.\\r\\n\\r\\nTaccia di Cadmo e d’Aretusa Ovidio,\\r\\nché se quello in serpente e quella in fonte\\r\\nconverte poetando, io non lo ’nvidio;\\r\\n\\r\\nché due nature mai a fronte a fronte\\r\\nnon trasmutò sì ch’amendue le forme\\r\\na cambiar lor matera fosser pronte.\\r\\n\\r\\nInsieme si rispuosero a tai norme,\\r\\nche ’l serpente la coda in forca fesse,\\r\\ne ’l feruto ristrinse insieme l’orme.\\r\\n\\r\\nLe gambe con le cosce seco stesse\\r\\ns’appiccar sì, che ’n poco la giuntura\\r\\nnon facea segno alcun che si paresse.\\r\\n\\r\\nTogliea la coda fessa la figura\\r\\nche si perdeva là, e la sua pelle\\r\\nsi facea molle, e quella di là dura.\\r\\n\\r\\nIo vidi intrar le braccia per l’ascelle,\\r\\ne i due piè de la fiera, ch’eran corti,\\r\\ntanto allungar quanto accorciavan quelle.\\r\\n\\r\\nPoscia li piè di rietro, insieme attorti,\\r\\ndiventaron lo membro che l’uom cela,\\r\\ne ’l misero del suo n’avea due porti.\\r\\n\\r\\nMentre che ’l fummo l’uno e l’altro vela\\r\\ndi color novo, e genera ’l pel suso\\r\\nper l’una parte e da l’altra il dipela,\\r\\n\\r\\nl’un si levò e l’altro cadde giuso,\\r\\nnon torcendo però le lucerne empie,\\r\\nsotto le quai ciascun cambiava muso.\\r\\n\\r\\nQuel ch’era dritto, il trasse ver’ le tempie,\\r\\ne di troppa matera ch’in là venne\\r\\nuscir li orecchi de le gote scempie;\\r\\n\\r\\nciò che non corse in dietro e si ritenne\\r\\ndi quel soverchio, fé naso a la faccia\\r\\ne le labbra ingrossò quanto convenne.\\r\\n\\r\\nQuel che giacëa, il muso innanzi caccia,\\r\\ne li orecchi ritira per la testa\\r\\ncome face le corna la lumaccia;\\r\\n\\r\\ne la lingua, ch’avëa unita e presta\\r\\nprima a parlar, si fende, e la forcuta\\r\\nne l’altro si richiude; e ’l fummo resta.\\r\\n\\r\\nL’anima ch’era fiera divenuta,\\r\\nsuffolando si fugge per la valle,\\r\\ne l’altro dietro a lui parlando sputa.\\r\\n\\r\\nPoscia li volse le novelle spalle,\\r\\ne disse a l’altro: «I’ vo’ che Buoso corra,\\r\\ncom’ ho fatt’ io, carpon per questo calle».\\r\\n\\r\\nCosì vid’ io la settima zavorra\\r\\nmutare e trasmutare; e qui mi scusi\\r\\nla novità se fior la penna abborra.\\r\\n\\r\\nE avvegna che li occhi miei confusi\\r\\nfossero alquanto e l’animo smagato,\\r\\nnon poter quei fuggirsi tanto chiusi,\\r\\n\\r\\nch’i’ non scorgessi ben Puccio Sciancato;\\r\\ned era quel che sol, di tre compagni\\r\\nche venner prima, non era mutato;\\r\\n\\r\\nl’altr’ era quel che tu, Gaville, piagni.\\r\\n\\r\\n\\r\\n\\r\\n\\r\\nInferno\\r\\nCanto XXVI\\r\\n\\r\\n\\r\\nGodi, Fiorenza, poi che se’ sì grande\\r\\nche per mare e per terra batti l’ali,\\r\\ne per lo ’nferno tuo nome si spande!\\r\\n\\r\\nTra li ladron trovai cinque cotali\\r\\ntuoi cittadini onde mi ven vergogna,\\r\\ne tu in grande orranza non ne sali.\\r\\n\\r\\nMa se presso al mattin del ver si sogna,\\r\\ntu sentirai, di qua da picciol tempo,\\r\\ndi quel che Prato, non ch’altri, t’agogna.\\r\\n\\r\\nE se già fosse, non saria per tempo.\\r\\nCosì foss’ ei, da che pur esser dee!\\r\\nché più mi graverà, com’ più m’attempo.\\r\\n\\r\\nNoi ci partimmo, e su per le scalee\\r\\nche n’avea fatto iborni a scender pria,\\r\\nrimontò ’l duca mio e trasse mee;\\r\\n\\r\\ne proseguendo la solinga via,\\r\\ntra le schegge e tra ’ rocchi de lo scoglio\\r\\nlo piè sanza la man non si spedia.\\r\\n\\r\\nAllor mi dolsi, e ora mi ridoglio\\r\\nquando drizzo la mente a ciò ch’io vidi,\\r\\ne più lo ’ngegno affreno ch’i’ non soglio,\\r\\n\\r\\nperché non corra che virtù nol guidi;\\r\\nsì che, se stella bona o miglior cosa\\r\\nm’ha dato ’l ben, ch’io stessi nol m’invidi.\\r\\n\\r\\nQuante ’l villan ch’al poggio si riposa,\\r\\nnel tempo che colui che ’l mondo schiara\\r\\nla faccia sua a noi tien meno ascosa,\\r\\n\\r\\ncome la mosca cede a la zanzara,\\r\\nvede lucciole giù per la vallea,\\r\\nforse colà dov’ e’ vendemmia e ara:\\r\\n\\r\\ndi tante fiamme tutta risplendea\\r\\nl’ottava bolgia, sì com’ io m’accorsi\\r\\ntosto che fui là ’ve ’l fondo parea.\\r\\n\\r\\nE qual colui che si vengiò con li orsi\\r\\nvide ’l carro d’Elia al dipartire,\\r\\nquando i cavalli al cielo erti levorsi,\\r\\n\\r\\nche nol potea sì con li occhi seguire,\\r\\nch’el vedesse altro che la fiamma sola,\\r\\nsì come nuvoletta, in sù salire:\\r\\n\\r\\ntal si move ciascuna per la gola\\r\\ndel fosso, ché nessuna mostra ’l furto,\\r\\ne ogne fiamma un peccatore invola.\\r\\n\\r\\nIo stava sovra ’l ponte a veder surto,\\r\\nsì che s’io non avessi un ronchion preso,\\r\\ncaduto sarei giù sanz’ esser urto.\\r\\n\\r\\nE ’l duca che mi vide tanto atteso,\\r\\ndisse: «Dentro dai fuochi son li spirti;\\r\\ncatun si fascia di quel ch’elli è inceso».\\r\\n\\r\\n«Maestro mio», rispuos’ io, «per udirti\\r\\nson io più certo; ma già m’era avviso\\r\\nche così fosse, e già voleva dirti:\\r\\n\\r\\nchi è ’n quel foco che vien sì diviso\\r\\ndi sopra, che par surger de la pira\\r\\ndov’ Eteòcle col fratel fu miso?».\\r\\n\\r\\nRispuose a me: «Là dentro si martira\\r\\nUlisse e Dïomede, e così insieme\\r\\na la vendetta vanno come a l’ira;\\r\\n\\r\\ne dentro da la lor fiamma si geme\\r\\nl’agguato del caval che fé la porta\\r\\nonde uscì de’ Romani il gentil seme.\\r\\n\\r\\nPiangevisi entro l’arte per che, morta,\\r\\nDeïdamìa ancor si duol d’Achille,\\r\\ne del Palladio pena vi si porta».\\r\\n\\r\\n«S’ei posson dentro da quelle faville\\r\\nparlar», diss’ io, «maestro, assai ten priego\\r\\ne ripriego, che ’l priego vaglia mille,\\r\\n\\r\\nche non mi facci de l’attender niego\\r\\nfin che la fiamma cornuta qua vegna;\\r\\nvedi che del disio ver’ lei mi piego!».\\r\\n\\r\\nEd elli a me: «La tua preghiera è degna\\r\\ndi molta loda, e io però l’accetto;\\r\\nma fa che la tua lingua si sostegna.\\r\\n\\r\\nLascia parlare a me, ch’i’ ho concetto\\r\\nciò che tu vuoi; ch’ei sarebbero schivi,\\r\\nperch’ e’ fuor greci, forse del tuo detto».\\r\\n\\r\\nPoi che la fiamma fu venuta quivi\\r\\ndove parve al mio duca tempo e loco,\\r\\nin questa forma lui parlare audivi:\\r\\n\\r\\n«O voi che siete due dentro ad un foco,\\r\\ns’io meritai di voi mentre ch’io vissi,\\r\\ns’io meritai di voi assai o poco\\r\\n\\r\\nquando nel mondo li alti versi scrissi,\\r\\nnon vi movete; ma l’un di voi dica\\r\\ndove, per lui, perduto a morir gissi».\\r\\n\\r\\nLo maggior corno de la fiamma antica\\r\\ncominciò a crollarsi mormorando,\\r\\npur come quella cui vento affatica;\\r\\n\\r\\nindi la cima qua e là menando,\\r\\ncome fosse la lingua che parlasse,\\r\\ngittò voce di fuori e disse: «Quando\\r\\n\\r\\nmi diparti’ da Circe, che sottrasse\\r\\nme più d’un anno là presso a Gaeta,\\r\\nprima che sì Enëa la nomasse,\\r\\n\\r\\nné dolcezza di figlio, né la pieta\\r\\ndel vecchio padre, né ’l debito amore\\r\\nlo qual dovea Penelopè far lieta,\\r\\n\\r\\nvincer potero dentro a me l’ardore\\r\\nch’i’ ebbi a divenir del mondo esperto\\r\\ne de li vizi umani e del valore;\\r\\n\\r\\nma misi me per l’alto mare aperto\\r\\nsol con un legno e con quella compagna\\r\\npicciola da la qual non fui diserto.\\r\\n\\r\\nL’un lito e l’altro vidi infin la Spagna,\\r\\nfin nel Morrocco, e l’isola d’i Sardi,\\r\\ne l’altre che quel mare intorno bagna.\\r\\n\\r\\nIo e ’ compagni eravam vecchi e tardi\\r\\nquando venimmo a quella foce stretta\\r\\ndov’ Ercule segnò li suoi riguardi\\r\\n\\r\\nacciò che l’uom più oltre non si metta;\\r\\nda la man destra mi lasciai Sibilia,\\r\\nda l’altra già m’avea lasciata Setta.\\r\\n\\r\\n“O frati”, dissi “che per cento milia\\r\\nperigli siete giunti a l’occidente,\\r\\na questa tanto picciola vigilia\\r\\n\\r\\nd’i nostri sensi ch’è del rimanente\\r\\nnon vogliate negar l’esperïenza,\\r\\ndi retro al sol, del mondo sanza gente.\\r\\n\\r\\nConsiderate la vostra semenza:\\r\\nfatti non foste a viver come bruti,\\r\\nma per seguir virtute e canoscenza”.\\r\\n\\r\\nLi miei compagni fec’ io sì aguti,\\r\\ncon questa orazion picciola, al cammino,\\r\\nche a pena poscia li avrei ritenuti;\\r\\n\\r\\ne volta nostra poppa nel mattino,\\r\\nde’ remi facemmo ali al folle volo,\\r\\nsempre acquistando dal lato mancino.\\r\\n\\r\\nTutte le stelle già de l’altro polo\\r\\nvedea la notte, e ’l nostro tanto basso,\\r\\nche non surgëa fuor del marin suolo.\\r\\n\\r\\nCinque volte racceso e tante casso\\r\\nlo lume era di sotto da la luna,\\r\\npoi che ’ntrati eravam ne l’alto passo,\\r\\n\\r\\nquando n’apparve una montagna, bruna\\r\\nper la distanza, e parvemi alta tanto\\r\\nquanto veduta non avëa alcuna.\\r\\n\\r\\nNoi ci allegrammo, e tosto tornò in pianto;\\r\\nché de la nova terra un turbo nacque\\r\\ne percosse del legno il primo canto.\\r\\n\\r\\nTre volte il fé girar con tutte l’acque;\\r\\na la quarta levar la poppa in suso\\r\\ne la prora ire in giù, com’ altrui piacque,\\r\\n\\r\\ninfin che ’l mar fu sovra noi richiuso».\\r\\n\\r\\n\\r\\n\\r\\n\\r\\nInferno\\r\\nCanto XXVII\\r\\n\\r\\n\\r\\nGià era dritta in sù la fiamma e queta\\r\\nper non dir più, e già da noi sen gia\\r\\ncon la licenza del dolce poeta,\\r\\n\\r\\nquand’ un’altra, che dietro a lei venìa,\\r\\nne fece volger li occhi a la sua cima\\r\\nper un confuso suon che fuor n’uscia.\\r\\n\\r\\nCome ’l bue cicilian che mugghiò prima\\r\\ncol pianto di colui, e ciò fu dritto,\\r\\nche l’avea temperato con sua lima,\\r\\n\\r\\nmugghiava con la voce de l’afflitto,\\r\\nsì che, con tutto che fosse di rame,\\r\\npur el pareva dal dolor trafitto;\\r\\n\\r\\ncosì, per non aver via né forame\\r\\ndal principio nel foco, in suo linguaggio\\r\\nsi convertïan le parole grame.\\r\\n\\r\\nMa poscia ch’ebber colto lor vïaggio\\r\\nsu per la punta, dandole quel guizzo\\r\\nche dato avea la lingua in lor passaggio,\\r\\n\\r\\nudimmo dire: «O tu a cu’ io drizzo\\r\\nla voce e che parlavi mo lombardo,\\r\\ndicendo “Istra ten va, più non t’adizzo”,\\r\\n\\r\\nperch’ io sia giunto forse alquanto tardo,\\r\\nnon t’incresca restare a parlar meco;\\r\\nvedi che non incresce a me, e ardo!\\r\\n\\r\\nSe tu pur mo in questo mondo cieco\\r\\ncaduto se’ di quella dolce terra\\r\\nlatina ond’ io mia colpa tutta reco,\\r\\n\\r\\ndimmi se Romagnuoli han pace o guerra;\\r\\nch’io fui d’i monti là intra Orbino\\r\\ne ’l giogo di che Tever si diserra».\\r\\n\\r\\nIo era in giuso ancora attento e chino,\\r\\nquando il mio duca mi tentò di costa,\\r\\ndicendo: «Parla tu; questi è latino».\\r\\n\\r\\nE io, ch’avea già pronta la risposta,\\r\\nsanza indugio a parlare incominciai:\\r\\n«O anima che se’ là giù nascosta,\\r\\n\\r\\nRomagna tua non è, e non fu mai,\\r\\nsanza guerra ne’ cuor de’ suoi tiranni;\\r\\nma ’n palese nessuna or vi lasciai.\\r\\n\\r\\nRavenna sta come stata è molt’ anni:\\r\\nl’aguglia da Polenta la si cova,\\r\\nsì che Cervia ricuopre co’ suoi vanni.\\r\\n\\r\\nLa terra che fé già la lunga prova\\r\\ne di Franceschi sanguinoso mucchio,\\r\\nsotto le branche verdi si ritrova.\\r\\n\\r\\nE ’l mastin vecchio e ’l nuovo da Verrucchio,\\r\\nche fecer di Montagna il mal governo,\\r\\nlà dove soglion fan d’i denti succhio.\\r\\n\\r\\nLe città di Lamone e di Santerno\\r\\nconduce il lïoncel dal nido bianco,\\r\\nche muta parte da la state al verno.\\r\\n\\r\\nE quella cu’ il Savio bagna il fianco,\\r\\ncosì com’ ella sie’ tra ’l piano e ’l monte,\\r\\ntra tirannia si vive e stato franco.\\r\\n\\r\\nOra chi se’, ti priego che ne conte;\\r\\nnon esser duro più ch’altri sia stato,\\r\\nse ’l nome tuo nel mondo tegna fronte».\\r\\n\\r\\nPoscia che ’l foco alquanto ebbe rugghiato\\r\\nal modo suo, l’aguta punta mosse\\r\\ndi qua, di là, e poi diè cotal fiato:\\r\\n\\r\\n«S’i’ credesse che mia risposta fosse\\r\\na persona che mai tornasse al mondo,\\r\\nquesta fiamma staria sanza più scosse;\\r\\n\\r\\nma però che già mai di questo fondo\\r\\nnon tornò vivo alcun, s’i’ odo il vero,\\r\\nsanza tema d’infamia ti rispondo.\\r\\n\\r\\nIo fui uom d’arme, e poi fui cordigliero,\\r\\ncredendomi, sì cinto, fare ammenda;\\r\\ne certo il creder mio venìa intero,\\r\\n\\r\\nse non fosse il gran prete, a cui mal prenda!,\\r\\nche mi rimise ne le prime colpe;\\r\\ne come e quare, voglio che m’intenda.\\r\\n\\r\\nMentre ch’io forma fui d’ossa e di polpe\\r\\nche la madre mi diè, l’opere mie\\r\\nnon furon leonine, ma di volpe.\\r\\n\\r\\nLi accorgimenti e le coperte vie\\r\\nio seppi tutte, e sì menai lor arte,\\r\\nch’al fine de la terra il suono uscie.\\r\\n\\r\\nQuando mi vidi giunto in quella parte\\r\\ndi mia etade ove ciascun dovrebbe\\r\\ncalar le vele e raccoglier le sarte,\\r\\n\\r\\nciò che pria mi piacëa, allor m’increbbe,\\r\\ne pentuto e confesso mi rendei;\\r\\nahi miser lasso! e giovato sarebbe.\\r\\n\\r\\nLo principe d’i novi Farisei,\\r\\navendo guerra presso a Laterano,\\r\\ne non con Saracin né con Giudei,\\r\\n\\r\\nché ciascun suo nimico era cristiano,\\r\\ne nessun era stato a vincer Acri\\r\\nné mercatante in terra di Soldano,\\r\\n\\r\\nné sommo officio né ordini sacri\\r\\nguardò in sé, né in me quel capestro\\r\\nche solea fare i suoi cinti più macri.\\r\\n\\r\\nMa come Costantin chiese Silvestro\\r\\nd’entro Siratti a guerir de la lebbre,\\r\\ncosì mi chiese questi per maestro\\r\\n\\r\\na guerir de la sua superba febbre;\\r\\ndomandommi consiglio, e io tacetti\\r\\nperché le sue parole parver ebbre.\\r\\n\\r\\nE’ poi ridisse: “Tuo cuor non sospetti;\\r\\nfinor t’assolvo, e tu m’insegna fare\\r\\nsì come Penestrino in terra getti.\\r\\n\\r\\nLo ciel poss’ io serrare e diserrare,\\r\\ncome tu sai; però son due le chiavi\\r\\nche ’l mio antecessor non ebbe care”.\\r\\n\\r\\nAllor mi pinser li argomenti gravi\\r\\nlà ’ve ’l tacer mi fu avviso ’l peggio,\\r\\ne dissi: “Padre, da che tu mi lavi\\r\\n\\r\\ndi quel peccato ov’ io mo cader deggio,\\r\\nlunga promessa con l’attender corto\\r\\nti farà trïunfar ne l’alto seggio”.\\r\\n\\r\\nFrancesco venne poi, com’ io fu’ morto,\\r\\nper me; ma un d’i neri cherubini\\r\\nli disse: “Non portar: non mi far torto.\\r\\n\\r\\nVenir se ne dee giù tra ’ miei meschini\\r\\nperché diede ’l consiglio frodolente,\\r\\ndal quale in qua stato li sono a’ crini;\\r\\n\\r\\nch’assolver non si può chi non si pente,\\r\\nné pentere e volere insieme puossi\\r\\nper la contradizion che nol consente”.\\r\\n\\r\\nOh me dolente! come mi riscossi\\r\\nquando mi prese dicendomi: “Forse\\r\\ntu non pensavi ch’io löico fossi!”.\\r\\n\\r\\nA Minòs mi portò; e quelli attorse\\r\\notto volte la coda al dosso duro;\\r\\ne poi che per gran rabbia la si morse,\\r\\n\\r\\ndisse: “Questi è d’i rei del foco furo”;\\r\\nper ch’io là dove vedi son perduto,\\r\\ne sì vestito, andando, mi rancuro».\\r\\n\\r\\nQuand’ elli ebbe ’l suo dir così compiuto,\\r\\nla fiamma dolorando si partio,\\r\\ntorcendo e dibattendo ’l corno aguto.\\r\\n\\r\\nNoi passamm’ oltre, e io e ’l duca mio,\\r\\nsu per lo scoglio infino in su l’altr’ arco\\r\\nche cuopre ’l fosso in che si paga il fio\\r\\n\\r\\na quei che scommettendo acquistan carco.\\r\\n\\r\\n\\r\\n\\r\\n\\r\\nInferno\\r\\nCanto XXVIII\\r\\n\\r\\n\\r\\nChi poria mai pur con parole sciolte\\r\\ndicer del sangue e de le piaghe a pieno\\r\\nch’i’ ora vidi, per narrar più volte?\\r\\n\\r\\nOgne lingua per certo verria meno\\r\\nper lo nostro sermone e per la mente\\r\\nc’hanno a tanto comprender poco seno.\\r\\n\\r\\nS’el s’aunasse ancor tutta la gente\\r\\nche già, in su la fortunata terra\\r\\ndi Puglia, fu del suo sangue dolente\\r\\n\\r\\nper li Troiani e per la lunga guerra\\r\\nche de l’anella fé sì alte spoglie,\\r\\ncome Livïo scrive, che non erra,\\r\\n\\r\\ncon quella che sentio di colpi doglie\\r\\nper contastare a Ruberto Guiscardo;\\r\\ne l’altra il cui ossame ancor s’accoglie\\r\\n\\r\\na Ceperan, là dove fu bugiardo\\r\\nciascun Pugliese, e là da Tagliacozzo,\\r\\ndove sanz’ arme vinse il vecchio Alardo;\\r\\n\\r\\ne qual forato suo membro e qual mozzo\\r\\nmostrasse, d’aequar sarebbe nulla\\r\\nil modo de la nona bolgia sozzo.\\r\\n\\r\\nGià veggia, per mezzul perdere o lulla,\\r\\ncom’ io vidi un, così non si pertugia,\\r\\nrotto dal mento infin dove si trulla.\\r\\n\\r\\nTra le gambe pendevan le minugia;\\r\\nla corata pareva e ’l tristo sacco\\r\\nche merda fa di quel che si trangugia.\\r\\n\\r\\nMentre che tutto in lui veder m’attacco,\\r\\nguardommi e con le man s’aperse il petto,\\r\\ndicendo: «Or vedi com’ io mi dilacco!\\r\\n\\r\\nvedi come storpiato è Mäometto!\\r\\nDinanzi a me sen va piangendo Alì,\\r\\nfesso nel volto dal mento al ciuffetto.\\r\\n\\r\\nE tutti li altri che tu vedi qui,\\r\\nseminator di scandalo e di scisma\\r\\nfuor vivi, e però son fessi così.\\r\\n\\r\\nUn diavolo è qua dietro che n’accisma\\r\\nsì crudelmente, al taglio de la spada\\r\\nrimettendo ciascun di questa risma,\\r\\n\\r\\nquand’ avem volta la dolente strada;\\r\\nperò che le ferite son richiuse\\r\\nprima ch’altri dinanzi li rivada.\\r\\n\\r\\nMa tu chi se’ che ’n su lo scoglio muse,\\r\\nforse per indugiar d’ire a la pena\\r\\nch’è giudicata in su le tue accuse?».\\r\\n\\r\\n«Né morte ’l giunse ancor, né colpa ’l mena»,\\r\\nrispuose ’l mio maestro, «a tormentarlo;\\r\\nma per dar lui esperïenza piena,\\r\\n\\r\\na me, che morto son, convien menarlo\\r\\nper lo ’nferno qua giù di giro in giro;\\r\\ne quest’ è ver così com’ io ti parlo».\\r\\n\\r\\nPiù fuor di cento che, quando l’udiro,\\r\\ns’arrestaron nel fosso a riguardarmi\\r\\nper maraviglia, oblïando il martiro.\\r\\n\\r\\n«Or dì a fra Dolcin dunque che s’armi,\\r\\ntu che forse vedra’ il sole in breve,\\r\\ns’ello non vuol qui tosto seguitarmi,\\r\\n\\r\\nsì di vivanda, che stretta di neve\\r\\nnon rechi la vittoria al Noarese,\\r\\nch’altrimenti acquistar non saria leve».\\r\\n\\r\\nPoi che l’un piè per girsene sospese,\\r\\nMäometto mi disse esta parola;\\r\\nindi a partirsi in terra lo distese.\\r\\n\\r\\nUn altro, che forata avea la gola\\r\\ne tronco ’l naso infin sotto le ciglia,\\r\\ne non avea mai ch’una orecchia sola,\\r\\n\\r\\nristato a riguardar per maraviglia\\r\\ncon li altri, innanzi a li altri aprì la canna,\\r\\nch’era di fuor d’ogne parte vermiglia,\\r\\n\\r\\ne disse: «O tu cui colpa non condanna\\r\\ne cu’ io vidi su in terra latina,\\r\\nse troppa simiglianza non m’inganna,\\r\\n\\r\\nrimembriti di Pier da Medicina,\\r\\nse mai torni a veder lo dolce piano\\r\\nche da Vercelli a Marcabò dichina.\\r\\n\\r\\nE fa saper a’ due miglior da Fano,\\r\\na messer Guido e anco ad Angiolello,\\r\\nche, se l’antiveder qui non è vano,\\r\\n\\r\\ngittati saran fuor di lor vasello\\r\\ne mazzerati presso a la Cattolica\\r\\nper tradimento d’un tiranno fello.\\r\\n\\r\\nTra l’isola di Cipri e di Maiolica\\r\\nnon vide mai sì gran fallo Nettuno,\\r\\nnon da pirate, non da gente argolica.\\r\\n\\r\\nQuel traditor che vede pur con l’uno,\\r\\ne tien la terra che tale qui meco\\r\\nvorrebbe di vedere esser digiuno,\\r\\n\\r\\nfarà venirli a parlamento seco;\\r\\npoi farà sì, ch’al vento di Focara\\r\\nnon sarà lor mestier voto né preco».\\r\\n\\r\\nE io a lui: «Dimostrami e dichiara,\\r\\nse vuo’ ch’i’ porti sù di te novella,\\r\\nchi è colui da la veduta amara».\\r\\n\\r\\nAllor puose la mano a la mascella\\r\\nd’un suo compagno e la bocca li aperse,\\r\\ngridando: «Questi è desso, e non favella.\\r\\n\\r\\nQuesti, scacciato, il dubitar sommerse\\r\\nin Cesare, affermando che ’l fornito\\r\\nsempre con danno l’attender sofferse».\\r\\n\\r\\nOh quanto mi pareva sbigottito\\r\\ncon la lingua tagliata ne la strozza\\r\\nCurïo, ch’a dir fu così ardito!\\r\\n\\r\\nE un ch’avea l’una e l’altra man mozza,\\r\\nlevando i moncherin per l’aura fosca,\\r\\nsì che ’l sangue facea la faccia sozza,\\r\\n\\r\\ngridò: «Ricordera’ti anche del Mosca,\\r\\nche disse, lasso!, “Capo ha cosa fatta”,\\r\\nche fu mal seme per la gente tosca».\\r\\n\\r\\nE io li aggiunsi: «E morte di tua schiatta»;\\r\\nper ch’elli, accumulando duol con duolo,\\r\\nsen gio come persona trista e matta.\\r\\n\\r\\nMa io rimasi a riguardar lo stuolo,\\r\\ne vidi cosa ch’io avrei paura,\\r\\nsanza più prova, di contarla solo;\\r\\n\\r\\nse non che coscïenza m’assicura,\\r\\nla buona compagnia che l’uom francheggia\\r\\nsotto l’asbergo del sentirsi pura.\\r\\n\\r\\nIo vidi certo, e ancor par ch’io ’l veggia,\\r\\nun busto sanza capo andar sì come\\r\\nandavan li altri de la trista greggia;\\r\\n\\r\\ne ’l capo tronco tenea per le chiome,\\r\\npesol con mano a guisa di lanterna:\\r\\ne quel mirava noi e dicea: «Oh me!».\\r\\n\\r\\nDi sé facea a sé stesso lucerna,\\r\\ned eran due in uno e uno in due;\\r\\ncom’ esser può, quei sa che sì governa.\\r\\n\\r\\nQuando diritto al piè del ponte fue,\\r\\nlevò ’l braccio alto con tutta la testa\\r\\nper appressarne le parole sue,\\r\\n\\r\\nche fuoro: «Or vedi la pena molesta,\\r\\ntu che, spirando, vai veggendo i morti:\\r\\nvedi s’alcuna è grande come questa.\\r\\n\\r\\nE perché tu di me novella porti,\\r\\nsappi ch’i’ son Bertram dal Bornio, quelli\\r\\nche diedi al re giovane i ma’ conforti.\\r\\n\\r\\nIo feci il padre e ’l figlio in sé ribelli;\\r\\nAchitofèl non fé più d’Absalone\\r\\ne di Davìd coi malvagi punzelli.\\r\\n\\r\\nPerch’ io parti’ così giunte persone,\\r\\npartito porto il mio cerebro, lasso!,\\r\\ndal suo principio ch’è in questo troncone.\\r\\n\\r\\nCosì s’osserva in me lo contrapasso».\\r\\n\\r\\n\\r\\n\\r\\n\\r\\nInferno\\r\\nCanto XXIX\\r\\n\\r\\n\\r\\nLa molta gente e le diverse piaghe\\r\\navean le luci mie sì inebrïate,\\r\\nche de lo stare a piangere eran vaghe.\\r\\n\\r\\nMa Virgilio mi disse: «Che pur guate?\\r\\nperché la vista tua pur si soffolge\\r\\nlà giù tra l’ombre triste smozzicate?\\r\\n\\r\\nTu non hai fatto sì a l’altre bolge;\\r\\npensa, se tu annoverar le credi,\\r\\nche miglia ventidue la valle volge.\\r\\n\\r\\nE già la luna è sotto i nostri piedi;\\r\\nlo tempo è poco omai che n’è concesso,\\r\\ne altro è da veder che tu non vedi».\\r\\n\\r\\n«Se tu avessi», rispuos’ io appresso,\\r\\n«atteso a la cagion per ch’io guardava,\\r\\nforse m’avresti ancor lo star dimesso».\\r\\n\\r\\nParte sen giva, e io retro li andava,\\r\\nlo duca, già faccendo la risposta,\\r\\ne soggiugnendo: «Dentro a quella cava\\r\\n\\r\\ndov’ io tenea or li occhi sì a posta,\\r\\ncredo ch’un spirto del mio sangue pianga\\r\\nla colpa che là giù cotanto costa».\\r\\n\\r\\nAllor disse ’l maestro: «Non si franga\\r\\nlo tuo pensier da qui innanzi sovr’ ello.\\r\\nAttendi ad altro, ed ei là si rimanga;\\r\\n\\r\\nch’io vidi lui a piè del ponticello\\r\\nmostrarti e minacciar forte col dito,\\r\\ne udi’ ’l nominar Geri del Bello.\\r\\n\\r\\nTu eri allor sì del tutto impedito\\r\\nsovra colui che già tenne Altaforte,\\r\\nche non guardasti in là, sì fu partito».\\r\\n\\r\\n«O duca mio, la vïolenta morte\\r\\nche non li è vendicata ancor», diss’ io,\\r\\n«per alcun che de l’onta sia consorte,\\r\\n\\r\\nfece lui disdegnoso; ond’ el sen gio\\r\\nsanza parlarmi, sì com’ ïo estimo:\\r\\ne in ciò m’ha el fatto a sé più pio».\\r\\n\\r\\nCosì parlammo infino al loco primo\\r\\nche de lo scoglio l’altra valle mostra,\\r\\nse più lume vi fosse, tutto ad imo.\\r\\n\\r\\nQuando noi fummo sor l’ultima chiostra\\r\\ndi Malebolge, sì che i suoi conversi\\r\\npotean parere a la veduta nostra,\\r\\n\\r\\nlamenti saettaron me diversi,\\r\\nche di pietà ferrati avean li strali;\\r\\nond’ io li orecchi con le man copersi.\\r\\n\\r\\nQual dolor fora, se de li spedali\\r\\ndi Valdichiana tra ’l luglio e ’l settembre\\r\\ne di Maremma e di Sardigna i mali\\r\\n\\r\\nfossero in una fossa tutti ’nsembre,\\r\\ntal era quivi, e tal puzzo n’usciva\\r\\nqual suol venir de le marcite membre.\\r\\n\\r\\nNoi discendemmo in su l’ultima riva\\r\\ndel lungo scoglio, pur da man sinistra;\\r\\ne allor fu la mia vista più viva\\r\\n\\r\\ngiù ver’ lo fondo, la ’ve la ministra\\r\\nde l’alto Sire infallibil giustizia\\r\\npunisce i falsador che qui registra.\\r\\n\\r\\nNon credo ch’a veder maggior tristizia\\r\\nfosse in Egina il popol tutto infermo,\\r\\nquando fu l’aere sì pien di malizia,\\r\\n\\r\\nche li animali, infino al picciol vermo,\\r\\ncascaron tutti, e poi le genti antiche,\\r\\nsecondo che i poeti hanno per fermo,\\r\\n\\r\\nsi ristorar di seme di formiche;\\r\\nch’era a veder per quella oscura valle\\r\\nlanguir li spirti per diverse biche.\\r\\n\\r\\nQual sovra ’l ventre e qual sovra le spalle\\r\\nl’un de l’altro giacea, e qual carpone\\r\\nsi trasmutava per lo tristo calle.\\r\\n\\r\\nPasso passo andavam sanza sermone,\\r\\nguardando e ascoltando li ammalati,\\r\\nche non potean levar le lor persone.\\r\\n\\r\\nIo vidi due sedere a sé poggiati,\\r\\ncom’ a scaldar si poggia tegghia a tegghia,\\r\\ndal capo al piè di schianze macolati;\\r\\n\\r\\ne non vidi già mai menare stregghia\\r\\na ragazzo aspettato dal segnorso,\\r\\nné a colui che mal volontier vegghia,\\r\\n\\r\\ncome ciascun menava spesso il morso\\r\\nde l’unghie sopra sé per la gran rabbia\\r\\ndel pizzicor, che non ha più soccorso;\\r\\n\\r\\ne sì traevan giù l’unghie la scabbia,\\r\\ncome coltel di scardova le scaglie\\r\\no d’altro pesce che più larghe l’abbia.\\r\\n\\r\\n«O tu che con le dita ti dismaglie»,\\r\\ncominciò ’l duca mio a l’un di loro,\\r\\n«e che fai d’esse talvolta tanaglie,\\r\\n\\r\\ndinne s’alcun Latino è tra costoro\\r\\nche son quinc’ entro, se l’unghia ti basti\\r\\netternalmente a cotesto lavoro».\\r\\n\\r\\n«Latin siam noi, che tu vedi sì guasti\\r\\nqui ambedue», rispuose l’un piangendo;\\r\\n«ma tu chi se’ che di noi dimandasti?».\\r\\n\\r\\nE ’l duca disse: «I’ son un che discendo\\r\\ncon questo vivo giù di balzo in balzo,\\r\\ne di mostrar lo ’nferno a lui intendo».\\r\\n\\r\\nAllor si ruppe lo comun rincalzo;\\r\\ne tremando ciascuno a me si volse\\r\\ncon altri che l’udiron di rimbalzo.\\r\\n\\r\\nLo buon maestro a me tutto s’accolse,\\r\\ndicendo: «Dì a lor ciò che tu vuoli»;\\r\\ne io incominciai, poscia ch’ei volse:\\r\\n\\r\\n«Se la vostra memoria non s’imboli\\r\\nnel primo mondo da l’umane menti,\\r\\nma s’ella viva sotto molti soli,\\r\\n\\r\\nditemi chi voi siete e di che genti;\\r\\nla vostra sconcia e fastidiosa pena\\r\\ndi palesarvi a me non vi spaventi».\\r\\n\\r\\n«Io fui d’Arezzo, e Albero da Siena»,\\r\\nrispuose l’un, «mi fé mettere al foco;\\r\\nma quel per ch’io mori’ qui non mi mena.\\r\\n\\r\\nVero è ch’i’ dissi lui, parlando a gioco:\\r\\n“I’ mi saprei levar per l’aere a volo”;\\r\\ne quei, ch’avea vaghezza e senno poco,\\r\\n\\r\\nvolle ch’i’ li mostrassi l’arte; e solo\\r\\nperch’ io nol feci Dedalo, mi fece\\r\\nardere a tal che l’avea per figliuolo.\\r\\n\\r\\nMa ne l’ultima bolgia de le diece\\r\\nme per l’alchìmia che nel mondo usai\\r\\ndannò Minòs, a cui fallar non lece».\\r\\n\\r\\nE io dissi al poeta: «Or fu già mai\\r\\ngente sì vana come la sanese?\\r\\nCerto non la francesca sì d’assai!».\\r\\n\\r\\nOnde l’altro lebbroso, che m’intese,\\r\\nrispuose al detto mio: «Tra’mene Stricca\\r\\nche seppe far le temperate spese,\\r\\n\\r\\ne Niccolò che la costuma ricca\\r\\ndel garofano prima discoverse\\r\\nne l’orto dove tal seme s’appicca;\\r\\n\\r\\ne tra’ne la brigata in che disperse\\r\\nCaccia d’Ascian la vigna e la gran fonda,\\r\\ne l’Abbagliato suo senno proferse.\\r\\n\\r\\nMa perché sappi chi sì ti seconda\\r\\ncontra i Sanesi, aguzza ver’ me l’occhio,\\r\\nsì che la faccia mia ben ti risponda:\\r\\n\\r\\nsì vedrai ch’io son l’ombra di Capocchio,\\r\\nche falsai li metalli con l’alchìmia;\\r\\ne te dee ricordar, se ben t’adocchio,\\r\\n\\r\\ncom’ io fui di natura buona scimia».\\r\\n\\r\\n\\r\\n\\r\\n\\r\\nInferno\\r\\nCanto XXX\\r\\n\\r\\n\\r\\nNel tempo che Iunone era crucciata\\r\\nper Semelè contra ’l sangue tebano,\\r\\ncome mostrò una e altra fïata,\\r\\n\\r\\nAtamante divenne tanto insano,\\r\\nche veggendo la moglie con due figli\\r\\nandar carcata da ciascuna mano,\\r\\n\\r\\ngridò: «Tendiam le reti, sì ch’io pigli\\r\\nla leonessa e ’ leoncini al varco»;\\r\\ne poi distese i dispietati artigli,\\r\\n\\r\\nprendendo l’un ch’avea nome Learco,\\r\\ne rotollo e percosselo ad un sasso;\\r\\ne quella s’annegò con l’altro carco.\\r\\n\\r\\nE quando la fortuna volse in basso\\r\\nl’altezza de’ Troian che tutto ardiva,\\r\\nsì che ’nsieme col regno il re fu casso,\\r\\n\\r\\nEcuba trista, misera e cattiva,\\r\\nposcia che vide Polissena morta,\\r\\ne del suo Polidoro in su la riva\\r\\n\\r\\ndel mar si fu la dolorosa accorta,\\r\\nforsennata latrò sì come cane;\\r\\ntanto il dolor le fé la mente torta.\\r\\n\\r\\nMa né di Tebe furie né troiane\\r\\nsi vider mäi in alcun tanto crude,\\r\\nnon punger bestie, nonché membra umane,\\r\\n\\r\\nquant’ io vidi in due ombre smorte e nude,\\r\\nche mordendo correvan di quel modo\\r\\nche ’l porco quando del porcil si schiude.\\r\\n\\r\\nL’una giunse a Capocchio, e in sul nodo\\r\\ndel collo l’assannò, sì che, tirando,\\r\\ngrattar li fece il ventre al fondo sodo.\\r\\n\\r\\nE l’Aretin che rimase, tremando\\r\\nmi disse: «Quel folletto è Gianni Schicchi,\\r\\ne va rabbioso altrui così conciando».\\r\\n\\r\\n«Oh», diss’ io lui, «se l’altro non ti ficchi\\r\\nli denti a dosso, non ti sia fatica\\r\\na dir chi è, pria che di qui si spicchi».\\r\\n\\r\\nEd elli a me: «Quell’ è l’anima antica\\r\\ndi Mirra scellerata, che divenne\\r\\nal padre, fuor del dritto amore, amica.\\r\\n\\r\\nQuesta a peccar con esso così venne,\\r\\nfalsificando sé in altrui forma,\\r\\ncome l’altro che là sen va, sostenne,\\r\\n\\r\\nper guadagnar la donna de la torma,\\r\\nfalsificare in sé Buoso Donati,\\r\\ntestando e dando al testamento norma».\\r\\n\\r\\nE poi che i due rabbiosi fuor passati\\r\\nsovra cu’ io avea l’occhio tenuto,\\r\\nrivolsilo a guardar li altri mal nati.\\r\\n\\r\\nIo vidi un, fatto a guisa di lëuto,\\r\\npur ch’elli avesse avuta l’anguinaia\\r\\ntronca da l’altro che l’uomo ha forcuto.\\r\\n\\r\\nLa grave idropesì, che sì dispaia\\r\\nle membra con l’omor che mal converte,\\r\\nche ’l viso non risponde a la ventraia,\\r\\n\\r\\nfaceva lui tener le labbra aperte\\r\\ncome l’etico fa, che per la sete\\r\\nl’un verso ’l mento e l’altro in sù rinverte.\\r\\n\\r\\n«O voi che sanz’ alcuna pena siete,\\r\\ne non so io perché, nel mondo gramo»,\\r\\ndiss’ elli a noi, «guardate e attendete\\r\\n\\r\\na la miseria del maestro Adamo;\\r\\nio ebbi, vivo, assai di quel ch’i’ volli,\\r\\ne ora, lasso!, un gocciol d’acqua bramo.\\r\\n\\r\\nLi ruscelletti che d’i verdi colli\\r\\ndel Casentin discendon giuso in Arno,\\r\\nfaccendo i lor canali freddi e molli,\\r\\n\\r\\nsempre mi stanno innanzi, e non indarno,\\r\\nché l’imagine lor vie più m’asciuga\\r\\nche ’l male ond’ io nel volto mi discarno.\\r\\n\\r\\nLa rigida giustizia che mi fruga\\r\\ntragge cagion del loco ov’ io peccai\\r\\na metter più li miei sospiri in fuga.\\r\\n\\r\\nIvi è Romena, là dov’ io falsai\\r\\nla lega suggellata del Batista;\\r\\nper ch’io il corpo sù arso lasciai.\\r\\n\\r\\nMa s’io vedessi qui l’anima trista\\r\\ndi Guido o d’Alessandro o di lor frate,\\r\\nper Fonte Branda non darei la vista.\\r\\n\\r\\nDentro c’è l’una già, se l’arrabbiate\\r\\nombre che vanno intorno dicon vero;\\r\\nma che mi val, c’ho le membra legate?\\r\\n\\r\\nS’io fossi pur di tanto ancor leggero\\r\\nch’i’ potessi in cent’ anni andare un’oncia,\\r\\nio sarei messo già per lo sentiero,\\r\\n\\r\\ncercando lui tra questa gente sconcia,\\r\\ncon tutto ch’ella volge undici miglia,\\r\\ne men d’un mezzo di traverso non ci ha.\\r\\n\\r\\nIo son per lor tra sì fatta famiglia;\\r\\ne’ m’indussero a batter li fiorini\\r\\nch’avevan tre carati di mondiglia».\\r\\n\\r\\nE io a lui: «Chi son li due tapini\\r\\nche fumman come man bagnate ’l verno,\\r\\ngiacendo stretti a’ tuoi destri confini?».\\r\\n\\r\\n«Qui li trovai—e poi volta non dierno—»,\\r\\nrispuose, «quando piovvi in questo greppo,\\r\\ne non credo che dieno in sempiterno.\\r\\n\\r\\nL’una è la falsa ch’accusò Gioseppo;\\r\\nl’altr’ è ’l falso Sinon greco di Troia:\\r\\nper febbre aguta gittan tanto leppo».\\r\\n\\r\\nE l’un di lor, che si recò a noia\\r\\nforse d’esser nomato sì oscuro,\\r\\ncol pugno li percosse l’epa croia.\\r\\n\\r\\nQuella sonò come fosse un tamburo;\\r\\ne mastro Adamo li percosse il volto\\r\\ncol braccio suo, che non parve men duro,\\r\\n\\r\\ndicendo a lui: «Ancor che mi sia tolto\\r\\nlo muover per le membra che son gravi,\\r\\nho io il braccio a tal mestiere sciolto».\\r\\n\\r\\nOnd’ ei rispuose: «Quando tu andavi\\r\\nal fuoco, non l’avei tu così presto;\\r\\nma sì e più l’avei quando coniavi».\\r\\n\\r\\nE l’idropico: «Tu di’ ver di questo:\\r\\nma tu non fosti sì ver testimonio\\r\\nlà ’ve del ver fosti a Troia richesto».\\r\\n\\r\\n«S’io dissi falso, e tu falsasti il conio»,\\r\\ndisse Sinon; «e son qui per un fallo,\\r\\ne tu per più ch’alcun altro demonio!».\\r\\n\\r\\n«Ricorditi, spergiuro, del cavallo»,\\r\\nrispuose quel ch’avëa infiata l’epa;\\r\\n«e sieti reo che tutto il mondo sallo!».\\r\\n\\r\\n«E te sia rea la sete onde ti crepa»,\\r\\ndisse ’l Greco, «la lingua, e l’acqua marcia\\r\\nche ’l ventre innanzi a li occhi sì t’assiepa!».\\r\\n\\r\\nAllora il monetier: «Così si squarcia\\r\\nla bocca tua per tuo mal come suole;\\r\\nché, s’i’ ho sete e omor mi rinfarcia,\\r\\n\\r\\ntu hai l’arsura e ’l capo che ti duole,\\r\\ne per leccar lo specchio di Narcisso,\\r\\nnon vorresti a ’nvitar molte parole».\\r\\n\\r\\nAd ascoltarli er’ io del tutto fisso,\\r\\nquando ’l maestro mi disse: «Or pur mira,\\r\\nche per poco che teco non mi risso!».\\r\\n\\r\\nQuand’ io ’l senti’ a me parlar con ira,\\r\\nvolsimi verso lui con tal vergogna,\\r\\nch’ancor per la memoria mi si gira.\\r\\n\\r\\nQual è colui che suo dannaggio sogna,\\r\\nche sognando desidera sognare,\\r\\nsì che quel ch’è, come non fosse, agogna,\\r\\n\\r\\ntal mi fec’ io, non possendo parlare,\\r\\nche disïava scusarmi, e scusava\\r\\nme tuttavia, e nol mi credea fare.\\r\\n\\r\\n«Maggior difetto men vergogna lava»,\\r\\ndisse ’l maestro, «che ’l tuo non è stato;\\r\\nperò d’ogne trestizia ti disgrava.\\r\\n\\r\\nE fa ragion ch’io ti sia sempre allato,\\r\\nse più avvien che fortuna t’accoglia\\r\\ndove sien genti in simigliante piato:\\r\\n\\r\\nché voler ciò udire è bassa voglia».\\r\\n\\r\\n\\r\\n\\r\\n\\r\\nInferno\\r\\nCanto XXXI\\r\\n\\r\\n\\r\\nUna medesma lingua pria mi morse,\\r\\nsì che mi tinse l’una e l’altra guancia,\\r\\ne poi la medicina mi riporse;\\r\\n\\r\\ncosì od’ io che solea far la lancia\\r\\nd’Achille e del suo padre esser cagione\\r\\nprima di trista e poi di buona mancia.\\r\\n\\r\\nNoi demmo il dosso al misero vallone\\r\\nsu per la ripa che ’l cinge dintorno,\\r\\nattraversando sanza alcun sermone.\\r\\n\\r\\nQuiv’ era men che notte e men che giorno,\\r\\nsì che ’l viso m’andava innanzi poco;\\r\\nma io senti’ sonare un alto corno,\\r\\n\\r\\ntanto ch’avrebbe ogne tuon fatto fioco,\\r\\nche, contra sé la sua via seguitando,\\r\\ndirizzò li occhi miei tutti ad un loco.\\r\\n\\r\\nDopo la dolorosa rotta, quando\\r\\nCarlo Magno perdé la santa gesta,\\r\\nnon sonò sì terribilmente Orlando.\\r\\n\\r\\nPoco portäi in là volta la testa,\\r\\nche me parve veder molte alte torri;\\r\\nond’ io: «Maestro, dì, che terra è questa?».\\r\\n\\r\\nEd elli a me: «Però che tu trascorri\\r\\nper le tenebre troppo da la lungi,\\r\\navvien che poi nel maginare abborri.\\r\\n\\r\\nTu vedrai ben, se tu là ti congiungi,\\r\\nquanto ’l senso s’inganna di lontano;\\r\\nperò alquanto più te stesso pungi».\\r\\n\\r\\nPoi caramente mi prese per mano\\r\\ne disse: «Pria che noi siam più avanti,\\r\\nacciò che ’l fatto men ti paia strano,\\r\\n\\r\\nsappi che non son torri, ma giganti,\\r\\ne son nel pozzo intorno da la ripa\\r\\nda l’umbilico in giuso tutti quanti».\\r\\n\\r\\nCome quando la nebbia si dissipa,\\r\\nlo sguardo a poco a poco raffigura\\r\\nciò che cela ’l vapor che l’aere stipa,\\r\\n\\r\\ncosì forando l’aura grossa e scura,\\r\\npiù e più appressando ver’ la sponda,\\r\\nfuggiemi errore e cresciemi paura;\\r\\n\\r\\nperò che, come su la cerchia tonda\\r\\nMontereggion di torri si corona,\\r\\ncosì la proda che ’l pozzo circonda\\r\\n\\r\\ntorreggiavan di mezza la persona\\r\\nli orribili giganti, cui minaccia\\r\\nGiove del cielo ancora quando tuona.\\r\\n\\r\\nE io scorgeva già d’alcun la faccia,\\r\\nle spalle e ’l petto e del ventre gran parte,\\r\\ne per le coste giù ambo le braccia.\\r\\n\\r\\nNatura certo, quando lasciò l’arte\\r\\ndi sì fatti animali, assai fé bene\\r\\nper tòrre tali essecutori a Marte.\\r\\n\\r\\nE s’ella d’elefanti e di balene\\r\\nnon si pente, chi guarda sottilmente,\\r\\npiù giusta e più discreta la ne tene;\\r\\n\\r\\nché dove l’argomento de la mente\\r\\ns’aggiugne al mal volere e a la possa,\\r\\nnessun riparo vi può far la gente.\\r\\n\\r\\nLa faccia sua mi parea lunga e grossa\\r\\ncome la pina di San Pietro a Roma,\\r\\ne a sua proporzione eran l’altre ossa;\\r\\n\\r\\nsì che la ripa, ch’era perizoma\\r\\ndal mezzo in giù, ne mostrava ben tanto\\r\\ndi sovra, che di giugnere a la chioma\\r\\n\\r\\ntre Frison s’averien dato mal vanto;\\r\\nperò ch’i’ ne vedea trenta gran palmi\\r\\ndal loco in giù dov’ omo affibbia ’l manto.\\r\\n\\r\\n«Raphèl maì amècche zabì almi»,\\r\\ncominciò a gridar la fiera bocca,\\r\\ncui non si convenia più dolci salmi.\\r\\n\\r\\nE ’l duca mio ver’ lui: «Anima sciocca,\\r\\ntienti col corno, e con quel ti disfoga\\r\\nquand’ ira o altra passïon ti tocca!\\r\\n\\r\\nCércati al collo, e troverai la soga\\r\\nche ’l tien legato, o anima confusa,\\r\\ne vedi lui che ’l gran petto ti doga».\\r\\n\\r\\nPoi disse a me: «Elli stessi s’accusa;\\r\\nquesti è Nembrotto per lo cui mal coto\\r\\npur un linguaggio nel mondo non s’usa.\\r\\n\\r\\nLasciànlo stare e non parliamo a vòto;\\r\\nché così è a lui ciascun linguaggio\\r\\ncome ’l suo ad altrui, ch’a nullo è noto».\\r\\n\\r\\nFacemmo adunque più lungo vïaggio,\\r\\nvòlti a sinistra; e al trar d’un balestro\\r\\ntrovammo l’altro assai più fero e maggio.\\r\\n\\r\\nA cigner lui qual che fosse ’l maestro,\\r\\nnon so io dir, ma el tenea soccinto\\r\\ndinanzi l’altro e dietro il braccio destro\\r\\n\\r\\nd’una catena che ’l tenea avvinto\\r\\ndal collo in giù, sì che ’n su lo scoperto\\r\\nsi ravvolgëa infino al giro quinto.\\r\\n\\r\\n«Questo superbo volle esser esperto\\r\\ndi sua potenza contra ’l sommo Giove»,\\r\\ndisse ’l mio duca, «ond’ elli ha cotal merto.\\r\\n\\r\\nFïalte ha nome, e fece le gran prove\\r\\nquando i giganti fer paura a’ dèi;\\r\\nle braccia ch’el menò, già mai non move».\\r\\n\\r\\nE io a lui: «S’esser puote, io vorrei\\r\\nche de lo smisurato Brïareo\\r\\nesperïenza avesser li occhi mei».\\r\\n\\r\\nOnd’ ei rispuose: «Tu vedrai Anteo\\r\\npresso di qui che parla ed è disciolto,\\r\\nche ne porrà nel fondo d’ogne reo.\\r\\n\\r\\nQuel che tu vuo’ veder, più là è molto\\r\\ned è legato e fatto come questo,\\r\\nsalvo che più feroce par nel volto».\\r\\n\\r\\nNon fu tremoto già tanto rubesto,\\r\\nche scotesse una torre così forte,\\r\\ncome Fïalte a scuotersi fu presto.\\r\\n\\r\\nAllor temett’ io più che mai la morte,\\r\\ne non v’era mestier più che la dotta,\\r\\ns’io non avessi viste le ritorte.\\r\\n\\r\\nNoi procedemmo più avante allotta,\\r\\ne venimmo ad Anteo, che ben cinque alle,\\r\\nsanza la testa, uscia fuor de la grotta.\\r\\n\\r\\n«O tu che ne la fortunata valle\\r\\nche fece Scipïon di gloria reda,\\r\\nquand’ Anibàl co’ suoi diede le spalle,\\r\\n\\r\\nrecasti già mille leon per preda,\\r\\ne che, se fossi stato a l’alta guerra\\r\\nde’ tuoi fratelli, ancor par che si creda\\r\\n\\r\\nch’avrebber vinto i figli de la terra:\\r\\nmettine giù, e non ten vegna schifo,\\r\\ndove Cocito la freddura serra.\\r\\n\\r\\nNon ci fare ire a Tizio né a Tifo:\\r\\nquesti può dar di quel che qui si brama;\\r\\nperò ti china e non torcer lo grifo.\\r\\n\\r\\nAncor ti può nel mondo render fama,\\r\\nch’el vive, e lunga vita ancor aspetta\\r\\nse ’nnanzi tempo grazia a sé nol chiama».\\r\\n\\r\\nCosì disse ’l maestro; e quelli in fretta\\r\\nle man distese, e prese ’l duca mio,\\r\\nond’ Ercule sentì già grande stretta.\\r\\n\\r\\nVirgilio, quando prender si sentio,\\r\\ndisse a me: «Fatti qua, sì ch’io ti prenda»;\\r\\npoi fece sì ch’un fascio era elli e io.\\r\\n\\r\\nQual pare a riguardar la Carisenda\\r\\nsotto ’l chinato, quando un nuvol vada\\r\\nsovr’ essa sì, ched ella incontro penda:\\r\\n\\r\\ntal parve Antëo a me che stava a bada\\r\\ndi vederlo chinare, e fu tal ora\\r\\nch’i’ avrei voluto ir per altra strada.\\r\\n\\r\\nMa lievemente al fondo che divora\\r\\nLucifero con Giuda, ci sposò;\\r\\nné, sì chinato, lì fece dimora,\\r\\n\\r\\ne come albero in nave si levò.\\r\\n\\r\\n\\r\\n\\r\\n\\r\\nInferno\\r\\nCanto XXXII\\r\\n\\r\\n\\r\\nS’ïo avessi le rime aspre e chiocce,\\r\\ncome si converrebbe al tristo buco\\r\\nsovra ’l qual pontan tutte l’altre rocce,\\r\\n\\r\\nio premerei di mio concetto il suco\\r\\npiù pienamente; ma perch’ io non l’abbo,\\r\\nnon sanza tema a dicer mi conduco;\\r\\n\\r\\nché non è impresa da pigliare a gabbo\\r\\ndiscriver fondo a tutto l’universo,\\r\\nné da lingua che chiami mamma o babbo.\\r\\n\\r\\nMa quelle donne aiutino il mio verso\\r\\nch’aiutaro Anfïone a chiuder Tebe,\\r\\nsì che dal fatto il dir non sia diverso.\\r\\n\\r\\nOh sovra tutte mal creata plebe\\r\\nche stai nel loco onde parlare è duro,\\r\\nmei foste state qui pecore o zebe!\\r\\n\\r\\nCome noi fummo giù nel pozzo scuro\\r\\nsotto i piè del gigante assai più bassi,\\r\\ne io mirava ancora a l’alto muro,\\r\\n\\r\\ndicere udi’mi: «Guarda come passi:\\r\\nva sì, che tu non calchi con le piante\\r\\nle teste de’ fratei miseri lassi».\\r\\n\\r\\nPer ch’io mi volsi, e vidimi davante\\r\\ne sotto i piedi un lago che per gelo\\r\\navea di vetro e non d’acqua sembiante.\\r\\n\\r\\nNon fece al corso suo sì grosso velo\\r\\ndi verno la Danoia in Osterlicchi,\\r\\nné Tanaï là sotto ’l freddo cielo,\\r\\n\\r\\ncom’ era quivi; che se Tambernicchi\\r\\nvi fosse sù caduto, o Pietrapana,\\r\\nnon avria pur da l’orlo fatto cricchi.\\r\\n\\r\\nE come a gracidar si sta la rana\\r\\ncol muso fuor de l’acqua, quando sogna\\r\\ndi spigolar sovente la villana,\\r\\n\\r\\nlivide, insin là dove appar vergogna\\r\\neran l’ombre dolenti ne la ghiaccia,\\r\\nmettendo i denti in nota di cicogna.\\r\\n\\r\\nOgnuna in giù tenea volta la faccia;\\r\\nda bocca il freddo, e da li occhi il cor tristo\\r\\ntra lor testimonianza si procaccia.\\r\\n\\r\\nQuand’ io m’ebbi dintorno alquanto visto,\\r\\nvolsimi a’ piedi, e vidi due sì stretti,\\r\\nche ’l pel del capo avieno insieme misto.\\r\\n\\r\\n«Ditemi, voi che sì strignete i petti»,\\r\\ndiss’ io, «chi siete?». E quei piegaro i colli;\\r\\ne poi ch’ebber li visi a me eretti,\\r\\n\\r\\nli occhi lor, ch’eran pria pur dentro molli,\\r\\ngocciar su per le labbra, e ’l gelo strinse\\r\\nle lagrime tra essi e riserrolli.\\r\\n\\r\\nCon legno legno spranga mai non cinse\\r\\nforte così; ond’ ei come due becchi\\r\\ncozzaro insieme, tanta ira li vinse.\\r\\n\\r\\nE un ch’avea perduti ambo li orecchi\\r\\nper la freddura, pur col viso in giùe,\\r\\ndisse: «Perché cotanto in noi ti specchi?\\r\\n\\r\\nSe vuoi saper chi son cotesti due,\\r\\nla valle onde Bisenzo si dichina\\r\\ndel padre loro Alberto e di lor fue.\\r\\n\\r\\nD’un corpo usciro; e tutta la Caina\\r\\npotrai cercare, e non troverai ombra\\r\\ndegna più d’esser fitta in gelatina:\\r\\n\\r\\nnon quelli a cui fu rotto il petto e l’ombra\\r\\ncon esso un colpo per la man d’Artù;\\r\\nnon Focaccia; non questi che m’ingombra\\r\\n\\r\\ncol capo sì, ch’i’ non veggio oltre più,\\r\\ne fu nomato Sassol Mascheroni;\\r\\nse tosco se’, ben sai omai chi fu.\\r\\n\\r\\nE perché non mi metti in più sermoni,\\r\\nsappi ch’i’ fu’ il Camiscion de’ Pazzi;\\r\\ne aspetto Carlin che mi scagioni».\\r\\n\\r\\nPoscia vid’ io mille visi cagnazzi\\r\\nfatti per freddo; onde mi vien riprezzo,\\r\\ne verrà sempre, de’ gelati guazzi.\\r\\n\\r\\nE mentre ch’andavamo inver’ lo mezzo\\r\\nal quale ogne gravezza si rauna,\\r\\ne io tremava ne l’etterno rezzo;\\r\\n\\r\\nse voler fu o destino o fortuna,\\r\\nnon so; ma, passeggiando tra le teste,\\r\\nforte percossi ’l piè nel viso ad una.\\r\\n\\r\\nPiangendo mi sgridò: «Perché mi peste?\\r\\nse tu non vieni a crescer la vendetta\\r\\ndi Montaperti, perché mi moleste?».\\r\\n\\r\\nE io: «Maestro mio, or qui m’aspetta,\\r\\nsì ch’io esca d’un dubbio per costui;\\r\\npoi mi farai, quantunque vorrai, fretta».\\r\\n\\r\\nLo duca stette, e io dissi a colui\\r\\nche bestemmiava duramente ancora:\\r\\n«Qual se’ tu che così rampogni altrui?».\\r\\n\\r\\n«Or tu chi se’ che vai per l’Antenora,\\r\\npercotendo», rispuose, «altrui le gote,\\r\\nsì che, se fossi vivo, troppo fora?».\\r\\n\\r\\n«Vivo son io, e caro esser ti puote»,\\r\\nfu mia risposta, «se dimandi fama,\\r\\nch’io metta il nome tuo tra l’altre note».\\r\\n\\r\\nEd elli a me: «Del contrario ho io brama.\\r\\nLèvati quinci e non mi dar più lagna,\\r\\nché mal sai lusingar per questa lama!».\\r\\n\\r\\nAllor lo presi per la cuticagna\\r\\ne dissi: «El converrà che tu ti nomi,\\r\\no che capel qui sù non ti rimagna».\\r\\n\\r\\nOnd’ elli a me: «Perché tu mi dischiomi,\\r\\nné ti dirò ch’io sia, né mosterrolti,\\r\\nse mille fiate in sul capo mi tomi».\\r\\n\\r\\nIo avea già i capelli in mano avvolti,\\r\\ne tratti glien’ avea più d’una ciocca,\\r\\nlatrando lui con li occhi in giù raccolti,\\r\\n\\r\\nquando un altro gridò: «Che hai tu, Bocca?\\r\\nnon ti basta sonar con le mascelle,\\r\\nse tu non latri? qual diavol ti tocca?».\\r\\n\\r\\n«Omai», diss’ io, «non vo’ che più favelle,\\r\\nmalvagio traditor; ch’a la tua onta\\r\\nio porterò di te vere novelle».\\r\\n\\r\\n«Va via», rispuose, «e ciò che tu vuoi conta;\\r\\nma non tacer, se tu di qua entro eschi,\\r\\ndi quel ch’ebbe or così la lingua pronta.\\r\\n\\r\\nEl piange qui l’argento de’ Franceschi:\\r\\n“Io vidi”, potrai dir, “quel da Duera\\r\\nlà dove i peccatori stanno freschi”.\\r\\n\\r\\nSe fossi domandato “Altri chi v’era?”,\\r\\ntu hai dallato quel di Beccheria\\r\\ndi cui segò Fiorenza la gorgiera.\\r\\n\\r\\nGianni de’ Soldanier credo che sia\\r\\npiù là con Ganellone e Tebaldello,\\r\\nch’aprì Faenza quando si dormia».\\r\\n\\r\\nNoi eravam partiti già da ello,\\r\\nch’io vidi due ghiacciati in una buca,\\r\\nsì che l’un capo a l’altro era cappello;\\r\\n\\r\\ne come ’l pan per fame si manduca,\\r\\ncosì ’l sovran li denti a l’altro pose\\r\\nlà ’ve ’l cervel s’aggiugne con la nuca:\\r\\n\\r\\nnon altrimenti Tidëo si rose\\r\\nle tempie a Menalippo per disdegno,\\r\\nche quei faceva il teschio e l’altre cose.\\r\\n\\r\\n«O tu che mostri per sì bestial segno\\r\\nodio sovra colui che tu ti mangi,\\r\\ndimmi ’l perché», diss’ io, «per tal convegno,\\r\\n\\r\\nche se tu a ragion di lui ti piangi,\\r\\nsappiendo chi voi siete e la sua pecca,\\r\\nnel mondo suso ancora io te ne cangi,\\r\\n\\r\\nse quella con ch’io parlo non si secca».\\r\\n\\r\\n\\r\\n\\r\\n\\r\\nInferno\\r\\nCanto XXXIII\\r\\n\\r\\n\\r\\nLa bocca sollevò dal fiero pasto\\r\\nquel peccator, forbendola a’ capelli\\r\\ndel capo ch’elli avea di retro guasto.\\r\\n\\r\\nPoi cominciò: «Tu vuo’ ch’io rinovelli\\r\\ndisperato dolor che ’l cor mi preme\\r\\ngià pur pensando, pria ch’io ne favelli.\\r\\n\\r\\nMa se le mie parole esser dien seme\\r\\nche frutti infamia al traditor ch’i’ rodo,\\r\\nparlar e lagrimar vedrai insieme.\\r\\n\\r\\nIo non so chi tu se’ né per che modo\\r\\nvenuto se’ qua giù; ma fiorentino\\r\\nmi sembri veramente quand’ io t’odo.\\r\\n\\r\\nTu dei saper ch’i’ fui conte Ugolino,\\r\\ne questi è l’arcivescovo Ruggieri:\\r\\nor ti dirò perché i son tal vicino.\\r\\n\\r\\nChe per l’effetto de’ suo’ mai pensieri,\\r\\nfidandomi di lui, io fossi preso\\r\\ne poscia morto, dir non è mestieri;\\r\\n\\r\\nperò quel che non puoi avere inteso,\\r\\ncioè come la morte mia fu cruda,\\r\\nudirai, e saprai s’e’ m’ha offeso.\\r\\n\\r\\nBreve pertugio dentro da la Muda,\\r\\nla qual per me ha ’l titol de la fame,\\r\\ne che conviene ancor ch’altrui si chiuda,\\r\\n\\r\\nm’avea mostrato per lo suo forame\\r\\npiù lune già, quand’ io feci ’l mal sonno\\r\\nche del futuro mi squarciò ’l velame.\\r\\n\\r\\nQuesti pareva a me maestro e donno,\\r\\ncacciando il lupo e ’ lupicini al monte\\r\\nper che i Pisan veder Lucca non ponno.\\r\\n\\r\\nCon cagne magre, studïose e conte\\r\\nGualandi con Sismondi e con Lanfranchi\\r\\ns’avea messi dinanzi da la fronte.\\r\\n\\r\\nIn picciol corso mi parieno stanchi\\r\\nlo padre e ’ figli, e con l’agute scane\\r\\nmi parea lor veder fender li fianchi.\\r\\n\\r\\nQuando fui desto innanzi la dimane,\\r\\npianger senti’ fra ’l sonno i miei figliuoli\\r\\nch’eran con meco, e dimandar del pane.\\r\\n\\r\\nBen se’ crudel, se tu già non ti duoli\\r\\npensando ciò che ’l mio cor s’annunziava;\\r\\ne se non piangi, di che pianger suoli?\\r\\n\\r\\nGià eran desti, e l’ora s’appressava\\r\\nche ’l cibo ne solëa essere addotto,\\r\\ne per suo sogno ciascun dubitava;\\r\\n\\r\\ne io senti’ chiavar l’uscio di sotto\\r\\na l’orribile torre; ond’ io guardai\\r\\nnel viso a’ mie’ figliuoi sanza far motto.\\r\\n\\r\\nIo non piangëa, sì dentro impetrai:\\r\\npiangevan elli; e Anselmuccio mio\\r\\ndisse: “Tu guardi sì, padre! che hai?”.\\r\\n\\r\\nPerciò non lagrimai né rispuos’ io\\r\\ntutto quel giorno né la notte appresso,\\r\\ninfin che l’altro sol nel mondo uscìo.\\r\\n\\r\\nCome un poco di raggio si fu messo\\r\\nnel doloroso carcere, e io scorsi\\r\\nper quattro visi il mio aspetto stesso,\\r\\n\\r\\nambo le man per lo dolor mi morsi;\\r\\ned ei, pensando ch’io ’l fessi per voglia\\r\\ndi manicar, di sùbito levorsi\\r\\n\\r\\ne disser: “Padre, assai ci fia men doglia\\r\\nse tu mangi di noi: tu ne vestisti\\r\\nqueste misere carni, e tu le spoglia”.\\r\\n\\r\\nQueta’mi allor per non farli più tristi;\\r\\nlo dì e l’altro stemmo tutti muti;\\r\\nahi dura terra, perché non t’apristi?\\r\\n\\r\\nPoscia che fummo al quarto dì venuti,\\r\\nGaddo mi si gittò disteso a’ piedi,\\r\\ndicendo: “Padre mio, ché non m’aiuti?”.\\r\\n\\r\\nQuivi morì; e come tu mi vedi,\\r\\nvid’ io cascar li tre ad uno ad uno\\r\\ntra ’l quinto dì e ’l sesto; ond’ io mi diedi,\\r\\n\\r\\ngià cieco, a brancolar sovra ciascuno,\\r\\ne due dì li chiamai, poi che fur morti.\\r\\nPoscia, più che ’l dolor, poté ’l digiuno».\\r\\n\\r\\nQuand’ ebbe detto ciò, con li occhi torti\\r\\nriprese ’l teschio misero co’ denti,\\r\\nche furo a l’osso, come d’un can, forti.\\r\\n\\r\\nAhi Pisa, vituperio de le genti\\r\\ndel bel paese là dove ’l sì suona,\\r\\npoi che i vicini a te punir son lenti,\\r\\n\\r\\nmuovasi la Capraia e la Gorgona,\\r\\ne faccian siepe ad Arno in su la foce,\\r\\nsì ch’elli annieghi in te ogne persona!\\r\\n\\r\\nChe se ’l conte Ugolino aveva voce\\r\\nd’aver tradita te de le castella,\\r\\nnon dovei tu i figliuoi porre a tal croce.\\r\\n\\r\\nInnocenti facea l’età novella,\\r\\nnovella Tebe, Uguiccione e ’l Brigata\\r\\ne li altri due che ’l canto suso appella.\\r\\n\\r\\nNoi passammo oltre, là ’ve la gelata\\r\\nruvidamente un’altra gente fascia,\\r\\nnon volta in giù, ma tutta riversata.\\r\\n\\r\\nLo pianto stesso lì pianger non lascia,\\r\\ne ’l duol che truova in su li occhi rintoppo,\\r\\nsi volge in entro a far crescer l’ambascia;\\r\\n\\r\\nché le lagrime prime fanno groppo,\\r\\ne sì come visiere di cristallo,\\r\\nrïempion sotto ’l ciglio tutto il coppo.\\r\\n\\r\\nE avvegna che, sì come d’un callo,\\r\\nper la freddura ciascun sentimento\\r\\ncessato avesse del mio viso stallo,\\r\\n\\r\\ngià mi parea sentire alquanto vento;\\r\\nper ch’io: «Maestro mio, questo chi move?\\r\\nnon è qua giù ogne vapore spento?».\\r\\n\\r\\nOnd’ elli a me: «Avaccio sarai dove\\r\\ndi ciò ti farà l’occhio la risposta,\\r\\nveggendo la cagion che ’l fiato piove».\\r\\n\\r\\nE un de’ tristi de la fredda crosta\\r\\ngridò a noi: «O anime crudeli\\r\\ntanto che data v’è l’ultima posta,\\r\\n\\r\\nlevatemi dal viso i duri veli,\\r\\nsì ch’ïo sfoghi ’l duol che ’l cor m’impregna,\\r\\nun poco, pria che ’l pianto si raggeli».\\r\\n\\r\\nPer ch’io a lui: «Se vuo’ ch’i’ ti sovvegna,\\r\\ndimmi chi se’, e s’io non ti disbrigo,\\r\\nal fondo de la ghiaccia ir mi convegna».\\r\\n\\r\\nRispuose adunque: «I’ son frate Alberigo;\\r\\ni’ son quel da le frutta del mal orto,\\r\\nche qui riprendo dattero per figo».\\r\\n\\r\\n«Oh», diss’ io lui, «or se’ tu ancor morto?».\\r\\nEd elli a me: «Come ’l mio corpo stea\\r\\nnel mondo sù, nulla scïenza porto.\\r\\n\\r\\nCotal vantaggio ha questa Tolomea,\\r\\nche spesse volte l’anima ci cade\\r\\ninnanzi ch’Atropòs mossa le dea.\\r\\n\\r\\nE perché tu più volentier mi rade\\r\\nle ’nvetrïate lagrime dal volto,\\r\\nsappie che, tosto che l’anima trade\\r\\n\\r\\ncome fec’ ïo, il corpo suo l’è tolto\\r\\nda un demonio, che poscia il governa\\r\\nmentre che ’l tempo suo tutto sia vòlto.\\r\\n\\r\\nElla ruina in sì fatta cisterna;\\r\\ne forse pare ancor lo corpo suso\\r\\nde l’ombra che di qua dietro mi verna.\\r\\n\\r\\nTu ’l dei saper, se tu vien pur mo giuso:\\r\\nelli è ser Branca Doria, e son più anni\\r\\nposcia passati ch’el fu sì racchiuso».\\r\\n\\r\\n«Io credo», diss’ io lui, «che tu m’inganni;\\r\\nché Branca Doria non morì unquanche,\\r\\ne mangia e bee e dorme e veste panni».\\r\\n\\r\\n«Nel fosso sù», diss’ el, «de’ Malebranche,\\r\\nlà dove bolle la tenace pece,\\r\\nnon era ancora giunto Michel Zanche,\\r\\n\\r\\nche questi lasciò il diavolo in sua vece\\r\\nnel corpo suo, ed un suo prossimano\\r\\nche ’l tradimento insieme con lui fece.\\r\\n\\r\\nMa distendi oggimai in qua la mano;\\r\\naprimi li occhi». E io non gliel’ apersi;\\r\\ne cortesia fu lui esser villano.\\r\\n\\r\\nAhi Genovesi, uomini diversi\\r\\nd’ogne costume e pien d’ogne magagna,\\r\\nperché non siete voi del mondo spersi?\\r\\n\\r\\nChé col peggiore spirto di Romagna\\r\\ntrovai di voi un tal, che per sua opra\\r\\nin anima in Cocito già si bagna,\\r\\n\\r\\ne in corpo par vivo ancor di sopra.\\r\\n\\r\\n\\r\\n\\r\\n\\r\\nInferno\\r\\nCanto XXXIV\\r\\n\\r\\n\\r\\n«Vexilla regis prodeunt inferni\\r\\nverso di noi; però dinanzi mira»,\\r\\ndisse ’l maestro mio, «se tu ’l discerni».\\r\\n\\r\\nCome quando una grossa nebbia spira,\\r\\no quando l’emisperio nostro annotta,\\r\\npar di lungi un molin che ’l vento gira,\\r\\n\\r\\nveder mi parve un tal dificio allotta;\\r\\npoi per lo vento mi ristrinsi retro\\r\\nal duca mio, ché non lì era altra grotta.\\r\\n\\r\\nGià era, e con paura il metto in metro,\\r\\nlà dove l’ombre tutte eran coperte,\\r\\ne trasparien come festuca in vetro.\\r\\n\\r\\nAltre sono a giacere; altre stanno erte,\\r\\nquella col capo e quella con le piante;\\r\\naltra, com’ arco, il volto a’ piè rinverte.\\r\\n\\r\\nQuando noi fummo fatti tanto avante,\\r\\nch’al mio maestro piacque di mostrarmi\\r\\nla creatura ch’ebbe il bel sembiante,\\r\\n\\r\\nd’innanzi mi si tolse e fé restarmi,\\r\\n«Ecco Dite», dicendo, «ed ecco il loco\\r\\nove convien che di fortezza t’armi».\\r\\n\\r\\nCom’ io divenni allor gelato e fioco,\\r\\nnol dimandar, lettor, ch’i’ non lo scrivo,\\r\\nperò ch’ogne parlar sarebbe poco.\\r\\n\\r\\nIo non mori’ e non rimasi vivo;\\r\\npensa oggimai per te, s’hai fior d’ingegno,\\r\\nqual io divenni, d’uno e d’altro privo.\\r\\n\\r\\nLo ’mperador del doloroso regno\\r\\nda mezzo ’l petto uscia fuor de la ghiaccia;\\r\\ne più con un gigante io mi convegno,\\r\\n\\r\\nche i giganti non fan con le sue braccia:\\r\\nvedi oggimai quant’ esser dee quel tutto\\r\\nch’a così fatta parte si confaccia.\\r\\n\\r\\nS’el fu sì bel com’ elli è ora brutto,\\r\\ne contra ’l suo fattore alzò le ciglia,\\r\\nben dee da lui procedere ogne lutto.\\r\\n\\r\\nOh quanto parve a me gran maraviglia\\r\\nquand’ io vidi tre facce a la sua testa!\\r\\nL’una dinanzi, e quella era vermiglia;\\r\\n\\r\\nl’altr’ eran due, che s’aggiugnieno a questa\\r\\nsovresso ’l mezzo di ciascuna spalla,\\r\\ne sé giugnieno al loco de la cresta:\\r\\n\\r\\ne la destra parea tra bianca e gialla;\\r\\nla sinistra a vedere era tal, quali\\r\\nvegnon di là onde ’l Nilo s’avvalla.\\r\\n\\r\\nSotto ciascuna uscivan due grand’ ali,\\r\\nquanto si convenia a tanto uccello:\\r\\nvele di mar non vid’ io mai cotali.\\r\\n\\r\\nNon avean penne, ma di vispistrello\\r\\nera lor modo; e quelle svolazzava,\\r\\nsì che tre venti si movean da ello:\\r\\n\\r\\nquindi Cocito tutto s’aggelava.\\r\\nCon sei occhi piangëa, e per tre menti\\r\\ngocciava ’l pianto e sanguinosa bava.\\r\\n\\r\\nDa ogne bocca dirompea co’ denti\\r\\nun peccatore, a guisa di maciulla,\\r\\nsì che tre ne facea così dolenti.\\r\\n\\r\\nA quel dinanzi il mordere era nulla\\r\\nverso ’l graffiar, che talvolta la schiena\\r\\nrimanea de la pelle tutta brulla.\\r\\n\\r\\n«Quell’ anima là sù c’ha maggior pena»,\\r\\ndisse ’l maestro, «è Giuda Scarïotto,\\r\\nche ’l capo ha dentro e fuor le gambe mena.\\r\\n\\r\\nDe li altri due c’hanno il capo di sotto,\\r\\nquel che pende dal nero ceffo è Bruto:\\r\\nvedi come si storce, e non fa motto!;\\r\\n\\r\\ne l’altro è Cassio, che par sì membruto.\\r\\nMa la notte risurge, e oramai\\r\\nè da partir, ché tutto avem veduto».\\r\\n\\r\\nCom’ a lui piacque, il collo li avvinghiai;\\r\\ned el prese di tempo e loco poste,\\r\\ne quando l’ali fuoro aperte assai,\\r\\n\\r\\nappigliò sé a le vellute coste;\\r\\ndi vello in vello giù discese poscia\\r\\ntra ’l folto pelo e le gelate croste.\\r\\n\\r\\nQuando noi fummo là dove la coscia\\r\\nsi volge, a punto in sul grosso de l’anche,\\r\\nlo duca, con fatica e con angoscia,\\r\\n\\r\\nvolse la testa ov’ elli avea le zanche,\\r\\ne aggrappossi al pel com’ om che sale,\\r\\nsì che ’n inferno i’ credea tornar anche.\\r\\n\\r\\n«Attienti ben, ché per cotali scale»,\\r\\ndisse ’l maestro, ansando com’ uom lasso,\\r\\n«conviensi dipartir da tanto male».\\r\\n\\r\\nPoi uscì fuor per lo fóro d’un sasso\\r\\ne puose me in su l’orlo a sedere;\\r\\nappresso porse a me l’accorto passo.\\r\\n\\r\\nIo levai li occhi e credetti vedere\\r\\nLucifero com’ io l’avea lasciato,\\r\\ne vidili le gambe in sù tenere;\\r\\n\\r\\ne s’io divenni allora travagliato,\\r\\nla gente grossa il pensi, che non vede\\r\\nqual è quel punto ch’io avea passato.\\r\\n\\r\\n«Lèvati sù», disse ’l maestro, «in piede:\\r\\nla via è lunga e ’l cammino è malvagio,\\r\\ne già il sole a mezza terza riede».\\r\\n\\r\\nNon era camminata di palagio\\r\\nlà ’v’ eravam, ma natural burella\\r\\nch’avea mal suolo e di lume disagio.\\r\\n\\r\\n«Prima ch’io de l’abisso mi divella,\\r\\nmaestro mio», diss’ io quando fui dritto,\\r\\n«a trarmi d’erro un poco mi favella:\\r\\n\\r\\nov’ è la ghiaccia? e questi com’ è fitto\\r\\nsì sottosopra? e come, in sì poc’ ora,\\r\\nda sera a mane ha fatto il sol tragitto?».\\r\\n\\r\\nEd elli a me: «Tu imagini ancora\\r\\nd’esser di là dal centro, ov’ io mi presi\\r\\nal pel del vermo reo che ’l mondo fóra.\\r\\n\\r\\nDi là fosti cotanto quant’ io scesi;\\r\\nquand’ io mi volsi, tu passasti ’l punto\\r\\nal qual si traggon d’ogne parte i pesi.\\r\\n\\r\\nE se’ or sotto l’emisperio giunto\\r\\nch’è contraposto a quel che la gran secca\\r\\ncoverchia, e sotto ’l cui colmo consunto\\r\\n\\r\\nfu l’uom che nacque e visse sanza pecca;\\r\\ntu haï i piedi in su picciola spera\\r\\nche l’altra faccia fa de la Giudecca.\\r\\n\\r\\nQui è da man, quando di là è sera;\\r\\ne questi, che ne fé scala col pelo,\\r\\nfitto è ancora sì come prim’ era.\\r\\n\\r\\nDa questa parte cadde giù dal cielo;\\r\\ne la terra, che pria di qua si sporse,\\r\\nper paura di lui fé del mar velo,\\r\\n\\r\\ne venne a l’emisperio nostro; e forse\\r\\nper fuggir lui lasciò qui loco vòto\\r\\nquella ch’appar di qua, e sù ricorse».\\r\\n\\r\\nLuogo è là giù da Belzebù remoto\\r\\ntanto quanto la tomba si distende,\\r\\nche non per vista, ma per suono è noto\\r\\n\\r\\nd’un ruscelletto che quivi discende\\r\\nper la buca d’un sasso, ch’elli ha roso,\\r\\ncol corso ch’elli avvolge, e poco pende.\\r\\n\\r\\nLo duca e io per quel cammino ascoso\\r\\nintrammo a ritornar nel chiaro mondo;\\r\\ne sanza cura aver d’alcun riposo,\\r\\n\\r\\nsalimmo sù, el primo e io secondo,\\r\\ntanto ch’i’ vidi de le cose belle\\r\\nche porta ’l ciel, per un pertugio tondo.\\r\\n\\r\\nE quindi uscimmo a riveder le stelle.\\r\\n\\r\\n\\r\\n\\r\\n\\r\\n*** END OF THE PROJECT GUTENBERG EBOOK LA DIVINA COMMEDIA ***\\r\\n\\r\\n***** This file should be named 997-0.txt or 997-0.zip *****\\r\\nThis and all associated files of various formats will be found in:\\r\\n    https://www.gutenberg.org/9/9/997/\\r\\n\\r\\nUpdated editions will replace the previous one--the old editions will\\r\\nbe renamed.\\r\\n\\r\\nCreating the works from print editions not protected by U.S. copyright\\r\\nlaw means that no one owns a United States copyright in these works,\\r\\nso the Foundation (and you!) can copy and distribute it in the\\r\\nUnited States without permission and without paying copyright\\r\\nroyalties. Special rules, set forth in the General Terms of Use part\\r\\nof this license, apply to copying and distributing Project\\r\\nGutenberg-tm electronic works to protect the PROJECT GUTENBERG-tm\\r\\nconcept and trademark. Project Gutenberg is a registered trademark,\\r\\nand may not be used if you charge for an eBook, except by following\\r\\nthe terms of the trademark license, including paying royalties for use\\r\\nof the Project Gutenberg trademark. If you do not charge anything for\\r\\ncopies of this eBook, complying with the trademark license is very\\r\\neasy. You may use this eBook for nearly any purpose such as creation\\r\\nof derivative works, reports, performances and research. Project\\r\\nGutenberg eBooks may be modified and printed and given away--you may\\r\\ndo practically ANYTHING in the United States with eBooks not protected\\r\\nby U.S. copyright law. Redistribution is subject to the trademark\\r\\nlicense, especially commercial redistribution.\\r\\n\\r\\nSTART: FULL LICENSE\\r\\n\\r\\nTHE FULL PROJECT GUTENBERG LICENSE\\r\\nPLEASE READ THIS BEFORE YOU DISTRIBUTE OR USE THIS WORK\\r\\n\\r\\nTo protect the Project Gutenberg-tm mission of promoting the free\\r\\ndistribution of electronic works, by using or distributing this work\\r\\n(or any other work associated in any way with the phrase \"Project\\r\\nGutenberg\"), you agree to comply with all the terms of the Full\\r\\nProject Gutenberg-tm License available with this file or online at\\r\\nwww.gutenberg.org/license.\\r\\n\\r\\nSection 1. General Terms of Use and Redistributing Project\\r\\nGutenberg-tm electronic works\\r\\n\\r\\n1.A. By reading or using any part of this Project Gutenberg-tm\\r\\nelectronic work, you indicate that you have read, understand, agree to\\r\\nand accept all the terms of this license and intellectual property\\r\\n(trademark/copyright) agreement. If you do not agree to abide by all\\r\\nthe terms of this agreement, you must cease using and return or\\r\\ndestroy all copies of Project Gutenberg-tm electronic works in your\\r\\npossession. If you paid a fee for obtaining a copy of or access to a\\r\\nProject Gutenberg-tm electronic work and you do not agree to be bound\\r\\nby the terms of this agreement, you may obtain a refund from the\\r\\nperson or entity to whom you paid the fee as set forth in paragraph\\r\\n1.E.8.\\r\\n\\r\\n1.B. \"Project Gutenberg\" is a registered trademark. It may only be\\r\\nused on or associated in any way with an electronic work by people who\\r\\nagree to be bound by the terms of this agreement. There are a few\\r\\nthings that you can do with most Project Gutenberg-tm electronic works\\r\\neven without complying with the full terms of this agreement. See\\r\\nparagraph 1.C below. There are a lot of things you can do with Project\\r\\nGutenberg-tm electronic works if you follow the terms of this\\r\\nagreement and help preserve free future access to Project Gutenberg-tm\\r\\nelectronic works. See paragraph 1.E below.\\r\\n\\r\\n1.C. The Project Gutenberg Literary Archive Foundation (\"the\\r\\nFoundation\" or PGLAF), owns a compilation copyright in the collection\\r\\nof Project Gutenberg-tm electronic works. Nearly all the individual\\r\\nworks in the collection are in the public domain in the United\\r\\nStates. If an individual work is unprotected by copyright law in the\\r\\nUnited States and you are located in the United States, we do not\\r\\nclaim a right to prevent you from copying, distributing, performing,\\r\\ndisplaying or creating derivative works based on the work as long as\\r\\nall references to Project Gutenberg are removed. Of course, we hope\\r\\nthat you will support the Project Gutenberg-tm mission of promoting\\r\\nfree access to electronic works by freely sharing Project Gutenberg-tm\\r\\nworks in compliance with the terms of this agreement for keeping the\\r\\nProject Gutenberg-tm name associated with the work. You can easily\\r\\ncomply with the terms of this agreement by keeping this work in the\\r\\nsame format with its attached full Project Gutenberg-tm License when\\r\\nyou share it without charge with others.\\r\\n\\r\\n1.D. The copyright laws of the place where you are located also govern\\r\\nwhat you can do with this work. Copyright laws in most countries are\\r\\nin a constant state of change. If you are outside the United States,\\r\\ncheck the laws of your country in addition to the terms of this\\r\\nagreement before downloading, copying, displaying, performing,\\r\\ndistributing or creating derivative works based on this work or any\\r\\nother Project Gutenberg-tm work. The Foundation makes no\\r\\nrepresentations concerning the copyright status of any work in any\\r\\ncountry other than the United States.\\r\\n\\r\\n1.E. Unless you have removed all references to Project Gutenberg:\\r\\n\\r\\n1.E.1. The following sentence, with active links to, or other\\r\\nimmediate access to, the full Project Gutenberg-tm License must appear\\r\\nprominently whenever any copy of a Project Gutenberg-tm work (any work\\r\\non which the phrase \"Project Gutenberg\" appears, or with which the\\r\\nphrase \"Project Gutenberg\" is associated) is accessed, displayed,\\r\\nperformed, viewed, copied or distributed:\\r\\n\\r\\n  This eBook is for the use of anyone anywhere in the United States and\\r\\n  most other parts of the world at no cost and with almost no\\r\\n  restrictions whatsoever. You may copy it, give it away or re-use it\\r\\n  under the terms of the Project Gutenberg License included with this\\r\\n  eBook or online at www.gutenberg.org. If you are not located in the\\r\\n  United States, you will have to check the laws of the country where\\r\\n  you are located before using this eBook.\\r\\n\\r\\n1.E.2. If an individual Project Gutenberg-tm electronic work is\\r\\nderived from texts not protected by U.S. copyright law (does not\\r\\ncontain a notice indicating that it is posted with permission of the\\r\\ncopyright holder), the work can be copied and distributed to anyone in\\r\\nthe United States without paying any fees or charges. If you are\\r\\nredistributing or providing access to a work with the phrase \"Project\\r\\nGutenberg\" associated with or appearing on the work, you must comply\\r\\neither with the requirements of paragraphs 1.E.1 through 1.E.7 or\\r\\nobtain permission for the use of the work and the Project Gutenberg-tm\\r\\ntrademark as set forth in paragraphs 1.E.8 or 1.E.9.\\r\\n\\r\\n1.E.3. If an individual Project Gutenberg-tm electronic work is posted\\r\\nwith the permission of the copyright holder, your use and distribution\\r\\nmust comply with both paragraphs 1.E.1 through 1.E.7 and any\\r\\nadditional terms imposed by the copyright holder. Additional terms\\r\\nwill be linked to the Project Gutenberg-tm License for all works\\r\\nposted with the permission of the copyright holder found at the\\r\\nbeginning of this work.\\r\\n\\r\\n1.E.4. Do not unlink or detach or remove the full Project Gutenberg-tm\\r\\nLicense terms from this work, or any files containing a part of this\\r\\nwork or any other work associated with Project Gutenberg-tm.\\r\\n\\r\\n1.E.5. Do not copy, display, perform, distribute or redistribute this\\r\\nelectronic work, or any part of this electronic work, without\\r\\nprominently displaying the sentence set forth in paragraph 1.E.1 with\\r\\nactive links or immediate access to the full terms of the Project\\r\\nGutenberg-tm License.\\r\\n\\r\\n1.E.6. You may convert to and distribute this work in any binary,\\r\\ncompressed, marked up, nonproprietary or proprietary form, including\\r\\nany word processing or hypertext form. However, if you provide access\\r\\nto or distribute copies of a Project Gutenberg-tm work in a format\\r\\nother than \"Plain Vanilla ASCII\" or other format used in the official\\r\\nversion posted on the official Project Gutenberg-tm website\\r\\n(www.gutenberg.org), you must, at no additional cost, fee or expense\\r\\nto the user, provide a copy, a means of exporting a copy, or a means\\r\\nof obtaining a copy upon request, of the work in its original \"Plain\\r\\nVanilla ASCII\" or other form. Any alternate format must include the\\r\\nfull Project Gutenberg-tm License as specified in paragraph 1.E.1.\\r\\n\\r\\n1.E.7. Do not charge a fee for access to, viewing, displaying,\\r\\nperforming, copying or distributing any Project Gutenberg-tm works\\r\\nunless you comply with paragraph 1.E.8 or 1.E.9.\\r\\n\\r\\n1.E.8. You may charge a reasonable fee for copies of or providing\\r\\naccess to or distributing Project Gutenberg-tm electronic works\\r\\nprovided that:\\r\\n\\r\\n* You pay a royalty fee of 20% of the gross profits you derive from\\r\\n  the use of Project Gutenberg-tm works calculated using the method\\r\\n  you already use to calculate your applicable taxes. The fee is owed\\r\\n  to the owner of the Project Gutenberg-tm trademark, but he has\\r\\n  agreed to donate royalties under this paragraph to the Project\\r\\n  Gutenberg Literary Archive Foundation. Royalty payments must be paid\\r\\n  within 60 days following each date on which you prepare (or are\\r\\n  legally required to prepare) your periodic tax returns. Royalty\\r\\n  payments should be clearly marked as such and sent to the Project\\r\\n  Gutenberg Literary Archive Foundation at the address specified in\\r\\n  Section 4, \"Information about donations to the Project Gutenberg\\r\\n  Literary Archive Foundation.\"\\r\\n\\r\\n* You provide a full refund of any money paid by a user who notifies\\r\\n  you in writing (or by e-mail) within 30 days of receipt that s/he\\r\\n  does not agree to the terms of the full Project Gutenberg-tm\\r\\n  License. You must require such a user to return or destroy all\\r\\n  copies of the works possessed in a physical medium and discontinue\\r\\n  all use of and all access to other copies of Project Gutenberg-tm\\r\\n  works.\\r\\n\\r\\n* You provide, in accordance with paragraph 1.F.3, a full refund of\\r\\n  any money paid for a work or a replacement copy, if a defect in the\\r\\n  electronic work is discovered and reported to you within 90 days of\\r\\n  receipt of the work.\\r\\n\\r\\n* You comply with all other terms of this agreement for free\\r\\n  distribution of Project Gutenberg-tm works.\\r\\n\\r\\n1.E.9. If you wish to charge a fee or distribute a Project\\r\\nGutenberg-tm electronic work or group of works on different terms than\\r\\nare set forth in this agreement, you must obtain permission in writing\\r\\nfrom the Project Gutenberg Literary Archive Foundation, the manager of\\r\\nthe Project Gutenberg-tm trademark. Contact the Foundation as set\\r\\nforth in Section 3 below.\\r\\n\\r\\n1.F.\\r\\n\\r\\n1.F.1. Project Gutenberg volunteers and employees expend considerable\\r\\neffort to identify, do copyright research on, transcribe and proofread\\r\\nworks not protected by U.S. copyright law in creating the Project\\r\\nGutenberg-tm collection. Despite these efforts, Project Gutenberg-tm\\r\\nelectronic works, and the medium on which they may be stored, may\\r\\ncontain \"Defects,\" such as, but not limited to, incomplete, inaccurate\\r\\nor corrupt data, transcription errors, a copyright or other\\r\\nintellectual property infringement, a defective or damaged disk or\\r\\nother medium, a computer virus, or computer codes that damage or\\r\\ncannot be read by your equipment.\\r\\n\\r\\n1.F.2. LIMITED WARRANTY, DISCLAIMER OF DAMAGES - Except for the \"Right\\r\\nof Replacement or Refund\" described in paragraph 1.F.3, the Project\\r\\nGutenberg Literary Archive Foundation, the owner of the Project\\r\\nGutenberg-tm trademark, and any other party distributing a Project\\r\\nGutenberg-tm electronic work under this agreement, disclaim all\\r\\nliability to you for damages, costs and expenses, including legal\\r\\nfees. YOU AGREE THAT YOU HAVE NO REMEDIES FOR NEGLIGENCE, STRICT\\r\\nLIABILITY, BREACH OF WARRANTY OR BREACH OF CONTRACT EXCEPT THOSE\\r\\nPROVIDED IN PARAGRAPH 1.F.3. YOU AGREE THAT THE FOUNDATION, THE\\r\\nTRADEMARK OWNER, AND ANY DISTRIBUTOR UNDER THIS AGREEMENT WILL NOT BE\\r\\nLIABLE TO YOU FOR ACTUAL, DIRECT, INDIRECT, CONSEQUENTIAL, PUNITIVE OR\\r\\nINCIDENTAL DAMAGES EVEN IF YOU GIVE NOTICE OF THE POSSIBILITY OF SUCH\\r\\nDAMAGE.\\r\\n\\r\\n1.F.3. LIMITED RIGHT OF REPLACEMENT OR REFUND - If you discover a\\r\\ndefect in this electronic work within 90 days of receiving it, you can\\r\\nreceive a refund of the money (if any) you paid for it by sending a\\r\\nwritten explanation to the person you received the work from. If you\\r\\nreceived the work on a physical medium, you must return the medium\\r\\nwith your written explanation. The person or entity that provided you\\r\\nwith the defective work may elect to provide a replacement copy in\\r\\nlieu of a refund. If you received the work electronically, the person\\r\\nor entity providing it to you may choose to give you a second\\r\\nopportunity to receive the work electronically in lieu of a refund. If\\r\\nthe second copy is also defective, you may demand a refund in writing\\r\\nwithout further opportunities to fix the problem.\\r\\n\\r\\n1.F.4. Except for the limited right of replacement or refund set forth\\r\\nin paragraph 1.F.3, this work is provided to you \\'AS-IS\\', WITH NO\\r\\nOTHER WARRANTIES OF ANY KIND, EXPRESS OR IMPLIED, INCLUDING BUT NOT\\r\\nLIMITED TO WARRANTIES OF MERCHANTABILITY OR FITNESS FOR ANY PURPOSE.\\r\\n\\r\\n1.F.5. Some states do not allow disclaimers of certain implied\\r\\nwarranties or the exclusion or limitation of certain types of\\r\\ndamages. If any disclaimer or limitation set forth in this agreement\\r\\nviolates the law of the state applicable to this agreement, the\\r\\nagreement shall be interpreted to make the maximum disclaimer or\\r\\nlimitation permitted by the applicable state law. The invalidity or\\r\\nunenforceability of any provision of this agreement shall not void the\\r\\nremaining provisions.\\r\\n\\r\\n1.F.6. INDEMNITY - You agree to indemnify and hold the Foundation, the\\r\\ntrademark owner, any agent or employee of the Foundation, anyone\\r\\nproviding copies of Project Gutenberg-tm electronic works in\\r\\naccordance with this agreement, and any volunteers associated with the\\r\\nproduction, promotion and distribution of Project Gutenberg-tm\\r\\nelectronic works, harmless from all liability, costs and expenses,\\r\\nincluding legal fees, that arise directly or indirectly from any of\\r\\nthe following which you do or cause to occur: (a) distribution of this\\r\\nor any Project Gutenberg-tm work, (b) alteration, modification, or\\r\\nadditions or deletions to any Project Gutenberg-tm work, and (c) any\\r\\nDefect you cause.\\r\\n\\r\\nSection 2. Information about the Mission of Project Gutenberg-tm\\r\\n\\r\\nProject Gutenberg-tm is synonymous with the free distribution of\\r\\nelectronic works in formats readable by the widest variety of\\r\\ncomputers including obsolete, old, middle-aged and new computers. It\\r\\nexists because of the efforts of hundreds of volunteers and donations\\r\\nfrom people in all walks of life.\\r\\n\\r\\nVolunteers and financial support to provide volunteers with the\\r\\nassistance they need are critical to reaching Project Gutenberg-tm\\'s\\r\\ngoals and ensuring that the Project Gutenberg-tm collection will\\r\\nremain freely available for generations to come. In 2001, the Project\\r\\nGutenberg Literary Archive Foundation was created to provide a secure\\r\\nand permanent future for Project Gutenberg-tm and future\\r\\ngenerations. To learn more about the Project Gutenberg Literary\\r\\nArchive Foundation and how your efforts and donations can help, see\\r\\nSections 3 and 4 and the Foundation information page at\\r\\nwww.gutenberg.org\\r\\n\\r\\nSection 3. Information about the Project Gutenberg Literary\\r\\nArchive Foundation\\r\\n\\r\\nThe Project Gutenberg Literary Archive Foundation is a non-profit\\r\\n501(c)(3) educational corporation organized under the laws of the\\r\\nstate of Mississippi and granted tax exempt status by the Internal\\r\\nRevenue Service. The Foundation\\'s EIN or federal tax identification\\r\\nnumber is 64-6221541. Contributions to the Project Gutenberg Literary\\r\\nArchive Foundation are tax deductible to the full extent permitted by\\r\\nU.S. federal laws and your state\\'s laws.\\r\\n\\r\\nThe Foundation\\'s business office is located at 809 North 1500 West,\\r\\nSalt Lake City, UT 84116, (801) 596-1887. Email contact links and up\\r\\nto date contact information can be found at the Foundation\\'s website\\r\\nand official page at www.gutenberg.org/contact\\r\\n\\r\\nSection 4. Information about Donations to the Project Gutenberg\\r\\nLiterary Archive Foundation\\r\\n\\r\\nProject Gutenberg-tm depends upon and cannot survive without\\r\\nwidespread public support and donations to carry out its mission of\\r\\nincreasing the number of public domain and licensed works that can be\\r\\nfreely distributed in machine-readable form accessible by the widest\\r\\narray of equipment including outdated equipment. Many small donations\\r\\n($1 to $5,000) are particularly important to maintaining tax exempt\\r\\nstatus with the IRS.\\r\\n\\r\\nThe Foundation is committed to complying with the laws regulating\\r\\ncharities and charitable donations in all 50 states of the United\\r\\nStates. Compliance requirements are not uniform and it takes a\\r\\nconsiderable effort, much paperwork and many fees to meet and keep up\\r\\nwith these requirements. We do not solicit donations in locations\\r\\nwhere we have not received written confirmation of compliance. To SEND\\r\\nDONATIONS or determine the status of compliance for any particular\\r\\nstate visit www.gutenberg.org/donate\\r\\n\\r\\nWhile we cannot and do not solicit contributions from states where we\\r\\nhave not met the solicitation requirements, we know of no prohibition\\r\\nagainst accepting unsolicited donations from donors in such states who\\r\\napproach us with offers to donate.\\r\\n\\r\\nInternational donations are gratefully accepted, but we cannot make\\r\\nany statements concerning tax treatment of donations received from\\r\\noutside the United States. U.S. laws alone swamp our small staff.\\r\\n\\r\\nPlease check the Project Gutenberg web pages for current donation\\r\\nmethods and addresses. Donations are accepted in a number of other\\r\\nways including checks, online payments and credit card donations. To\\r\\ndonate, please visit: www.gutenberg.org/donate\\r\\n\\r\\nSection 5. General Information About Project Gutenberg-tm electronic works\\r\\n\\r\\nProfessor Michael S. Hart was the originator of the Project\\r\\nGutenberg-tm concept of a library of electronic works that could be\\r\\nfreely shared with anyone. For forty years, he produced and\\r\\ndistributed Project Gutenberg-tm eBooks with only a loose network of\\r\\nvolunteer support.\\r\\n\\r\\nProject Gutenberg-tm eBooks are often created from several printed\\r\\neditions, all of which are confirmed as not protected by copyright in\\r\\nthe U.S. unless a copyright notice is included. Thus, we do not\\r\\nnecessarily keep eBooks in compliance with any particular paper\\r\\nedition.\\r\\n\\r\\nMost people start at our website which has the main PG search\\r\\nfacility: www.gutenberg.org\\r\\n\\r\\nThis website includes information about Project Gutenberg-tm,\\r\\nincluding how to make donations to the Project Gutenberg Literary\\r\\nArchive Foundation, how to help produce our new eBooks, and how to\\r\\nsubscribe to our email newsletter to hear about new eBooks.\\r\\n\\r\\n\\r\\n'"
            ],
            "application/vnd.google.colaboratory.intrinsic+json": {
              "type": "string"
            }
          },
          "metadata": {},
          "execution_count": 231
        }
      ]
    },
    {
      "cell_type": "markdown",
      "source": [
        "## **2.2 Conditional Frequency Distributions**"
      ],
      "metadata": {
        "id": "PNpQFxnm0QVh"
      }
    }
  ]
}